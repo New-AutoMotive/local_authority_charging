{
 "cells": [
  {
   "cell_type": "code",
   "execution_count": 4,
   "metadata": {},
   "outputs": [],
   "source": [
    "import requests\n",
    "import json\n",
    "import pprint\n",
    "import os\n",
    "import csv\n",
    "import folium\n",
    "import pandas as pd\n",
    "from tqdm import tqdm"
   ]
  },
  {
   "cell_type": "code",
   "execution_count": 210,
   "metadata": {},
   "outputs": [],
   "source": [
    "#create csv to receive the data\n",
    "with open(os.path.join('Data', 'chargepoints.csv'), 'w', newline='') as f:\n",
    "    fieldnames = ['id', 'name', 'latitude', 'longitude', 'postcode', 'street', 'thoroughfare', 'town', 'network', 'device_count', 'num_rapid', 'num_fast', 'num_slow']\n",
    "    thewriter = csv.DictWriter(f, fieldnames = fieldnames)\n",
    "    thewriter.writeheader()"
   ]
  },
  {
   "cell_type": "code",
   "execution_count": null,
   "metadata": {
    "code_folding": []
   },
   "outputs": [
    {
     "name": "stderr",
     "output_type": "stream",
     "text": [
<<<<<<< Updated upstream
      " 98%|████████████████████████████████████████████████████████████████████████▋ | 39264/40000 [2:20:45<01:43,  7.11it/s]"
=======
      " 96%|███████████████████████████████████████████████████████████████████████▏  | 38496/40000 [2:18:45<03:36,  6.96it/s]"
>>>>>>> Stashed changes
     ]
    }
   ],
   "source": [
    "headers = {'Host': 'api.zap-map.com', 'Connection': 'keep-alive', 'Pragma': 'no-cache', 'Cache-Control': 'no-cache', 'sec-ch-ua': '\"Google Chrome\";v=\"87\", \" Not;A Brand\";v=\"99\", \"Chromium\";v=\"87\"', 'sec-ch-ua-mobile': '?0', 'client-version': '4.9', 'User-Agent': 'Mozilla/5.0 (Windows NT 10.0; Win64; x64) AppleWebKit/537.36 (KHTML, like Gecko) Chrome/87.0.4280.141 Safari/537.36', 'X-Api-Key': 'e62aabddc630ffd527be290e775ccd6b', 'Accept': '*/*', 'Origin': 'https://map.zap-map.com', 'Sec-Fetch-Site': 'same-site', 'Sec-Fetch-Mode': 'cors', 'Sec-Fetch-Dest': 'empty', 'Referer': 'https://map.zap-map.com/', 'Accept-Encoding': 'gzip, deflate, br', 'Accept-Language': 'en-GB,en-US;q=0.9,en;q=0.8'}\n",
    "with open(os.path.join('Data', 'chargepoints.csv'), 'a', newline='') as f:\n",
    "    fieldnames = ['id', 'name', 'latitude', 'longitude', 'postcode', 'street', 'thoroughfare', 'town', 'network', 'device_count', 'num_rapid', 'num_fast', 'num_slow']\n",
    "    thewriter = csv.DictWriter(f, fieldnames = fieldnames)\n",
    "    for n in tqdm(range(60000, 100000)):\n",
    "        url = 'https://api.zap-map.com/v5/chargepoints/locations/placecards?id='+str(n) #add iterant 'n' to id\n",
    "        r = requests.get(url, headers = headers)\n",
    "        data = r.json()\n",
    "        #print('Only {} left to do...'.format(str(32000-n)))\n",
    "        try:\n",
    "            details = data['resources']['chargepoint_locations_placecards']['data'][0]\n",
    "            #pprint.pprint(details)\n",
    "            num_rapid = 0\n",
    "            num_fast = 0\n",
    "            num_slow = 0\n",
    "            try:\n",
    "                num_rapid += details['connector_speed_group_summary']['rapid']['count']\n",
    "            except:\n",
    "                pass\n",
    "            try:\n",
    "                num_fast += details['connector_speed_group_summary']['fast']['count']\n",
    "            except:\n",
    "                pass\n",
    "            try:\n",
    "                num_slow += details['connector_speed_group_summary']['slow']['count']\n",
    "            except:\n",
    "                pass\n",
    "\n",
    "                thewriter.writerow({'id': details['id'], 'name': details['name'], 'latitude': details['latitude'], 'longitude': details['longitude'], 'postcode': details['postcode'], 'street': details['address_info']['street'], 'thoroughfare': details['address_info']['thoroughfare'], 'town': details['address_info']['town'], 'network': details['primary_network']['name'], 'device_count': details['total_device_count'], 'num_rapid': num_rapid, 'num_fast': num_fast, 'num_slow': num_slow})\n",
    "            #print('Number {} was a success!'.format(str(n)))\n",
    "        except:\n",
    "            pass"
   ]
  },
  {
   "cell_type": "code",
   "execution_count": 5,
   "metadata": {},
   "outputs": [],
   "source": [
    "df = pd.read_csv(os.path.join('Data', 'chargepoints.csv'), encoding = 'cp1252')"
   ]
  },
  {
   "cell_type": "code",
   "execution_count": 6,
   "metadata": {},
   "outputs": [
    {
     "data": {
      "text/html": [
       "<div>\n",
       "<style scoped>\n",
       "    .dataframe tbody tr th:only-of-type {\n",
       "        vertical-align: middle;\n",
       "    }\n",
       "\n",
       "    .dataframe tbody tr th {\n",
       "        vertical-align: top;\n",
       "    }\n",
       "\n",
       "    .dataframe thead th {\n",
       "        text-align: right;\n",
       "    }\n",
       "</style>\n",
       "<table border=\"1\" class=\"dataframe\">\n",
       "  <thead>\n",
       "    <tr style=\"text-align: right;\">\n",
       "      <th></th>\n",
       "      <th>id</th>\n",
       "      <th>name</th>\n",
       "      <th>latitude</th>\n",
       "      <th>longitude</th>\n",
       "      <th>postcode</th>\n",
       "      <th>street</th>\n",
       "      <th>thoroughfare</th>\n",
       "      <th>town</th>\n",
       "      <th>network</th>\n",
       "      <th>device_count</th>\n",
       "      <th>num_rapid</th>\n",
       "      <th>num_fast</th>\n",
       "      <th>num_slow</th>\n",
       "    </tr>\n",
       "  </thead>\n",
       "  <tbody>\n",
       "    <tr>\n",
       "      <th>0</th>\n",
       "      <td>1</td>\n",
       "      <td>Salt Lane Car Park</td>\n",
       "      <td>52.406703</td>\n",
       "      <td>-1.510314</td>\n",
       "      <td>CV1 2GZ</td>\n",
       "      <td>NaN</td>\n",
       "      <td>Greyfriars Lane</td>\n",
       "      <td>Coventry</td>\n",
       "      <td>Other</td>\n",
       "      <td>8</td>\n",
       "      <td>0</td>\n",
       "      <td>8</td>\n",
       "      <td>0</td>\n",
       "    </tr>\n",
       "    <tr>\n",
       "      <th>1</th>\n",
       "      <td>3</td>\n",
       "      <td>Cox Street</td>\n",
       "      <td>52.412034</td>\n",
       "      <td>-1.503693</td>\n",
       "      <td>CV1 5GA</td>\n",
       "      <td>NaN</td>\n",
       "      <td>Cox Street</td>\n",
       "      <td>Coventry</td>\n",
       "      <td>ESB EV Solutions</td>\n",
       "      <td>2</td>\n",
       "      <td>0</td>\n",
       "      <td>0</td>\n",
       "      <td>0</td>\n",
       "    </tr>\n",
       "    <tr>\n",
       "      <th>2</th>\n",
       "      <td>4</td>\n",
       "      <td>Braehead Shopping Centre</td>\n",
       "      <td>55.874265</td>\n",
       "      <td>-4.363439</td>\n",
       "      <td>G51 4BN</td>\n",
       "      <td>NaN</td>\n",
       "      <td>Kings Inch Road</td>\n",
       "      <td>Glasgow</td>\n",
       "      <td>ChargePlace Scotland</td>\n",
       "      <td>9</td>\n",
       "      <td>0</td>\n",
       "      <td>16</td>\n",
       "      <td>0</td>\n",
       "    </tr>\n",
       "    <tr>\n",
       "      <th>3</th>\n",
       "      <td>6</td>\n",
       "      <td>Gateshead Civic Centre</td>\n",
       "      <td>54.958504</td>\n",
       "      <td>-1.602847</td>\n",
       "      <td>NE8 1HH</td>\n",
       "      <td>NaN</td>\n",
       "      <td>Regent Street</td>\n",
       "      <td>Gateshead</td>\n",
       "      <td>Charge Your Car</td>\n",
       "      <td>1</td>\n",
       "      <td>0</td>\n",
       "      <td>1</td>\n",
       "      <td>0</td>\n",
       "    </tr>\n",
       "    <tr>\n",
       "      <th>4</th>\n",
       "      <td>7</td>\n",
       "      <td>Little Park Street</td>\n",
       "      <td>52.406390</td>\n",
       "      <td>-1.508586</td>\n",
       "      <td>CV1 2RN</td>\n",
       "      <td>NaN</td>\n",
       "      <td>Little Park Street</td>\n",
       "      <td>Coventry</td>\n",
       "      <td>GeniePoint</td>\n",
       "      <td>1</td>\n",
       "      <td>0</td>\n",
       "      <td>2</td>\n",
       "      <td>0</td>\n",
       "    </tr>\n",
       "  </tbody>\n",
       "</table>\n",
       "</div>"
      ],
      "text/plain": [
       "   id                      name   latitude  longitude postcode street  \\\n",
       "0   1        Salt Lane Car Park  52.406703  -1.510314  CV1 2GZ    NaN   \n",
       "1   3                Cox Street  52.412034  -1.503693  CV1 5GA    NaN   \n",
       "2   4  Braehead Shopping Centre  55.874265  -4.363439  G51 4BN    NaN   \n",
       "3   6    Gateshead Civic Centre  54.958504  -1.602847  NE8 1HH    NaN   \n",
       "4   7        Little Park Street  52.406390  -1.508586  CV1 2RN    NaN   \n",
       "\n",
       "         thoroughfare       town               network  device_count  \\\n",
       "0     Greyfriars Lane   Coventry                 Other             8   \n",
       "1          Cox Street   Coventry      ESB EV Solutions             2   \n",
       "2     Kings Inch Road    Glasgow  ChargePlace Scotland             9   \n",
       "3       Regent Street  Gateshead       Charge Your Car             1   \n",
       "4  Little Park Street   Coventry            GeniePoint             1   \n",
       "\n",
       "   num_rapid  num_fast  num_slow  \n",
       "0          0         8         0  \n",
       "1          0         0         0  \n",
       "2          0        16         0  \n",
       "3          0         1         0  \n",
       "4          0         2         0  "
      ]
     },
     "execution_count": 6,
     "metadata": {},
     "output_type": "execute_result"
    }
   ],
   "source": [
    "df.head()"
   ]
  },
  {
   "cell_type": "code",
   "execution_count": 20,
   "metadata": {},
   "outputs": [],
   "source": [
    "m = folium.Map(location = [55, 0], zoom_start=5)\n"
   ]
  },
  {
   "cell_type": "code",
   "execution_count": 21,
   "metadata": {},
   "outputs": [],
   "source": [
    "for i in range(0, len(df)):\n",
    "    folium.Marker([df.iloc[i]['latitude'], df.iloc[i]['longitude']], popup=df.iloc[i]['name']).add_to(m)"
   ]
  },
  {
   "cell_type": "code",
   "execution_count": 23,
   "metadata": {},
   "outputs": [],
   "source": [
    "#m"
   ]
  },
  {
   "cell_type": "code",
   "execution_count": null,
   "metadata": {},
   "outputs": [],
   "source": []
  }
 ],
 "metadata": {
  "kernelspec": {
   "display_name": "Python 3",
   "language": "python",
   "name": "python3"
  },
  "language_info": {
   "codemirror_mode": {
    "name": "ipython",
    "version": 3
   },
   "file_extension": ".py",
   "mimetype": "text/x-python",
   "name": "python",
   "nbconvert_exporter": "python",
   "pygments_lexer": "ipython3",
   "version": "3.8.5"
  }
 },
 "nbformat": 4,
 "nbformat_minor": 4
}
