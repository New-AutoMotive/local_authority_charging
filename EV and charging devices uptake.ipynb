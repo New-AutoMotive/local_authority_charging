{
 "cells": [
  {
   "cell_type": "markdown",
   "metadata": {
    "id": "Sv8pL-bJN7_W"
   },
   "source": [
    "# Importing packages"
   ]
  },
  {
   "cell_type": "code",
   "execution_count": null,
   "metadata": {
    "executionInfo": {
     "elapsed": 448,
     "status": "ok",
     "timestamp": 1610099642690,
     "user": {
      "displayName": "Andrea Di Antonio",
      "photoUrl": "",
      "userId": "00274323577290199816"
     },
     "user_tz": 0
    },
    "id": "WdNJzi0iN7_X"
   },
   "outputs": [],
   "source": [
    "import os\n",
    "import io\n",
    "import json\n",
    "import folium\n",
    "import zipfile\n",
    "import shapely\n",
    "import openpyxl\n",
    "import requests\n",
    "import numpy as np \n",
    "import pandas as pd\n",
    "import seaborn as sns\n",
    "import geopandas as gpd\n",
    "from datetime import datetime\n",
    "import matplotlib.pyplot as plt\n",
    "from shapely.geometry import Point\n",
    "from pandas_ods_reader import read_ods\n",
    "from shapely.geometry.polygon import Polygon\n",
    "gpd.io.file.fiona.drvsupport.supported_drivers['KML'] = 'rw'"
   ]
  },
  {
   "cell_type": "markdown",
   "metadata": {},
   "source": [
    "# Define recursive functions"
   ]
  },
  {
   "cell_type": "code",
   "execution_count": null,
   "metadata": {},
   "outputs": [],
   "source": [
    "def download_from_url(file_url,filepath):\n",
    "    req = requests.get(file_url)\n",
    "    with open(filepath, 'wb') as file:\n",
    "        file.write(req.content)\n",
    "    \n",
    "    \n",
    "def download_zip_url(file_url,filedest):\n",
    "    req = requests.get(file_url)\n",
    "    zipped = zipfile.ZipFile(io.BytesIO(req.content))\n",
    "    zipped.extractall(filedest)\n",
    "    \n",
    "def private_or_public_charging(private_devices,electric_cars):\n",
    "     if private_devices >= electric_cars: \n",
    "        return 'Predomintantly private'\n",
    "     else: \n",
    "        return 'Predomintantly public'"
   ]
  },
  {
   "cell_type": "markdown",
   "metadata": {
    "id": "odf3Inp5N7_Y"
   },
   "source": [
    "# Import files"
   ]
  },
  {
   "cell_type": "code",
   "execution_count": null,
   "metadata": {},
   "outputs": [],
   "source": [
    "dirname = 'Data'"
   ]
  },
  {
   "cell_type": "code",
   "execution_count": null,
   "metadata": {},
   "outputs": [],
   "source": [
    "if os.path.basename(os.getcwd())== 'local_authority_charging':\n",
    "    if not os.path.isdir(dirname):\n",
    "        try:\n",
    "            os.mkdir(dirname)\n",
    "        except OSError:\n",
    "            print (\"Creation of the directory %s failed\" % dirname)\n",
    "        else:\n",
    "            print (\"Successfully created the directory %s \" % dirname)\n",
    "    else: \n",
    "        print (\"Directory %s already exists\" % dirname)"
   ]
  },
  {
   "cell_type": "markdown",
   "metadata": {},
   "source": [
    "## Downloading the required datasets for the analysis "
   ]
  },
  {
   "cell_type": "code",
   "execution_count": null,
   "metadata": {},
   "outputs": [],
   "source": [
    "filename = 'postcodes.csv'\n",
    "\n",
    "if os.path.isfile(dirname+'/'+filename):\n",
    "    print (\"File %s already exists\" % filename)\n",
    "else:\n",
    "    download_zip_url('https://www.doogal.co.uk/files/postcodes.zip',dirname)\n",
    "    print (\"Successfully downloaded the file %s \" % filename)"
   ]
  },
  {
   "cell_type": "code",
   "execution_count": null,
   "metadata": {},
   "outputs": [],
   "source": [
    "#Linking the required datasets with the URLs to download them from \n",
    "\n",
    "required_files = {'EIR_E0019012.xlsx':'https://storage.googleapis.com/na_evhs/EIR_E0019012.xlsx',\n",
    "                 'electric-vehicle-charging-device-statistics-october-2020.ods':'https://assets.publishing.service.gov.uk/government/uploads/system/uploads/attachment_data/file/933589/electric-vehicle-charging-device-statistics-october-2020.ods',\n",
    "                 'veh0132.ods':'https://assets.publishing.service.gov.uk/government/uploads/system/uploads/attachment_data/file/942248/veh0132.ods',\n",
    "                 'veh0134.ods':'https://assets.publishing.service.gov.uk/government/uploads/system/uploads/attachment_data/file/942250/veh0134.ods',\n",
    "                 'veh0122.ods':'https://assets.publishing.service.gov.uk/government/uploads/system/uploads/attachment_data/file/942242/veh0122.ods',\n",
    "                  'tra8901.ods':'https://assets.publishing.service.gov.uk/government/uploads/system/uploads/attachment_data/file/925275/tra8901.ods'\n",
    "                 }"
   ]
  },
  {
   "cell_type": "code",
   "execution_count": null,
   "metadata": {},
   "outputs": [],
   "source": [
    "# If not already present inside \"Data\" folder, download the required datasets and\n",
    "# check the last time the datasets where downloaded/modified\n",
    "\n",
    "for filename in required_files.keys():\n",
    "    \n",
    "    file_path = dirname+'/'+filename\n",
    "    \n",
    "    if os.path.isfile(file_path):\n",
    "        print (\"File %s already exists\" % filename)\n",
    "    else:\n",
    "        download_from_url(required_files[filename],file_path)\n",
    "        print (\"Successfully downloaded the file %s \" % filename)\n",
    "    \n",
    "    try:\n",
    "        mtime = os.path.getmtime(file_path)\n",
    "    except OSError:\n",
    "        mtime = 0\n",
    "    last_modified_date = datetime.fromtimestamp(mtime)\n",
    "    \n",
    "    print('    Last modified '+last_modified_date.strftime(\"%d/%m/%Y %H:%M:%S\"))"
   ]
  },
  {
   "cell_type": "code",
   "execution_count": null,
   "metadata": {
    "scrolled": true
   },
   "outputs": [],
   "source": [
    "#For file containing multiple sheets (e.g. Excel spreadsheet files) determine the number and the name of each sheet\n",
    "\n",
    "for filename in os.listdir(dirname):\n",
    "    \n",
    "    file_path = dirname+'/'+filename\n",
    "    \n",
    "    if filename.endswith('.ods') or filename.endswith('.xls'):\n",
    "        \n",
    "        file_preview = pd.ExcelFile(file_path, engine ='odf')\n",
    "        sheets_number = [sheet for sheet in file_preview.sheet_names if not sheet.startswith(\"'\")]\n",
    "        print('{} has {} sheet(s): {}'.format(filename,len(sheets_number),sheets_number))\n",
    "        \n",
    "    elif filename.endswith('.xlsx'):\n",
    "        \n",
    "        file_preview = openpyxl.load_workbook(file_path) \n",
    "        sheets_number = [sheet for sheet in file_preview.sheetnames if not sheet.startswith(\"'\")]\n",
    "        print('{} has {} sheet(s): {}'.format(filename,len(sheets_number),sheets_number))\n",
    "    \n",
    "    "
   ]
  },
  {
   "cell_type": "markdown",
   "metadata": {},
   "source": [
    "# Import Postcode data"
   ]
  },
  {
   "cell_type": "code",
   "execution_count": null,
   "metadata": {
    "colab": {
     "base_uri": "https://localhost:8080/"
    },
    "executionInfo": {
     "elapsed": 28872,
     "status": "ok",
     "timestamp": 1610099707476,
     "user": {
      "displayName": "Andrea Di Antonio",
      "photoUrl": "",
      "userId": "00274323577290199816"
     },
     "user_tz": 0
    },
    "id": "7RZFI-UuN7_Z",
    "outputId": "8feccc9f-c1f9-4a96-dbd4-b718520babe6"
   },
   "outputs": [],
   "source": [
    "#Import file containing the information about, among others, postcodes, local authority, constituency and population\n",
    "postcode = pd.read_csv(dirname+'/postcodes.csv') "
   ]
  },
  {
   "cell_type": "code",
   "execution_count": null,
   "metadata": {},
   "outputs": [],
   "source": [
    "postcode.columns"
   ]
  },
  {
   "cell_type": "code",
   "execution_count": null,
   "metadata": {
    "colab": {
     "base_uri": "https://localhost:8080/",
     "height": 581
    },
    "executionInfo": {
     "elapsed": 471,
     "status": "ok",
     "timestamp": 1610102577120,
     "user": {
      "displayName": "Andrea Di Antonio",
      "photoUrl": "",
      "userId": "00274323577290199816"
     },
     "user_tz": 0
    },
    "id": "-PErHhmEN7_Z",
    "outputId": "b6d79be3-48aa-40df-ee05-75cad63b5879"
   },
   "outputs": [],
   "source": [
    "postcode.head()"
   ]
  },
  {
   "cell_type": "code",
   "execution_count": null,
   "metadata": {
    "executionInfo": {
     "elapsed": 813,
     "status": "ok",
     "timestamp": 1610102581415,
     "user": {
      "displayName": "Andrea Di Antonio",
      "photoUrl": "",
      "userId": "00274323577290199816"
     },
     "user_tz": 0
    },
    "id": "AtFV3DfFN7_a"
   },
   "outputs": [],
   "source": [
    "#Removing unnecessary columns to reduce the size and, therefore, the computational power required to process the dataframe\n",
    "postcode = postcode.drop(['Grid Ref','County','Introduced', 'Terminated',\n",
    "       'Parish', 'National Park','Households', 'Built up area',\n",
    "       'Built up sub-division', 'Lower layer super output area', 'Rural/urban',\n",
    "       'Region', 'Altitude', 'London zone', 'LSOA Code', 'Local authority',\n",
    "       'MSOA Code', 'Middle layer super output area', 'Parish Code',\n",
    "       'Census output area', 'Index of Multiple Deprivation', 'Quality', 'User Type', 'Last updated',\n",
    "       'Nearest station', 'Distance to station', 'Police force', 'Water company', 'Plus Code',\n",
    "       'Average Income', 'Sewage Company', 'Travel To Work Area'], axis = 1)"
   ]
  },
  {
   "cell_type": "code",
   "execution_count": null,
   "metadata": {
    "executionInfo": {
     "elapsed": 1036,
     "status": "ok",
     "timestamp": 1610102582020,
     "user": {
      "displayName": "Andrea Di Antonio",
      "photoUrl": "",
      "userId": "00274323577290199816"
     },
     "user_tz": 0
    },
    "id": "YyI0RE5vN7_a"
   },
   "outputs": [],
   "source": [
    "#Selecting only the postcodes that are still in use\n",
    "postcode_sel = postcode.loc[postcode['In Use?']=='Yes']"
   ]
  },
  {
   "cell_type": "code",
   "execution_count": null,
   "metadata": {
    "colab": {
     "base_uri": "https://localhost:8080/",
     "height": 204
    },
    "executionInfo": {
     "elapsed": 543,
     "status": "ok",
     "timestamp": 1610102582022,
     "user": {
      "displayName": "Andrea Di Antonio",
      "photoUrl": "",
      "userId": "00274323577290199816"
     },
     "user_tz": 0
    },
    "id": "OJYOCagGN7_a",
    "outputId": "d62c57b1-ed36-4306-ec39-994d097e97da"
   },
   "outputs": [],
   "source": [
    "postcode_sel.head()"
   ]
  },
  {
   "cell_type": "code",
   "execution_count": null,
   "metadata": {
    "colab": {
     "base_uri": "https://localhost:8080/"
    },
    "executionInfo": {
     "elapsed": 895,
     "status": "ok",
     "timestamp": 1610102583354,
     "user": {
      "displayName": "Andrea Di Antonio",
      "photoUrl": "",
      "userId": "00274323577290199816"
     },
     "user_tz": 0
    },
    "id": "XyK7Q5V4N7_a",
    "outputId": "2703266b-d013-4464-8631-2c542332a531"
   },
   "outputs": [],
   "source": [
    "#Calculate the percentage of missing data in the dataframe\n",
    "\n",
    "print('Missing {per:.2f}% of Postcode data'.format(per = postcode_sel['Postcode'].isnull().values.sum()/len(postcode_sel)*100)) \n",
    "print('Missing {per:.2f}% of District data'.format(per =postcode_sel['District'].isnull().values.sum()/len(postcode_sel)*100))\n",
    "print('Missing {per:.2f}% of Constituency data'.format(per =postcode_sel['Constituency'].isnull().values.sum()/len(postcode_sel)*100))\n",
    "print('Missing {per:.2f}% of Population data'.format(per =postcode_sel['Population'].isnull().values.sum()/len(postcode_sel)*100))"
   ]
  },
  {
   "cell_type": "code",
   "execution_count": null,
   "metadata": {
    "colab": {
     "base_uri": "https://localhost:8080/"
    },
    "executionInfo": {
     "elapsed": 547,
     "status": "ok",
     "timestamp": 1610102593219,
     "user": {
      "displayName": "Andrea Di Antonio",
      "photoUrl": "",
      "userId": "00274323577290199816"
     },
     "user_tz": 0
    },
    "id": "WKDBTrVWN7_b",
    "outputId": "4f733c33-e239-4da2-da64-edacd793e268"
   },
   "outputs": [],
   "source": [
    "#Replace NaN values in the population column with zeros\n",
    "postcode_sel.loc[:,'Population'] = postcode_sel['Population'].fillna(0)"
   ]
  },
  {
   "cell_type": "code",
   "execution_count": null,
   "metadata": {
    "colab": {
     "base_uri": "https://localhost:8080/",
     "height": 204
    },
    "executionInfo": {
     "elapsed": 467,
     "status": "ok",
     "timestamp": 1610102594621,
     "user": {
      "displayName": "Andrea Di Antonio",
      "photoUrl": "",
      "userId": "00274323577290199816"
     },
     "user_tz": 0
    },
    "id": "m4dSXDwVN7_b",
    "outputId": "4ca941b0-fef5-4d28-981b-c8bc8dee3f65",
    "scrolled": false
   },
   "outputs": [],
   "source": [
    "postcode_sel.head()"
   ]
  },
  {
   "cell_type": "code",
   "execution_count": null,
   "metadata": {},
   "outputs": [],
   "source": [
    "postcode_district_list = postcode_sel['Postcode district'].unique().tolist()\n",
    "postcode_district_number = len(postcode_sel['Postcode district'].unique())\n",
    "postcode_area_list = postcode_sel['Postcode area'].unique().tolist()"
   ]
  },
  {
   "cell_type": "code",
   "execution_count": null,
   "metadata": {
    "colab": {
     "base_uri": "https://localhost:8080/"
    },
    "executionInfo": {
     "elapsed": 514,
     "status": "ok",
     "timestamp": 1610102608648,
     "user": {
      "displayName": "Andrea Di Antonio",
      "photoUrl": "",
      "userId": "00274323577290199816"
     },
     "user_tz": 0
    },
    "id": "el3bSx3dN7_b",
    "outputId": "15786537-7269-417e-e868-d561bf525cb1"
   },
   "outputs": [],
   "source": [
    "#Calculate what is the percentage difference between the total UK population calculated using the data\n",
    "#from the postcode_sel DataFrame and the actual value\n",
    "\n",
    "population_sum = postcode_sel['Population'].sum()\n",
    "uk_population = 66.65*10**6\n",
    "\n",
    "print( 'Percentage difference in population {per:.2f} %'.format( per = abs(population_sum-uk_population)/uk_population*100 ))"
   ]
  },
  {
   "cell_type": "markdown",
   "metadata": {
    "id": "FseEPPBzN7_b"
   },
   "source": [
    "The realatively small difference between the values allows to categorise the missing information about the population as negligile overall. This, however, can still have a significant impact locally.\\\n",
    " \\\n",
    "NOTE: The reason for this difference resides in the old nature of the postcode.csv file (released in 2019 and not uploaded ever since)"
   ]
  },
  {
   "cell_type": "markdown",
   "metadata": {},
   "source": [
    "# Download shapefiles for local authorities and postcode districts borders"
   ]
  },
  {
   "cell_type": "code",
   "execution_count": null,
   "metadata": {},
   "outputs": [],
   "source": [
    "unwanted_elements =['BF','GIR']\n",
    "postcode_area_list = [area for area in postcode_area_list if area not in unwanted_elements]"
   ]
  },
  {
   "cell_type": "code",
   "execution_count": null,
   "metadata": {},
   "outputs": [],
   "source": [
    "subdirpd = dirname+'/PD_borders'\n",
    "\n",
    "if os.path.basename(os.getcwd())== 'local_authority_charging':\n",
    "    if not os.path.isdir(subdirpd):\n",
    "        try:\n",
    "            os.mkdir(subdirpd)\n",
    "        except OSError:\n",
    "            print (\"Creation of the directory %s failed\" % subdirpd)\n",
    "        else:\n",
    "            print (\"Successfully created the directory %s \" % subdirpd)\n",
    "    else: \n",
    "        print (\"Directory %s already exists\" % subdirpd)"
   ]
  },
  {
   "cell_type": "code",
   "execution_count": null,
   "metadata": {},
   "outputs": [],
   "source": [
    "for item in postcode_area_list:\n",
    "\n",
    "    filename = item+'.kml'\n",
    "    file_path = subdirpd+'/'+filename\n",
    "    \n",
    "    if os.path.isfile(file_path):\n",
    "        print (\"File %s already exists\" % filename)\n",
    "    else:\n",
    "        download_from_url('https://www.doogal.co.uk/kml/'+filename,file_path)\n",
    "        print (\"Successfully downloaded the file %s \" % filename)"
   ]
  },
  {
   "cell_type": "code",
   "execution_count": null,
   "metadata": {},
   "outputs": [],
   "source": [
    "subdirla = dirname+'/LA_borders'\n",
    "\n",
    "if os.path.basename(os.getcwd())== 'local_authority_charging':\n",
    "    if not os.path.isdir(subdirla):\n",
    "        try:\n",
    "            os.mkdir(subdirla)\n",
    "        except OSError:\n",
    "            print (\"Creation of the directory %s failed\" % subdirla)\n",
    "        else:\n",
    "            print (\"Successfully created the directory %s \" % subdirla)\n",
    "    else: \n",
    "        print (\"Directory %s already exists\" % subdirla)"
   ]
  },
  {
   "cell_type": "code",
   "execution_count": null,
   "metadata": {},
   "outputs": [],
   "source": [
    "filename = 'Local_Authority_Districts__May_2020__Boundaries_UK_BGC.geojson'\n",
    "file_path = subdirla+'/'+filename\n",
    "    \n",
    "if os.path.isfile(file_path):\n",
    "    print (\"File %s already exists\" % filename)\n",
    "else:\n",
    "    download_from_url('https://opendata.arcgis.com/datasets/3b374840ce1b4160b85b8146b610cd0c_0.geojson',file_path)\n",
    "    print (\"Successfully downloaded the file %s \" % filename)"
   ]
  },
  {
   "cell_type": "markdown",
   "metadata": {},
   "source": [
    "# Create dictionaries to link local authorities names to ONS code and postcode district"
   ]
  },
  {
   "cell_type": "code",
   "execution_count": null,
   "metadata": {
    "executionInfo": {
     "elapsed": 743,
     "status": "ok",
     "timestamp": 1610102610794,
     "user": {
      "displayName": "Andrea Di Antonio",
      "photoUrl": "",
      "userId": "00274323577290199816"
     },
     "user_tz": 0
    },
    "id": "gkxNJMi0N7_c"
   },
   "outputs": [],
   "source": [
    "#Create a list containing the name of the Local Authority associated with the postcodes. \n",
    "#These should correspond to the local authority names in the 'electric-vehicle-charging-device-statistics-october-2020' file. \n",
    "\n",
    "district = postcode_sel['District'].unique().tolist()\n",
    "\n",
    "#Remove any non string value from the district list\n",
    "for item in district: \n",
    "    if not isinstance(item,str):\n",
    "        district.remove(item)"
   ]
  },
  {
   "cell_type": "code",
   "execution_count": null,
   "metadata": {},
   "outputs": [],
   "source": [
    "#Create a list containing the code associated with each Local Authority. \n",
    "#These should correspond to the ones in the 'electric-vehicle-charging-device-statistics-october-2020' file. \n",
    "\n",
    "district_code = postcode_sel['District Code'].unique().tolist()\n",
    "\n",
    "#Remove any non string value from the district list\n",
    "for item in district_code: \n",
    "    if not isinstance(item,str):\n",
    "        district_code.remove(item)"
   ]
  },
  {
   "cell_type": "code",
   "execution_count": null,
   "metadata": {},
   "outputs": [],
   "source": [
    "#Create a dictionary to associate each local authority with the corresponding ONS code area\n",
    "dic_la = {item:code for item,code in zip(district,district_code)}"
   ]
  },
  {
   "cell_type": "code",
   "execution_count": null,
   "metadata": {},
   "outputs": [],
   "source": [
    "#Create a dictionary to associate each ONS code area with the corresponding local authority name\n",
    "dic_code = {code:item for code,item in zip(district_code,district)}"
   ]
  },
  {
   "cell_type": "code",
   "execution_count": null,
   "metadata": {
    "executionInfo": {
     "elapsed": 162370,
     "status": "ok",
     "timestamp": 1610102775936,
     "user": {
      "displayName": "Andrea Di Antonio",
      "photoUrl": "",
      "userId": "00274323577290199816"
     },
     "user_tz": 0
    },
    "id": "hj0rPynbN7_d"
   },
   "outputs": [],
   "source": [
    "#Create a dictionary to associate each local authority with the postcode districts witihin its boundaries \n",
    "\n",
    "dic_district = {item:'' for item in district}\n",
    "for item in district: \n",
    "    list_val = postcode_sel.loc[postcode_sel['District']==item]['Postcode'].values\n",
    "    list_val_sel=[]\n",
    "    for val in list_val:\n",
    "        lval = val.split(' ')[0]\n",
    "        if lval not in list_val_sel:\n",
    "            list_val_sel.append(lval)\n",
    "    dic_district[item] = list_val_sel"
   ]
  },
  {
   "cell_type": "markdown",
   "metadata": {
    "id": "zgNgm9aFN7_d"
   },
   "source": [
    "# Import public charging devices data"
   ]
  },
  {
   "cell_type": "markdown",
   "metadata": {},
   "source": [
    "## Charging devices per local authority"
   ]
  },
  {
   "cell_type": "code",
   "execution_count": null,
   "metadata": {},
   "outputs": [],
   "source": [
    "dft_charging_devices_available_import = read_ods(dirname+'/electric-vehicle-charging-device-statistics-october-2020.ods', 'EVCD_01', headers=False)\n",
    "dft_charging_devices_available_import = dft_charging_devices_available_import[dft_charging_devices_available_import.iloc[:,1].notnull()]\n",
    "\n",
    "dft_charging_devices_available = dft_charging_devices_available_import.iloc[1:]\n",
    "dft_charging_devices_available.reset_index(inplace=True, drop=True) #reset the index\n",
    "dft_charging_devices_available.columns = dft_charging_devices_available_import.iloc[0]"
   ]
  },
  {
   "cell_type": "code",
   "execution_count": null,
   "metadata": {},
   "outputs": [],
   "source": [
    "dft_charging_devices_available.head()"
   ]
  },
  {
   "cell_type": "code",
   "execution_count": null,
   "metadata": {
    "colab": {
     "base_uri": "https://localhost:8080/"
    },
    "executionInfo": {
     "elapsed": 253030,
     "status": "ok",
     "timestamp": 1610102874809,
     "user": {
      "displayName": "Andrea Di Antonio",
      "photoUrl": "",
      "userId": "00274323577290199816"
     },
     "user_tz": 0
    },
    "id": "WxBiLuTwN7_f",
    "outputId": "b54cdc0c-81d6-4d1a-987d-1c6b9d3e1ab2"
   },
   "outputs": [],
   "source": [
    "print('Missing {per:.2f}% of entire data'.format(per = dft_charging_devices_available.isnull().values.sum()/len(dft_charging_devices_available)*100)) "
   ]
  },
  {
   "cell_type": "code",
   "execution_count": null,
   "metadata": {
    "executionInfo": {
     "elapsed": 252389,
     "status": "ok",
     "timestamp": 1610102874810,
     "user": {
      "displayName": "Andrea Di Antonio",
      "photoUrl": "",
      "userId": "00274323577290199816"
     },
     "user_tz": 0
    },
    "id": "F4KfhcNEN7_f",
    "scrolled": true
   },
   "outputs": [],
   "source": [
    "dft_charging_devices_available = dft_charging_devices_available.dropna() #Removing rows containing NaN values "
   ]
  },
  {
   "cell_type": "code",
   "execution_count": null,
   "metadata": {},
   "outputs": [],
   "source": [
    "len(dft_charging_devices_available)"
   ]
  },
  {
   "cell_type": "code",
   "execution_count": null,
   "metadata": {},
   "outputs": [],
   "source": [
    "#data_try = dft_charging_devices_available[dft_charging_devices_available['LA / Region Code'].isin(district_code)]"
   ]
  },
  {
   "cell_type": "markdown",
   "metadata": {},
   "source": [
    "## Total charging devices per quarter since Q1 2015"
   ]
  },
  {
   "cell_type": "code",
   "execution_count": null,
   "metadata": {},
   "outputs": [],
   "source": [
    "dft_charging_devices_quarter_import = read_ods(dirname+'/electric-vehicle-charging-device-statistics-october-2020.ods', 'EVCD_02', headers=False) \n",
    "dft_charging_devices_quarter_import = dft_charging_devices_quarter_import[dft_charging_devices_quarter_import.iloc[:,1].notnull()]\n",
    "\n",
    "dft_charging_devices_quarter = dft_charging_devices_quarter_import.iloc[1:]\n",
    "dft_charging_devices_quarter.reset_index(inplace=True, drop=True) #reset the index\n",
    "dft_charging_devices_quarter.columns = dft_charging_devices_quarter_import.iloc[0]\n",
    "dft_charging_devices_quarter = dft_charging_devices_quarter.fillna(method='ffill')\n",
    "dft_charging_devices_quarter = dft_charging_devices_quarter.dropna(axis =1)\n",
    "dft_charging_devices_quarter.head()"
   ]
  },
  {
   "cell_type": "code",
   "execution_count": null,
   "metadata": {
    "colab": {
     "base_uri": "https://localhost:8080/",
     "height": 204
    },
    "executionInfo": {
     "elapsed": 131796,
     "status": "ok",
     "timestamp": 1610102875021,
     "user": {
      "displayName": "Andrea Di Antonio",
      "photoUrl": "",
      "userId": "00274323577290199816"
     },
     "user_tz": 0
    },
    "id": "RI767sYGG_Qi",
    "outputId": "413d79c5-f57c-4361-ac3c-b74808aeac35"
   },
   "outputs": [],
   "source": [
    "dft_charging_devices_quarter.tail()"
   ]
  },
  {
   "cell_type": "code",
   "execution_count": null,
   "metadata": {
    "executionInfo": {
     "elapsed": 127465,
     "status": "ok",
     "timestamp": 1610102875023,
     "user": {
      "displayName": "Andrea Di Antonio",
      "photoUrl": "",
      "userId": "00274323577290199816"
     },
     "user_tz": 0
    },
    "id": "IqiRVcffmy8N"
   },
   "outputs": [],
   "source": [
    "df_charges_quarter = pd.DataFrame(dft_charging_devices_quarter['Total  Devices'])\n",
    "df_charges_quarter['Time'] = [str(j)+' Q'+str(i)  for j in range(2015,2021) for i in range(1,5)][:-1]\n",
    "df_charges_quarter =  df_charges_quarter.set_index('Time')"
   ]
  },
  {
   "cell_type": "code",
   "execution_count": null,
   "metadata": {
    "colab": {
     "base_uri": "https://localhost:8080/",
     "height": 298
    },
    "executionInfo": {
     "elapsed": 127353,
     "status": "ok",
     "timestamp": 1610102875316,
     "user": {
      "displayName": "Andrea Di Antonio",
      "photoUrl": "",
      "userId": "00274323577290199816"
     },
     "user_tz": 0
    },
    "id": "ij4vZiJFV4eq",
    "outputId": "105f02cd-ac77-4445-d47b-720e2e8b6491"
   },
   "outputs": [],
   "source": [
    "## Plot the trend of the publicly available charging devices in the UK between Q1 2015 and Q3 2020 ##\n",
    "\n",
    "plt.bar(df_charges_quarter.index,df_charges_quarter['Total  Devices'],.8)\n",
    "plt.xticks(rotation = 90)\n",
    "plt.ylabel('Number of Public Charge points')\n",
    "plt.show()"
   ]
  },
  {
   "cell_type": "markdown",
   "metadata": {
    "id": "a42uh-fUN7_g"
   },
   "source": [
    "# Import ULEVs data by postcode district"
   ]
  },
  {
   "cell_type": "code",
   "execution_count": null,
   "metadata": {
    "executionInfo": {
     "elapsed": 3390,
     "status": "ok",
     "timestamp": 1610107934869,
     "user": {
      "displayName": "Andrea Di Antonio",
      "photoUrl": "",
      "userId": "00274323577290199816"
     },
     "user_tz": 0
    },
    "id": "yFnV4JG1N7_g"
   },
   "outputs": [],
   "source": [
    "#Import Ultra Low Emission Vehicles (ULEVs) table\n",
    "dft_ulev_import = read_ods(dirname+'/veh0134.ods', 'VEH0134a')\n",
    "dft_ulev = dft_ulev_import[6:-14]\n",
    "dft_ulev.columns = dft_ulev_import.iloc[5].values\n",
    "dft_ulev.reset_index(inplace=True, drop=True)"
   ]
  },
  {
   "cell_type": "code",
   "execution_count": null,
   "metadata": {
    "colab": {
     "base_uri": "https://localhost:8080/"
    },
    "executionInfo": {
     "elapsed": 520,
     "status": "ok",
     "timestamp": 1610107938074,
     "user": {
      "displayName": "Andrea Di Antonio",
      "photoUrl": "",
      "userId": "00274323577290199816"
     },
     "user_tz": 0
    },
    "id": "nFw-0pkSN7_g",
    "outputId": "38263506-e84e-4d49-a301-94ee7a866043",
    "scrolled": true
   },
   "outputs": [],
   "source": [
    "print('Missing {per:.2f}% of entire data'.format(per = len(dft_ulev[dft_ulev['2020 Q3']=='c'])/len(dft_ulev)*100) )"
   ]
  },
  {
   "cell_type": "code",
   "execution_count": null,
   "metadata": {
    "executionInfo": {
     "elapsed": 652,
     "status": "ok",
     "timestamp": 1610107940043,
     "user": {
      "displayName": "Andrea Di Antonio",
      "photoUrl": "",
      "userId": "00274323577290199816"
     },
     "user_tz": 0
    },
    "id": "zocT8RdpN7_g"
   },
   "outputs": [],
   "source": [
    "dft_ulev = dft_ulev.replace({'c':0}) # Replace the c values with zeros so that the statistics is not altered "
   ]
  },
  {
   "cell_type": "code",
   "execution_count": null,
   "metadata": {
    "executionInfo": {
     "elapsed": 3346,
     "status": "ok",
     "timestamp": 1610115651280,
     "user": {
      "displayName": "Andrea Di Antonio",
      "photoUrl": "",
      "userId": "00274323577290199816"
     },
     "user_tz": 0
    },
    "id": "4IEOlSWSN7_g"
   },
   "outputs": [],
   "source": [
    "#Import Battery Electric Vehicles (BEVs) table by postcode\n",
    "dft_bev_import = read_ods(dirname+'/veh0134.ods', 'VEH0134b')\n",
    "dft_bev = dft_bev_import[6:-14]\n",
    "dft_bev.columns = dft_bev_import.iloc[5].values\n",
    "dft_bev.reset_index(inplace=True, drop=True)"
   ]
  },
  {
   "cell_type": "code",
   "execution_count": null,
   "metadata": {
    "colab": {
     "base_uri": "https://localhost:8080/"
    },
    "executionInfo": {
     "elapsed": 2594,
     "status": "ok",
     "timestamp": 1610107943367,
     "user": {
      "displayName": "Andrea Di Antonio",
      "photoUrl": "",
      "userId": "00274323577290199816"
     },
     "user_tz": 0
    },
    "id": "G9umDqNPN7_h",
    "outputId": "0091f776-edbd-4820-aa7b-5ebae7df5b2a"
   },
   "outputs": [],
   "source": [
    "print('Missing {per:.2f}% of entire data'.format(per = len(dft_bev[dft_bev['2020 Q3']=='c'])/len(dft_bev)*100))"
   ]
  },
  {
   "cell_type": "code",
   "execution_count": null,
   "metadata": {
    "executionInfo": {
     "elapsed": 552,
     "status": "ok",
     "timestamp": 1610107944019,
     "user": {
      "displayName": "Andrea Di Antonio",
      "photoUrl": "",
      "userId": "00274323577290199816"
     },
     "user_tz": 0
    },
    "id": "ixS5UGfvN7_h"
   },
   "outputs": [],
   "source": [
    "dft_bev = dft_bev.replace({'c':0})"
   ]
  },
  {
   "cell_type": "code",
   "execution_count": null,
   "metadata": {
    "colab": {
     "base_uri": "https://localhost:8080/",
     "height": 258
    },
    "executionInfo": {
     "elapsed": 563,
     "status": "ok",
     "timestamp": 1610107946445,
     "user": {
      "displayName": "Andrea Di Antonio",
      "photoUrl": "",
      "userId": "00274323577290199816"
     },
     "user_tz": 0
    },
    "id": "zW0c8pNHN7_h",
    "outputId": "b9f8b77d-8345-480c-c8a1-39ec8f461d34"
   },
   "outputs": [],
   "source": [
    "dft_bev.head()"
   ]
  },
  {
   "cell_type": "code",
   "execution_count": null,
   "metadata": {
    "executionInfo": {
     "elapsed": 836,
     "status": "ok",
     "timestamp": 1610108367922,
     "user": {
      "displayName": "Andrea Di Antonio",
      "photoUrl": "",
      "userId": "00274323577290199816"
     },
     "user_tz": 0
    },
    "id": "X59PI79G6tv_"
   },
   "outputs": [],
   "source": [
    "dft_bev_nhb = dft_bev.set_index('Postcode District 2')"
   ]
  },
  {
   "cell_type": "code",
   "execution_count": null,
   "metadata": {
    "colab": {
     "base_uri": "https://localhost:8080/",
     "height": 314
    },
    "executionInfo": {
     "elapsed": 884,
     "status": "ok",
     "timestamp": 1610113330657,
     "user": {
      "displayName": "Andrea Di Antonio",
      "photoUrl": "",
      "userId": "00274323577290199816"
     },
     "user_tz": 0
    },
    "id": "OVx8RcSh8C-a",
    "outputId": "0d2dc656-c6e0-4242-dab5-558bd1f0eb7a"
   },
   "outputs": [],
   "source": [
    "##Plot the NEIGHBOURHOOD level (i.e. Partial Postcode) of BEVs uptake\n",
    "\n",
    "nhb_val = 'CB1'\n",
    "nhb_sel = dft_bev_nhb.loc[nhb_val].reindex(index=dft_bev_nhb.loc[nhb_val].index[::-1])\n",
    "plt.bar(nhb_sel.index,nhb_sel,.5)\n",
    "plt.xticks(rotation = 90)\n",
    "plt.ylabel('Number of BEVs')\n",
    "plt.title('BEVs uptake in '+nhb_val)\n",
    "plt.show() "
   ]
  },
  {
   "cell_type": "code",
   "execution_count": null,
   "metadata": {
    "id": "cjc4BhAvN7_h"
   },
   "outputs": [],
   "source": [
    "#Import Plug-in Hybrid Electric Vehicles (PHEVs) data\n",
    "dft_phev_import = read_ods(dirname+'/veh0134.ods', 'VEH0134c')\n",
    "dft_phev = dft_phev_import[6:-14]\n",
    "dft_phev.columns = dft_phev_import.iloc[5].values\n",
    "dft_phev.reset_index(inplace=True, drop=True)"
   ]
  },
  {
   "cell_type": "code",
   "execution_count": null,
   "metadata": {
    "colab": {
     "base_uri": "https://localhost:8080/"
    },
    "executionInfo": {
     "elapsed": 3346,
     "status": "ok",
     "timestamp": 1610020214962,
     "user": {
      "displayName": "Andrea Di Antonio",
      "photoUrl": "",
      "userId": "00274323577290199816"
     },
     "user_tz": 0
    },
    "id": "txIoscoMN7_h",
    "outputId": "08e31ee1-50c4-4c42-8b0c-d8b4dfc16ac2"
   },
   "outputs": [],
   "source": [
    "print('Missing {per:.2f}% of entire data'.format(per = len(dft_phev[dft_phev['2020 Q3']=='c'])/len(dft_phev)*100))"
   ]
  },
  {
   "cell_type": "code",
   "execution_count": null,
   "metadata": {
    "id": "wSawjJkMN7_i",
    "scrolled": true
   },
   "outputs": [],
   "source": [
    "dft_phev = dft_phev.replace({'c':0})"
   ]
  },
  {
   "cell_type": "markdown",
   "metadata": {},
   "source": [
    "# Import ULEVs data by local authority"
   ]
  },
  {
   "cell_type": "code",
   "execution_count": null,
   "metadata": {},
   "outputs": [],
   "source": [
    "#Import Battery Electric Vehicles (BEVs) table by LA\n",
    "dft_bev_la_import = read_ods(dirname+'/veh0132.ods', 'VEH0132b')\n",
    "dft_bev_la = dft_bev_la_import[6:-14]\n",
    "dft_bev_la.columns = dft_bev_la_import.iloc[5].values\n",
    "dft_bev_la.reset_index(inplace=True, drop=True)"
   ]
  },
  {
   "cell_type": "code",
   "execution_count": null,
   "metadata": {},
   "outputs": [],
   "source": [
    "dft_bev_la_sel = dft_bev_la[dft_bev_la['ONS LA Code'].isin(district_code)]\n",
    "dft_bev_la_sel = dft_bev_la_sel.drop(['Region/Local Authority'],axis = 1).set_index(['ONS LA Code'])\n",
    "dft_bev_la_sel = dft_bev_la_sel.replace({'c':0})"
   ]
  },
  {
   "cell_type": "code",
   "execution_count": null,
   "metadata": {
    "scrolled": true
   },
   "outputs": [],
   "source": [
    "print('Missing {per:.2f}% of entire data'.format(per = 100-(len(dft_bev_la_sel))/len(district_code)*100))"
   ]
  },
  {
   "cell_type": "code",
   "execution_count": null,
   "metadata": {
    "scrolled": false
   },
   "outputs": [],
   "source": [
    "##Plot the Local Authority level of BEVs uptake\n",
    "\n",
    "la_val = 'Cambridge'\n",
    "la_sel = dft_bev_la_sel.loc[dic_la[la_val]].reindex(index=dft_bev_la_sel.loc[dic_la[la_val]].index[::-1])\n",
    "plt.bar(la_sel.index,la_sel,.5)\n",
    "plt.xticks(rotation = 90)\n",
    "plt.ylabel('Number of BEVs')\n",
    "plt.title('BEVs uptake in '+la_val)\n",
    "plt.show() "
   ]
  },
  {
   "cell_type": "code",
   "execution_count": null,
   "metadata": {},
   "outputs": [],
   "source": [
    "dft_bev_all = pd.DataFrame(dft_bev_la.iloc[0][2:])\n",
    "dft_bev_all = dft_bev_all.reindex(index=dft_bev_all.index[::-1]) # Sort the index (Time) in ascending order \n",
    "dft_bev_all.index.names =['Time']\n",
    "dft_bev_all.columns =['Total BEVs']"
   ]
  },
  {
   "cell_type": "code",
   "execution_count": null,
   "metadata": {},
   "outputs": [],
   "source": [
    "##Plot the National level of BEVs uptake\n",
    "\n",
    "df_charges_bev = pd.concat([df_charges_quarter,dft_bev_all], axis = 1, join = 'inner')\n",
    "\n",
    "x = np.arange(len(df_charges_bev.index))\n",
    "width = 0.35  # the width of the bars\n",
    "\n",
    "fig, ax = plt.subplots(figsize=(18,8))\n",
    "rects1 = ax.bar(x - width/2, df_charges_bev['Total  Devices'], width, label='Devices')\n",
    "rects2 = ax.bar(x + width/2, df_charges_bev['Total BEVs'], width, label='BEVs')\n",
    "\n",
    "# Add some text for labels, title and custom x-axis tick labels, etc.\n",
    "ax.set_ylabel('Total number')\n",
    "ax.set_title('BEVs VS Devices Quarterly Trend')\n",
    "ax.set_xticks(x)\n",
    "ax.set_xticklabels(df_charges_bev.index, rotation = 90)\n",
    "ax.legend()\n",
    "\n",
    "fig.tight_layout()\n",
    "\n",
    "plt.show()\n",
    "#fig.savefig('Devices_BEVs_comparision.png', bbox_inches='tight', dpi = 300)"
   ]
  },
  {
   "cell_type": "markdown",
   "metadata": {},
   "source": [
    "# Import ALL vehicles data by postcode district"
   ]
  },
  {
   "cell_type": "code",
   "execution_count": null,
   "metadata": {},
   "outputs": [],
   "source": [
    "sheet_index = sorted(['2020', '2019', '2018', '2017', '2016', '2015', '2014', '2013', '2012', '2011'])"
   ]
  },
  {
   "cell_type": "code",
   "execution_count": null,
   "metadata": {},
   "outputs": [],
   "source": [
    "df = []\n",
    "\n",
    "for idx in sheet_index:\n",
    "    dft_all_import = read_ods(dirname+'/veh0122.ods', idx)\n",
    "    dft_all_import = dft_all_import[dft_all_import.iloc[:,1].notnull()]\n",
    "    dft_all = dft_all_import[2:]\n",
    "    dft_all.columns = dft_all_import.iloc[1].values\n",
    "    dft_all = dft_all.set_index('Postcode District')\n",
    "    dft_all_sel = dft_all['Cars']\n",
    "    dft_all_sel.columns = [idx +' Q'+str(i+1) for i in range(len(dft_all_sel.columns))]\n",
    "    df.append(dft_all_sel)"
   ]
  },
  {
   "cell_type": "code",
   "execution_count": null,
   "metadata": {},
   "outputs": [],
   "source": [
    "dft_all_merged = pd.concat(df, axis =1,join='inner')\n",
    "dft_all_merged = dft_all_merged.iloc[:,3:]"
   ]
  },
  {
   "cell_type": "code",
   "execution_count": null,
   "metadata": {},
   "outputs": [],
   "source": [
    "print('Missing {per:.2f}% of entire data'.format(per = len(dft_all_merged[dft_all_merged['2020 Q3']=='c'])/len(dft_all_merged)*100))"
   ]
  },
  {
   "cell_type": "code",
   "execution_count": null,
   "metadata": {},
   "outputs": [],
   "source": [
    "dft_all_merged =dft_all_merged.replace({'c':0})"
   ]
  },
  {
   "cell_type": "code",
   "execution_count": null,
   "metadata": {},
   "outputs": [],
   "source": [
    "df_intersect =[]\n",
    "for item in dft_all_merged.index: \n",
    "    if item in dft_bev_nhb.index.tolist():\n",
    "        df_intersect.append(item)"
   ]
  },
  {
   "cell_type": "code",
   "execution_count": null,
   "metadata": {},
   "outputs": [],
   "source": [
    "print('Missing {per:.2f}% of the entire postcode districts'.format(per = (1 -len(df_intersect)/postcode_district_number)*100))"
   ]
  },
  {
   "cell_type": "code",
   "execution_count": null,
   "metadata": {},
   "outputs": [],
   "source": [
    "dft_bev_nhb_sel = dft_bev_nhb[dft_bev_nhb.index.isin(df_intersect)]\n",
    "dft_all_merged_sel = dft_all_merged[dft_all_merged.index.isin(df_intersect)]"
   ]
  },
  {
   "cell_type": "code",
   "execution_count": null,
   "metadata": {},
   "outputs": [],
   "source": [
    "dft_ratio = dft_bev_nhb_sel/dft_all_merged_sel*100"
   ]
  },
  {
   "cell_type": "code",
   "execution_count": null,
   "metadata": {},
   "outputs": [],
   "source": [
    "dft_ratio"
   ]
  },
  {
   "cell_type": "code",
   "execution_count": null,
   "metadata": {},
   "outputs": [],
   "source": [
    "postcode_district_number"
   ]
  },
  {
   "cell_type": "code",
   "execution_count": null,
   "metadata": {},
   "outputs": [],
   "source": [
    "##Plot the NEIGHBOURHOOD level (i.e. Partial Postcode) of BEVs proportion to total car fleet\n",
    "\n",
    "nhb_val = 'CB1'\n",
    "nhb_sel = dft_ratio.loc[nhb_val]\n",
    "plt.bar(nhb_sel.index,nhb_sel,.5)\n",
    "plt.xticks(rotation = 90)\n",
    "plt.ylabel('% of BEVs of total car fleet')\n",
    "plt.title('BEVs percentage of total car fleet in '+nhb_val)\n",
    "plt.show() "
   ]
  },
  {
   "cell_type": "markdown",
   "metadata": {
    "id": "8Jj9xPNuN7_i"
   },
   "source": [
    "# Import private chargers data"
   ]
  },
  {
   "cell_type": "code",
   "execution_count": null,
   "metadata": {},
   "outputs": [],
   "source": [
    "fund_df_import = pd.read_excel(dirname+\"/EIR_E0019012.xlsx\")\n",
    "fund_df_import = fund_df_import[fund_df_import.iloc[:,2].notnull()].dropna(axis =1)\n",
    "\n",
    "fund_df = fund_df_import[1:]\n",
    "fund_df.columns = fund_df_import.iloc[0].values\n",
    "fund_df =fund_df.set_index('Postcode District')\n",
    "fund_df.head()"
   ]
  },
  {
   "cell_type": "code",
   "execution_count": null,
   "metadata": {
    "id": "A5OGoh9CN7_i",
    "scrolled": true
   },
   "outputs": [],
   "source": [
    "# As stated in the file, all postcode districts with counts of at least one but fewer than ten have are indicated as \"…\".\n",
    "#For statistical purpose, a lower estimate of this value is 1 and therefore \"…\" is replaced by the value 1. \n",
    "fund_df = fund_df.replace({'…':1})"
   ]
  },
  {
   "cell_type": "markdown",
   "metadata": {
    "id": "nsyPwPueN7_j"
   },
   "source": [
    "# Create a DataFrame containing the necessary information per Local Authority\n",
    "\n"
   ]
  },
  {
   "cell_type": "code",
   "execution_count": null,
   "metadata": {},
   "outputs": [],
   "source": [
    "columns_name = ['ONS LA Code','Local Authority','Total electric vehicles (BEVs)','Total public charging devices','Total public charging devices per 100,000 population','Total private charging devices','Charging devices usage']\n",
    "summary_dataframe = pd.DataFrame({item:[] for item in columns_name})\n",
    "\n",
    "for area in district:\n",
    "    total_electric_vehicles = dft_bev_la[dft_bev_la['ONS LA Code']==dic_la[area]]['2020 Q3'].mean()\n",
    "    public_charging_devices,public_charging_devices_density = dft_charging_devices_available[dft_charging_devices_available['LA / Region Code']==dic_la[area]][['Total public\\ncharging devices','Charging devices per\\n100,000 population']].mean()\n",
    "    evhs_grant,drs_grant = fund_df[fund_df.index.isin(dic_district[district[0]])][['EVHS Grants','DRS Grants']].sum()\n",
    "    \n",
    "    \n",
    "    total_public_charging_devices = int(public_charging_devices) \n",
    "    total_public_charging_devices_density = public_charging_devices_density\n",
    "    total_private_charging_devices = int(evhs_grant + drs_grant)\n",
    "    charging_devices_usage = private_or_public_charging(total_private_charging_devices, total_electric_vehicles)\n",
    "    \n",
    "    summary_dataframe = summary_dataframe.append(pd.DataFrame([[dic_la[area],area,total_electric_vehicles,total_public_charging_devices,total_public_charging_devices_density,total_private_charging_devices,charging_devices_usage]], columns = columns_name))\n",
    "    \n",
    "summary_dataframe = summary_dataframe.set_index('Local Authority') # Set the Local Authority name as the DataFrame index"
   ]
  },
  {
   "cell_type": "markdown",
   "metadata": {
    "id": "VRpFbKl4N7_k"
   },
   "source": [
    "# Print the lookup table for each Local Authority"
   ]
  },
  {
   "cell_type": "code",
   "execution_count": null,
   "metadata": {},
   "outputs": [],
   "source": [
    "##Lookup table for each local authority number of EVs, public and private charging devices \n",
    "la_code = 'E06000047'\n",
    "\n",
    "print(summary_dataframe.loc[dic_code[la_code]])"
   ]
  },
  {
   "cell_type": "markdown",
   "metadata": {},
   "source": [
    "# Identify Local Authorities where the commercial fleet is statistically significant"
   ]
  },
  {
   "cell_type": "code",
   "execution_count": null,
   "metadata": {},
   "outputs": [],
   "source": [
    "#Subselect for the dataframe the local authorities where there are more EVs than private chargers \n",
    "ratios = summary_dataframe['Total electric vehicles (BEVs)']/summary_dataframe['Total private charging devices']\n",
    "old_ratios = len(ratios)"
   ]
  },
  {
   "cell_type": "code",
   "execution_count": null,
   "metadata": {
    "scrolled": true
   },
   "outputs": [],
   "source": [
    "#Import ULEVs keepership table by LA\n",
    "dft_keep_import = read_ods(dirname+'/veh0132.ods', 'VEH0132d')\n",
    "dft_keep_import = dft_keep_import[dft_keep_import.iloc[:,1].notnull()]\n",
    "\n",
    "dft_keep = dft_keep_import[1:]\n",
    "dft_keep.columns = dft_keep_import.iloc[0]\n",
    "dft_keep.reset_index(inplace=True, drop=True)\n",
    "dft_keep.head()"
   ]
  },
  {
   "cell_type": "code",
   "execution_count": null,
   "metadata": {},
   "outputs": [],
   "source": [
    "dft_keep_sel = dft_keep[dft_keep['ONS LA Code'].isin(district_code)]"
   ]
  },
  {
   "cell_type": "code",
   "execution_count": null,
   "metadata": {},
   "outputs": [],
   "source": [
    "#Select LAs for which the number of company ULEVs is twice the number of private ULEVs\n",
    "\n",
    "outliers_code = dft_keep_sel[dft_keep_sel['Company'] > 2 *dft_keep_sel['Private']]['ONS LA Code'].tolist()\n",
    "outliers_la = [dic_code[item] for item in outliers]"
   ]
  },
  {
   "cell_type": "code",
   "execution_count": null,
   "metadata": {},
   "outputs": [],
   "source": [
    "#Remove the previously identified LAs from the selected list rsel\n",
    "\n",
    "ratios =ratios[~ratios.index.isin(outliers_la)]\n",
    "\n",
    "print('{val} local authorities were removed from the list ({per:.2f}% of the data)'.format(val = old_ratios-len(ratios), per = (1-len(ratios)/old_ratios)*100 ))\n",
    "\n",
    "ratios_sel=ratios_sel[ratios_sel!=np.inf]\n",
    "\n",
    "print('{per:.2f}% of the data is infinity'.format(per = (1 -len(ratios_sel)/len(ratios))*100))\n",
    "\n",
    "ratios_sel=ratios_sel.dropna()\n",
    "\n",
    "print('{per:.2f}% of the data is NaN'.format(per = (1 - len(ratios_sel)/len(ratios))*100))\n",
    "old_rsel = len(ratios_sel)"
   ]
  },
  {
   "cell_type": "markdown",
   "metadata": {},
   "source": [
    "# Investigate top and bottom 10 Local authorities for public charger usage"
   ]
  },
  {
   "cell_type": "code",
   "execution_count": null,
   "metadata": {},
   "outputs": [],
   "source": [
    "ratios_gt_one = ratios_sel[ratios_sel >1]\n",
    "\n",
    "print('{per:.2f}% of the local authorities have more BEVs than private chargers'.format(per = len(ratios_gt_one)/len(ratios)*100))"
   ]
  },
  {
   "cell_type": "code",
   "execution_count": null,
   "metadata": {},
   "outputs": [],
   "source": [
    "#Mean and median values for the BEVs/Private chargers > 1, respectively \n",
    "print(ratios_gt_one.mean())\n",
    "print(ratios_gt_one.median())"
   ]
  },
  {
   "cell_type": "code",
   "execution_count": null,
   "metadata": {},
   "outputs": [],
   "source": [
    "#Standard Deviation values for the BEVs/Private chargers > 1\n",
    "print(ratios_gt_one.std())"
   ]
  },
  {
   "cell_type": "code",
   "execution_count": null,
   "metadata": {
    "scrolled": true
   },
   "outputs": [],
   "source": [
    "x = np.arange(len(ratios_gt_one))\n",
    "width = 0.7  # the width of the bars\n",
    "\n",
    "fig, ax = plt.subplots(figsize=(16,9))\n",
    "rects1 = ax.bar(x, ratios_gt_one, width)\n",
    "\n",
    "# Add some text for labels, title and custom x-axis tick labels, etc.\n",
    "ax.set_ylabel('BEVs/Private chargers')\n",
    "ax.set_title('BEVs/Private chargers ratio > 1')\n",
    "ax.set_xticks(x)\n",
    "ax.set_xlim(0,len(ratios_gt_one))\n",
    "ax.set_xticklabels(ratios_gt_one.index, rotation = 90)\n",
    "#ax.legend()\n",
    "\n",
    "fig.tight_layout()\n",
    "\n",
    "plt.show()"
   ]
  },
  {
   "cell_type": "code",
   "execution_count": null,
   "metadata": {},
   "outputs": [],
   "source": [
    "#Top 10 Local Authorities with the highest BEVs/private chargers ratio\n",
    "ratios_gt_one.sort_values(ascending = False).head(10)"
   ]
  },
  {
   "cell_type": "code",
   "execution_count": null,
   "metadata": {
    "scrolled": true
   },
   "outputs": [],
   "source": [
    "#Bottom 10 Local Authorities with the highest BEVs/private chargers ratio\n",
    "ratios_gt_one.sort_values().head(10)"
   ]
  },
  {
   "cell_type": "markdown",
   "metadata": {},
   "source": [
    "# Variation in BEVs uptake within a select few LAs"
   ]
  },
  {
   "cell_type": "code",
   "execution_count": null,
   "metadata": {},
   "outputs": [],
   "source": [
    "ratios_sel.sort_values(ascending=False).head(15)"
   ]
  },
  {
   "cell_type": "code",
   "execution_count": null,
   "metadata": {},
   "outputs": [],
   "source": [
    "ratios_sel.sort_values(ascending=False)[170:180]"
   ]
  },
  {
   "cell_type": "code",
   "execution_count": null,
   "metadata": {
    "scrolled": true
   },
   "outputs": [],
   "source": [
    "ratios_sel.sort_values(ascending=False).tail(15)"
   ]
  },
  {
   "cell_type": "code",
   "execution_count": null,
   "metadata": {
    "scrolled": true
   },
   "outputs": [],
   "source": [
    "la_selection = ['Sheffield','East Cambridgeshire','Richmondshire']\n",
    "df_selection =[]\n",
    "\n",
    "for area in la_selection:\n",
    "    df_selection.append(dft_bev_la_sel.loc[dic_la[area]].reindex(index=dft_bev_la_sel.loc[dic_la[area]].index[::-1]))\n",
    "\n",
    "x = np.arange(len(df_selection[0].index))\n",
    "width = 0.2  # the width of the bars\n",
    "\n",
    "fig, ax = plt.subplots(figsize=(16,9))\n",
    "rects1 = ax.bar(x -width, df_selection[2], width, label=la_selection[2])\n",
    "rects2 = ax.bar(x, df_selection[1], width, label=la_selection[1])\n",
    "rects3 = ax.bar(x + width,  df_selection[0], width, label=la_selection[0])\n",
    "\n",
    "# Add some text for labels, title and custom x-axis tick labels, etc.\n",
    "ax.set_ylabel('Total BEVs number')\n",
    "ax.set_title('BEVs Quarterly Trend')\n",
    "ax.set_xticks(x)\n",
    "ax.set_xticklabels(df_selection[0].index, rotation = 90)\n",
    "ax.legend()\n",
    "ax.autoscale(tight=True)\n",
    "\n",
    "fig.tight_layout()\n",
    "\n",
    "plt.show()"
   ]
  },
  {
   "cell_type": "markdown",
   "metadata": {},
   "source": [
    "# Import vehicle annual mileage by local authority"
   ]
  },
  {
   "cell_type": "code",
   "execution_count": null,
   "metadata": {},
   "outputs": [],
   "source": [
    "dft_vehicle_miles_import = read_ods(dirname+'/tra8901.ods', 'TRA8901', headers=False)\n",
    "dft_vehicle_miles_import = dft_vehicle_miles_import[dft_vehicle_miles_import.iloc[:,4].notnull()]\n",
    "\n",
    "dft_vehicle_miles = dft_vehicle_miles_import.iloc[1:]\n",
    "dft_vehicle_miles.columns = dft_vehicle_miles_import.iloc[0]\n",
    "dft_vehicle_miles = dft_vehicle_miles.dropna(axis=1)\n",
    "\n",
    "dft_vehicle_miles = dft_vehicle_miles[dft_vehicle_miles['LA Code'].isin(district_code)]\n",
    "dft_vehicle_miles.reset_index(inplace=True, drop=True) #reset the index\n",
    "dft_vehicle_miles.insert(loc=1, column='Local Authority', value=[dic_code[item] for item in dft_vehicle_miles['LA Code']])\n",
    "dft_vehicle_miles = dft_vehicle_miles.set_index('LA Code')"
   ]
  },
  {
   "cell_type": "code",
   "execution_count": null,
   "metadata": {},
   "outputs": [],
   "source": [
    "print('Missing {per:.2f}% of entire local authorities'.format(per = len(dft_vehicle_miles)/len(district_code)*100))"
   ]
  },
  {
   "cell_type": "code",
   "execution_count": null,
   "metadata": {},
   "outputs": [],
   "source": [
    "##Plot the Local Authority level of yearly miles driven\n",
    "\n",
    "la_val = 'Leeds'\n",
    "la_sel = dft_vehicle_miles.loc[dic_la[la_val]][1:]\n",
    "la_sel.index = [str(i) for i in range(1993,2020)]\n",
    "plt.bar(la_sel.index,la_sel,.5)\n",
    "plt.xticks(rotation = 90)\n",
    "plt.ylabel('Distance (miles)')\n",
    "plt.title('Yearly driven miles in '+la_val)\n",
    "plt.show() "
   ]
  },
  {
   "cell_type": "markdown",
   "metadata": {
    "id": "isHbqjJApvFQ"
   },
   "source": [
    "# Interactive plots (WORK IN PROGRESS)"
   ]
  },
  {
   "cell_type": "markdown",
   "metadata": {},
   "source": [
    "## Local authority level"
   ]
  },
  {
   "cell_type": "code",
   "execution_count": null,
   "metadata": {},
   "outputs": [],
   "source": [
    "la_geo = subdirla+'/Local_Authority_Districts__May_2020__Boundaries_UK_BGC.geojson'"
   ]
  },
  {
   "cell_type": "code",
   "execution_count": null,
   "metadata": {},
   "outputs": [],
   "source": [
    "gpdimport = gpd.read_file(la_geo)"
   ]
  },
  {
   "cell_type": "code",
   "execution_count": null,
   "metadata": {
    "scrolled": true
   },
   "outputs": [],
   "source": [
    "gpdimport = gpdimport.set_index('LAD20CD')\n",
    "gpdfinal = gpdimport.drop(['OBJECTID','LAD20NM','LAD20NMW','BNG_E','BNG_N','LONG','LAT','Shape__Area','Shape__Length'], axis =1)\n",
    "gpdimport.head()"
   ]
  },
  {
   "cell_type": "code",
   "execution_count": null,
   "metadata": {},
   "outputs": [],
   "source": [
    "len(gpdimport)"
   ]
  },
  {
   "cell_type": "code",
   "execution_count": null,
   "metadata": {},
   "outputs": [],
   "source": [
    "df_left = gpdfinal\n",
    "df_right = dft_bev_la_sel"
   ]
  },
  {
   "cell_type": "code",
   "execution_count": null,
   "metadata": {},
   "outputs": [],
   "source": [
    "df_concat = pd.concat([gpdfinal,dft_bev_la_sel], join='inner',axis=1).reset_index()\n",
    "df_concat.head()"
   ]
  },
  {
   "cell_type": "code",
   "execution_count": null,
   "metadata": {},
   "outputs": [],
   "source": [
    "n_periods, n_sample = df_right.shape[1],df_right.shape[1]\n",
    "\n",
    "\n",
    "datetime_index = pd.date_range('2011-12-1', periods=n_periods, freq='3M')\n",
    "dt_index_epochs = datetime_index.astype(int) // 10**9\n",
    "dt_index = dt_index_epochs.astype('U10')"
   ]
  },
  {
   "cell_type": "code",
   "execution_count": null,
   "metadata": {},
   "outputs": [],
   "source": [
    "styledata = {}\n",
    "\n",
    "for area in df_right.index:\n",
    "    df = pd.DataFrame(\n",
    "        {'color': df_right.loc[area].values,\n",
    "         'opacity': 0*np.random.normal(size=n_periods)},\n",
    "        index=dt_index\n",
    "    )\n",
    "    df = df.cumsum()\n",
    "    df.sample(n_sample, replace=False).sort_index()\n",
    "    df.loc[:,'opacity'] = np.ones(n_periods)\n",
    "    styledata[area] = df"
   ]
  },
  {
   "cell_type": "code",
   "execution_count": null,
   "metadata": {},
   "outputs": [],
   "source": [
    "from branca.colormap import linear\n",
    "\n",
    "max_color, min_color = 2, 0\n",
    "\n",
    "for area, data in styledata.items():\n",
    "    max_color = max(max_color, data['color'].max())\n",
    "    min_color = max(min_color, data['color'].min())\n",
    "        \n",
    "cmap = linear.Paired_08.scale(min_color, max_color)\n",
    "\n",
    "for area, data in styledata.items():\n",
    "    data['color'] = data['color'].apply(cmap)\n",
    "    data['opacity'] = (data['opacity'])\n",
    "    data['opacity'] = (data['opacity'])"
   ]
  },
  {
   "cell_type": "code",
   "execution_count": null,
   "metadata": {},
   "outputs": [],
   "source": [
    "styledict = {\n",
    "    str(area): data.to_dict(orient='index') for\n",
    "    area, data in styledata.items()\n",
    "}"
   ]
  },
  {
   "cell_type": "code",
   "execution_count": null,
   "metadata": {},
   "outputs": [],
   "source": [
    "from folium.plugins import TimeSliderChoropleth\n",
    "\n",
    "m = folium.Map([54.7, -4.6], tiles='cartodbpositron', zoom_start=5)\n",
    "\n",
    "g = TimeSliderChoropleth(\n",
    "    df_left.to_json(),\n",
    "    styledict=styledict,\n",
    "\n",
    ").add_to(m)\n",
    "\n",
    "choropleth = folium.Choropleth(\n",
    "    geo_data=df_concat,\n",
    "    data=df_concat,\n",
    "    columns=['index', '2020 Q3'],\n",
    "    key_on='feature.properties.index',\n",
    "    fill_color= 'Paired',\n",
    "    fill_opacity=0.0,\n",
    "    line_opacity=0.0,\n",
    "    legend_name='BEVs (#)',\n",
    "    smooth_factor=0).add_to(m)\n",
    "\n",
    "choropleth.geojson.add_child(\n",
    "    folium.features.GeoJsonTooltip(['index'], style=style_function, labels=False))\n",
    "folium.LayerControl().add_to(m)"
   ]
  },
  {
   "cell_type": "code",
   "execution_count": null,
   "metadata": {},
   "outputs": [],
   "source": [
    "#m"
   ]
  },
  {
   "cell_type": "code",
   "execution_count": null,
   "metadata": {},
   "outputs": [],
   "source": [
    "#m.save('Timeseries.html')"
   ]
  },
  {
   "cell_type": "code",
   "execution_count": null,
   "metadata": {},
   "outputs": [],
   "source": [
    "# choropleth = folium.Choropleth(\n",
    "#     name = 'charging_dev',\n",
    "#     geo_data=la_geo,\n",
    "#     data=summary_dataframe,\n",
    "#     columns=['ONS LA Code','Total public charging devices'],\n",
    "#     key_on='feature.properties.LAD20CD',\n",
    "#     fill_color='YlGnBu', \n",
    "#     fill_opacity=1, \n",
    "#     line_opacity=1,\n",
    "#     legend_name='Total public charging devices',\n",
    "#     smooth_factor=0).add_to(la_map)\n",
    "# style_function = \"font-size: 15px; font-weight: bold\"\n",
    "# choropleth.geojson.add_child(\n",
    "#     folium.features.GeoJsonTooltip(['LAD20NM'], style=style_function, labels=False))"
   ]
  },
  {
   "cell_type": "code",
   "execution_count": null,
   "metadata": {},
   "outputs": [],
   "source": [
    "# choropleth = folium.Choropleth(\n",
    "#     name = 'charging_dev',\n",
    "#     geo_data=communities_geo,\n",
    "#     data=data_try,\n",
    "#     columns=['LA / Region Code', 'Total public\\ncharging devices', 'Charging devices per\\n100,000 population'],\n",
    "#     key_on='feature.properties.LAD20CD',\n",
    "#     fill_color='YlGnBu', \n",
    "#     fill_opacity=1, \n",
    "#     line_opacity=1,\n",
    "#     legend_name='Total public charging devices',\n",
    "#     smooth_factor=0).add_to(communities_map)\n",
    "# style_function = \"font-size: 15px; font-weight: bold\"\n",
    "# choropleth.geojson.add_child(\n",
    "#     folium.features.GeoJsonTooltip(['LAD20NM'], style=style_function, labels=False))\n",
    "\n",
    "# choropleth = folium.Choropleth(\n",
    "#     name = 'charging_dens',\n",
    "#     geo_data=communities_geo,\n",
    "#     data=data_try,\n",
    "#     columns=['LA / Region Code', 'Charging devices per\\n100,000 population'],\n",
    "#     key_on='feature.properties.LAD20CD',\n",
    "#     fill_color='YlGnBu', \n",
    "#     fill_opacity=1, \n",
    "#     line_opacity=1,\n",
    "#     legend_name='Total charging devices per 100,000 population',\n",
    "#     smooth_factor=0).add_to(communities_map)\n",
    "\n",
    "# style_function = \"font-size: 15px; font-weight: bold\"\n",
    "# choropleth.geojson.add_child(\n",
    "#     folium.features.GeoJsonTooltip(['LAD20NM'], style=style_function, labels=False))\n",
    "# folium.LayerControl().add_to(communities_map)"
   ]
  },
  {
   "cell_type": "markdown",
   "metadata": {},
   "source": [
    "## Postcode district level"
   ]
  },
  {
   "cell_type": "code",
   "execution_count": null,
   "metadata": {},
   "outputs": [],
   "source": [
    "df_postcode_district = df_postcode_district.drop('Description',axis=1)"
   ]
  },
  {
   "cell_type": "code",
   "execution_count": null,
   "metadata": {},
   "outputs": [],
   "source": [
    "dft_ratio= dft_ratio.replace(np.inf,np.nan)"
   ]
  },
  {
   "cell_type": "code",
   "execution_count": null,
   "metadata": {},
   "outputs": [],
   "source": [
    "dft_ratio = dft_ratio.dropna()"
   ]
  },
  {
   "cell_type": "code",
   "execution_count": null,
   "metadata": {},
   "outputs": [],
   "source": [
    "dft_ratio['2020 Q3'].idxmax()"
   ]
  },
  {
   "cell_type": "code",
   "execution_count": null,
   "metadata": {},
   "outputs": [],
   "source": [
    "df_left = df_postcode_district\n",
    "df_right = dft_ratio.drop('TW6')"
   ]
  },
  {
   "cell_type": "code",
   "execution_count": null,
   "metadata": {},
   "outputs": [],
   "source": [
    "df_concat = pd.concat([df_left,df_right], join='inner',axis=1).reset_index()"
   ]
  },
  {
   "cell_type": "code",
   "execution_count": null,
   "metadata": {},
   "outputs": [],
   "source": [
    "df_concat.describe()"
   ]
  },
  {
   "cell_type": "code",
   "execution_count": null,
   "metadata": {},
   "outputs": [],
   "source": [
    "1-len(df_concat)/len(postcode_district_list)"
   ]
  },
  {
   "cell_type": "code",
   "execution_count": null,
   "metadata": {},
   "outputs": [],
   "source": [
    "n_periods, n_sample = df_right.shape[1],df_right.shape[1]\n",
    "\n",
    "\n",
    "datetime_index = pd.date_range('2011-12-1', periods=n_periods, freq='3M')\n",
    "dt_index_epochs = datetime_index.astype(int) // 10**9\n",
    "dt_index = dt_index_epochs.astype('U10')"
   ]
  },
  {
   "cell_type": "code",
   "execution_count": null,
   "metadata": {},
   "outputs": [],
   "source": [
    "styledata = {}\n",
    "\n",
    "for area in df_right.index:\n",
    "    df = pd.DataFrame(\n",
    "        {'color': df_right.loc[area].values,\n",
    "         'opacity': 0*np.random.normal(size=n_periods)},\n",
    "        index=dt_index\n",
    "    )\n",
    "    df = df.cumsum()\n",
    "    df.sample(n_sample, replace=False).sort_index()\n",
    "    df.loc[:,'opacity'] = np.ones(n_periods)\n",
    "    styledata[area] = df"
   ]
  },
  {
   "cell_type": "code",
   "execution_count": null,
   "metadata": {},
   "outputs": [],
   "source": [
    "from branca.colormap import linear\n",
    "\n",
    "max_color, min_color = 2, 0\n",
    "\n",
    "for area, data in styledata.items():\n",
    "    max_color = max(max_color, data['color'].max())\n",
    "    min_color = max(min_color, data['color'].min())\n",
    "        \n",
    "cmap = linear.Paired_08.scale(min_color, max_color)\n",
    "\n",
    "for area, data in styledata.items():\n",
    "    data['color'] = data['color'].apply(cmap)\n",
    "    data['opacity'] = (data['opacity'])\n",
    "    data['opacity'] = (data['opacity'])"
   ]
  },
  {
   "cell_type": "code",
   "execution_count": null,
   "metadata": {},
   "outputs": [],
   "source": [
    "styledict = {\n",
    "    str(area): data.to_dict(orient='index') for\n",
    "    area, data in styledata.items()\n",
    "}"
   ]
  },
  {
   "cell_type": "code",
   "execution_count": null,
   "metadata": {},
   "outputs": [],
   "source": [
    "myscale = (df_concat['2020 Q3'].quantile((0,0.1,0.75,0.9,0.98,1))).tolist()"
   ]
  },
  {
   "cell_type": "code",
   "execution_count": null,
   "metadata": {},
   "outputs": [],
   "source": [
    "from folium.plugins import TimeSliderChoropleth\n",
    "\n",
    "m = folium.Map([54.7, -4.6], tiles='cartodbpositron', zoom_start=5)\n",
    "\n",
    "g = TimeSliderChoropleth(\n",
    "    df_left.to_json(),\n",
    "    styledict=styledict,\n",
    "\n",
    ").add_to(m)\n",
    "\n",
    "choropleth = folium.Choropleth(\n",
    "    geo_data=df_concat,\n",
    "    data=df_concat,\n",
    "    columns=['index', '2020 Q3'],\n",
    "    key_on='feature.properties.index',\n",
    "    fill_color= 'Paired',\n",
    "    threshold_scale=myscale,\n",
    "    fill_opacity=0.0,\n",
    "    line_opacity=0.0,\n",
    "    legend_name='BEVs (%)',\n",
    "    smooth_factor=0).add_to(m)\n",
    "\n",
    "choropleth.geojson.add_child(\n",
    "    folium.features.GeoJsonTooltip(['index'], style=style_function, labels=False))\n",
    "folium.LayerControl().add_to(m)"
   ]
  },
  {
   "cell_type": "code",
   "execution_count": null,
   "metadata": {
    "scrolled": false
   },
   "outputs": [],
   "source": [
    "#m"
   ]
  },
  {
   "cell_type": "markdown",
   "metadata": {},
   "source": [
    "# UPRNs"
   ]
  },
  {
   "cell_type": "code",
   "execution_count": null,
   "metadata": {},
   "outputs": [],
   "source": [
    "#Import the csv file listing all the UPRNs per postcode district \n",
    "\n",
    "df_uprn = pd.read_csv(dirname+'/UPRNs.csv', index_col=0)\n",
    "df_uprn.head()"
   ]
  },
  {
   "cell_type": "code",
   "execution_count": null,
   "metadata": {
    "scrolled": true
   },
   "outputs": [],
   "source": [
    "#Import the files containing the coordinates for each postcode district and combine them in a single dataframe \n",
    "\n",
    "for item in postcode_area_list:\n",
    "    \n",
    "    if item=='AB':\n",
    "        filename = item+'.kml'\n",
    "        file_path = subdirpd+'/'+filename\n",
    "\n",
    "        df_bound = gpd.read_file(file_path, driver='KML')\n",
    "    else:\n",
    "        filename = item+'.kml'\n",
    "        file_path = subdirpd+'/'+filename\n",
    "\n",
    "        polys = gpd.read_file(file_path, driver='KML')\n",
    "        df_bound = df_bound.append(polys, ignore_index=True)\n",
    "\n",
    "        \n",
    "df_postcode_district = df_bound[df_bound['Name'].isin(postcode_district_list)].set_index('Name')\n",
    "df_postcode_district.index.name = 'Postcode District'\n",
    "df_postcode_district = df_postcode_district.sort_index()"
   ]
  },
  {
   "cell_type": "code",
   "execution_count": null,
   "metadata": {},
   "outputs": [],
   "source": [
    "df_postcode_district.head()"
   ]
  },
  {
   "cell_type": "code",
   "execution_count": null,
   "metadata": {},
   "outputs": [],
   "source": [
    "len(df_postcode_district)"
   ]
  },
  {
   "cell_type": "markdown",
   "metadata": {},
   "source": [
    "## Map and total number of UPRNs per Postcode District "
   ]
  },
  {
   "cell_type": "code",
   "execution_count": null,
   "metadata": {},
   "outputs": [],
   "source": [
    "postcode_value = 'CB1'\n",
    "postcode_selection = df_uprn.loc[postcode_value]\n",
    "locations = postcode_selection[['LATITUDE', 'LONGITUDE']]\n",
    "locationlist = locations.values.tolist()\n",
    "\n",
    "print('In {} there are {} UPRNs'.format(postcode_value,df_uprn.loc[postcode_value]['UPRN'].count()))"
   ]
  },
  {
   "cell_type": "code",
   "execution_count": null,
   "metadata": {},
   "outputs": [],
   "source": [
    "m = folium.Map([50.854457, 4.377184], zoom_start=5, tiles='cartodbpositron')\n",
    "folium.GeoJson(df_postcode_district.loc[postcode_value:postcode_value]).add_to(m)\n",
    "for point in range(len(locationlist)):\n",
    "     folium.Marker(locationlist[point], popup=postcode_selection['UPRN'][point]).add_to(m)\n",
    "m.save(postcode_value+\".html\")"
   ]
  }
 ],
 "metadata": {
  "colab": {
   "collapsed_sections": [],
   "name": "EV and charging devices uptake.ipynb",
   "provenance": [],
   "toc_visible": true
  },
  "kernelspec": {
   "display_name": "Python 3",
   "language": "python",
   "name": "python3"
  },
  "language_info": {
   "codemirror_mode": {
    "name": "ipython",
    "version": 3
   },
   "file_extension": ".py",
   "mimetype": "text/x-python",
   "name": "python",
   "nbconvert_exporter": "python",
   "pygments_lexer": "ipython3",
   "version": "3.8.5"
  }
 },
 "nbformat": 4,
 "nbformat_minor": 1
}
