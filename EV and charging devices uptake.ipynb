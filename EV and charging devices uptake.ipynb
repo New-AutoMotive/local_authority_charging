{
 "cells": [
  {
   "cell_type": "markdown",
   "metadata": {
    "id": "Sv8pL-bJN7_W"
   },
   "source": [
    "# Importing packages"
   ]
  },
  {
   "cell_type": "code",
   "execution_count": 92,
   "metadata": {
    "executionInfo": {
     "elapsed": 448,
     "status": "ok",
     "timestamp": 1610099642690,
     "user": {
      "displayName": "Andrea Di Antonio",
      "photoUrl": "",
      "userId": "00274323577290199816"
     },
     "user_tz": 0
    },
    "id": "WdNJzi0iN7_X"
   },
   "outputs": [],
   "source": [
    "import os\n",
    "import zipfile\n",
    "from datetime import datetime\n",
    "from pathlib import Path\n",
    "import numpy as np \n",
    "import pandas as pd\n",
    "from pandas_ods_reader import read_ods\n",
    "import matplotlib.pyplot as plt\n",
    "import requests\n",
    "import openpyxl\n",
    "import folium\n",
    "import seaborn as sns\n",
    "import geopandas as gpd"
   ]
  },
  {
   "cell_type": "markdown",
   "metadata": {},
   "source": [
    "# Define recursive functions"
   ]
  },
  {
   "cell_type": "code",
   "execution_count": 93,
   "metadata": {},
   "outputs": [],
   "source": [
    "def download_from_url(file_url,filepath):\n",
    "    req = requests.get(file_url)\n",
    "    with open(filepath, 'wb') as file:\n",
    "        file.write(req.content)\n",
    "    \n",
    "    \n",
    "def download_zip_url(file_url,filedest):\n",
    "    req = requests.get(file_url)\n",
    "    zipped = zipfile.ZipFile(io.BytesIO(req.content))\n",
    "    zipped.extractall(filedest)"
   ]
  },
  {
   "cell_type": "markdown",
   "metadata": {
    "id": "odf3Inp5N7_Y"
   },
   "source": [
    "# Import files"
   ]
  },
  {
   "cell_type": "code",
   "execution_count": 94,
   "metadata": {},
   "outputs": [],
   "source": [
    "dirname = 'Data'"
   ]
  },
  {
   "cell_type": "code",
   "execution_count": 95,
   "metadata": {},
   "outputs": [
    {
     "name": "stdout",
     "output_type": "stream",
     "text": [
      "Directory Data already exists\n"
     ]
    }
   ],
   "source": [
    "if os.path.basename(os.getcwd())== 'local_authority_charging':\n",
    "    if not os.path.isdir(dirname):\n",
    "        try:\n",
    "            os.mkdir(dirname)\n",
    "        except OSError:\n",
    "            print (\"Creation of the directory %s failed\" % dirname)\n",
    "        else:\n",
    "            print (\"Successfully created the directory %s \" % dirname)\n",
    "    else: \n",
    "        print (\"Directory %s already exists\" % dirname)"
   ]
  },
  {
   "cell_type": "markdown",
   "metadata": {},
   "source": [
    "## Downloading the required datasets for the analysis "
   ]
  },
  {
   "cell_type": "code",
   "execution_count": 96,
   "metadata": {},
   "outputs": [
    {
     "name": "stdout",
     "output_type": "stream",
     "text": [
      "File postcodes.csv already exists\n"
     ]
    }
   ],
   "source": [
    "filename = 'postcodes.csv'\n",
    "\n",
    "if os.path.isfile(dirname+'/'+filename):\n",
    "    print (\"File %s already exists\" % filename)\n",
    "else:\n",
    "    download_zip_url('https://www.doogal.co.uk/files/postcodes.zip',dirname)\n",
    "    print (\"Successfully downloaded the file %s \" % filename)"
   ]
  },
  {
   "cell_type": "code",
   "execution_count": 97,
   "metadata": {},
   "outputs": [],
   "source": [
    "#Linking the required datasets with the URLs to download them from \n",
    "\n",
    "required_files = {'EIR_E0019012.xlsx':'https://storage.googleapis.com/na_evhs/EIR_E0019012.xlsx',\n",
    "                 'electric-vehicle-charging-device-statistics-october-2020.ods':'https://assets.publishing.service.gov.uk/government/uploads/system/uploads/attachment_data/file/933589/electric-vehicle-charging-device-statistics-october-2020.ods',\n",
    "                 'veh0132.ods':'https://assets.publishing.service.gov.uk/government/uploads/system/uploads/attachment_data/file/942248/veh0132.ods',\n",
    "                 'veh0134.ods':'https://assets.publishing.service.gov.uk/government/uploads/system/uploads/attachment_data/file/942250/veh0134.ods',\n",
    "                 'veh0122.ods':'https://assets.publishing.service.gov.uk/government/uploads/system/uploads/attachment_data/file/942242/veh0122.ods'}"
   ]
  },
  {
   "cell_type": "code",
   "execution_count": 98,
   "metadata": {},
   "outputs": [
    {
     "name": "stdout",
     "output_type": "stream",
     "text": [
      "File EIR_E0019012.xlsx already exists\n",
      "    Last modified 12/01/2021 09:58:11\n",
      "File electric-vehicle-charging-device-statistics-october-2020.ods already exists\n",
      "    Last modified 12/01/2021 09:58:11\n",
      "File veh0132.ods already exists\n",
      "    Last modified 12/01/2021 09:59:28\n",
      "File veh0134.ods already exists\n",
      "    Last modified 12/01/2021 09:59:28\n",
      "File veh0122.ods already exists\n",
      "    Last modified 08/01/2021 10:50:22\n"
     ]
    }
   ],
   "source": [
    "# If not already present inside \"Data\" folder, download the required datasets and\n",
    "# check the last time the datasets where downloaded/modified\n",
    "\n",
    "for filename in required_files.keys():\n",
    "    \n",
    "    file_path = dirname+'/'+filename\n",
    "    \n",
    "    if os.path.isfile(file_path):\n",
    "        print (\"File %s already exists\" % filename)\n",
    "    else:\n",
    "        download_from_url(required_files[filename],file_path)\n",
    "        print (\"Successfully downloaded the file %s \" % filename)\n",
    "    \n",
    "    try:\n",
    "        mtime = os.path.getmtime(file_path)\n",
    "    except OSError:\n",
    "        mtime = 0\n",
    "    last_modified_date = datetime.fromtimestamp(mtime)\n",
    "    \n",
    "    print('    Last modified '+last_modified_date.strftime(\"%d/%m/%Y %H:%M:%S\"))"
   ]
  },
  {
   "cell_type": "code",
   "execution_count": 99,
   "metadata": {
    "scrolled": true
   },
   "outputs": [
    {
     "name": "stdout",
     "output_type": "stream",
     "text": [
      "EIR_E0019012.xlsx has 1 sheet(s): ['bypostcodedistrict']\n",
      "electric-vehicle-charging-device-statistics-october-2020.ods has 3 sheet(s): ['Info', 'EVCD_01', 'EVCD_02']\n",
      "veh0122.ods has 11 sheet(s): ['2020', '2019', '2018', '2017', '2016', '2015', '2014', '2013', '2012', '2011', '2010']\n",
      "veh0132.ods has 4 sheet(s): ['VEH0132a', 'VEH0132b', 'VEH0132c', 'VEH0132d']\n",
      "veh0134.ods has 3 sheet(s): ['VEH0134a', 'VEH0134b', 'VEH0134c']\n"
     ]
    }
   ],
   "source": [
    "#For file containing multiple sheets (e.g. Excel spreadsheet files) determine the number and the name of each sheet\n",
    "\n",
    "for filename in os.listdir(dirname):\n",
    "    \n",
    "    file_path = dirname+'/'+filename\n",
    "    \n",
    "    if filename.endswith('.ods') or filename.endswith('.xls'):\n",
    "        \n",
    "        file_preview = pd.ExcelFile(file_path, engine ='odf')\n",
    "        sheets_number = [sheet for sheet in file_preview.sheet_names if not sheet.startswith(\"'\")]\n",
    "        print('{} has {} sheet(s): {}'.format(filename,len(sheets_number),sheets_number))\n",
    "        \n",
    "    elif filename.endswith('.xlsx'):\n",
    "        \n",
    "        file_preview = openpyxl.load_workbook(file_path) \n",
    "        sheets_number = [sheet for sheet in file_preview.sheetnames if not sheet.startswith(\"'\")]\n",
    "        print('{} has {} sheet(s): {}'.format(filename,len(sheets_number),sheets_number))\n",
    "    \n",
    "    "
   ]
  },
  {
   "cell_type": "markdown",
   "metadata": {},
   "source": [
    "# Import Postcode data"
   ]
  },
  {
   "cell_type": "code",
   "execution_count": 100,
   "metadata": {
    "colab": {
     "base_uri": "https://localhost:8080/"
    },
    "executionInfo": {
     "elapsed": 28872,
     "status": "ok",
     "timestamp": 1610099707476,
     "user": {
      "displayName": "Andrea Di Antonio",
      "photoUrl": "",
      "userId": "00274323577290199816"
     },
     "user_tz": 0
    },
    "id": "7RZFI-UuN7_Z",
    "outputId": "8feccc9f-c1f9-4a96-dbd4-b718520babe6"
   },
   "outputs": [
    {
     "name": "stderr",
     "output_type": "stream",
     "text": [
      "C:\\Users\\andre\\.conda\\envs\\na2021\\lib\\site-packages\\IPython\\core\\interactiveshell.py:3145: DtypeWarning: Columns (7,17,18,21,22,24,25,29,32,39,47) have mixed types.Specify dtype option on import or set low_memory=False.\n",
      "  has_raised = await self.run_ast_nodes(code_ast.body, cell_name,\n"
     ]
    }
   ],
   "source": [
    "#Import file containing the information about, among others, postcodes, local authority, constituency and population\n",
    "postcode = pd.read_csv(dirname+'/postcodes.csv') "
   ]
  },
  {
   "cell_type": "code",
   "execution_count": 101,
   "metadata": {},
   "outputs": [
    {
     "data": {
      "text/plain": [
       "Index(['Postcode', 'In Use?', 'Latitude', 'Longitude', 'Easting', 'Northing',\n",
       "       'Grid Ref', 'County', 'District', 'Ward', 'District Code', 'Ward Code',\n",
       "       'Country', 'County Code', 'Constituency', 'Introduced', 'Terminated',\n",
       "       'Parish', 'National Park', 'Population', 'Households', 'Built up area',\n",
       "       'Built up sub-division', 'Lower layer super output area', 'Rural/urban',\n",
       "       'Region', 'Altitude', 'London zone', 'LSOA Code', 'Local authority',\n",
       "       'MSOA Code', 'Middle layer super output area', 'Parish Code',\n",
       "       'Census output area', 'Constituency Code',\n",
       "       'Index of Multiple Deprivation', 'Quality', 'User Type', 'Last updated',\n",
       "       'Nearest station', 'Distance to station', 'Postcode area',\n",
       "       'Postcode district', 'Police force', 'Water company', 'Plus Code',\n",
       "       'Average Income', 'Sewage Company', 'Travel To Work Area'],\n",
       "      dtype='object')"
      ]
     },
     "execution_count": 101,
     "metadata": {},
     "output_type": "execute_result"
    }
   ],
   "source": [
    "postcode.columns"
   ]
  },
  {
   "cell_type": "code",
   "execution_count": 102,
   "metadata": {
    "colab": {
     "base_uri": "https://localhost:8080/",
     "height": 581
    },
    "executionInfo": {
     "elapsed": 471,
     "status": "ok",
     "timestamp": 1610102577120,
     "user": {
      "displayName": "Andrea Di Antonio",
      "photoUrl": "",
      "userId": "00274323577290199816"
     },
     "user_tz": 0
    },
    "id": "-PErHhmEN7_Z",
    "outputId": "b6d79be3-48aa-40df-ee05-75cad63b5879"
   },
   "outputs": [
    {
     "data": {
      "text/html": [
       "<div>\n",
       "<style scoped>\n",
       "    .dataframe tbody tr th:only-of-type {\n",
       "        vertical-align: middle;\n",
       "    }\n",
       "\n",
       "    .dataframe tbody tr th {\n",
       "        vertical-align: top;\n",
       "    }\n",
       "\n",
       "    .dataframe thead th {\n",
       "        text-align: right;\n",
       "    }\n",
       "</style>\n",
       "<table border=\"1\" class=\"dataframe\">\n",
       "  <thead>\n",
       "    <tr style=\"text-align: right;\">\n",
       "      <th></th>\n",
       "      <th>Postcode</th>\n",
       "      <th>In Use?</th>\n",
       "      <th>Latitude</th>\n",
       "      <th>Longitude</th>\n",
       "      <th>Easting</th>\n",
       "      <th>Northing</th>\n",
       "      <th>Grid Ref</th>\n",
       "      <th>County</th>\n",
       "      <th>District</th>\n",
       "      <th>Ward</th>\n",
       "      <th>...</th>\n",
       "      <th>Nearest station</th>\n",
       "      <th>Distance to station</th>\n",
       "      <th>Postcode area</th>\n",
       "      <th>Postcode district</th>\n",
       "      <th>Police force</th>\n",
       "      <th>Water company</th>\n",
       "      <th>Plus Code</th>\n",
       "      <th>Average Income</th>\n",
       "      <th>Sewage Company</th>\n",
       "      <th>Travel To Work Area</th>\n",
       "    </tr>\n",
       "  </thead>\n",
       "  <tbody>\n",
       "    <tr>\n",
       "      <th>0</th>\n",
       "      <td>AB1 0AA</td>\n",
       "      <td>No</td>\n",
       "      <td>57.101474</td>\n",
       "      <td>-2.242851</td>\n",
       "      <td>385386.0</td>\n",
       "      <td>801193.0</td>\n",
       "      <td>NJ853011</td>\n",
       "      <td>NaN</td>\n",
       "      <td>Aberdeen City</td>\n",
       "      <td>Lower Deeside</td>\n",
       "      <td>...</td>\n",
       "      <td>Portlethen</td>\n",
       "      <td>8.31408</td>\n",
       "      <td>AB</td>\n",
       "      <td>AB1</td>\n",
       "      <td>Scotland</td>\n",
       "      <td>Scottish Water</td>\n",
       "      <td>9C9V4Q24+HV</td>\n",
       "      <td>NaN</td>\n",
       "      <td>NaN</td>\n",
       "      <td>Aberdeen</td>\n",
       "    </tr>\n",
       "    <tr>\n",
       "      <th>1</th>\n",
       "      <td>AB1 0AB</td>\n",
       "      <td>No</td>\n",
       "      <td>57.102554</td>\n",
       "      <td>-2.246308</td>\n",
       "      <td>385177.0</td>\n",
       "      <td>801314.0</td>\n",
       "      <td>NJ851013</td>\n",
       "      <td>NaN</td>\n",
       "      <td>Aberdeen City</td>\n",
       "      <td>Lower Deeside</td>\n",
       "      <td>...</td>\n",
       "      <td>Portlethen</td>\n",
       "      <td>8.55457</td>\n",
       "      <td>AB</td>\n",
       "      <td>AB1</td>\n",
       "      <td>Scotland</td>\n",
       "      <td>Scottish Water</td>\n",
       "      <td>9C9V4Q33+2F</td>\n",
       "      <td>NaN</td>\n",
       "      <td>NaN</td>\n",
       "      <td>Aberdeen</td>\n",
       "    </tr>\n",
       "    <tr>\n",
       "      <th>2</th>\n",
       "      <td>AB1 0AD</td>\n",
       "      <td>No</td>\n",
       "      <td>57.100556</td>\n",
       "      <td>-2.248342</td>\n",
       "      <td>385053.0</td>\n",
       "      <td>801092.0</td>\n",
       "      <td>NJ850010</td>\n",
       "      <td>NaN</td>\n",
       "      <td>Aberdeen City</td>\n",
       "      <td>Lower Deeside</td>\n",
       "      <td>...</td>\n",
       "      <td>Portlethen</td>\n",
       "      <td>8.54352</td>\n",
       "      <td>AB</td>\n",
       "      <td>AB1</td>\n",
       "      <td>Scotland</td>\n",
       "      <td>Scottish Water</td>\n",
       "      <td>9C9V4Q22+6M</td>\n",
       "      <td>NaN</td>\n",
       "      <td>NaN</td>\n",
       "      <td>Aberdeen</td>\n",
       "    </tr>\n",
       "    <tr>\n",
       "      <th>3</th>\n",
       "      <td>AB1 0AE</td>\n",
       "      <td>No</td>\n",
       "      <td>57.084444</td>\n",
       "      <td>-2.255708</td>\n",
       "      <td>384600.0</td>\n",
       "      <td>799300.0</td>\n",
       "      <td>NO845992</td>\n",
       "      <td>NaN</td>\n",
       "      <td>Aberdeenshire</td>\n",
       "      <td>North Kincardine</td>\n",
       "      <td>...</td>\n",
       "      <td>Portlethen</td>\n",
       "      <td>8.20809</td>\n",
       "      <td>AB</td>\n",
       "      <td>AB1</td>\n",
       "      <td>Scotland</td>\n",
       "      <td>Scottish Water</td>\n",
       "      <td>9C9V3PMV+QP</td>\n",
       "      <td>NaN</td>\n",
       "      <td>NaN</td>\n",
       "      <td>Aberdeen</td>\n",
       "    </tr>\n",
       "    <tr>\n",
       "      <th>4</th>\n",
       "      <td>AB1 0AF</td>\n",
       "      <td>No</td>\n",
       "      <td>57.096656</td>\n",
       "      <td>-2.258102</td>\n",
       "      <td>384460.0</td>\n",
       "      <td>800660.0</td>\n",
       "      <td>NJ844006</td>\n",
       "      <td>NaN</td>\n",
       "      <td>Aberdeen City</td>\n",
       "      <td>Lower Deeside</td>\n",
       "      <td>...</td>\n",
       "      <td>Portlethen</td>\n",
       "      <td>8.85583</td>\n",
       "      <td>AB</td>\n",
       "      <td>AB1</td>\n",
       "      <td>Scotland</td>\n",
       "      <td>Scottish Water</td>\n",
       "      <td>9C9V3PWR+MQ</td>\n",
       "      <td>NaN</td>\n",
       "      <td>NaN</td>\n",
       "      <td>Aberdeen</td>\n",
       "    </tr>\n",
       "  </tbody>\n",
       "</table>\n",
       "<p>5 rows × 49 columns</p>\n",
       "</div>"
      ],
      "text/plain": [
       "  Postcode In Use?   Latitude  Longitude   Easting  Northing  Grid Ref County  \\\n",
       "0  AB1 0AA      No  57.101474  -2.242851  385386.0  801193.0  NJ853011    NaN   \n",
       "1  AB1 0AB      No  57.102554  -2.246308  385177.0  801314.0  NJ851013    NaN   \n",
       "2  AB1 0AD      No  57.100556  -2.248342  385053.0  801092.0  NJ850010    NaN   \n",
       "3  AB1 0AE      No  57.084444  -2.255708  384600.0  799300.0  NO845992    NaN   \n",
       "4  AB1 0AF      No  57.096656  -2.258102  384460.0  800660.0  NJ844006    NaN   \n",
       "\n",
       "        District              Ward  ... Nearest station Distance to station  \\\n",
       "0  Aberdeen City     Lower Deeside  ...      Portlethen             8.31408   \n",
       "1  Aberdeen City     Lower Deeside  ...      Portlethen             8.55457   \n",
       "2  Aberdeen City     Lower Deeside  ...      Portlethen             8.54352   \n",
       "3  Aberdeenshire  North Kincardine  ...      Portlethen             8.20809   \n",
       "4  Aberdeen City     Lower Deeside  ...      Portlethen             8.85583   \n",
       "\n",
       "  Postcode area Postcode district Police force   Water company    Plus Code  \\\n",
       "0            AB               AB1     Scotland  Scottish Water  9C9V4Q24+HV   \n",
       "1            AB               AB1     Scotland  Scottish Water  9C9V4Q33+2F   \n",
       "2            AB               AB1     Scotland  Scottish Water  9C9V4Q22+6M   \n",
       "3            AB               AB1     Scotland  Scottish Water  9C9V3PMV+QP   \n",
       "4            AB               AB1     Scotland  Scottish Water  9C9V3PWR+MQ   \n",
       "\n",
       "  Average Income Sewage Company  Travel To Work Area  \n",
       "0            NaN            NaN             Aberdeen  \n",
       "1            NaN            NaN             Aberdeen  \n",
       "2            NaN            NaN             Aberdeen  \n",
       "3            NaN            NaN             Aberdeen  \n",
       "4            NaN            NaN             Aberdeen  \n",
       "\n",
       "[5 rows x 49 columns]"
      ]
     },
     "execution_count": 102,
     "metadata": {},
     "output_type": "execute_result"
    }
   ],
   "source": [
    "postcode.head()"
   ]
  },
  {
   "cell_type": "code",
   "execution_count": 103,
   "metadata": {
    "executionInfo": {
     "elapsed": 813,
     "status": "ok",
     "timestamp": 1610102581415,
     "user": {
      "displayName": "Andrea Di Antonio",
      "photoUrl": "",
      "userId": "00274323577290199816"
     },
     "user_tz": 0
    },
    "id": "AtFV3DfFN7_a"
   },
   "outputs": [],
   "source": [
    "#Removing unnecessary columns to reduce the size and, therefore, the computational power required to process the dataframe\n",
    "postcode = postcode.drop(['Grid Ref','County','Introduced', 'Terminated',\n",
    "       'Parish', 'National Park','Households', 'Built up area',\n",
    "       'Built up sub-division', 'Lower layer super output area', 'Rural/urban',\n",
    "       'Region', 'Altitude', 'London zone', 'LSOA Code', 'Local authority',\n",
    "       'MSOA Code', 'Middle layer super output area', 'Parish Code',\n",
    "       'Census output area', 'Index of Multiple Deprivation', 'Quality', 'User Type', 'Last updated',\n",
    "       'Nearest station', 'Distance to station', 'Police force', 'Water company', 'Plus Code',\n",
    "       'Average Income', 'Sewage Company', 'Travel To Work Area'], axis = 1)"
   ]
  },
  {
   "cell_type": "code",
   "execution_count": 104,
   "metadata": {
    "executionInfo": {
     "elapsed": 1036,
     "status": "ok",
     "timestamp": 1610102582020,
     "user": {
      "displayName": "Andrea Di Antonio",
      "photoUrl": "",
      "userId": "00274323577290199816"
     },
     "user_tz": 0
    },
    "id": "YyI0RE5vN7_a"
   },
   "outputs": [],
   "source": [
    "#Selecting only the postcodes that are still in use\n",
    "postcode_sel = postcode.loc[postcode['In Use?']=='Yes']"
   ]
  },
  {
   "cell_type": "code",
   "execution_count": 105,
   "metadata": {
    "colab": {
     "base_uri": "https://localhost:8080/",
     "height": 204
    },
    "executionInfo": {
     "elapsed": 543,
     "status": "ok",
     "timestamp": 1610102582022,
     "user": {
      "displayName": "Andrea Di Antonio",
      "photoUrl": "",
      "userId": "00274323577290199816"
     },
     "user_tz": 0
    },
    "id": "OJYOCagGN7_a",
    "outputId": "d62c57b1-ed36-4306-ec39-994d097e97da"
   },
   "outputs": [
    {
     "data": {
      "text/html": [
       "<div>\n",
       "<style scoped>\n",
       "    .dataframe tbody tr th:only-of-type {\n",
       "        vertical-align: middle;\n",
       "    }\n",
       "\n",
       "    .dataframe tbody tr th {\n",
       "        vertical-align: top;\n",
       "    }\n",
       "\n",
       "    .dataframe thead th {\n",
       "        text-align: right;\n",
       "    }\n",
       "</style>\n",
       "<table border=\"1\" class=\"dataframe\">\n",
       "  <thead>\n",
       "    <tr style=\"text-align: right;\">\n",
       "      <th></th>\n",
       "      <th>Postcode</th>\n",
       "      <th>In Use?</th>\n",
       "      <th>Latitude</th>\n",
       "      <th>Longitude</th>\n",
       "      <th>Easting</th>\n",
       "      <th>Northing</th>\n",
       "      <th>District</th>\n",
       "      <th>Ward</th>\n",
       "      <th>District Code</th>\n",
       "      <th>Ward Code</th>\n",
       "      <th>Country</th>\n",
       "      <th>County Code</th>\n",
       "      <th>Constituency</th>\n",
       "      <th>Population</th>\n",
       "      <th>Constituency Code</th>\n",
       "      <th>Postcode area</th>\n",
       "      <th>Postcode district</th>\n",
       "    </tr>\n",
       "  </thead>\n",
       "  <tbody>\n",
       "    <tr>\n",
       "      <th>2656</th>\n",
       "      <td>AB10 1AB</td>\n",
       "      <td>Yes</td>\n",
       "      <td>57.149606</td>\n",
       "      <td>-2.096916</td>\n",
       "      <td>394235.0</td>\n",
       "      <td>806529.0</td>\n",
       "      <td>Aberdeen City</td>\n",
       "      <td>George St/Harbour</td>\n",
       "      <td>S12000033</td>\n",
       "      <td>S13002842</td>\n",
       "      <td>Scotland</td>\n",
       "      <td>S99999999</td>\n",
       "      <td>Aberdeen North</td>\n",
       "      <td>NaN</td>\n",
       "      <td>S14000001</td>\n",
       "      <td>AB</td>\n",
       "      <td>AB10</td>\n",
       "    </tr>\n",
       "    <tr>\n",
       "      <th>2658</th>\n",
       "      <td>AB10 1AF</td>\n",
       "      <td>Yes</td>\n",
       "      <td>57.148707</td>\n",
       "      <td>-2.097806</td>\n",
       "      <td>394181.0</td>\n",
       "      <td>806429.0</td>\n",
       "      <td>Aberdeen City</td>\n",
       "      <td>George St/Harbour</td>\n",
       "      <td>S12000033</td>\n",
       "      <td>S13002842</td>\n",
       "      <td>Scotland</td>\n",
       "      <td>S99999999</td>\n",
       "      <td>Aberdeen North</td>\n",
       "      <td>NaN</td>\n",
       "      <td>S14000001</td>\n",
       "      <td>AB</td>\n",
       "      <td>AB10</td>\n",
       "    </tr>\n",
       "    <tr>\n",
       "      <th>2659</th>\n",
       "      <td>AB10 1AG</td>\n",
       "      <td>Yes</td>\n",
       "      <td>57.149051</td>\n",
       "      <td>-2.097004</td>\n",
       "      <td>394230.0</td>\n",
       "      <td>806467.0</td>\n",
       "      <td>Aberdeen City</td>\n",
       "      <td>George St/Harbour</td>\n",
       "      <td>S12000033</td>\n",
       "      <td>S13002842</td>\n",
       "      <td>Scotland</td>\n",
       "      <td>S99999999</td>\n",
       "      <td>Aberdeen North</td>\n",
       "      <td>NaN</td>\n",
       "      <td>S14000001</td>\n",
       "      <td>AB</td>\n",
       "      <td>AB10</td>\n",
       "    </tr>\n",
       "    <tr>\n",
       "      <th>2660</th>\n",
       "      <td>AB10 1AH</td>\n",
       "      <td>Yes</td>\n",
       "      <td>57.148080</td>\n",
       "      <td>-2.094664</td>\n",
       "      <td>394371.0</td>\n",
       "      <td>806359.0</td>\n",
       "      <td>Aberdeen City</td>\n",
       "      <td>George St/Harbour</td>\n",
       "      <td>S12000033</td>\n",
       "      <td>S13002842</td>\n",
       "      <td>Scotland</td>\n",
       "      <td>S99999999</td>\n",
       "      <td>Aberdeen North</td>\n",
       "      <td>NaN</td>\n",
       "      <td>S14000001</td>\n",
       "      <td>AB</td>\n",
       "      <td>AB10</td>\n",
       "    </tr>\n",
       "    <tr>\n",
       "      <th>2662</th>\n",
       "      <td>AB10 1AL</td>\n",
       "      <td>Yes</td>\n",
       "      <td>57.150058</td>\n",
       "      <td>-2.095916</td>\n",
       "      <td>394296.0</td>\n",
       "      <td>806579.0</td>\n",
       "      <td>Aberdeen City</td>\n",
       "      <td>George St/Harbour</td>\n",
       "      <td>S12000033</td>\n",
       "      <td>S13002842</td>\n",
       "      <td>Scotland</td>\n",
       "      <td>S99999999</td>\n",
       "      <td>Aberdeen North</td>\n",
       "      <td>0.0</td>\n",
       "      <td>S14000001</td>\n",
       "      <td>AB</td>\n",
       "      <td>AB10</td>\n",
       "    </tr>\n",
       "  </tbody>\n",
       "</table>\n",
       "</div>"
      ],
      "text/plain": [
       "      Postcode In Use?   Latitude  Longitude   Easting  Northing  \\\n",
       "2656  AB10 1AB     Yes  57.149606  -2.096916  394235.0  806529.0   \n",
       "2658  AB10 1AF     Yes  57.148707  -2.097806  394181.0  806429.0   \n",
       "2659  AB10 1AG     Yes  57.149051  -2.097004  394230.0  806467.0   \n",
       "2660  AB10 1AH     Yes  57.148080  -2.094664  394371.0  806359.0   \n",
       "2662  AB10 1AL     Yes  57.150058  -2.095916  394296.0  806579.0   \n",
       "\n",
       "           District               Ward District Code  Ward Code   Country  \\\n",
       "2656  Aberdeen City  George St/Harbour     S12000033  S13002842  Scotland   \n",
       "2658  Aberdeen City  George St/Harbour     S12000033  S13002842  Scotland   \n",
       "2659  Aberdeen City  George St/Harbour     S12000033  S13002842  Scotland   \n",
       "2660  Aberdeen City  George St/Harbour     S12000033  S13002842  Scotland   \n",
       "2662  Aberdeen City  George St/Harbour     S12000033  S13002842  Scotland   \n",
       "\n",
       "     County Code    Constituency  Population Constituency Code Postcode area  \\\n",
       "2656   S99999999  Aberdeen North         NaN         S14000001            AB   \n",
       "2658   S99999999  Aberdeen North         NaN         S14000001            AB   \n",
       "2659   S99999999  Aberdeen North         NaN         S14000001            AB   \n",
       "2660   S99999999  Aberdeen North         NaN         S14000001            AB   \n",
       "2662   S99999999  Aberdeen North         0.0         S14000001            AB   \n",
       "\n",
       "     Postcode district  \n",
       "2656              AB10  \n",
       "2658              AB10  \n",
       "2659              AB10  \n",
       "2660              AB10  \n",
       "2662              AB10  "
      ]
     },
     "execution_count": 105,
     "metadata": {},
     "output_type": "execute_result"
    }
   ],
   "source": [
    "postcode_sel.head()"
   ]
  },
  {
   "cell_type": "code",
   "execution_count": 106,
   "metadata": {
    "colab": {
     "base_uri": "https://localhost:8080/"
    },
    "executionInfo": {
     "elapsed": 895,
     "status": "ok",
     "timestamp": 1610102583354,
     "user": {
      "displayName": "Andrea Di Antonio",
      "photoUrl": "",
      "userId": "00274323577290199816"
     },
     "user_tz": 0
    },
    "id": "XyK7Q5V4N7_a",
    "outputId": "2703266b-d013-4464-8631-2c542332a531"
   },
   "outputs": [
    {
     "name": "stdout",
     "output_type": "stream",
     "text": [
      "Missing 0.00% of Postcode data\n",
      "Missing 0.08% of District data\n",
      "Missing 0.08% of Constituency data\n",
      "Missing 15.62% of Population data\n"
     ]
    }
   ],
   "source": [
    "#Calculate the percentage of missing data in the dataframe\n",
    "\n",
    "print('Missing {per:.2f}% of Postcode data'.format(per = postcode_sel['Postcode'].isnull().values.sum()/len(postcode_sel)*100)) \n",
    "print('Missing {per:.2f}% of District data'.format(per =postcode_sel['District'].isnull().values.sum()/len(postcode_sel)*100))\n",
    "print('Missing {per:.2f}% of Constituency data'.format(per =postcode_sel['Constituency'].isnull().values.sum()/len(postcode_sel)*100))\n",
    "print('Missing {per:.2f}% of Population data'.format(per =postcode_sel['Population'].isnull().values.sum()/len(postcode_sel)*100))"
   ]
  },
  {
   "cell_type": "code",
   "execution_count": 107,
   "metadata": {
    "colab": {
     "base_uri": "https://localhost:8080/"
    },
    "executionInfo": {
     "elapsed": 547,
     "status": "ok",
     "timestamp": 1610102593219,
     "user": {
      "displayName": "Andrea Di Antonio",
      "photoUrl": "",
      "userId": "00274323577290199816"
     },
     "user_tz": 0
    },
    "id": "WKDBTrVWN7_b",
    "outputId": "4f733c33-e239-4da2-da64-edacd793e268"
   },
   "outputs": [
    {
     "data": {
      "text/plain": [
       "2656        0.0\n",
       "2658        0.0\n",
       "2659        0.0\n",
       "2660        0.0\n",
       "2662        0.0\n",
       "           ... \n",
       "2638414    46.0\n",
       "2638415    27.0\n",
       "2638416    28.0\n",
       "2638417    23.0\n",
       "2638418    56.0\n",
       "Name: Population, Length: 1760653, dtype: float64"
      ]
     },
     "execution_count": 107,
     "metadata": {},
     "output_type": "execute_result"
    }
   ],
   "source": [
    "#Replace NaN values in the population column with zeros\n",
    "postcode_sel['Population'].fillna(0)"
   ]
  },
  {
   "cell_type": "code",
   "execution_count": 108,
   "metadata": {
    "colab": {
     "base_uri": "https://localhost:8080/",
     "height": 204
    },
    "executionInfo": {
     "elapsed": 467,
     "status": "ok",
     "timestamp": 1610102594621,
     "user": {
      "displayName": "Andrea Di Antonio",
      "photoUrl": "",
      "userId": "00274323577290199816"
     },
     "user_tz": 0
    },
    "id": "m4dSXDwVN7_b",
    "outputId": "4ca941b0-fef5-4d28-981b-c8bc8dee3f65",
    "scrolled": true
   },
   "outputs": [
    {
     "data": {
      "text/html": [
       "<div>\n",
       "<style scoped>\n",
       "    .dataframe tbody tr th:only-of-type {\n",
       "        vertical-align: middle;\n",
       "    }\n",
       "\n",
       "    .dataframe tbody tr th {\n",
       "        vertical-align: top;\n",
       "    }\n",
       "\n",
       "    .dataframe thead th {\n",
       "        text-align: right;\n",
       "    }\n",
       "</style>\n",
       "<table border=\"1\" class=\"dataframe\">\n",
       "  <thead>\n",
       "    <tr style=\"text-align: right;\">\n",
       "      <th></th>\n",
       "      <th>Postcode</th>\n",
       "      <th>In Use?</th>\n",
       "      <th>Latitude</th>\n",
       "      <th>Longitude</th>\n",
       "      <th>Easting</th>\n",
       "      <th>Northing</th>\n",
       "      <th>District</th>\n",
       "      <th>Ward</th>\n",
       "      <th>District Code</th>\n",
       "      <th>Ward Code</th>\n",
       "      <th>Country</th>\n",
       "      <th>County Code</th>\n",
       "      <th>Constituency</th>\n",
       "      <th>Population</th>\n",
       "      <th>Constituency Code</th>\n",
       "      <th>Postcode area</th>\n",
       "      <th>Postcode district</th>\n",
       "    </tr>\n",
       "  </thead>\n",
       "  <tbody>\n",
       "    <tr>\n",
       "      <th>2656</th>\n",
       "      <td>AB10 1AB</td>\n",
       "      <td>Yes</td>\n",
       "      <td>57.149606</td>\n",
       "      <td>-2.096916</td>\n",
       "      <td>394235.0</td>\n",
       "      <td>806529.0</td>\n",
       "      <td>Aberdeen City</td>\n",
       "      <td>George St/Harbour</td>\n",
       "      <td>S12000033</td>\n",
       "      <td>S13002842</td>\n",
       "      <td>Scotland</td>\n",
       "      <td>S99999999</td>\n",
       "      <td>Aberdeen North</td>\n",
       "      <td>NaN</td>\n",
       "      <td>S14000001</td>\n",
       "      <td>AB</td>\n",
       "      <td>AB10</td>\n",
       "    </tr>\n",
       "    <tr>\n",
       "      <th>2658</th>\n",
       "      <td>AB10 1AF</td>\n",
       "      <td>Yes</td>\n",
       "      <td>57.148707</td>\n",
       "      <td>-2.097806</td>\n",
       "      <td>394181.0</td>\n",
       "      <td>806429.0</td>\n",
       "      <td>Aberdeen City</td>\n",
       "      <td>George St/Harbour</td>\n",
       "      <td>S12000033</td>\n",
       "      <td>S13002842</td>\n",
       "      <td>Scotland</td>\n",
       "      <td>S99999999</td>\n",
       "      <td>Aberdeen North</td>\n",
       "      <td>NaN</td>\n",
       "      <td>S14000001</td>\n",
       "      <td>AB</td>\n",
       "      <td>AB10</td>\n",
       "    </tr>\n",
       "    <tr>\n",
       "      <th>2659</th>\n",
       "      <td>AB10 1AG</td>\n",
       "      <td>Yes</td>\n",
       "      <td>57.149051</td>\n",
       "      <td>-2.097004</td>\n",
       "      <td>394230.0</td>\n",
       "      <td>806467.0</td>\n",
       "      <td>Aberdeen City</td>\n",
       "      <td>George St/Harbour</td>\n",
       "      <td>S12000033</td>\n",
       "      <td>S13002842</td>\n",
       "      <td>Scotland</td>\n",
       "      <td>S99999999</td>\n",
       "      <td>Aberdeen North</td>\n",
       "      <td>NaN</td>\n",
       "      <td>S14000001</td>\n",
       "      <td>AB</td>\n",
       "      <td>AB10</td>\n",
       "    </tr>\n",
       "    <tr>\n",
       "      <th>2660</th>\n",
       "      <td>AB10 1AH</td>\n",
       "      <td>Yes</td>\n",
       "      <td>57.148080</td>\n",
       "      <td>-2.094664</td>\n",
       "      <td>394371.0</td>\n",
       "      <td>806359.0</td>\n",
       "      <td>Aberdeen City</td>\n",
       "      <td>George St/Harbour</td>\n",
       "      <td>S12000033</td>\n",
       "      <td>S13002842</td>\n",
       "      <td>Scotland</td>\n",
       "      <td>S99999999</td>\n",
       "      <td>Aberdeen North</td>\n",
       "      <td>NaN</td>\n",
       "      <td>S14000001</td>\n",
       "      <td>AB</td>\n",
       "      <td>AB10</td>\n",
       "    </tr>\n",
       "    <tr>\n",
       "      <th>2662</th>\n",
       "      <td>AB10 1AL</td>\n",
       "      <td>Yes</td>\n",
       "      <td>57.150058</td>\n",
       "      <td>-2.095916</td>\n",
       "      <td>394296.0</td>\n",
       "      <td>806579.0</td>\n",
       "      <td>Aberdeen City</td>\n",
       "      <td>George St/Harbour</td>\n",
       "      <td>S12000033</td>\n",
       "      <td>S13002842</td>\n",
       "      <td>Scotland</td>\n",
       "      <td>S99999999</td>\n",
       "      <td>Aberdeen North</td>\n",
       "      <td>0.0</td>\n",
       "      <td>S14000001</td>\n",
       "      <td>AB</td>\n",
       "      <td>AB10</td>\n",
       "    </tr>\n",
       "  </tbody>\n",
       "</table>\n",
       "</div>"
      ],
      "text/plain": [
       "      Postcode In Use?   Latitude  Longitude   Easting  Northing  \\\n",
       "2656  AB10 1AB     Yes  57.149606  -2.096916  394235.0  806529.0   \n",
       "2658  AB10 1AF     Yes  57.148707  -2.097806  394181.0  806429.0   \n",
       "2659  AB10 1AG     Yes  57.149051  -2.097004  394230.0  806467.0   \n",
       "2660  AB10 1AH     Yes  57.148080  -2.094664  394371.0  806359.0   \n",
       "2662  AB10 1AL     Yes  57.150058  -2.095916  394296.0  806579.0   \n",
       "\n",
       "           District               Ward District Code  Ward Code   Country  \\\n",
       "2656  Aberdeen City  George St/Harbour     S12000033  S13002842  Scotland   \n",
       "2658  Aberdeen City  George St/Harbour     S12000033  S13002842  Scotland   \n",
       "2659  Aberdeen City  George St/Harbour     S12000033  S13002842  Scotland   \n",
       "2660  Aberdeen City  George St/Harbour     S12000033  S13002842  Scotland   \n",
       "2662  Aberdeen City  George St/Harbour     S12000033  S13002842  Scotland   \n",
       "\n",
       "     County Code    Constituency  Population Constituency Code Postcode area  \\\n",
       "2656   S99999999  Aberdeen North         NaN         S14000001            AB   \n",
       "2658   S99999999  Aberdeen North         NaN         S14000001            AB   \n",
       "2659   S99999999  Aberdeen North         NaN         S14000001            AB   \n",
       "2660   S99999999  Aberdeen North         NaN         S14000001            AB   \n",
       "2662   S99999999  Aberdeen North         0.0         S14000001            AB   \n",
       "\n",
       "     Postcode district  \n",
       "2656              AB10  \n",
       "2658              AB10  \n",
       "2659              AB10  \n",
       "2660              AB10  \n",
       "2662              AB10  "
      ]
     },
     "execution_count": 108,
     "metadata": {},
     "output_type": "execute_result"
    }
   ],
   "source": [
    "postcode_sel.head()"
   ]
  },
  {
   "cell_type": "code",
   "execution_count": 114,
   "metadata": {},
   "outputs": [],
   "source": [
    "postcode_district_number = len(postcode_sel['Postcode district'].unique())"
   ]
  },
  {
   "cell_type": "code",
   "execution_count": 115,
   "metadata": {
    "colab": {
     "base_uri": "https://localhost:8080/"
    },
    "executionInfo": {
     "elapsed": 514,
     "status": "ok",
     "timestamp": 1610102608648,
     "user": {
      "displayName": "Andrea Di Antonio",
      "photoUrl": "",
      "userId": "00274323577290199816"
     },
     "user_tz": 0
    },
    "id": "el3bSx3dN7_b",
    "outputId": "15786537-7269-417e-e868-d561bf525cb1"
   },
   "outputs": [
    {
     "name": "stdout",
     "output_type": "stream",
     "text": [
      "Percentage difference in population 5.44 %\n"
     ]
    }
   ],
   "source": [
    "#Calculate what is the percentage difference between the total UK population calculated using the data\n",
    "#from the postcode_sel DataFrame and the actual value\n",
    "\n",
    "population_sum = postcode_sel['Population'].sum()\n",
    "uk_population = 66.65*10**6\n",
    "\n",
    "print( 'Percentage difference in population {per:.2f} %'.format( per = abs(population_sum-uk_population)/uk_population*100 ))"
   ]
  },
  {
   "cell_type": "markdown",
   "metadata": {
    "id": "FseEPPBzN7_b"
   },
   "source": [
    "The realatively small difference between the values allows to categorise the missing information about the population as negligile overall. This, however, can still have a significant impact locally.\\\n",
    " \\\n",
    "NOTE: The reason for this difference resides in the old nature of the postcode.csv file (released in 2019 and not uploaded ever since)"
   ]
  },
  {
   "cell_type": "code",
   "execution_count": 116,
   "metadata": {
    "executionInfo": {
     "elapsed": 743,
     "status": "ok",
     "timestamp": 1610102610794,
     "user": {
      "displayName": "Andrea Di Antonio",
      "photoUrl": "",
      "userId": "00274323577290199816"
     },
     "user_tz": 0
    },
    "id": "gkxNJMi0N7_c"
   },
   "outputs": [],
   "source": [
    "#Create a list containing the name of the District associated with the postcodes. \n",
    "#These should correspond to the local authority names in the 'electric-vehicle-charging-device-statistics-october-2020' file. \n",
    "\n",
    "district = postcode_sel['District'].unique().tolist()"
   ]
  },
  {
   "cell_type": "code",
   "execution_count": 117,
   "metadata": {
    "executionInfo": {
     "elapsed": 291,
     "status": "ok",
     "timestamp": 1610102611025,
     "user": {
      "displayName": "Andrea Di Antonio",
      "photoUrl": "",
      "userId": "00274323577290199816"
     },
     "user_tz": 0
    },
    "id": "kv0ZHFo4N7_c"
   },
   "outputs": [],
   "source": [
    "#Remove any non string value from the district list\n",
    "for item in district: \n",
    "    if not isinstance(item,str):\n",
    "        district.remove(item)"
   ]
  },
  {
   "cell_type": "code",
   "execution_count": 118,
   "metadata": {},
   "outputs": [],
   "source": [
    "#Create a list containing the code associated with each Local Authority. \n",
    "#These should correspond to the ones in the 'electric-vehicle-charging-device-statistics-october-2020' file. \n",
    "\n",
    "district_code = postcode_sel['District Code'].unique().tolist()"
   ]
  },
  {
   "cell_type": "code",
   "execution_count": 119,
   "metadata": {},
   "outputs": [],
   "source": [
    "#Remove any non string value from the district list\n",
    "for item in district_code: \n",
    "    if not isinstance(item,str):\n",
    "        district_code.remove(item)"
   ]
  },
  {
   "cell_type": "code",
   "execution_count": 120,
   "metadata": {},
   "outputs": [],
   "source": [
    "#Create a dictionary to associate each local authority with the corresponding ONS code area\n",
    "dic_la = {item:code for item,code in zip(district,district_code)}"
   ]
  },
  {
   "cell_type": "code",
   "execution_count": 318,
   "metadata": {},
   "outputs": [],
   "source": [
    "dic_code = {code:item for code,item in zip(district_code,district)}"
   ]
  },
  {
   "cell_type": "code",
   "execution_count": 121,
   "metadata": {
    "executionInfo": {
     "elapsed": 561,
     "status": "ok",
     "timestamp": 1610102611928,
     "user": {
      "displayName": "Andrea Di Antonio",
      "photoUrl": "",
      "userId": "00274323577290199816"
     },
     "user_tz": 0
    },
    "id": "bnLiCiOHN7_c"
   },
   "outputs": [],
   "source": [
    "#Create a list containing the name of the 650 UK constituencies. \n",
    "\n",
    "constituency = postcode_sel['Constituency'].unique().tolist() "
   ]
  },
  {
   "cell_type": "code",
   "execution_count": 122,
   "metadata": {
    "executionInfo": {
     "elapsed": 322,
     "status": "ok",
     "timestamp": 1610102612432,
     "user": {
      "displayName": "Andrea Di Antonio",
      "photoUrl": "",
      "userId": "00274323577290199816"
     },
     "user_tz": 0
    },
    "id": "wWUam9XWN7_c"
   },
   "outputs": [],
   "source": [
    "#Remove any non string value from the constituency list\n",
    "for item in constituency: \n",
    "    if not isinstance(item,str):\n",
    "        constituency.remove(item)"
   ]
  },
  {
   "cell_type": "code",
   "execution_count": 123,
   "metadata": {
    "executionInfo": {
     "elapsed": 62693,
     "status": "ok",
     "timestamp": 1610102675447,
     "user": {
      "displayName": "Andrea Di Antonio",
      "photoUrl": "",
      "userId": "00274323577290199816"
     },
     "user_tz": 0
    },
    "id": "WdlqKEDMN7_c"
   },
   "outputs": [],
   "source": [
    "#Create a dictionary to associate each constituency with the corresponding population\n",
    "\n",
    "dic_population = {item:int(postcode_sel.loc[postcode_sel['Constituency']==item]['Population'].sum()) for item in constituency}"
   ]
  },
  {
   "cell_type": "code",
   "execution_count": 124,
   "metadata": {
    "executionInfo": {
     "elapsed": 125340,
     "status": "ok",
     "timestamp": 1610102738510,
     "user": {
      "displayName": "Andrea Di Antonio",
      "photoUrl": "",
      "userId": "00274323577290199816"
     },
     "user_tz": 0
    },
    "id": "9enwz6WzN7_c"
   },
   "outputs": [],
   "source": [
    "#Create a dictionary to associate each constituency with the corresponding postcodes\n",
    "\n",
    "dic_constituency = {item:'' for item in constituency}\n",
    "for item in constituency: \n",
    "    list_val = postcode_sel.loc[postcode_sel['Constituency']==item]['Postcode'].values\n",
    "    list_val_sel=[]\n",
    "    for val in list_val:\n",
    "        lval = val.split(' ')[0]\n",
    "        if lval not in list_val_sel:\n",
    "            list_val_sel.append(lval)\n",
    "    dic_constituency[item] = list_val_sel"
   ]
  },
  {
   "cell_type": "code",
   "execution_count": 125,
   "metadata": {
    "executionInfo": {
     "elapsed": 162370,
     "status": "ok",
     "timestamp": 1610102775936,
     "user": {
      "displayName": "Andrea Di Antonio",
      "photoUrl": "",
      "userId": "00274323577290199816"
     },
     "user_tz": 0
    },
    "id": "hj0rPynbN7_d"
   },
   "outputs": [],
   "source": [
    "#Create a dictionary to associate each Local Authority with the corresponding postcodes\n",
    "\n",
    "dic_district = {item:'' for item in district}\n",
    "for item in district: \n",
    "    list_val = postcode_sel.loc[postcode_sel['District']==item]['Postcode'].values\n",
    "    list_val_sel=[]\n",
    "    for val in list_val:\n",
    "        lval = val.split(' ')[0]\n",
    "        if lval not in list_val_sel:\n",
    "            list_val_sel.append(lval)\n",
    "    dic_district[item] = list_val_sel"
   ]
  },
  {
   "cell_type": "code",
   "execution_count": 126,
   "metadata": {
    "executionInfo": {
     "elapsed": 198253,
     "status": "ok",
     "timestamp": 1610102812239,
     "user": {
      "displayName": "Andrea Di Antonio",
      "photoUrl": "",
      "userId": "00274323577290199816"
     },
     "user_tz": 0
    },
    "id": "BW2xqj2_N7_d"
   },
   "outputs": [],
   "source": [
    "#Create a dictionary to associate each Local Authority with the corresponding population\n",
    "\n",
    "dic_dist_population = {item:int(postcode_sel.loc[postcode_sel['District']==item]['Population'].sum()) for item in district}"
   ]
  },
  {
   "cell_type": "code",
   "execution_count": 127,
   "metadata": {
    "executionInfo": {
     "elapsed": 259747,
     "status": "ok",
     "timestamp": 1610102874086,
     "user": {
      "displayName": "Andrea Di Antonio",
      "photoUrl": "",
      "userId": "00274323577290199816"
     },
     "user_tz": 0
    },
    "id": "7j47W9AnN7_d"
   },
   "outputs": [],
   "source": [
    "#Create a dictionary to associate each constituency with the corresponding local authority\n",
    "\n",
    "dic_constituency_district = {item:'' for item in constituency}\n",
    "for item in constituency: \n",
    "    list_val = postcode_sel.loc[postcode_sel['Constituency']==item]['District'].values\n",
    "    list_val_sel=[]\n",
    "    for val in list_val:\n",
    "        if val not in list_val_sel:\n",
    "            list_val_sel.append(val)\n",
    "    dic_constituency_district[item] = list_val_sel"
   ]
  },
  {
   "cell_type": "markdown",
   "metadata": {
    "id": "zgNgm9aFN7_d"
   },
   "source": [
    "# Import public charging devices data"
   ]
  },
  {
   "cell_type": "markdown",
   "metadata": {},
   "source": [
    "## Charging devices per local authority"
   ]
  },
  {
   "cell_type": "code",
   "execution_count": 148,
   "metadata": {},
   "outputs": [],
   "source": [
    "dft_charging_devices_available_import = read_ods(dirname+'/electric-vehicle-charging-device-statistics-october-2020.ods', 'EVCD_01', headers=False)\n",
    "dft_charging_devices_available_import = dft_charging_devices_available_import[dft_charging_devices_available_import.iloc[:,1].notnull()]\n",
    "\n",
    "dft_charging_devices_available = dft_charging_devices_available_import.iloc[1:]\n",
    "dft_charging_devices_available.reset_index(inplace=True, drop=True) #reset the index\n",
    "dft_charging_devices_available.columns = dft_charging_devices_available_import.iloc[0]"
   ]
  },
  {
   "cell_type": "code",
   "execution_count": 173,
   "metadata": {},
   "outputs": [
    {
     "data": {
      "text/html": [
       "<div>\n",
       "<style scoped>\n",
       "    .dataframe tbody tr th:only-of-type {\n",
       "        vertical-align: middle;\n",
       "    }\n",
       "\n",
       "    .dataframe tbody tr th {\n",
       "        vertical-align: top;\n",
       "    }\n",
       "\n",
       "    .dataframe thead th {\n",
       "        text-align: right;\n",
       "    }\n",
       "</style>\n",
       "<table border=\"1\" class=\"dataframe\">\n",
       "  <thead>\n",
       "    <tr style=\"text-align: right;\">\n",
       "      <th>6</th>\n",
       "      <th>LA / Region Code</th>\n",
       "      <th>Local Authority / Region Name</th>\n",
       "      <th>Total public\\ncharging devices</th>\n",
       "      <th>Total public rapid\\ncharging devices</th>\n",
       "      <th>Charging devices per\\n100,000 population</th>\n",
       "      <th>Rapid Devices per\\n100,000 population</th>\n",
       "    </tr>\n",
       "  </thead>\n",
       "  <tbody>\n",
       "    <tr>\n",
       "      <th>0</th>\n",
       "      <td>K02000001</td>\n",
       "      <td>UNITED KINGDOM</td>\n",
       "      <td>19487.0</td>\n",
       "      <td>3530.0</td>\n",
       "      <td>29.173550</td>\n",
       "      <td>5.284684</td>\n",
       "    </tr>\n",
       "    <tr>\n",
       "      <th>1</th>\n",
       "      <td>K03000001</td>\n",
       "      <td>GREAT BRITAIN</td>\n",
       "      <td>19169.0</td>\n",
       "      <td>3508.0</td>\n",
       "      <td>29.534781</td>\n",
       "      <td>5.404977</td>\n",
       "    </tr>\n",
       "    <tr>\n",
       "      <th>2</th>\n",
       "      <td>E92000001</td>\n",
       "      <td>ENGLAND</td>\n",
       "      <td>16456.0</td>\n",
       "      <td>2909.0</td>\n",
       "      <td>29.235901</td>\n",
       "      <td>5.168160</td>\n",
       "    </tr>\n",
       "    <tr>\n",
       "      <th>3</th>\n",
       "      <td>E12000001</td>\n",
       "      <td>NORTH EAST</td>\n",
       "      <td>849.0</td>\n",
       "      <td>156.0</td>\n",
       "      <td>31.798455</td>\n",
       "      <td>5.842826</td>\n",
       "    </tr>\n",
       "    <tr>\n",
       "      <th>4</th>\n",
       "      <td>E06000047</td>\n",
       "      <td>County Durham</td>\n",
       "      <td>106.0</td>\n",
       "      <td>15.0</td>\n",
       "      <td>19.996453</td>\n",
       "      <td>2.829687</td>\n",
       "    </tr>\n",
       "  </tbody>\n",
       "</table>\n",
       "</div>"
      ],
      "text/plain": [
       "6 LA / Region Code Local Authority / Region Name  \\\n",
       "0        K02000001                UNITED KINGDOM   \n",
       "1        K03000001                 GREAT BRITAIN   \n",
       "2        E92000001                       ENGLAND   \n",
       "3        E12000001                    NORTH EAST   \n",
       "4        E06000047                 County Durham   \n",
       "\n",
       "6 Total public\\ncharging devices Total public rapid\\ncharging devices  \\\n",
       "0                        19487.0                               3530.0   \n",
       "1                        19169.0                               3508.0   \n",
       "2                        16456.0                               2909.0   \n",
       "3                          849.0                                156.0   \n",
       "4                          106.0                                 15.0   \n",
       "\n",
       "6 Charging devices per\\n100,000 population  \\\n",
       "0                                29.173550   \n",
       "1                                29.534781   \n",
       "2                                29.235901   \n",
       "3                                31.798455   \n",
       "4                                19.996453   \n",
       "\n",
       "6 Rapid Devices per\\n100,000 population  \n",
       "0                              5.284684  \n",
       "1                              5.404977  \n",
       "2                              5.168160  \n",
       "3                              5.842826  \n",
       "4                              2.829687  "
      ]
     },
     "execution_count": 173,
     "metadata": {},
     "output_type": "execute_result"
    }
   ],
   "source": [
    "dft_charging_devices_available.head()"
   ]
  },
  {
   "cell_type": "code",
   "execution_count": 174,
   "metadata": {
    "colab": {
     "base_uri": "https://localhost:8080/"
    },
    "executionInfo": {
     "elapsed": 253030,
     "status": "ok",
     "timestamp": 1610102874809,
     "user": {
      "displayName": "Andrea Di Antonio",
      "photoUrl": "",
      "userId": "00274323577290199816"
     },
     "user_tz": 0
    },
    "id": "WxBiLuTwN7_f",
    "outputId": "b54cdc0c-81d6-4d1a-987d-1c6b9d3e1ab2"
   },
   "outputs": [
    {
     "name": "stdout",
     "output_type": "stream",
     "text": [
      "Missing 0.00% of entire data\n"
     ]
    }
   ],
   "source": [
    "print('Missing {per:.2f}% of entire data'.format(per = dft_charging_devices_available.isnull().values.sum()/len(dft_charging_devices_available)*100)) "
   ]
  },
  {
   "cell_type": "code",
   "execution_count": 175,
   "metadata": {
    "executionInfo": {
     "elapsed": 252389,
     "status": "ok",
     "timestamp": 1610102874810,
     "user": {
      "displayName": "Andrea Di Antonio",
      "photoUrl": "",
      "userId": "00274323577290199816"
     },
     "user_tz": 0
    },
    "id": "F4KfhcNEN7_f",
    "scrolled": true
   },
   "outputs": [],
   "source": [
    "dft_charging_devices_available = dft_charging_devices_available.dropna() #Removing rows containing NaN values "
   ]
  },
  {
   "cell_type": "code",
   "execution_count": 176,
   "metadata": {},
   "outputs": [
    {
     "data": {
      "text/plain": [
       "427"
      ]
     },
     "execution_count": 176,
     "metadata": {},
     "output_type": "execute_result"
    }
   ],
   "source": [
    "len(dft_charging_devices_available)"
   ]
  },
  {
   "cell_type": "code",
   "execution_count": 177,
   "metadata": {},
   "outputs": [],
   "source": [
    "#data_try = dft_charging_devices_available[dft_charging_devices_available['LA / Region Code'].isin(district_code)]"
   ]
  },
  {
   "cell_type": "markdown",
   "metadata": {},
   "source": [
    "## Total charging devices per quarter since Q1 2015"
   ]
  },
  {
   "cell_type": "code",
   "execution_count": 191,
   "metadata": {},
   "outputs": [
    {
     "data": {
      "text/html": [
       "<div>\n",
       "<style scoped>\n",
       "    .dataframe tbody tr th:only-of-type {\n",
       "        vertical-align: middle;\n",
       "    }\n",
       "\n",
       "    .dataframe tbody tr th {\n",
       "        vertical-align: top;\n",
       "    }\n",
       "\n",
       "    .dataframe thead th {\n",
       "        text-align: right;\n",
       "    }\n",
       "</style>\n",
       "<table border=\"1\" class=\"dataframe\">\n",
       "  <thead>\n",
       "    <tr style=\"text-align: right;\">\n",
       "      <th>6</th>\n",
       "      <th>Year</th>\n",
       "      <th>Quarter</th>\n",
       "      <th>Total  Devices</th>\n",
       "      <th>Rapid Devices</th>\n",
       "    </tr>\n",
       "  </thead>\n",
       "  <tbody>\n",
       "    <tr>\n",
       "      <th>0</th>\n",
       "      <td>2015.0</td>\n",
       "      <td>Q1</td>\n",
       "      <td>2664.0</td>\n",
       "      <td>249.0</td>\n",
       "    </tr>\n",
       "    <tr>\n",
       "      <th>1</th>\n",
       "      <td>2015.0</td>\n",
       "      <td>Q2</td>\n",
       "      <td>2910.0</td>\n",
       "      <td>301.0</td>\n",
       "    </tr>\n",
       "    <tr>\n",
       "      <th>2</th>\n",
       "      <td>2015.0</td>\n",
       "      <td>Q3</td>\n",
       "      <td>3248.0</td>\n",
       "      <td>431.0</td>\n",
       "    </tr>\n",
       "    <tr>\n",
       "      <th>3</th>\n",
       "      <td>2015.0</td>\n",
       "      <td>Q4</td>\n",
       "      <td>3672.0</td>\n",
       "      <td>693.0</td>\n",
       "    </tr>\n",
       "    <tr>\n",
       "      <th>4</th>\n",
       "      <td>2016.0</td>\n",
       "      <td>Q1</td>\n",
       "      <td>3916.0</td>\n",
       "      <td>781.0</td>\n",
       "    </tr>\n",
       "  </tbody>\n",
       "</table>\n",
       "</div>"
      ],
      "text/plain": [
       "6    Year Quarter  Total  Devices  Rapid Devices\n",
       "0  2015.0     Q1           2664.0          249.0\n",
       "1  2015.0      Q2          2910.0          301.0\n",
       "2  2015.0      Q3          3248.0          431.0\n",
       "3  2015.0      Q4          3672.0          693.0\n",
       "4  2016.0     Q1           3916.0          781.0"
      ]
     },
     "execution_count": 191,
     "metadata": {},
     "output_type": "execute_result"
    }
   ],
   "source": [
    "dft_charging_devices_quarter_import = read_ods(dirname+'/electric-vehicle-charging-device-statistics-october-2020.ods', 'EVCD_02', headers=False) \n",
    "dft_charging_devices_quarter_import = dft_charging_devices_quarter_import[dft_charging_devices_quarter_import.iloc[:,1].notnull()]\n",
    "\n",
    "dft_charging_devices_quarter = dft_charging_devices_quarter_import.iloc[1:]\n",
    "dft_charging_devices_quarter.reset_index(inplace=True, drop=True) #reset the index\n",
    "dft_charging_devices_quarter.columns = dft_charging_devices_quarter_import.iloc[0]\n",
    "dft_charging_devices_quarter = dft_charging_devices_quarter.fillna(method='ffill')\n",
    "dft_charging_devices_quarter = dft_charging_devices_quarter.dropna(axis =1)\n",
    "dft_charging_devices_quarter.head()"
   ]
  },
  {
   "cell_type": "code",
   "execution_count": 190,
   "metadata": {
    "colab": {
     "base_uri": "https://localhost:8080/",
     "height": 204
    },
    "executionInfo": {
     "elapsed": 131796,
     "status": "ok",
     "timestamp": 1610102875021,
     "user": {
      "displayName": "Andrea Di Antonio",
      "photoUrl": "",
      "userId": "00274323577290199816"
     },
     "user_tz": 0
    },
    "id": "RI767sYGG_Qi",
    "outputId": "413d79c5-f57c-4361-ac3c-b74808aeac35"
   },
   "outputs": [
    {
     "data": {
      "text/html": [
       "<div>\n",
       "<style scoped>\n",
       "    .dataframe tbody tr th:only-of-type {\n",
       "        vertical-align: middle;\n",
       "    }\n",
       "\n",
       "    .dataframe tbody tr th {\n",
       "        vertical-align: top;\n",
       "    }\n",
       "\n",
       "    .dataframe thead th {\n",
       "        text-align: right;\n",
       "    }\n",
       "</style>\n",
       "<table border=\"1\" class=\"dataframe\">\n",
       "  <thead>\n",
       "    <tr style=\"text-align: right;\">\n",
       "      <th>6</th>\n",
       "      <th>Year</th>\n",
       "      <th>Quarter</th>\n",
       "      <th>Total  Devices</th>\n",
       "      <th>Rapid Devices</th>\n",
       "    </tr>\n",
       "  </thead>\n",
       "  <tbody>\n",
       "    <tr>\n",
       "      <th>18</th>\n",
       "      <td>2019.0</td>\n",
       "      <td>Q3</td>\n",
       "      <td>15116.0</td>\n",
       "      <td>2495.0</td>\n",
       "    </tr>\n",
       "    <tr>\n",
       "      <th>19</th>\n",
       "      <td>2019.0</td>\n",
       "      <td>Q4</td>\n",
       "      <td>16505.0</td>\n",
       "      <td>2829.0</td>\n",
       "    </tr>\n",
       "    <tr>\n",
       "      <th>20</th>\n",
       "      <td>2020.0</td>\n",
       "      <td>Q1</td>\n",
       "      <td>17947.0</td>\n",
       "      <td>3107.0</td>\n",
       "    </tr>\n",
       "    <tr>\n",
       "      <th>21</th>\n",
       "      <td>2020.0</td>\n",
       "      <td>Q2</td>\n",
       "      <td>18265.0</td>\n",
       "      <td>3206.0</td>\n",
       "    </tr>\n",
       "    <tr>\n",
       "      <th>22</th>\n",
       "      <td>2020.0</td>\n",
       "      <td>Q3</td>\n",
       "      <td>19487.0</td>\n",
       "      <td>3530.0</td>\n",
       "    </tr>\n",
       "  </tbody>\n",
       "</table>\n",
       "</div>"
      ],
      "text/plain": [
       "6     Year Quarter  Total  Devices  Rapid Devices\n",
       "18  2019.0      Q3         15116.0         2495.0\n",
       "19  2019.0      Q4         16505.0         2829.0\n",
       "20  2020.0     Q1          17947.0         3107.0\n",
       "21  2020.0      Q2         18265.0         3206.0\n",
       "22  2020.0      Q3         19487.0         3530.0"
      ]
     },
     "execution_count": 190,
     "metadata": {},
     "output_type": "execute_result"
    }
   ],
   "source": [
    "dft_charging_devices_quarter.tail()"
   ]
  },
  {
   "cell_type": "code",
   "execution_count": 194,
   "metadata": {
    "executionInfo": {
     "elapsed": 127465,
     "status": "ok",
     "timestamp": 1610102875023,
     "user": {
      "displayName": "Andrea Di Antonio",
      "photoUrl": "",
      "userId": "00274323577290199816"
     },
     "user_tz": 0
    },
    "id": "IqiRVcffmy8N"
   },
   "outputs": [],
   "source": [
    "df_charges_quarter = pd.DataFrame(dft_charging_devices_quarter['Total  Devices'])\n",
    "df_charges_quarter['Time'] = [str(j)+' Q'+str(i)  for j in range(2015,2021) for i in range(1,5)][:-1]\n",
    "df_charges_quarter =  df_charges_quarter.set_index('Time')"
   ]
  },
  {
   "cell_type": "code",
   "execution_count": 195,
   "metadata": {
    "colab": {
     "base_uri": "https://localhost:8080/",
     "height": 298
    },
    "executionInfo": {
     "elapsed": 127353,
     "status": "ok",
     "timestamp": 1610102875316,
     "user": {
      "displayName": "Andrea Di Antonio",
      "photoUrl": "",
      "userId": "00274323577290199816"
     },
     "user_tz": 0
    },
    "id": "ij4vZiJFV4eq",
    "outputId": "105f02cd-ac77-4445-d47b-720e2e8b6491"
   },
   "outputs": [
    {
     "data": {
      "image/png": "[encoded data removed]",
      "text/plain": [
       "<Figure size 432x288 with 1 Axes>"
      ]
     },
     "metadata": {
      "needs_background": "light"
     },
     "output_type": "display_data"
    }
   ],
   "source": [
    "## Plot the trend of the publicly available charging devices in the UK between Q1 2015 and Q3 2020 ##\n",
    "\n",
    "plt.bar(df_charges_quarter.index,df_charges_quarter['Total  Devices'],.8)\n",
    "plt.xticks(rotation = 90)\n",
    "plt.ylabel('Number of Public Charge points')\n",
    "plt.show()"
   ]
  },
  {
   "cell_type": "markdown",
   "metadata": {
    "id": "a42uh-fUN7_g"
   },
   "source": [
    "# Import ULEVs data by postcode district"
   ]
  },
  {
   "cell_type": "code",
   "execution_count": 197,
   "metadata": {
    "executionInfo": {
     "elapsed": 3390,
     "status": "ok",
     "timestamp": 1610107934869,
     "user": {
      "displayName": "Andrea Di Antonio",
      "photoUrl": "",
      "userId": "00274323577290199816"
     },
     "user_tz": 0
    },
    "id": "yFnV4JG1N7_g"
   },
   "outputs": [],
   "source": [
    "#Import Ultra Low Emission Vehicles (ULEVs) table\n",
    "dft_ulev_import = read_ods(dirname+'/veh0134.ods', 'VEH0134a')\n",
    "dft_ulev = dft_ulev_import[6:-14]\n",
    "dft_ulev.columns = dft_ulev_import.iloc[5].values\n",
    "dft_ulev.reset_index(inplace=True, drop=True)"
   ]
  },
  {
   "cell_type": "code",
   "execution_count": 198,
   "metadata": {
    "colab": {
     "base_uri": "https://localhost:8080/"
    },
    "executionInfo": {
     "elapsed": 520,
     "status": "ok",
     "timestamp": 1610107938074,
     "user": {
      "displayName": "Andrea Di Antonio",
      "photoUrl": "",
      "userId": "00274323577290199816"
     },
     "user_tz": 0
    },
    "id": "nFw-0pkSN7_g",
    "outputId": "38263506-e84e-4d49-a301-94ee7a866043",
    "scrolled": true
   },
   "outputs": [
    {
     "name": "stdout",
     "output_type": "stream",
     "text": [
      "Missing 0.27% of entire data\n"
     ]
    }
   ],
   "source": [
    "print('Missing {per:.2f}% of entire data'.format(per = len(dft_ulev[dft_ulev['2020 Q3']=='c'])/len(dft_ulev)*100) )"
   ]
  },
  {
   "cell_type": "code",
   "execution_count": 199,
   "metadata": {
    "executionInfo": {
     "elapsed": 652,
     "status": "ok",
     "timestamp": 1610107940043,
     "user": {
      "displayName": "Andrea Di Antonio",
      "photoUrl": "",
      "userId": "00274323577290199816"
     },
     "user_tz": 0
    },
    "id": "zocT8RdpN7_g"
   },
   "outputs": [],
   "source": [
    "dft_ulev = dft_ulev.replace({'c':0}) # Replace the c values with zeros so that the statistics is not altered "
   ]
  },
  {
   "cell_type": "code",
   "execution_count": 200,
   "metadata": {
    "executionInfo": {
     "elapsed": 3346,
     "status": "ok",
     "timestamp": 1610115651280,
     "user": {
      "displayName": "Andrea Di Antonio",
      "photoUrl": "",
      "userId": "00274323577290199816"
     },
     "user_tz": 0
    },
    "id": "4IEOlSWSN7_g"
   },
   "outputs": [],
   "source": [
    "#Import Battery Electric Vehicles (BEVs) table by postcode\n",
    "dft_bev_import = read_ods(dirname+'/veh0134.ods', 'VEH0134b')\n",
    "dft_bev = dft_bev_import[6:-14]\n",
    "dft_bev.columns = dft_bev_import.iloc[5].values\n",
    "dft_bev.reset_index(inplace=True, drop=True)"
   ]
  },
  {
   "cell_type": "code",
   "execution_count": 201,
   "metadata": {
    "colab": {
     "base_uri": "https://localhost:8080/"
    },
    "executionInfo": {
     "elapsed": 2594,
     "status": "ok",
     "timestamp": 1610107943367,
     "user": {
      "displayName": "Andrea Di Antonio",
      "photoUrl": "",
      "userId": "00274323577290199816"
     },
     "user_tz": 0
    },
    "id": "G9umDqNPN7_h",
    "outputId": "0091f776-edbd-4820-aa7b-5ebae7df5b2a"
   },
   "outputs": [
    {
     "name": "stdout",
     "output_type": "stream",
     "text": [
      "Missing 2.43% of entire data\n"
     ]
    }
   ],
   "source": [
    "print('Missing {per:.2f}% of entire data'.format(per = len(dft_bev[dft_bev['2020 Q3']=='c'])/len(dft_bev)*100))"
   ]
  },
  {
   "cell_type": "code",
   "execution_count": 202,
   "metadata": {
    "executionInfo": {
     "elapsed": 552,
     "status": "ok",
     "timestamp": 1610107944019,
     "user": {
      "displayName": "Andrea Di Antonio",
      "photoUrl": "",
      "userId": "00274323577290199816"
     },
     "user_tz": 0
    },
    "id": "ixS5UGfvN7_h"
   },
   "outputs": [],
   "source": [
    "dft_bev = dft_bev.replace({'c':0})"
   ]
  },
  {
   "cell_type": "code",
   "execution_count": 203,
   "metadata": {
    "colab": {
     "base_uri": "https://localhost:8080/",
     "height": 258
    },
    "executionInfo": {
     "elapsed": 563,
     "status": "ok",
     "timestamp": 1610107946445,
     "user": {
      "displayName": "Andrea Di Antonio",
      "photoUrl": "",
      "userId": "00274323577290199816"
     },
     "user_tz": 0
    },
    "id": "zW0c8pNHN7_h",
    "outputId": "b9f8b77d-8345-480c-c8a1-39ec8f461d34"
   },
   "outputs": [
    {
     "data": {
      "text/html": [
       "<div>\n",
       "<style scoped>\n",
       "    .dataframe tbody tr th:only-of-type {\n",
       "        vertical-align: middle;\n",
       "    }\n",
       "\n",
       "    .dataframe tbody tr th {\n",
       "        vertical-align: top;\n",
       "    }\n",
       "\n",
       "    .dataframe thead th {\n",
       "        text-align: right;\n",
       "    }\n",
       "</style>\n",
       "<table border=\"1\" class=\"dataframe\">\n",
       "  <thead>\n",
       "    <tr style=\"text-align: right;\">\n",
       "      <th></th>\n",
       "      <th>Postcode District 2</th>\n",
       "      <th>2020 Q3</th>\n",
       "      <th>2020 Q2</th>\n",
       "      <th>2020 Q1</th>\n",
       "      <th>2019 Q4</th>\n",
       "      <th>2019 Q3</th>\n",
       "      <th>2019 Q2</th>\n",
       "      <th>2019 Q1</th>\n",
       "      <th>2018 Q4</th>\n",
       "      <th>2018 Q3</th>\n",
       "      <th>...</th>\n",
       "      <th>2014 Q1</th>\n",
       "      <th>2013 Q4</th>\n",
       "      <th>2013 Q3</th>\n",
       "      <th>2013 Q2</th>\n",
       "      <th>2013 Q1</th>\n",
       "      <th>2012 Q4</th>\n",
       "      <th>2012 Q3</th>\n",
       "      <th>2012 Q2</th>\n",
       "      <th>2012 Q1</th>\n",
       "      <th>2011 Q4</th>\n",
       "    </tr>\n",
       "  </thead>\n",
       "  <tbody>\n",
       "    <tr>\n",
       "      <th>0</th>\n",
       "      <td>AB10</td>\n",
       "      <td>27.0</td>\n",
       "      <td>20.0</td>\n",
       "      <td>24.0</td>\n",
       "      <td>19.0</td>\n",
       "      <td>18.0</td>\n",
       "      <td>17.0</td>\n",
       "      <td>17.0</td>\n",
       "      <td>14.0</td>\n",
       "      <td>14.0</td>\n",
       "      <td>...</td>\n",
       "      <td>0.0</td>\n",
       "      <td>0.0</td>\n",
       "      <td>0.0</td>\n",
       "      <td>0.0</td>\n",
       "      <td>0.0</td>\n",
       "      <td>0.0</td>\n",
       "      <td>0.0</td>\n",
       "      <td>0.0</td>\n",
       "      <td>0.0</td>\n",
       "      <td>0.0</td>\n",
       "    </tr>\n",
       "    <tr>\n",
       "      <th>1</th>\n",
       "      <td>AB11</td>\n",
       "      <td>28.0</td>\n",
       "      <td>24.0</td>\n",
       "      <td>21.0</td>\n",
       "      <td>21.0</td>\n",
       "      <td>19.0</td>\n",
       "      <td>18.0</td>\n",
       "      <td>17.0</td>\n",
       "      <td>15.0</td>\n",
       "      <td>14.0</td>\n",
       "      <td>...</td>\n",
       "      <td>0.0</td>\n",
       "      <td>0.0</td>\n",
       "      <td>0.0</td>\n",
       "      <td>0.0</td>\n",
       "      <td>0.0</td>\n",
       "      <td>0.0</td>\n",
       "      <td>0.0</td>\n",
       "      <td>0.0</td>\n",
       "      <td>0.0</td>\n",
       "      <td>0.0</td>\n",
       "    </tr>\n",
       "    <tr>\n",
       "      <th>2</th>\n",
       "      <td>AB12</td>\n",
       "      <td>68.0</td>\n",
       "      <td>52.0</td>\n",
       "      <td>58.0</td>\n",
       "      <td>45.0</td>\n",
       "      <td>41.0</td>\n",
       "      <td>36.0</td>\n",
       "      <td>32.0</td>\n",
       "      <td>29.0</td>\n",
       "      <td>24.0</td>\n",
       "      <td>...</td>\n",
       "      <td>0.0</td>\n",
       "      <td>0.0</td>\n",
       "      <td>0.0</td>\n",
       "      <td>0.0</td>\n",
       "      <td>0.0</td>\n",
       "      <td>0.0</td>\n",
       "      <td>0.0</td>\n",
       "      <td>0.0</td>\n",
       "      <td>0.0</td>\n",
       "      <td>0.0</td>\n",
       "    </tr>\n",
       "    <tr>\n",
       "      <th>3</th>\n",
       "      <td>AB13</td>\n",
       "      <td>10.0</td>\n",
       "      <td>9.0</td>\n",
       "      <td>11.0</td>\n",
       "      <td>11.0</td>\n",
       "      <td>10.0</td>\n",
       "      <td>9.0</td>\n",
       "      <td>9.0</td>\n",
       "      <td>8.0</td>\n",
       "      <td>5.0</td>\n",
       "      <td>...</td>\n",
       "      <td>0.0</td>\n",
       "      <td>0.0</td>\n",
       "      <td>0.0</td>\n",
       "      <td>0.0</td>\n",
       "      <td>0.0</td>\n",
       "      <td>0.0</td>\n",
       "      <td>0.0</td>\n",
       "      <td>0.0</td>\n",
       "      <td>0.0</td>\n",
       "      <td>0.0</td>\n",
       "    </tr>\n",
       "    <tr>\n",
       "      <th>4</th>\n",
       "      <td>AB14</td>\n",
       "      <td>15.0</td>\n",
       "      <td>10.0</td>\n",
       "      <td>10.0</td>\n",
       "      <td>10.0</td>\n",
       "      <td>9.0</td>\n",
       "      <td>7.0</td>\n",
       "      <td>7.0</td>\n",
       "      <td>6.0</td>\n",
       "      <td>5.0</td>\n",
       "      <td>...</td>\n",
       "      <td>0.0</td>\n",
       "      <td>0.0</td>\n",
       "      <td>0.0</td>\n",
       "      <td>0.0</td>\n",
       "      <td>0.0</td>\n",
       "      <td>0.0</td>\n",
       "      <td>0.0</td>\n",
       "      <td>0.0</td>\n",
       "      <td>0.0</td>\n",
       "      <td>0.0</td>\n",
       "    </tr>\n",
       "  </tbody>\n",
       "</table>\n",
       "<p>5 rows × 37 columns</p>\n",
       "</div>"
      ],
      "text/plain": [
       "  Postcode District 2  2020 Q3  2020 Q2  2020 Q1  2019 Q4  2019 Q3  2019 Q2  \\\n",
       "0                AB10     27.0     20.0     24.0     19.0     18.0     17.0   \n",
       "1                AB11     28.0     24.0     21.0     21.0     19.0     18.0   \n",
       "2                AB12     68.0     52.0     58.0     45.0     41.0     36.0   \n",
       "3                AB13     10.0      9.0     11.0     11.0     10.0      9.0   \n",
       "4                AB14     15.0     10.0     10.0     10.0      9.0      7.0   \n",
       "\n",
       "   2019 Q1  2018 Q4  2018 Q3  ...  2014 Q1  2013 Q4  2013 Q3  2013 Q2  \\\n",
       "0     17.0     14.0     14.0  ...      0.0      0.0      0.0      0.0   \n",
       "1     17.0     15.0     14.0  ...      0.0      0.0      0.0      0.0   \n",
       "2     32.0     29.0     24.0  ...      0.0      0.0      0.0      0.0   \n",
       "3      9.0      8.0      5.0  ...      0.0      0.0      0.0      0.0   \n",
       "4      7.0      6.0      5.0  ...      0.0      0.0      0.0      0.0   \n",
       "\n",
       "   2013 Q1  2012 Q4  2012 Q3  2012 Q2  2012 Q1  2011 Q4  \n",
       "0      0.0      0.0      0.0      0.0      0.0      0.0  \n",
       "1      0.0      0.0      0.0      0.0      0.0      0.0  \n",
       "2      0.0      0.0      0.0      0.0      0.0      0.0  \n",
       "3      0.0      0.0      0.0      0.0      0.0      0.0  \n",
       "4      0.0      0.0      0.0      0.0      0.0      0.0  \n",
       "\n",
       "[5 rows x 37 columns]"
      ]
     },
     "execution_count": 203,
     "metadata": {},
     "output_type": "execute_result"
    }
   ],
   "source": [
    "dft_bev.head()"
   ]
  },
  {
   "cell_type": "code",
   "execution_count": 204,
   "metadata": {
    "executionInfo": {
     "elapsed": 836,
     "status": "ok",
     "timestamp": 1610108367922,
     "user": {
      "displayName": "Andrea Di Antonio",
      "photoUrl": "",
      "userId": "00274323577290199816"
     },
     "user_tz": 0
    },
    "id": "X59PI79G6tv_"
   },
   "outputs": [],
   "source": [
    "dft_bev_nhb = dft_bev.set_index('Postcode District 2')"
   ]
  },
  {
   "cell_type": "code",
   "execution_count": 205,
   "metadata": {
    "colab": {
     "base_uri": "https://localhost:8080/",
     "height": 314
    },
    "executionInfo": {
     "elapsed": 884,
     "status": "ok",
     "timestamp": 1610113330657,
     "user": {
      "displayName": "Andrea Di Antonio",
      "photoUrl": "",
      "userId": "00274323577290199816"
     },
     "user_tz": 0
    },
    "id": "OVx8RcSh8C-a",
    "outputId": "0d2dc656-c6e0-4242-dab5-558bd1f0eb7a"
   },
   "outputs": [
    {
     "data": {
      "image/png": "[encoded data removed]",
      "text/plain": [
       "<Figure size 432x288 with 1 Axes>"
      ]
     },
     "metadata": {
      "needs_background": "light"
     },
     "output_type": "display_data"
    }
   ],
   "source": [
    "##Plot the NEIGHBOURHOOD level (i.e. Partial Postcode) of BEVs uptake\n",
    "\n",
    "nhb_val = 'AB10'\n",
    "nhb_sel = dft_bev_nhb.loc[nhb_val].reindex(index=dft_bev_nhb.loc[nhb_val].index[::-1])\n",
    "plt.bar(nhb_sel.index,nhb_sel,.5)\n",
    "plt.xticks(rotation = 90)\n",
    "plt.ylabel('Number of BEVs')\n",
    "plt.title('BEVs uptake in '+nhb_val)\n",
    "plt.show() "
   ]
  },
  {
   "cell_type": "code",
   "execution_count": 206,
   "metadata": {
    "id": "cjc4BhAvN7_h"
   },
   "outputs": [],
   "source": [
    "#Import Plug-in Hybrid Electric Vehicles (PHEVs) data\n",
    "dft_phev_import = read_ods(dirname+'/veh0134.ods', 'VEH0134c')\n",
    "dft_phev = dft_phev_import[6:-14]\n",
    "dft_phev.columns = dft_phev_import.iloc[5].values\n",
    "dft_phev.reset_index(inplace=True, drop=True)"
   ]
  },
  {
   "cell_type": "code",
   "execution_count": 207,
   "metadata": {
    "colab": {
     "base_uri": "https://localhost:8080/"
    },
    "executionInfo": {
     "elapsed": 3346,
     "status": "ok",
     "timestamp": 1610020214962,
     "user": {
      "displayName": "Andrea Di Antonio",
      "photoUrl": "",
      "userId": "00274323577290199816"
     },
     "user_tz": 0
    },
    "id": "txIoscoMN7_h",
    "outputId": "08e31ee1-50c4-4c42-8b0c-d8b4dfc16ac2"
   },
   "outputs": [
    {
     "name": "stdout",
     "output_type": "stream",
     "text": [
      "Missing 4.56% of entire data\n"
     ]
    }
   ],
   "source": [
    "print('Missing {per:.2f}% of entire data'.format(per = len(dft_phev[dft_phev['2020 Q3']=='c'])/len(dft_phev)*100))"
   ]
  },
  {
   "cell_type": "code",
   "execution_count": 208,
   "metadata": {
    "id": "wSawjJkMN7_i",
    "scrolled": true
   },
   "outputs": [],
   "source": [
    "dft_phev = dft_phev.replace({'c':0})"
   ]
  },
  {
   "cell_type": "markdown",
   "metadata": {},
   "source": [
    "# Import ULEVs data by local authority"
   ]
  },
  {
   "cell_type": "code",
   "execution_count": 209,
   "metadata": {},
   "outputs": [],
   "source": [
    "#Import Battery Electric Vehicles (BEVs) table by LA\n",
    "dft_bev_la_import = read_ods(dirname+'/veh0132.ods', 'VEH0132b')\n",
    "dft_bev_la = dft_bev_la_import[6:-14]\n",
    "dft_bev_la.columns = dft_bev_la_import.iloc[5].values\n",
    "dft_bev_la.reset_index(inplace=True, drop=True)"
   ]
  },
  {
   "cell_type": "code",
   "execution_count": 210,
   "metadata": {},
   "outputs": [],
   "source": [
    "dft_bev_la_sel = dft_bev_la[dft_bev_la['ONS LA Code'].isin(district_code)]\n",
    "dft_bev_la_sel = dft_bev_la_sel.drop(['Region/Local Authority'],axis = 1).set_index(['ONS LA Code'])\n",
    "dft_bev_la_sel = dft_bev_la_sel.replace({'c':0})"
   ]
  },
  {
   "cell_type": "code",
   "execution_count": 211,
   "metadata": {
    "scrolled": true
   },
   "outputs": [
    {
     "name": "stdout",
     "output_type": "stream",
     "text": [
      "Missing 2.11% of entire data\n"
     ]
    }
   ],
   "source": [
    "print('Missing {per:.2f}% of entire data'.format(per = 100-(len(dft_bev_la_sel))/len(district_code)*100))"
   ]
  },
  {
   "cell_type": "code",
   "execution_count": 213,
   "metadata": {
    "scrolled": false
   },
   "outputs": [
    {
     "data": {
      "image/png": "[encoded data removed]",
      "text/plain": [
       "<Figure size 432x288 with 1 Axes>"
      ]
     },
     "metadata": {
      "needs_background": "light"
     },
     "output_type": "display_data"
    }
   ],
   "source": [
    "##Plot the Local Authority level of BEVs uptake\n",
    "\n",
    "la_val = 'Cambridge'\n",
    "la_sel = dft_bev_la_sel.loc[dic_la[la_val]].reindex(index=dft_bev_la_sel.loc[dic_la[la_val]].index[::-1])\n",
    "plt.bar(la_sel.index,la_sel,.5)\n",
    "plt.xticks(rotation = 90)\n",
    "plt.ylabel('Number of BEVs')\n",
    "plt.title('BEVs uptake in '+la_val)\n",
    "plt.show() "
   ]
  },
  {
   "cell_type": "code",
   "execution_count": 214,
   "metadata": {},
   "outputs": [],
   "source": [
    "dft_bev_all = pd.DataFrame(dft_bev_la.iloc[0][2:])\n",
    "dft_bev_all = dft_bev_all.reindex(index=dft_bev_all.index[::-1]) # Sort the index (Time) in ascending order \n",
    "dft_bev_all.index.names =['Time']\n",
    "dft_bev_all.columns =['Total BEVs']"
   ]
  },
  {
   "cell_type": "code",
   "execution_count": 364,
   "metadata": {},
   "outputs": [
    {
     "data": {
      "image/png": "[encoded data removed]",
      "text/plain": [
       "<Figure size 1296x576 with 1 Axes>"
      ]
     },
     "metadata": {
      "needs_background": "light"
     },
     "output_type": "display_data"
    }
   ],
   "source": [
    "df_charges_bev = pd.concat([df_charges_quarter,dft_bev_all], axis = 1, join = 'inner')\n",
    "\n",
    "x = np.arange(len(df_charges_bev.index))\n",
    "width = 0.35  # the width of the bars\n",
    "\n",
    "fig, ax = plt.subplots(figsize=(18,8))\n",
    "rects1 = ax.bar(x - width/2, df_charges_bev['Total  Devices'], width, label='Devices')\n",
    "rects2 = ax.bar(x + width/2, df_charges_bev['Total BEVs'], width, label='BEVs')\n",
    "\n",
    "# Add some text for labels, title and custom x-axis tick labels, etc.\n",
    "ax.set_ylabel('Total number')\n",
    "ax.set_title('BEVs VS Devices Quarterly Trend')\n",
    "ax.set_xticks(x)\n",
    "ax.set_xticklabels(df_charges_bev.index, rotation = 90)\n",
    "ax.legend()\n",
    "\n",
    "fig.tight_layout()\n",
    "\n",
    "plt.show()\n",
    "#fig.savefig('Devices_BEVs_comparision.png', bbox_inches='tight', dpi = 300)"
   ]
  },
  {
   "cell_type": "markdown",
   "metadata": {},
   "source": [
    "# Import ALL vehicles data by postcode district"
   ]
  },
  {
   "cell_type": "code",
   "execution_count": 216,
   "metadata": {},
   "outputs": [],
   "source": [
    "sheet_index = sorted(['2020', '2019', '2018', '2017', '2016', '2015', '2014', '2013', '2012', '2011'])"
   ]
  },
  {
   "cell_type": "code",
   "execution_count": 218,
   "metadata": {},
   "outputs": [],
   "source": [
    "df = []\n",
    "\n",
    "for idx in sheet_index:\n",
    "    dft_all_import = read_ods(dirname+'/veh0122.ods', idx)\n",
    "    dft_all_import = dft_all_import[dft_all_import.iloc[:,1].notnull()]\n",
    "    dft_all = dft_all_import[2:]\n",
    "    dft_all.columns = dft_all_import.iloc[1].values\n",
    "    dft_all = dft_all.set_index('Postcode District')\n",
    "    dft_all_sel = dft_all['Cars']\n",
    "    dft_all_sel.columns = [idx +' Q'+str(i+1) for i in range(len(dft_all_sel.columns))]\n",
    "    df.append(dft_all_sel)"
   ]
  },
  {
   "cell_type": "code",
   "execution_count": 219,
   "metadata": {},
   "outputs": [],
   "source": [
    "dft_all_merged = pd.concat(df, axis =1,join='inner')\n",
    "dft_all_merged = dft_all_merged.iloc[:,3:]"
   ]
  },
  {
   "cell_type": "code",
   "execution_count": 224,
   "metadata": {},
   "outputs": [
    {
     "name": "stdout",
     "output_type": "stream",
     "text": [
      "Missing 0.32% of entire data\n"
     ]
    }
   ],
   "source": [
    "print('Missing {per:.2f}% of entire data'.format(per = len(dft_all_merged[dft_all_merged['2020 Q3']=='c'])/len(dft_all_merged)*100))"
   ]
  },
  {
   "cell_type": "code",
   "execution_count": 226,
   "metadata": {},
   "outputs": [],
   "source": [
    "dft_all_merged =dft_all_merged.replace({'c':0})"
   ]
  },
  {
   "cell_type": "code",
   "execution_count": 227,
   "metadata": {},
   "outputs": [],
   "source": [
    "df_intersect =[]\n",
    "for item in dft_all_merged.index: \n",
    "    if item in dft_bev_nhb.index.tolist():\n",
    "        df_intersect.append(item)"
   ]
  },
  {
   "cell_type": "code",
   "execution_count": 242,
   "metadata": {},
   "outputs": [
    {
     "name": "stdout",
     "output_type": "stream",
     "text": [
      "Missing 15.04% of the entire postcode districts\n"
     ]
    }
   ],
   "source": [
    "print('Missing {per:.2f}% of the entire postcode districts'.format(per = (1 -len(df_intersect)/postcode_district_number)*100))"
   ]
  },
  {
   "cell_type": "code",
   "execution_count": 243,
   "metadata": {},
   "outputs": [],
   "source": [
    "dft_bev_nhb_sel = dft_bev_nhb[dft_bev_nhb.index.isin(df_intersect)]\n",
    "dft_all_merged_sel = dft_all_merged[dft_all_merged.index.isin(df_intersect)]"
   ]
  },
  {
   "cell_type": "code",
   "execution_count": 244,
   "metadata": {},
   "outputs": [],
   "source": [
    "dft_ratio = dft_bev_nhb_sel/dft_all_merged_sel*100"
   ]
  },
  {
   "cell_type": "code",
   "execution_count": 245,
   "metadata": {},
   "outputs": [
    {
     "data": {
      "image/png": "[encoded data removed]",
      "text/plain": [
       "<Figure size 432x288 with 1 Axes>"
      ]
     },
     "metadata": {
      "needs_background": "light"
     },
     "output_type": "display_data"
    }
   ],
   "source": [
    "##Plot the NEIGHBOURHOOD level (i.e. Partial Postcode) of BEVs proportion to total car fleet\n",
    "\n",
    "nhb_val = 'CB3'\n",
    "nhb_sel = dft_ratio.loc[nhb_val]\n",
    "plt.bar(nhb_sel.index,nhb_sel,.5)\n",
    "plt.xticks(rotation = 90)\n",
    "plt.ylabel('% of BEVs of total car fleet')\n",
    "plt.title('BEVs percentage of total car fleet in '+nhb_val)\n",
    "plt.show() "
   ]
  },
  {
   "cell_type": "markdown",
   "metadata": {
    "id": "8Jj9xPNuN7_i"
   },
   "source": [
    "# Import private chargers data"
   ]
  },
  {
   "cell_type": "code",
   "execution_count": 247,
   "metadata": {},
   "outputs": [
    {
     "data": {
      "text/html": [
       "<div>\n",
       "<style scoped>\n",
       "    .dataframe tbody tr th:only-of-type {\n",
       "        vertical-align: middle;\n",
       "    }\n",
       "\n",
       "    .dataframe tbody tr th {\n",
       "        vertical-align: top;\n",
       "    }\n",
       "\n",
       "    .dataframe thead th {\n",
       "        text-align: right;\n",
       "    }\n",
       "</style>\n",
       "<table border=\"1\" class=\"dataframe\">\n",
       "  <thead>\n",
       "    <tr style=\"text-align: right;\">\n",
       "      <th></th>\n",
       "      <th>EVHS Grants</th>\n",
       "      <th>DRS Grants</th>\n",
       "    </tr>\n",
       "    <tr>\n",
       "      <th>Postcode District</th>\n",
       "      <th></th>\n",
       "      <th></th>\n",
       "    </tr>\n",
       "  </thead>\n",
       "  <tbody>\n",
       "    <tr>\n",
       "      <th>AB1</th>\n",
       "      <td>0</td>\n",
       "      <td>0</td>\n",
       "    </tr>\n",
       "    <tr>\n",
       "      <th>AB10</th>\n",
       "      <td>17</td>\n",
       "      <td>…</td>\n",
       "    </tr>\n",
       "    <tr>\n",
       "      <th>AB11</th>\n",
       "      <td>…</td>\n",
       "      <td>0</td>\n",
       "    </tr>\n",
       "    <tr>\n",
       "      <th>AB12</th>\n",
       "      <td>59</td>\n",
       "      <td>…</td>\n",
       "    </tr>\n",
       "    <tr>\n",
       "      <th>AB13</th>\n",
       "      <td>19</td>\n",
       "      <td>…</td>\n",
       "    </tr>\n",
       "  </tbody>\n",
       "</table>\n",
       "</div>"
      ],
      "text/plain": [
       "                  EVHS Grants DRS Grants\n",
       "Postcode District                       \n",
       "AB1                         0          0\n",
       "AB10                       17          …\n",
       "AB11                        …          0\n",
       "AB12                       59          …\n",
       "AB13                       19          …"
      ]
     },
     "execution_count": 247,
     "metadata": {},
     "output_type": "execute_result"
    }
   ],
   "source": [
    "fund_df_import = pd.read_excel(dirname+\"/EIR_E0019012.xlsx\")\n",
    "fund_df_import = fund_df_import[fund_df_import.iloc[:,2].notnull()].dropna(axis =1)\n",
    "\n",
    "fund_df = fund_df_import[1:]\n",
    "fund_df.columns = fund_df_import.iloc[0].values\n",
    "fund_df =fund_df.set_index('Postcode District')\n",
    "fund_df.head()"
   ]
  },
  {
   "cell_type": "code",
   "execution_count": 250,
   "metadata": {
    "id": "A5OGoh9CN7_i",
    "scrolled": true
   },
   "outputs": [],
   "source": [
    "# As stated in the file, all postcode districts with counts of at least one but fewer than ten have are indicated as \"…\".\n",
    "#For statistical purpose, a lower estimate of this value is 1 and therefore \"…\" is replaced by the value 1. \n",
    "fund_df = fund_df.replace({'…':1})"
   ]
  },
  {
   "cell_type": "markdown",
   "metadata": {
    "id": "nsyPwPueN7_j"
   },
   "source": [
    "# Create a DataFrame containing the necessary information per Local Authority\n",
    "\n"
   ]
  },
  {
   "cell_type": "code",
   "execution_count": 251,
   "metadata": {
    "id": "mKP2zsTZN7_j"
   },
   "outputs": [],
   "source": [
    "def private_or_public_charging(private_devices,electric_cars):\n",
    "     if private_devices >= electric_cars: \n",
    "        return 'Predomintantly private'\n",
    "     else: \n",
    "        return 'Predomintantly public'"
   ]
  },
  {
   "cell_type": "code",
   "execution_count": 256,
   "metadata": {},
   "outputs": [],
   "source": [
    "columns_name = ['Local Authority','Total electric vehicles (BEVs)','Total public charging devices','Total public charging devices per 100,000 population','Total private charging devices','Charging devices usage']\n",
    "summary_dataframe = pd.DataFrame({item:[] for item in columns_name})\n",
    "\n",
    "for area in district:\n",
    "    total_electric_vehicles = dft_bev_la[dft_bev_la['ONS LA Code']==dic_la[area]]['2020 Q3'].mean()\n",
    "    public_charging_devices,public_charging_devices_density = dft_charging_devices_available[dft_charging_devices_available['LA / Region Code']==dic_la[area]][['Total public\\ncharging devices','Charging devices per\\n100,000 population']].mean()\n",
    "    evhs_grant,drs_grant = fund_df[fund_df.index.isin(dic_district[district[0]])][['EVHS Grants','DRS Grants']].sum()\n",
    "    \n",
    "    \n",
    "    total_public_charging_devices = int(public_charging_devices) \n",
    "    total_public_charging_devices_density = public_charging_devices_density\n",
    "    total_private_charging_devices = int(evhs_grant + drs_grant)\n",
    "    charging_devices_usage = private_or_public_charging(total_private_charging_devices, total_electric_vehicles)\n",
    "    \n",
    "    summary_dataframe = summary_dataframe.append(pd.DataFrame([[area,total_electric_vehicles,total_public_charging_devices,total_public_charging_devices_density,total_private_charging_devices,charging_devices_usage]], columns = columns_name))\n",
    "    \n",
    "summary_dataframe = summary_dataframe.set_index('Local Authority') # Set the Local Authority name as the DataFrame index"
   ]
  },
  {
   "cell_type": "markdown",
   "metadata": {
    "id": "VRpFbKl4N7_k"
   },
   "source": [
    "# Print the lookup table for each Local Authority"
   ]
  },
  {
   "cell_type": "code",
   "execution_count": 365,
   "metadata": {},
   "outputs": [
    {
     "name": "stdout",
     "output_type": "stream",
     "text": [
      "Summary for the County Durham Local Authority:\n",
      "\n",
      "Total electric vehicles (BEVs)                                      459.000000\n",
      "Total public charging devices                                       227.000000\n",
      "Total public charging devices per 100,000 population                 78.037712\n",
      "Total private charging devices                                      463.000000\n",
      "Charging devices usage                                  Predomintantly private\n",
      "Name: Brighton and Hove, dtype: object\n"
     ]
    }
   ],
   "source": [
    "##Lookup table for each local authority number of EVs, public and private charging devices \n",
    "la_code = 'E06000047'\n",
    "\n",
    "print('Summary for the '+dic_code[la_code]+' Local Authority:\\n')\n",
    "print(summary_dataframe.loc[la_name])"
   ]
  },
  {
   "cell_type": "markdown",
   "metadata": {},
   "source": [
    "# Identify Local Authorities where the commercial fleet is statistically significant"
   ]
  },
  {
   "cell_type": "code",
   "execution_count": 412,
   "metadata": {},
   "outputs": [],
   "source": [
    "#Subselect for the dataframe the local authorities where there are more EVs than private chargers \n",
    "ratios = summary_dataframe['Total electric vehicles (BEVs)']/summary_dataframe['Total private charging devices']\n",
    "old_ratios = len(ratios)"
   ]
  },
  {
   "cell_type": "code",
   "execution_count": 395,
   "metadata": {
    "scrolled": true
   },
   "outputs": [
    {
     "data": {
      "text/html": [
       "<div>\n",
       "<style scoped>\n",
       "    .dataframe tbody tr th:only-of-type {\n",
       "        vertical-align: middle;\n",
       "    }\n",
       "\n",
       "    .dataframe tbody tr th {\n",
       "        vertical-align: top;\n",
       "    }\n",
       "\n",
       "    .dataframe thead th {\n",
       "        text-align: right;\n",
       "    }\n",
       "</style>\n",
       "<table border=\"1\" class=\"dataframe\">\n",
       "  <thead>\n",
       "    <tr style=\"text-align: right;\">\n",
       "      <th>5</th>\n",
       "      <th>ONS LA Code</th>\n",
       "      <th>Region/Local Authority</th>\n",
       "      <th>Private</th>\n",
       "      <th>Company</th>\n",
       "    </tr>\n",
       "  </thead>\n",
       "  <tbody>\n",
       "    <tr>\n",
       "      <th>0</th>\n",
       "      <td>K02000001</td>\n",
       "      <td>United Kingdom</td>\n",
       "      <td>177147.0</td>\n",
       "      <td>190476.0</td>\n",
       "    </tr>\n",
       "    <tr>\n",
       "      <th>1</th>\n",
       "      <td>K03000001</td>\n",
       "      <td>Great Britain</td>\n",
       "      <td>175101.0</td>\n",
       "      <td>188336.0</td>\n",
       "    </tr>\n",
       "    <tr>\n",
       "      <th>2</th>\n",
       "      <td>E92000001</td>\n",
       "      <td>England</td>\n",
       "      <td>158025.0</td>\n",
       "      <td>175937.0</td>\n",
       "    </tr>\n",
       "    <tr>\n",
       "      <th>3</th>\n",
       "      <td>E12000001</td>\n",
       "      <td>North East</td>\n",
       "      <td>4093.0</td>\n",
       "      <td>1462.0</td>\n",
       "    </tr>\n",
       "    <tr>\n",
       "      <th>4</th>\n",
       "      <td>E06000047</td>\n",
       "      <td>County Durham UA</td>\n",
       "      <td>846.0</td>\n",
       "      <td>267.0</td>\n",
       "    </tr>\n",
       "  </tbody>\n",
       "</table>\n",
       "</div>"
      ],
      "text/plain": [
       "5 ONS LA Code Region/Local Authority   Private   Company\n",
       "0   K02000001         United Kingdom  177147.0  190476.0\n",
       "1   K03000001          Great Britain  175101.0  188336.0\n",
       "2   E92000001                England  158025.0  175937.0\n",
       "3   E12000001             North East    4093.0    1462.0\n",
       "4   E06000047       County Durham UA     846.0     267.0"
      ]
     },
     "execution_count": 395,
     "metadata": {},
     "output_type": "execute_result"
    }
   ],
   "source": [
    "#Import ULEVs keepership table by LA\n",
    "dft_keep_import = read_ods(dirname+'/veh0132.ods', 'VEH0132d')\n",
    "dft_keep_import = dft_keep_import[dft_keep_import.iloc[:,1].notnull()]\n",
    "\n",
    "dft_keep = dft_keep_import[1:]\n",
    "dft_keep.columns = dft_keep_import.iloc[0]\n",
    "dft_keep.reset_index(inplace=True, drop=True)\n",
    "dft_keep.head()"
   ]
  },
  {
   "cell_type": "code",
   "execution_count": 396,
   "metadata": {},
   "outputs": [],
   "source": [
    "dft_keep_sel = dft_keep[dft_keep['ONS LA Code'].isin(district_code)]"
   ]
  },
  {
   "cell_type": "code",
   "execution_count": 397,
   "metadata": {},
   "outputs": [],
   "source": [
    "#Select LAs for which the number of company ULEVs is twice the number of private ULEVs\n",
    "\n",
    "outliers_code = dft_keep_sel[dft_keep_sel['Company'] > 2 *dft_keep_sel['Private']]['ONS LA Code'].tolist()\n",
    "outliers_la = [dic_code[item] for item in outliers]"
   ]
  },
  {
   "cell_type": "code",
   "execution_count": 416,
   "metadata": {},
   "outputs": [
    {
     "name": "stdout",
     "output_type": "stream",
     "text": [
      "21 local authorities were removed from the list (5.54% of the data)\n",
      "0.00% of the data is infinity\n",
      "2.23% of the data is NaN\n"
     ]
    }
   ],
   "source": [
    "#Remove the previously identified LAs from the selected list rsel\n",
    "\n",
    "ratios =ratios[~ratios.index.isin(outliers_la)]\n",
    "\n",
    "print('{val} local authorities were removed from the list ({per:.2f}% of the data)'.format(val = old_ratios-len(ratios), per = (1-len(ratios)/old_ratios)*100 ))\n",
    "\n",
    "ratios_sel=ratios_sel[ratios_sel!=np.inf]\n",
    "\n",
    "print('{per:.2f}% of the data is infinity'.format(per = (1 -len(ratios_sel)/len(ratios))*100))\n",
    "\n",
    "ratios_sel=ratios_sel.dropna()\n",
    "\n",
    "print('{per:.2f}% of the data is NaN'.format(per = (1 - len(ratios_sel)/len(ratios))*100))\n",
    "old_rsel = len(ratios_sel)"
   ]
  },
  {
   "cell_type": "markdown",
   "metadata": {},
   "source": [
    "# Investigate top and bottom 10 Local authorities for public charger usage"
   ]
  },
  {
   "cell_type": "code",
   "execution_count": 417,
   "metadata": {},
   "outputs": [
    {
     "name": "stdout",
     "output_type": "stream",
     "text": [
      "17.60% of the local authorities have more BEVs than private chargers\n"
     ]
    }
   ],
   "source": [
    "ratios_gt_one = ratios_sel[ratios_sel >1]\n",
    "\n",
    "print('{per:.2f}% of the local authorities have more BEVs than private chargers'.format(per = len(ratios_gt_one)/len(ratios)*100))"
   ]
  },
  {
   "cell_type": "code",
   "execution_count": 418,
   "metadata": {},
   "outputs": [
    {
     "name": "stdout",
     "output_type": "stream",
     "text": [
      "1.6128424011793343\n",
      "1.3736501079913608\n"
     ]
    }
   ],
   "source": [
    "#Mean and median values for the BEVs/Private chargers > 1, respectively \n",
    "print(ratios_gt_one.mean())\n",
    "print(ratios_gt_one.median())"
   ]
  },
  {
   "cell_type": "code",
   "execution_count": 419,
   "metadata": {},
   "outputs": [
    {
     "name": "stdout",
     "output_type": "stream",
     "text": [
      "0.6488539580482435\n"
     ]
    }
   ],
   "source": [
    "#Standard Deviation values for the BEVs/Private chargers > 1\n",
    "print(ratios_gt_one.std())"
   ]
  },
  {
   "cell_type": "code",
   "execution_count": 420,
   "metadata": {
    "scrolled": true
   },
   "outputs": [
    {
     "data": {
      "image/png": "[encoded data removed]",
      "text/plain": [
       "<Figure size 1152x648 with 1 Axes>"
      ]
     },
     "metadata": {
      "needs_background": "light"
     },
     "output_type": "display_data"
    }
   ],
   "source": [
    "x = np.arange(len(ratios_gt_one))\n",
    "width = 0.7  # the width of the bars\n",
    "\n",
    "fig, ax = plt.subplots(figsize=(16,9))\n",
    "rects1 = ax.bar(x, ratios_gt_one, width)\n",
    "\n",
    "# Add some text for labels, title and custom x-axis tick labels, etc.\n",
    "ax.set_ylabel('BEVs/Private chargers')\n",
    "ax.set_title('BEVs/Private chargers ratio > 1')\n",
    "ax.set_xticks(x)\n",
    "ax.set_xlim(0,len(ratios_gt_one))\n",
    "ax.set_xticklabels(ratios_gt_one.index, rotation = 90)\n",
    "#ax.legend()\n",
    "\n",
    "fig.tight_layout()\n",
    "\n",
    "plt.show()"
   ]
  },
  {
   "cell_type": "code",
   "execution_count": 421,
   "metadata": {},
   "outputs": [
    {
     "data": {
      "text/plain": [
       "Local Authority\n",
       "Westminster          3.710583\n",
       "Hillingdon           3.643629\n",
       "Barnet               3.505400\n",
       "Wiltshire            2.984881\n",
       "Birmingham           2.676026\n",
       "Warwick              2.606911\n",
       "Cornwall             2.388769\n",
       "City of Edinburgh    2.384449\n",
       "Sheffield            2.315335\n",
       "Camden               2.222462\n",
       "dtype: float64"
      ]
     },
     "execution_count": 421,
     "metadata": {},
     "output_type": "execute_result"
    }
   ],
   "source": [
    "#Top 10 Local Authorities with the highest BEVs/private chargers ratio\n",
    "ratios_gt_one.sort_values(ascending = False).head(10)"
   ]
  },
  {
   "cell_type": "code",
   "execution_count": 422,
   "metadata": {
    "scrolled": true
   },
   "outputs": [
    {
     "data": {
      "text/plain": [
       "Local Authority\n",
       "Horsham                1.019438\n",
       "Bradford               1.019438\n",
       "Trafford               1.023758\n",
       "Enfield                1.028078\n",
       "Kirklees               1.047516\n",
       "Wealden                1.049676\n",
       "New Forest             1.053996\n",
       "Huntingdonshire        1.062635\n",
       "Vale of White Horse    1.062635\n",
       "Wychavon               1.071274\n",
       "dtype: float64"
      ]
     },
     "execution_count": 422,
     "metadata": {},
     "output_type": "execute_result"
    }
   ],
   "source": [
    "#Bottom 10 Local Authorities with the highest BEVs/private chargers ratio\n",
    "ratios_gt_one.sort_values().head(10)"
   ]
  },
  {
   "cell_type": "markdown",
   "metadata": {},
   "source": [
    "# Variation in BEVs uptake within a select few LAs"
   ]
  },
  {
   "cell_type": "code",
   "execution_count": 428,
   "metadata": {},
   "outputs": [
    {
     "data": {
      "text/plain": [
       "Local Authority\n",
       "Westminster               3.710583\n",
       "Hillingdon                3.643629\n",
       "Barnet                    3.505400\n",
       "Wiltshire                 2.984881\n",
       "Birmingham                2.676026\n",
       "Warwick                   2.606911\n",
       "Cornwall                  2.388769\n",
       "City of Edinburgh         2.384449\n",
       "Sheffield                 2.315335\n",
       "Camden                    2.222462\n",
       "Hammersmith and Fulham    2.172786\n",
       "Cheshire East             2.136069\n",
       "Bristol, City of          2.017279\n",
       "Kensington and Chelsea    1.917927\n",
       "Mole Valley               1.915767\n",
       "dtype: float64"
      ]
     },
     "execution_count": 428,
     "metadata": {},
     "output_type": "execute_result"
    }
   ],
   "source": [
    "ratios_sel.sort_values(ascending=False).head(15)"
   ]
  },
  {
   "cell_type": "code",
   "execution_count": 429,
   "metadata": {},
   "outputs": [
    {
     "data": {
      "text/plain": [
       "Local Authority\n",
       "East Cambridgeshire    0.529158\n",
       "North Tyneside         0.526998\n",
       "Harborough             0.526998\n",
       "Cheltenham             0.524838\n",
       "Broadland              0.524838\n",
       "Chorley                0.520518\n",
       "Newham                 0.520518\n",
       "Amber Valley           0.514039\n",
       "Waltham Forest         0.511879\n",
       "Lichfield              0.509719\n",
       "dtype: float64"
      ]
     },
     "execution_count": 429,
     "metadata": {},
     "output_type": "execute_result"
    }
   ],
   "source": [
    "ratios_sel.sort_values(ascending=False)[170:180]"
   ]
  },
  {
   "cell_type": "code",
   "execution_count": 427,
   "metadata": {
    "scrolled": true
   },
   "outputs": [
    {
     "data": {
      "text/plain": [
       "Local Authority\n",
       "Oadby and Wigston      0.149028\n",
       "Great Yarmouth         0.142549\n",
       "Clackmannanshire       0.140389\n",
       "Richmondshire          0.136069\n",
       "Fermanagh and Omagh    0.136069\n",
       "Gosport                0.131749\n",
       "Middlesbrough          0.127430\n",
       "Copeland               0.125270\n",
       "Hyndburn               0.125270\n",
       "Barrow-in-Furness      0.114471\n",
       "Isles of Scilly        0.077754\n",
       "Na h-Eileanan Siar     0.075594\n",
       "Blaenau Gwent          0.071274\n",
       "Shetland Islands       0.062635\n",
       "Merthyr Tydfil         0.058315\n",
       "dtype: float64"
      ]
     },
     "execution_count": 427,
     "metadata": {},
     "output_type": "execute_result"
    }
   ],
   "source": [
    "ratios_sel.sort_values(ascending=False).tail(15)"
   ]
  },
  {
   "cell_type": "code",
   "execution_count": 452,
   "metadata": {},
   "outputs": [],
   "source": [
    "la_selection = ['Sheffield','East Cambridgeshire','Richmondshire']\n",
    "df_selection =[]\n",
    "\n",
    "for area in la_selection:\n",
    "    df_selection.append(dft_bev_la_sel.loc[dic_la[area]].reindex(index=dft_bev_la_sel.loc[dic_la[area]].index[::-1]))"
   ]
  },
  {
   "cell_type": "code",
   "execution_count": 453,
   "metadata": {},
   "outputs": [
    {
     "data": {
      "text/plain": [
       "Index(['2011 Q4', '2012 Q1', '2012 Q2', '2012 Q3', '2012 Q4', '2013 Q1',\n",
       "       '2013 Q2', '2013 Q3', '2013 Q4', '2014 Q1', '2014 Q2', '2014 Q3',\n",
       "       '2014 Q4', '2015 Q1', '2015 Q2', '2015 Q3', '2015 Q4', '2016 Q1',\n",
       "       '2016 Q2', '2016 Q3', '2016 Q4', '2017 Q1', '2017 Q2', '2017 Q3',\n",
       "       '2017 Q4', '2018 Q1', '2018 Q2', '2018 Q3', '2018 Q4', '2019 Q1',\n",
       "       '2019 Q2', '2019 Q3', '2019 Q4', '2020 Q1', '2020 Q2', '2020 Q3'],\n",
       "      dtype='object')"
      ]
     },
     "execution_count": 453,
     "metadata": {},
     "output_type": "execute_result"
    }
   ],
   "source": [
    "df_selection[0].index"
   ]
  },
  {
   "cell_type": "code",
   "execution_count": 455,
   "metadata": {},
   "outputs": [
    {
     "data": {
      "image/png": "[encoded data removed]",
      "text/plain": [
       "<Figure size 1152x648 with 1 Axes>"
      ]
     },
     "metadata": {
      "needs_background": "light"
     },
     "output_type": "display_data"
    }
   ],
   "source": [
    "x = np.arange(len(df_selection[0].index))\n",
    "width = 0.2  # the width of the bars\n",
    "\n",
    "fig, ax = plt.subplots(figsize=(16,9))\n",
    "rects1 = ax.bar(x -width, df_selection[2], width, label=la_selection[2])\n",
    "rects2 = ax.bar(x, df_selection[1], width, label=la_selection[1])\n",
    "rects3 = ax.bar(x + width,  df_selection[0], width, label=la_selection[0])\n",
    "\n",
    "# Add some text for labels, title and custom x-axis tick labels, etc.\n",
    "ax.set_ylabel('Total BEVs number')\n",
    "ax.set_title('BEVs Quarterly Trend')\n",
    "ax.set_xticks(x)\n",
    "ax.set_xticklabels(df_selection[0].index, rotation = 90)\n",
    "ax.legend()\n",
    "ax.autoscale(tight=True)\n",
    "\n",
    "fig.tight_layout()\n",
    "\n",
    "plt.show()"
   ]
  },
  {
   "cell_type": "markdown",
   "metadata": {
    "id": "isHbqjJApvFQ"
   },
   "source": [
    "# Messing around with plots"
   ]
  },
  {
   "cell_type": "code",
   "execution_count": 142,
   "metadata": {},
   "outputs": [],
   "source": [
    "la_geo = 'Data/LA_borders/Local_Authority_Districts__May_2020__Boundaries_UK_BGC.geojson'"
   ]
  },
  {
   "cell_type": "code",
   "execution_count": 143,
   "metadata": {},
   "outputs": [
    {
     "data": {
      "text/plain": [
       "Index(['LA / Region Code', 'Local Authority / Region Name',\n",
       "       'Total public\\ncharging devices',\n",
       "       'Total public rapid\\ncharging devices',\n",
       "       'Charging devices per\\n100,000 population',\n",
       "       'Rapid Devices per\\n100,000 population'],\n",
       "      dtype='object')"
      ]
     },
     "execution_count": 143,
     "metadata": {},
     "output_type": "execute_result"
    }
   ],
   "source": [
    "data_try.columns"
   ]
  },
  {
   "cell_type": "code",
   "execution_count": 547,
   "metadata": {},
   "outputs": [],
   "source": [
    "import json\n",
    "communities_geo = la_geo\n",
    "\n",
    "# open the json file - json.load() methods returns a python dictionary\n",
    "with open(communities_geo) as communities_file:\n",
    "    communities_json = json.load(communities_file)\n",
    "    \n",
    "# we loop through the dictionary to obtain the name of the communities in the json file\n",
    "denominations_json = []\n",
    "for index in range(len(communities_json['features'])):\n",
    "    denominations_json.append(communities_json['features'][index]['properties']['LAD20CD'])\n"
   ]
  },
  {
   "cell_type": "code",
   "execution_count": 548,
   "metadata": {},
   "outputs": [
    {
     "data": {
      "text/plain": [
       "{'OBJECTID': 379,\n",
       " 'LAD20CD': 'W06000024',\n",
       " 'LAD20NM': 'Merthyr Tydfil',\n",
       " 'LAD20NMW': 'Merthyr Tudful',\n",
       " 'BNG_E': 305916,\n",
       " 'BNG_N': 206424,\n",
       " 'LONG': -3.36425,\n",
       " 'LAT': 51.74858,\n",
       " 'Shape__Area': 111930293.773514,\n",
       " 'Shape__Length': 65314.3209843588}"
      ]
     },
     "execution_count": 548,
     "metadata": {},
     "output_type": "execute_result"
    }
   ],
   "source": [
    "communities_json['features'][index]['properties']"
   ]
  },
  {
   "cell_type": "code",
   "execution_count": 148,
   "metadata": {},
   "outputs": [
    {
     "data": {
      "text/plain": [
       "Index(['LA / Region Code', 'Local Authority / Region Name',\n",
       "       'Total public\\ncharging devices',\n",
       "       'Total public rapid\\ncharging devices',\n",
       "       'Charging devices per\\n100,000 population',\n",
       "       'Rapid Devices per\\n100,000 population'],\n",
       "      dtype='object')"
      ]
     },
     "execution_count": 148,
     "metadata": {},
     "output_type": "execute_result"
    }
   ],
   "source": [
    "data_try.columns"
   ]
  },
  {
   "cell_type": "code",
   "execution_count": 149,
   "metadata": {},
   "outputs": [],
   "source": [
    "for item in denominations_json:\n",
    "    if not item in data_try['LA / Region Code'].tolist():\n",
    "        print(item)"
   ]
  },
  {
   "cell_type": "code",
   "execution_count": 150,
   "metadata": {},
   "outputs": [
    {
     "data": {
      "text/plain": [
       "True"
      ]
     },
     "execution_count": 150,
     "metadata": {},
     "output_type": "execute_result"
    }
   ],
   "source": [
    "sorted(data_try['LA / Region Code'].tolist())==denominations_json"
   ]
  },
  {
   "cell_type": "code",
   "execution_count": 197,
   "metadata": {},
   "outputs": [],
   "source": [
    "# file name - file is located in the working directory\n",
    "communities_geo = la_geo # geojson file\n",
    "\n",
    "#  tiles = \"cartodbpositron\"\n",
    "#communities_map = folium.Map(location=[40.416775, -3.703790], zoom_start=6, tiles='stamenwatercolor')\n",
    "communities_map = folium.Map(location=[54.7, -4.6],\n",
    "                    tiles = \"cartodbpositron\",\n",
    "                    zoom_start = 5.4) "
   ]
  },
  {
   "cell_type": "code",
   "execution_count": 198,
   "metadata": {
    "scrolled": true
   },
   "outputs": [],
   "source": [
    "# choropleth = folium.Choropleth(\n",
    "#     name = 'charging_dev',\n",
    "#     geo_data=communities_geo,\n",
    "#     data=data_try,\n",
    "#     columns=['LA / Region Code', 'Total public\\ncharging devices', 'Charging devices per\\n100,000 population'],\n",
    "#     key_on='feature.properties.LAD20CD',\n",
    "#     fill_color='YlGnBu', \n",
    "#     fill_opacity=1, \n",
    "#     line_opacity=1,\n",
    "#     legend_name='Total public charging devices',\n",
    "#     smooth_factor=0).add_to(communities_map)\n",
    "\n",
    "# style_function = \"font-size: 15px; font-weight: bold\"\n",
    "# choropleth.geojson.add_child(\n",
    "#     folium.features.GeoJsonTooltip(['LAD20NM'], style=style_function, labels=False))\n",
    "\n",
    "# folium.LayerControl().add_to(communities_map)"
   ]
  },
  {
   "cell_type": "code",
   "execution_count": 199,
   "metadata": {},
   "outputs": [
    {
     "data": {
      "text/plain": [
       "<folium.map.LayerControl at 0x18f658a5280>"
      ]
     },
     "execution_count": 199,
     "metadata": {},
     "output_type": "execute_result"
    }
   ],
   "source": [
    "choropleth = folium.Choropleth(\n",
    "    name = 'charging_dev',\n",
    "    geo_data=communities_geo,\n",
    "    data=data_try,\n",
    "    columns=['LA / Region Code', 'Total public\\ncharging devices', 'Charging devices per\\n100,000 population'],\n",
    "    key_on='feature.properties.LAD20CD',\n",
    "    fill_color='YlGnBu', \n",
    "    fill_opacity=1, \n",
    "    line_opacity=1,\n",
    "    legend_name='Total public charging devices',\n",
    "    smooth_factor=0).add_to(communities_map)\n",
    "style_function = \"font-size: 15px; font-weight: bold\"\n",
    "choropleth.geojson.add_child(\n",
    "    folium.features.GeoJsonTooltip(['LAD20NM'], style=style_function, labels=False))\n",
    "\n",
    "choropleth = folium.Choropleth(\n",
    "    name = 'charging_dens',\n",
    "    geo_data=communities_geo,\n",
    "    data=data_try,\n",
    "    columns=['LA / Region Code', 'Charging devices per\\n100,000 population'],\n",
    "    key_on='feature.properties.LAD20CD',\n",
    "    fill_color='YlGnBu', \n",
    "    fill_opacity=1, \n",
    "    line_opacity=1,\n",
    "    legend_name='Total charging devices per 100,000 population',\n",
    "    smooth_factor=0).add_to(communities_map)\n",
    "\n",
    "style_function = \"font-size: 15px; font-weight: bold\"\n",
    "choropleth.geojson.add_child(\n",
    "    folium.features.GeoJsonTooltip(['LAD20NM'], style=style_function, labels=False))\n",
    "folium.LayerControl().add_to(communities_map)"
   ]
  },
  {
   "cell_type": "markdown",
   "metadata": {},
   "source": [
    "# UPRNs"
   ]
  },
  {
   "cell_type": "code",
   "execution_count": 22,
   "metadata": {},
   "outputs": [],
   "source": [
    "import shapely\n",
    "import geopandas as gpd"
   ]
  },
  {
   "cell_type": "code",
   "execution_count": 2,
   "metadata": {},
   "outputs": [],
   "source": [
    "from shapely.geometry import Point\n",
    "from shapely.geometry.polygon import Polygon"
   ]
  },
  {
   "cell_type": "code",
   "execution_count": 3,
   "metadata": {},
   "outputs": [],
   "source": [
    "lat_point_list = [50.854457, 52.518172, 50.072651, 48.853033, 50.854457]\n",
    "lon_point_list = [4.377184, 13.407759, 14.435935, 2.349553, 4.377184]\n",
    "\n",
    "polygon_geom = Polygon(zip(lon_point_list, lat_point_list))"
   ]
  },
  {
   "cell_type": "code",
   "execution_count": 9,
   "metadata": {},
   "outputs": [],
   "source": [
    "lat_point_list = [52.854457, 54.518172, 52.072651, 50.853033, 52.854457]\n",
    "lon_point_list = [6.377184, 15.407759, 16.435935, 4.349553, 6.377184]\n",
    "\n",
    "polygon_geom_2 = Polygon(zip(lon_point_list, lat_point_list))"
   ]
  },
  {
   "cell_type": "code",
   "execution_count": 10,
   "metadata": {},
   "outputs": [
    {
     "data": {
      "image/svg+xml": [
       "<svg xmlns=\"http://www.w3.org/2000/svg\" xmlns:xlink=\"http://www.w3.org/1999/xlink\" width=\"100.0\" height=\"100.0\" viewBox=\"3.86609772 50.36957772 13.053292560000003 4.632049559999999\" preserveAspectRatio=\"xMinYMin meet\"><g transform=\"matrix(1,0,0,-1,0,105.371205)\"><path fill-rule=\"evenodd\" fill=\"#66cc99\" stroke=\"#555555\" stroke-width=\"0.26106585120000003\" opacity=\"0.6\" d=\"M 6.377184,52.854457 L 15.407759,54.518172 L 16.435935,52.072651 L 4.349553,50.853033 L 6.377184,52.854457 z\" /></g></svg>"
      ],
      "text/plain": [
       "<shapely.geometry.polygon.Polygon at 0x1323a5b3a90>"
      ]
     },
     "execution_count": 10,
     "metadata": {},
     "output_type": "execute_result"
    }
   ],
   "source": [
    "polygon_geom_2"
   ]
  },
  {
   "cell_type": "code",
   "execution_count": 11,
   "metadata": {},
   "outputs": [],
   "source": [
    "point = Point(51.509865,-0.118092)"
   ]
  },
  {
   "cell_type": "code",
   "execution_count": 12,
   "metadata": {},
   "outputs": [
    {
     "name": "stdout",
     "output_type": "stream",
     "text": [
      "False\n"
     ]
    }
   ],
   "source": [
    "print(polygon_geom_2.contains(point))"
   ]
  },
  {
   "cell_type": "code",
   "execution_count": 88,
   "metadata": {},
   "outputs": [],
   "source": [
    "a= [polygon_geom,polygon_geom_2]"
   ]
  },
  {
   "cell_type": "code",
   "execution_count": 20,
   "metadata": {},
   "outputs": [],
   "source": [
    "df = pd.DataFrame([['AB1',polygon_geom],['AB2',polygon_geom_2]],columns = ['Partial Postcode','Coordinates\n",
    "                                                                           \n",
    "                                                                           \n",
    "                                                                           '])"
   ]
  },
  {
   "cell_type": "code",
   "execution_count": 21,
   "metadata": {},
   "outputs": [
    {
     "data": {
      "text/html": [
       "<div>\n",
       "<style scoped>\n",
       "    .dataframe tbody tr th:only-of-type {\n",
       "        vertical-align: middle;\n",
       "    }\n",
       "\n",
       "    .dataframe tbody tr th {\n",
       "        vertical-align: top;\n",
       "    }\n",
       "\n",
       "    .dataframe thead th {\n",
       "        text-align: right;\n",
       "    }\n",
       "</style>\n",
       "<table border=\"1\" class=\"dataframe\">\n",
       "  <thead>\n",
       "    <tr style=\"text-align: right;\">\n",
       "      <th></th>\n",
       "      <th>Partial Postcode</th>\n",
       "      <th>Coordinates</th>\n",
       "    </tr>\n",
       "  </thead>\n",
       "  <tbody>\n",
       "    <tr>\n",
       "      <th>0</th>\n",
       "      <td>AB1</td>\n",
       "      <td>POLYGON ((4.377184 50.854457, 13.407759 52.518...</td>\n",
       "    </tr>\n",
       "    <tr>\n",
       "      <th>1</th>\n",
       "      <td>AB2</td>\n",
       "      <td>POLYGON ((6.377184 52.854457, 15.407759 54.518...</td>\n",
       "    </tr>\n",
       "  </tbody>\n",
       "</table>\n",
       "</div>"
      ],
      "text/plain": [
       "  Partial Postcode                                        Coordinates\n",
       "0              AB1  POLYGON ((4.377184 50.854457, 13.407759 52.518...\n",
       "1              AB2  POLYGON ((6.377184 52.854457, 15.407759 54.518..."
      ]
     },
     "execution_count": 21,
     "metadata": {},
     "output_type": "execute_result"
    }
   ],
   "source": [
    "df"
   ]
  },
  {
   "cell_type": "code",
   "execution_count": 26,
   "metadata": {},
   "outputs": [],
   "source": [
    "crs = {'init': 'epsg:4326'}"
   ]
  },
  {
   "cell_type": "code",
   "execution_count": 81,
   "metadata": {},
   "outputs": [],
   "source": [
    "gdf =gpd.GeoDataFrame(geometry = [polygon_geom], crs = crs)"
   ]
  },
  {
   "cell_type": "code",
   "execution_count": 82,
   "metadata": {},
   "outputs": [
    {
     "data": {
      "text/plain": [
       "0    POLYGON ((4.37718 50.85446, 13.40776 52.51817,...\n",
       "Name: geometry, dtype: geometry"
      ]
     },
     "execution_count": 82,
     "metadata": {},
     "output_type": "execute_result"
    }
   ],
   "source": [
    "gdf.geometry"
   ]
  },
  {
   "cell_type": "code",
   "execution_count": 83,
   "metadata": {},
   "outputs": [],
   "source": [
    "gdf = gdf.to_crs({'init': 'epsg:4326'})"
   ]
  },
  {
   "cell_type": "code",
   "execution_count": null,
   "metadata": {},
   "outputs": [],
   "source": []
  }
 ],
 "metadata": {
  "colab": {
   "collapsed_sections": [],
   "name": "EV and charging devices uptake.ipynb",
   "provenance": [],
   "toc_visible": true
  },
  "kernelspec": {
   "display_name": "Python 3",
   "language": "python",
   "name": "python3"
  },
  "language_info": {
   "codemirror_mode": {
    "name": "ipython",
    "version": 3
   },
   "file_extension": ".py",
   "mimetype": "text/x-python",
   "name": "python",
   "nbconvert_exporter": "python",
   "pygments_lexer": "ipython3",
   "version": "3.8.5"
  }
 },
 "nbformat": 4,
 "nbformat_minor": 1
}
