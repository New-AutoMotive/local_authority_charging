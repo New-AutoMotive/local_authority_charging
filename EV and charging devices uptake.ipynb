{
 "cells": [
  {
   "cell_type": "markdown",
   "metadata": {
    "id": "Sv8pL-bJN7_W"
   },
   "source": [
    "# Importing packages"
   ]
  },
  {
   "cell_type": "code",
   "execution_count": 1,
   "metadata": {
    "executionInfo": {
     "elapsed": 448,
     "status": "ok",
     "timestamp": 1610099642690,
     "user": {
      "displayName": "Andrea Di Antonio",
      "photoUrl": "",
      "userId": "00274323577290199816"
     },
     "user_tz": 0
    },
    "id": "WdNJzi0iN7_X"
   },
   "outputs": [],
   "source": [
    "import os\n",
    "import io\n",
    "import json\n",
    "import math\n",
    "import folium\n",
    "import zipfile\n",
    "import shapely\n",
    "import sklearn\n",
    "import openpyxl\n",
    "import requests\n",
    "import numpy as np \n",
    "import pandas as pd\n",
    "import seaborn as sns\n",
    "import geopandas as gpd\n",
    "from tqdm import tqdm\n",
    "from datetime import datetime\n",
    "import matplotlib.pyplot as plt\n",
    "from branca.colormap import linear\n",
    "from shapely.geometry import Point\n",
    "from pandas_ods_reader import read_ods\n",
    "from folium.plugins import FastMarkerCluster\n",
    "from shapely.geometry.polygon import Polygon\n",
    "from folium.plugins import TimeSliderChoropleth\n",
    "from sklearn.linear_model import LinearRegression\n",
    "gpd.io.file.fiona.drvsupport.supported_drivers['KML'] = 'rw'"
   ]
  },
  {
   "cell_type": "markdown",
   "metadata": {},
   "source": [
    "# Define recursive functions"
   ]
  },
  {
   "cell_type": "code",
   "execution_count": 2,
   "metadata": {},
   "outputs": [],
   "source": [
    "def download_from_url(file_url,filepath):\n",
    "    req = requests.get(file_url)\n",
    "    with open(filepath, 'wb') as file:\n",
    "        file.write(req.content)\n",
    "    \n",
    "    \n",
    "def download_zip_url(file_url,filedest):\n",
    "    req = requests.get(file_url)\n",
    "    zipped = zipfile.ZipFile(io.BytesIO(req.content))\n",
    "    zipped.extractall(filedest)\n",
    "    \n",
    "def private_or_public_charging(private_devices,electric_cars):\n",
    "     if private_devices >= electric_cars: \n",
    "        return 'Predomintantly private'\n",
    "     else: \n",
    "        return 'Predomintantly public'"
   ]
  },
  {
   "cell_type": "markdown",
   "metadata": {
    "id": "odf3Inp5N7_Y"
   },
   "source": [
    "# Import files"
   ]
  },
  {
   "cell_type": "code",
   "execution_count": 3,
   "metadata": {},
   "outputs": [],
   "source": [
    "dirname = 'Data'"
   ]
  },
  {
   "cell_type": "code",
   "execution_count": 4,
   "metadata": {},
   "outputs": [
    {
     "name": "stdout",
     "output_type": "stream",
     "text": [
      "Directory Data already exists\n"
     ]
    }
   ],
   "source": [
    "if os.path.basename(os.getcwd())== 'local_authority_charging':\n",
    "    if not os.path.isdir(dirname):\n",
    "        try:\n",
    "            os.mkdir(dirname)\n",
    "        except OSError:\n",
    "            print (\"Creation of the directory %s failed\" % dirname)\n",
    "        else:\n",
    "            print (\"Successfully created the directory %s \" % dirname)\n",
    "    else: \n",
    "        print (\"Directory %s already exists\" % dirname)"
   ]
  },
  {
   "cell_type": "markdown",
   "metadata": {},
   "source": [
    "## Downloading the required datasets for the analysis "
   ]
  },
  {
   "cell_type": "code",
   "execution_count": 5,
   "metadata": {},
   "outputs": [],
   "source": [
    "#Linking the required datasets with the URLs to download them from \n",
    "\n",
    "required_files = {'EIR_E0019012.xlsx':'https://storage.googleapis.com/na_evhs/EIR_E0019012.xlsx',\n",
    "                 'electric-vehicle-charging-device-statistics-october-2020.ods':'https://assets.publishing.service.gov.uk/government/uploads/system/uploads/attachment_data/file/933589/electric-vehicle-charging-device-statistics-october-2020.ods',\n",
    "                 'veh0132.ods':'https://assets.publishing.service.gov.uk/government/uploads/system/uploads/attachment_data/file/942248/veh0132.ods',\n",
    "                 'veh0134.ods':'https://assets.publishing.service.gov.uk/government/uploads/system/uploads/attachment_data/file/942250/veh0134.ods',\n",
    "                 'veh0122.ods':'https://assets.publishing.service.gov.uk/government/uploads/system/uploads/attachment_data/file/942242/veh0122.ods',\n",
    "                  'tra8901.ods':'https://assets.publishing.service.gov.uk/government/uploads/system/uploads/attachment_data/file/925275/tra8901.ods',\n",
    "                  'postcodes_active.csv':'',\n",
    "                  'IMD_postcode.csv':''\n",
    "                 }"
   ]
  },
  {
   "cell_type": "code",
   "execution_count": 6,
   "metadata": {},
   "outputs": [
    {
     "name": "stdout",
     "output_type": "stream",
     "text": [
      "File EIR_E0019012.xlsx already exists\n",
      "    Last modified 12/01/2021 09:58:11\n",
      "File electric-vehicle-charging-device-statistics-october-2020.ods already exists\n",
      "    Last modified 12/01/2021 09:58:11\n",
      "File veh0132.ods already exists\n",
      "    Last modified 12/01/2021 09:59:28\n",
      "File veh0134.ods already exists\n",
      "    Last modified 12/01/2021 09:59:28\n",
      "File veh0122.ods already exists\n",
      "    Last modified 08/01/2021 10:50:22\n",
      "File tra8901.ods already exists\n",
      "    Last modified 15/01/2021 13:41:38\n",
      "File postcodes_active.csv already exists\n",
      "    Last modified 20/01/2021 16:00:36\n",
      "File IMD_postcode.csv already exists\n",
      "    Last modified 25/01/2021 13:35:39\n"
     ]
    }
   ],
   "source": [
    "# If not already present inside \"Data\" folder, download the required datasets and\n",
    "# check the last time the datasets where downloaded/modified\n",
    "\n",
    "for filename in required_files.keys():\n",
    "    \n",
    "    file_path = dirname+'/'+filename\n",
    "    \n",
    "    if os.path.isfile(file_path):\n",
    "        print (\"File %s already exists\" % filename)\n",
    "    else:\n",
    "        download_from_url(required_files[filename],file_path)\n",
    "        print (\"Successfully downloaded the file %s \" % filename)\n",
    "    \n",
    "    try:\n",
    "        mtime = os.path.getmtime(file_path)\n",
    "    except OSError:\n",
    "        mtime = 0\n",
    "    last_modified_date = datetime.fromtimestamp(mtime)\n",
    "    \n",
    "    print('    Last modified '+last_modified_date.strftime(\"%d/%m/%Y %H:%M:%S\"))"
   ]
  },
  {
   "cell_type": "code",
   "execution_count": 7,
   "metadata": {
    "scrolled": true
   },
   "outputs": [
    {
     "name": "stdout",
     "output_type": "stream",
     "text": [
      "EIR_E0019012.xlsx has 1 sheet(s): ['bypostcodedistrict']\n",
      "electric-vehicle-charging-device-statistics-october-2020.ods has 3 sheet(s): ['Info', 'EVCD_01', 'EVCD_02']\n",
      "tra8901.ods has 1 sheet(s): ['TRA8901']\n",
      "veh0122.ods has 11 sheet(s): ['2020', '2019', '2018', '2017', '2016', '2015', '2014', '2013', '2012', '2011', '2010']\n",
      "veh0132.ods has 4 sheet(s): ['VEH0132a', 'VEH0132b', 'VEH0132c', 'VEH0132d']\n",
      "veh0134.ods has 3 sheet(s): ['VEH0134a', 'VEH0134b', 'VEH0134c']\n"
     ]
    }
   ],
   "source": [
    "#For file containing multiple sheets (e.g. Excel spreadsheet files) determine the number and the name of each sheet\n",
    "\n",
    "for filename in os.listdir(dirname):\n",
    "    \n",
    "    file_path = dirname+'/'+filename\n",
    "    \n",
    "    if filename.endswith('.ods') or filename.endswith('.xls'):\n",
    "        \n",
    "        file_preview = pd.ExcelFile(file_path, engine ='odf')\n",
    "        sheets_number = [sheet for sheet in file_preview.sheet_names if not sheet.startswith(\"'\")]\n",
    "        print('{} has {} sheet(s): {}'.format(filename,len(sheets_number),sheets_number))\n",
    "        \n",
    "    elif filename.endswith('.xlsx'):\n",
    "        \n",
    "        file_preview = openpyxl.load_workbook(file_path) \n",
    "        sheets_number = [sheet for sheet in file_preview.sheetnames if not sheet.startswith(\"'\")]\n",
    "        print('{} has {} sheet(s): {}'.format(filename,len(sheets_number),sheets_number))\n",
    "    \n",
    "    "
   ]
  },
  {
   "cell_type": "markdown",
   "metadata": {},
   "source": [
    "# Import Postcode data"
   ]
  },
  {
   "cell_type": "code",
   "execution_count": 8,
   "metadata": {
    "colab": {
     "base_uri": "https://localhost:8080/"
    },
    "executionInfo": {
     "elapsed": 28872,
     "status": "ok",
     "timestamp": 1610099707476,
     "user": {
      "displayName": "Andrea Di Antonio",
      "photoUrl": "",
      "userId": "00274323577290199816"
     },
     "user_tz": 0
    },
    "id": "7RZFI-UuN7_Z",
    "outputId": "8feccc9f-c1f9-4a96-dbd4-b718520babe6"
   },
   "outputs": [],
   "source": [
    "#Import file containing the information about, among others, postcodes, local authority\n",
    "postcode_active = pd.read_csv(dirname+'/postcodes_active.csv',low_memory=False) "
   ]
  },
  {
   "cell_type": "code",
   "execution_count": 9,
   "metadata": {},
   "outputs": [
    {
     "data": {
      "text/plain": [
       "Index(['pcd', 'pcd2', 'pcds', 'dointr', 'doterm', 'usertype', 'oseast1m',\n",
       "       'osnrth1m', 'osgrdind', 'oa11', 'cty', 'ced', 'laua', 'ward', 'hlthau',\n",
       "       'nhser', 'ctry', 'rgn', 'pcon', 'eer', 'teclec', 'ttwa', 'pct', 'nuts',\n",
       "       'park', 'lsoa11', 'msoa11', 'wz11', 'ccg', 'bua11', 'buasd11',\n",
       "       'ru11ind', 'oac11', 'lat', 'long', 'lep1', 'lep2', 'pfa', 'imd',\n",
       "       'calncv', 'stp', 'Postcode District', 'laua_name'],\n",
       "      dtype='object')"
      ]
     },
     "execution_count": 9,
     "metadata": {},
     "output_type": "execute_result"
    }
   ],
   "source": [
    "postcode_active.columns"
   ]
  },
  {
   "cell_type": "code",
   "execution_count": 10,
   "metadata": {
    "colab": {
     "base_uri": "https://localhost:8080/",
     "height": 581
    },
    "executionInfo": {
     "elapsed": 471,
     "status": "ok",
     "timestamp": 1610102577120,
     "user": {
      "displayName": "Andrea Di Antonio",
      "photoUrl": "",
      "userId": "00274323577290199816"
     },
     "user_tz": 0
    },
    "id": "-PErHhmEN7_Z",
    "outputId": "b6d79be3-48aa-40df-ee05-75cad63b5879",
    "scrolled": true
   },
   "outputs": [
    {
     "data": {
      "text/html": [
       "<div>\n",
       "<style scoped>\n",
       "    .dataframe tbody tr th:only-of-type {\n",
       "        vertical-align: middle;\n",
       "    }\n",
       "\n",
       "    .dataframe tbody tr th {\n",
       "        vertical-align: top;\n",
       "    }\n",
       "\n",
       "    .dataframe thead th {\n",
       "        text-align: right;\n",
       "    }\n",
       "</style>\n",
       "<table border=\"1\" class=\"dataframe\">\n",
       "  <thead>\n",
       "    <tr style=\"text-align: right;\">\n",
       "      <th></th>\n",
       "      <th>pcd</th>\n",
       "      <th>pcd2</th>\n",
       "      <th>pcds</th>\n",
       "      <th>dointr</th>\n",
       "      <th>doterm</th>\n",
       "      <th>usertype</th>\n",
       "      <th>oseast1m</th>\n",
       "      <th>osnrth1m</th>\n",
       "      <th>osgrdind</th>\n",
       "      <th>oa11</th>\n",
       "      <th>...</th>\n",
       "      <th>lat</th>\n",
       "      <th>long</th>\n",
       "      <th>lep1</th>\n",
       "      <th>lep2</th>\n",
       "      <th>pfa</th>\n",
       "      <th>imd</th>\n",
       "      <th>calncv</th>\n",
       "      <th>stp</th>\n",
       "      <th>Postcode District</th>\n",
       "      <th>laua_name</th>\n",
       "    </tr>\n",
       "  </thead>\n",
       "  <tbody>\n",
       "    <tr>\n",
       "      <th>0</th>\n",
       "      <td>AB101AB</td>\n",
       "      <td>AB10 1AB</td>\n",
       "      <td>AB10 1AB</td>\n",
       "      <td>201106</td>\n",
       "      <td>NaN</td>\n",
       "      <td>1</td>\n",
       "      <td>394235.0</td>\n",
       "      <td>806529.0</td>\n",
       "      <td>1</td>\n",
       "      <td>S00090540</td>\n",
       "      <td>...</td>\n",
       "      <td>57.149606</td>\n",
       "      <td>-2.096916</td>\n",
       "      <td>S99999999</td>\n",
       "      <td>S99999999</td>\n",
       "      <td>S23000009</td>\n",
       "      <td>4907</td>\n",
       "      <td>S99999999</td>\n",
       "      <td>S99999999</td>\n",
       "      <td>AB10</td>\n",
       "      <td>Aberdeen City</td>\n",
       "    </tr>\n",
       "    <tr>\n",
       "      <th>1</th>\n",
       "      <td>AB101AF</td>\n",
       "      <td>AB10 1AF</td>\n",
       "      <td>AB10 1AF</td>\n",
       "      <td>199606</td>\n",
       "      <td>NaN</td>\n",
       "      <td>1</td>\n",
       "      <td>394181.0</td>\n",
       "      <td>806429.0</td>\n",
       "      <td>1</td>\n",
       "      <td>S00090540</td>\n",
       "      <td>...</td>\n",
       "      <td>57.148707</td>\n",
       "      <td>-2.097806</td>\n",
       "      <td>S99999999</td>\n",
       "      <td>S99999999</td>\n",
       "      <td>S23000009</td>\n",
       "      <td>4907</td>\n",
       "      <td>S99999999</td>\n",
       "      <td>S99999999</td>\n",
       "      <td>AB10</td>\n",
       "      <td>Aberdeen City</td>\n",
       "    </tr>\n",
       "    <tr>\n",
       "      <th>2</th>\n",
       "      <td>AB101AG</td>\n",
       "      <td>AB10 1AG</td>\n",
       "      <td>AB10 1AG</td>\n",
       "      <td>199606</td>\n",
       "      <td>NaN</td>\n",
       "      <td>1</td>\n",
       "      <td>394230.0</td>\n",
       "      <td>806469.0</td>\n",
       "      <td>1</td>\n",
       "      <td>S00090540</td>\n",
       "      <td>...</td>\n",
       "      <td>57.149051</td>\n",
       "      <td>-2.097004</td>\n",
       "      <td>S99999999</td>\n",
       "      <td>S99999999</td>\n",
       "      <td>S23000009</td>\n",
       "      <td>4907</td>\n",
       "      <td>S99999999</td>\n",
       "      <td>S99999999</td>\n",
       "      <td>AB10</td>\n",
       "      <td>Aberdeen City</td>\n",
       "    </tr>\n",
       "    <tr>\n",
       "      <th>3</th>\n",
       "      <td>AB101AH</td>\n",
       "      <td>AB10 1AH</td>\n",
       "      <td>AB10 1AH</td>\n",
       "      <td>199606</td>\n",
       "      <td>NaN</td>\n",
       "      <td>1</td>\n",
       "      <td>394371.0</td>\n",
       "      <td>806359.0</td>\n",
       "      <td>1</td>\n",
       "      <td>S00088986</td>\n",
       "      <td>...</td>\n",
       "      <td>57.148080</td>\n",
       "      <td>-2.094664</td>\n",
       "      <td>S99999999</td>\n",
       "      <td>S99999999</td>\n",
       "      <td>S23000009</td>\n",
       "      <td>3290</td>\n",
       "      <td>S99999999</td>\n",
       "      <td>S99999999</td>\n",
       "      <td>AB10</td>\n",
       "      <td>Aberdeen City</td>\n",
       "    </tr>\n",
       "    <tr>\n",
       "      <th>4</th>\n",
       "      <td>AB101AL</td>\n",
       "      <td>AB10 1AL</td>\n",
       "      <td>AB10 1AL</td>\n",
       "      <td>199606</td>\n",
       "      <td>NaN</td>\n",
       "      <td>0</td>\n",
       "      <td>394296.0</td>\n",
       "      <td>806581.0</td>\n",
       "      <td>1</td>\n",
       "      <td>S00090540</td>\n",
       "      <td>...</td>\n",
       "      <td>57.150058</td>\n",
       "      <td>-2.095916</td>\n",
       "      <td>S99999999</td>\n",
       "      <td>S99999999</td>\n",
       "      <td>S23000009</td>\n",
       "      <td>4907</td>\n",
       "      <td>S99999999</td>\n",
       "      <td>S99999999</td>\n",
       "      <td>AB10</td>\n",
       "      <td>Aberdeen City</td>\n",
       "    </tr>\n",
       "  </tbody>\n",
       "</table>\n",
       "<p>5 rows × 43 columns</p>\n",
       "</div>"
      ],
      "text/plain": [
       "       pcd      pcd2      pcds  dointr  doterm  usertype  oseast1m  osnrth1m  \\\n",
       "0  AB101AB  AB10 1AB  AB10 1AB  201106     NaN         1  394235.0  806529.0   \n",
       "1  AB101AF  AB10 1AF  AB10 1AF  199606     NaN         1  394181.0  806429.0   \n",
       "2  AB101AG  AB10 1AG  AB10 1AG  199606     NaN         1  394230.0  806469.0   \n",
       "3  AB101AH  AB10 1AH  AB10 1AH  199606     NaN         1  394371.0  806359.0   \n",
       "4  AB101AL  AB10 1AL  AB10 1AL  199606     NaN         0  394296.0  806581.0   \n",
       "\n",
       "   osgrdind       oa11  ...        lat      long       lep1       lep2  \\\n",
       "0         1  S00090540  ...  57.149606 -2.096916  S99999999  S99999999   \n",
       "1         1  S00090540  ...  57.148707 -2.097806  S99999999  S99999999   \n",
       "2         1  S00090540  ...  57.149051 -2.097004  S99999999  S99999999   \n",
       "3         1  S00088986  ...  57.148080 -2.094664  S99999999  S99999999   \n",
       "4         1  S00090540  ...  57.150058 -2.095916  S99999999  S99999999   \n",
       "\n",
       "         pfa   imd     calncv        stp Postcode District      laua_name  \n",
       "0  S23000009  4907  S99999999  S99999999              AB10  Aberdeen City  \n",
       "1  S23000009  4907  S99999999  S99999999              AB10  Aberdeen City  \n",
       "2  S23000009  4907  S99999999  S99999999              AB10  Aberdeen City  \n",
       "3  S23000009  3290  S99999999  S99999999              AB10  Aberdeen City  \n",
       "4  S23000009  4907  S99999999  S99999999              AB10  Aberdeen City  \n",
       "\n",
       "[5 rows x 43 columns]"
      ]
     },
     "execution_count": 10,
     "metadata": {},
     "output_type": "execute_result"
    }
   ],
   "source": [
    "postcode_active.head()"
   ]
  },
  {
   "cell_type": "code",
   "execution_count": 11,
   "metadata": {},
   "outputs": [],
   "source": [
    "rgn_list = [item for item in postcode_active['rgn'].unique()]"
   ]
  },
  {
   "cell_type": "code",
   "execution_count": 12,
   "metadata": {},
   "outputs": [],
   "source": [
    "ctry_list = [item for item in postcode_active['ctry'].unique()]"
   ]
  },
  {
   "cell_type": "code",
   "execution_count": 13,
   "metadata": {},
   "outputs": [],
   "source": [
    "la_list = [item for item in postcode_active['laua'].unique()]"
   ]
  },
  {
   "cell_type": "code",
   "execution_count": 14,
   "metadata": {},
   "outputs": [],
   "source": [
    "la_names = [postcode_active[postcode_active['laua']==item]['laua_name'].unique()[0] for item in la_list]"
   ]
  },
  {
   "cell_type": "code",
   "execution_count": 15,
   "metadata": {},
   "outputs": [],
   "source": [
    "postcode_district_list = postcode_active['Postcode District'].unique().tolist()\n",
    "postcode_district_number = len(postcode_district_list)\n",
    "\n",
    "postcode_area_list= []\n",
    "for item in postcode_district_list:\n",
    "    postcode_area_list.append(''.join([i for i in item[:2] if not i.isdigit()]))\n",
    "postcode_area_list = pd.Series(postcode_area_list).unique().tolist()"
   ]
  },
  {
   "cell_type": "markdown",
   "metadata": {},
   "source": [
    "# Create dictionaries to link Country, Regions and Local authorities names to ONS code and postcode district"
   ]
  },
  {
   "cell_type": "code",
   "execution_count": 16,
   "metadata": {},
   "outputs": [],
   "source": [
    "dic_border = {ctry_list[0]:['TD12','TD15'],\n",
    "              ctry_list[1]:['DG16','TD9','TD5','LD7','LD8','NP7','NP25','SY21','SY22','LL14','HR3','NP16','SY10','SY15'],\n",
    "              ctry_list[2]:[],\n",
    "              ctry_list[3]:['CH1','CH4','GL16','HR5','SY5','SY7','SY9','SY13','SY14','HR3','NP16','SY10','SY15']\n",
    "             }"
   ]
  },
  {
   "cell_type": "code",
   "execution_count": 17,
   "metadata": {},
   "outputs": [],
   "source": [
    "#Create dictionaires linking the name of the Local Authority with the corresponding postcode districts. \n",
    "\n",
    "dic_region = {item:postcode_active[postcode_active['rgn']==item]['Postcode District'].unique().tolist() for item in rgn_list}\n",
    "\n",
    "dic_country = {item:[ i for i in postcode_active[postcode_active['ctry']==item]['Postcode District'].unique().tolist() if i not in (dic_border[item])] for item in ctry_list}\n",
    "\n",
    "dic_la = {item:postcode_active[postcode_active['laua']==item]['Postcode District'].unique().tolist() for item in la_list}"
   ]
  },
  {
   "cell_type": "code",
   "execution_count": 18,
   "metadata": {},
   "outputs": [],
   "source": [
    "#Create a dictionary to associate each ONS code area with the corresponding local authority name\n",
    "dic_code = {item:name for item,name in zip(la_list,la_names)}"
   ]
  },
  {
   "cell_type": "code",
   "execution_count": 19,
   "metadata": {},
   "outputs": [],
   "source": [
    "#Create a dictionary to associate each local authority name with the corresponding ONS code area \n",
    "dic_name = {dic_code[item]:item for item in la_list}"
   ]
  },
  {
   "cell_type": "markdown",
   "metadata": {},
   "source": [
    "# IMD per postcode district average "
   ]
  },
  {
   "cell_type": "code",
   "execution_count": 21,
   "metadata": {},
   "outputs": [],
   "source": [
    "df_imd_import = pd.read_csv(dirname+'/IMD_postcode.csv')"
   ]
  },
  {
   "cell_type": "code",
   "execution_count": 22,
   "metadata": {
    "scrolled": false
   },
   "outputs": [
    {
     "data": {
      "text/html": [
       "<div>\n",
       "<style scoped>\n",
       "    .dataframe tbody tr th:only-of-type {\n",
       "        vertical-align: middle;\n",
       "    }\n",
       "\n",
       "    .dataframe tbody tr th {\n",
       "        vertical-align: top;\n",
       "    }\n",
       "\n",
       "    .dataframe thead th {\n",
       "        text-align: right;\n",
       "    }\n",
       "</style>\n",
       "<table border=\"1\" class=\"dataframe\">\n",
       "  <thead>\n",
       "    <tr style=\"text-align: right;\">\n",
       "      <th></th>\n",
       "      <th>IMD Mean</th>\n",
       "      <th>IMD S.D.</th>\n",
       "      <th>% missing data</th>\n",
       "    </tr>\n",
       "    <tr>\n",
       "      <th>Postcode District</th>\n",
       "      <th></th>\n",
       "      <th></th>\n",
       "      <th></th>\n",
       "    </tr>\n",
       "  </thead>\n",
       "  <tbody>\n",
       "    <tr>\n",
       "      <th>AB10</th>\n",
       "      <td>72.590193</td>\n",
       "      <td>25.101829</td>\n",
       "      <td>0.0</td>\n",
       "    </tr>\n",
       "    <tr>\n",
       "      <th>AB11</th>\n",
       "      <td>47.438972</td>\n",
       "      <td>26.960283</td>\n",
       "      <td>0.0</td>\n",
       "    </tr>\n",
       "    <tr>\n",
       "      <th>AB12</th>\n",
       "      <td>68.472170</td>\n",
       "      <td>19.246421</td>\n",
       "      <td>0.0</td>\n",
       "    </tr>\n",
       "    <tr>\n",
       "      <th>AB13</th>\n",
       "      <td>90.962203</td>\n",
       "      <td>5.297765</td>\n",
       "      <td>0.0</td>\n",
       "    </tr>\n",
       "    <tr>\n",
       "      <th>AB14</th>\n",
       "      <td>78.280765</td>\n",
       "      <td>11.687282</td>\n",
       "      <td>0.0</td>\n",
       "    </tr>\n",
       "  </tbody>\n",
       "</table>\n",
       "</div>"
      ],
      "text/plain": [
       "                    IMD Mean   IMD S.D.  % missing data\n",
       "Postcode District                                      \n",
       "AB10               72.590193  25.101829             0.0\n",
       "AB11               47.438972  26.960283             0.0\n",
       "AB12               68.472170  19.246421             0.0\n",
       "AB13               90.962203   5.297765             0.0\n",
       "AB14               78.280765  11.687282             0.0"
      ]
     },
     "execution_count": 22,
     "metadata": {},
     "output_type": "execute_result"
    }
   ],
   "source": [
    "df_imd = df_imd_import.set_index('Postcode District')\n",
    "df_imd.head()"
   ]
  },
  {
   "cell_type": "code",
   "execution_count": 23,
   "metadata": {
    "scrolled": true
   },
   "outputs": [
    {
     "data": {
      "text/html": [
       "<div>\n",
       "<style scoped>\n",
       "    .dataframe tbody tr th:only-of-type {\n",
       "        vertical-align: middle;\n",
       "    }\n",
       "\n",
       "    .dataframe tbody tr th {\n",
       "        vertical-align: top;\n",
       "    }\n",
       "\n",
       "    .dataframe thead th {\n",
       "        text-align: right;\n",
       "    }\n",
       "</style>\n",
       "<table border=\"1\" class=\"dataframe\">\n",
       "  <thead>\n",
       "    <tr style=\"text-align: right;\">\n",
       "      <th></th>\n",
       "      <th>IMD Mean</th>\n",
       "      <th>IMD S.D.</th>\n",
       "      <th>% missing data</th>\n",
       "    </tr>\n",
       "  </thead>\n",
       "  <tbody>\n",
       "    <tr>\n",
       "      <th>count</th>\n",
       "      <td>2947.000000</td>\n",
       "      <td>2925.000000</td>\n",
       "      <td>2947.000000</td>\n",
       "    </tr>\n",
       "    <tr>\n",
       "      <th>mean</th>\n",
       "      <td>51.246987</td>\n",
       "      <td>16.436928</td>\n",
       "      <td>0.025016</td>\n",
       "    </tr>\n",
       "    <tr>\n",
       "      <th>std</th>\n",
       "      <td>19.700286</td>\n",
       "      <td>7.858654</td>\n",
       "      <td>0.486741</td>\n",
       "    </tr>\n",
       "    <tr>\n",
       "      <th>min</th>\n",
       "      <td>0.608939</td>\n",
       "      <td>0.000000</td>\n",
       "      <td>0.000000</td>\n",
       "    </tr>\n",
       "    <tr>\n",
       "      <th>25%</th>\n",
       "      <td>37.425173</td>\n",
       "      <td>11.373184</td>\n",
       "      <td>0.000000</td>\n",
       "    </tr>\n",
       "    <tr>\n",
       "      <th>50%</th>\n",
       "      <td>52.638281</td>\n",
       "      <td>16.900854</td>\n",
       "      <td>0.000000</td>\n",
       "    </tr>\n",
       "    <tr>\n",
       "      <th>75%</th>\n",
       "      <td>66.332790</td>\n",
       "      <td>22.022668</td>\n",
       "      <td>0.000000</td>\n",
       "    </tr>\n",
       "    <tr>\n",
       "      <th>max</th>\n",
       "      <td>96.296254</td>\n",
       "      <td>46.028840</td>\n",
       "      <td>14.555256</td>\n",
       "    </tr>\n",
       "  </tbody>\n",
       "</table>\n",
       "</div>"
      ],
      "text/plain": [
       "          IMD Mean     IMD S.D.  % missing data\n",
       "count  2947.000000  2925.000000     2947.000000\n",
       "mean     51.246987    16.436928        0.025016\n",
       "std      19.700286     7.858654        0.486741\n",
       "min       0.608939     0.000000        0.000000\n",
       "25%      37.425173    11.373184        0.000000\n",
       "50%      52.638281    16.900854        0.000000\n",
       "75%      66.332790    22.022668        0.000000\n",
       "max      96.296254    46.028840       14.555256"
      ]
     },
     "execution_count": 23,
     "metadata": {},
     "output_type": "execute_result"
    }
   ],
   "source": [
    "df_imd.describe()"
   ]
  },
  {
   "cell_type": "markdown",
   "metadata": {},
   "source": [
    "# Download shapefiles for local authorities and postcode districts borders"
   ]
  },
  {
   "cell_type": "code",
   "execution_count": 24,
   "metadata": {},
   "outputs": [
    {
     "name": "stdout",
     "output_type": "stream",
     "text": [
      "Directory Data/PD_borders already exists\n"
     ]
    }
   ],
   "source": [
    "subdirpd = dirname+'/PD_borders'\n",
    "\n",
    "if os.path.basename(os.getcwd())== 'local_authority_charging':\n",
    "    if not os.path.isdir(subdirpd):\n",
    "        try:\n",
    "            os.mkdir(subdirpd)\n",
    "        except OSError:\n",
    "            print (\"Creation of the directory %s failed\" % subdirpd)\n",
    "        else:\n",
    "            print (\"Successfully created the directory %s \" % subdirpd)\n",
    "    else: \n",
    "        print (\"Directory %s already exists\" % subdirpd)"
   ]
  },
  {
   "cell_type": "code",
   "execution_count": 25,
   "metadata": {},
   "outputs": [
    {
     "name": "stdout",
     "output_type": "stream",
     "text": [
      "File AB.kml already exists\n",
      "File AL.kml already exists\n",
      "File B.kml already exists\n",
      "File BA.kml already exists\n",
      "File BB.kml already exists\n",
      "File BD.kml already exists\n",
      "File BH.kml already exists\n",
      "File BL.kml already exists\n",
      "File BN.kml already exists\n",
      "File BR.kml already exists\n",
      "File BS.kml already exists\n",
      "File BT.kml already exists\n",
      "File CA.kml already exists\n",
      "File CB.kml already exists\n",
      "File CF.kml already exists\n",
      "File CH.kml already exists\n",
      "File CM.kml already exists\n",
      "File CO.kml already exists\n",
      "File CR.kml already exists\n",
      "File CT.kml already exists\n",
      "File CV.kml already exists\n",
      "File CW.kml already exists\n",
      "File DA.kml already exists\n",
      "File DD.kml already exists\n",
      "File DE.kml already exists\n",
      "File DG.kml already exists\n",
      "File DH.kml already exists\n",
      "File DL.kml already exists\n",
      "File DN.kml already exists\n",
      "File DT.kml already exists\n",
      "File DY.kml already exists\n",
      "File E.kml already exists\n",
      "File EC.kml already exists\n",
      "File EH.kml already exists\n",
      "File EN.kml already exists\n",
      "File EX.kml already exists\n",
      "File FK.kml already exists\n",
      "File FY.kml already exists\n",
      "File G.kml already exists\n",
      "File GL.kml already exists\n",
      "File GU.kml already exists\n",
      "File HA.kml already exists\n",
      "File HD.kml already exists\n",
      "File HG.kml already exists\n",
      "File HP.kml already exists\n",
      "File HR.kml already exists\n",
      "File HS.kml already exists\n",
      "File HU.kml already exists\n",
      "File HX.kml already exists\n",
      "File IG.kml already exists\n",
      "File IP.kml already exists\n",
      "File IV.kml already exists\n",
      "File KA.kml already exists\n",
      "File KT.kml already exists\n",
      "File KW.kml already exists\n",
      "File KY.kml already exists\n",
      "File L.kml already exists\n",
      "File LA.kml already exists\n",
      "File LD.kml already exists\n",
      "File LE.kml already exists\n",
      "File LL.kml already exists\n",
      "File LN.kml already exists\n",
      "File LS.kml already exists\n",
      "File LU.kml already exists\n",
      "File M.kml already exists\n",
      "File ME.kml already exists\n",
      "File MK.kml already exists\n",
      "File ML.kml already exists\n",
      "File N.kml already exists\n",
      "File NE.kml already exists\n",
      "File NG.kml already exists\n",
      "File NN.kml already exists\n",
      "File NP.kml already exists\n",
      "File NR.kml already exists\n",
      "File NW.kml already exists\n",
      "File OL.kml already exists\n",
      "File OX.kml already exists\n",
      "File PA.kml already exists\n",
      "File PE.kml already exists\n",
      "File PH.kml already exists\n",
      "File PL.kml already exists\n",
      "File PO.kml already exists\n",
      "File PR.kml already exists\n",
      "File RG.kml already exists\n",
      "File RH.kml already exists\n",
      "File RM.kml already exists\n",
      "File S.kml already exists\n",
      "File SA.kml already exists\n",
      "File SE.kml already exists\n",
      "File SG.kml already exists\n",
      "File SK.kml already exists\n",
      "File SL.kml already exists\n",
      "File SM.kml already exists\n",
      "File SN.kml already exists\n",
      "File SO.kml already exists\n",
      "File SP.kml already exists\n",
      "File SR.kml already exists\n",
      "File SS.kml already exists\n",
      "File ST.kml already exists\n",
      "File SW.kml already exists\n",
      "File SY.kml already exists\n",
      "File TA.kml already exists\n",
      "File TD.kml already exists\n",
      "File TF.kml already exists\n",
      "File TN.kml already exists\n",
      "File TQ.kml already exists\n",
      "File TR.kml already exists\n",
      "File TS.kml already exists\n",
      "File TW.kml already exists\n",
      "File UB.kml already exists\n",
      "File W.kml already exists\n",
      "File WA.kml already exists\n",
      "File WC.kml already exists\n",
      "File WD.kml already exists\n",
      "File WF.kml already exists\n",
      "File WN.kml already exists\n",
      "File WR.kml already exists\n",
      "File WS.kml already exists\n",
      "File WV.kml already exists\n",
      "File YO.kml already exists\n",
      "File ZE.kml already exists\n"
     ]
    }
   ],
   "source": [
    "for item in postcode_area_list:\n",
    "\n",
    "    filename = item+'.kml'\n",
    "    file_path = subdirpd+'/'+filename\n",
    "    \n",
    "    if os.path.isfile(file_path):\n",
    "        print (\"File %s already exists\" % filename)\n",
    "    else:\n",
    "        download_from_url('https://www.doogal.co.uk/kml/'+filename,file_path)\n",
    "        print (\"Successfully downloaded the file %s \" % filename)"
   ]
  },
  {
   "cell_type": "code",
   "execution_count": 26,
   "metadata": {},
   "outputs": [
    {
     "name": "stdout",
     "output_type": "stream",
     "text": [
      "Directory Data/LA_borders already exists\n"
     ]
    }
   ],
   "source": [
    "subdirla = dirname+'/LA_borders'\n",
    "\n",
    "if os.path.basename(os.getcwd())== 'local_authority_charging':\n",
    "    if not os.path.isdir(subdirla):\n",
    "        try:\n",
    "            os.mkdir(subdirla)\n",
    "        except OSError:\n",
    "            print (\"Creation of the directory %s failed\" % subdirla)\n",
    "        else:\n",
    "            print (\"Successfully created the directory %s \" % subdirla)\n",
    "    else: \n",
    "        print (\"Directory %s already exists\" % subdirla)"
   ]
  },
  {
   "cell_type": "code",
   "execution_count": 27,
   "metadata": {},
   "outputs": [
    {
     "name": "stdout",
     "output_type": "stream",
     "text": [
      "File Local_Authority_Districts__May_2020__Boundaries_UK_BGC.geojson already exists\n"
     ]
    }
   ],
   "source": [
    "filename = 'Local_Authority_Districts__May_2020__Boundaries_UK_BGC.geojson'\n",
    "file_path = subdirla+'/'+filename\n",
    "    \n",
    "if os.path.isfile(file_path):\n",
    "    print (\"File %s already exists\" % filename)\n",
    "else:\n",
    "    download_from_url('https://opendata.arcgis.com/datasets/3b374840ce1b4160b85b8146b610cd0c_0.geojson',file_path)\n",
    "    print (\"Successfully downloaded the file %s \" % filename)"
   ]
  },
  {
   "cell_type": "markdown",
   "metadata": {
    "id": "zgNgm9aFN7_d"
   },
   "source": [
    "# Import public charging devices data"
   ]
  },
  {
   "cell_type": "markdown",
   "metadata": {},
   "source": [
    "## Charging devices per local authority"
   ]
  },
  {
   "cell_type": "code",
   "execution_count": 28,
   "metadata": {},
   "outputs": [],
   "source": [
    "dft_charging_devices_available_import = read_ods(dirname+'/electric-vehicle-charging-device-statistics-october-2020.ods', 'EVCD_01', headers=False)\n",
    "dft_charging_devices_available_import = dft_charging_devices_available_import[dft_charging_devices_available_import.iloc[:,1].notnull()]\n",
    "\n",
    "dft_charging_devices_available = dft_charging_devices_available_import.iloc[1:]\n",
    "dft_charging_devices_available.reset_index(inplace=True, drop=True) #reset the index\n",
    "dft_charging_devices_available.columns = dft_charging_devices_available_import.iloc[0]"
   ]
  },
  {
   "cell_type": "code",
   "execution_count": 29,
   "metadata": {},
   "outputs": [
    {
     "data": {
      "text/html": [
       "<div>\n",
       "<style scoped>\n",
       "    .dataframe tbody tr th:only-of-type {\n",
       "        vertical-align: middle;\n",
       "    }\n",
       "\n",
       "    .dataframe tbody tr th {\n",
       "        vertical-align: top;\n",
       "    }\n",
       "\n",
       "    .dataframe thead th {\n",
       "        text-align: right;\n",
       "    }\n",
       "</style>\n",
       "<table border=\"1\" class=\"dataframe\">\n",
       "  <thead>\n",
       "    <tr style=\"text-align: right;\">\n",
       "      <th>6</th>\n",
       "      <th>LA / Region Code</th>\n",
       "      <th>Local Authority / Region Name</th>\n",
       "      <th>Total public\\ncharging devices</th>\n",
       "      <th>Total public rapid\\ncharging devices</th>\n",
       "      <th>Charging devices per\\n100,000 population</th>\n",
       "      <th>Rapid Devices per\\n100,000 population</th>\n",
       "    </tr>\n",
       "  </thead>\n",
       "  <tbody>\n",
       "    <tr>\n",
       "      <th>0</th>\n",
       "      <td>K02000001</td>\n",
       "      <td>UNITED KINGDOM</td>\n",
       "      <td>19487.0</td>\n",
       "      <td>3530.0</td>\n",
       "      <td>29.173550</td>\n",
       "      <td>5.284684</td>\n",
       "    </tr>\n",
       "    <tr>\n",
       "      <th>1</th>\n",
       "      <td>K03000001</td>\n",
       "      <td>GREAT BRITAIN</td>\n",
       "      <td>19169.0</td>\n",
       "      <td>3508.0</td>\n",
       "      <td>29.534781</td>\n",
       "      <td>5.404977</td>\n",
       "    </tr>\n",
       "    <tr>\n",
       "      <th>2</th>\n",
       "      <td>E92000001</td>\n",
       "      <td>ENGLAND</td>\n",
       "      <td>16456.0</td>\n",
       "      <td>2909.0</td>\n",
       "      <td>29.235901</td>\n",
       "      <td>5.168160</td>\n",
       "    </tr>\n",
       "    <tr>\n",
       "      <th>3</th>\n",
       "      <td>E12000001</td>\n",
       "      <td>NORTH EAST</td>\n",
       "      <td>849.0</td>\n",
       "      <td>156.0</td>\n",
       "      <td>31.798455</td>\n",
       "      <td>5.842826</td>\n",
       "    </tr>\n",
       "    <tr>\n",
       "      <th>4</th>\n",
       "      <td>E06000047</td>\n",
       "      <td>County Durham</td>\n",
       "      <td>106.0</td>\n",
       "      <td>15.0</td>\n",
       "      <td>19.996453</td>\n",
       "      <td>2.829687</td>\n",
       "    </tr>\n",
       "  </tbody>\n",
       "</table>\n",
       "</div>"
      ],
      "text/plain": [
       "6 LA / Region Code Local Authority / Region Name  \\\n",
       "0        K02000001                UNITED KINGDOM   \n",
       "1        K03000001                 GREAT BRITAIN   \n",
       "2        E92000001                       ENGLAND   \n",
       "3        E12000001                    NORTH EAST   \n",
       "4        E06000047                 County Durham   \n",
       "\n",
       "6 Total public\\ncharging devices Total public rapid\\ncharging devices  \\\n",
       "0                        19487.0                               3530.0   \n",
       "1                        19169.0                               3508.0   \n",
       "2                        16456.0                               2909.0   \n",
       "3                          849.0                                156.0   \n",
       "4                          106.0                                 15.0   \n",
       "\n",
       "6 Charging devices per\\n100,000 population  \\\n",
       "0                                29.173550   \n",
       "1                                29.534781   \n",
       "2                                29.235901   \n",
       "3                                31.798455   \n",
       "4                                19.996453   \n",
       "\n",
       "6 Rapid Devices per\\n100,000 population  \n",
       "0                              5.284684  \n",
       "1                              5.404977  \n",
       "2                              5.168160  \n",
       "3                              5.842826  \n",
       "4                              2.829687  "
      ]
     },
     "execution_count": 29,
     "metadata": {},
     "output_type": "execute_result"
    }
   ],
   "source": [
    "dft_charging_devices_available.head()"
   ]
  },
  {
   "cell_type": "code",
   "execution_count": 30,
   "metadata": {
    "colab": {
     "base_uri": "https://localhost:8080/"
    },
    "executionInfo": {
     "elapsed": 253030,
     "status": "ok",
     "timestamp": 1610102874809,
     "user": {
      "displayName": "Andrea Di Antonio",
      "photoUrl": "",
      "userId": "00274323577290199816"
     },
     "user_tz": 0
    },
    "id": "WxBiLuTwN7_f",
    "outputId": "b54cdc0c-81d6-4d1a-987d-1c6b9d3e1ab2"
   },
   "outputs": [
    {
     "name": "stdout",
     "output_type": "stream",
     "text": [
      "Missing 0.00% of dataset\n"
     ]
    }
   ],
   "source": [
    "print('Missing {per:.2f}% of dataset'.format(per = dft_charging_devices_available.isnull().values.sum()/len(dft_charging_devices_available)*100)) "
   ]
  },
  {
   "cell_type": "code",
   "execution_count": 31,
   "metadata": {
    "executionInfo": {
     "elapsed": 252389,
     "status": "ok",
     "timestamp": 1610102874810,
     "user": {
      "displayName": "Andrea Di Antonio",
      "photoUrl": "",
      "userId": "00274323577290199816"
     },
     "user_tz": 0
    },
    "id": "F4KfhcNEN7_f",
    "scrolled": true
   },
   "outputs": [],
   "source": [
    "dft_charging_devices_available = dft_charging_devices_available.dropna() #Removing rows containing NaN values "
   ]
  },
  {
   "cell_type": "markdown",
   "metadata": {},
   "source": [
    "## Total charging devices per quarter since Q1 2015"
   ]
  },
  {
   "cell_type": "code",
   "execution_count": 33,
   "metadata": {},
   "outputs": [
    {
     "data": {
      "text/html": [
       "<div>\n",
       "<style scoped>\n",
       "    .dataframe tbody tr th:only-of-type {\n",
       "        vertical-align: middle;\n",
       "    }\n",
       "\n",
       "    .dataframe tbody tr th {\n",
       "        vertical-align: top;\n",
       "    }\n",
       "\n",
       "    .dataframe thead th {\n",
       "        text-align: right;\n",
       "    }\n",
       "</style>\n",
       "<table border=\"1\" class=\"dataframe\">\n",
       "  <thead>\n",
       "    <tr style=\"text-align: right;\">\n",
       "      <th>6</th>\n",
       "      <th>Year</th>\n",
       "      <th>Quarter</th>\n",
       "      <th>Total  Devices</th>\n",
       "      <th>Rapid Devices</th>\n",
       "    </tr>\n",
       "  </thead>\n",
       "  <tbody>\n",
       "    <tr>\n",
       "      <th>0</th>\n",
       "      <td>2015.0</td>\n",
       "      <td>Q1</td>\n",
       "      <td>2664.0</td>\n",
       "      <td>249.0</td>\n",
       "    </tr>\n",
       "    <tr>\n",
       "      <th>1</th>\n",
       "      <td>2015.0</td>\n",
       "      <td>Q2</td>\n",
       "      <td>2910.0</td>\n",
       "      <td>301.0</td>\n",
       "    </tr>\n",
       "    <tr>\n",
       "      <th>2</th>\n",
       "      <td>2015.0</td>\n",
       "      <td>Q3</td>\n",
       "      <td>3248.0</td>\n",
       "      <td>431.0</td>\n",
       "    </tr>\n",
       "    <tr>\n",
       "      <th>3</th>\n",
       "      <td>2015.0</td>\n",
       "      <td>Q4</td>\n",
       "      <td>3672.0</td>\n",
       "      <td>693.0</td>\n",
       "    </tr>\n",
       "    <tr>\n",
       "      <th>4</th>\n",
       "      <td>2016.0</td>\n",
       "      <td>Q1</td>\n",
       "      <td>3916.0</td>\n",
       "      <td>781.0</td>\n",
       "    </tr>\n",
       "  </tbody>\n",
       "</table>\n",
       "</div>"
      ],
      "text/plain": [
       "6    Year Quarter  Total  Devices  Rapid Devices\n",
       "0  2015.0     Q1           2664.0          249.0\n",
       "1  2015.0      Q2          2910.0          301.0\n",
       "2  2015.0      Q3          3248.0          431.0\n",
       "3  2015.0      Q4          3672.0          693.0\n",
       "4  2016.0     Q1           3916.0          781.0"
      ]
     },
     "execution_count": 33,
     "metadata": {},
     "output_type": "execute_result"
    }
   ],
   "source": [
    "dft_charging_devices_quarter_import = read_ods(dirname+'/electric-vehicle-charging-device-statistics-october-2020.ods', 'EVCD_02', headers=False) \n",
    "dft_charging_devices_quarter_import = dft_charging_devices_quarter_import[dft_charging_devices_quarter_import.iloc[:,1].notnull()]\n",
    "\n",
    "dft_charging_devices_quarter = dft_charging_devices_quarter_import.iloc[1:]\n",
    "dft_charging_devices_quarter.reset_index(inplace=True, drop=True) #reset the index\n",
    "dft_charging_devices_quarter.columns = dft_charging_devices_quarter_import.iloc[0]\n",
    "dft_charging_devices_quarter = dft_charging_devices_quarter.fillna(method='ffill')\n",
    "dft_charging_devices_quarter = dft_charging_devices_quarter.dropna(axis =1)\n",
    "dft_charging_devices_quarter.head()"
   ]
  },
  {
   "cell_type": "code",
   "execution_count": 34,
   "metadata": {
    "colab": {
     "base_uri": "https://localhost:8080/",
     "height": 204
    },
    "executionInfo": {
     "elapsed": 131796,
     "status": "ok",
     "timestamp": 1610102875021,
     "user": {
      "displayName": "Andrea Di Antonio",
      "photoUrl": "",
      "userId": "00274323577290199816"
     },
     "user_tz": 0
    },
    "id": "RI767sYGG_Qi",
    "outputId": "413d79c5-f57c-4361-ac3c-b74808aeac35"
   },
   "outputs": [
    {
     "data": {
      "text/html": [
       "<div>\n",
       "<style scoped>\n",
       "    .dataframe tbody tr th:only-of-type {\n",
       "        vertical-align: middle;\n",
       "    }\n",
       "\n",
       "    .dataframe tbody tr th {\n",
       "        vertical-align: top;\n",
       "    }\n",
       "\n",
       "    .dataframe thead th {\n",
       "        text-align: right;\n",
       "    }\n",
       "</style>\n",
       "<table border=\"1\" class=\"dataframe\">\n",
       "  <thead>\n",
       "    <tr style=\"text-align: right;\">\n",
       "      <th>6</th>\n",
       "      <th>Year</th>\n",
       "      <th>Quarter</th>\n",
       "      <th>Total  Devices</th>\n",
       "      <th>Rapid Devices</th>\n",
       "    </tr>\n",
       "  </thead>\n",
       "  <tbody>\n",
       "    <tr>\n",
       "      <th>18</th>\n",
       "      <td>2019.0</td>\n",
       "      <td>Q3</td>\n",
       "      <td>15116.0</td>\n",
       "      <td>2495.0</td>\n",
       "    </tr>\n",
       "    <tr>\n",
       "      <th>19</th>\n",
       "      <td>2019.0</td>\n",
       "      <td>Q4</td>\n",
       "      <td>16505.0</td>\n",
       "      <td>2829.0</td>\n",
       "    </tr>\n",
       "    <tr>\n",
       "      <th>20</th>\n",
       "      <td>2020.0</td>\n",
       "      <td>Q1</td>\n",
       "      <td>17947.0</td>\n",
       "      <td>3107.0</td>\n",
       "    </tr>\n",
       "    <tr>\n",
       "      <th>21</th>\n",
       "      <td>2020.0</td>\n",
       "      <td>Q2</td>\n",
       "      <td>18265.0</td>\n",
       "      <td>3206.0</td>\n",
       "    </tr>\n",
       "    <tr>\n",
       "      <th>22</th>\n",
       "      <td>2020.0</td>\n",
       "      <td>Q3</td>\n",
       "      <td>19487.0</td>\n",
       "      <td>3530.0</td>\n",
       "    </tr>\n",
       "  </tbody>\n",
       "</table>\n",
       "</div>"
      ],
      "text/plain": [
       "6     Year Quarter  Total  Devices  Rapid Devices\n",
       "18  2019.0      Q3         15116.0         2495.0\n",
       "19  2019.0      Q4         16505.0         2829.0\n",
       "20  2020.0     Q1          17947.0         3107.0\n",
       "21  2020.0      Q2         18265.0         3206.0\n",
       "22  2020.0      Q3         19487.0         3530.0"
      ]
     },
     "execution_count": 34,
     "metadata": {},
     "output_type": "execute_result"
    }
   ],
   "source": [
    "dft_charging_devices_quarter.tail()"
   ]
  },
  {
   "cell_type": "code",
   "execution_count": 35,
   "metadata": {
    "executionInfo": {
     "elapsed": 127465,
     "status": "ok",
     "timestamp": 1610102875023,
     "user": {
      "displayName": "Andrea Di Antonio",
      "photoUrl": "",
      "userId": "00274323577290199816"
     },
     "user_tz": 0
    },
    "id": "IqiRVcffmy8N"
   },
   "outputs": [],
   "source": [
    "df_charges_quarter = pd.DataFrame(dft_charging_devices_quarter['Total  Devices'])\n",
    "df_charges_quarter['Time'] = [str(j)+' Q'+str(i)  for j in range(2015,2021) for i in range(1,5)][:-1]\n",
    "df_charges_quarter =  df_charges_quarter.set_index('Time')"
   ]
  },
  {
   "cell_type": "code",
   "execution_count": 36,
   "metadata": {
    "colab": {
     "base_uri": "https://localhost:8080/",
     "height": 298
    },
    "executionInfo": {
     "elapsed": 127353,
     "status": "ok",
     "timestamp": 1610102875316,
     "user": {
      "displayName": "Andrea Di Antonio",
      "photoUrl": "",
      "userId": "00274323577290199816"
     },
     "user_tz": 0
    },
    "id": "ij4vZiJFV4eq",
    "outputId": "105f02cd-ac77-4445-d47b-720e2e8b6491"
   },
   "outputs": [
    {
     "data": {
      "image/png": "[encoded data removed]",
      "text/plain": [
       "<Figure size 432x288 with 1 Axes>"
      ]
     },
     "metadata": {
      "needs_background": "light"
     },
     "output_type": "display_data"
    }
   ],
   "source": [
    "## Plot the trend of the publicly available charging devices in the UK between Q1 2015 and Q3 2020 ##\n",
    "\n",
    "plt.bar(df_charges_quarter.index,df_charges_quarter['Total  Devices'],.8)\n",
    "plt.xticks(rotation = 90)\n",
    "plt.ylabel('Number of Public Charge points')\n",
    "plt.show()"
   ]
  },
  {
   "cell_type": "markdown",
   "metadata": {
    "id": "a42uh-fUN7_g"
   },
   "source": [
    "# Import ULEVs data by postcode district"
   ]
  },
  {
   "cell_type": "code",
   "execution_count": 37,
   "metadata": {
    "executionInfo": {
     "elapsed": 3390,
     "status": "ok",
     "timestamp": 1610107934869,
     "user": {
      "displayName": "Andrea Di Antonio",
      "photoUrl": "",
      "userId": "00274323577290199816"
     },
     "user_tz": 0
    },
    "id": "yFnV4JG1N7_g"
   },
   "outputs": [],
   "source": [
    "#Import Ultra Low Emission Vehicles (ULEVs) table\n",
    "dft_ulev_import = read_ods(dirname+'/veh0134.ods', 'VEH0134a')\n",
    "dft_ulev = dft_ulev_import[6:-14]\n",
    "dft_ulev.columns = dft_ulev_import.iloc[5].values\n",
    "dft_ulev.reset_index(inplace=True, drop=True)"
   ]
  },
  {
   "cell_type": "code",
   "execution_count": 38,
   "metadata": {
    "colab": {
     "base_uri": "https://localhost:8080/"
    },
    "executionInfo": {
     "elapsed": 520,
     "status": "ok",
     "timestamp": 1610107938074,
     "user": {
      "displayName": "Andrea Di Antonio",
      "photoUrl": "",
      "userId": "00274323577290199816"
     },
     "user_tz": 0
    },
    "id": "nFw-0pkSN7_g",
    "outputId": "38263506-e84e-4d49-a301-94ee7a866043",
    "scrolled": true
   },
   "outputs": [
    {
     "name": "stdout",
     "output_type": "stream",
     "text": [
      "Missing 0.27% of entire data\n"
     ]
    }
   ],
   "source": [
    "print('Missing {per:.2f}% of entire data'.format(per = len(dft_ulev[dft_ulev['2020 Q3']=='c'])/len(dft_ulev)*100) )"
   ]
  },
  {
   "cell_type": "code",
   "execution_count": 39,
   "metadata": {
    "executionInfo": {
     "elapsed": 652,
     "status": "ok",
     "timestamp": 1610107940043,
     "user": {
      "displayName": "Andrea Di Antonio",
      "photoUrl": "",
      "userId": "00274323577290199816"
     },
     "user_tz": 0
    },
    "id": "zocT8RdpN7_g"
   },
   "outputs": [],
   "source": [
    "dft_ulev = dft_ulev.replace({'c':0}) # Replace the c values with zeros so that the statistics is not altered "
   ]
  },
  {
   "cell_type": "code",
   "execution_count": 40,
   "metadata": {
    "executionInfo": {
     "elapsed": 3346,
     "status": "ok",
     "timestamp": 1610115651280,
     "user": {
      "displayName": "Andrea Di Antonio",
      "photoUrl": "",
      "userId": "00274323577290199816"
     },
     "user_tz": 0
    },
    "id": "4IEOlSWSN7_g"
   },
   "outputs": [],
   "source": [
    "#Import Battery Electric Vehicles (BEVs) table by postcode\n",
    "dft_bev_import = read_ods(dirname+'/veh0134.ods', 'VEH0134b')\n",
    "dft_bev = dft_bev_import[6:-14]\n",
    "dft_bev.columns = dft_bev_import.iloc[5].values\n",
    "dft_bev.reset_index(inplace=True, drop=True)"
   ]
  },
  {
   "cell_type": "code",
   "execution_count": 41,
   "metadata": {
    "colab": {
     "base_uri": "https://localhost:8080/"
    },
    "executionInfo": {
     "elapsed": 2594,
     "status": "ok",
     "timestamp": 1610107943367,
     "user": {
      "displayName": "Andrea Di Antonio",
      "photoUrl": "",
      "userId": "00274323577290199816"
     },
     "user_tz": 0
    },
    "id": "G9umDqNPN7_h",
    "outputId": "0091f776-edbd-4820-aa7b-5ebae7df5b2a"
   },
   "outputs": [
    {
     "name": "stdout",
     "output_type": "stream",
     "text": [
      "Missing 2.43% of entire data\n"
     ]
    }
   ],
   "source": [
    "print('Missing {per:.2f}% of entire data'.format(per = len(dft_bev[dft_bev['2020 Q3']=='c'])/len(dft_bev)*100))"
   ]
  },
  {
   "cell_type": "code",
   "execution_count": 42,
   "metadata": {
    "executionInfo": {
     "elapsed": 552,
     "status": "ok",
     "timestamp": 1610107944019,
     "user": {
      "displayName": "Andrea Di Antonio",
      "photoUrl": "",
      "userId": "00274323577290199816"
     },
     "user_tz": 0
    },
    "id": "ixS5UGfvN7_h"
   },
   "outputs": [],
   "source": [
    "dft_bev = dft_bev.replace({'c':0})"
   ]
  },
  {
   "cell_type": "code",
   "execution_count": 43,
   "metadata": {
    "colab": {
     "base_uri": "https://localhost:8080/",
     "height": 258
    },
    "executionInfo": {
     "elapsed": 563,
     "status": "ok",
     "timestamp": 1610107946445,
     "user": {
      "displayName": "Andrea Di Antonio",
      "photoUrl": "",
      "userId": "00274323577290199816"
     },
     "user_tz": 0
    },
    "id": "zW0c8pNHN7_h",
    "outputId": "b9f8b77d-8345-480c-c8a1-39ec8f461d34"
   },
   "outputs": [
    {
     "data": {
      "text/html": [
       "<div>\n",
       "<style scoped>\n",
       "    .dataframe tbody tr th:only-of-type {\n",
       "        vertical-align: middle;\n",
       "    }\n",
       "\n",
       "    .dataframe tbody tr th {\n",
       "        vertical-align: top;\n",
       "    }\n",
       "\n",
       "    .dataframe thead th {\n",
       "        text-align: right;\n",
       "    }\n",
       "</style>\n",
       "<table border=\"1\" class=\"dataframe\">\n",
       "  <thead>\n",
       "    <tr style=\"text-align: right;\">\n",
       "      <th></th>\n",
       "      <th>Postcode District 2</th>\n",
       "      <th>2020 Q3</th>\n",
       "      <th>2020 Q2</th>\n",
       "      <th>2020 Q1</th>\n",
       "      <th>2019 Q4</th>\n",
       "      <th>2019 Q3</th>\n",
       "      <th>2019 Q2</th>\n",
       "      <th>2019 Q1</th>\n",
       "      <th>2018 Q4</th>\n",
       "      <th>2018 Q3</th>\n",
       "      <th>...</th>\n",
       "      <th>2014 Q1</th>\n",
       "      <th>2013 Q4</th>\n",
       "      <th>2013 Q3</th>\n",
       "      <th>2013 Q2</th>\n",
       "      <th>2013 Q1</th>\n",
       "      <th>2012 Q4</th>\n",
       "      <th>2012 Q3</th>\n",
       "      <th>2012 Q2</th>\n",
       "      <th>2012 Q1</th>\n",
       "      <th>2011 Q4</th>\n",
       "    </tr>\n",
       "  </thead>\n",
       "  <tbody>\n",
       "    <tr>\n",
       "      <th>0</th>\n",
       "      <td>AB10</td>\n",
       "      <td>27.0</td>\n",
       "      <td>20.0</td>\n",
       "      <td>24.0</td>\n",
       "      <td>19.0</td>\n",
       "      <td>18.0</td>\n",
       "      <td>17.0</td>\n",
       "      <td>17.0</td>\n",
       "      <td>14.0</td>\n",
       "      <td>14.0</td>\n",
       "      <td>...</td>\n",
       "      <td>0.0</td>\n",
       "      <td>0.0</td>\n",
       "      <td>0.0</td>\n",
       "      <td>0.0</td>\n",
       "      <td>0.0</td>\n",
       "      <td>0.0</td>\n",
       "      <td>0.0</td>\n",
       "      <td>0.0</td>\n",
       "      <td>0.0</td>\n",
       "      <td>0.0</td>\n",
       "    </tr>\n",
       "    <tr>\n",
       "      <th>1</th>\n",
       "      <td>AB11</td>\n",
       "      <td>28.0</td>\n",
       "      <td>24.0</td>\n",
       "      <td>21.0</td>\n",
       "      <td>21.0</td>\n",
       "      <td>19.0</td>\n",
       "      <td>18.0</td>\n",
       "      <td>17.0</td>\n",
       "      <td>15.0</td>\n",
       "      <td>14.0</td>\n",
       "      <td>...</td>\n",
       "      <td>0.0</td>\n",
       "      <td>0.0</td>\n",
       "      <td>0.0</td>\n",
       "      <td>0.0</td>\n",
       "      <td>0.0</td>\n",
       "      <td>0.0</td>\n",
       "      <td>0.0</td>\n",
       "      <td>0.0</td>\n",
       "      <td>0.0</td>\n",
       "      <td>0.0</td>\n",
       "    </tr>\n",
       "    <tr>\n",
       "      <th>2</th>\n",
       "      <td>AB12</td>\n",
       "      <td>68.0</td>\n",
       "      <td>52.0</td>\n",
       "      <td>58.0</td>\n",
       "      <td>45.0</td>\n",
       "      <td>41.0</td>\n",
       "      <td>36.0</td>\n",
       "      <td>32.0</td>\n",
       "      <td>29.0</td>\n",
       "      <td>24.0</td>\n",
       "      <td>...</td>\n",
       "      <td>0.0</td>\n",
       "      <td>0.0</td>\n",
       "      <td>0.0</td>\n",
       "      <td>0.0</td>\n",
       "      <td>0.0</td>\n",
       "      <td>0.0</td>\n",
       "      <td>0.0</td>\n",
       "      <td>0.0</td>\n",
       "      <td>0.0</td>\n",
       "      <td>0.0</td>\n",
       "    </tr>\n",
       "    <tr>\n",
       "      <th>3</th>\n",
       "      <td>AB13</td>\n",
       "      <td>10.0</td>\n",
       "      <td>9.0</td>\n",
       "      <td>11.0</td>\n",
       "      <td>11.0</td>\n",
       "      <td>10.0</td>\n",
       "      <td>9.0</td>\n",
       "      <td>9.0</td>\n",
       "      <td>8.0</td>\n",
       "      <td>5.0</td>\n",
       "      <td>...</td>\n",
       "      <td>0.0</td>\n",
       "      <td>0.0</td>\n",
       "      <td>0.0</td>\n",
       "      <td>0.0</td>\n",
       "      <td>0.0</td>\n",
       "      <td>0.0</td>\n",
       "      <td>0.0</td>\n",
       "      <td>0.0</td>\n",
       "      <td>0.0</td>\n",
       "      <td>0.0</td>\n",
       "    </tr>\n",
       "    <tr>\n",
       "      <th>4</th>\n",
       "      <td>AB14</td>\n",
       "      <td>15.0</td>\n",
       "      <td>10.0</td>\n",
       "      <td>10.0</td>\n",
       "      <td>10.0</td>\n",
       "      <td>9.0</td>\n",
       "      <td>7.0</td>\n",
       "      <td>7.0</td>\n",
       "      <td>6.0</td>\n",
       "      <td>5.0</td>\n",
       "      <td>...</td>\n",
       "      <td>0.0</td>\n",
       "      <td>0.0</td>\n",
       "      <td>0.0</td>\n",
       "      <td>0.0</td>\n",
       "      <td>0.0</td>\n",
       "      <td>0.0</td>\n",
       "      <td>0.0</td>\n",
       "      <td>0.0</td>\n",
       "      <td>0.0</td>\n",
       "      <td>0.0</td>\n",
       "    </tr>\n",
       "  </tbody>\n",
       "</table>\n",
       "<p>5 rows × 37 columns</p>\n",
       "</div>"
      ],
      "text/plain": [
       "  Postcode District 2  2020 Q3  2020 Q2  2020 Q1  2019 Q4  2019 Q3  2019 Q2  \\\n",
       "0                AB10     27.0     20.0     24.0     19.0     18.0     17.0   \n",
       "1                AB11     28.0     24.0     21.0     21.0     19.0     18.0   \n",
       "2                AB12     68.0     52.0     58.0     45.0     41.0     36.0   \n",
       "3                AB13     10.0      9.0     11.0     11.0     10.0      9.0   \n",
       "4                AB14     15.0     10.0     10.0     10.0      9.0      7.0   \n",
       "\n",
       "   2019 Q1  2018 Q4  2018 Q3  ...  2014 Q1  2013 Q4  2013 Q3  2013 Q2  \\\n",
       "0     17.0     14.0     14.0  ...      0.0      0.0      0.0      0.0   \n",
       "1     17.0     15.0     14.0  ...      0.0      0.0      0.0      0.0   \n",
       "2     32.0     29.0     24.0  ...      0.0      0.0      0.0      0.0   \n",
       "3      9.0      8.0      5.0  ...      0.0      0.0      0.0      0.0   \n",
       "4      7.0      6.0      5.0  ...      0.0      0.0      0.0      0.0   \n",
       "\n",
       "   2013 Q1  2012 Q4  2012 Q3  2012 Q2  2012 Q1  2011 Q4  \n",
       "0      0.0      0.0      0.0      0.0      0.0      0.0  \n",
       "1      0.0      0.0      0.0      0.0      0.0      0.0  \n",
       "2      0.0      0.0      0.0      0.0      0.0      0.0  \n",
       "3      0.0      0.0      0.0      0.0      0.0      0.0  \n",
       "4      0.0      0.0      0.0      0.0      0.0      0.0  \n",
       "\n",
       "[5 rows x 37 columns]"
      ]
     },
     "execution_count": 43,
     "metadata": {},
     "output_type": "execute_result"
    }
   ],
   "source": [
    "dft_bev.head()"
   ]
  },
  {
   "cell_type": "code",
   "execution_count": 44,
   "metadata": {
    "scrolled": true
   },
   "outputs": [
    {
     "name": "stdout",
     "output_type": "stream",
     "text": [
      "Missing 358 Postcode Districts out of 2951 (12.13% of the data)\n"
     ]
    }
   ],
   "source": [
    "print('Missing {num} Postcode Districts out of {pd_len} ({per:.2f}% of the data)'.format(num = postcode_district_number - len(dft_bev), pd_len = postcode_district_number, per = (1-len(dft_bev)/postcode_district_number)*100))"
   ]
  },
  {
   "cell_type": "code",
   "execution_count": 45,
   "metadata": {
    "executionInfo": {
     "elapsed": 836,
     "status": "ok",
     "timestamp": 1610108367922,
     "user": {
      "displayName": "Andrea Di Antonio",
      "photoUrl": "",
      "userId": "00274323577290199816"
     },
     "user_tz": 0
    },
    "id": "X59PI79G6tv_"
   },
   "outputs": [],
   "source": [
    "dft_bev_nhb = dft_bev.set_index('Postcode District 2')"
   ]
  },
  {
   "cell_type": "code",
   "execution_count": 46,
   "metadata": {
    "colab": {
     "base_uri": "https://localhost:8080/",
     "height": 314
    },
    "executionInfo": {
     "elapsed": 884,
     "status": "ok",
     "timestamp": 1610113330657,
     "user": {
      "displayName": "Andrea Di Antonio",
      "photoUrl": "",
      "userId": "00274323577290199816"
     },
     "user_tz": 0
    },
    "id": "OVx8RcSh8C-a",
    "outputId": "0d2dc656-c6e0-4242-dab5-558bd1f0eb7a"
   },
   "outputs": [
    {
     "data": {
      "image/png": "[encoded data removed]",
      "text/plain": [
       "<Figure size 432x288 with 1 Axes>"
      ]
     },
     "metadata": {
      "needs_background": "light"
     },
     "output_type": "display_data"
    }
   ],
   "source": [
    "##Plot the NEIGHBOURHOOD level (i.e. Partial Postcode) of BEVs uptake\n",
    "\n",
    "nhb_val = 'CB3'\n",
    "nhb_sel = dft_bev_nhb.loc[nhb_val].reindex(index=dft_bev_nhb.loc[nhb_val].index[::-1])\n",
    "plt.bar(nhb_sel.index,nhb_sel,.5)\n",
    "plt.xticks(rotation = 90)\n",
    "plt.ylabel('Number of BEVs')\n",
    "plt.title('BEVs uptake in '+nhb_val)\n",
    "plt.show() "
   ]
  },
  {
   "cell_type": "code",
   "execution_count": 47,
   "metadata": {
    "id": "cjc4BhAvN7_h"
   },
   "outputs": [],
   "source": [
    "#Import Plug-in Hybrid Electric Vehicles (PHEVs) data\n",
    "dft_phev_import = read_ods(dirname+'/veh0134.ods', 'VEH0134c')\n",
    "dft_phev = dft_phev_import[6:-14]\n",
    "dft_phev.columns = dft_phev_import.iloc[5].values\n",
    "dft_phev.reset_index(inplace=True, drop=True)"
   ]
  },
  {
   "cell_type": "code",
   "execution_count": 48,
   "metadata": {
    "colab": {
     "base_uri": "https://localhost:8080/"
    },
    "executionInfo": {
     "elapsed": 3346,
     "status": "ok",
     "timestamp": 1610020214962,
     "user": {
      "displayName": "Andrea Di Antonio",
      "photoUrl": "",
      "userId": "00274323577290199816"
     },
     "user_tz": 0
    },
    "id": "txIoscoMN7_h",
    "outputId": "08e31ee1-50c4-4c42-8b0c-d8b4dfc16ac2"
   },
   "outputs": [
    {
     "name": "stdout",
     "output_type": "stream",
     "text": [
      "Missing 4.56% of entire data\n"
     ]
    }
   ],
   "source": [
    "print('Missing {per:.2f}% of entire data'.format(per = len(dft_phev[dft_phev['2020 Q3']=='c'])/len(dft_phev)*100))"
   ]
  },
  {
   "cell_type": "code",
   "execution_count": 49,
   "metadata": {
    "id": "wSawjJkMN7_i",
    "scrolled": true
   },
   "outputs": [],
   "source": [
    "dft_phev = dft_phev.replace({'c':0})"
   ]
  },
  {
   "cell_type": "markdown",
   "metadata": {},
   "source": [
    "# Import ULEVs data by local authority"
   ]
  },
  {
   "cell_type": "code",
   "execution_count": 50,
   "metadata": {},
   "outputs": [],
   "source": [
    "#Import Battery Electric Vehicles (BEVs) table by LA\n",
    "dft_bev_la_import = read_ods(dirname+'/veh0132.ods', 'VEH0132b')\n",
    "dft_bev_la = dft_bev_la_import[6:-14]\n",
    "dft_bev_la.columns = dft_bev_la_import.iloc[5].values\n",
    "dft_bev_la.reset_index(inplace=True, drop=True)"
   ]
  },
  {
   "cell_type": "code",
   "execution_count": 51,
   "metadata": {},
   "outputs": [],
   "source": [
    "dft_bev_la_sel = dft_bev_la[dft_bev_la['ONS LA Code'].isin(la_list)]\n",
    "dft_bev_la_sel = dft_bev_la_sel.drop(['Region/Local Authority'],axis = 1).set_index(['ONS LA Code'])\n",
    "dft_bev_la_sel = dft_bev_la_sel.replace({'c':0})"
   ]
  },
  {
   "cell_type": "code",
   "execution_count": 52,
   "metadata": {
    "scrolled": true
   },
   "outputs": [
    {
     "name": "stdout",
     "output_type": "stream",
     "text": [
      "Missing 8 Local Authorities out of 379 (2.11% of the data)\n"
     ]
    }
   ],
   "source": [
    "print('Missing {num} Local Authorities out of {la_len} ({per:.2f}% of the data)'.format(num = len(la_list) - len(dft_bev_la_sel), la_len = len(la_list),  per = 100-(len(dft_bev_la_sel))/len(la_list)*100))"
   ]
  },
  {
   "cell_type": "code",
   "execution_count": 54,
   "metadata": {
    "scrolled": false
   },
   "outputs": [
    {
     "data": {
      "image/png": "[encoded data removed]",
      "text/plain": [
       "<Figure size 432x288 with 1 Axes>"
      ]
     },
     "metadata": {
      "needs_background": "light"
     },
     "output_type": "display_data"
    }
   ],
   "source": [
    "##Plot the Local Authority level of BEVs uptake\n",
    "\n",
    "la_val = 'Cambridge'\n",
    "la_sel = dft_bev_la_sel.loc[dic_name[la_val]].reindex(index=dft_bev_la_sel.loc[dic_name[la_val]].index[::-1])\n",
    "plt.bar(la_sel.index,la_sel,.5)\n",
    "plt.xticks(rotation = 90)\n",
    "plt.ylabel('Number of BEVs')\n",
    "plt.title('BEVs uptake in '+la_val)\n",
    "plt.show() "
   ]
  },
  {
   "cell_type": "code",
   "execution_count": 157,
   "metadata": {},
   "outputs": [],
   "source": [
    "def plot_postcode_district(df_nhb, la_val):\n",
    "    \n",
    "    dataframe = df_nhb[df_nhb.index.isin(dic_la[dic_name[la_val]])]\n",
    "    \n",
    "    print('Missing {num} Postcode Districts out of {la_len} ({per:.2f}% of the data)'.format(num = len(dic_la[dic_name[la_val]]) - len(dataframe), \n",
    "                                                                                        la_len = len(dic_la[dic_name[la_val]]),  \n",
    "                                                                                        per = 100-(len(dataframe)/len(dic_la[dic_name[la_val]]))*100))\n",
    "    \n",
    "    for i in range(2,len(dataframe)+1):\n",
    "        if len(dataframe)%i == 0:\n",
    "            n_col = i\n",
    "            break\n",
    "    if n_col == len(dataframe):\n",
    "        n_row = int((n_col-1)/4)\n",
    "        n_col = math.ceil(len(dataframe) / n_row)\n",
    "    else:\n",
    "        n_row = math.ceil(len(dataframe)/n_col)\n",
    "        \n",
    "    fig, ax = plt.subplots(n_row,n_col,figsize=(30,25),dpi=300)\n",
    "    idx_1=0\n",
    "    idx_2=0\n",
    "\n",
    "\n",
    "    ymax = round(dataframe.max().max()/10)*10\n",
    "\n",
    "    for nhb_val in sorted(dataframe.index):\n",
    "        if idx_2 ==n_col:\n",
    "            idx_1 +=1\n",
    "            idx_2 = 0\n",
    "\n",
    "        nhb_sel = dataframe.loc[nhb_val].reindex(index=dataframe.loc[nhb_val].index[::-1])\n",
    "        x = np.arange(len(nhb_sel.index))\n",
    "        width = 0.7\n",
    "\n",
    "\n",
    "        ax[idx_1,idx_2].bar(nhb_sel.index,nhb_sel,width) \n",
    "        ax[idx_1,idx_2].set_title('BEVs uptake in '+nhb_val)\n",
    "        idx_2+=1\n",
    "\n",
    "    while(idx_2<n_col):\n",
    "        fig.delaxes(ax[idx_1,idx_2])\n",
    "        idx_2+=1\n",
    "\n",
    "    for ax in ax.flat:\n",
    "        ax.label_outer()\n",
    "        ax.set_ylim(0,ymax)\n",
    "        ax.set_xlim(0,len(x))\n",
    "\n",
    "        ax.set_xticks(x)\n",
    "        ax.set_xticklabels(nhb_sel.index, rotation = 90, fontsize = 13 )\n",
    "        ax.set_ylabel('Number of BEVs')\n",
    "\n",
    "\n",
    "    fig.suptitle('BEVs uptake in '+la_val, fontsize=20)\n",
    "    fig.tight_layout(rect=[0, 0.03, 1, 0.95])\n",
    "    fig.savefig(la_val+'.png', bbox_inches='tight', dpi = 300)"
   ]
  },
  {
   "cell_type": "code",
   "execution_count": 159,
   "metadata": {},
   "outputs": [],
   "source": [
    "west_yorkshire = ['Bradford','Calderdale','Kirklees','Leeds','Wakefield']"
   ]
  },
  {
   "cell_type": "code",
   "execution_count": 486,
   "metadata": {},
   "outputs": [],
   "source": [
    "la_val = west_yorkshire[4]"
   ]
  },
  {
   "cell_type": "code",
   "execution_count": 490,
   "metadata": {},
   "outputs": [
    {
     "name": "stdout",
     "output_type": "stream",
     "text": [
      "Missing 1 Postcode Districts out of 18 (5.56% of the data)\n"
     ]
    },
    {
     "data": {
      "image/png": "[encoded data removed]",
      "text/plain": [
       "<Figure size 9000x7500 with 17 Axes>"
      ]
     },
     "metadata": {
      "needs_background": "light"
     },
     "output_type": "display_data"
    }
   ],
   "source": [
    "plot_postcode_district(dft_bev_nhb,la_val)"
   ]
  },
  {
   "cell_type": "markdown",
   "metadata": {},
   "source": [
    "## National Trend"
   ]
  },
  {
   "cell_type": "code",
   "execution_count": 162,
   "metadata": {},
   "outputs": [],
   "source": [
    "dft_bev_all = pd.DataFrame(dft_bev_la.iloc[0][2:])\n",
    "dft_bev_all = dft_bev_all.reindex(index=dft_bev_all.index[::-1]) # Sort the index (Time) in ascending order \n",
    "dft_bev_all.index.names =['Time']\n",
    "dft_bev_all.columns =['Total BEVs']"
   ]
  },
  {
   "cell_type": "code",
   "execution_count": 164,
   "metadata": {},
   "outputs": [
    {
     "data": {
      "image/png": "[encoded data removed]",
      "text/plain": [
       "<Figure size 1296x576 with 1 Axes>"
      ]
     },
     "metadata": {
      "needs_background": "light"
     },
     "output_type": "display_data"
    }
   ],
   "source": [
    "##Plot the National level of BEVs uptake\n",
    "\n",
    "df_charges_bev = pd.concat([df_charges_quarter,dft_bev_all], axis = 1, join = 'inner')\n",
    "\n",
    "x = np.arange(len(df_charges_bev.index))\n",
    "width = 0.35  # the width of the bars\n",
    "\n",
    "fig, ax = plt.subplots(figsize=(18,8))\n",
    "rects1 = ax.bar(x - width/2, df_charges_bev['Total  Devices'], width, label='Devices')\n",
    "rects2 = ax.bar(x + width/2, df_charges_bev['Total BEVs'], width, label='BEVs')\n",
    "\n",
    "# Add some text for labels, title and custom x-axis tick labels, etc.\n",
    "ax.set_ylabel('Total number')\n",
    "ax.set_title('BEVs VS Devices Quarterly Trend')\n",
    "ax.set_xticks(x)\n",
    "ax.set_xticklabels(df_charges_bev.index, rotation = 90)\n",
    "ax.legend()\n",
    "\n",
    "fig.tight_layout()\n",
    "\n",
    "plt.show()\n",
    "fig.savefig('Devices_BEVs_UK.png', bbox_inches='tight', dpi = 300)"
   ]
  },
  {
   "cell_type": "markdown",
   "metadata": {},
   "source": [
    "# Import ALL vehicles data by postcode district"
   ]
  },
  {
   "cell_type": "code",
   "execution_count": 165,
   "metadata": {},
   "outputs": [],
   "source": [
    "sheet_index = sorted(['2020', '2019', '2018', '2017', '2016', '2015'])"
   ]
  },
  {
   "cell_type": "code",
   "execution_count": 166,
   "metadata": {},
   "outputs": [],
   "source": [
    "df = []\n",
    "\n",
    "for idx in sheet_index:\n",
    "    dft_all_import = read_ods(dirname+'/veh0122.ods', idx)\n",
    "    dft_all_import = dft_all_import[dft_all_import.iloc[:,1].notnull()]\n",
    "    dft_all = dft_all_import[2:]\n",
    "    dft_all.columns = dft_all_import.iloc[1].values\n",
    "    dft_all = dft_all.set_index('Postcode District')\n",
    "    dft_all_sel = dft_all['Cars']\n",
    "    dft_all_sel.columns = [idx +' Q'+str(i+1) for i in range(len(dft_all_sel.columns))]\n",
    "    df.append(dft_all_sel)"
   ]
  },
  {
   "cell_type": "code",
   "execution_count": 167,
   "metadata": {},
   "outputs": [],
   "source": [
    "dft_all_merged = pd.concat(df, axis =1,join='inner')\n",
    "dft_all_merged = dft_all_merged.iloc[:,3:]"
   ]
  },
  {
   "cell_type": "code",
   "execution_count": 168,
   "metadata": {},
   "outputs": [
    {
     "name": "stdout",
     "output_type": "stream",
     "text": [
      "Missing 0.52% of entire data\n"
     ]
    }
   ],
   "source": [
    "print('Missing {per:.2f}% of entire data'.format(per = len(dft_all_merged[dft_all_merged['2020 Q3']=='c'])/len(dft_all_merged)*100))"
   ]
  },
  {
   "cell_type": "code",
   "execution_count": 169,
   "metadata": {},
   "outputs": [],
   "source": [
    "dft_all_merged =dft_all_merged.replace({'c':0})"
   ]
  },
  {
   "cell_type": "code",
   "execution_count": 170,
   "metadata": {},
   "outputs": [],
   "source": [
    "df_intersect =[]\n",
    "for item in dft_all_merged.index: \n",
    "    if item in dft_bev_nhb.index.tolist():\n",
    "        df_intersect.append(item)"
   ]
  },
  {
   "cell_type": "code",
   "execution_count": 171,
   "metadata": {},
   "outputs": [
    {
     "name": "stdout",
     "output_type": "stream",
     "text": [
      "Missing 359 Postcode Districts out of 2951 (12.17% of the data)\n"
     ]
    }
   ],
   "source": [
    "print('Missing {num} Postcode Districts out of {pd_len} ({per:.2f}% of the data)'.format(num = postcode_district_number - len(df_intersect), pd_len = postcode_district_number, per = (1-len(df_intersect)/postcode_district_number)*100))"
   ]
  },
  {
   "cell_type": "code",
   "execution_count": 172,
   "metadata": {},
   "outputs": [],
   "source": [
    "dft_bev_nhb_sel = dft_bev_nhb[dft_bev_nhb.index.isin(df_intersect)]\n",
    "dft_all_merged_sel = dft_all_merged[dft_all_merged.index.isin(df_intersect)]"
   ]
  },
  {
   "cell_type": "code",
   "execution_count": 173,
   "metadata": {},
   "outputs": [],
   "source": [
    "dft_ratio = dft_bev_nhb_sel/dft_all_merged_sel*100"
   ]
  },
  {
   "cell_type": "code",
   "execution_count": 174,
   "metadata": {
    "scrolled": true
   },
   "outputs": [
    {
     "data": {
      "text/html": [
       "<div>\n",
       "<style scoped>\n",
       "    .dataframe tbody tr th:only-of-type {\n",
       "        vertical-align: middle;\n",
       "    }\n",
       "\n",
       "    .dataframe tbody tr th {\n",
       "        vertical-align: top;\n",
       "    }\n",
       "\n",
       "    .dataframe thead th {\n",
       "        text-align: right;\n",
       "    }\n",
       "</style>\n",
       "<table border=\"1\" class=\"dataframe\">\n",
       "  <thead>\n",
       "    <tr style=\"text-align: right;\">\n",
       "      <th></th>\n",
       "      <th>2011 Q4</th>\n",
       "      <th>2012 Q1</th>\n",
       "      <th>2012 Q2</th>\n",
       "      <th>2012 Q3</th>\n",
       "      <th>2012 Q4</th>\n",
       "      <th>2013 Q1</th>\n",
       "      <th>2013 Q2</th>\n",
       "      <th>2013 Q3</th>\n",
       "      <th>2013 Q4</th>\n",
       "      <th>2014 Q1</th>\n",
       "      <th>...</th>\n",
       "      <th>2018 Q2</th>\n",
       "      <th>2018 Q3</th>\n",
       "      <th>2018 Q4</th>\n",
       "      <th>2019 Q1</th>\n",
       "      <th>2019 Q2</th>\n",
       "      <th>2019 Q3</th>\n",
       "      <th>2019 Q4</th>\n",
       "      <th>2020 Q1</th>\n",
       "      <th>2020 Q2</th>\n",
       "      <th>2020 Q3</th>\n",
       "    </tr>\n",
       "    <tr>\n",
       "      <th>Postcode District 2</th>\n",
       "      <th></th>\n",
       "      <th></th>\n",
       "      <th></th>\n",
       "      <th></th>\n",
       "      <th></th>\n",
       "      <th></th>\n",
       "      <th></th>\n",
       "      <th></th>\n",
       "      <th></th>\n",
       "      <th></th>\n",
       "      <th></th>\n",
       "      <th></th>\n",
       "      <th></th>\n",
       "      <th></th>\n",
       "      <th></th>\n",
       "      <th></th>\n",
       "      <th></th>\n",
       "      <th></th>\n",
       "      <th></th>\n",
       "      <th></th>\n",
       "      <th></th>\n",
       "    </tr>\n",
       "  </thead>\n",
       "  <tbody>\n",
       "    <tr>\n",
       "      <th>AB10</th>\n",
       "      <td>NaN</td>\n",
       "      <td>NaN</td>\n",
       "      <td>NaN</td>\n",
       "      <td>NaN</td>\n",
       "      <td>NaN</td>\n",
       "      <td>NaN</td>\n",
       "      <td>NaN</td>\n",
       "      <td>NaN</td>\n",
       "      <td>NaN</td>\n",
       "      <td>NaN</td>\n",
       "      <td>...</td>\n",
       "      <td>0.143954</td>\n",
       "      <td>0.168007</td>\n",
       "      <td>0.168756</td>\n",
       "      <td>0.204180</td>\n",
       "      <td>0.203886</td>\n",
       "      <td>0.215388</td>\n",
       "      <td>0.228201</td>\n",
       "      <td>0.288496</td>\n",
       "      <td>0.245008</td>\n",
       "      <td>0.328907</td>\n",
       "    </tr>\n",
       "    <tr>\n",
       "      <th>AB11</th>\n",
       "      <td>NaN</td>\n",
       "      <td>NaN</td>\n",
       "      <td>NaN</td>\n",
       "      <td>NaN</td>\n",
       "      <td>NaN</td>\n",
       "      <td>NaN</td>\n",
       "      <td>NaN</td>\n",
       "      <td>NaN</td>\n",
       "      <td>NaN</td>\n",
       "      <td>NaN</td>\n",
       "      <td>...</td>\n",
       "      <td>0.214231</td>\n",
       "      <td>0.214329</td>\n",
       "      <td>0.230521</td>\n",
       "      <td>0.260417</td>\n",
       "      <td>0.275651</td>\n",
       "      <td>0.292038</td>\n",
       "      <td>0.321938</td>\n",
       "      <td>0.322185</td>\n",
       "      <td>0.374123</td>\n",
       "      <td>0.432967</td>\n",
       "    </tr>\n",
       "    <tr>\n",
       "      <th>AB12</th>\n",
       "      <td>NaN</td>\n",
       "      <td>NaN</td>\n",
       "      <td>NaN</td>\n",
       "      <td>NaN</td>\n",
       "      <td>NaN</td>\n",
       "      <td>NaN</td>\n",
       "      <td>NaN</td>\n",
       "      <td>NaN</td>\n",
       "      <td>NaN</td>\n",
       "      <td>NaN</td>\n",
       "      <td>...</td>\n",
       "      <td>0.156250</td>\n",
       "      <td>0.156709</td>\n",
       "      <td>0.190464</td>\n",
       "      <td>0.208537</td>\n",
       "      <td>0.233675</td>\n",
       "      <td>0.264943</td>\n",
       "      <td>0.293580</td>\n",
       "      <td>0.374653</td>\n",
       "      <td>0.347501</td>\n",
       "      <td>0.444619</td>\n",
       "    </tr>\n",
       "    <tr>\n",
       "      <th>AB13</th>\n",
       "      <td>NaN</td>\n",
       "      <td>NaN</td>\n",
       "      <td>NaN</td>\n",
       "      <td>NaN</td>\n",
       "      <td>NaN</td>\n",
       "      <td>NaN</td>\n",
       "      <td>NaN</td>\n",
       "      <td>NaN</td>\n",
       "      <td>NaN</td>\n",
       "      <td>NaN</td>\n",
       "      <td>...</td>\n",
       "      <td>0.000000</td>\n",
       "      <td>0.275330</td>\n",
       "      <td>0.438356</td>\n",
       "      <td>0.493963</td>\n",
       "      <td>0.492341</td>\n",
       "      <td>0.537634</td>\n",
       "      <td>0.594595</td>\n",
       "      <td>0.584174</td>\n",
       "      <td>0.486224</td>\n",
       "      <td>0.531350</td>\n",
       "    </tr>\n",
       "    <tr>\n",
       "      <th>AB14</th>\n",
       "      <td>NaN</td>\n",
       "      <td>NaN</td>\n",
       "      <td>NaN</td>\n",
       "      <td>NaN</td>\n",
       "      <td>NaN</td>\n",
       "      <td>NaN</td>\n",
       "      <td>NaN</td>\n",
       "      <td>NaN</td>\n",
       "      <td>NaN</td>\n",
       "      <td>NaN</td>\n",
       "      <td>...</td>\n",
       "      <td>0.235386</td>\n",
       "      <td>0.194099</td>\n",
       "      <td>0.233191</td>\n",
       "      <td>0.270270</td>\n",
       "      <td>0.269127</td>\n",
       "      <td>0.342335</td>\n",
       "      <td>0.384320</td>\n",
       "      <td>0.379795</td>\n",
       "      <td>0.384615</td>\n",
       "      <td>0.574713</td>\n",
       "    </tr>\n",
       "    <tr>\n",
       "      <th>...</th>\n",
       "      <td>...</td>\n",
       "      <td>...</td>\n",
       "      <td>...</td>\n",
       "      <td>...</td>\n",
       "      <td>...</td>\n",
       "      <td>...</td>\n",
       "      <td>...</td>\n",
       "      <td>...</td>\n",
       "      <td>...</td>\n",
       "      <td>...</td>\n",
       "      <td>...</td>\n",
       "      <td>...</td>\n",
       "      <td>...</td>\n",
       "      <td>...</td>\n",
       "      <td>...</td>\n",
       "      <td>...</td>\n",
       "      <td>...</td>\n",
       "      <td>...</td>\n",
       "      <td>...</td>\n",
       "      <td>...</td>\n",
       "      <td>...</td>\n",
       "    </tr>\n",
       "    <tr>\n",
       "      <th>YO62</th>\n",
       "      <td>NaN</td>\n",
       "      <td>NaN</td>\n",
       "      <td>NaN</td>\n",
       "      <td>NaN</td>\n",
       "      <td>NaN</td>\n",
       "      <td>NaN</td>\n",
       "      <td>NaN</td>\n",
       "      <td>NaN</td>\n",
       "      <td>NaN</td>\n",
       "      <td>NaN</td>\n",
       "      <td>...</td>\n",
       "      <td>0.144991</td>\n",
       "      <td>0.159513</td>\n",
       "      <td>0.189726</td>\n",
       "      <td>0.231750</td>\n",
       "      <td>0.258732</td>\n",
       "      <td>0.284495</td>\n",
       "      <td>0.300989</td>\n",
       "      <td>0.300989</td>\n",
       "      <td>0.362739</td>\n",
       "      <td>0.386930</td>\n",
       "    </tr>\n",
       "    <tr>\n",
       "      <th>YO7</th>\n",
       "      <td>NaN</td>\n",
       "      <td>NaN</td>\n",
       "      <td>NaN</td>\n",
       "      <td>NaN</td>\n",
       "      <td>NaN</td>\n",
       "      <td>NaN</td>\n",
       "      <td>NaN</td>\n",
       "      <td>NaN</td>\n",
       "      <td>NaN</td>\n",
       "      <td>NaN</td>\n",
       "      <td>...</td>\n",
       "      <td>0.076785</td>\n",
       "      <td>0.093220</td>\n",
       "      <td>0.110254</td>\n",
       "      <td>0.110516</td>\n",
       "      <td>0.126146</td>\n",
       "      <td>0.133500</td>\n",
       "      <td>0.159129</td>\n",
       "      <td>0.183563</td>\n",
       "      <td>0.193196</td>\n",
       "      <td>0.198495</td>\n",
       "    </tr>\n",
       "    <tr>\n",
       "      <th>YO8</th>\n",
       "      <td>NaN</td>\n",
       "      <td>NaN</td>\n",
       "      <td>NaN</td>\n",
       "      <td>NaN</td>\n",
       "      <td>NaN</td>\n",
       "      <td>NaN</td>\n",
       "      <td>NaN</td>\n",
       "      <td>NaN</td>\n",
       "      <td>NaN</td>\n",
       "      <td>NaN</td>\n",
       "      <td>...</td>\n",
       "      <td>0.088272</td>\n",
       "      <td>0.098959</td>\n",
       "      <td>0.123491</td>\n",
       "      <td>0.126743</td>\n",
       "      <td>0.144706</td>\n",
       "      <td>0.167062</td>\n",
       "      <td>0.186887</td>\n",
       "      <td>0.193851</td>\n",
       "      <td>0.226068</td>\n",
       "      <td>0.230371</td>\n",
       "    </tr>\n",
       "    <tr>\n",
       "      <th>ZE1</th>\n",
       "      <td>NaN</td>\n",
       "      <td>NaN</td>\n",
       "      <td>NaN</td>\n",
       "      <td>NaN</td>\n",
       "      <td>NaN</td>\n",
       "      <td>NaN</td>\n",
       "      <td>NaN</td>\n",
       "      <td>NaN</td>\n",
       "      <td>NaN</td>\n",
       "      <td>NaN</td>\n",
       "      <td>...</td>\n",
       "      <td>0.000000</td>\n",
       "      <td>0.000000</td>\n",
       "      <td>0.000000</td>\n",
       "      <td>0.000000</td>\n",
       "      <td>0.000000</td>\n",
       "      <td>0.124844</td>\n",
       "      <td>0.202788</td>\n",
       "      <td>0.209534</td>\n",
       "      <td>0.214190</td>\n",
       "      <td>0.234987</td>\n",
       "    </tr>\n",
       "    <tr>\n",
       "      <th>ZE2</th>\n",
       "      <td>NaN</td>\n",
       "      <td>NaN</td>\n",
       "      <td>NaN</td>\n",
       "      <td>NaN</td>\n",
       "      <td>NaN</td>\n",
       "      <td>NaN</td>\n",
       "      <td>NaN</td>\n",
       "      <td>NaN</td>\n",
       "      <td>NaN</td>\n",
       "      <td>NaN</td>\n",
       "      <td>...</td>\n",
       "      <td>0.202020</td>\n",
       "      <td>0.214880</td>\n",
       "      <td>0.201694</td>\n",
       "      <td>0.174825</td>\n",
       "      <td>0.200776</td>\n",
       "      <td>0.212936</td>\n",
       "      <td>0.213078</td>\n",
       "      <td>0.239362</td>\n",
       "      <td>0.243474</td>\n",
       "      <td>0.269288</td>\n",
       "    </tr>\n",
       "  </tbody>\n",
       "</table>\n",
       "<p>2592 rows × 36 columns</p>\n",
       "</div>"
      ],
      "text/plain": [
       "                     2011 Q4  2012 Q1  2012 Q2  2012 Q3  2012 Q4  2013 Q1  \\\n",
       "Postcode District 2                                                         \n",
       "AB10                     NaN      NaN      NaN      NaN      NaN      NaN   \n",
       "AB11                     NaN      NaN      NaN      NaN      NaN      NaN   \n",
       "AB12                     NaN      NaN      NaN      NaN      NaN      NaN   \n",
       "AB13                     NaN      NaN      NaN      NaN      NaN      NaN   \n",
       "AB14                     NaN      NaN      NaN      NaN      NaN      NaN   \n",
       "...                      ...      ...      ...      ...      ...      ...   \n",
       "YO62                     NaN      NaN      NaN      NaN      NaN      NaN   \n",
       "YO7                      NaN      NaN      NaN      NaN      NaN      NaN   \n",
       "YO8                      NaN      NaN      NaN      NaN      NaN      NaN   \n",
       "ZE1                      NaN      NaN      NaN      NaN      NaN      NaN   \n",
       "ZE2                      NaN      NaN      NaN      NaN      NaN      NaN   \n",
       "\n",
       "                     2013 Q2  2013 Q3  2013 Q4  2014 Q1  ...   2018 Q2  \\\n",
       "Postcode District 2                                      ...             \n",
       "AB10                     NaN      NaN      NaN      NaN  ...  0.143954   \n",
       "AB11                     NaN      NaN      NaN      NaN  ...  0.214231   \n",
       "AB12                     NaN      NaN      NaN      NaN  ...  0.156250   \n",
       "AB13                     NaN      NaN      NaN      NaN  ...  0.000000   \n",
       "AB14                     NaN      NaN      NaN      NaN  ...  0.235386   \n",
       "...                      ...      ...      ...      ...  ...       ...   \n",
       "YO62                     NaN      NaN      NaN      NaN  ...  0.144991   \n",
       "YO7                      NaN      NaN      NaN      NaN  ...  0.076785   \n",
       "YO8                      NaN      NaN      NaN      NaN  ...  0.088272   \n",
       "ZE1                      NaN      NaN      NaN      NaN  ...  0.000000   \n",
       "ZE2                      NaN      NaN      NaN      NaN  ...  0.202020   \n",
       "\n",
       "                      2018 Q3   2018 Q4   2019 Q1   2019 Q2   2019 Q3  \\\n",
       "Postcode District 2                                                     \n",
       "AB10                 0.168007  0.168756  0.204180  0.203886  0.215388   \n",
       "AB11                 0.214329  0.230521  0.260417  0.275651  0.292038   \n",
       "AB12                 0.156709  0.190464  0.208537  0.233675  0.264943   \n",
       "AB13                 0.275330  0.438356  0.493963  0.492341  0.537634   \n",
       "AB14                 0.194099  0.233191  0.270270  0.269127  0.342335   \n",
       "...                       ...       ...       ...       ...       ...   \n",
       "YO62                 0.159513  0.189726  0.231750  0.258732  0.284495   \n",
       "YO7                  0.093220  0.110254  0.110516  0.126146  0.133500   \n",
       "YO8                  0.098959  0.123491  0.126743  0.144706  0.167062   \n",
       "ZE1                  0.000000  0.000000  0.000000  0.000000  0.124844   \n",
       "ZE2                  0.214880  0.201694  0.174825  0.200776  0.212936   \n",
       "\n",
       "                      2019 Q4   2020 Q1   2020 Q2   2020 Q3  \n",
       "Postcode District 2                                          \n",
       "AB10                 0.228201  0.288496  0.245008  0.328907  \n",
       "AB11                 0.321938  0.322185  0.374123  0.432967  \n",
       "AB12                 0.293580  0.374653  0.347501  0.444619  \n",
       "AB13                 0.594595  0.584174  0.486224  0.531350  \n",
       "AB14                 0.384320  0.379795  0.384615  0.574713  \n",
       "...                       ...       ...       ...       ...  \n",
       "YO62                 0.300989  0.300989  0.362739  0.386930  \n",
       "YO7                  0.159129  0.183563  0.193196  0.198495  \n",
       "YO8                  0.186887  0.193851  0.226068  0.230371  \n",
       "ZE1                  0.202788  0.209534  0.214190  0.234987  \n",
       "ZE2                  0.213078  0.239362  0.243474  0.269288  \n",
       "\n",
       "[2592 rows x 36 columns]"
      ]
     },
     "execution_count": 174,
     "metadata": {},
     "output_type": "execute_result"
    }
   ],
   "source": [
    "dft_ratio"
   ]
  },
  {
   "cell_type": "code",
   "execution_count": 176,
   "metadata": {},
   "outputs": [
    {
     "name": "stdout",
     "output_type": "stream",
     "text": [
      "Missing 7.89% of England data\n",
      "Missing 8.75% of N. Ireland data\n",
      "Missing 30.77% of Scotland data\n",
      "Missing 31.28% of Wales data\n"
     ]
    }
   ],
   "source": [
    "print('Missing {per:.2f}% of England data'.format(per = (1-len(dft_ratio[dft_ratio.index.isin(dic_country[ctry_list[1]])])/len(postcode_active[postcode_active['ctry']==ctry_list[1]]['Postcode District'].unique()))*100)) \n",
    "print('Missing {per:.2f}% of N. Ireland data'.format(per = (1-len(dft_ratio[dft_ratio.index.isin(dic_country[ctry_list[2]])])/len(postcode_active[postcode_active['ctry']==ctry_list[2]]['Postcode District'].unique()))*100)) \n",
    "print('Missing {per:.2f}% of Scotland data'.format(per = (1-len(dft_ratio[dft_ratio.index.isin(dic_country[ctry_list[0]])])/len(postcode_active[postcode_active['ctry']==ctry_list[0]]['Postcode District'].unique()))*100)) \n",
    "print('Missing {per:.2f}% of Wales data'.format(per = (1-len(dft_ratio[dft_ratio.index.isin(dic_country[ctry_list[3]])])/len(postcode_active[postcode_active['ctry']==ctry_list[3]]['Postcode District'].unique()))*100)) "
   ]
  },
  {
   "cell_type": "code",
   "execution_count": 177,
   "metadata": {},
   "outputs": [
    {
     "data": {
      "image/png": "[encoded data removed]",
      "text/plain": [
       "<Figure size 432x288 with 1 Axes>"
      ]
     },
     "metadata": {
      "needs_background": "light"
     },
     "output_type": "display_data"
    }
   ],
   "source": [
    "##Plot the NEIGHBOURHOOD level (i.e. Partial Postcode) of BEVs proportion to total car fleet\n",
    "\n",
    "nhb_val = 'CB1'\n",
    "nhb_sel = dft_ratio.loc[nhb_val]\n",
    "plt.bar(nhb_sel.index,nhb_sel,.5)\n",
    "plt.xticks(rotation = 90)\n",
    "plt.ylabel('% of BEVs of total car fleet')\n",
    "plt.title('BEVs percentage of total car fleet in '+nhb_val)\n",
    "plt.show() "
   ]
  },
  {
   "cell_type": "markdown",
   "metadata": {
    "id": "8Jj9xPNuN7_i"
   },
   "source": [
    "# Import private chargers data"
   ]
  },
  {
   "cell_type": "code",
   "execution_count": 180,
   "metadata": {},
   "outputs": [
    {
     "data": {
      "text/html": [
       "<div>\n",
       "<style scoped>\n",
       "    .dataframe tbody tr th:only-of-type {\n",
       "        vertical-align: middle;\n",
       "    }\n",
       "\n",
       "    .dataframe tbody tr th {\n",
       "        vertical-align: top;\n",
       "    }\n",
       "\n",
       "    .dataframe thead th {\n",
       "        text-align: right;\n",
       "    }\n",
       "</style>\n",
       "<table border=\"1\" class=\"dataframe\">\n",
       "  <thead>\n",
       "    <tr style=\"text-align: right;\">\n",
       "      <th></th>\n",
       "      <th>EVHS Grants</th>\n",
       "      <th>DRS Grants</th>\n",
       "    </tr>\n",
       "    <tr>\n",
       "      <th>Postcode District</th>\n",
       "      <th></th>\n",
       "      <th></th>\n",
       "    </tr>\n",
       "  </thead>\n",
       "  <tbody>\n",
       "    <tr>\n",
       "      <th>AB1</th>\n",
       "      <td>0</td>\n",
       "      <td>0</td>\n",
       "    </tr>\n",
       "    <tr>\n",
       "      <th>AB10</th>\n",
       "      <td>17</td>\n",
       "      <td>…</td>\n",
       "    </tr>\n",
       "    <tr>\n",
       "      <th>AB11</th>\n",
       "      <td>…</td>\n",
       "      <td>0</td>\n",
       "    </tr>\n",
       "    <tr>\n",
       "      <th>AB12</th>\n",
       "      <td>59</td>\n",
       "      <td>…</td>\n",
       "    </tr>\n",
       "    <tr>\n",
       "      <th>AB13</th>\n",
       "      <td>19</td>\n",
       "      <td>…</td>\n",
       "    </tr>\n",
       "  </tbody>\n",
       "</table>\n",
       "</div>"
      ],
      "text/plain": [
       "                  EVHS Grants DRS Grants\n",
       "Postcode District                       \n",
       "AB1                         0          0\n",
       "AB10                       17          …\n",
       "AB11                        …          0\n",
       "AB12                       59          …\n",
       "AB13                       19          …"
      ]
     },
     "execution_count": 180,
     "metadata": {},
     "output_type": "execute_result"
    }
   ],
   "source": [
    "fund_df_import = pd.read_excel(dirname+\"/EIR_E0019012.xlsx\")\n",
    "fund_df_import = fund_df_import[fund_df_import.iloc[:,2].notnull()].dropna(axis =1)\n",
    "\n",
    "fund_df = fund_df_import[1:]\n",
    "fund_df.columns = fund_df_import.iloc[0].values\n",
    "fund_df =fund_df.set_index('Postcode District')\n",
    "fund_df.head()"
   ]
  },
  {
   "cell_type": "code",
   "execution_count": 181,
   "metadata": {
    "id": "A5OGoh9CN7_i",
    "scrolled": true
   },
   "outputs": [],
   "source": [
    "# As stated in the file, all postcode districts with counts of at least one but fewer than ten have are indicated as \"…\".\n",
    "#For statistical purpose, a lower estimate of this value is 1 and therefore \"…\" is replaced by the value 1. \n",
    "fund_df = fund_df.replace({'…':1})"
   ]
  },
  {
   "cell_type": "code",
   "execution_count": 182,
   "metadata": {},
   "outputs": [
    {
     "data": {
      "text/html": [
       "<div>\n",
       "<style scoped>\n",
       "    .dataframe tbody tr th:only-of-type {\n",
       "        vertical-align: middle;\n",
       "    }\n",
       "\n",
       "    .dataframe tbody tr th {\n",
       "        vertical-align: top;\n",
       "    }\n",
       "\n",
       "    .dataframe thead th {\n",
       "        text-align: right;\n",
       "    }\n",
       "</style>\n",
       "<table border=\"1\" class=\"dataframe\">\n",
       "  <thead>\n",
       "    <tr style=\"text-align: right;\">\n",
       "      <th></th>\n",
       "      <th>EVHS Grants</th>\n",
       "      <th>DRS Grants</th>\n",
       "    </tr>\n",
       "    <tr>\n",
       "      <th>Postcode District</th>\n",
       "      <th></th>\n",
       "      <th></th>\n",
       "    </tr>\n",
       "  </thead>\n",
       "  <tbody>\n",
       "    <tr>\n",
       "      <th>AB1</th>\n",
       "      <td>0</td>\n",
       "      <td>0</td>\n",
       "    </tr>\n",
       "    <tr>\n",
       "      <th>AB10</th>\n",
       "      <td>17</td>\n",
       "      <td>1</td>\n",
       "    </tr>\n",
       "    <tr>\n",
       "      <th>AB11</th>\n",
       "      <td>1</td>\n",
       "      <td>0</td>\n",
       "    </tr>\n",
       "    <tr>\n",
       "      <th>AB12</th>\n",
       "      <td>59</td>\n",
       "      <td>1</td>\n",
       "    </tr>\n",
       "    <tr>\n",
       "      <th>AB13</th>\n",
       "      <td>19</td>\n",
       "      <td>1</td>\n",
       "    </tr>\n",
       "    <tr>\n",
       "      <th>...</th>\n",
       "      <td>...</td>\n",
       "      <td>...</td>\n",
       "    </tr>\n",
       "    <tr>\n",
       "      <th>ZE1</th>\n",
       "      <td>1</td>\n",
       "      <td>0</td>\n",
       "    </tr>\n",
       "    <tr>\n",
       "      <th>ZE2</th>\n",
       "      <td>1</td>\n",
       "      <td>0</td>\n",
       "    </tr>\n",
       "    <tr>\n",
       "      <th>ZE3</th>\n",
       "      <td>0</td>\n",
       "      <td>0</td>\n",
       "    </tr>\n",
       "    <tr>\n",
       "      <th>Unknown Postcode</th>\n",
       "      <td>387</td>\n",
       "      <td>221</td>\n",
       "    </tr>\n",
       "    <tr>\n",
       "      <th>Total</th>\n",
       "      <td>109019</td>\n",
       "      <td>40333</td>\n",
       "    </tr>\n",
       "  </tbody>\n",
       "</table>\n",
       "<p>3121 rows × 2 columns</p>\n",
       "</div>"
      ],
      "text/plain": [
       "                   EVHS Grants  DRS Grants\n",
       "Postcode District                         \n",
       "AB1                          0           0\n",
       "AB10                        17           1\n",
       "AB11                         1           0\n",
       "AB12                        59           1\n",
       "AB13                        19           1\n",
       "...                        ...         ...\n",
       "ZE1                          1           0\n",
       "ZE2                          1           0\n",
       "ZE3                          0           0\n",
       "Unknown Postcode           387         221\n",
       "Total                   109019       40333\n",
       "\n",
       "[3121 rows x 2 columns]"
      ]
     },
     "execution_count": 182,
     "metadata": {},
     "output_type": "execute_result"
    }
   ],
   "source": [
    "fund_df"
   ]
  },
  {
   "cell_type": "markdown",
   "metadata": {
    "id": "nsyPwPueN7_j"
   },
   "source": [
    "# Create a DataFrame containing the necessary information per Local Authority\n",
    "\n"
   ]
  },
  {
   "cell_type": "code",
   "execution_count": 183,
   "metadata": {},
   "outputs": [],
   "source": [
    "columns_name = ['ONS LA Code','Local Authority','Total electric vehicles (BEVs)','Total public charging devices','Total public charging devices per 100,000 population','Total private charging devices','Charging devices usage']\n",
    "summary_dataframe = pd.DataFrame({item:[] for item in columns_name})\n",
    "\n",
    "for area in la_list:\n",
    "    total_electric_vehicles = dft_bev_la[dft_bev_la['ONS LA Code']==area]['2020 Q3'].mean()\n",
    "    public_charging_devices,public_charging_devices_density = dft_charging_devices_available[dft_charging_devices_available['LA / Region Code']==area][['Total public\\ncharging devices','Charging devices per\\n100,000 population']].mean()\n",
    "    evhs_grant,drs_grant = fund_df[fund_df.index.isin(dic_la[area])][['EVHS Grants','DRS Grants']].sum()\n",
    "    \n",
    "    \n",
    "    total_public_charging_devices = int(public_charging_devices) \n",
    "    total_public_charging_devices_density = public_charging_devices_density\n",
    "    total_private_charging_devices = int(evhs_grant + drs_grant)\n",
    "    charging_devices_usage = private_or_public_charging(total_private_charging_devices, total_electric_vehicles)\n",
    "    \n",
    "    summary_dataframe = summary_dataframe.append(pd.DataFrame([[area,dic_code[area],total_electric_vehicles,total_public_charging_devices,total_public_charging_devices_density,total_private_charging_devices,charging_devices_usage]], columns = columns_name))\n",
    "    \n",
    "summary_dataframe = summary_dataframe.set_index('Local Authority') # Set the Local Authority name as the DataFrame index"
   ]
  },
  {
   "cell_type": "markdown",
   "metadata": {
    "id": "VRpFbKl4N7_k"
   },
   "source": [
    "# Print the lookup table for each Local Authority"
   ]
  },
  {
   "cell_type": "code",
   "execution_count": 184,
   "metadata": {},
   "outputs": [
    {
     "data": {
      "text/plain": [
       "'S12000027'"
      ]
     },
     "execution_count": 184,
     "metadata": {},
     "output_type": "execute_result"
    }
   ],
   "source": [
    "dic_name['Shetland Islands']"
   ]
  },
  {
   "cell_type": "code",
   "execution_count": 185,
   "metadata": {},
   "outputs": [
    {
     "name": "stdout",
     "output_type": "stream",
     "text": [
      "ONS LA Code                                                         S12000027\n",
      "Total electric vehicles (BEVs)                                       29.00000\n",
      "Total public charging devices                                        17.00000\n",
      "Total public charging devices per 100,000 population                 74.17103\n",
      "Total private charging devices                                        2.00000\n",
      "Charging devices usage                                  Predomintantly public\n",
      "Name: Shetland Islands, dtype: object\n"
     ]
    }
   ],
   "source": [
    "##Lookup table for each local authority number of EVs, public and private charging devices \n",
    "la_code = 'S12000027'\n",
    "\n",
    "print(summary_dataframe.loc[dic_code[la_code]])"
   ]
  },
  {
   "cell_type": "markdown",
   "metadata": {},
   "source": [
    "# Identify Local Authorities where the commercial fleet is statistically significant"
   ]
  },
  {
   "cell_type": "code",
   "execution_count": 186,
   "metadata": {},
   "outputs": [],
   "source": [
    "#Subselect for the dataframe the local authorities where there are more EVs than private chargers \n",
    "ratios = summary_dataframe['Total electric vehicles (BEVs)']/summary_dataframe['Total private charging devices']\n",
    "old_ratios = len(ratios)"
   ]
  },
  {
   "cell_type": "code",
   "execution_count": 187,
   "metadata": {
    "scrolled": true
   },
   "outputs": [
    {
     "data": {
      "text/html": [
       "<div>\n",
       "<style scoped>\n",
       "    .dataframe tbody tr th:only-of-type {\n",
       "        vertical-align: middle;\n",
       "    }\n",
       "\n",
       "    .dataframe tbody tr th {\n",
       "        vertical-align: top;\n",
       "    }\n",
       "\n",
       "    .dataframe thead th {\n",
       "        text-align: right;\n",
       "    }\n",
       "</style>\n",
       "<table border=\"1\" class=\"dataframe\">\n",
       "  <thead>\n",
       "    <tr style=\"text-align: right;\">\n",
       "      <th>5</th>\n",
       "      <th>ONS LA Code</th>\n",
       "      <th>Region/Local Authority</th>\n",
       "      <th>Private</th>\n",
       "      <th>Company</th>\n",
       "    </tr>\n",
       "  </thead>\n",
       "  <tbody>\n",
       "    <tr>\n",
       "      <th>0</th>\n",
       "      <td>K02000001</td>\n",
       "      <td>United Kingdom</td>\n",
       "      <td>177147.0</td>\n",
       "      <td>190476.0</td>\n",
       "    </tr>\n",
       "    <tr>\n",
       "      <th>1</th>\n",
       "      <td>K03000001</td>\n",
       "      <td>Great Britain</td>\n",
       "      <td>175101.0</td>\n",
       "      <td>188336.0</td>\n",
       "    </tr>\n",
       "    <tr>\n",
       "      <th>2</th>\n",
       "      <td>E92000001</td>\n",
       "      <td>England</td>\n",
       "      <td>158025.0</td>\n",
       "      <td>175937.0</td>\n",
       "    </tr>\n",
       "    <tr>\n",
       "      <th>3</th>\n",
       "      <td>E12000001</td>\n",
       "      <td>North East</td>\n",
       "      <td>4093.0</td>\n",
       "      <td>1462.0</td>\n",
       "    </tr>\n",
       "    <tr>\n",
       "      <th>4</th>\n",
       "      <td>E06000047</td>\n",
       "      <td>County Durham UA</td>\n",
       "      <td>846.0</td>\n",
       "      <td>267.0</td>\n",
       "    </tr>\n",
       "  </tbody>\n",
       "</table>\n",
       "</div>"
      ],
      "text/plain": [
       "5 ONS LA Code Region/Local Authority   Private   Company\n",
       "0   K02000001         United Kingdom  177147.0  190476.0\n",
       "1   K03000001          Great Britain  175101.0  188336.0\n",
       "2   E92000001                England  158025.0  175937.0\n",
       "3   E12000001             North East    4093.0    1462.0\n",
       "4   E06000047       County Durham UA     846.0     267.0"
      ]
     },
     "execution_count": 187,
     "metadata": {},
     "output_type": "execute_result"
    }
   ],
   "source": [
    "#Import ULEVs keepership table by LA\n",
    "dft_keep_import = read_ods(dirname+'/veh0132.ods', 'VEH0132d')\n",
    "dft_keep_import = dft_keep_import[dft_keep_import.iloc[:,1].notnull()]\n",
    "\n",
    "dft_keep = dft_keep_import[1:]\n",
    "dft_keep.columns = dft_keep_import.iloc[0]\n",
    "dft_keep.reset_index(inplace=True, drop=True)\n",
    "dft_keep.head()"
   ]
  },
  {
   "cell_type": "code",
   "execution_count": 188,
   "metadata": {},
   "outputs": [],
   "source": [
    "dft_keep_sel = dft_keep[dft_keep['ONS LA Code'].isin(la_list)]"
   ]
  },
  {
   "cell_type": "code",
   "execution_count": 189,
   "metadata": {},
   "outputs": [],
   "source": [
    "#Select LAs for which the number of company ULEVs is twice the number of private ULEVs\n",
    "\n",
    "outliers_code = dft_keep_sel[dft_keep_sel['Company'] > 2 *dft_keep_sel['Private']]['ONS LA Code'].tolist()\n",
    "outliers_la = [dic_code[item] for item in outliers_code]"
   ]
  },
  {
   "cell_type": "code",
   "execution_count": 190,
   "metadata": {},
   "outputs": [
    {
     "name": "stdout",
     "output_type": "stream",
     "text": [
      "21 local authorities were removed from the list (5.54% of the data)\n",
      "0.28% of the data is infinity\n",
      "2.51% of the data is NaN\n"
     ]
    }
   ],
   "source": [
    "#Remove the previously identified LAs from the selected list rsel\n",
    "\n",
    "ratios =ratios[~ratios.index.isin(outliers_la)]\n",
    "\n",
    "print('{val} local authorities were removed from the list ({per:.2f}% of the data)'.format(val = old_ratios-len(ratios), per = (1-len(ratios)/old_ratios)*100 ))\n",
    "\n",
    "ratios_sel=ratios[ratios!=np.inf]\n",
    "\n",
    "print('{per:.2f}% of the data is infinity'.format(per = (1 -len(ratios_sel)/len(ratios))*100))\n",
    "\n",
    "ratios_sel=ratios_sel.dropna()\n",
    "\n",
    "print('{per:.2f}% of the data is NaN'.format(per = (1 - len(ratios_sel)/len(ratios))*100))\n",
    "old_rsel = len(ratios_sel)"
   ]
  },
  {
   "cell_type": "markdown",
   "metadata": {},
   "source": [
    "# Investigate top and bottom 10 Local authorities for public charger usage"
   ]
  },
  {
   "cell_type": "code",
   "execution_count": 194,
   "metadata": {},
   "outputs": [
    {
     "name": "stdout",
     "output_type": "stream",
     "text": [
      "9.78% of the local authorities have more BEVs than private chargers\n"
     ]
    }
   ],
   "source": [
    "ratios_gt_one = ratios_sel[ratios_sel >1]\n",
    "\n",
    "print('{per:.2f}% of the local authorities have more BEVs than private chargers'.format(per = len(ratios_gt_one)/len(ratios)*100))"
   ]
  },
  {
   "cell_type": "code",
   "execution_count": 195,
   "metadata": {},
   "outputs": [
    {
     "name": "stdout",
     "output_type": "stream",
     "text": [
      "2.6255857348963305\n",
      "1.5555555555555556\n"
     ]
    }
   ],
   "source": [
    "#Mean and median values for the BEVs/Private chargers > 1, respectively \n",
    "print(ratios_gt_one.mean())\n",
    "print(ratios_gt_one.median())"
   ]
  },
  {
   "cell_type": "code",
   "execution_count": 196,
   "metadata": {},
   "outputs": [
    {
     "name": "stdout",
     "output_type": "stream",
     "text": [
      "2.757968284231699\n"
     ]
    }
   ],
   "source": [
    "#Standard Deviation values for the BEVs/Private chargers > 1\n",
    "print(ratios_gt_one.std())"
   ]
  },
  {
   "cell_type": "code",
   "execution_count": 197,
   "metadata": {},
   "outputs": [
    {
     "data": {
      "image/png": "[encoded data removed]",
      "text/plain": [
       "<Figure size 1152x648 with 1 Axes>"
      ]
     },
     "metadata": {
      "needs_background": "light"
     },
     "output_type": "display_data"
    }
   ],
   "source": [
    "x = np.arange(len(ratios_gt_one))\n",
    "width = 0.7  # the width of the bars\n",
    "\n",
    "fig, ax = plt.subplots(figsize=(16,9))\n",
    "rects1 = ax.bar(x, ratios_gt_one, width)\n",
    "\n",
    "# Add some text for labels, title and custom x-axis tick labels, etc.\n",
    "ax.set_ylabel('BEVs/Private chargers')\n",
    "ax.set_title('BEVs/Private chargers ratio > 1')\n",
    "ax.set_xticks(x)\n",
    "ax.set_xlim(0,len(ratios_gt_one))\n",
    "ax.set_xticklabels(ratios_gt_one.index, rotation = 90)\n",
    "#ax.legend()\n",
    "\n",
    "fig.tight_layout()\n",
    "\n",
    "plt.show()\n",
    "\n",
    "fig.savefig('ratio.png')"
   ]
  },
  {
   "cell_type": "code",
   "execution_count": 198,
   "metadata": {},
   "outputs": [
    {
     "data": {
      "text/plain": [
       "Local Authority\n",
       "Shetland Islands          14.500000\n",
       "Tower Hamlets              8.500000\n",
       "Westminster                6.790514\n",
       "Hackney                    6.672131\n",
       "Na h-Eileanan Siar         5.000000\n",
       "Kensington and Chelsea     3.794872\n",
       "Newham                     3.597015\n",
       "Hammersmith and Fulham     3.183544\n",
       "Islington                  2.580189\n",
       "Ceredigion                 2.384615\n",
       "dtype: float64"
      ]
     },
     "execution_count": 198,
     "metadata": {},
     "output_type": "execute_result"
    }
   ],
   "source": [
    "#Top 10 Local Authorities with the highest BEVs/private chargers ratio\n",
    "ratios_gt_one.sort_values(ascending = False).head(10)"
   ]
  },
  {
   "cell_type": "code",
   "execution_count": 199,
   "metadata": {
    "scrolled": true
   },
   "outputs": [
    {
     "data": {
      "text/plain": [
       "Local Authority\n",
       "Thanet               1.010929\n",
       "Sefton               1.045894\n",
       "Brighton and Hove    1.047945\n",
       "Bristol, City of     1.054176\n",
       "Oxford               1.075949\n",
       "City of Edinburgh    1.084479\n",
       "Gwynedd              1.092437\n",
       "Medway               1.130926\n",
       "Ealing               1.172932\n",
       "Southampton          1.178832\n",
       "dtype: float64"
      ]
     },
     "execution_count": 199,
     "metadata": {},
     "output_type": "execute_result"
    }
   ],
   "source": [
    "#Bottom 10 Local Authorities with the highest BEVs/private chargers ratio\n",
    "ratios_gt_one.sort_values().head(10)"
   ]
  },
  {
   "cell_type": "markdown",
   "metadata": {},
   "source": [
    "# Variation in BEVs uptake within a select few LAs"
   ]
  },
  {
   "cell_type": "code",
   "execution_count": 200,
   "metadata": {},
   "outputs": [
    {
     "data": {
      "text/plain": [
       "Local Authority\n",
       "Shetland Islands          14.500000\n",
       "Tower Hamlets              8.500000\n",
       "Westminster                6.790514\n",
       "Hackney                    6.672131\n",
       "Na h-Eileanan Siar         5.000000\n",
       "Kensington and Chelsea     3.794872\n",
       "Newham                     3.597015\n",
       "Hammersmith and Fulham     3.183544\n",
       "Islington                  2.580189\n",
       "Ceredigion                 2.384615\n",
       "Southwark                  2.254777\n",
       "Highland                   2.193548\n",
       "Orkney Islands             2.127273\n",
       "Hillingdon                 1.666996\n",
       "Camden                     1.654341\n",
       "dtype: float64"
      ]
     },
     "execution_count": 200,
     "metadata": {},
     "output_type": "execute_result"
    }
   ],
   "source": [
    "ratios_sel.sort_values(ascending=False).head(15)"
   ]
  },
  {
   "cell_type": "code",
   "execution_count": 201,
   "metadata": {},
   "outputs": [
    {
     "data": {
      "text/plain": [
       "Local Authority\n",
       "Kirklees                0.433810\n",
       "West Lothian            0.426404\n",
       "Ashford                 0.425461\n",
       "Surrey Heath            0.425141\n",
       "Tendring                0.424929\n",
       "South Cambridgeshire    0.423645\n",
       "Maidstone               0.422983\n",
       "Bradford                0.422939\n",
       "East Hampshire          0.422018\n",
       "West Dunbartonshire     0.421875\n",
       "dtype: float64"
      ]
     },
     "execution_count": 201,
     "metadata": {},
     "output_type": "execute_result"
    }
   ],
   "source": [
    "ratios_sel.sort_values(ascending=False)[175:185]"
   ]
  },
  {
   "cell_type": "code",
   "execution_count": 202,
   "metadata": {
    "scrolled": false
   },
   "outputs": [
    {
     "data": {
      "text/plain": [
       "Local Authority\n",
       "North Tyneside             0.099470\n",
       "County Durham              0.099349\n",
       "Gateshead                  0.096206\n",
       "South Derbyshire           0.095762\n",
       "Mansfield                  0.094025\n",
       "South Tyneside             0.093242\n",
       "Staffordshire Moorlands    0.093203\n",
       "Sunderland                 0.092546\n",
       "Corby                      0.090465\n",
       "Middlesbrough              0.089939\n",
       "Gedling                    0.089325\n",
       "Broxtowe                   0.075131\n",
       "Melton                     0.071565\n",
       "Ashfield                   0.065657\n",
       "Bolsover                   0.061779\n",
       "dtype: float64"
      ]
     },
     "execution_count": 202,
     "metadata": {},
     "output_type": "execute_result"
    }
   ],
   "source": [
    "ratios_sel.sort_values(ascending=False).tail(15)"
   ]
  },
  {
   "cell_type": "code",
   "execution_count": 203,
   "metadata": {},
   "outputs": [
    {
     "data": {
      "image/png": "[encoded data removed]",
      "text/plain": [
       "<Figure size 1152x648 with 1 Axes>"
      ]
     },
     "metadata": {
      "needs_background": "light"
     },
     "output_type": "display_data"
    }
   ],
   "source": [
    "la_selection = ['Westminster','Kirklees','South Derbyshire']\n",
    "df_selection =[]\n",
    "\n",
    "for area in la_selection:\n",
    "    df_selection.append(dft_bev_la_sel.loc[dic_name[area]].reindex(index=dft_bev_la_sel.loc[dic_name[area]].index[::-1]))\n",
    "\n",
    "x = np.arange(len(df_selection[0].index))\n",
    "width = 0.2  # the width of the bars\n",
    "\n",
    "fig, ax = plt.subplots(figsize=(16,9))\n",
    "rects1 = ax.bar(x -width, df_selection[2], width, label=la_selection[2])\n",
    "rects2 = ax.bar(x, df_selection[1], width, label=la_selection[1])\n",
    "rects3 = ax.bar(x + width,  df_selection[0], width, label=la_selection[0])\n",
    "\n",
    "# Add some text for labels, title and custom x-axis tick labels, etc.\n",
    "ax.set_ylabel('Total BEVs number')\n",
    "ax.set_title('BEVs Quarterly Trend')\n",
    "ax.set_xticks(x)\n",
    "ax.set_xticklabels(df_selection[0].index, rotation = 90)\n",
    "ax.legend()\n",
    "ax.autoscale(tight=True)\n",
    "\n",
    "fig.tight_layout()\n",
    "\n",
    "plt.show()"
   ]
  },
  {
   "cell_type": "markdown",
   "metadata": {},
   "source": [
    "# Import vehicle annual mileage by local authority"
   ]
  },
  {
   "cell_type": "code",
   "execution_count": 208,
   "metadata": {},
   "outputs": [],
   "source": [
    "dft_vehicle_miles_import = read_ods(dirname+'/tra8901.ods', 'TRA8901', headers=False)\n",
    "dft_vehicle_miles_import = dft_vehicle_miles_import[dft_vehicle_miles_import.iloc[:,4].notnull()]\n",
    "\n",
    "dft_vehicle_miles = dft_vehicle_miles_import.iloc[1:]\n",
    "dft_vehicle_miles.columns = dft_vehicle_miles_import.iloc[0]\n",
    "dft_vehicle_miles = dft_vehicle_miles.dropna(axis=1)\n",
    "\n",
    "dft_vehicle_miles = dft_vehicle_miles[dft_vehicle_miles['LA Code'].isin(la_list)]\n",
    "dft_vehicle_miles.reset_index(inplace=True, drop=True) #reset the index\n",
    "dft_vehicle_miles.insert(loc=1, column='Local Authority', value=[dic_code[item] for item in dft_vehicle_miles['LA Code']])\n",
    "dft_vehicle_miles = dft_vehicle_miles.set_index('LA Code')"
   ]
  },
  {
   "cell_type": "code",
   "execution_count": 210,
   "metadata": {},
   "outputs": [
    {
     "name": "stdout",
     "output_type": "stream",
     "text": [
      "Missing 200 Local Authorities out of 379 (52.77% of the data)\n"
     ]
    }
   ],
   "source": [
    "print('Missing {num} Local Authorities out of {la_len} ({per:.2f}% of the data)'.format(num = len(la_list) - len(dft_vehicle_miles), \n",
    "                                                                                        la_len = len(la_list), \n",
    "                                                                                        per = (1-len(dft_vehicle_miles)/len(la_list))*100))"
   ]
  },
  {
   "cell_type": "code",
   "execution_count": 211,
   "metadata": {},
   "outputs": [
    {
     "data": {
      "image/png": "[encoded data removed]",
      "text/plain": [
       "<Figure size 432x288 with 1 Axes>"
      ]
     },
     "metadata": {
      "needs_background": "light"
     },
     "output_type": "display_data"
    }
   ],
   "source": [
    "##Plot the Local Authority level of yearly miles driven\n",
    "\n",
    "la_val = 'Leeds'\n",
    "la_sel = dft_vehicle_miles.loc[dic_name[la_val]][1:]\n",
    "la_sel.index = [str(i) for i in range(1993,2020)]\n",
    "plt.bar(la_sel.index,la_sel,.5)\n",
    "plt.xticks(rotation = 90)\n",
    "plt.ylabel('Distance (miles)')\n",
    "plt.title('Yearly driven miles in '+la_val)\n",
    "plt.show() "
   ]
  },
  {
   "cell_type": "markdown",
   "metadata": {
    "id": "isHbqjJApvFQ"
   },
   "source": [
    "# Interactive plots (WORK IN PROGRESS)"
   ]
  },
  {
   "cell_type": "markdown",
   "metadata": {},
   "source": [
    "## Local authority level"
   ]
  },
  {
   "cell_type": "code",
   "execution_count": 212,
   "metadata": {},
   "outputs": [],
   "source": [
    "la_geo = subdirla+'/Local_Authority_Districts__May_2020__Boundaries_UK_BGC.geojson'"
   ]
  },
  {
   "cell_type": "code",
   "execution_count": 213,
   "metadata": {},
   "outputs": [],
   "source": [
    "gpdimport = gpd.read_file(la_geo)"
   ]
  },
  {
   "cell_type": "code",
   "execution_count": 214,
   "metadata": {
    "scrolled": true
   },
   "outputs": [
    {
     "data": {
      "text/html": [
       "<div>\n",
       "<style scoped>\n",
       "    .dataframe tbody tr th:only-of-type {\n",
       "        vertical-align: middle;\n",
       "    }\n",
       "\n",
       "    .dataframe tbody tr th {\n",
       "        vertical-align: top;\n",
       "    }\n",
       "\n",
       "    .dataframe thead th {\n",
       "        text-align: right;\n",
       "    }\n",
       "</style>\n",
       "<table border=\"1\" class=\"dataframe\">\n",
       "  <thead>\n",
       "    <tr style=\"text-align: right;\">\n",
       "      <th></th>\n",
       "      <th>OBJECTID</th>\n",
       "      <th>LAD20NM</th>\n",
       "      <th>LAD20NMW</th>\n",
       "      <th>BNG_E</th>\n",
       "      <th>BNG_N</th>\n",
       "      <th>LONG</th>\n",
       "      <th>LAT</th>\n",
       "      <th>Shape__Area</th>\n",
       "      <th>Shape__Length</th>\n",
       "      <th>geometry</th>\n",
       "    </tr>\n",
       "    <tr>\n",
       "      <th>LAD20CD</th>\n",
       "      <th></th>\n",
       "      <th></th>\n",
       "      <th></th>\n",
       "      <th></th>\n",
       "      <th></th>\n",
       "      <th></th>\n",
       "      <th></th>\n",
       "      <th></th>\n",
       "      <th></th>\n",
       "      <th></th>\n",
       "    </tr>\n",
       "  </thead>\n",
       "  <tbody>\n",
       "    <tr>\n",
       "      <th>E06000001</th>\n",
       "      <td>1</td>\n",
       "      <td>Hartlepool</td>\n",
       "      <td></td>\n",
       "      <td>447160</td>\n",
       "      <td>531474</td>\n",
       "      <td>-1.27018</td>\n",
       "      <td>54.67614</td>\n",
       "      <td>9.376780e+07</td>\n",
       "      <td>68415.419287</td>\n",
       "      <td>MULTIPOLYGON (((-1.23001 54.62512, -1.22990 54...</td>\n",
       "    </tr>\n",
       "    <tr>\n",
       "      <th>E06000002</th>\n",
       "      <td>2</td>\n",
       "      <td>Middlesbrough</td>\n",
       "      <td></td>\n",
       "      <td>451141</td>\n",
       "      <td>516887</td>\n",
       "      <td>-1.21099</td>\n",
       "      <td>54.54467</td>\n",
       "      <td>5.385868e+07</td>\n",
       "      <td>43775.371865</td>\n",
       "      <td>MULTIPOLYGON (((-1.27714 54.54789, -1.27720 54...</td>\n",
       "    </tr>\n",
       "    <tr>\n",
       "      <th>E06000003</th>\n",
       "      <td>3</td>\n",
       "      <td>Redcar and Cleveland</td>\n",
       "      <td></td>\n",
       "      <td>464361</td>\n",
       "      <td>519597</td>\n",
       "      <td>-1.00608</td>\n",
       "      <td>54.56752</td>\n",
       "      <td>2.451441e+08</td>\n",
       "      <td>94926.255586</td>\n",
       "      <td>MULTIPOLYGON (((-1.20098 54.57763, -1.20037 54...</td>\n",
       "    </tr>\n",
       "    <tr>\n",
       "      <th>E06000004</th>\n",
       "      <td>4</td>\n",
       "      <td>Stockton-on-Tees</td>\n",
       "      <td></td>\n",
       "      <td>444940</td>\n",
       "      <td>518183</td>\n",
       "      <td>-1.30664</td>\n",
       "      <td>54.55691</td>\n",
       "      <td>2.049028e+08</td>\n",
       "      <td>118347.998943</td>\n",
       "      <td>MULTIPOLYGON (((-1.27694 54.54718, -1.27694 54...</td>\n",
       "    </tr>\n",
       "    <tr>\n",
       "      <th>E06000005</th>\n",
       "      <td>5</td>\n",
       "      <td>Darlington</td>\n",
       "      <td></td>\n",
       "      <td>428029</td>\n",
       "      <td>515648</td>\n",
       "      <td>-1.56835</td>\n",
       "      <td>54.53534</td>\n",
       "      <td>1.974858e+08</td>\n",
       "      <td>105777.871675</td>\n",
       "      <td>POLYGON ((-1.63800 54.61720, -1.63767 54.61670...</td>\n",
       "    </tr>\n",
       "  </tbody>\n",
       "</table>\n",
       "</div>"
      ],
      "text/plain": [
       "           OBJECTID               LAD20NM LAD20NMW   BNG_E   BNG_N     LONG  \\\n",
       "LAD20CD                                                                       \n",
       "E06000001         1            Hartlepool           447160  531474 -1.27018   \n",
       "E06000002         2         Middlesbrough           451141  516887 -1.21099   \n",
       "E06000003         3  Redcar and Cleveland           464361  519597 -1.00608   \n",
       "E06000004         4      Stockton-on-Tees           444940  518183 -1.30664   \n",
       "E06000005         5            Darlington           428029  515648 -1.56835   \n",
       "\n",
       "                LAT   Shape__Area  Shape__Length  \\\n",
       "LAD20CD                                            \n",
       "E06000001  54.67614  9.376780e+07   68415.419287   \n",
       "E06000002  54.54467  5.385868e+07   43775.371865   \n",
       "E06000003  54.56752  2.451441e+08   94926.255586   \n",
       "E06000004  54.55691  2.049028e+08  118347.998943   \n",
       "E06000005  54.53534  1.974858e+08  105777.871675   \n",
       "\n",
       "                                                    geometry  \n",
       "LAD20CD                                                       \n",
       "E06000001  MULTIPOLYGON (((-1.23001 54.62512, -1.22990 54...  \n",
       "E06000002  MULTIPOLYGON (((-1.27714 54.54789, -1.27720 54...  \n",
       "E06000003  MULTIPOLYGON (((-1.20098 54.57763, -1.20037 54...  \n",
       "E06000004  MULTIPOLYGON (((-1.27694 54.54718, -1.27694 54...  \n",
       "E06000005  POLYGON ((-1.63800 54.61720, -1.63767 54.61670...  "
      ]
     },
     "execution_count": 214,
     "metadata": {},
     "output_type": "execute_result"
    }
   ],
   "source": [
    "gpdimport = gpdimport.set_index('LAD20CD')\n",
    "gpdfinal = gpdimport.drop(['OBJECTID','LAD20NM','LAD20NMW','BNG_E','BNG_N','LONG','LAT','Shape__Area','Shape__Length'], axis =1)\n",
    "gpdimport.head()"
   ]
  },
  {
   "cell_type": "code",
   "execution_count": 215,
   "metadata": {},
   "outputs": [
    {
     "data": {
      "text/plain": [
       "379"
      ]
     },
     "execution_count": 215,
     "metadata": {},
     "output_type": "execute_result"
    }
   ],
   "source": [
    "len(gpdimport)"
   ]
  },
  {
   "cell_type": "code",
   "execution_count": 216,
   "metadata": {},
   "outputs": [],
   "source": [
    "df_left = gpdfinal\n",
    "df_right = dft_bev_la_sel"
   ]
  },
  {
   "cell_type": "code",
   "execution_count": 217,
   "metadata": {},
   "outputs": [
    {
     "data": {
      "text/html": [
       "<div>\n",
       "<style scoped>\n",
       "    .dataframe tbody tr th:only-of-type {\n",
       "        vertical-align: middle;\n",
       "    }\n",
       "\n",
       "    .dataframe tbody tr th {\n",
       "        vertical-align: top;\n",
       "    }\n",
       "\n",
       "    .dataframe thead th {\n",
       "        text-align: right;\n",
       "    }\n",
       "</style>\n",
       "<table border=\"1\" class=\"dataframe\">\n",
       "  <thead>\n",
       "    <tr style=\"text-align: right;\">\n",
       "      <th></th>\n",
       "      <th>index</th>\n",
       "      <th>geometry</th>\n",
       "      <th>2020 Q3</th>\n",
       "      <th>2020 Q2</th>\n",
       "      <th>2020 Q1</th>\n",
       "      <th>2019 Q4</th>\n",
       "      <th>2019 Q3</th>\n",
       "      <th>2019 Q2</th>\n",
       "      <th>2019 Q1</th>\n",
       "      <th>2018 Q4</th>\n",
       "      <th>...</th>\n",
       "      <th>2014 Q1</th>\n",
       "      <th>2013 Q4</th>\n",
       "      <th>2013 Q3</th>\n",
       "      <th>2013 Q2</th>\n",
       "      <th>2013 Q1</th>\n",
       "      <th>2012 Q4</th>\n",
       "      <th>2012 Q3</th>\n",
       "      <th>2012 Q2</th>\n",
       "      <th>2012 Q1</th>\n",
       "      <th>2011 Q4</th>\n",
       "    </tr>\n",
       "  </thead>\n",
       "  <tbody>\n",
       "    <tr>\n",
       "      <th>0</th>\n",
       "      <td>E06000001</td>\n",
       "      <td>MULTIPOLYGON (((-1.23001 54.62512, -1.22990 54...</td>\n",
       "      <td>70.0</td>\n",
       "      <td>60.0</td>\n",
       "      <td>56.0</td>\n",
       "      <td>47.0</td>\n",
       "      <td>45.0</td>\n",
       "      <td>39.0</td>\n",
       "      <td>38.0</td>\n",
       "      <td>36.0</td>\n",
       "      <td>...</td>\n",
       "      <td>7.0</td>\n",
       "      <td>6.0</td>\n",
       "      <td>6.0</td>\n",
       "      <td>7.0</td>\n",
       "      <td>8.0</td>\n",
       "      <td>8.0</td>\n",
       "      <td>9.0</td>\n",
       "      <td>9.0</td>\n",
       "      <td>6.0</td>\n",
       "      <td>5.0</td>\n",
       "    </tr>\n",
       "    <tr>\n",
       "      <th>1</th>\n",
       "      <td>E06000002</td>\n",
       "      <td>MULTIPOLYGON (((-1.27714 54.54789, -1.27720 54...</td>\n",
       "      <td>59.0</td>\n",
       "      <td>41.0</td>\n",
       "      <td>42.0</td>\n",
       "      <td>38.0</td>\n",
       "      <td>41.0</td>\n",
       "      <td>34.0</td>\n",
       "      <td>32.0</td>\n",
       "      <td>30.0</td>\n",
       "      <td>...</td>\n",
       "      <td>13.0</td>\n",
       "      <td>12.0</td>\n",
       "      <td>13.0</td>\n",
       "      <td>13.0</td>\n",
       "      <td>7.0</td>\n",
       "      <td>6.0</td>\n",
       "      <td>5.0</td>\n",
       "      <td>0.0</td>\n",
       "      <td>0.0</td>\n",
       "      <td>0.0</td>\n",
       "    </tr>\n",
       "    <tr>\n",
       "      <th>2</th>\n",
       "      <td>E06000003</td>\n",
       "      <td>MULTIPOLYGON (((-1.20098 54.57763, -1.20037 54...</td>\n",
       "      <td>87.0</td>\n",
       "      <td>77.0</td>\n",
       "      <td>70.0</td>\n",
       "      <td>62.0</td>\n",
       "      <td>60.0</td>\n",
       "      <td>52.0</td>\n",
       "      <td>40.0</td>\n",
       "      <td>39.0</td>\n",
       "      <td>...</td>\n",
       "      <td>6.0</td>\n",
       "      <td>5.0</td>\n",
       "      <td>0.0</td>\n",
       "      <td>0.0</td>\n",
       "      <td>0.0</td>\n",
       "      <td>0.0</td>\n",
       "      <td>0.0</td>\n",
       "      <td>0.0</td>\n",
       "      <td>0.0</td>\n",
       "      <td>0.0</td>\n",
       "    </tr>\n",
       "    <tr>\n",
       "      <th>3</th>\n",
       "      <td>E06000004</td>\n",
       "      <td>MULTIPOLYGON (((-1.27694 54.54718, -1.27694 54...</td>\n",
       "      <td>181.0</td>\n",
       "      <td>143.0</td>\n",
       "      <td>136.0</td>\n",
       "      <td>121.0</td>\n",
       "      <td>111.0</td>\n",
       "      <td>99.0</td>\n",
       "      <td>91.0</td>\n",
       "      <td>87.0</td>\n",
       "      <td>...</td>\n",
       "      <td>32.0</td>\n",
       "      <td>28.0</td>\n",
       "      <td>27.0</td>\n",
       "      <td>27.0</td>\n",
       "      <td>27.0</td>\n",
       "      <td>28.0</td>\n",
       "      <td>28.0</td>\n",
       "      <td>29.0</td>\n",
       "      <td>29.0</td>\n",
       "      <td>29.0</td>\n",
       "    </tr>\n",
       "    <tr>\n",
       "      <th>4</th>\n",
       "      <td>E06000005</td>\n",
       "      <td>POLYGON ((-1.63800 54.61720, -1.63767 54.61670...</td>\n",
       "      <td>184.0</td>\n",
       "      <td>151.0</td>\n",
       "      <td>142.0</td>\n",
       "      <td>133.0</td>\n",
       "      <td>120.0</td>\n",
       "      <td>95.0</td>\n",
       "      <td>94.0</td>\n",
       "      <td>91.0</td>\n",
       "      <td>...</td>\n",
       "      <td>14.0</td>\n",
       "      <td>13.0</td>\n",
       "      <td>14.0</td>\n",
       "      <td>12.0</td>\n",
       "      <td>11.0</td>\n",
       "      <td>8.0</td>\n",
       "      <td>8.0</td>\n",
       "      <td>8.0</td>\n",
       "      <td>7.0</td>\n",
       "      <td>8.0</td>\n",
       "    </tr>\n",
       "  </tbody>\n",
       "</table>\n",
       "<p>5 rows × 38 columns</p>\n",
       "</div>"
      ],
      "text/plain": [
       "       index                                           geometry  2020 Q3  \\\n",
       "0  E06000001  MULTIPOLYGON (((-1.23001 54.62512, -1.22990 54...     70.0   \n",
       "1  E06000002  MULTIPOLYGON (((-1.27714 54.54789, -1.27720 54...     59.0   \n",
       "2  E06000003  MULTIPOLYGON (((-1.20098 54.57763, -1.20037 54...     87.0   \n",
       "3  E06000004  MULTIPOLYGON (((-1.27694 54.54718, -1.27694 54...    181.0   \n",
       "4  E06000005  POLYGON ((-1.63800 54.61720, -1.63767 54.61670...    184.0   \n",
       "\n",
       "   2020 Q2  2020 Q1  2019 Q4  2019 Q3  2019 Q2  2019 Q1  2018 Q4  ...  \\\n",
       "0     60.0     56.0     47.0     45.0     39.0     38.0     36.0  ...   \n",
       "1     41.0     42.0     38.0     41.0     34.0     32.0     30.0  ...   \n",
       "2     77.0     70.0     62.0     60.0     52.0     40.0     39.0  ...   \n",
       "3    143.0    136.0    121.0    111.0     99.0     91.0     87.0  ...   \n",
       "4    151.0    142.0    133.0    120.0     95.0     94.0     91.0  ...   \n",
       "\n",
       "   2014 Q1  2013 Q4  2013 Q3  2013 Q2  2013 Q1  2012 Q4  2012 Q3  2012 Q2  \\\n",
       "0      7.0      6.0      6.0      7.0      8.0      8.0      9.0      9.0   \n",
       "1     13.0     12.0     13.0     13.0      7.0      6.0      5.0      0.0   \n",
       "2      6.0      5.0      0.0      0.0      0.0      0.0      0.0      0.0   \n",
       "3     32.0     28.0     27.0     27.0     27.0     28.0     28.0     29.0   \n",
       "4     14.0     13.0     14.0     12.0     11.0      8.0      8.0      8.0   \n",
       "\n",
       "   2012 Q1  2011 Q4  \n",
       "0      6.0      5.0  \n",
       "1      0.0      0.0  \n",
       "2      0.0      0.0  \n",
       "3     29.0     29.0  \n",
       "4      7.0      8.0  \n",
       "\n",
       "[5 rows x 38 columns]"
      ]
     },
     "execution_count": 217,
     "metadata": {},
     "output_type": "execute_result"
    }
   ],
   "source": [
    "df_concat = pd.concat([gpdfinal,dft_bev_la_sel], join='inner',axis=1).reset_index()\n",
    "df_concat.head()"
   ]
  },
  {
   "cell_type": "code",
   "execution_count": 225,
   "metadata": {},
   "outputs": [
    {
     "name": "stdout",
     "output_type": "stream",
     "text": [
      "Missing 8 Local Authorities out of 379 (2.11% of the data)\n"
     ]
    }
   ],
   "source": [
    "print('Missing {num} Local Authorities out of {la_len} ({per:.2f}% of the data)'.format(num = len(la_list) - len(df_concat), \n",
    "                                                                                        la_len = len(la_list), \n",
    "                                                                                        per = (1-len(df_concat)/len(la_list))*100))"
   ]
  },
  {
   "cell_type": "code",
   "execution_count": 218,
   "metadata": {},
   "outputs": [],
   "source": [
    "n_periods, n_sample = df_right.shape[1],df_right.shape[1]\n",
    "\n",
    "\n",
    "datetime_index = pd.date_range('2011-12-1', periods=n_periods, freq='3M')\n",
    "dt_index_epochs = datetime_index.astype(int) // 10**9\n",
    "dt_index = dt_index_epochs.astype('U10')"
   ]
  },
  {
   "cell_type": "code",
   "execution_count": 219,
   "metadata": {},
   "outputs": [],
   "source": [
    "styledata = {}\n",
    "\n",
    "for area in df_right.index:\n",
    "    df = pd.DataFrame(\n",
    "        {'color': df_right.loc[area].values,\n",
    "         'opacity': 0*np.random.normal(size=n_periods)},\n",
    "        index=dt_index\n",
    "    )\n",
    "    df = df.cumsum()\n",
    "    df.sample(n_sample, replace=False).sort_index()\n",
    "    df.loc[:,'opacity'] = np.ones(n_periods)\n",
    "    styledata[area] = df"
   ]
  },
  {
   "cell_type": "code",
   "execution_count": 220,
   "metadata": {},
   "outputs": [],
   "source": [
    "\n",
    "max_color, min_color = 2, 0\n",
    "\n",
    "for area, data in styledata.items():\n",
    "    max_color = max(max_color, data['color'].max())\n",
    "    min_color = max(min_color, data['color'].min())\n",
    "        \n",
    "cmap = linear.BuPu_06.scale(min_color, max_color)\n",
    "\n",
    "for area, data in styledata.items():\n",
    "    data['color'] = data['color'].apply(cmap)\n",
    "    data['opacity'] = (data['opacity'])\n",
    "    data['opacity'] = (data['opacity'])"
   ]
  },
  {
   "cell_type": "code",
   "execution_count": 221,
   "metadata": {},
   "outputs": [],
   "source": [
    "styledict = {\n",
    "    str(area): data.to_dict(orient='index') for\n",
    "    area, data in styledata.items()\n",
    "}"
   ]
  },
  {
   "cell_type": "code",
   "execution_count": 222,
   "metadata": {
    "scrolled": true
   },
   "outputs": [
    {
     "name": "stderr",
     "output_type": "stream",
     "text": [
      "C:\\Users\\andre\\.conda\\envs\\na2021\\lib\\site-packages\\pyproj\\crs\\crs.py:53: FutureWarning: '+init=<authority>:<code>' syntax is deprecated. '<authority>:<code>' is the preferred initialization method. When making the change, be mindful of axis order changes: https://pyproj4.github.io/pyproj/stable/gotchas.html#axis-order-changes-in-proj-6\n",
      "  return _prepare_from_string(\" \".join(pjargs))\n"
     ]
    },
    {
     "data": {
      "text/plain": [
       "<folium.map.LayerControl at 0x2316488c7c0>"
      ]
     },
     "execution_count": 222,
     "metadata": {},
     "output_type": "execute_result"
    }
   ],
   "source": [
    "m = folium.Map([54.7, -4.6], tiles='cartodbpositron', zoom_start=5)\n",
    "\n",
    "g = TimeSliderChoropleth(\n",
    "    df_left.to_json(),\n",
    "    styledict=styledict,\n",
    "\n",
    ").add_to(m)\n",
    "\n",
    "choropleth = folium.Choropleth(\n",
    "    geo_data=df_concat,\n",
    "    data=df_concat,\n",
    "    columns=['index', '2020 Q3'],\n",
    "    key_on='feature.properties.index',\n",
    "    fill_color= 'BuPu',\n",
    "    fill_opacity=0.0,\n",
    "    line_opacity=0.0,\n",
    "    legend_name='BEVs (#)',\n",
    "    smooth_factor=0).add_to(m)\n",
    "\n",
    "style_function = \"font-size: 15px; font-weight: bold\"\n",
    "choropleth.geojson.add_child(\n",
    "    folium.features.GeoJsonTooltip(['index'], style=style_function, labels=False))\n",
    "folium.LayerControl().add_to(m)"
   ]
  },
  {
   "cell_type": "code",
   "execution_count": 506,
   "metadata": {},
   "outputs": [],
   "source": [
    "#m"
   ]
  },
  {
   "cell_type": "code",
   "execution_count": 476,
   "metadata": {},
   "outputs": [],
   "source": [
    "m.save('Timeseries.html')"
   ]
  },
  {
   "cell_type": "code",
   "execution_count": null,
   "metadata": {},
   "outputs": [],
   "source": [
    "# choropleth = folium.Choropleth(\n",
    "#     name = 'charging_dev',\n",
    "#     geo_data=la_geo,\n",
    "#     data=summary_dataframe,\n",
    "#     columns=['ONS LA Code','Total public charging devices'],\n",
    "#     key_on='feature.properties.LAD20CD',\n",
    "#     fill_color='YlGnBu', \n",
    "#     fill_opacity=1, \n",
    "#     line_opacity=1,\n",
    "#     legend_name='Total public charging devices',\n",
    "#     smooth_factor=0).add_to(la_map)\n",
    "# style_function = \"font-size: 15px; font-weight: bold\"\n",
    "# choropleth.geojson.add_child(\n",
    "#     folium.features.GeoJsonTooltip(['LAD20NM'], style=style_function, labels=False))"
   ]
  },
  {
   "cell_type": "code",
   "execution_count": null,
   "metadata": {},
   "outputs": [],
   "source": [
    "# choropleth = folium.Choropleth(\n",
    "#     name = 'charging_dev',\n",
    "#     geo_data=communities_geo,\n",
    "#     data=data_try,\n",
    "#     columns=['LA / Region Code', 'Total public\\ncharging devices', 'Charging devices per\\n100,000 population'],\n",
    "#     key_on='feature.properties.LAD20CD',\n",
    "#     fill_color='YlGnBu', \n",
    "#     fill_opacity=1, \n",
    "#     line_opacity=1,\n",
    "#     legend_name='Total public charging devices',\n",
    "#     smooth_factor=0).add_to(communities_map)\n",
    "# style_function = \"font-size: 15px; font-weight: bold\"\n",
    "# choropleth.geojson.add_child(\n",
    "#     folium.features.GeoJsonTooltip(['LAD20NM'], style=style_function, labels=False))\n",
    "\n",
    "# choropleth = folium.Choropleth(\n",
    "#     name = 'charging_dens',\n",
    "#     geo_data=communities_geo,\n",
    "#     data=data_try,\n",
    "#     columns=['LA / Region Code', 'Charging devices per\\n100,000 population'],\n",
    "#     key_on='feature.properties.LAD20CD',\n",
    "#     fill_color='YlGnBu', \n",
    "#     fill_opacity=1, \n",
    "#     line_opacity=1,\n",
    "#     legend_name='Total charging devices per 100,000 population',\n",
    "#     smooth_factor=0).add_to(communities_map)\n",
    "\n",
    "# style_function = \"font-size: 15px; font-weight: bold\"\n",
    "# choropleth.geojson.add_child(\n",
    "#     folium.features.GeoJsonTooltip(['LAD20NM'], style=style_function, labels=False))\n",
    "# folium.LayerControl().add_to(communities_map)"
   ]
  },
  {
   "cell_type": "markdown",
   "metadata": {},
   "source": [
    "## Postcode district level"
   ]
  },
  {
   "cell_type": "code",
   "execution_count": 226,
   "metadata": {},
   "outputs": [],
   "source": [
    "#Import the files containing the coordinates for each postcode district and combine them in a single dataframe \n",
    "\n",
    "for item in postcode_area_list:\n",
    "    \n",
    "    if item=='AB':\n",
    "        filename = item+'.kml'\n",
    "        file_path = subdirpd+'/'+filename\n",
    "\n",
    "        df_bound = gpd.read_file(file_path, driver='KML')\n",
    "    else:\n",
    "        filename = item+'.kml'\n",
    "        file_path = subdirpd+'/'+filename\n",
    "\n",
    "        polys = gpd.read_file(file_path, driver='KML')\n",
    "        df_bound = df_bound.append(polys, ignore_index=True)\n",
    "\n",
    "        \n",
    "df_postcode_district = df_bound[df_bound['Name'].isin(postcode_district_list)].set_index('Name')\n",
    "df_postcode_district.index.name = 'Postcode District'\n",
    "df_postcode_district = df_postcode_district.sort_index()"
   ]
  },
  {
   "cell_type": "code",
   "execution_count": 227,
   "metadata": {},
   "outputs": [],
   "source": [
    "df_postcode_district = df_postcode_district.drop('Description',axis=1)"
   ]
  },
  {
   "cell_type": "markdown",
   "metadata": {},
   "source": [
    "## IMD plot"
   ]
  },
  {
   "cell_type": "code",
   "execution_count": 491,
   "metadata": {},
   "outputs": [],
   "source": [
    "dft_ratio_plot= dft_ratio.replace(np.inf,np.nan)"
   ]
  },
  {
   "cell_type": "code",
   "execution_count": 492,
   "metadata": {},
   "outputs": [],
   "source": [
    "dft_ratio_plot = dft_ratio_plot.drop(['2011 Q4', '2012 Q1', '2012 Q2', '2012 Q3', '2012 Q4', '2013 Q1',\n",
    "       '2013 Q2', '2013 Q3', '2013 Q4', '2014 Q1', '2014 Q2', '2014 Q3',\n",
    "       '2014 Q4', '2015 Q1', '2015 Q2', '2015 Q3'],axis=1)"
   ]
  },
  {
   "cell_type": "code",
   "execution_count": 493,
   "metadata": {},
   "outputs": [],
   "source": [
    "dft_ratio_plot = dft_ratio_plot.dropna()"
   ]
  },
  {
   "cell_type": "code",
   "execution_count": 494,
   "metadata": {},
   "outputs": [
    {
     "data": {
      "text/plain": [
       "2914"
      ]
     },
     "execution_count": 494,
     "metadata": {},
     "output_type": "execute_result"
    }
   ],
   "source": [
    "len(df_postcode_district)"
   ]
  },
  {
   "cell_type": "code",
   "execution_count": 495,
   "metadata": {},
   "outputs": [
    {
     "data": {
      "text/plain": [
       "2947"
      ]
     },
     "execution_count": 495,
     "metadata": {},
     "output_type": "execute_result"
    }
   ],
   "source": [
    "len(df_imd)"
   ]
  },
  {
   "cell_type": "code",
   "execution_count": 496,
   "metadata": {},
   "outputs": [
    {
     "data": {
      "text/plain": [
       "2590"
      ]
     },
     "execution_count": 496,
     "metadata": {},
     "output_type": "execute_result"
    }
   ],
   "source": [
    "len(dft_ratio_plot)"
   ]
  },
  {
   "cell_type": "code",
   "execution_count": 497,
   "metadata": {},
   "outputs": [],
   "source": [
    "df_left = df_postcode_district\n",
    "df_right = dft_ratio_plot.drop('TW6')"
   ]
  },
  {
   "cell_type": "code",
   "execution_count": 498,
   "metadata": {},
   "outputs": [],
   "source": [
    "df_concat = pd.concat([df_left,df_imd,df_right], join='inner',axis=1).reset_index()"
   ]
  },
  {
   "cell_type": "code",
   "execution_count": 499,
   "metadata": {},
   "outputs": [
    {
     "name": "stdout",
     "output_type": "stream",
     "text": [
      "Missing 367 Postcode Districts out of 2951 (12.44% of the data)\n"
     ]
    }
   ],
   "source": [
    "print('Missing {num} Postcode Districts out of {pd_len} ({per:.2f}% of the data)'.format(num = postcode_district_number - len(df_concat), pd_len = postcode_district_number, per = (1-len(df_concat)/postcode_district_number)*100))"
   ]
  },
  {
   "cell_type": "code",
   "execution_count": 500,
   "metadata": {},
   "outputs": [
    {
     "name": "stdout",
     "output_type": "stream",
     "text": [
      "-1.8378135142449064 52.86621361495261\n"
     ]
    }
   ],
   "source": [
    "x_map=df_concat.centroid.x.mean()\n",
    "y_map=df_concat.centroid.y.mean()\n",
    "print(x_map,y_map)"
   ]
  },
  {
   "cell_type": "code",
   "execution_count": 501,
   "metadata": {},
   "outputs": [
    {
     "name": "stderr",
     "output_type": "stream",
     "text": [
      "C:\\Users\\andre\\.conda\\envs\\na2021\\lib\\site-packages\\pyproj\\crs\\crs.py:53: FutureWarning: '+init=<authority>:<code>' syntax is deprecated. '<authority>:<code>' is the preferred initialization method. When making the change, be mindful of axis order changes: https://pyproj4.github.io/pyproj/stable/gotchas.html#axis-order-changes-in-proj-6\n",
      "  return _prepare_from_string(\" \".join(pjargs))\n",
      "C:\\Users\\andre\\.conda\\envs\\na2021\\lib\\site-packages\\pyproj\\crs\\crs.py:53: FutureWarning: '+init=<authority>:<code>' syntax is deprecated. '<authority>:<code>' is the preferred initialization method. When making the change, be mindful of axis order changes: https://pyproj4.github.io/pyproj/stable/gotchas.html#axis-order-changes-in-proj-6\n",
      "  return _prepare_from_string(\" \".join(pjargs))\n",
      "C:\\Users\\andre\\.conda\\envs\\na2021\\lib\\site-packages\\pyproj\\crs\\crs.py:53: FutureWarning: '+init=<authority>:<code>' syntax is deprecated. '<authority>:<code>' is the preferred initialization method. When making the change, be mindful of axis order changes: https://pyproj4.github.io/pyproj/stable/gotchas.html#axis-order-changes-in-proj-6\n",
      "  return _prepare_from_string(\" \".join(pjargs))\n"
     ]
    },
    {
     "data": {
      "text/plain": [
       "<folium.map.LayerControl at 0x233c762ff70>"
      ]
     },
     "execution_count": 501,
     "metadata": {},
     "output_type": "execute_result"
    }
   ],
   "source": [
    "mymap = folium.Map(location=[y_map, x_map], zoom_start=5,tiles=None)\n",
    "folium.TileLayer('CartoDB positron',name=\"Light Map\",control=False).add_to(mymap)\n",
    "\n",
    "myscale = (df_concat['IMD Mean'].quantile((0,0.1,0.75,0.9,0.98,1))).tolist()\n",
    "\n",
    "choropleth = folium.Choropleth(\n",
    " geo_data=df_concat,\n",
    " name='IMD',\n",
    " data=df_concat,\n",
    " columns=['index','IMD Mean'],\n",
    " key_on=\"feature.properties.index\",\n",
    " fill_color='YlGnBu',\n",
    " threshold_scale=myscale,\n",
    " fill_opacity=1,\n",
    " line_opacity=0.2,\n",
    " legend_name='IMD in %',\n",
    " smooth_factor=0\n",
    ").add_to(mymap)\n",
    "\n",
    "myscale = (df_concat['2020 Q3'].quantile((0,0.1,0.75,0.9,0.98,1))).tolist()\n",
    "\n",
    "choropleth = folium.Choropleth(\n",
    " geo_data=df_concat,\n",
    " name='BEVs uptake',\n",
    " data=df_concat,\n",
    " columns=['index','2020 Q3'],\n",
    " key_on=\"feature.properties.index\",\n",
    " fill_color='YlGnBu',\n",
    " threshold_scale=myscale,\n",
    " fill_opacity=1,\n",
    " line_opacity=0.2,\n",
    " legend_name='BEVs uptake in %',\n",
    " smooth_factor=0\n",
    ").add_to(mymap)\n",
    "\n",
    "style_function = lambda x: {'fillColor': '#ffffff', \n",
    "                            'color':'#000000', \n",
    "                            'fillOpacity': 0.1, \n",
    "                            'weight': 0.1}\n",
    "\n",
    "\n",
    "highlight_function = lambda x: {'fillColor': '#000000', \n",
    "                                'color':'#000000', \n",
    "                                'fillOpacity': 0.50, \n",
    "                                'weight': 0.1}\n",
    "NIL = folium.features.GeoJson(\n",
    "    df_concat,\n",
    "    style_function=style_function, \n",
    "    control=False,\n",
    "    highlight_function=highlight_function, \n",
    "    tooltip=folium.features.GeoJsonTooltip(\n",
    "        fields=['index','IMD Mean','2020 Q3'],\n",
    "        aliases=['Postcode District: ','Index Mass Deprivation in %: ','BEVs/total cars in %:'],\n",
    "        style=(\"background-color: white; color: #333333; font-family: arial; font-size: 12px; padding: 10px;\") \n",
    "    )\n",
    ")\n",
    "mymap.add_child(NIL)\n",
    "mymap.keep_in_front(NIL)\n",
    "folium.LayerControl().add_to(mymap)\n",
    "\n",
    "\n",
    "\n",
    "\n",
    "# choropleth.geojson.add_child(\n",
    "#     folium.features.GeoJsonTooltip(fields =('index','IMD Mean'), style=style_function, labels=False))\n",
    "# folium.LayerControl().add_to(mymap)    "
   ]
  },
  {
   "cell_type": "code",
   "execution_count": null,
   "metadata": {},
   "outputs": [],
   "source": [
    "mymap.save('IMD_BEV.html')"
   ]
  },
  {
   "cell_type": "code",
   "execution_count": 115,
   "metadata": {},
   "outputs": [],
   "source": [
    "x = df_concat['IMD Mean'].values.reshape((-1,1))"
   ]
  },
  {
   "cell_type": "code",
   "execution_count": 116,
   "metadata": {},
   "outputs": [],
   "source": [
    "y = df_concat['2020 Q3'].values"
   ]
  },
  {
   "cell_type": "code",
   "execution_count": 129,
   "metadata": {},
   "outputs": [
    {
     "data": {
      "image/png": "[encoded data removed]",
      "text/plain": [
       "<Figure size 1152x648 with 1 Axes>"
      ]
     },
     "metadata": {
      "needs_background": "light"
     },
     "output_type": "display_data"
    }
   ],
   "source": [
    "fig, ax = plt.subplots(figsize=(16,9))\n",
    "ax.scatter(x,y)\n",
    "\n",
    "# Add some text for labels, title and custom x-axis tick labels, etc.\n",
    "ax.set_title('BEVs/# cars VS Index of Multiple Deprivation')\n",
    "ax.set_ylabel('BEVs/cars (%)')\n",
    "ax.set_xlabel('IMD (%)')\n",
    "\n",
    "\n",
    "\n",
    "fig.tight_layout()\n",
    "plt.show()\n",
    "fig.savefig('IMD_BEVs%_scatter.png', bbox_inches='tight', dpi = 300)"
   ]
  },
  {
   "cell_type": "code",
   "execution_count": 130,
   "metadata": {},
   "outputs": [],
   "source": [
    "model = LinearRegression()"
   ]
  },
  {
   "cell_type": "code",
   "execution_count": 131,
   "metadata": {},
   "outputs": [],
   "source": [
    "model = model.fit(x,y)"
   ]
  },
  {
   "cell_type": "code",
   "execution_count": 138,
   "metadata": {},
   "outputs": [
    {
     "name": "stdout",
     "output_type": "stream",
     "text": [
      "Gradient:  0.004135542954214099\n",
      "Intercept:  0.37656596636457335\n",
      "R^2:  0.003976768156933375\n"
     ]
    }
   ],
   "source": [
    "print('Gradient: ', model.coef_[0])\n",
    "print('Intercept: ', model.intercept_)\n",
    "print('R^2: ', model.score(x,y))"
   ]
  },
  {
   "cell_type": "markdown",
   "metadata": {},
   "source": [
    "## Time series "
   ]
  },
  {
   "cell_type": "code",
   "execution_count": 236,
   "metadata": {},
   "outputs": [],
   "source": [
    "dft_ratio_plot= dft_ratio.replace(np.inf,np.nan)"
   ]
  },
  {
   "cell_type": "code",
   "execution_count": 237,
   "metadata": {},
   "outputs": [
    {
     "data": {
      "text/plain": [
       "Index(['2011 Q4', '2012 Q1', '2012 Q2', '2012 Q3', '2012 Q4', '2013 Q1',\n",
       "       '2013 Q2', '2013 Q3', '2013 Q4', '2014 Q1', '2014 Q2', '2014 Q3',\n",
       "       '2014 Q4', '2015 Q1', '2015 Q2', '2015 Q3', '2015 Q4', '2016 Q1',\n",
       "       '2016 Q2', '2016 Q3', '2016 Q4', '2017 Q1', '2017 Q2', '2017 Q3',\n",
       "       '2017 Q4', '2018 Q1', '2018 Q2', '2018 Q3', '2018 Q4', '2019 Q1',\n",
       "       '2019 Q2', '2019 Q3', '2019 Q4', '2020 Q1', '2020 Q2', '2020 Q3'],\n",
       "      dtype='object')"
      ]
     },
     "execution_count": 237,
     "metadata": {},
     "output_type": "execute_result"
    }
   ],
   "source": [
    "dft_ratio_plot.columns"
   ]
  },
  {
   "cell_type": "code",
   "execution_count": 238,
   "metadata": {},
   "outputs": [],
   "source": [
    "dft_ratio_plot = dft_ratio_plot.drop(['2011 Q4', '2012 Q1', '2012 Q2', '2012 Q3', '2012 Q4', '2013 Q1',\n",
    "       '2013 Q2', '2013 Q3', '2013 Q4', '2014 Q1', '2014 Q2', '2014 Q3',\n",
    "       '2014 Q4', '2015 Q1', '2015 Q2', '2015 Q3'],axis=1)"
   ]
  },
  {
   "cell_type": "code",
   "execution_count": 239,
   "metadata": {},
   "outputs": [],
   "source": [
    "dft_ratio_plot = dft_ratio_plot.dropna()"
   ]
  },
  {
   "cell_type": "code",
   "execution_count": 240,
   "metadata": {},
   "outputs": [
    {
     "data": {
      "text/plain": [
       "'TW6'"
      ]
     },
     "execution_count": 240,
     "metadata": {},
     "output_type": "execute_result"
    }
   ],
   "source": [
    "dft_ratio_plot['2020 Q3'].idxmax()"
   ]
  },
  {
   "cell_type": "code",
   "execution_count": 296,
   "metadata": {},
   "outputs": [],
   "source": [
    "pd_wy = np.array([])\n",
    "for item in west_yorkshire:\n",
    "    pd_wy = np.append(pd_wy,dic_la[dic_name[item]])"
   ]
  },
  {
   "cell_type": "code",
   "execution_count": 297,
   "metadata": {},
   "outputs": [
    {
     "data": {
      "text/plain": [
       "127"
      ]
     },
     "execution_count": 297,
     "metadata": {},
     "output_type": "execute_result"
    }
   ],
   "source": [
    "len(pd_wy)"
   ]
  },
  {
   "cell_type": "code",
   "execution_count": 299,
   "metadata": {},
   "outputs": [],
   "source": [
    "postcode_westyorkshire = np.unique(pd_wy)"
   ]
  },
  {
   "cell_type": "code",
   "execution_count": 300,
   "metadata": {},
   "outputs": [
    {
     "data": {
      "text/plain": [
       "97"
      ]
     },
     "execution_count": 300,
     "metadata": {},
     "output_type": "execute_result"
    }
   ],
   "source": [
    "len(postcode_westyorkshire)"
   ]
  },
  {
   "cell_type": "code",
   "execution_count": 329,
   "metadata": {},
   "outputs": [],
   "source": [
    "lacode_westyorkshire =[dic_name[item] for item in west_yorkshire]"
   ]
  },
  {
   "cell_type": "code",
   "execution_count": 336,
   "metadata": {},
   "outputs": [],
   "source": [
    "polygon_la = gpdfinal[gpdfinal.index.isin(lacode_westyorkshire)].reset_index()"
   ]
  },
  {
   "cell_type": "code",
   "execution_count": 353,
   "metadata": {},
   "outputs": [],
   "source": [
    "polygon_la['LAD20CD'] = [dic_code[item] for item in lacode_westyorkshire]"
   ]
  },
  {
   "cell_type": "code",
   "execution_count": 309,
   "metadata": {},
   "outputs": [],
   "source": [
    "df_left = df_postcode_district\n",
    "df_right = dft_ratio_plot[dft_ratio_plot.index.isin(postcode_westyorkshire)]"
   ]
  },
  {
   "cell_type": "code",
   "execution_count": 311,
   "metadata": {},
   "outputs": [],
   "source": [
    "df_concat = pd.concat([df_left,df_right], join='inner',axis=1).reset_index()"
   ]
  },
  {
   "cell_type": "code",
   "execution_count": 312,
   "metadata": {
    "scrolled": true
   },
   "outputs": [
    {
     "data": {
      "text/html": [
       "<div>\n",
       "<style scoped>\n",
       "    .dataframe tbody tr th:only-of-type {\n",
       "        vertical-align: middle;\n",
       "    }\n",
       "\n",
       "    .dataframe tbody tr th {\n",
       "        vertical-align: top;\n",
       "    }\n",
       "\n",
       "    .dataframe thead th {\n",
       "        text-align: right;\n",
       "    }\n",
       "</style>\n",
       "<table border=\"1\" class=\"dataframe\">\n",
       "  <thead>\n",
       "    <tr style=\"text-align: right;\">\n",
       "      <th></th>\n",
       "      <th>2015 Q4</th>\n",
       "      <th>2016 Q1</th>\n",
       "      <th>2016 Q2</th>\n",
       "      <th>2016 Q3</th>\n",
       "      <th>2016 Q4</th>\n",
       "      <th>2017 Q1</th>\n",
       "      <th>2017 Q2</th>\n",
       "      <th>2017 Q3</th>\n",
       "      <th>2017 Q4</th>\n",
       "      <th>2018 Q1</th>\n",
       "      <th>2018 Q2</th>\n",
       "      <th>2018 Q3</th>\n",
       "      <th>2018 Q4</th>\n",
       "      <th>2019 Q1</th>\n",
       "      <th>2019 Q2</th>\n",
       "      <th>2019 Q3</th>\n",
       "      <th>2019 Q4</th>\n",
       "      <th>2020 Q1</th>\n",
       "      <th>2020 Q2</th>\n",
       "      <th>2020 Q3</th>\n",
       "    </tr>\n",
       "  </thead>\n",
       "  <tbody>\n",
       "    <tr>\n",
       "      <th>count</th>\n",
       "      <td>90.000000</td>\n",
       "      <td>90.000000</td>\n",
       "      <td>90.000000</td>\n",
       "      <td>90.000000</td>\n",
       "      <td>90.000000</td>\n",
       "      <td>90.000000</td>\n",
       "      <td>90.000000</td>\n",
       "      <td>90.000000</td>\n",
       "      <td>90.000000</td>\n",
       "      <td>90.000000</td>\n",
       "      <td>90.000000</td>\n",
       "      <td>90.000000</td>\n",
       "      <td>90.000000</td>\n",
       "      <td>90.000000</td>\n",
       "      <td>90.000000</td>\n",
       "      <td>90.000000</td>\n",
       "      <td>90.000000</td>\n",
       "      <td>90.000000</td>\n",
       "      <td>90.000000</td>\n",
       "      <td>90.000000</td>\n",
       "    </tr>\n",
       "    <tr>\n",
       "      <th>mean</th>\n",
       "      <td>0.080916</td>\n",
       "      <td>0.089114</td>\n",
       "      <td>0.096016</td>\n",
       "      <td>0.107206</td>\n",
       "      <td>0.108927</td>\n",
       "      <td>0.130670</td>\n",
       "      <td>0.140260</td>\n",
       "      <td>0.152038</td>\n",
       "      <td>0.180755</td>\n",
       "      <td>0.202474</td>\n",
       "      <td>0.270984</td>\n",
       "      <td>0.142490</td>\n",
       "      <td>0.156136</td>\n",
       "      <td>0.169991</td>\n",
       "      <td>0.182419</td>\n",
       "      <td>0.219667</td>\n",
       "      <td>0.257752</td>\n",
       "      <td>0.400929</td>\n",
       "      <td>0.384365</td>\n",
       "      <td>0.467562</td>\n",
       "    </tr>\n",
       "    <tr>\n",
       "      <th>std</th>\n",
       "      <td>0.203810</td>\n",
       "      <td>0.214921</td>\n",
       "      <td>0.217227</td>\n",
       "      <td>0.239656</td>\n",
       "      <td>0.240091</td>\n",
       "      <td>0.250069</td>\n",
       "      <td>0.263550</td>\n",
       "      <td>0.270438</td>\n",
       "      <td>0.435803</td>\n",
       "      <td>0.618326</td>\n",
       "      <td>1.196910</td>\n",
       "      <td>0.185507</td>\n",
       "      <td>0.195730</td>\n",
       "      <td>0.206054</td>\n",
       "      <td>0.213858</td>\n",
       "      <td>0.247410</td>\n",
       "      <td>0.347347</td>\n",
       "      <td>0.937030</td>\n",
       "      <td>0.661545</td>\n",
       "      <td>0.851465</td>\n",
       "    </tr>\n",
       "    <tr>\n",
       "      <th>min</th>\n",
       "      <td>0.000000</td>\n",
       "      <td>0.000000</td>\n",
       "      <td>0.000000</td>\n",
       "      <td>0.000000</td>\n",
       "      <td>0.000000</td>\n",
       "      <td>0.000000</td>\n",
       "      <td>0.000000</td>\n",
       "      <td>0.000000</td>\n",
       "      <td>0.000000</td>\n",
       "      <td>0.000000</td>\n",
       "      <td>0.000000</td>\n",
       "      <td>0.000000</td>\n",
       "      <td>0.000000</td>\n",
       "      <td>0.000000</td>\n",
       "      <td>0.000000</td>\n",
       "      <td>0.000000</td>\n",
       "      <td>0.000000</td>\n",
       "      <td>0.000000</td>\n",
       "      <td>0.000000</td>\n",
       "      <td>0.000000</td>\n",
       "    </tr>\n",
       "    <tr>\n",
       "      <th>25%</th>\n",
       "      <td>0.000000</td>\n",
       "      <td>0.000000</td>\n",
       "      <td>0.000000</td>\n",
       "      <td>0.000000</td>\n",
       "      <td>0.031540</td>\n",
       "      <td>0.054551</td>\n",
       "      <td>0.060272</td>\n",
       "      <td>0.066911</td>\n",
       "      <td>0.066903</td>\n",
       "      <td>0.063303</td>\n",
       "      <td>0.065274</td>\n",
       "      <td>0.073342</td>\n",
       "      <td>0.083557</td>\n",
       "      <td>0.085683</td>\n",
       "      <td>0.089036</td>\n",
       "      <td>0.105219</td>\n",
       "      <td>0.121143</td>\n",
       "      <td>0.138032</td>\n",
       "      <td>0.153721</td>\n",
       "      <td>0.190516</td>\n",
       "    </tr>\n",
       "    <tr>\n",
       "      <th>50%</th>\n",
       "      <td>0.047559</td>\n",
       "      <td>0.059385</td>\n",
       "      <td>0.064951</td>\n",
       "      <td>0.068455</td>\n",
       "      <td>0.071841</td>\n",
       "      <td>0.084208</td>\n",
       "      <td>0.083427</td>\n",
       "      <td>0.089998</td>\n",
       "      <td>0.099340</td>\n",
       "      <td>0.102065</td>\n",
       "      <td>0.102998</td>\n",
       "      <td>0.112066</td>\n",
       "      <td>0.122546</td>\n",
       "      <td>0.121471</td>\n",
       "      <td>0.136731</td>\n",
       "      <td>0.155504</td>\n",
       "      <td>0.169746</td>\n",
       "      <td>0.201387</td>\n",
       "      <td>0.211355</td>\n",
       "      <td>0.253800</td>\n",
       "    </tr>\n",
       "    <tr>\n",
       "      <th>75%</th>\n",
       "      <td>0.075525</td>\n",
       "      <td>0.082197</td>\n",
       "      <td>0.088703</td>\n",
       "      <td>0.095550</td>\n",
       "      <td>0.097669</td>\n",
       "      <td>0.115201</td>\n",
       "      <td>0.123463</td>\n",
       "      <td>0.133084</td>\n",
       "      <td>0.142879</td>\n",
       "      <td>0.149597</td>\n",
       "      <td>0.160523</td>\n",
       "      <td>0.176421</td>\n",
       "      <td>0.176706</td>\n",
       "      <td>0.201326</td>\n",
       "      <td>0.207095</td>\n",
       "      <td>0.245146</td>\n",
       "      <td>0.276478</td>\n",
       "      <td>0.277120</td>\n",
       "      <td>0.312924</td>\n",
       "      <td>0.368341</td>\n",
       "    </tr>\n",
       "    <tr>\n",
       "      <th>max</th>\n",
       "      <td>1.608187</td>\n",
       "      <td>1.615272</td>\n",
       "      <td>1.716738</td>\n",
       "      <td>1.777778</td>\n",
       "      <td>1.714286</td>\n",
       "      <td>1.683029</td>\n",
       "      <td>1.843972</td>\n",
       "      <td>1.828411</td>\n",
       "      <td>3.567182</td>\n",
       "      <td>5.503513</td>\n",
       "      <td>11.239861</td>\n",
       "      <td>1.664355</td>\n",
       "      <td>1.569187</td>\n",
       "      <td>1.519337</td>\n",
       "      <td>1.573677</td>\n",
       "      <td>1.598837</td>\n",
       "      <td>2.371387</td>\n",
       "      <td>7.848372</td>\n",
       "      <td>3.561598</td>\n",
       "      <td>5.864877</td>\n",
       "    </tr>\n",
       "  </tbody>\n",
       "</table>\n",
       "</div>"
      ],
      "text/plain": [
       "         2015 Q4    2016 Q1    2016 Q2    2016 Q3    2016 Q4    2017 Q1  \\\n",
       "count  90.000000  90.000000  90.000000  90.000000  90.000000  90.000000   \n",
       "mean    0.080916   0.089114   0.096016   0.107206   0.108927   0.130670   \n",
       "std     0.203810   0.214921   0.217227   0.239656   0.240091   0.250069   \n",
       "min     0.000000   0.000000   0.000000   0.000000   0.000000   0.000000   \n",
       "25%     0.000000   0.000000   0.000000   0.000000   0.031540   0.054551   \n",
       "50%     0.047559   0.059385   0.064951   0.068455   0.071841   0.084208   \n",
       "75%     0.075525   0.082197   0.088703   0.095550   0.097669   0.115201   \n",
       "max     1.608187   1.615272   1.716738   1.777778   1.714286   1.683029   \n",
       "\n",
       "         2017 Q2    2017 Q3    2017 Q4    2018 Q1    2018 Q2    2018 Q3  \\\n",
       "count  90.000000  90.000000  90.000000  90.000000  90.000000  90.000000   \n",
       "mean    0.140260   0.152038   0.180755   0.202474   0.270984   0.142490   \n",
       "std     0.263550   0.270438   0.435803   0.618326   1.196910   0.185507   \n",
       "min     0.000000   0.000000   0.000000   0.000000   0.000000   0.000000   \n",
       "25%     0.060272   0.066911   0.066903   0.063303   0.065274   0.073342   \n",
       "50%     0.083427   0.089998   0.099340   0.102065   0.102998   0.112066   \n",
       "75%     0.123463   0.133084   0.142879   0.149597   0.160523   0.176421   \n",
       "max     1.843972   1.828411   3.567182   5.503513  11.239861   1.664355   \n",
       "\n",
       "         2018 Q4    2019 Q1    2019 Q2    2019 Q3    2019 Q4    2020 Q1  \\\n",
       "count  90.000000  90.000000  90.000000  90.000000  90.000000  90.000000   \n",
       "mean    0.156136   0.169991   0.182419   0.219667   0.257752   0.400929   \n",
       "std     0.195730   0.206054   0.213858   0.247410   0.347347   0.937030   \n",
       "min     0.000000   0.000000   0.000000   0.000000   0.000000   0.000000   \n",
       "25%     0.083557   0.085683   0.089036   0.105219   0.121143   0.138032   \n",
       "50%     0.122546   0.121471   0.136731   0.155504   0.169746   0.201387   \n",
       "75%     0.176706   0.201326   0.207095   0.245146   0.276478   0.277120   \n",
       "max     1.569187   1.519337   1.573677   1.598837   2.371387   7.848372   \n",
       "\n",
       "         2020 Q2    2020 Q3  \n",
       "count  90.000000  90.000000  \n",
       "mean    0.384365   0.467562  \n",
       "std     0.661545   0.851465  \n",
       "min     0.000000   0.000000  \n",
       "25%     0.153721   0.190516  \n",
       "50%     0.211355   0.253800  \n",
       "75%     0.312924   0.368341  \n",
       "max     3.561598   5.864877  "
      ]
     },
     "execution_count": 312,
     "metadata": {},
     "output_type": "execute_result"
    }
   ],
   "source": [
    "df_concat.describe()"
   ]
  },
  {
   "cell_type": "code",
   "execution_count": 319,
   "metadata": {},
   "outputs": [],
   "source": [
    "n_periods, n_sample = df_right.shape[1],df_right.shape[1]\n",
    "\n",
    "\n",
    "datetime_index = pd.date_range('2015-12-1', periods=n_periods, freq='3M')\n",
    "dt_index_epochs = datetime_index.astype(int) // 10**9\n",
    "dt_index = dt_index_epochs.astype('U10')"
   ]
  },
  {
   "cell_type": "code",
   "execution_count": 320,
   "metadata": {},
   "outputs": [],
   "source": [
    "styledata = {}\n",
    "\n",
    "for area in df_right.index:\n",
    "    df = pd.DataFrame(\n",
    "        {'color': df_right.loc[area].values,\n",
    "         'opacity': 0*np.random.normal(size=n_periods)},\n",
    "        index=dt_index\n",
    "    )\n",
    "    df = df.cumsum()\n",
    "    df.sample(n_sample, replace=False).sort_index()\n",
    "    df.loc[:,'opacity'] = np.ones(n_periods)\n",
    "    styledata[area] = df"
   ]
  },
  {
   "cell_type": "code",
   "execution_count": 321,
   "metadata": {},
   "outputs": [],
   "source": [
    "max_color, min_color = 0, 0\n",
    "\n",
    "for area, data in styledata.items():\n",
    "    max_color = max(max_color, data['color'].max())\n",
    "    min_color = max(min_color, data['color'].min())\n",
    "        \n",
    "cmap = linear.BuPu_06.scale(min_color, max_color)\n",
    "\n",
    "for area, data in styledata.items():\n",
    "    data['color'] = data['color'].apply(cmap)\n",
    "    data['opacity'] = (data['opacity'])\n",
    "    data['opacity'] = (data['opacity'])"
   ]
  },
  {
   "cell_type": "code",
   "execution_count": 322,
   "metadata": {},
   "outputs": [],
   "source": [
    "styledict = {\n",
    "    str(area): data.to_dict(orient='index') for\n",
    "    area, data in styledata.items()\n",
    "}"
   ]
  },
  {
   "cell_type": "code",
   "execution_count": 425,
   "metadata": {},
   "outputs": [],
   "source": [
    "# m = folium.Map([x_map, y_map], tiles='cartodbpositron', zoom_start=5)\n",
    "\n",
    "# g = TimeSliderChoropleth(\n",
    "#     df_left.to_json(),\n",
    "#     styledict=styledict,).add_to(m)\n",
    "\n",
    "# choropleth = folium.Choropleth(\n",
    "#     geo_data=df_concat,\n",
    "#     data=df_concat,\n",
    "#     columns=['index', '2020 Q3'],\n",
    "#     key_on='feature.properties.index',\n",
    "#     fill_color= 'BuPu',\n",
    "#     fill_opacity=0.0,\n",
    "#     line_opacity=0.0,\n",
    "#     legend_name='BEVs (%)',\n",
    "#     smooth_factor=0).add_to(m)\n",
    "\n",
    "# style_function = \"font-size: 15px; font-weight: bold\"\n",
    "# choropleth.geojson.add_child(\n",
    "#      folium.features.GeoJsonTooltip(['index'], style=style_function, labels=False))\n",
    "# folium.LayerControl().add_to(m) "
   ]
  },
  {
   "cell_type": "code",
   "execution_count": 426,
   "metadata": {},
   "outputs": [
    {
     "name": "stdout",
     "output_type": "stream",
     "text": [
      "-1.6565793006061926 53.753957408031695\n"
     ]
    }
   ],
   "source": [
    "x_map=df_concat.centroid.x.mean()\n",
    "y_map=df_concat.centroid.y.mean()\n",
    "print(x_map,y_map)"
   ]
  },
  {
   "cell_type": "code",
   "execution_count": 481,
   "metadata": {},
   "outputs": [
    {
     "name": "stderr",
     "output_type": "stream",
     "text": [
      "C:\\Users\\andre\\.conda\\envs\\na2021\\lib\\site-packages\\pyproj\\crs\\crs.py:53: FutureWarning: '+init=<authority>:<code>' syntax is deprecated. '<authority>:<code>' is the preferred initialization method. When making the change, be mindful of axis order changes: https://pyproj4.github.io/pyproj/stable/gotchas.html#axis-order-changes-in-proj-6\n",
      "  return _prepare_from_string(\" \".join(pjargs))\n",
      "C:\\Users\\andre\\.conda\\envs\\na2021\\lib\\site-packages\\pyproj\\crs\\crs.py:53: FutureWarning: '+init=<authority>:<code>' syntax is deprecated. '<authority>:<code>' is the preferred initialization method. When making the change, be mindful of axis order changes: https://pyproj4.github.io/pyproj/stable/gotchas.html#axis-order-changes-in-proj-6\n",
      "  return _prepare_from_string(\" \".join(pjargs))\n",
      "C:\\Users\\andre\\.conda\\envs\\na2021\\lib\\site-packages\\pyproj\\crs\\crs.py:53: FutureWarning: '+init=<authority>:<code>' syntax is deprecated. '<authority>:<code>' is the preferred initialization method. When making the change, be mindful of axis order changes: https://pyproj4.github.io/pyproj/stable/gotchas.html#axis-order-changes-in-proj-6\n",
      "  return _prepare_from_string(\" \".join(pjargs))\n",
      "C:\\Users\\andre\\.conda\\envs\\na2021\\lib\\site-packages\\pyproj\\crs\\crs.py:53: FutureWarning: '+init=<authority>:<code>' syntax is deprecated. '<authority>:<code>' is the preferred initialization method. When making the change, be mindful of axis order changes: https://pyproj4.github.io/pyproj/stable/gotchas.html#axis-order-changes-in-proj-6\n",
      "  return _prepare_from_string(\" \".join(pjargs))\n"
     ]
    },
    {
     "data": {
      "text/plain": [
       "<folium.map.LayerControl at 0x233f139d2e0>"
      ]
     },
     "execution_count": 481,
     "metadata": {},
     "output_type": "execute_result"
    }
   ],
   "source": [
    "m = folium.Map([y_map,x_map], tiles=None , zoom_start=9)\n",
    "folium.TileLayer('CartoDB positron',name=\"Light Map\",control=False).add_to(m)\n",
    "\n",
    "\n",
    "g = TimeSliderChoropleth(\n",
    "    df_left.to_json(),\n",
    "    styledict=styledict,\n",
    "    control = False).add_to(m)\n",
    "\n",
    "choropleth = folium.Choropleth(\n",
    "    geo_data=df_concat,\n",
    "    data=df_concat,\n",
    "    name = 'Postcode Districts',\n",
    "    columns=['index', '2020 Q3'],\n",
    "    key_on='feature.properties.index',\n",
    "    fill_color= 'BuPu',\n",
    "    fill_opacity=0.0,\n",
    "    line_opacity=0.0,\n",
    "    legend_name='BEVs (%)',\n",
    "    smooth_factor=0).add_to(m)\n",
    "\n",
    "\n",
    "\n",
    "\n",
    "\n",
    "style_function = lambda x: {'fillColor': '#ffffff', \n",
    "                            'color':'#000000', \n",
    "                            'fillOpacity': 0.0, \n",
    "                            'weight': 0.0}\n",
    "\n",
    "\n",
    "highlight_function = lambda x: {'fillColor': '#000000', \n",
    "                                'color':'#000000', \n",
    "                                'fillOpacity': 0.50, \n",
    "                                'weight': 0.1}\n",
    "choropleth.geojson.add_child(\n",
    "    folium.features.GeoJson(\n",
    "    df_concat,\n",
    "    style_function=style_function, \n",
    "    control=False,\n",
    "    highlight_function=highlight_function, \n",
    "    tooltip=folium.features.GeoJsonTooltip(\n",
    "        fields=['index'],\n",
    "        aliases=['Postcode District:'],\n",
    "        style=(\"background-color: white; color: #333333; font-family: arial; font-size: 12px; padding: 10px;\") \n",
    "    )\n",
    "))\n",
    "\n",
    "\n",
    "\n",
    "#m.add_child(NIL)\n",
    "m.keep_in_front(NIL)\n",
    "\n",
    "\n",
    "la_layer = folium.GeoJson(data=polygon_la[\"geometry\"],name = 'Local Authority',style_function=lambda feature: {\n",
    "        \"fillColor\": \"grey\",\n",
    "        \"color\": \"grey\",\n",
    "        'fillOpacity': 0.1, \n",
    "        'weight': 0.1},\n",
    ").add_to(m)\n",
    "\n",
    "\n",
    "\n",
    "la_layer.add_child(\n",
    "    folium.features.GeoJson(\n",
    "    polygon_la,\n",
    "    style_function=style_function, \n",
    "    control=False,\n",
    "    highlight_function=highlight_function, \n",
    "    tooltip=folium.features.GeoJsonTooltip(\n",
    "        fields=['LAD20CD'],\n",
    "        aliases=['Local Authority:'],\n",
    "        style=(\"background-color: white; color: #333333; font-family: arial; font-size: 12px; padding: 10px;\") \n",
    "    )\n",
    "))\n",
    "\n",
    "m.keep_in_front(la_layer)\n",
    "\n",
    "folium.LayerControl().add_to(m) "
   ]
  },
  {
   "cell_type": "code",
   "execution_count": 503,
   "metadata": {
    "scrolled": false
   },
   "outputs": [],
   "source": [
    "#m"
   ]
  },
  {
   "cell_type": "code",
   "execution_count": 404,
   "metadata": {},
   "outputs": [],
   "source": [
    "m.save('WY.html')"
   ]
  },
  {
   "cell_type": "markdown",
   "metadata": {},
   "source": [
    "# UPRNs"
   ]
  },
  {
   "cell_type": "code",
   "execution_count": 464,
   "metadata": {},
   "outputs": [
    {
     "data": {
      "text/html": [
       "<div>\n",
       "<style scoped>\n",
       "    .dataframe tbody tr th:only-of-type {\n",
       "        vertical-align: middle;\n",
       "    }\n",
       "\n",
       "    .dataframe tbody tr th {\n",
       "        vertical-align: top;\n",
       "    }\n",
       "\n",
       "    .dataframe thead th {\n",
       "        text-align: right;\n",
       "    }\n",
       "</style>\n",
       "<table border=\"1\" class=\"dataframe\">\n",
       "  <thead>\n",
       "    <tr style=\"text-align: right;\">\n",
       "      <th></th>\n",
       "      <th>UPRN</th>\n",
       "      <th>X_COORDINATE</th>\n",
       "      <th>Y_COORDINATE</th>\n",
       "      <th>LATITUDE</th>\n",
       "      <th>LONGITUDE</th>\n",
       "    </tr>\n",
       "    <tr>\n",
       "      <th>Postcode District</th>\n",
       "      <th></th>\n",
       "      <th></th>\n",
       "      <th></th>\n",
       "      <th></th>\n",
       "      <th></th>\n",
       "    </tr>\n",
       "  </thead>\n",
       "  <tbody>\n",
       "    <tr>\n",
       "      <th>AB10</th>\n",
       "      <td>9051044244</td>\n",
       "      <td>392793.00</td>\n",
       "      <td>805619.00</td>\n",
       "      <td>57.141395</td>\n",
       "      <td>-2.120729</td>\n",
       "    </tr>\n",
       "    <tr>\n",
       "      <th>AB10</th>\n",
       "      <td>9051058739</td>\n",
       "      <td>393058.00</td>\n",
       "      <td>804612.00</td>\n",
       "      <td>57.132354</td>\n",
       "      <td>-2.116322</td>\n",
       "    </tr>\n",
       "    <tr>\n",
       "      <th>AB10</th>\n",
       "      <td>9051058738</td>\n",
       "      <td>393059.00</td>\n",
       "      <td>804620.00</td>\n",
       "      <td>57.132425</td>\n",
       "      <td>-2.116306</td>\n",
       "    </tr>\n",
       "    <tr>\n",
       "      <th>AB10</th>\n",
       "      <td>9051058737</td>\n",
       "      <td>393063.00</td>\n",
       "      <td>804631.00</td>\n",
       "      <td>57.132524</td>\n",
       "      <td>-2.116240</td>\n",
       "    </tr>\n",
       "    <tr>\n",
       "      <th>AB10</th>\n",
       "      <td>9051058736</td>\n",
       "      <td>393061.86</td>\n",
       "      <td>804640.43</td>\n",
       "      <td>57.132609</td>\n",
       "      <td>-2.116259</td>\n",
       "    </tr>\n",
       "  </tbody>\n",
       "</table>\n",
       "</div>"
      ],
      "text/plain": [
       "                         UPRN  X_COORDINATE  Y_COORDINATE   LATITUDE  \\\n",
       "Postcode District                                                      \n",
       "AB10               9051044244     392793.00     805619.00  57.141395   \n",
       "AB10               9051058739     393058.00     804612.00  57.132354   \n",
       "AB10               9051058738     393059.00     804620.00  57.132425   \n",
       "AB10               9051058737     393063.00     804631.00  57.132524   \n",
       "AB10               9051058736     393061.86     804640.43  57.132609   \n",
       "\n",
       "                   LONGITUDE  \n",
       "Postcode District             \n",
       "AB10               -2.120729  \n",
       "AB10               -2.116322  \n",
       "AB10               -2.116306  \n",
       "AB10               -2.116240  \n",
       "AB10               -2.116259  "
      ]
     },
     "execution_count": 464,
     "metadata": {},
     "output_type": "execute_result"
    }
   ],
   "source": [
    "#Import the csv file listing all the UPRNs per postcode district \n",
    "\n",
    "df_uprn = pd.read_csv(dirname+'/UPRNs.csv', index_col=0)\n",
    "df_uprn.head()"
   ]
  },
  {
   "cell_type": "code",
   "execution_count": 465,
   "metadata": {},
   "outputs": [
    {
     "data": {
      "text/html": [
       "<div>\n",
       "<style scoped>\n",
       "    .dataframe tbody tr th:only-of-type {\n",
       "        vertical-align: middle;\n",
       "    }\n",
       "\n",
       "    .dataframe tbody tr th {\n",
       "        vertical-align: top;\n",
       "    }\n",
       "\n",
       "    .dataframe thead th {\n",
       "        text-align: right;\n",
       "    }\n",
       "</style>\n",
       "<table border=\"1\" class=\"dataframe\">\n",
       "  <thead>\n",
       "    <tr style=\"text-align: right;\">\n",
       "      <th></th>\n",
       "      <th>geometry</th>\n",
       "    </tr>\n",
       "    <tr>\n",
       "      <th>Postcode District</th>\n",
       "      <th></th>\n",
       "    </tr>\n",
       "  </thead>\n",
       "  <tbody>\n",
       "    <tr>\n",
       "      <th>AB10</th>\n",
       "      <td>MULTIPOLYGON (((-2.09560 57.11318, -2.09400 57...</td>\n",
       "    </tr>\n",
       "    <tr>\n",
       "      <th>AB11</th>\n",
       "      <td>MULTIPOLYGON (((-2.05193 57.17075, -2.02345 57...</td>\n",
       "    </tr>\n",
       "    <tr>\n",
       "      <th>AB12</th>\n",
       "      <td>MULTIPOLYGON (((-2.09608 57.14849, -2.09552 57...</td>\n",
       "    </tr>\n",
       "    <tr>\n",
       "      <th>AB13</th>\n",
       "      <td>MULTIPOLYGON (((-2.28903 57.14867, -2.28762 57...</td>\n",
       "    </tr>\n",
       "    <tr>\n",
       "      <th>AB14</th>\n",
       "      <td>MULTIPOLYGON (((-2.30175 57.08001, -2.28894 57...</td>\n",
       "    </tr>\n",
       "  </tbody>\n",
       "</table>\n",
       "</div>"
      ],
      "text/plain": [
       "                                                            geometry\n",
       "Postcode District                                                   \n",
       "AB10               MULTIPOLYGON (((-2.09560 57.11318, -2.09400 57...\n",
       "AB11               MULTIPOLYGON (((-2.05193 57.17075, -2.02345 57...\n",
       "AB12               MULTIPOLYGON (((-2.09608 57.14849, -2.09552 57...\n",
       "AB13               MULTIPOLYGON (((-2.28903 57.14867, -2.28762 57...\n",
       "AB14               MULTIPOLYGON (((-2.30175 57.08001, -2.28894 57..."
      ]
     },
     "execution_count": 465,
     "metadata": {},
     "output_type": "execute_result"
    }
   ],
   "source": [
    "df_postcode_district.head()"
   ]
  },
  {
   "cell_type": "markdown",
   "metadata": {},
   "source": [
    "## Map and total number of UPRNs per Postcode District "
   ]
  },
  {
   "cell_type": "code",
   "execution_count": 483,
   "metadata": {},
   "outputs": [
    {
     "name": "stdout",
     "output_type": "stream",
     "text": [
      "In CB3 there are 10796 UPRNs\n"
     ]
    }
   ],
   "source": [
    "postcode_value = 'CB3'\n",
    "postcode_selection = df_uprn.loc[postcode_value]\n",
    "locations = postcode_selection[['LATITUDE', 'LONGITUDE']]\n",
    "locationlist = locations.values.tolist()\n",
    "\n",
    "print('In {} there are {} UPRNs'.format(postcode_value,df_uprn.loc[postcode_value]['UPRN'].count()))"
   ]
  },
  {
   "cell_type": "code",
   "execution_count": 505,
   "metadata": {},
   "outputs": [
    {
     "name": "stderr",
     "output_type": "stream",
     "text": [
      "C:\\Users\\andre\\.conda\\envs\\na2021\\lib\\site-packages\\pyproj\\crs\\crs.py:53: FutureWarning: '+init=<authority>:<code>' syntax is deprecated. '<authority>:<code>' is the preferred initialization method. When making the change, be mindful of axis order changes: https://pyproj4.github.io/pyproj/stable/gotchas.html#axis-order-changes-in-proj-6\n",
      "  return _prepare_from_string(\" \".join(pjargs))\n"
     ]
    }
   ],
   "source": [
    "my_map = folium.Map([50.854457, 4.377184], zoom_start=5, tiles='cartodbpositron')\n",
    "folium.GeoJson(df_postcode_district.loc[postcode_value:postcode_value]).add_to(my_map)\n",
    "my_map.add_child(FastMarkerCluster(locationlist))\n",
    "my_map.save(postcode_value+\".html\")"
   ]
  }
 ],
 "metadata": {
  "colab": {
   "collapsed_sections": [],
   "name": "EV and charging devices uptake.ipynb",
   "provenance": [],
   "toc_visible": true
  },
  "kernelspec": {
   "display_name": "Python 3",
   "language": "python",
   "name": "python3"
  },
  "language_info": {
   "codemirror_mode": {
    "name": "ipython",
    "version": 3
   },
   "file_extension": ".py",
   "mimetype": "text/x-python",
   "name": "python",
   "nbconvert_exporter": "python",
   "pygments_lexer": "ipython3",
   "version": "3.8.5"
  }
 },
 "nbformat": 4,
 "nbformat_minor": 1
}
