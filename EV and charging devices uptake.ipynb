{
 "cells": [
  {
   "cell_type": "markdown",
   "metadata": {
    "id": "Sv8pL-bJN7_W"
   },
   "source": [
    "# Importing packages"
   ]
  },
  {
   "cell_type": "code",
   "execution_count": 111,
   "metadata": {
    "executionInfo": {
     "elapsed": 448,
     "status": "ok",
     "timestamp": 1610099642690,
     "user": {
      "displayName": "Andrea Di Antonio",
      "photoUrl": "",
      "userId": "00274323577290199816"
     },
     "user_tz": 0
    },
    "id": "WdNJzi0iN7_X"
   },
   "outputs": [],
   "source": [
    "import os\n",
    "import io\n",
    "import folium\n",
    "import zipfile\n",
    "import shapely\n",
    "import openpyxl\n",
    "import requests\n",
    "import numpy as np \n",
    "import pandas as pd\n",
    "import seaborn as sns\n",
    "import geopandas as gpd\n",
    "from datetime import datetime\n",
    "import matplotlib.pyplot as plt\n",
    "from shapely.geometry import Point\n",
    "from pandas_ods_reader import read_ods\n",
    "from shapely.geometry.polygon import Polygon\n",
    "gpd.io.file.fiona.drvsupport.supported_drivers['KML'] = 'rw'"
   ]
  },
  {
   "cell_type": "markdown",
   "metadata": {},
   "source": [
    "# Define recursive functions"
   ]
  },
  {
   "cell_type": "code",
   "execution_count": 2,
   "metadata": {},
   "outputs": [],
   "source": [
    "def download_from_url(file_url,filepath):\n",
    "    req = requests.get(file_url)\n",
    "    with open(filepath, 'wb') as file:\n",
    "        file.write(req.content)\n",
    "    \n",
    "    \n",
    "def download_zip_url(file_url,filedest):\n",
    "    req = requests.get(file_url)\n",
    "    zipped = zipfile.ZipFile(io.BytesIO(req.content))\n",
    "    zipped.extractall(filedest)\n",
    "    \n",
    "def private_or_public_charging(private_devices,electric_cars):\n",
    "     if private_devices >= electric_cars: \n",
    "        return 'Predomintantly private'\n",
    "     else: \n",
    "        return 'Predomintantly public'"
   ]
  },
  {
   "cell_type": "markdown",
   "metadata": {
    "id": "odf3Inp5N7_Y"
   },
   "source": [
    "# Import files"
   ]
  },
  {
   "cell_type": "code",
   "execution_count": 3,
   "metadata": {},
   "outputs": [],
   "source": [
    "dirname = 'Data'"
   ]
  },
  {
   "cell_type": "code",
   "execution_count": 4,
   "metadata": {},
   "outputs": [
    {
     "name": "stdout",
     "output_type": "stream",
     "text": [
      "Directory Data already exists\n"
     ]
    }
   ],
   "source": [
    "if os.path.basename(os.getcwd())== 'local_authority_charging':\n",
    "    if not os.path.isdir(dirname):\n",
    "        try:\n",
    "            os.mkdir(dirname)\n",
    "        except OSError:\n",
    "            print (\"Creation of the directory %s failed\" % dirname)\n",
    "        else:\n",
    "            print (\"Successfully created the directory %s \" % dirname)\n",
    "    else: \n",
    "        print (\"Directory %s already exists\" % dirname)"
   ]
  },
  {
   "cell_type": "markdown",
   "metadata": {},
   "source": [
    "## Downloading the required datasets for the analysis "
   ]
  },
  {
   "cell_type": "code",
   "execution_count": 5,
   "metadata": {},
   "outputs": [
    {
     "name": "stdout",
     "output_type": "stream",
     "text": [
      "File postcodes.csv already exists\n"
     ]
    }
   ],
   "source": [
    "filename = 'postcodes.csv'\n",
    "\n",
    "if os.path.isfile(dirname+'/'+filename):\n",
    "    print (\"File %s already exists\" % filename)\n",
    "else:\n",
    "    download_zip_url('https://www.doogal.co.uk/files/postcodes.zip',dirname)\n",
    "    print (\"Successfully downloaded the file %s \" % filename)"
   ]
  },
  {
   "cell_type": "code",
   "execution_count": 6,
   "metadata": {},
   "outputs": [
    {
     "name": "stdout",
     "output_type": "stream",
     "text": [
      "File osopenuprn_202011.csv already exists\n"
     ]
    }
   ],
   "source": [
    "filename = 'osopenuprn_202011.csv'\n",
    "\n",
    "if os.path.isfile(dirname+'/'+filename):\n",
    "    print (\"File %s already exists\" % filename)\n",
    "else:\n",
    "    download_zip_url('https://api.os.uk/downloads/v1/products/OpenUPRN/downloads?area=GB&format=CSV&redirect',dirname)\n",
    "    print (\"Successfully downloaded the file %s \" % filename)"
   ]
  },
  {
   "cell_type": "code",
   "execution_count": 7,
   "metadata": {},
   "outputs": [],
   "source": [
    "#Linking the required datasets with the URLs to download them from \n",
    "\n",
    "required_files = {'EIR_E0019012.xlsx':'https://storage.googleapis.com/na_evhs/EIR_E0019012.xlsx',\n",
    "                 'electric-vehicle-charging-device-statistics-october-2020.ods':'https://assets.publishing.service.gov.uk/government/uploads/system/uploads/attachment_data/file/933589/electric-vehicle-charging-device-statistics-october-2020.ods',\n",
    "                 'veh0132.ods':'https://assets.publishing.service.gov.uk/government/uploads/system/uploads/attachment_data/file/942248/veh0132.ods',\n",
    "                 'veh0134.ods':'https://assets.publishing.service.gov.uk/government/uploads/system/uploads/attachment_data/file/942250/veh0134.ods',\n",
    "                 'veh0122.ods':'https://assets.publishing.service.gov.uk/government/uploads/system/uploads/attachment_data/file/942242/veh0122.ods',\n",
    "                  'tra8901.ods':'https://assets.publishing.service.gov.uk/government/uploads/system/uploads/attachment_data/file/925275/tra8901.ods'\n",
    "                 }"
   ]
  },
  {
   "cell_type": "code",
   "execution_count": 8,
   "metadata": {},
   "outputs": [
    {
     "name": "stdout",
     "output_type": "stream",
     "text": [
      "File EIR_E0019012.xlsx already exists\n",
      "    Last modified 12/01/2021 09:58:11\n",
      "File electric-vehicle-charging-device-statistics-october-2020.ods already exists\n",
      "    Last modified 12/01/2021 09:58:11\n",
      "File veh0132.ods already exists\n",
      "    Last modified 12/01/2021 09:59:28\n",
      "File veh0134.ods already exists\n",
      "    Last modified 12/01/2021 09:59:28\n",
      "File veh0122.ods already exists\n",
      "    Last modified 08/01/2021 10:50:22\n",
      "File tra8901.ods already exists\n",
      "    Last modified 15/01/2021 13:41:38\n"
     ]
    }
   ],
   "source": [
    "# If not already present inside \"Data\" folder, download the required datasets and\n",
    "# check the last time the datasets where downloaded/modified\n",
    "\n",
    "for filename in required_files.keys():\n",
    "    \n",
    "    file_path = dirname+'/'+filename\n",
    "    \n",
    "    if os.path.isfile(file_path):\n",
    "        print (\"File %s already exists\" % filename)\n",
    "    else:\n",
    "        download_from_url(required_files[filename],file_path)\n",
    "        print (\"Successfully downloaded the file %s \" % filename)\n",
    "    \n",
    "    try:\n",
    "        mtime = os.path.getmtime(file_path)\n",
    "    except OSError:\n",
    "        mtime = 0\n",
    "    last_modified_date = datetime.fromtimestamp(mtime)\n",
    "    \n",
    "    print('    Last modified '+last_modified_date.strftime(\"%d/%m/%Y %H:%M:%S\"))"
   ]
  },
  {
   "cell_type": "code",
   "execution_count": 9,
   "metadata": {
    "scrolled": true
   },
   "outputs": [
    {
     "name": "stdout",
     "output_type": "stream",
     "text": [
      "EIR_E0019012.xlsx has 1 sheet(s): ['bypostcodedistrict']\n",
      "electric-vehicle-charging-device-statistics-october-2020.ods has 3 sheet(s): ['Info', 'EVCD_01', 'EVCD_02']\n",
      "tra8901.ods has 1 sheet(s): ['TRA8901']\n",
      "veh0122.ods has 11 sheet(s): ['2020', '2019', '2018', '2017', '2016', '2015', '2014', '2013', '2012', '2011', '2010']\n",
      "veh0132.ods has 4 sheet(s): ['VEH0132a', 'VEH0132b', 'VEH0132c', 'VEH0132d']\n",
      "veh0134.ods has 3 sheet(s): ['VEH0134a', 'VEH0134b', 'VEH0134c']\n"
     ]
    }
   ],
   "source": [
    "#For file containing multiple sheets (e.g. Excel spreadsheet files) determine the number and the name of each sheet\n",
    "\n",
    "for filename in os.listdir(dirname):\n",
    "    \n",
    "    file_path = dirname+'/'+filename\n",
    "    \n",
    "    if filename.endswith('.ods') or filename.endswith('.xls'):\n",
    "        \n",
    "        file_preview = pd.ExcelFile(file_path, engine ='odf')\n",
    "        sheets_number = [sheet for sheet in file_preview.sheet_names if not sheet.startswith(\"'\")]\n",
    "        print('{} has {} sheet(s): {}'.format(filename,len(sheets_number),sheets_number))\n",
    "        \n",
    "    elif filename.endswith('.xlsx'):\n",
    "        \n",
    "        file_preview = openpyxl.load_workbook(file_path) \n",
    "        sheets_number = [sheet for sheet in file_preview.sheetnames if not sheet.startswith(\"'\")]\n",
    "        print('{} has {} sheet(s): {}'.format(filename,len(sheets_number),sheets_number))\n",
    "    \n",
    "    "
   ]
  },
  {
   "cell_type": "markdown",
   "metadata": {},
   "source": [
    "# Import Postcode data"
   ]
  },
  {
   "cell_type": "code",
   "execution_count": 10,
   "metadata": {
    "colab": {
     "base_uri": "https://localhost:8080/"
    },
    "executionInfo": {
     "elapsed": 28872,
     "status": "ok",
     "timestamp": 1610099707476,
     "user": {
      "displayName": "Andrea Di Antonio",
      "photoUrl": "",
      "userId": "00274323577290199816"
     },
     "user_tz": 0
    },
    "id": "7RZFI-UuN7_Z",
    "outputId": "8feccc9f-c1f9-4a96-dbd4-b718520babe6"
   },
   "outputs": [
    {
     "name": "stderr",
     "output_type": "stream",
     "text": [
      "C:\\Users\\andre\\.conda\\envs\\na2021\\lib\\site-packages\\IPython\\core\\interactiveshell.py:3145: DtypeWarning: Columns (7,17,18,21,22,24,25,29,32,39,47) have mixed types.Specify dtype option on import or set low_memory=False.\n",
      "  has_raised = await self.run_ast_nodes(code_ast.body, cell_name,\n"
     ]
    }
   ],
   "source": [
    "#Import file containing the information about, among others, postcodes, local authority, constituency and population\n",
    "postcode = pd.read_csv(dirname+'/postcodes.csv') "
   ]
  },
  {
   "cell_type": "code",
   "execution_count": 11,
   "metadata": {},
   "outputs": [
    {
     "data": {
      "text/plain": [
       "Index(['Postcode', 'In Use?', 'Latitude', 'Longitude', 'Easting', 'Northing',\n",
       "       'Grid Ref', 'County', 'District', 'Ward', 'District Code', 'Ward Code',\n",
       "       'Country', 'County Code', 'Constituency', 'Introduced', 'Terminated',\n",
       "       'Parish', 'National Park', 'Population', 'Households', 'Built up area',\n",
       "       'Built up sub-division', 'Lower layer super output area', 'Rural/urban',\n",
       "       'Region', 'Altitude', 'London zone', 'LSOA Code', 'Local authority',\n",
       "       'MSOA Code', 'Middle layer super output area', 'Parish Code',\n",
       "       'Census output area', 'Constituency Code',\n",
       "       'Index of Multiple Deprivation', 'Quality', 'User Type', 'Last updated',\n",
       "       'Nearest station', 'Distance to station', 'Postcode area',\n",
       "       'Postcode district', 'Police force', 'Water company', 'Plus Code',\n",
       "       'Average Income', 'Sewage Company', 'Travel To Work Area'],\n",
       "      dtype='object')"
      ]
     },
     "execution_count": 11,
     "metadata": {},
     "output_type": "execute_result"
    }
   ],
   "source": [
    "postcode.columns"
   ]
  },
  {
   "cell_type": "code",
   "execution_count": 12,
   "metadata": {
    "colab": {
     "base_uri": "https://localhost:8080/",
     "height": 581
    },
    "executionInfo": {
     "elapsed": 471,
     "status": "ok",
     "timestamp": 1610102577120,
     "user": {
      "displayName": "Andrea Di Antonio",
      "photoUrl": "",
      "userId": "00274323577290199816"
     },
     "user_tz": 0
    },
    "id": "-PErHhmEN7_Z",
    "outputId": "b6d79be3-48aa-40df-ee05-75cad63b5879"
   },
   "outputs": [
    {
     "data": {
      "text/html": [
       "<div>\n",
       "<style scoped>\n",
       "    .dataframe tbody tr th:only-of-type {\n",
       "        vertical-align: middle;\n",
       "    }\n",
       "\n",
       "    .dataframe tbody tr th {\n",
       "        vertical-align: top;\n",
       "    }\n",
       "\n",
       "    .dataframe thead th {\n",
       "        text-align: right;\n",
       "    }\n",
       "</style>\n",
       "<table border=\"1\" class=\"dataframe\">\n",
       "  <thead>\n",
       "    <tr style=\"text-align: right;\">\n",
       "      <th></th>\n",
       "      <th>Postcode</th>\n",
       "      <th>In Use?</th>\n",
       "      <th>Latitude</th>\n",
       "      <th>Longitude</th>\n",
       "      <th>Easting</th>\n",
       "      <th>Northing</th>\n",
       "      <th>Grid Ref</th>\n",
       "      <th>County</th>\n",
       "      <th>District</th>\n",
       "      <th>Ward</th>\n",
       "      <th>...</th>\n",
       "      <th>Nearest station</th>\n",
       "      <th>Distance to station</th>\n",
       "      <th>Postcode area</th>\n",
       "      <th>Postcode district</th>\n",
       "      <th>Police force</th>\n",
       "      <th>Water company</th>\n",
       "      <th>Plus Code</th>\n",
       "      <th>Average Income</th>\n",
       "      <th>Sewage Company</th>\n",
       "      <th>Travel To Work Area</th>\n",
       "    </tr>\n",
       "  </thead>\n",
       "  <tbody>\n",
       "    <tr>\n",
       "      <th>0</th>\n",
       "      <td>AB1 0AA</td>\n",
       "      <td>No</td>\n",
       "      <td>57.101474</td>\n",
       "      <td>-2.242851</td>\n",
       "      <td>385386.0</td>\n",
       "      <td>801193.0</td>\n",
       "      <td>NJ853011</td>\n",
       "      <td>NaN</td>\n",
       "      <td>Aberdeen City</td>\n",
       "      <td>Lower Deeside</td>\n",
       "      <td>...</td>\n",
       "      <td>Portlethen</td>\n",
       "      <td>8.31408</td>\n",
       "      <td>AB</td>\n",
       "      <td>AB1</td>\n",
       "      <td>Scotland</td>\n",
       "      <td>Scottish Water</td>\n",
       "      <td>9C9V4Q24+HV</td>\n",
       "      <td>NaN</td>\n",
       "      <td>NaN</td>\n",
       "      <td>Aberdeen</td>\n",
       "    </tr>\n",
       "    <tr>\n",
       "      <th>1</th>\n",
       "      <td>AB1 0AB</td>\n",
       "      <td>No</td>\n",
       "      <td>57.102554</td>\n",
       "      <td>-2.246308</td>\n",
       "      <td>385177.0</td>\n",
       "      <td>801314.0</td>\n",
       "      <td>NJ851013</td>\n",
       "      <td>NaN</td>\n",
       "      <td>Aberdeen City</td>\n",
       "      <td>Lower Deeside</td>\n",
       "      <td>...</td>\n",
       "      <td>Portlethen</td>\n",
       "      <td>8.55457</td>\n",
       "      <td>AB</td>\n",
       "      <td>AB1</td>\n",
       "      <td>Scotland</td>\n",
       "      <td>Scottish Water</td>\n",
       "      <td>9C9V4Q33+2F</td>\n",
       "      <td>NaN</td>\n",
       "      <td>NaN</td>\n",
       "      <td>Aberdeen</td>\n",
       "    </tr>\n",
       "    <tr>\n",
       "      <th>2</th>\n",
       "      <td>AB1 0AD</td>\n",
       "      <td>No</td>\n",
       "      <td>57.100556</td>\n",
       "      <td>-2.248342</td>\n",
       "      <td>385053.0</td>\n",
       "      <td>801092.0</td>\n",
       "      <td>NJ850010</td>\n",
       "      <td>NaN</td>\n",
       "      <td>Aberdeen City</td>\n",
       "      <td>Lower Deeside</td>\n",
       "      <td>...</td>\n",
       "      <td>Portlethen</td>\n",
       "      <td>8.54352</td>\n",
       "      <td>AB</td>\n",
       "      <td>AB1</td>\n",
       "      <td>Scotland</td>\n",
       "      <td>Scottish Water</td>\n",
       "      <td>9C9V4Q22+6M</td>\n",
       "      <td>NaN</td>\n",
       "      <td>NaN</td>\n",
       "      <td>Aberdeen</td>\n",
       "    </tr>\n",
       "    <tr>\n",
       "      <th>3</th>\n",
       "      <td>AB1 0AE</td>\n",
       "      <td>No</td>\n",
       "      <td>57.084444</td>\n",
       "      <td>-2.255708</td>\n",
       "      <td>384600.0</td>\n",
       "      <td>799300.0</td>\n",
       "      <td>NO845992</td>\n",
       "      <td>NaN</td>\n",
       "      <td>Aberdeenshire</td>\n",
       "      <td>North Kincardine</td>\n",
       "      <td>...</td>\n",
       "      <td>Portlethen</td>\n",
       "      <td>8.20809</td>\n",
       "      <td>AB</td>\n",
       "      <td>AB1</td>\n",
       "      <td>Scotland</td>\n",
       "      <td>Scottish Water</td>\n",
       "      <td>9C9V3PMV+QP</td>\n",
       "      <td>NaN</td>\n",
       "      <td>NaN</td>\n",
       "      <td>Aberdeen</td>\n",
       "    </tr>\n",
       "    <tr>\n",
       "      <th>4</th>\n",
       "      <td>AB1 0AF</td>\n",
       "      <td>No</td>\n",
       "      <td>57.096656</td>\n",
       "      <td>-2.258102</td>\n",
       "      <td>384460.0</td>\n",
       "      <td>800660.0</td>\n",
       "      <td>NJ844006</td>\n",
       "      <td>NaN</td>\n",
       "      <td>Aberdeen City</td>\n",
       "      <td>Lower Deeside</td>\n",
       "      <td>...</td>\n",
       "      <td>Portlethen</td>\n",
       "      <td>8.85583</td>\n",
       "      <td>AB</td>\n",
       "      <td>AB1</td>\n",
       "      <td>Scotland</td>\n",
       "      <td>Scottish Water</td>\n",
       "      <td>9C9V3PWR+MQ</td>\n",
       "      <td>NaN</td>\n",
       "      <td>NaN</td>\n",
       "      <td>Aberdeen</td>\n",
       "    </tr>\n",
       "  </tbody>\n",
       "</table>\n",
       "<p>5 rows × 49 columns</p>\n",
       "</div>"
      ],
      "text/plain": [
       "  Postcode In Use?   Latitude  Longitude   Easting  Northing  Grid Ref County  \\\n",
       "0  AB1 0AA      No  57.101474  -2.242851  385386.0  801193.0  NJ853011    NaN   \n",
       "1  AB1 0AB      No  57.102554  -2.246308  385177.0  801314.0  NJ851013    NaN   \n",
       "2  AB1 0AD      No  57.100556  -2.248342  385053.0  801092.0  NJ850010    NaN   \n",
       "3  AB1 0AE      No  57.084444  -2.255708  384600.0  799300.0  NO845992    NaN   \n",
       "4  AB1 0AF      No  57.096656  -2.258102  384460.0  800660.0  NJ844006    NaN   \n",
       "\n",
       "        District              Ward  ... Nearest station Distance to station  \\\n",
       "0  Aberdeen City     Lower Deeside  ...      Portlethen             8.31408   \n",
       "1  Aberdeen City     Lower Deeside  ...      Portlethen             8.55457   \n",
       "2  Aberdeen City     Lower Deeside  ...      Portlethen             8.54352   \n",
       "3  Aberdeenshire  North Kincardine  ...      Portlethen             8.20809   \n",
       "4  Aberdeen City     Lower Deeside  ...      Portlethen             8.85583   \n",
       "\n",
       "  Postcode area Postcode district Police force   Water company    Plus Code  \\\n",
       "0            AB               AB1     Scotland  Scottish Water  9C9V4Q24+HV   \n",
       "1            AB               AB1     Scotland  Scottish Water  9C9V4Q33+2F   \n",
       "2            AB               AB1     Scotland  Scottish Water  9C9V4Q22+6M   \n",
       "3            AB               AB1     Scotland  Scottish Water  9C9V3PMV+QP   \n",
       "4            AB               AB1     Scotland  Scottish Water  9C9V3PWR+MQ   \n",
       "\n",
       "  Average Income Sewage Company  Travel To Work Area  \n",
       "0            NaN            NaN             Aberdeen  \n",
       "1            NaN            NaN             Aberdeen  \n",
       "2            NaN            NaN             Aberdeen  \n",
       "3            NaN            NaN             Aberdeen  \n",
       "4            NaN            NaN             Aberdeen  \n",
       "\n",
       "[5 rows x 49 columns]"
      ]
     },
     "execution_count": 12,
     "metadata": {},
     "output_type": "execute_result"
    }
   ],
   "source": [
    "postcode.head()"
   ]
  },
  {
   "cell_type": "code",
   "execution_count": 13,
   "metadata": {
    "executionInfo": {
     "elapsed": 813,
     "status": "ok",
     "timestamp": 1610102581415,
     "user": {
      "displayName": "Andrea Di Antonio",
      "photoUrl": "",
      "userId": "00274323577290199816"
     },
     "user_tz": 0
    },
    "id": "AtFV3DfFN7_a"
   },
   "outputs": [],
   "source": [
    "#Removing unnecessary columns to reduce the size and, therefore, the computational power required to process the dataframe\n",
    "postcode = postcode.drop(['Grid Ref','County','Introduced', 'Terminated',\n",
    "       'Parish', 'National Park','Households', 'Built up area',\n",
    "       'Built up sub-division', 'Lower layer super output area', 'Rural/urban',\n",
    "       'Region', 'Altitude', 'London zone', 'LSOA Code', 'Local authority',\n",
    "       'MSOA Code', 'Middle layer super output area', 'Parish Code',\n",
    "       'Census output area', 'Index of Multiple Deprivation', 'Quality', 'User Type', 'Last updated',\n",
    "       'Nearest station', 'Distance to station', 'Police force', 'Water company', 'Plus Code',\n",
    "       'Average Income', 'Sewage Company', 'Travel To Work Area'], axis = 1)"
   ]
  },
  {
   "cell_type": "code",
   "execution_count": 14,
   "metadata": {
    "executionInfo": {
     "elapsed": 1036,
     "status": "ok",
     "timestamp": 1610102582020,
     "user": {
      "displayName": "Andrea Di Antonio",
      "photoUrl": "",
      "userId": "00274323577290199816"
     },
     "user_tz": 0
    },
    "id": "YyI0RE5vN7_a"
   },
   "outputs": [],
   "source": [
    "#Selecting only the postcodes that are still in use\n",
    "postcode_sel = postcode.loc[postcode['In Use?']=='Yes']"
   ]
  },
  {
   "cell_type": "code",
   "execution_count": 15,
   "metadata": {
    "colab": {
     "base_uri": "https://localhost:8080/",
     "height": 204
    },
    "executionInfo": {
     "elapsed": 543,
     "status": "ok",
     "timestamp": 1610102582022,
     "user": {
      "displayName": "Andrea Di Antonio",
      "photoUrl": "",
      "userId": "00274323577290199816"
     },
     "user_tz": 0
    },
    "id": "OJYOCagGN7_a",
    "outputId": "d62c57b1-ed36-4306-ec39-994d097e97da"
   },
   "outputs": [
    {
     "data": {
      "text/html": [
       "<div>\n",
       "<style scoped>\n",
       "    .dataframe tbody tr th:only-of-type {\n",
       "        vertical-align: middle;\n",
       "    }\n",
       "\n",
       "    .dataframe tbody tr th {\n",
       "        vertical-align: top;\n",
       "    }\n",
       "\n",
       "    .dataframe thead th {\n",
       "        text-align: right;\n",
       "    }\n",
       "</style>\n",
       "<table border=\"1\" class=\"dataframe\">\n",
       "  <thead>\n",
       "    <tr style=\"text-align: right;\">\n",
       "      <th></th>\n",
       "      <th>Postcode</th>\n",
       "      <th>In Use?</th>\n",
       "      <th>Latitude</th>\n",
       "      <th>Longitude</th>\n",
       "      <th>Easting</th>\n",
       "      <th>Northing</th>\n",
       "      <th>District</th>\n",
       "      <th>Ward</th>\n",
       "      <th>District Code</th>\n",
       "      <th>Ward Code</th>\n",
       "      <th>Country</th>\n",
       "      <th>County Code</th>\n",
       "      <th>Constituency</th>\n",
       "      <th>Population</th>\n",
       "      <th>Constituency Code</th>\n",
       "      <th>Postcode area</th>\n",
       "      <th>Postcode district</th>\n",
       "    </tr>\n",
       "  </thead>\n",
       "  <tbody>\n",
       "    <tr>\n",
       "      <th>2656</th>\n",
       "      <td>AB10 1AB</td>\n",
       "      <td>Yes</td>\n",
       "      <td>57.149606</td>\n",
       "      <td>-2.096916</td>\n",
       "      <td>394235.0</td>\n",
       "      <td>806529.0</td>\n",
       "      <td>Aberdeen City</td>\n",
       "      <td>George St/Harbour</td>\n",
       "      <td>S12000033</td>\n",
       "      <td>S13002842</td>\n",
       "      <td>Scotland</td>\n",
       "      <td>S99999999</td>\n",
       "      <td>Aberdeen North</td>\n",
       "      <td>NaN</td>\n",
       "      <td>S14000001</td>\n",
       "      <td>AB</td>\n",
       "      <td>AB10</td>\n",
       "    </tr>\n",
       "    <tr>\n",
       "      <th>2658</th>\n",
       "      <td>AB10 1AF</td>\n",
       "      <td>Yes</td>\n",
       "      <td>57.148707</td>\n",
       "      <td>-2.097806</td>\n",
       "      <td>394181.0</td>\n",
       "      <td>806429.0</td>\n",
       "      <td>Aberdeen City</td>\n",
       "      <td>George St/Harbour</td>\n",
       "      <td>S12000033</td>\n",
       "      <td>S13002842</td>\n",
       "      <td>Scotland</td>\n",
       "      <td>S99999999</td>\n",
       "      <td>Aberdeen North</td>\n",
       "      <td>NaN</td>\n",
       "      <td>S14000001</td>\n",
       "      <td>AB</td>\n",
       "      <td>AB10</td>\n",
       "    </tr>\n",
       "    <tr>\n",
       "      <th>2659</th>\n",
       "      <td>AB10 1AG</td>\n",
       "      <td>Yes</td>\n",
       "      <td>57.149051</td>\n",
       "      <td>-2.097004</td>\n",
       "      <td>394230.0</td>\n",
       "      <td>806467.0</td>\n",
       "      <td>Aberdeen City</td>\n",
       "      <td>George St/Harbour</td>\n",
       "      <td>S12000033</td>\n",
       "      <td>S13002842</td>\n",
       "      <td>Scotland</td>\n",
       "      <td>S99999999</td>\n",
       "      <td>Aberdeen North</td>\n",
       "      <td>NaN</td>\n",
       "      <td>S14000001</td>\n",
       "      <td>AB</td>\n",
       "      <td>AB10</td>\n",
       "    </tr>\n",
       "    <tr>\n",
       "      <th>2660</th>\n",
       "      <td>AB10 1AH</td>\n",
       "      <td>Yes</td>\n",
       "      <td>57.148080</td>\n",
       "      <td>-2.094664</td>\n",
       "      <td>394371.0</td>\n",
       "      <td>806359.0</td>\n",
       "      <td>Aberdeen City</td>\n",
       "      <td>George St/Harbour</td>\n",
       "      <td>S12000033</td>\n",
       "      <td>S13002842</td>\n",
       "      <td>Scotland</td>\n",
       "      <td>S99999999</td>\n",
       "      <td>Aberdeen North</td>\n",
       "      <td>NaN</td>\n",
       "      <td>S14000001</td>\n",
       "      <td>AB</td>\n",
       "      <td>AB10</td>\n",
       "    </tr>\n",
       "    <tr>\n",
       "      <th>2662</th>\n",
       "      <td>AB10 1AL</td>\n",
       "      <td>Yes</td>\n",
       "      <td>57.150058</td>\n",
       "      <td>-2.095916</td>\n",
       "      <td>394296.0</td>\n",
       "      <td>806579.0</td>\n",
       "      <td>Aberdeen City</td>\n",
       "      <td>George St/Harbour</td>\n",
       "      <td>S12000033</td>\n",
       "      <td>S13002842</td>\n",
       "      <td>Scotland</td>\n",
       "      <td>S99999999</td>\n",
       "      <td>Aberdeen North</td>\n",
       "      <td>0.0</td>\n",
       "      <td>S14000001</td>\n",
       "      <td>AB</td>\n",
       "      <td>AB10</td>\n",
       "    </tr>\n",
       "  </tbody>\n",
       "</table>\n",
       "</div>"
      ],
      "text/plain": [
       "      Postcode In Use?   Latitude  Longitude   Easting  Northing  \\\n",
       "2656  AB10 1AB     Yes  57.149606  -2.096916  394235.0  806529.0   \n",
       "2658  AB10 1AF     Yes  57.148707  -2.097806  394181.0  806429.0   \n",
       "2659  AB10 1AG     Yes  57.149051  -2.097004  394230.0  806467.0   \n",
       "2660  AB10 1AH     Yes  57.148080  -2.094664  394371.0  806359.0   \n",
       "2662  AB10 1AL     Yes  57.150058  -2.095916  394296.0  806579.0   \n",
       "\n",
       "           District               Ward District Code  Ward Code   Country  \\\n",
       "2656  Aberdeen City  George St/Harbour     S12000033  S13002842  Scotland   \n",
       "2658  Aberdeen City  George St/Harbour     S12000033  S13002842  Scotland   \n",
       "2659  Aberdeen City  George St/Harbour     S12000033  S13002842  Scotland   \n",
       "2660  Aberdeen City  George St/Harbour     S12000033  S13002842  Scotland   \n",
       "2662  Aberdeen City  George St/Harbour     S12000033  S13002842  Scotland   \n",
       "\n",
       "     County Code    Constituency  Population Constituency Code Postcode area  \\\n",
       "2656   S99999999  Aberdeen North         NaN         S14000001            AB   \n",
       "2658   S99999999  Aberdeen North         NaN         S14000001            AB   \n",
       "2659   S99999999  Aberdeen North         NaN         S14000001            AB   \n",
       "2660   S99999999  Aberdeen North         NaN         S14000001            AB   \n",
       "2662   S99999999  Aberdeen North         0.0         S14000001            AB   \n",
       "\n",
       "     Postcode district  \n",
       "2656              AB10  \n",
       "2658              AB10  \n",
       "2659              AB10  \n",
       "2660              AB10  \n",
       "2662              AB10  "
      ]
     },
     "execution_count": 15,
     "metadata": {},
     "output_type": "execute_result"
    }
   ],
   "source": [
    "postcode_sel.head()"
   ]
  },
  {
   "cell_type": "code",
   "execution_count": 16,
   "metadata": {
    "colab": {
     "base_uri": "https://localhost:8080/"
    },
    "executionInfo": {
     "elapsed": 895,
     "status": "ok",
     "timestamp": 1610102583354,
     "user": {
      "displayName": "Andrea Di Antonio",
      "photoUrl": "",
      "userId": "00274323577290199816"
     },
     "user_tz": 0
    },
    "id": "XyK7Q5V4N7_a",
    "outputId": "2703266b-d013-4464-8631-2c542332a531"
   },
   "outputs": [
    {
     "name": "stdout",
     "output_type": "stream",
     "text": [
      "Missing 0.00% of Postcode data\n",
      "Missing 0.08% of District data\n",
      "Missing 0.08% of Constituency data\n",
      "Missing 15.62% of Population data\n"
     ]
    }
   ],
   "source": [
    "#Calculate the percentage of missing data in the dataframe\n",
    "\n",
    "print('Missing {per:.2f}% of Postcode data'.format(per = postcode_sel['Postcode'].isnull().values.sum()/len(postcode_sel)*100)) \n",
    "print('Missing {per:.2f}% of District data'.format(per =postcode_sel['District'].isnull().values.sum()/len(postcode_sel)*100))\n",
    "print('Missing {per:.2f}% of Constituency data'.format(per =postcode_sel['Constituency'].isnull().values.sum()/len(postcode_sel)*100))\n",
    "print('Missing {per:.2f}% of Population data'.format(per =postcode_sel['Population'].isnull().values.sum()/len(postcode_sel)*100))"
   ]
  },
  {
   "cell_type": "code",
   "execution_count": 17,
   "metadata": {
    "colab": {
     "base_uri": "https://localhost:8080/"
    },
    "executionInfo": {
     "elapsed": 547,
     "status": "ok",
     "timestamp": 1610102593219,
     "user": {
      "displayName": "Andrea Di Antonio",
      "photoUrl": "",
      "userId": "00274323577290199816"
     },
     "user_tz": 0
    },
    "id": "WKDBTrVWN7_b",
    "outputId": "4f733c33-e239-4da2-da64-edacd793e268"
   },
   "outputs": [
    {
     "name": "stderr",
     "output_type": "stream",
     "text": [
      "C:\\Users\\andre\\.conda\\envs\\na2021\\lib\\site-packages\\pandas\\core\\indexing.py:1675: SettingWithCopyWarning: \n",
      "A value is trying to be set on a copy of a slice from a DataFrame.\n",
      "Try using .loc[row_indexer,col_indexer] = value instead\n",
      "\n",
      "See the caveats in the documentation: https://pandas.pydata.org/pandas-docs/stable/user_guide/indexing.html#returning-a-view-versus-a-copy\n",
      "  self._setitem_single_column(ilocs[0], value, pi)\n"
     ]
    }
   ],
   "source": [
    "#Replace NaN values in the population column with zeros\n",
    "postcode_sel.loc[:,'Population'] = postcode_sel['Population'].fillna(0)"
   ]
  },
  {
   "cell_type": "code",
   "execution_count": 18,
   "metadata": {
    "colab": {
     "base_uri": "https://localhost:8080/",
     "height": 204
    },
    "executionInfo": {
     "elapsed": 467,
     "status": "ok",
     "timestamp": 1610102594621,
     "user": {
      "displayName": "Andrea Di Antonio",
      "photoUrl": "",
      "userId": "00274323577290199816"
     },
     "user_tz": 0
    },
    "id": "m4dSXDwVN7_b",
    "outputId": "4ca941b0-fef5-4d28-981b-c8bc8dee3f65",
    "scrolled": true
   },
   "outputs": [
    {
     "data": {
      "text/html": [
       "<div>\n",
       "<style scoped>\n",
       "    .dataframe tbody tr th:only-of-type {\n",
       "        vertical-align: middle;\n",
       "    }\n",
       "\n",
       "    .dataframe tbody tr th {\n",
       "        vertical-align: top;\n",
       "    }\n",
       "\n",
       "    .dataframe thead th {\n",
       "        text-align: right;\n",
       "    }\n",
       "</style>\n",
       "<table border=\"1\" class=\"dataframe\">\n",
       "  <thead>\n",
       "    <tr style=\"text-align: right;\">\n",
       "      <th></th>\n",
       "      <th>Postcode</th>\n",
       "      <th>In Use?</th>\n",
       "      <th>Latitude</th>\n",
       "      <th>Longitude</th>\n",
       "      <th>Easting</th>\n",
       "      <th>Northing</th>\n",
       "      <th>District</th>\n",
       "      <th>Ward</th>\n",
       "      <th>District Code</th>\n",
       "      <th>Ward Code</th>\n",
       "      <th>Country</th>\n",
       "      <th>County Code</th>\n",
       "      <th>Constituency</th>\n",
       "      <th>Population</th>\n",
       "      <th>Constituency Code</th>\n",
       "      <th>Postcode area</th>\n",
       "      <th>Postcode district</th>\n",
       "    </tr>\n",
       "  </thead>\n",
       "  <tbody>\n",
       "    <tr>\n",
       "      <th>2656</th>\n",
       "      <td>AB10 1AB</td>\n",
       "      <td>Yes</td>\n",
       "      <td>57.149606</td>\n",
       "      <td>-2.096916</td>\n",
       "      <td>394235.0</td>\n",
       "      <td>806529.0</td>\n",
       "      <td>Aberdeen City</td>\n",
       "      <td>George St/Harbour</td>\n",
       "      <td>S12000033</td>\n",
       "      <td>S13002842</td>\n",
       "      <td>Scotland</td>\n",
       "      <td>S99999999</td>\n",
       "      <td>Aberdeen North</td>\n",
       "      <td>0.0</td>\n",
       "      <td>S14000001</td>\n",
       "      <td>AB</td>\n",
       "      <td>AB10</td>\n",
       "    </tr>\n",
       "    <tr>\n",
       "      <th>2658</th>\n",
       "      <td>AB10 1AF</td>\n",
       "      <td>Yes</td>\n",
       "      <td>57.148707</td>\n",
       "      <td>-2.097806</td>\n",
       "      <td>394181.0</td>\n",
       "      <td>806429.0</td>\n",
       "      <td>Aberdeen City</td>\n",
       "      <td>George St/Harbour</td>\n",
       "      <td>S12000033</td>\n",
       "      <td>S13002842</td>\n",
       "      <td>Scotland</td>\n",
       "      <td>S99999999</td>\n",
       "      <td>Aberdeen North</td>\n",
       "      <td>0.0</td>\n",
       "      <td>S14000001</td>\n",
       "      <td>AB</td>\n",
       "      <td>AB10</td>\n",
       "    </tr>\n",
       "    <tr>\n",
       "      <th>2659</th>\n",
       "      <td>AB10 1AG</td>\n",
       "      <td>Yes</td>\n",
       "      <td>57.149051</td>\n",
       "      <td>-2.097004</td>\n",
       "      <td>394230.0</td>\n",
       "      <td>806467.0</td>\n",
       "      <td>Aberdeen City</td>\n",
       "      <td>George St/Harbour</td>\n",
       "      <td>S12000033</td>\n",
       "      <td>S13002842</td>\n",
       "      <td>Scotland</td>\n",
       "      <td>S99999999</td>\n",
       "      <td>Aberdeen North</td>\n",
       "      <td>0.0</td>\n",
       "      <td>S14000001</td>\n",
       "      <td>AB</td>\n",
       "      <td>AB10</td>\n",
       "    </tr>\n",
       "    <tr>\n",
       "      <th>2660</th>\n",
       "      <td>AB10 1AH</td>\n",
       "      <td>Yes</td>\n",
       "      <td>57.148080</td>\n",
       "      <td>-2.094664</td>\n",
       "      <td>394371.0</td>\n",
       "      <td>806359.0</td>\n",
       "      <td>Aberdeen City</td>\n",
       "      <td>George St/Harbour</td>\n",
       "      <td>S12000033</td>\n",
       "      <td>S13002842</td>\n",
       "      <td>Scotland</td>\n",
       "      <td>S99999999</td>\n",
       "      <td>Aberdeen North</td>\n",
       "      <td>0.0</td>\n",
       "      <td>S14000001</td>\n",
       "      <td>AB</td>\n",
       "      <td>AB10</td>\n",
       "    </tr>\n",
       "    <tr>\n",
       "      <th>2662</th>\n",
       "      <td>AB10 1AL</td>\n",
       "      <td>Yes</td>\n",
       "      <td>57.150058</td>\n",
       "      <td>-2.095916</td>\n",
       "      <td>394296.0</td>\n",
       "      <td>806579.0</td>\n",
       "      <td>Aberdeen City</td>\n",
       "      <td>George St/Harbour</td>\n",
       "      <td>S12000033</td>\n",
       "      <td>S13002842</td>\n",
       "      <td>Scotland</td>\n",
       "      <td>S99999999</td>\n",
       "      <td>Aberdeen North</td>\n",
       "      <td>0.0</td>\n",
       "      <td>S14000001</td>\n",
       "      <td>AB</td>\n",
       "      <td>AB10</td>\n",
       "    </tr>\n",
       "  </tbody>\n",
       "</table>\n",
       "</div>"
      ],
      "text/plain": [
       "      Postcode In Use?   Latitude  Longitude   Easting  Northing  \\\n",
       "2656  AB10 1AB     Yes  57.149606  -2.096916  394235.0  806529.0   \n",
       "2658  AB10 1AF     Yes  57.148707  -2.097806  394181.0  806429.0   \n",
       "2659  AB10 1AG     Yes  57.149051  -2.097004  394230.0  806467.0   \n",
       "2660  AB10 1AH     Yes  57.148080  -2.094664  394371.0  806359.0   \n",
       "2662  AB10 1AL     Yes  57.150058  -2.095916  394296.0  806579.0   \n",
       "\n",
       "           District               Ward District Code  Ward Code   Country  \\\n",
       "2656  Aberdeen City  George St/Harbour     S12000033  S13002842  Scotland   \n",
       "2658  Aberdeen City  George St/Harbour     S12000033  S13002842  Scotland   \n",
       "2659  Aberdeen City  George St/Harbour     S12000033  S13002842  Scotland   \n",
       "2660  Aberdeen City  George St/Harbour     S12000033  S13002842  Scotland   \n",
       "2662  Aberdeen City  George St/Harbour     S12000033  S13002842  Scotland   \n",
       "\n",
       "     County Code    Constituency  Population Constituency Code Postcode area  \\\n",
       "2656   S99999999  Aberdeen North         0.0         S14000001            AB   \n",
       "2658   S99999999  Aberdeen North         0.0         S14000001            AB   \n",
       "2659   S99999999  Aberdeen North         0.0         S14000001            AB   \n",
       "2660   S99999999  Aberdeen North         0.0         S14000001            AB   \n",
       "2662   S99999999  Aberdeen North         0.0         S14000001            AB   \n",
       "\n",
       "     Postcode district  \n",
       "2656              AB10  \n",
       "2658              AB10  \n",
       "2659              AB10  \n",
       "2660              AB10  \n",
       "2662              AB10  "
      ]
     },
     "execution_count": 18,
     "metadata": {},
     "output_type": "execute_result"
    }
   ],
   "source": [
    "postcode_sel.head()"
   ]
  },
  {
   "cell_type": "code",
   "execution_count": 19,
   "metadata": {},
   "outputs": [],
   "source": [
    "postcode_district_list = postcode_sel['Postcode district'].unique().tolist()\n",
    "postcode_district_number = len(postcode_sel['Postcode district'].unique())\n",
    "postcode_area_list = postcode_sel['Postcode area'].unique().tolist()"
   ]
  },
  {
   "cell_type": "code",
   "execution_count": 20,
   "metadata": {},
   "outputs": [],
   "source": [
    "unwanted_elements =['BF','GIR']\n",
    "postcode_area_list = [area for area in postcode_area_list if area not in unwanted_elements]"
   ]
  },
  {
   "cell_type": "code",
   "execution_count": 21,
   "metadata": {},
   "outputs": [
    {
     "name": "stdout",
     "output_type": "stream",
     "text": [
      "Directory Data/PD_borders already exists\n"
     ]
    }
   ],
   "source": [
    "subdirname = dirname+'/PD_borders'\n",
    "\n",
    "if os.path.basename(os.getcwd())== 'local_authority_charging':\n",
    "    if not os.path.isdir(subdirname):\n",
    "        try:\n",
    "            os.mkdir(subdirname)\n",
    "        except OSError:\n",
    "            print (\"Creation of the directory %s failed\" % subdirname)\n",
    "        else:\n",
    "            print (\"Successfully created the directory %s \" % subdirname)\n",
    "    else: \n",
    "        print (\"Directory %s already exists\" % subdirname)"
   ]
  },
  {
   "cell_type": "code",
   "execution_count": 22,
   "metadata": {},
   "outputs": [
    {
     "name": "stdout",
     "output_type": "stream",
     "text": [
      "File AB.kml already exists\n",
      "File AL.kml already exists\n",
      "File B.kml already exists\n",
      "File BA.kml already exists\n",
      "File BB.kml already exists\n",
      "File BD.kml already exists\n",
      "File BH.kml already exists\n",
      "File BL.kml already exists\n",
      "File BN.kml already exists\n",
      "File BR.kml already exists\n",
      "File BS.kml already exists\n",
      "File BT.kml already exists\n",
      "File CA.kml already exists\n",
      "File CB.kml already exists\n",
      "File CF.kml already exists\n",
      "File CH.kml already exists\n",
      "File CM.kml already exists\n",
      "File CO.kml already exists\n",
      "File CR.kml already exists\n",
      "File CT.kml already exists\n",
      "File CV.kml already exists\n",
      "File CW.kml already exists\n",
      "File DA.kml already exists\n",
      "File DD.kml already exists\n",
      "File DE.kml already exists\n",
      "File DG.kml already exists\n",
      "File DH.kml already exists\n",
      "File DL.kml already exists\n",
      "File DN.kml already exists\n",
      "File DT.kml already exists\n",
      "File DY.kml already exists\n",
      "File E.kml already exists\n",
      "File EC.kml already exists\n",
      "File EH.kml already exists\n",
      "File EN.kml already exists\n",
      "File EX.kml already exists\n",
      "File FK.kml already exists\n",
      "File FY.kml already exists\n",
      "File G.kml already exists\n",
      "File GL.kml already exists\n",
      "File GU.kml already exists\n",
      "File HA.kml already exists\n",
      "File HD.kml already exists\n",
      "File HG.kml already exists\n",
      "File HP.kml already exists\n",
      "File HR.kml already exists\n",
      "File HS.kml already exists\n",
      "File HU.kml already exists\n",
      "File HX.kml already exists\n",
      "File IG.kml already exists\n",
      "File IP.kml already exists\n",
      "File IV.kml already exists\n",
      "File KA.kml already exists\n",
      "File KT.kml already exists\n",
      "File KW.kml already exists\n",
      "File KY.kml already exists\n",
      "File L.kml already exists\n",
      "File LA.kml already exists\n",
      "File LD.kml already exists\n",
      "File LE.kml already exists\n",
      "File LL.kml already exists\n",
      "File LN.kml already exists\n",
      "File LS.kml already exists\n",
      "File LU.kml already exists\n",
      "File M.kml already exists\n",
      "File ME.kml already exists\n",
      "File MK.kml already exists\n",
      "File ML.kml already exists\n",
      "File N.kml already exists\n",
      "File NE.kml already exists\n",
      "File NG.kml already exists\n",
      "File NN.kml already exists\n",
      "File NP.kml already exists\n",
      "File NR.kml already exists\n",
      "File NW.kml already exists\n",
      "File OL.kml already exists\n",
      "File OX.kml already exists\n",
      "File PA.kml already exists\n",
      "File PE.kml already exists\n",
      "File PH.kml already exists\n",
      "File PL.kml already exists\n",
      "File PO.kml already exists\n",
      "File PR.kml already exists\n",
      "File RG.kml already exists\n",
      "File RH.kml already exists\n",
      "File RM.kml already exists\n",
      "File S.kml already exists\n",
      "File SA.kml already exists\n",
      "File SE.kml already exists\n",
      "File SG.kml already exists\n",
      "File SK.kml already exists\n",
      "File SL.kml already exists\n",
      "File SM.kml already exists\n",
      "File SN.kml already exists\n",
      "File SO.kml already exists\n",
      "File SP.kml already exists\n",
      "File SR.kml already exists\n",
      "File SS.kml already exists\n",
      "File ST.kml already exists\n",
      "File SW.kml already exists\n",
      "File SY.kml already exists\n",
      "File TA.kml already exists\n",
      "File TD.kml already exists\n",
      "File TF.kml already exists\n",
      "File TN.kml already exists\n",
      "File TQ.kml already exists\n",
      "File TR.kml already exists\n",
      "File TS.kml already exists\n",
      "File TW.kml already exists\n",
      "File UB.kml already exists\n",
      "File W.kml already exists\n",
      "File WA.kml already exists\n",
      "File WC.kml already exists\n",
      "File WD.kml already exists\n",
      "File WF.kml already exists\n",
      "File WN.kml already exists\n",
      "File WR.kml already exists\n",
      "File WS.kml already exists\n",
      "File WV.kml already exists\n",
      "File YO.kml already exists\n",
      "File ZE.kml already exists\n"
     ]
    }
   ],
   "source": [
    "for item in postcode_area_list:\n",
    "\n",
    "    filename = item+'.kml'\n",
    "    file_path = subdirname+'/'+filename\n",
    "    \n",
    "    if os.path.isfile(file_path):\n",
    "        print (\"File %s already exists\" % filename)\n",
    "    else:\n",
    "        download_from_url('https://www.doogal.co.uk/kml/'+filename,file_path)\n",
    "        print (\"Successfully downloaded the file %s \" % filename)"
   ]
  },
  {
   "cell_type": "code",
   "execution_count": 23,
   "metadata": {
    "colab": {
     "base_uri": "https://localhost:8080/"
    },
    "executionInfo": {
     "elapsed": 514,
     "status": "ok",
     "timestamp": 1610102608648,
     "user": {
      "displayName": "Andrea Di Antonio",
      "photoUrl": "",
      "userId": "00274323577290199816"
     },
     "user_tz": 0
    },
    "id": "el3bSx3dN7_b",
    "outputId": "15786537-7269-417e-e868-d561bf525cb1"
   },
   "outputs": [
    {
     "name": "stdout",
     "output_type": "stream",
     "text": [
      "Percentage difference in population 5.44 %\n"
     ]
    }
   ],
   "source": [
    "#Calculate what is the percentage difference between the total UK population calculated using the data\n",
    "#from the postcode_sel DataFrame and the actual value\n",
    "\n",
    "population_sum = postcode_sel['Population'].sum()\n",
    "uk_population = 66.65*10**6\n",
    "\n",
    "print( 'Percentage difference in population {per:.2f} %'.format( per = abs(population_sum-uk_population)/uk_population*100 ))"
   ]
  },
  {
   "cell_type": "markdown",
   "metadata": {
    "id": "FseEPPBzN7_b"
   },
   "source": [
    "The realatively small difference between the values allows to categorise the missing information about the population as negligile overall. This, however, can still have a significant impact locally.\\\n",
    " \\\n",
    "NOTE: The reason for this difference resides in the old nature of the postcode.csv file (released in 2019 and not uploaded ever since)"
   ]
  },
  {
   "cell_type": "code",
   "execution_count": 24,
   "metadata": {
    "executionInfo": {
     "elapsed": 743,
     "status": "ok",
     "timestamp": 1610102610794,
     "user": {
      "displayName": "Andrea Di Antonio",
      "photoUrl": "",
      "userId": "00274323577290199816"
     },
     "user_tz": 0
    },
    "id": "gkxNJMi0N7_c"
   },
   "outputs": [],
   "source": [
    "#Create a list containing the name of the Local Authority associated with the postcodes. \n",
    "#These should correspond to the local authority names in the 'electric-vehicle-charging-device-statistics-october-2020' file. \n",
    "\n",
    "district = postcode_sel['District'].unique().tolist()"
   ]
  },
  {
   "cell_type": "code",
   "execution_count": 25,
   "metadata": {
    "executionInfo": {
     "elapsed": 291,
     "status": "ok",
     "timestamp": 1610102611025,
     "user": {
      "displayName": "Andrea Di Antonio",
      "photoUrl": "",
      "userId": "00274323577290199816"
     },
     "user_tz": 0
    },
    "id": "kv0ZHFo4N7_c"
   },
   "outputs": [],
   "source": [
    "#Remove any non string value from the district list\n",
    "for item in district: \n",
    "    if not isinstance(item,str):\n",
    "        district.remove(item)"
   ]
  },
  {
   "cell_type": "code",
   "execution_count": 26,
   "metadata": {},
   "outputs": [],
   "source": [
    "#Create a list containing the code associated with each Local Authority. \n",
    "#These should correspond to the ones in the 'electric-vehicle-charging-device-statistics-october-2020' file. \n",
    "\n",
    "district_code = postcode_sel['District Code'].unique().tolist()"
   ]
  },
  {
   "cell_type": "code",
   "execution_count": 27,
   "metadata": {},
   "outputs": [],
   "source": [
    "#Remove any non string value from the district list\n",
    "for item in district_code: \n",
    "    if not isinstance(item,str):\n",
    "        district_code.remove(item)"
   ]
  },
  {
   "cell_type": "code",
   "execution_count": 28,
   "metadata": {},
   "outputs": [],
   "source": [
    "#Create a dictionary to associate each local Authority with the corresponding ONS code area\n",
    "dic_la = {item:code for item,code in zip(district,district_code)}"
   ]
  },
  {
   "cell_type": "code",
   "execution_count": 29,
   "metadata": {},
   "outputs": [],
   "source": [
    "dic_code = {code:item for code,item in zip(district_code,district)}"
   ]
  },
  {
   "cell_type": "code",
   "execution_count": 30,
   "metadata": {
    "executionInfo": {
     "elapsed": 162370,
     "status": "ok",
     "timestamp": 1610102775936,
     "user": {
      "displayName": "Andrea Di Antonio",
      "photoUrl": "",
      "userId": "00274323577290199816"
     },
     "user_tz": 0
    },
    "id": "hj0rPynbN7_d"
   },
   "outputs": [],
   "source": [
    "#Create a dictionary to associate each Local Authority with the corresponding postcodes\n",
    "\n",
    "dic_district = {item:'' for item in district}\n",
    "for item in district: \n",
    "    list_val = postcode_sel.loc[postcode_sel['District']==item]['Postcode'].values\n",
    "    list_val_sel=[]\n",
    "    for val in list_val:\n",
    "        lval = val.split(' ')[0]\n",
    "        if lval not in list_val_sel:\n",
    "            list_val_sel.append(lval)\n",
    "    dic_district[item] = list_val_sel"
   ]
  },
  {
   "cell_type": "code",
   "execution_count": 31,
   "metadata": {
    "executionInfo": {
     "elapsed": 198253,
     "status": "ok",
     "timestamp": 1610102812239,
     "user": {
      "displayName": "Andrea Di Antonio",
      "photoUrl": "",
      "userId": "00274323577290199816"
     },
     "user_tz": 0
    },
    "id": "BW2xqj2_N7_d"
   },
   "outputs": [],
   "source": [
    "#Create a dictionary to associate each Local Authority with the corresponding population\n",
    "\n",
    "dic_dist_population = {item:int(postcode_sel.loc[postcode_sel['District']==item]['Population'].sum()) for item in district}"
   ]
  },
  {
   "cell_type": "markdown",
   "metadata": {
    "id": "zgNgm9aFN7_d"
   },
   "source": [
    "# Import public charging devices data"
   ]
  },
  {
   "cell_type": "markdown",
   "metadata": {},
   "source": [
    "## Charging devices per local authority"
   ]
  },
  {
   "cell_type": "code",
   "execution_count": null,
   "metadata": {},
   "outputs": [],
   "source": [
    "dft_charging_devices_available_import = read_ods(dirname+'/electric-vehicle-charging-device-statistics-october-2020.ods', 'EVCD_01', headers=False)\n",
    "dft_charging_devices_available_import = dft_charging_devices_available_import[dft_charging_devices_available_import.iloc[:,1].notnull()]\n",
    "\n",
    "dft_charging_devices_available = dft_charging_devices_available_import.iloc[1:]\n",
    "dft_charging_devices_available.reset_index(inplace=True, drop=True) #reset the index\n",
    "dft_charging_devices_available.columns = dft_charging_devices_available_import.iloc[0]"
   ]
  },
  {
   "cell_type": "code",
   "execution_count": null,
   "metadata": {},
   "outputs": [],
   "source": [
    "dft_charging_devices_available.head()"
   ]
  },
  {
   "cell_type": "code",
   "execution_count": null,
   "metadata": {
    "colab": {
     "base_uri": "https://localhost:8080/"
    },
    "executionInfo": {
     "elapsed": 253030,
     "status": "ok",
     "timestamp": 1610102874809,
     "user": {
      "displayName": "Andrea Di Antonio",
      "photoUrl": "",
      "userId": "00274323577290199816"
     },
     "user_tz": 0
    },
    "id": "WxBiLuTwN7_f",
    "outputId": "b54cdc0c-81d6-4d1a-987d-1c6b9d3e1ab2"
   },
   "outputs": [],
   "source": [
    "print('Missing {per:.2f}% of entire data'.format(per = dft_charging_devices_available.isnull().values.sum()/len(dft_charging_devices_available)*100)) "
   ]
  },
  {
   "cell_type": "code",
   "execution_count": null,
   "metadata": {
    "executionInfo": {
     "elapsed": 252389,
     "status": "ok",
     "timestamp": 1610102874810,
     "user": {
      "displayName": "Andrea Di Antonio",
      "photoUrl": "",
      "userId": "00274323577290199816"
     },
     "user_tz": 0
    },
    "id": "F4KfhcNEN7_f",
    "scrolled": true
   },
   "outputs": [],
   "source": [
    "dft_charging_devices_available = dft_charging_devices_available.dropna() #Removing rows containing NaN values "
   ]
  },
  {
   "cell_type": "code",
   "execution_count": null,
   "metadata": {},
   "outputs": [],
   "source": [
    "len(dft_charging_devices_available)"
   ]
  },
  {
   "cell_type": "code",
   "execution_count": null,
   "metadata": {},
   "outputs": [],
   "source": [
    "#data_try = dft_charging_devices_available[dft_charging_devices_available['LA / Region Code'].isin(district_code)]"
   ]
  },
  {
   "cell_type": "markdown",
   "metadata": {},
   "source": [
    "## Total charging devices per quarter since Q1 2015"
   ]
  },
  {
   "cell_type": "code",
   "execution_count": null,
   "metadata": {},
   "outputs": [],
   "source": [
    "dft_charging_devices_quarter_import = read_ods(dirname+'/electric-vehicle-charging-device-statistics-october-2020.ods', 'EVCD_02', headers=False) \n",
    "dft_charging_devices_quarter_import = dft_charging_devices_quarter_import[dft_charging_devices_quarter_import.iloc[:,1].notnull()]\n",
    "\n",
    "dft_charging_devices_quarter = dft_charging_devices_quarter_import.iloc[1:]\n",
    "dft_charging_devices_quarter.reset_index(inplace=True, drop=True) #reset the index\n",
    "dft_charging_devices_quarter.columns = dft_charging_devices_quarter_import.iloc[0]\n",
    "dft_charging_devices_quarter = dft_charging_devices_quarter.fillna(method='ffill')\n",
    "dft_charging_devices_quarter = dft_charging_devices_quarter.dropna(axis =1)\n",
    "dft_charging_devices_quarter.head()"
   ]
  },
  {
   "cell_type": "code",
   "execution_count": null,
   "metadata": {
    "colab": {
     "base_uri": "https://localhost:8080/",
     "height": 204
    },
    "executionInfo": {
     "elapsed": 131796,
     "status": "ok",
     "timestamp": 1610102875021,
     "user": {
      "displayName": "Andrea Di Antonio",
      "photoUrl": "",
      "userId": "00274323577290199816"
     },
     "user_tz": 0
    },
    "id": "RI767sYGG_Qi",
    "outputId": "413d79c5-f57c-4361-ac3c-b74808aeac35"
   },
   "outputs": [],
   "source": [
    "dft_charging_devices_quarter.tail()"
   ]
  },
  {
   "cell_type": "code",
   "execution_count": null,
   "metadata": {
    "executionInfo": {
     "elapsed": 127465,
     "status": "ok",
     "timestamp": 1610102875023,
     "user": {
      "displayName": "Andrea Di Antonio",
      "photoUrl": "",
      "userId": "00274323577290199816"
     },
     "user_tz": 0
    },
    "id": "IqiRVcffmy8N"
   },
   "outputs": [],
   "source": [
    "df_charges_quarter = pd.DataFrame(dft_charging_devices_quarter['Total  Devices'])\n",
    "df_charges_quarter['Time'] = [str(j)+' Q'+str(i)  for j in range(2015,2021) for i in range(1,5)][:-1]\n",
    "df_charges_quarter =  df_charges_quarter.set_index('Time')"
   ]
  },
  {
   "cell_type": "code",
   "execution_count": null,
   "metadata": {
    "colab": {
     "base_uri": "https://localhost:8080/",
     "height": 298
    },
    "executionInfo": {
     "elapsed": 127353,
     "status": "ok",
     "timestamp": 1610102875316,
     "user": {
      "displayName": "Andrea Di Antonio",
      "photoUrl": "",
      "userId": "00274323577290199816"
     },
     "user_tz": 0
    },
    "id": "ij4vZiJFV4eq",
    "outputId": "105f02cd-ac77-4445-d47b-720e2e8b6491"
   },
   "outputs": [],
   "source": [
    "## Plot the trend of the publicly available charging devices in the UK between Q1 2015 and Q3 2020 ##\n",
    "\n",
    "plt.bar(df_charges_quarter.index,df_charges_quarter['Total  Devices'],.8)\n",
    "plt.xticks(rotation = 90)\n",
    "plt.ylabel('Number of Public Charge points')\n",
    "plt.show()"
   ]
  },
  {
   "cell_type": "markdown",
   "metadata": {
    "id": "a42uh-fUN7_g"
   },
   "source": [
    "# Import ULEVs data by postcode district"
   ]
  },
  {
   "cell_type": "code",
   "execution_count": null,
   "metadata": {
    "executionInfo": {
     "elapsed": 3390,
     "status": "ok",
     "timestamp": 1610107934869,
     "user": {
      "displayName": "Andrea Di Antonio",
      "photoUrl": "",
      "userId": "00274323577290199816"
     },
     "user_tz": 0
    },
    "id": "yFnV4JG1N7_g"
   },
   "outputs": [],
   "source": [
    "#Import Ultra Low Emission Vehicles (ULEVs) table\n",
    "dft_ulev_import = read_ods(dirname+'/veh0134.ods', 'VEH0134a')\n",
    "dft_ulev = dft_ulev_import[6:-14]\n",
    "dft_ulev.columns = dft_ulev_import.iloc[5].values\n",
    "dft_ulev.reset_index(inplace=True, drop=True)"
   ]
  },
  {
   "cell_type": "code",
   "execution_count": null,
   "metadata": {
    "colab": {
     "base_uri": "https://localhost:8080/"
    },
    "executionInfo": {
     "elapsed": 520,
     "status": "ok",
     "timestamp": 1610107938074,
     "user": {
      "displayName": "Andrea Di Antonio",
      "photoUrl": "",
      "userId": "00274323577290199816"
     },
     "user_tz": 0
    },
    "id": "nFw-0pkSN7_g",
    "outputId": "38263506-e84e-4d49-a301-94ee7a866043",
    "scrolled": true
   },
   "outputs": [],
   "source": [
    "print('Missing {per:.2f}% of entire data'.format(per = len(dft_ulev[dft_ulev['2020 Q3']=='c'])/len(dft_ulev)*100) )"
   ]
  },
  {
   "cell_type": "code",
   "execution_count": null,
   "metadata": {
    "executionInfo": {
     "elapsed": 652,
     "status": "ok",
     "timestamp": 1610107940043,
     "user": {
      "displayName": "Andrea Di Antonio",
      "photoUrl": "",
      "userId": "00274323577290199816"
     },
     "user_tz": 0
    },
    "id": "zocT8RdpN7_g"
   },
   "outputs": [],
   "source": [
    "dft_ulev = dft_ulev.replace({'c':0}) # Replace the c values with zeros so that the statistics is not altered "
   ]
  },
  {
   "cell_type": "code",
   "execution_count": null,
   "metadata": {
    "executionInfo": {
     "elapsed": 3346,
     "status": "ok",
     "timestamp": 1610115651280,
     "user": {
      "displayName": "Andrea Di Antonio",
      "photoUrl": "",
      "userId": "00274323577290199816"
     },
     "user_tz": 0
    },
    "id": "4IEOlSWSN7_g"
   },
   "outputs": [],
   "source": [
    "#Import Battery Electric Vehicles (BEVs) table by postcode\n",
    "dft_bev_import = read_ods(dirname+'/veh0134.ods', 'VEH0134b')\n",
    "dft_bev = dft_bev_import[6:-14]\n",
    "dft_bev.columns = dft_bev_import.iloc[5].values\n",
    "dft_bev.reset_index(inplace=True, drop=True)"
   ]
  },
  {
   "cell_type": "code",
   "execution_count": null,
   "metadata": {
    "colab": {
     "base_uri": "https://localhost:8080/"
    },
    "executionInfo": {
     "elapsed": 2594,
     "status": "ok",
     "timestamp": 1610107943367,
     "user": {
      "displayName": "Andrea Di Antonio",
      "photoUrl": "",
      "userId": "00274323577290199816"
     },
     "user_tz": 0
    },
    "id": "G9umDqNPN7_h",
    "outputId": "0091f776-edbd-4820-aa7b-5ebae7df5b2a"
   },
   "outputs": [],
   "source": [
    "print('Missing {per:.2f}% of entire data'.format(per = len(dft_bev[dft_bev['2020 Q3']=='c'])/len(dft_bev)*100))"
   ]
  },
  {
   "cell_type": "code",
   "execution_count": null,
   "metadata": {
    "executionInfo": {
     "elapsed": 552,
     "status": "ok",
     "timestamp": 1610107944019,
     "user": {
      "displayName": "Andrea Di Antonio",
      "photoUrl": "",
      "userId": "00274323577290199816"
     },
     "user_tz": 0
    },
    "id": "ixS5UGfvN7_h"
   },
   "outputs": [],
   "source": [
    "dft_bev = dft_bev.replace({'c':0})"
   ]
  },
  {
   "cell_type": "code",
   "execution_count": null,
   "metadata": {
    "colab": {
     "base_uri": "https://localhost:8080/",
     "height": 258
    },
    "executionInfo": {
     "elapsed": 563,
     "status": "ok",
     "timestamp": 1610107946445,
     "user": {
      "displayName": "Andrea Di Antonio",
      "photoUrl": "",
      "userId": "00274323577290199816"
     },
     "user_tz": 0
    },
    "id": "zW0c8pNHN7_h",
    "outputId": "b9f8b77d-8345-480c-c8a1-39ec8f461d34"
   },
   "outputs": [],
   "source": [
    "dft_bev.head()"
   ]
  },
  {
   "cell_type": "code",
   "execution_count": null,
   "metadata": {
    "executionInfo": {
     "elapsed": 836,
     "status": "ok",
     "timestamp": 1610108367922,
     "user": {
      "displayName": "Andrea Di Antonio",
      "photoUrl": "",
      "userId": "00274323577290199816"
     },
     "user_tz": 0
    },
    "id": "X59PI79G6tv_"
   },
   "outputs": [],
   "source": [
    "dft_bev_nhb = dft_bev.set_index('Postcode District 2')"
   ]
  },
  {
   "cell_type": "code",
   "execution_count": null,
   "metadata": {
    "colab": {
     "base_uri": "https://localhost:8080/",
     "height": 314
    },
    "executionInfo": {
     "elapsed": 884,
     "status": "ok",
     "timestamp": 1610113330657,
     "user": {
      "displayName": "Andrea Di Antonio",
      "photoUrl": "",
      "userId": "00274323577290199816"
     },
     "user_tz": 0
    },
    "id": "OVx8RcSh8C-a",
    "outputId": "0d2dc656-c6e0-4242-dab5-558bd1f0eb7a"
   },
   "outputs": [],
   "source": [
    "##Plot the NEIGHBOURHOOD level (i.e. Partial Postcode) of BEVs uptake\n",
    "\n",
    "nhb_val = 'AB10'\n",
    "nhb_sel = dft_bev_nhb.loc[nhb_val].reindex(index=dft_bev_nhb.loc[nhb_val].index[::-1])\n",
    "plt.bar(nhb_sel.index,nhb_sel,.5)\n",
    "plt.xticks(rotation = 90)\n",
    "plt.ylabel('Number of BEVs')\n",
    "plt.title('BEVs uptake in '+nhb_val)\n",
    "plt.show() "
   ]
  },
  {
   "cell_type": "code",
   "execution_count": null,
   "metadata": {
    "id": "cjc4BhAvN7_h"
   },
   "outputs": [],
   "source": [
    "#Import Plug-in Hybrid Electric Vehicles (PHEVs) data\n",
    "dft_phev_import = read_ods(dirname+'/veh0134.ods', 'VEH0134c')\n",
    "dft_phev = dft_phev_import[6:-14]\n",
    "dft_phev.columns = dft_phev_import.iloc[5].values\n",
    "dft_phev.reset_index(inplace=True, drop=True)"
   ]
  },
  {
   "cell_type": "code",
   "execution_count": null,
   "metadata": {
    "colab": {
     "base_uri": "https://localhost:8080/"
    },
    "executionInfo": {
     "elapsed": 3346,
     "status": "ok",
     "timestamp": 1610020214962,
     "user": {
      "displayName": "Andrea Di Antonio",
      "photoUrl": "",
      "userId": "00274323577290199816"
     },
     "user_tz": 0
    },
    "id": "txIoscoMN7_h",
    "outputId": "08e31ee1-50c4-4c42-8b0c-d8b4dfc16ac2"
   },
   "outputs": [],
   "source": [
    "print('Missing {per:.2f}% of entire data'.format(per = len(dft_phev[dft_phev['2020 Q3']=='c'])/len(dft_phev)*100))"
   ]
  },
  {
   "cell_type": "code",
   "execution_count": null,
   "metadata": {
    "id": "wSawjJkMN7_i",
    "scrolled": true
   },
   "outputs": [],
   "source": [
    "dft_phev = dft_phev.replace({'c':0})"
   ]
  },
  {
   "cell_type": "markdown",
   "metadata": {},
   "source": [
    "# Import ULEVs data by local authority"
   ]
  },
  {
   "cell_type": "code",
   "execution_count": 132,
   "metadata": {},
   "outputs": [],
   "source": [
    "#Import Battery Electric Vehicles (BEVs) table by LA\n",
    "dft_bev_la_import = read_ods(dirname+'/veh0132.ods', 'VEH0132b')\n",
    "dft_bev_la = dft_bev_la_import[6:-14]\n",
    "dft_bev_la.columns = dft_bev_la_import.iloc[5].values\n",
    "dft_bev_la.reset_index(inplace=True, drop=True)"
   ]
  },
  {
   "cell_type": "code",
   "execution_count": 133,
   "metadata": {},
   "outputs": [],
   "source": [
    "dft_bev_la_sel = dft_bev_la[dft_bev_la['ONS LA Code'].isin(district_code)]\n",
    "dft_bev_la_sel = dft_bev_la_sel.drop(['Region/Local Authority'],axis = 1).set_index(['ONS LA Code'])\n",
    "dft_bev_la_sel = dft_bev_la_sel.replace({'c':0})"
   ]
  },
  {
   "cell_type": "code",
   "execution_count": 134,
   "metadata": {
    "scrolled": true
   },
   "outputs": [
    {
     "name": "stdout",
     "output_type": "stream",
     "text": [
      "Missing 2.11% of entire data\n"
     ]
    }
   ],
   "source": [
    "print('Missing {per:.2f}% of entire data'.format(per = 100-(len(dft_bev_la_sel))/len(district_code)*100))"
   ]
  },
  {
   "cell_type": "code",
   "execution_count": null,
   "metadata": {
    "scrolled": false
   },
   "outputs": [],
   "source": [
    "##Plot the Local Authority level of BEVs uptake\n",
    "\n",
    "la_val = 'Cambridge'\n",
    "la_sel = dft_bev_la_sel.loc[dic_la[la_val]].reindex(index=dft_bev_la_sel.loc[dic_la[la_val]].index[::-1])\n",
    "plt.bar(la_sel.index,la_sel,.5)\n",
    "plt.xticks(rotation = 90)\n",
    "plt.ylabel('Number of BEVs')\n",
    "plt.title('BEVs uptake in '+la_val)\n",
    "plt.show() "
   ]
  },
  {
   "cell_type": "code",
   "execution_count": null,
   "metadata": {},
   "outputs": [],
   "source": [
    "dft_bev_all = pd.DataFrame(dft_bev_la.iloc[0][2:])\n",
    "dft_bev_all = dft_bev_all.reindex(index=dft_bev_all.index[::-1]) # Sort the index (Time) in ascending order \n",
    "dft_bev_all.index.names =['Time']\n",
    "dft_bev_all.columns =['Total BEVs']"
   ]
  },
  {
   "cell_type": "code",
   "execution_count": null,
   "metadata": {},
   "outputs": [],
   "source": [
    "##Plot the National level of BEVs uptake\n",
    "\n",
    "df_charges_bev = pd.concat([df_charges_quarter,dft_bev_all], axis = 1, join = 'inner')\n",
    "\n",
    "x = np.arange(len(df_charges_bev.index))\n",
    "width = 0.35  # the width of the bars\n",
    "\n",
    "fig, ax = plt.subplots(figsize=(18,8))\n",
    "rects1 = ax.bar(x - width/2, df_charges_bev['Total  Devices'], width, label='Devices')\n",
    "rects2 = ax.bar(x + width/2, df_charges_bev['Total BEVs'], width, label='BEVs')\n",
    "\n",
    "# Add some text for labels, title and custom x-axis tick labels, etc.\n",
    "ax.set_ylabel('Total number')\n",
    "ax.set_title('BEVs VS Devices Quarterly Trend')\n",
    "ax.set_xticks(x)\n",
    "ax.set_xticklabels(df_charges_bev.index, rotation = 90)\n",
    "ax.legend()\n",
    "\n",
    "fig.tight_layout()\n",
    "\n",
    "plt.show()\n",
    "#fig.savefig('Devices_BEVs_comparision.png', bbox_inches='tight', dpi = 300)"
   ]
  },
  {
   "cell_type": "markdown",
   "metadata": {},
   "source": [
    "# Import ALL vehicles data by postcode district"
   ]
  },
  {
   "cell_type": "code",
   "execution_count": null,
   "metadata": {},
   "outputs": [],
   "source": [
    "sheet_index = sorted(['2020', '2019', '2018', '2017', '2016', '2015', '2014', '2013', '2012', '2011'])"
   ]
  },
  {
   "cell_type": "code",
   "execution_count": null,
   "metadata": {},
   "outputs": [],
   "source": [
    "df = []\n",
    "\n",
    "for idx in sheet_index:\n",
    "    dft_all_import = read_ods(dirname+'/veh0122.ods', idx)\n",
    "    dft_all_import = dft_all_import[dft_all_import.iloc[:,1].notnull()]\n",
    "    dft_all = dft_all_import[2:]\n",
    "    dft_all.columns = dft_all_import.iloc[1].values\n",
    "    dft_all = dft_all.set_index('Postcode District')\n",
    "    dft_all_sel = dft_all['Cars']\n",
    "    dft_all_sel.columns = [idx +' Q'+str(i+1) for i in range(len(dft_all_sel.columns))]\n",
    "    df.append(dft_all_sel)"
   ]
  },
  {
   "cell_type": "code",
   "execution_count": null,
   "metadata": {},
   "outputs": [],
   "source": [
    "dft_all_merged = pd.concat(df, axis =1,join='inner')\n",
    "dft_all_merged = dft_all_merged.iloc[:,3:]"
   ]
  },
  {
   "cell_type": "code",
   "execution_count": null,
   "metadata": {},
   "outputs": [],
   "source": [
    "print('Missing {per:.2f}% of entire data'.format(per = len(dft_all_merged[dft_all_merged['2020 Q3']=='c'])/len(dft_all_merged)*100))"
   ]
  },
  {
   "cell_type": "code",
   "execution_count": null,
   "metadata": {},
   "outputs": [],
   "source": [
    "dft_all_merged =dft_all_merged.replace({'c':0})"
   ]
  },
  {
   "cell_type": "code",
   "execution_count": null,
   "metadata": {},
   "outputs": [],
   "source": [
    "df_intersect =[]\n",
    "for item in dft_all_merged.index: \n",
    "    if item in dft_bev_nhb.index.tolist():\n",
    "        df_intersect.append(item)"
   ]
  },
  {
   "cell_type": "code",
   "execution_count": null,
   "metadata": {},
   "outputs": [],
   "source": [
    "print('Missing {per:.2f}% of the entire postcode districts'.format(per = (1 -len(df_intersect)/postcode_district_number)*100))"
   ]
  },
  {
   "cell_type": "code",
   "execution_count": null,
   "metadata": {},
   "outputs": [],
   "source": [
    "dft_bev_nhb_sel = dft_bev_nhb[dft_bev_nhb.index.isin(df_intersect)]\n",
    "dft_all_merged_sel = dft_all_merged[dft_all_merged.index.isin(df_intersect)]"
   ]
  },
  {
   "cell_type": "code",
   "execution_count": null,
   "metadata": {},
   "outputs": [],
   "source": [
    "dft_ratio = dft_bev_nhb_sel/dft_all_merged_sel*100"
   ]
  },
  {
   "cell_type": "code",
   "execution_count": null,
   "metadata": {},
   "outputs": [],
   "source": [
    "##Plot the NEIGHBOURHOOD level (i.e. Partial Postcode) of BEVs proportion to total car fleet\n",
    "\n",
    "nhb_val = 'CB3'\n",
    "nhb_sel = dft_ratio.loc[nhb_val]\n",
    "plt.bar(nhb_sel.index,nhb_sel,.5)\n",
    "plt.xticks(rotation = 90)\n",
    "plt.ylabel('% of BEVs of total car fleet')\n",
    "plt.title('BEVs percentage of total car fleet in '+nhb_val)\n",
    "plt.show() "
   ]
  },
  {
   "cell_type": "markdown",
   "metadata": {
    "id": "8Jj9xPNuN7_i"
   },
   "source": [
    "# Import private chargers data"
   ]
  },
  {
   "cell_type": "code",
   "execution_count": null,
   "metadata": {},
   "outputs": [],
   "source": [
    "fund_df_import = pd.read_excel(dirname+\"/EIR_E0019012.xlsx\")\n",
    "fund_df_import = fund_df_import[fund_df_import.iloc[:,2].notnull()].dropna(axis =1)\n",
    "\n",
    "fund_df = fund_df_import[1:]\n",
    "fund_df.columns = fund_df_import.iloc[0].values\n",
    "fund_df =fund_df.set_index('Postcode District')\n",
    "fund_df.head()"
   ]
  },
  {
   "cell_type": "code",
   "execution_count": null,
   "metadata": {
    "id": "A5OGoh9CN7_i",
    "scrolled": true
   },
   "outputs": [],
   "source": [
    "# As stated in the file, all postcode districts with counts of at least one but fewer than ten have are indicated as \"…\".\n",
    "#For statistical purpose, a lower estimate of this value is 1 and therefore \"…\" is replaced by the value 1. \n",
    "fund_df = fund_df.replace({'…':1})"
   ]
  },
  {
   "cell_type": "markdown",
   "metadata": {
    "id": "nsyPwPueN7_j"
   },
   "source": [
    "# Create a DataFrame containing the necessary information per Local Authority\n",
    "\n"
   ]
  },
  {
   "cell_type": "code",
   "execution_count": null,
   "metadata": {},
   "outputs": [],
   "source": [
    "columns_name = ['Local Authority','Total electric vehicles (BEVs)','Total public charging devices','Total public charging devices per 100,000 population','Total private charging devices','Charging devices usage']\n",
    "summary_dataframe = pd.DataFrame({item:[] for item in columns_name})\n",
    "\n",
    "for area in district:\n",
    "    total_electric_vehicles = dft_bev_la[dft_bev_la['ONS LA Code']==dic_la[area]]['2020 Q3'].mean()\n",
    "    public_charging_devices,public_charging_devices_density = dft_charging_devices_available[dft_charging_devices_available['LA / Region Code']==dic_la[area]][['Total public\\ncharging devices','Charging devices per\\n100,000 population']].mean()\n",
    "    evhs_grant,drs_grant = fund_df[fund_df.index.isin(dic_district[district[0]])][['EVHS Grants','DRS Grants']].sum()\n",
    "    \n",
    "    \n",
    "    total_public_charging_devices = int(public_charging_devices) \n",
    "    total_public_charging_devices_density = public_charging_devices_density\n",
    "    total_private_charging_devices = int(evhs_grant + drs_grant)\n",
    "    charging_devices_usage = private_or_public_charging(total_private_charging_devices, total_electric_vehicles)\n",
    "    \n",
    "    summary_dataframe = summary_dataframe.append(pd.DataFrame([[area,total_electric_vehicles,total_public_charging_devices,total_public_charging_devices_density,total_private_charging_devices,charging_devices_usage]], columns = columns_name))\n",
    "    \n",
    "summary_dataframe = summary_dataframe.set_index('Local Authority') # Set the Local Authority name as the DataFrame index"
   ]
  },
  {
   "cell_type": "markdown",
   "metadata": {
    "id": "VRpFbKl4N7_k"
   },
   "source": [
    "# Print the lookup table for each Local Authority"
   ]
  },
  {
   "cell_type": "code",
   "execution_count": null,
   "metadata": {},
   "outputs": [],
   "source": [
    "##Lookup table for each local authority number of EVs, public and private charging devices \n",
    "la_code = 'E06000047'\n",
    "\n",
    "print('Summary for the '+dic_code[la_code]+' Local Authority:\\n')\n",
    "print(summary_dataframe.loc[la_name])"
   ]
  },
  {
   "cell_type": "markdown",
   "metadata": {},
   "source": [
    "# Identify Local Authorities where the commercial fleet is statistically significant"
   ]
  },
  {
   "cell_type": "code",
   "execution_count": null,
   "metadata": {},
   "outputs": [],
   "source": [
    "#Subselect for the dataframe the local authorities where there are more EVs than private chargers \n",
    "ratios = summary_dataframe['Total electric vehicles (BEVs)']/summary_dataframe['Total private charging devices']\n",
    "old_ratios = len(ratios)"
   ]
  },
  {
   "cell_type": "code",
   "execution_count": null,
   "metadata": {
    "scrolled": true
   },
   "outputs": [],
   "source": [
    "#Import ULEVs keepership table by LA\n",
    "dft_keep_import = read_ods(dirname+'/veh0132.ods', 'VEH0132d')\n",
    "dft_keep_import = dft_keep_import[dft_keep_import.iloc[:,1].notnull()]\n",
    "\n",
    "dft_keep = dft_keep_import[1:]\n",
    "dft_keep.columns = dft_keep_import.iloc[0]\n",
    "dft_keep.reset_index(inplace=True, drop=True)\n",
    "dft_keep.head()"
   ]
  },
  {
   "cell_type": "code",
   "execution_count": null,
   "metadata": {},
   "outputs": [],
   "source": [
    "dft_keep_sel = dft_keep[dft_keep['ONS LA Code'].isin(district_code)]"
   ]
  },
  {
   "cell_type": "code",
   "execution_count": null,
   "metadata": {},
   "outputs": [],
   "source": [
    "#Select LAs for which the number of company ULEVs is twice the number of private ULEVs\n",
    "\n",
    "outliers_code = dft_keep_sel[dft_keep_sel['Company'] > 2 *dft_keep_sel['Private']]['ONS LA Code'].tolist()\n",
    "outliers_la = [dic_code[item] for item in outliers]"
   ]
  },
  {
   "cell_type": "code",
   "execution_count": null,
   "metadata": {},
   "outputs": [],
   "source": [
    "#Remove the previously identified LAs from the selected list rsel\n",
    "\n",
    "ratios =ratios[~ratios.index.isin(outliers_la)]\n",
    "\n",
    "print('{val} local authorities were removed from the list ({per:.2f}% of the data)'.format(val = old_ratios-len(ratios), per = (1-len(ratios)/old_ratios)*100 ))\n",
    "\n",
    "ratios_sel=ratios_sel[ratios_sel!=np.inf]\n",
    "\n",
    "print('{per:.2f}% of the data is infinity'.format(per = (1 -len(ratios_sel)/len(ratios))*100))\n",
    "\n",
    "ratios_sel=ratios_sel.dropna()\n",
    "\n",
    "print('{per:.2f}% of the data is NaN'.format(per = (1 - len(ratios_sel)/len(ratios))*100))\n",
    "old_rsel = len(ratios_sel)"
   ]
  },
  {
   "cell_type": "markdown",
   "metadata": {},
   "source": [
    "# Investigate top and bottom 10 Local authorities for public charger usage"
   ]
  },
  {
   "cell_type": "code",
   "execution_count": null,
   "metadata": {},
   "outputs": [],
   "source": [
    "ratios_gt_one = ratios_sel[ratios_sel >1]\n",
    "\n",
    "print('{per:.2f}% of the local authorities have more BEVs than private chargers'.format(per = len(ratios_gt_one)/len(ratios)*100))"
   ]
  },
  {
   "cell_type": "code",
   "execution_count": null,
   "metadata": {},
   "outputs": [],
   "source": [
    "#Mean and median values for the BEVs/Private chargers > 1, respectively \n",
    "print(ratios_gt_one.mean())\n",
    "print(ratios_gt_one.median())"
   ]
  },
  {
   "cell_type": "code",
   "execution_count": null,
   "metadata": {},
   "outputs": [],
   "source": [
    "#Standard Deviation values for the BEVs/Private chargers > 1\n",
    "print(ratios_gt_one.std())"
   ]
  },
  {
   "cell_type": "code",
   "execution_count": null,
   "metadata": {
    "scrolled": true
   },
   "outputs": [],
   "source": [
    "x = np.arange(len(ratios_gt_one))\n",
    "width = 0.7  # the width of the bars\n",
    "\n",
    "fig, ax = plt.subplots(figsize=(16,9))\n",
    "rects1 = ax.bar(x, ratios_gt_one, width)\n",
    "\n",
    "# Add some text for labels, title and custom x-axis tick labels, etc.\n",
    "ax.set_ylabel('BEVs/Private chargers')\n",
    "ax.set_title('BEVs/Private chargers ratio > 1')\n",
    "ax.set_xticks(x)\n",
    "ax.set_xlim(0,len(ratios_gt_one))\n",
    "ax.set_xticklabels(ratios_gt_one.index, rotation = 90)\n",
    "#ax.legend()\n",
    "\n",
    "fig.tight_layout()\n",
    "\n",
    "plt.show()"
   ]
  },
  {
   "cell_type": "code",
   "execution_count": null,
   "metadata": {},
   "outputs": [],
   "source": [
    "#Top 10 Local Authorities with the highest BEVs/private chargers ratio\n",
    "ratios_gt_one.sort_values(ascending = False).head(10)"
   ]
  },
  {
   "cell_type": "code",
   "execution_count": null,
   "metadata": {
    "scrolled": true
   },
   "outputs": [],
   "source": [
    "#Bottom 10 Local Authorities with the highest BEVs/private chargers ratio\n",
    "ratios_gt_one.sort_values().head(10)"
   ]
  },
  {
   "cell_type": "markdown",
   "metadata": {},
   "source": [
    "# Variation in BEVs uptake within a select few LAs"
   ]
  },
  {
   "cell_type": "code",
   "execution_count": null,
   "metadata": {},
   "outputs": [],
   "source": [
    "ratios_sel.sort_values(ascending=False).head(15)"
   ]
  },
  {
   "cell_type": "code",
   "execution_count": null,
   "metadata": {},
   "outputs": [],
   "source": [
    "ratios_sel.sort_values(ascending=False)[170:180]"
   ]
  },
  {
   "cell_type": "code",
   "execution_count": null,
   "metadata": {
    "scrolled": true
   },
   "outputs": [],
   "source": [
    "ratios_sel.sort_values(ascending=False).tail(15)"
   ]
  },
  {
   "cell_type": "code",
   "execution_count": null,
   "metadata": {
    "scrolled": true
   },
   "outputs": [],
   "source": [
    "la_selection = ['Sheffield','East Cambridgeshire','Richmondshire']\n",
    "df_selection =[]\n",
    "\n",
    "for area in la_selection:\n",
    "    df_selection.append(dft_bev_la_sel.loc[dic_la[area]].reindex(index=dft_bev_la_sel.loc[dic_la[area]].index[::-1]))\n",
    "\n",
    "x = np.arange(len(df_selection[0].index))\n",
    "width = 0.2  # the width of the bars\n",
    "\n",
    "fig, ax = plt.subplots(figsize=(16,9))\n",
    "rects1 = ax.bar(x -width, df_selection[2], width, label=la_selection[2])\n",
    "rects2 = ax.bar(x, df_selection[1], width, label=la_selection[1])\n",
    "rects3 = ax.bar(x + width,  df_selection[0], width, label=la_selection[0])\n",
    "\n",
    "# Add some text for labels, title and custom x-axis tick labels, etc.\n",
    "ax.set_ylabel('Total BEVs number')\n",
    "ax.set_title('BEVs Quarterly Trend')\n",
    "ax.set_xticks(x)\n",
    "ax.set_xticklabels(df_selection[0].index, rotation = 90)\n",
    "ax.legend()\n",
    "ax.autoscale(tight=True)\n",
    "\n",
    "fig.tight_layout()\n",
    "\n",
    "plt.show()"
   ]
  },
  {
   "cell_type": "markdown",
   "metadata": {},
   "source": [
    "# Import vehicle annual mileage by local authority"
   ]
  },
  {
   "cell_type": "code",
   "execution_count": 119,
   "metadata": {},
   "outputs": [],
   "source": [
    "dft_vehicle_miles_import = read_ods(dirname+'/tra8901.ods', 'TRA8901', headers=False)\n",
    "dft_vehicle_miles_import = dft_vehicle_miles_import[dft_vehicle_miles_import.iloc[:,4].notnull()]\n",
    "\n",
    "dft_vehicle_miles = dft_vehicle_miles_import.iloc[1:]\n",
    "dft_vehicle_miles.columns = dft_vehicle_miles_import.iloc[0]\n",
    "dft_vehicle_miles = dft_vehicle_miles.dropna(axis=1)\n",
    "\n",
    "dft_vehicle_miles = dft_vehicle_miles[dft_vehicle_miles['LA Code'].isin(district_code)]\n",
    "dft_vehicle_miles.reset_index(inplace=True, drop=True) #reset the index\n",
    "dft_vehicle_miles.insert(loc=1, column='Local Authority', value=[dic_code[item] for item in dft_vehicle_miles['LA Code']])\n",
    "dft_vehicle_miles = dft_vehicle_miles.set_index('LA Code')"
   ]
  },
  {
   "cell_type": "code",
   "execution_count": 143,
   "metadata": {},
   "outputs": [
    {
     "name": "stdout",
     "output_type": "stream",
     "text": [
      "Missing 47.23% of entire local authorities\n"
     ]
    }
   ],
   "source": [
    "print('Missing {per:.2f}% of entire local authorities'.format(per = len(dft_vehicle_miles)/len(district_code)*100))"
   ]
  },
  {
   "cell_type": "code",
   "execution_count": 142,
   "metadata": {},
   "outputs": [
    {
     "data": {
      "image/png": "[encoded data removed]",
      "text/plain": [
       "<Figure size 432x288 with 1 Axes>"
      ]
     },
     "metadata": {
      "needs_background": "light"
     },
     "output_type": "display_data"
    }
   ],
   "source": [
    "##Plot the Local Authority level of yearly miles driven\n",
    "\n",
    "la_val = 'Leeds'\n",
    "la_sel = dft_vehicle_miles.loc[dic_la[la_val]][1:]\n",
    "la_sel.index = [str(i) for i in range(1993,2020)]\n",
    "plt.bar(la_sel.index,la_sel,.5)\n",
    "plt.xticks(rotation = 90)\n",
    "plt.ylabel('Distance (miles)')\n",
    "plt.title('Yearly driven miles in '+la_val)\n",
    "plt.show() "
   ]
  },
  {
   "cell_type": "markdown",
   "metadata": {
    "id": "isHbqjJApvFQ"
   },
   "source": [
    "# Interactive plots (WORK IN PROGRESS)"
   ]
  },
  {
   "cell_type": "code",
   "execution_count": null,
   "metadata": {},
   "outputs": [],
   "source": [
    "la_geo = 'Data/LA_borders/Local_Authority_Districts__May_2020__Boundaries_UK_BGC.geojson'"
   ]
  },
  {
   "cell_type": "code",
   "execution_count": null,
   "metadata": {},
   "outputs": [],
   "source": [
    "data_try.columns"
   ]
  },
  {
   "cell_type": "code",
   "execution_count": null,
   "metadata": {},
   "outputs": [],
   "source": [
    "import json\n",
    "communities_geo = la_geo\n",
    "\n",
    "# open the json file - json.load() methods returns a python dictionary\n",
    "with open(communities_geo) as communities_file:\n",
    "    communities_json = json.load(communities_file)\n",
    "    \n",
    "# we loop through the dictionary to obtain the name of the communities in the json file\n",
    "denominations_json = []\n",
    "for index in range(len(communities_json['features'])):\n",
    "    denominations_json.append(communities_json['features'][index]['properties']['LAD20CD'])\n"
   ]
  },
  {
   "cell_type": "code",
   "execution_count": null,
   "metadata": {},
   "outputs": [],
   "source": [
    "communities_json['features'][index]['properties']"
   ]
  },
  {
   "cell_type": "code",
   "execution_count": null,
   "metadata": {},
   "outputs": [],
   "source": [
    "data_try.columns"
   ]
  },
  {
   "cell_type": "code",
   "execution_count": null,
   "metadata": {},
   "outputs": [],
   "source": [
    "for item in denominations_json:\n",
    "    if not item in data_try['LA / Region Code'].tolist():\n",
    "        print(item)"
   ]
  },
  {
   "cell_type": "code",
   "execution_count": null,
   "metadata": {},
   "outputs": [],
   "source": [
    "sorted(data_try['LA / Region Code'].tolist())==denominations_json"
   ]
  },
  {
   "cell_type": "code",
   "execution_count": null,
   "metadata": {},
   "outputs": [],
   "source": [
    "# file name - file is located in the working directory\n",
    "communities_geo = la_geo # geojson file\n",
    "\n",
    "#  tiles = \"cartodbpositron\"\n",
    "#communities_map = folium.Map(location=[40.416775, -3.703790], zoom_start=6, tiles='stamenwatercolor')\n",
    "communities_map = folium.Map(location=[54.7, -4.6],\n",
    "                    tiles = \"cartodbpositron\",\n",
    "                    zoom_start = 5.4) "
   ]
  },
  {
   "cell_type": "code",
   "execution_count": null,
   "metadata": {
    "scrolled": true
   },
   "outputs": [],
   "source": [
    "# choropleth = folium.Choropleth(\n",
    "#     name = 'charging_dev',\n",
    "#     geo_data=communities_geo,\n",
    "#     data=data_try,\n",
    "#     columns=['LA / Region Code', 'Total public\\ncharging devices', 'Charging devices per\\n100,000 population'],\n",
    "#     key_on='feature.properties.LAD20CD',\n",
    "#     fill_color='YlGnBu', \n",
    "#     fill_opacity=1, \n",
    "#     line_opacity=1,\n",
    "#     legend_name='Total public charging devices',\n",
    "#     smooth_factor=0).add_to(communities_map)\n",
    "\n",
    "# style_function = \"font-size: 15px; font-weight: bold\"\n",
    "# choropleth.geojson.add_child(\n",
    "#     folium.features.GeoJsonTooltip(['LAD20NM'], style=style_function, labels=False))\n",
    "\n",
    "# folium.LayerControl().add_to(communities_map)"
   ]
  },
  {
   "cell_type": "code",
   "execution_count": null,
   "metadata": {},
   "outputs": [],
   "source": [
    "choropleth = folium.Choropleth(\n",
    "    name = 'charging_dev',\n",
    "    geo_data=communities_geo,\n",
    "    data=data_try,\n",
    "    columns=['LA / Region Code', 'Total public\\ncharging devices', 'Charging devices per\\n100,000 population'],\n",
    "    key_on='feature.properties.LAD20CD',\n",
    "    fill_color='YlGnBu', \n",
    "    fill_opacity=1, \n",
    "    line_opacity=1,\n",
    "    legend_name='Total public charging devices',\n",
    "    smooth_factor=0).add_to(communities_map)\n",
    "style_function = \"font-size: 15px; font-weight: bold\"\n",
    "choropleth.geojson.add_child(\n",
    "    folium.features.GeoJsonTooltip(['LAD20NM'], style=style_function, labels=False))\n",
    "\n",
    "choropleth = folium.Choropleth(\n",
    "    name = 'charging_dens',\n",
    "    geo_data=communities_geo,\n",
    "    data=data_try,\n",
    "    columns=['LA / Region Code', 'Charging devices per\\n100,000 population'],\n",
    "    key_on='feature.properties.LAD20CD',\n",
    "    fill_color='YlGnBu', \n",
    "    fill_opacity=1, \n",
    "    line_opacity=1,\n",
    "    legend_name='Total charging devices per 100,000 population',\n",
    "    smooth_factor=0).add_to(communities_map)\n",
    "\n",
    "style_function = \"font-size: 15px; font-weight: bold\"\n",
    "choropleth.geojson.add_child(\n",
    "    folium.features.GeoJsonTooltip(['LAD20NM'], style=style_function, labels=False))\n",
    "folium.LayerControl().add_to(communities_map)"
   ]
  },
  {
   "cell_type": "markdown",
   "metadata": {},
   "source": [
    "# UPRNs"
   ]
  },
  {
   "cell_type": "code",
   "execution_count": 112,
   "metadata": {},
   "outputs": [
    {
     "data": {
      "text/html": [
       "<div>\n",
       "<style scoped>\n",
       "    .dataframe tbody tr th:only-of-type {\n",
       "        vertical-align: middle;\n",
       "    }\n",
       "\n",
       "    .dataframe tbody tr th {\n",
       "        vertical-align: top;\n",
       "    }\n",
       "\n",
       "    .dataframe thead th {\n",
       "        text-align: right;\n",
       "    }\n",
       "</style>\n",
       "<table border=\"1\" class=\"dataframe\">\n",
       "  <thead>\n",
       "    <tr style=\"text-align: right;\">\n",
       "      <th></th>\n",
       "      <th>UPRN</th>\n",
       "      <th>X_COORDINATE</th>\n",
       "      <th>Y_COORDINATE</th>\n",
       "      <th>LATITUDE</th>\n",
       "      <th>LONGITUDE</th>\n",
       "    </tr>\n",
       "    <tr>\n",
       "      <th>Postcode District</th>\n",
       "      <th></th>\n",
       "      <th></th>\n",
       "      <th></th>\n",
       "      <th></th>\n",
       "      <th></th>\n",
       "    </tr>\n",
       "  </thead>\n",
       "  <tbody>\n",
       "    <tr>\n",
       "      <th>AB10</th>\n",
       "      <td>9051044244</td>\n",
       "      <td>392793.00</td>\n",
       "      <td>805619.00</td>\n",
       "      <td>57.141395</td>\n",
       "      <td>-2.120729</td>\n",
       "    </tr>\n",
       "    <tr>\n",
       "      <th>AB10</th>\n",
       "      <td>9051058739</td>\n",
       "      <td>393058.00</td>\n",
       "      <td>804612.00</td>\n",
       "      <td>57.132354</td>\n",
       "      <td>-2.116322</td>\n",
       "    </tr>\n",
       "    <tr>\n",
       "      <th>AB10</th>\n",
       "      <td>9051058738</td>\n",
       "      <td>393059.00</td>\n",
       "      <td>804620.00</td>\n",
       "      <td>57.132425</td>\n",
       "      <td>-2.116306</td>\n",
       "    </tr>\n",
       "    <tr>\n",
       "      <th>AB10</th>\n",
       "      <td>9051058737</td>\n",
       "      <td>393063.00</td>\n",
       "      <td>804631.00</td>\n",
       "      <td>57.132524</td>\n",
       "      <td>-2.116240</td>\n",
       "    </tr>\n",
       "    <tr>\n",
       "      <th>AB10</th>\n",
       "      <td>9051058736</td>\n",
       "      <td>393061.86</td>\n",
       "      <td>804640.43</td>\n",
       "      <td>57.132609</td>\n",
       "      <td>-2.116259</td>\n",
       "    </tr>\n",
       "  </tbody>\n",
       "</table>\n",
       "</div>"
      ],
      "text/plain": [
       "                         UPRN  X_COORDINATE  Y_COORDINATE   LATITUDE  \\\n",
       "Postcode District                                                      \n",
       "AB10               9051044244     392793.00     805619.00  57.141395   \n",
       "AB10               9051058739     393058.00     804612.00  57.132354   \n",
       "AB10               9051058738     393059.00     804620.00  57.132425   \n",
       "AB10               9051058737     393063.00     804631.00  57.132524   \n",
       "AB10               9051058736     393061.86     804640.43  57.132609   \n",
       "\n",
       "                   LONGITUDE  \n",
       "Postcode District             \n",
       "AB10               -2.120729  \n",
       "AB10               -2.116322  \n",
       "AB10               -2.116306  \n",
       "AB10               -2.116240  \n",
       "AB10               -2.116259  "
      ]
     },
     "execution_count": 112,
     "metadata": {},
     "output_type": "execute_result"
    }
   ],
   "source": [
    "#Import the csv file listing all the UPRNs per postcode district \n",
    "\n",
    "df_uprn = pd.read_csv(dirname+'/UPRNs.csv', index_col=0)\n",
    "df_uprn.head()"
   ]
  },
  {
   "cell_type": "code",
   "execution_count": 93,
   "metadata": {
    "scrolled": true
   },
   "outputs": [],
   "source": [
    "#Import the files containing the coordinates for each postcode district and combine them in a single dataframe \n",
    "\n",
    "for item in postcode_area_list:\n",
    "    \n",
    "    if item=='AB':\n",
    "        filename = item+'.kml'\n",
    "        file_path = subdirname+'/'+filename\n",
    "\n",
    "        df_bound = gpd.read_file(file_path, driver='KML')\n",
    "    else:\n",
    "        filename = item+'.kml'\n",
    "        file_path = subdirname+'/'+filename\n",
    "\n",
    "        polys = gpd.read_file(file_path, driver='KML')\n",
    "        df_bound = df_bound.append(polys, ignore_index=True)\n",
    "\n",
    "        \n",
    "df_postcode_district = df_bound[df_bound['Name'].isin(postcode_district_list)].set_index('Name')\n",
    "df_postcode_district.index.name = 'Postcode District'\n",
    "df_postcode_district = df_postcode_district.sort_index()"
   ]
  },
  {
   "cell_type": "code",
   "execution_count": 94,
   "metadata": {},
   "outputs": [
    {
     "data": {
      "text/html": [
       "<div>\n",
       "<style scoped>\n",
       "    .dataframe tbody tr th:only-of-type {\n",
       "        vertical-align: middle;\n",
       "    }\n",
       "\n",
       "    .dataframe tbody tr th {\n",
       "        vertical-align: top;\n",
       "    }\n",
       "\n",
       "    .dataframe thead th {\n",
       "        text-align: right;\n",
       "    }\n",
       "</style>\n",
       "<table border=\"1\" class=\"dataframe\">\n",
       "  <thead>\n",
       "    <tr style=\"text-align: right;\">\n",
       "      <th></th>\n",
       "      <th>Description</th>\n",
       "      <th>geometry</th>\n",
       "    </tr>\n",
       "    <tr>\n",
       "      <th>Postcode District</th>\n",
       "      <th></th>\n",
       "      <th></th>\n",
       "    </tr>\n",
       "  </thead>\n",
       "  <tbody>\n",
       "    <tr>\n",
       "      <th>AB10</th>\n",
       "      <td>AB10 postcode district&lt;br xmlns=\"\"&gt;&lt;/br&gt;&lt;a hre...</td>\n",
       "      <td>MULTIPOLYGON (((-2.09560 57.11318, -2.09400 57...</td>\n",
       "    </tr>\n",
       "    <tr>\n",
       "      <th>AB11</th>\n",
       "      <td>AB11 postcode district&lt;br xmlns=\"\"&gt;&lt;/br&gt;&lt;a hre...</td>\n",
       "      <td>MULTIPOLYGON (((-2.05193 57.17075, -2.02345 57...</td>\n",
       "    </tr>\n",
       "    <tr>\n",
       "      <th>AB12</th>\n",
       "      <td>AB12 postcode district&lt;br xmlns=\"\"&gt;&lt;/br&gt;&lt;a hre...</td>\n",
       "      <td>MULTIPOLYGON (((-2.09608 57.14849, -2.09552 57...</td>\n",
       "    </tr>\n",
       "    <tr>\n",
       "      <th>AB13</th>\n",
       "      <td>AB13 postcode district&lt;br xmlns=\"\"&gt;&lt;/br&gt;&lt;a hre...</td>\n",
       "      <td>MULTIPOLYGON (((-2.28903 57.14867, -2.28762 57...</td>\n",
       "    </tr>\n",
       "    <tr>\n",
       "      <th>AB14</th>\n",
       "      <td>AB14 postcode district&lt;br xmlns=\"\"&gt;&lt;/br&gt;&lt;a hre...</td>\n",
       "      <td>MULTIPOLYGON (((-2.30175 57.08001, -2.28894 57...</td>\n",
       "    </tr>\n",
       "  </tbody>\n",
       "</table>\n",
       "</div>"
      ],
      "text/plain": [
       "                                                         Description  \\\n",
       "Postcode District                                                      \n",
       "AB10               AB10 postcode district<br xmlns=\"\"></br><a hre...   \n",
       "AB11               AB11 postcode district<br xmlns=\"\"></br><a hre...   \n",
       "AB12               AB12 postcode district<br xmlns=\"\"></br><a hre...   \n",
       "AB13               AB13 postcode district<br xmlns=\"\"></br><a hre...   \n",
       "AB14               AB14 postcode district<br xmlns=\"\"></br><a hre...   \n",
       "\n",
       "                                                            geometry  \n",
       "Postcode District                                                     \n",
       "AB10               MULTIPOLYGON (((-2.09560 57.11318, -2.09400 57...  \n",
       "AB11               MULTIPOLYGON (((-2.05193 57.17075, -2.02345 57...  \n",
       "AB12               MULTIPOLYGON (((-2.09608 57.14849, -2.09552 57...  \n",
       "AB13               MULTIPOLYGON (((-2.28903 57.14867, -2.28762 57...  \n",
       "AB14               MULTIPOLYGON (((-2.30175 57.08001, -2.28894 57...  "
      ]
     },
     "execution_count": 94,
     "metadata": {},
     "output_type": "execute_result"
    }
   ],
   "source": [
    "df_postcode_district.head()"
   ]
  },
  {
   "cell_type": "markdown",
   "metadata": {},
   "source": [
    "## Map and total number of UPRNs per Postcode District "
   ]
  },
  {
   "cell_type": "code",
   "execution_count": 116,
   "metadata": {},
   "outputs": [
    {
     "name": "stdout",
     "output_type": "stream",
     "text": [
      "In CB1 there are 30731 UPRNs\n"
     ]
    }
   ],
   "source": [
    "postcode_value = 'CB1'\n",
    "postcode_selection = df_uprn.loc[postcode_value]\n",
    "locations = postcode_selection[['LATITUDE', 'LONGITUDE']]\n",
    "locationlist = locations.values.tolist()\n",
    "\n",
    "print('In {} there are {} UPRNs'.format(postcode_value,df_uprn.loc[postcode_value]['UPRN'].count()))"
   ]
  },
  {
   "cell_type": "code",
   "execution_count": 109,
   "metadata": {},
   "outputs": [
    {
     "name": "stderr",
     "output_type": "stream",
     "text": [
      "C:\\Users\\andre\\.conda\\envs\\na2021\\lib\\site-packages\\pyproj\\crs\\crs.py:53: FutureWarning: '+init=<authority>:<code>' syntax is deprecated. '<authority>:<code>' is the preferred initialization method. When making the change, be mindful of axis order changes: https://pyproj4.github.io/pyproj/stable/gotchas.html#axis-order-changes-in-proj-6\n",
      "  return _prepare_from_string(\" \".join(pjargs))\n"
     ]
    }
   ],
   "source": [
    "m = folium.Map([50.854457, 4.377184], zoom_start=5, tiles='cartodbpositron')\n",
    "folium.GeoJson(df_postcode_district.loc[postcode_value:postcode_value]).add_to(m)\n",
    "for point in range(len(locationlist)):\n",
    "     folium.Marker(locationlist[point], popup=postcode_selection['UPRN'][point]).add_to(m)\n",
    "m.save(postcode_value+\".html\")"
   ]
  }
 ],
 "metadata": {
  "colab": {
   "collapsed_sections": [],
   "name": "EV and charging devices uptake.ipynb",
   "provenance": [],
   "toc_visible": true
  },
  "kernelspec": {
   "display_name": "Python 3",
   "language": "python",
   "name": "python3"
  },
  "language_info": {
   "codemirror_mode": {
    "name": "ipython",
    "version": 3
   },
   "file_extension": ".py",
   "mimetype": "text/x-python",
   "name": "python",
   "nbconvert_exporter": "python",
   "pygments_lexer": "ipython3",
   "version": "3.8.5"
  }
 },
 "nbformat": 4,
 "nbformat_minor": 1
}
