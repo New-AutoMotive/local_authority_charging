{
 "cells": [
  {
   "cell_type": "markdown",
   "metadata": {
    "id": "A0dRO_32N7_R"
   },
   "source": []
  },
  {
   "cell_type": "markdown",
   "metadata": {
    "id": "Sv8pL-bJN7_W"
   },
   "source": [
    "# Importing packages"
   ]
  },
  {
   "cell_type": "code",
   "execution_count": 1,
   "metadata": {
    "executionInfo": {
     "elapsed": 448,
     "status": "ok",
     "timestamp": 1610099642690,
     "user": {
      "displayName": "Andrea Di Antonio",
      "photoUrl": "",
      "userId": "00274323577290199816"
     },
     "user_tz": 0
    },
    "id": "WdNJzi0iN7_X"
   },
   "outputs": [],
   "source": [
    "import os\n",
    "import numpy as np\n",
    "import pandas as pd\n",
    "from pandas_ods_reader import read_ods\n",
    "import matplotlib.pyplot as plt"
   ]
  },
  {
   "cell_type": "markdown",
   "metadata": {
    "id": "odf3Inp5N7_Y"
   },
   "source": [
    "# Import files"
   ]
  },
  {
   "cell_type": "code",
   "execution_count": 5,
   "metadata": {
    "executionInfo": {
     "elapsed": 767,
     "status": "ok",
     "timestamp": 1610099676999,
     "user": {
      "displayName": "Andrea Di Antonio",
      "photoUrl": "",
      "userId": "00274323577290199816"
     },
     "user_tz": 0
    },
    "id": "nDhgkY3m_l8r"
   },
   "outputs": [],
   "source": [
    "os.chdir('/content/drive/MyDrive/New AutoMotive/Research & analysis/Charging device research 2021')"
   ]
  },
  {
   "cell_type": "code",
   "execution_count": 2,
   "metadata": {
    "executionInfo": {
     "elapsed": 1398,
     "status": "ok",
     "timestamp": 1610099678015,
     "user": {
      "displayName": "Andrea Di Antonio",
      "photoUrl": "",
      "userId": "00274323577290199816"
     },
     "user_tz": 0
    },
    "id": "DHMaGXDTN7_Y"
   },
   "outputs": [],
   "source": [
    "list_file=os.listdir() #Listing all files in the directory "
   ]
  },
  {
   "cell_type": "code",
   "execution_count": 3,
   "metadata": {
    "colab": {
     "base_uri": "https://localhost:8080/"
    },
    "executionInfo": {
     "elapsed": 722,
     "status": "ok",
     "timestamp": 1610099678016,
     "user": {
      "displayName": "Andrea Di Antonio",
      "photoUrl": "",
      "userId": "00274323577290199816"
     },
     "user_tz": 0
    },
    "id": "EDWFkF16N7_Y",
    "outputId": "de483936-de39-4ca6-ad8f-5c60a03bf259",
    "scrolled": true
   },
   "outputs": [
    {
     "data": {
      "text/plain": [
       "['.git',\n",
       " '.ipynb_checkpoints',\n",
       " 'Data',\n",
       " 'EV and charging devices uptake.ipynb',\n",
       " 'README.md']"
      ]
     },
     "execution_count": 3,
     "metadata": {},
     "output_type": "execute_result"
    }
   ],
   "source": [
    "list_file"
   ]
  },
  {
   "cell_type": "code",
   "execution_count": 8,
   "metadata": {
    "colab": {
     "base_uri": "https://localhost:8080/"
    },
    "executionInfo": {
     "elapsed": 28872,
     "status": "ok",
     "timestamp": 1610099707476,
     "user": {
      "displayName": "Andrea Di Antonio",
      "photoUrl": "",
      "userId": "00274323577290199816"
     },
     "user_tz": 0
    },
    "id": "7RZFI-UuN7_Z",
    "outputId": "8feccc9f-c1f9-4a96-dbd4-b718520babe6"
   },
   "outputs": [
    {
     "name": "stderr",
     "output_type": "stream",
     "text": [
      "/usr/local/lib/python3.6/dist-packages/IPython/core/interactiveshell.py:2718: DtypeWarning: Columns (7,17,18,21,22,24,25,29,32,39,47) have mixed types.Specify dtype option on import or set low_memory=False.\n",
      "  interactivity=interactivity, compiler=compiler, result=result)\n"
     ]
    }
   ],
   "source": [
    "#Import file containing the information about, among others, postcodes, local authority, constituency and population\n",
    "postcode = pd.read_csv('postcodes.csv') "
   ]
  },
  {
   "cell_type": "code",
   "execution_count": 12,
   "metadata": {
    "colab": {
     "base_uri": "https://localhost:8080/",
     "height": 581
    },
    "executionInfo": {
     "elapsed": 471,
     "status": "ok",
     "timestamp": 1610102577120,
     "user": {
      "displayName": "Andrea Di Antonio",
      "photoUrl": "",
      "userId": "00274323577290199816"
     },
     "user_tz": 0
    },
    "id": "-PErHhmEN7_Z",
    "outputId": "b6d79be3-48aa-40df-ee05-75cad63b5879"
   },
   "outputs": [
    {
     "data": {
      "text/html": [
       "<div>\n",
       "<style scoped>\n",
       "    .dataframe tbody tr th:only-of-type {\n",
       "        vertical-align: middle;\n",
       "    }\n",
       "\n",
       "    .dataframe tbody tr th {\n",
       "        vertical-align: top;\n",
       "    }\n",
       "\n",
       "    .dataframe thead th {\n",
       "        text-align: right;\n",
       "    }\n",
       "</style>\n",
       "<table border=\"1\" class=\"dataframe\">\n",
       "  <thead>\n",
       "    <tr style=\"text-align: right;\">\n",
       "      <th></th>\n",
       "      <th>Postcode</th>\n",
       "      <th>In Use?</th>\n",
       "      <th>Latitude</th>\n",
       "      <th>Longitude</th>\n",
       "      <th>Easting</th>\n",
       "      <th>Northing</th>\n",
       "      <th>Grid Ref</th>\n",
       "      <th>County</th>\n",
       "      <th>District</th>\n",
       "      <th>Ward</th>\n",
       "      <th>District Code</th>\n",
       "      <th>Ward Code</th>\n",
       "      <th>Country</th>\n",
       "      <th>County Code</th>\n",
       "      <th>Constituency</th>\n",
       "      <th>Introduced</th>\n",
       "      <th>Terminated</th>\n",
       "      <th>Parish</th>\n",
       "      <th>National Park</th>\n",
       "      <th>Population</th>\n",
       "      <th>Households</th>\n",
       "      <th>Built up area</th>\n",
       "      <th>Built up sub-division</th>\n",
       "      <th>Lower layer super output area</th>\n",
       "      <th>Rural/urban</th>\n",
       "      <th>Region</th>\n",
       "      <th>Altitude</th>\n",
       "      <th>London zone</th>\n",
       "      <th>LSOA Code</th>\n",
       "      <th>Local authority</th>\n",
       "      <th>MSOA Code</th>\n",
       "      <th>Middle layer super output area</th>\n",
       "      <th>Parish Code</th>\n",
       "      <th>Census output area</th>\n",
       "      <th>Constituency Code</th>\n",
       "      <th>Index of Multiple Deprivation</th>\n",
       "      <th>Quality</th>\n",
       "      <th>User Type</th>\n",
       "      <th>Last updated</th>\n",
       "      <th>Nearest station</th>\n",
       "      <th>Distance to station</th>\n",
       "      <th>Postcode area</th>\n",
       "      <th>Postcode district</th>\n",
       "      <th>Police force</th>\n",
       "      <th>Water company</th>\n",
       "      <th>Plus Code</th>\n",
       "      <th>Average Income</th>\n",
       "      <th>Sewage Company</th>\n",
       "      <th>Travel To Work Area</th>\n",
       "    </tr>\n",
       "  </thead>\n",
       "  <tbody>\n",
       "    <tr>\n",
       "      <th>0</th>\n",
       "      <td>AB1 0AA</td>\n",
       "      <td>No</td>\n",
       "      <td>57.101474</td>\n",
       "      <td>-2.242851</td>\n",
       "      <td>385386.0</td>\n",
       "      <td>801193.0</td>\n",
       "      <td>NJ853011</td>\n",
       "      <td>NaN</td>\n",
       "      <td>Aberdeen City</td>\n",
       "      <td>Lower Deeside</td>\n",
       "      <td>S12000033</td>\n",
       "      <td>S13002843</td>\n",
       "      <td>Scotland</td>\n",
       "      <td>S99999999</td>\n",
       "      <td>Aberdeen South</td>\n",
       "      <td>1980-01-01</td>\n",
       "      <td>1996-06-01</td>\n",
       "      <td>NaN</td>\n",
       "      <td>NaN</td>\n",
       "      <td>NaN</td>\n",
       "      <td>NaN</td>\n",
       "      <td>NaN</td>\n",
       "      <td>NaN</td>\n",
       "      <td>Cults, Bieldside and Milltimber West - 02</td>\n",
       "      <td>Accessible small town</td>\n",
       "      <td>NaN</td>\n",
       "      <td>46.0</td>\n",
       "      <td>NaN</td>\n",
       "      <td>S01006514</td>\n",
       "      <td>NaN</td>\n",
       "      <td>S02001237</td>\n",
       "      <td>Cults, Bieldside and Milltimber West</td>\n",
       "      <td>NaN</td>\n",
       "      <td>S00090303</td>\n",
       "      <td>S14000002</td>\n",
       "      <td>6808.0</td>\n",
       "      <td>1.0</td>\n",
       "      <td>0.0</td>\n",
       "      <td>2020-11-21</td>\n",
       "      <td>Portlethen</td>\n",
       "      <td>8.31408</td>\n",
       "      <td>AB</td>\n",
       "      <td>AB1</td>\n",
       "      <td>Scotland</td>\n",
       "      <td>Scottish Water</td>\n",
       "      <td>9C9V4Q24+HV</td>\n",
       "      <td>NaN</td>\n",
       "      <td>NaN</td>\n",
       "      <td>Aberdeen</td>\n",
       "    </tr>\n",
       "    <tr>\n",
       "      <th>1</th>\n",
       "      <td>AB1 0AB</td>\n",
       "      <td>No</td>\n",
       "      <td>57.102554</td>\n",
       "      <td>-2.246308</td>\n",
       "      <td>385177.0</td>\n",
       "      <td>801314.0</td>\n",
       "      <td>NJ851013</td>\n",
       "      <td>NaN</td>\n",
       "      <td>Aberdeen City</td>\n",
       "      <td>Lower Deeside</td>\n",
       "      <td>S12000033</td>\n",
       "      <td>S13002843</td>\n",
       "      <td>Scotland</td>\n",
       "      <td>S99999999</td>\n",
       "      <td>Aberdeen South</td>\n",
       "      <td>1980-01-01</td>\n",
       "      <td>1996-06-01</td>\n",
       "      <td>NaN</td>\n",
       "      <td>NaN</td>\n",
       "      <td>NaN</td>\n",
       "      <td>NaN</td>\n",
       "      <td>NaN</td>\n",
       "      <td>NaN</td>\n",
       "      <td>Cults, Bieldside and Milltimber West - 02</td>\n",
       "      <td>Accessible small town</td>\n",
       "      <td>NaN</td>\n",
       "      <td>61.0</td>\n",
       "      <td>NaN</td>\n",
       "      <td>S01006514</td>\n",
       "      <td>NaN</td>\n",
       "      <td>S02001237</td>\n",
       "      <td>Cults, Bieldside and Milltimber West</td>\n",
       "      <td>NaN</td>\n",
       "      <td>S00090303</td>\n",
       "      <td>S14000002</td>\n",
       "      <td>6808.0</td>\n",
       "      <td>1.0</td>\n",
       "      <td>0.0</td>\n",
       "      <td>2020-11-21</td>\n",
       "      <td>Portlethen</td>\n",
       "      <td>8.55457</td>\n",
       "      <td>AB</td>\n",
       "      <td>AB1</td>\n",
       "      <td>Scotland</td>\n",
       "      <td>Scottish Water</td>\n",
       "      <td>9C9V4Q33+2F</td>\n",
       "      <td>NaN</td>\n",
       "      <td>NaN</td>\n",
       "      <td>Aberdeen</td>\n",
       "    </tr>\n",
       "    <tr>\n",
       "      <th>2</th>\n",
       "      <td>AB1 0AD</td>\n",
       "      <td>No</td>\n",
       "      <td>57.100556</td>\n",
       "      <td>-2.248342</td>\n",
       "      <td>385053.0</td>\n",
       "      <td>801092.0</td>\n",
       "      <td>NJ850010</td>\n",
       "      <td>NaN</td>\n",
       "      <td>Aberdeen City</td>\n",
       "      <td>Lower Deeside</td>\n",
       "      <td>S12000033</td>\n",
       "      <td>S13002843</td>\n",
       "      <td>Scotland</td>\n",
       "      <td>S99999999</td>\n",
       "      <td>Aberdeen South</td>\n",
       "      <td>1980-01-01</td>\n",
       "      <td>1996-06-01</td>\n",
       "      <td>NaN</td>\n",
       "      <td>NaN</td>\n",
       "      <td>NaN</td>\n",
       "      <td>NaN</td>\n",
       "      <td>NaN</td>\n",
       "      <td>NaN</td>\n",
       "      <td>Cults, Bieldside and Milltimber West - 02</td>\n",
       "      <td>Accessible small town</td>\n",
       "      <td>NaN</td>\n",
       "      <td>45.0</td>\n",
       "      <td>NaN</td>\n",
       "      <td>S01006514</td>\n",
       "      <td>NaN</td>\n",
       "      <td>S02001237</td>\n",
       "      <td>Cults, Bieldside and Milltimber West</td>\n",
       "      <td>NaN</td>\n",
       "      <td>S00090399</td>\n",
       "      <td>S14000002</td>\n",
       "      <td>6808.0</td>\n",
       "      <td>1.0</td>\n",
       "      <td>0.0</td>\n",
       "      <td>2020-11-21</td>\n",
       "      <td>Portlethen</td>\n",
       "      <td>8.54352</td>\n",
       "      <td>AB</td>\n",
       "      <td>AB1</td>\n",
       "      <td>Scotland</td>\n",
       "      <td>Scottish Water</td>\n",
       "      <td>9C9V4Q22+6M</td>\n",
       "      <td>NaN</td>\n",
       "      <td>NaN</td>\n",
       "      <td>Aberdeen</td>\n",
       "    </tr>\n",
       "    <tr>\n",
       "      <th>3</th>\n",
       "      <td>AB1 0AE</td>\n",
       "      <td>No</td>\n",
       "      <td>57.084444</td>\n",
       "      <td>-2.255708</td>\n",
       "      <td>384600.0</td>\n",
       "      <td>799300.0</td>\n",
       "      <td>NO845992</td>\n",
       "      <td>NaN</td>\n",
       "      <td>Aberdeenshire</td>\n",
       "      <td>North Kincardine</td>\n",
       "      <td>S12000034</td>\n",
       "      <td>S13002864</td>\n",
       "      <td>Scotland</td>\n",
       "      <td>S99999999</td>\n",
       "      <td>West Aberdeenshire and Kincardine</td>\n",
       "      <td>1994-02-01</td>\n",
       "      <td>1996-06-01</td>\n",
       "      <td>NaN</td>\n",
       "      <td>NaN</td>\n",
       "      <td>NaN</td>\n",
       "      <td>NaN</td>\n",
       "      <td>NaN</td>\n",
       "      <td>NaN</td>\n",
       "      <td>Dunecht, Durris and Drumoak - 01</td>\n",
       "      <td>Accessible rural area</td>\n",
       "      <td>NaN</td>\n",
       "      <td>51.0</td>\n",
       "      <td>NaN</td>\n",
       "      <td>S01006853</td>\n",
       "      <td>NaN</td>\n",
       "      <td>S02001296</td>\n",
       "      <td>Dunecht, Durris and Drumoak</td>\n",
       "      <td>NaN</td>\n",
       "      <td>S00091322</td>\n",
       "      <td>S14000058</td>\n",
       "      <td>5503.0</td>\n",
       "      <td>8.0</td>\n",
       "      <td>0.0</td>\n",
       "      <td>2020-11-21</td>\n",
       "      <td>Portlethen</td>\n",
       "      <td>8.20809</td>\n",
       "      <td>AB</td>\n",
       "      <td>AB1</td>\n",
       "      <td>Scotland</td>\n",
       "      <td>Scottish Water</td>\n",
       "      <td>9C9V3PMV+QP</td>\n",
       "      <td>NaN</td>\n",
       "      <td>NaN</td>\n",
       "      <td>Aberdeen</td>\n",
       "    </tr>\n",
       "    <tr>\n",
       "      <th>4</th>\n",
       "      <td>AB1 0AF</td>\n",
       "      <td>No</td>\n",
       "      <td>57.096656</td>\n",
       "      <td>-2.258102</td>\n",
       "      <td>384460.0</td>\n",
       "      <td>800660.0</td>\n",
       "      <td>NJ844006</td>\n",
       "      <td>NaN</td>\n",
       "      <td>Aberdeen City</td>\n",
       "      <td>Lower Deeside</td>\n",
       "      <td>S12000033</td>\n",
       "      <td>S13002843</td>\n",
       "      <td>Scotland</td>\n",
       "      <td>S99999999</td>\n",
       "      <td>Aberdeen South</td>\n",
       "      <td>1990-12-01</td>\n",
       "      <td>1992-07-01</td>\n",
       "      <td>NaN</td>\n",
       "      <td>NaN</td>\n",
       "      <td>NaN</td>\n",
       "      <td>NaN</td>\n",
       "      <td>NaN</td>\n",
       "      <td>NaN</td>\n",
       "      <td>Culter - 06</td>\n",
       "      <td>Accessible small town</td>\n",
       "      <td>NaN</td>\n",
       "      <td>46.0</td>\n",
       "      <td>NaN</td>\n",
       "      <td>S01006511</td>\n",
       "      <td>NaN</td>\n",
       "      <td>S02001236</td>\n",
       "      <td>Culter</td>\n",
       "      <td>NaN</td>\n",
       "      <td>S00090299</td>\n",
       "      <td>S14000002</td>\n",
       "      <td>6668.0</td>\n",
       "      <td>8.0</td>\n",
       "      <td>1.0</td>\n",
       "      <td>2020-11-21</td>\n",
       "      <td>Portlethen</td>\n",
       "      <td>8.85583</td>\n",
       "      <td>AB</td>\n",
       "      <td>AB1</td>\n",
       "      <td>Scotland</td>\n",
       "      <td>Scottish Water</td>\n",
       "      <td>9C9V3PWR+MQ</td>\n",
       "      <td>NaN</td>\n",
       "      <td>NaN</td>\n",
       "      <td>Aberdeen</td>\n",
       "    </tr>\n",
       "  </tbody>\n",
       "</table>\n",
       "</div>"
      ],
      "text/plain": [
       "  Postcode In Use?  ...  Sewage Company  Travel To Work Area\n",
       "0  AB1 0AA      No  ...             NaN             Aberdeen\n",
       "1  AB1 0AB      No  ...             NaN             Aberdeen\n",
       "2  AB1 0AD      No  ...             NaN             Aberdeen\n",
       "3  AB1 0AE      No  ...             NaN             Aberdeen\n",
       "4  AB1 0AF      No  ...             NaN             Aberdeen\n",
       "\n",
       "[5 rows x 49 columns]"
      ]
     },
     "execution_count": 12,
     "metadata": {
      "tags": []
     },
     "output_type": "execute_result"
    }
   ],
   "source": [
    "postcode.head()"
   ]
  },
  {
   "cell_type": "code",
   "execution_count": 13,
   "metadata": {
    "executionInfo": {
     "elapsed": 813,
     "status": "ok",
     "timestamp": 1610102581415,
     "user": {
      "displayName": "Andrea Di Antonio",
      "photoUrl": "",
      "userId": "00274323577290199816"
     },
     "user_tz": 0
    },
    "id": "AtFV3DfFN7_a"
   },
   "outputs": [],
   "source": [
    "#Removing unnecessary columns to reduce the size and, therefore, the computational power required to process the dataframe\n",
    "postcode = postcode.drop(['Latitude', 'Longitude', 'Easting', 'Northing','Grid Ref','County','Introduced', 'Terminated',\n",
    "       'Parish', 'National Park','Households', 'Built up area',\n",
    "       'Built up sub-division', 'Lower layer super output area', 'Rural/urban',\n",
    "       'Region', 'Altitude', 'London zone', 'LSOA Code', 'Local authority',\n",
    "       'MSOA Code', 'Middle layer super output area', 'Parish Code',\n",
    "       'Census output area', 'Index of Multiple Deprivation', 'Quality', 'User Type', 'Last updated',\n",
    "       'Nearest station', 'Distance to station', 'Postcode area',\n",
    "       'Postcode district', 'Police force', 'Water company', 'Plus Code',\n",
    "       'Average Income', 'Sewage Company', 'Travel To Work Area'], axis = 1)"
   ]
  },
  {
   "cell_type": "code",
   "execution_count": 14,
   "metadata": {
    "executionInfo": {
     "elapsed": 1036,
     "status": "ok",
     "timestamp": 1610102582020,
     "user": {
      "displayName": "Andrea Di Antonio",
      "photoUrl": "",
      "userId": "00274323577290199816"
     },
     "user_tz": 0
    },
    "id": "YyI0RE5vN7_a"
   },
   "outputs": [],
   "source": [
    "#Selecting only the postcodes that are still in use\n",
    "postcode_sel = postcode.loc[postcode['In Use?']=='Yes'] \n",
    "postcode_sel.reset_index(inplace=True, drop=True)"
   ]
  },
  {
   "cell_type": "code",
   "execution_count": 15,
   "metadata": {
    "colab": {
     "base_uri": "https://localhost:8080/",
     "height": 204
    },
    "executionInfo": {
     "elapsed": 543,
     "status": "ok",
     "timestamp": 1610102582022,
     "user": {
      "displayName": "Andrea Di Antonio",
      "photoUrl": "",
      "userId": "00274323577290199816"
     },
     "user_tz": 0
    },
    "id": "OJYOCagGN7_a",
    "outputId": "d62c57b1-ed36-4306-ec39-994d097e97da"
   },
   "outputs": [
    {
     "data": {
      "text/html": [
       "<div>\n",
       "<style scoped>\n",
       "    .dataframe tbody tr th:only-of-type {\n",
       "        vertical-align: middle;\n",
       "    }\n",
       "\n",
       "    .dataframe tbody tr th {\n",
       "        vertical-align: top;\n",
       "    }\n",
       "\n",
       "    .dataframe thead th {\n",
       "        text-align: right;\n",
       "    }\n",
       "</style>\n",
       "<table border=\"1\" class=\"dataframe\">\n",
       "  <thead>\n",
       "    <tr style=\"text-align: right;\">\n",
       "      <th></th>\n",
       "      <th>Postcode</th>\n",
       "      <th>In Use?</th>\n",
       "      <th>District</th>\n",
       "      <th>Ward</th>\n",
       "      <th>District Code</th>\n",
       "      <th>Ward Code</th>\n",
       "      <th>Country</th>\n",
       "      <th>County Code</th>\n",
       "      <th>Constituency</th>\n",
       "      <th>Population</th>\n",
       "      <th>Constituency Code</th>\n",
       "    </tr>\n",
       "  </thead>\n",
       "  <tbody>\n",
       "    <tr>\n",
       "      <th>0</th>\n",
       "      <td>AB10 1AB</td>\n",
       "      <td>Yes</td>\n",
       "      <td>Aberdeen City</td>\n",
       "      <td>George St/Harbour</td>\n",
       "      <td>S12000033</td>\n",
       "      <td>S13002842</td>\n",
       "      <td>Scotland</td>\n",
       "      <td>S99999999</td>\n",
       "      <td>Aberdeen North</td>\n",
       "      <td>NaN</td>\n",
       "      <td>S14000001</td>\n",
       "    </tr>\n",
       "    <tr>\n",
       "      <th>1</th>\n",
       "      <td>AB10 1AF</td>\n",
       "      <td>Yes</td>\n",
       "      <td>Aberdeen City</td>\n",
       "      <td>George St/Harbour</td>\n",
       "      <td>S12000033</td>\n",
       "      <td>S13002842</td>\n",
       "      <td>Scotland</td>\n",
       "      <td>S99999999</td>\n",
       "      <td>Aberdeen North</td>\n",
       "      <td>NaN</td>\n",
       "      <td>S14000001</td>\n",
       "    </tr>\n",
       "    <tr>\n",
       "      <th>2</th>\n",
       "      <td>AB10 1AG</td>\n",
       "      <td>Yes</td>\n",
       "      <td>Aberdeen City</td>\n",
       "      <td>George St/Harbour</td>\n",
       "      <td>S12000033</td>\n",
       "      <td>S13002842</td>\n",
       "      <td>Scotland</td>\n",
       "      <td>S99999999</td>\n",
       "      <td>Aberdeen North</td>\n",
       "      <td>NaN</td>\n",
       "      <td>S14000001</td>\n",
       "    </tr>\n",
       "    <tr>\n",
       "      <th>3</th>\n",
       "      <td>AB10 1AH</td>\n",
       "      <td>Yes</td>\n",
       "      <td>Aberdeen City</td>\n",
       "      <td>George St/Harbour</td>\n",
       "      <td>S12000033</td>\n",
       "      <td>S13002842</td>\n",
       "      <td>Scotland</td>\n",
       "      <td>S99999999</td>\n",
       "      <td>Aberdeen North</td>\n",
       "      <td>NaN</td>\n",
       "      <td>S14000001</td>\n",
       "    </tr>\n",
       "    <tr>\n",
       "      <th>4</th>\n",
       "      <td>AB10 1AL</td>\n",
       "      <td>Yes</td>\n",
       "      <td>Aberdeen City</td>\n",
       "      <td>George St/Harbour</td>\n",
       "      <td>S12000033</td>\n",
       "      <td>S13002842</td>\n",
       "      <td>Scotland</td>\n",
       "      <td>S99999999</td>\n",
       "      <td>Aberdeen North</td>\n",
       "      <td>0.0</td>\n",
       "      <td>S14000001</td>\n",
       "    </tr>\n",
       "  </tbody>\n",
       "</table>\n",
       "</div>"
      ],
      "text/plain": [
       "   Postcode In Use?  ... Population Constituency Code\n",
       "0  AB10 1AB     Yes  ...        NaN         S14000001\n",
       "1  AB10 1AF     Yes  ...        NaN         S14000001\n",
       "2  AB10 1AG     Yes  ...        NaN         S14000001\n",
       "3  AB10 1AH     Yes  ...        NaN         S14000001\n",
       "4  AB10 1AL     Yes  ...        0.0         S14000001\n",
       "\n",
       "[5 rows x 11 columns]"
      ]
     },
     "execution_count": 15,
     "metadata": {
      "tags": []
     },
     "output_type": "execute_result"
    }
   ],
   "source": [
    "postcode_sel.head()"
   ]
  },
  {
   "cell_type": "code",
   "execution_count": 16,
   "metadata": {
    "colab": {
     "base_uri": "https://localhost:8080/"
    },
    "executionInfo": {
     "elapsed": 895,
     "status": "ok",
     "timestamp": 1610102583354,
     "user": {
      "displayName": "Andrea Di Antonio",
      "photoUrl": "",
      "userId": "00274323577290199816"
     },
     "user_tz": 0
    },
    "id": "XyK7Q5V4N7_a",
    "outputId": "2703266b-d013-4464-8631-2c542332a531"
   },
   "outputs": [
    {
     "name": "stdout",
     "output_type": "stream",
     "text": [
      "Missing 0.00% of Postcode data\n",
      "Missing 0.08% of District data\n",
      "Missing 0.08% of Constituency data\n",
      "Missing 15.62% of Population data\n"
     ]
    }
   ],
   "source": [
    "#Calculate the percentage of missing data in the dataframe\n",
    "\n",
    "print('Missing {per:.2f}% of Postcode data'.format(per = postcode_sel['Postcode'].isnull().values.sum()/len(postcode_sel)*100)) \n",
    "print('Missing {per:.2f}% of District data'.format(per =postcode_sel['District'].isnull().values.sum()/len(postcode_sel)*100))\n",
    "print('Missing {per:.2f}% of Constituency data'.format(per =postcode_sel['Constituency'].isnull().values.sum()/len(postcode_sel)*100))\n",
    "print('Missing {per:.2f}% of Population data'.format(per =postcode_sel['Population'].isnull().values.sum()/len(postcode_sel)*100))"
   ]
  },
  {
   "cell_type": "code",
   "execution_count": 19,
   "metadata": {
    "colab": {
     "base_uri": "https://localhost:8080/"
    },
    "executionInfo": {
     "elapsed": 547,
     "status": "ok",
     "timestamp": 1610102593219,
     "user": {
      "displayName": "Andrea Di Antonio",
      "photoUrl": "",
      "userId": "00274323577290199816"
     },
     "user_tz": 0
    },
    "id": "WKDBTrVWN7_b",
    "outputId": "4f733c33-e239-4da2-da64-edacd793e268"
   },
   "outputs": [
    {
     "data": {
      "text/plain": [
       "0           0.0\n",
       "1           0.0\n",
       "2           0.0\n",
       "3           0.0\n",
       "4           0.0\n",
       "           ... \n",
       "1760648    46.0\n",
       "1760649    27.0\n",
       "1760650    28.0\n",
       "1760651    23.0\n",
       "1760652    56.0\n",
       "Name: Population, Length: 1760653, dtype: float64"
      ]
     },
     "execution_count": 19,
     "metadata": {
      "tags": []
     },
     "output_type": "execute_result"
    }
   ],
   "source": [
    "#Replace NaN values in the population column with zeros\n",
    "postcode_sel['Population'].fillna(0)"
   ]
  },
  {
   "cell_type": "code",
   "execution_count": 20,
   "metadata": {
    "colab": {
     "base_uri": "https://localhost:8080/",
     "height": 204
    },
    "executionInfo": {
     "elapsed": 467,
     "status": "ok",
     "timestamp": 1610102594621,
     "user": {
      "displayName": "Andrea Di Antonio",
      "photoUrl": "",
      "userId": "00274323577290199816"
     },
     "user_tz": 0
    },
    "id": "m4dSXDwVN7_b",
    "outputId": "4ca941b0-fef5-4d28-981b-c8bc8dee3f65"
   },
   "outputs": [
    {
     "data": {
      "text/html": [
       "<div>\n",
       "<style scoped>\n",
       "    .dataframe tbody tr th:only-of-type {\n",
       "        vertical-align: middle;\n",
       "    }\n",
       "\n",
       "    .dataframe tbody tr th {\n",
       "        vertical-align: top;\n",
       "    }\n",
       "\n",
       "    .dataframe thead th {\n",
       "        text-align: right;\n",
       "    }\n",
       "</style>\n",
       "<table border=\"1\" class=\"dataframe\">\n",
       "  <thead>\n",
       "    <tr style=\"text-align: right;\">\n",
       "      <th></th>\n",
       "      <th>Postcode</th>\n",
       "      <th>In Use?</th>\n",
       "      <th>District</th>\n",
       "      <th>Ward</th>\n",
       "      <th>District Code</th>\n",
       "      <th>Ward Code</th>\n",
       "      <th>Country</th>\n",
       "      <th>County Code</th>\n",
       "      <th>Constituency</th>\n",
       "      <th>Population</th>\n",
       "      <th>Constituency Code</th>\n",
       "    </tr>\n",
       "  </thead>\n",
       "  <tbody>\n",
       "    <tr>\n",
       "      <th>0</th>\n",
       "      <td>AB10 1AB</td>\n",
       "      <td>Yes</td>\n",
       "      <td>Aberdeen City</td>\n",
       "      <td>George St/Harbour</td>\n",
       "      <td>S12000033</td>\n",
       "      <td>S13002842</td>\n",
       "      <td>Scotland</td>\n",
       "      <td>S99999999</td>\n",
       "      <td>Aberdeen North</td>\n",
       "      <td>NaN</td>\n",
       "      <td>S14000001</td>\n",
       "    </tr>\n",
       "    <tr>\n",
       "      <th>1</th>\n",
       "      <td>AB10 1AF</td>\n",
       "      <td>Yes</td>\n",
       "      <td>Aberdeen City</td>\n",
       "      <td>George St/Harbour</td>\n",
       "      <td>S12000033</td>\n",
       "      <td>S13002842</td>\n",
       "      <td>Scotland</td>\n",
       "      <td>S99999999</td>\n",
       "      <td>Aberdeen North</td>\n",
       "      <td>NaN</td>\n",
       "      <td>S14000001</td>\n",
       "    </tr>\n",
       "    <tr>\n",
       "      <th>2</th>\n",
       "      <td>AB10 1AG</td>\n",
       "      <td>Yes</td>\n",
       "      <td>Aberdeen City</td>\n",
       "      <td>George St/Harbour</td>\n",
       "      <td>S12000033</td>\n",
       "      <td>S13002842</td>\n",
       "      <td>Scotland</td>\n",
       "      <td>S99999999</td>\n",
       "      <td>Aberdeen North</td>\n",
       "      <td>NaN</td>\n",
       "      <td>S14000001</td>\n",
       "    </tr>\n",
       "    <tr>\n",
       "      <th>3</th>\n",
       "      <td>AB10 1AH</td>\n",
       "      <td>Yes</td>\n",
       "      <td>Aberdeen City</td>\n",
       "      <td>George St/Harbour</td>\n",
       "      <td>S12000033</td>\n",
       "      <td>S13002842</td>\n",
       "      <td>Scotland</td>\n",
       "      <td>S99999999</td>\n",
       "      <td>Aberdeen North</td>\n",
       "      <td>NaN</td>\n",
       "      <td>S14000001</td>\n",
       "    </tr>\n",
       "    <tr>\n",
       "      <th>4</th>\n",
       "      <td>AB10 1AL</td>\n",
       "      <td>Yes</td>\n",
       "      <td>Aberdeen City</td>\n",
       "      <td>George St/Harbour</td>\n",
       "      <td>S12000033</td>\n",
       "      <td>S13002842</td>\n",
       "      <td>Scotland</td>\n",
       "      <td>S99999999</td>\n",
       "      <td>Aberdeen North</td>\n",
       "      <td>0.0</td>\n",
       "      <td>S14000001</td>\n",
       "    </tr>\n",
       "  </tbody>\n",
       "</table>\n",
       "</div>"
      ],
      "text/plain": [
       "   Postcode In Use?  ... Population Constituency Code\n",
       "0  AB10 1AB     Yes  ...        NaN         S14000001\n",
       "1  AB10 1AF     Yes  ...        NaN         S14000001\n",
       "2  AB10 1AG     Yes  ...        NaN         S14000001\n",
       "3  AB10 1AH     Yes  ...        NaN         S14000001\n",
       "4  AB10 1AL     Yes  ...        0.0         S14000001\n",
       "\n",
       "[5 rows x 11 columns]"
      ]
     },
     "execution_count": 20,
     "metadata": {
      "tags": []
     },
     "output_type": "execute_result"
    }
   ],
   "source": [
    "postcode_sel.head()"
   ]
  },
  {
   "cell_type": "code",
   "execution_count": 22,
   "metadata": {
    "colab": {
     "base_uri": "https://localhost:8080/"
    },
    "executionInfo": {
     "elapsed": 514,
     "status": "ok",
     "timestamp": 1610102608648,
     "user": {
      "displayName": "Andrea Di Antonio",
      "photoUrl": "",
      "userId": "00274323577290199816"
     },
     "user_tz": 0
    },
    "id": "el3bSx3dN7_b",
    "outputId": "15786537-7269-417e-e868-d561bf525cb1"
   },
   "outputs": [
    {
     "name": "stdout",
     "output_type": "stream",
     "text": [
      "Percentage difference in population 5.44 %\n"
     ]
    }
   ],
   "source": [
    "#Calculate what is the percentage difference between the total UK population calculated using the data\n",
    "#from the postcode_sel DataFrame and the actual value\n",
    "\n",
    "population_sum = postcode_sel['Population'].sum()\n",
    "uk_population = 66.65*10**6\n",
    "\n",
    "print( 'Percentage difference in population {per:.2f} %'.format( per = abs(population_sum-uk_population)/uk_population*100 ))"
   ]
  },
  {
   "cell_type": "markdown",
   "metadata": {
    "id": "FseEPPBzN7_b"
   },
   "source": [
    "The realatively small difference between the values allows to categorise the missing information about the population as negligile overall. This, however, can still have a significant impact locally. "
   ]
  },
  {
   "cell_type": "code",
   "execution_count": 23,
   "metadata": {
    "executionInfo": {
     "elapsed": 743,
     "status": "ok",
     "timestamp": 1610102610794,
     "user": {
      "displayName": "Andrea Di Antonio",
      "photoUrl": "",
      "userId": "00274323577290199816"
     },
     "user_tz": 0
    },
    "id": "gkxNJMi0N7_c"
   },
   "outputs": [],
   "source": [
    "#Create a list containing the name of the District associated with the postcodes. \n",
    "#These should correspond to the local authority names in the 'electric-vehicle-charging-device-statistics-october-2020' file. \n",
    "\n",
    "district = postcode_sel['District'].unique().tolist()\n",
    "\n",
    "#district=[]\n",
    "#for item in postcode_sel['District']:\n",
    " #   if item not in district:\n",
    "  #      district.append(item)"
   ]
  },
  {
   "cell_type": "code",
   "execution_count": 24,
   "metadata": {
    "executionInfo": {
     "elapsed": 291,
     "status": "ok",
     "timestamp": 1610102611025,
     "user": {
      "displayName": "Andrea Di Antonio",
      "photoUrl": "",
      "userId": "00274323577290199816"
     },
     "user_tz": 0
    },
    "id": "kv0ZHFo4N7_c"
   },
   "outputs": [],
   "source": [
    "#Remove any non string value from the district list\n",
    "for item in district: \n",
    "    if not isinstance(item,str):\n",
    "        district.remove(item)"
   ]
  },
  {
   "cell_type": "code",
   "execution_count": 25,
   "metadata": {
    "executionInfo": {
     "elapsed": 561,
     "status": "ok",
     "timestamp": 1610102611928,
     "user": {
      "displayName": "Andrea Di Antonio",
      "photoUrl": "",
      "userId": "00274323577290199816"
     },
     "user_tz": 0
    },
    "id": "bnLiCiOHN7_c"
   },
   "outputs": [],
   "source": [
    "#Create a list containing the name of the 650 UK constituencies. \n",
    "\n",
    "constituency = postcode_sel['Constituency'].unique().tolist() \n",
    "\n",
    "#constituency=[]\n",
    "#for item in postcode_sel['Constituency']:\n",
    "#    if item not in constituency:\n",
    "#        constituency.append(item)"
   ]
  },
  {
   "cell_type": "code",
   "execution_count": 26,
   "metadata": {
    "executionInfo": {
     "elapsed": 322,
     "status": "ok",
     "timestamp": 1610102612432,
     "user": {
      "displayName": "Andrea Di Antonio",
      "photoUrl": "",
      "userId": "00274323577290199816"
     },
     "user_tz": 0
    },
    "id": "wWUam9XWN7_c"
   },
   "outputs": [],
   "source": [
    "#Remove any non string value from the constituency list\n",
    "for item in constituency: \n",
    "    if not isinstance(item,str):\n",
    "        constituency.remove(item)"
   ]
  },
  {
   "cell_type": "code",
   "execution_count": 27,
   "metadata": {
    "executionInfo": {
     "elapsed": 62693,
     "status": "ok",
     "timestamp": 1610102675447,
     "user": {
      "displayName": "Andrea Di Antonio",
      "photoUrl": "",
      "userId": "00274323577290199816"
     },
     "user_tz": 0
    },
    "id": "WdlqKEDMN7_c"
   },
   "outputs": [],
   "source": [
    "#Create a dictionary to associate each constituency with the corresponding population\n",
    "\n",
    "dic_population = {item:int(postcode_sel.loc[postcode_sel['Constituency']==item]['Population'].sum()) for item in constituency}"
   ]
  },
  {
   "cell_type": "code",
   "execution_count": 28,
   "metadata": {
    "executionInfo": {
     "elapsed": 125340,
     "status": "ok",
     "timestamp": 1610102738510,
     "user": {
      "displayName": "Andrea Di Antonio",
      "photoUrl": "",
      "userId": "00274323577290199816"
     },
     "user_tz": 0
    },
    "id": "9enwz6WzN7_c"
   },
   "outputs": [],
   "source": [
    "#Create a dictionary to associate each constituency with the corresponding postcodes\n",
    "\n",
    "dic_constituency = {item:'' for item in constituency}\n",
    "for item in constituency: \n",
    "    list_val = postcode_sel.loc[postcode_sel['Constituency']==item]['Postcode'].values\n",
    "    list_val_sel=[]\n",
    "    for val in list_val:\n",
    "        lval = val.split(' ')[0]\n",
    "        if lval not in list_val_sel:\n",
    "            list_val_sel.append(lval)\n",
    "    dic_constituency[item] = list_val_sel"
   ]
  },
  {
   "cell_type": "code",
   "execution_count": 29,
   "metadata": {
    "executionInfo": {
     "elapsed": 162370,
     "status": "ok",
     "timestamp": 1610102775936,
     "user": {
      "displayName": "Andrea Di Antonio",
      "photoUrl": "",
      "userId": "00274323577290199816"
     },
     "user_tz": 0
    },
    "id": "hj0rPynbN7_d"
   },
   "outputs": [],
   "source": [
    "#Create a dictionary to associate each DISTRICT with the corresponding postcodes\n",
    "\n",
    "dic_district = {item:'' for item in district}\n",
    "for item in district: \n",
    "    list_val = postcode_sel.loc[postcode_sel['District']==item]['Postcode'].values\n",
    "    list_val_sel=[]\n",
    "    for val in list_val:\n",
    "        lval = val.split(' ')[0]\n",
    "        if lval not in list_val_sel:\n",
    "            list_val_sel.append(lval)\n",
    "    dic_district[item] = list_val_sel"
   ]
  },
  {
   "cell_type": "code",
   "execution_count": 30,
   "metadata": {
    "executionInfo": {
     "elapsed": 198253,
     "status": "ok",
     "timestamp": 1610102812239,
     "user": {
      "displayName": "Andrea Di Antonio",
      "photoUrl": "",
      "userId": "00274323577290199816"
     },
     "user_tz": 0
    },
    "id": "BW2xqj2_N7_d"
   },
   "outputs": [],
   "source": [
    "#Create a dictionary to associate each DISTRICT with the corresponding population\n",
    "\n",
    "dic_dist_population = {item:int(postcode_sel.loc[postcode_sel['District']==item]['Population'].sum()) for item in district}"
   ]
  },
  {
   "cell_type": "code",
   "execution_count": 31,
   "metadata": {
    "executionInfo": {
     "elapsed": 259747,
     "status": "ok",
     "timestamp": 1610102874086,
     "user": {
      "displayName": "Andrea Di Antonio",
      "photoUrl": "",
      "userId": "00274323577290199816"
     },
     "user_tz": 0
    },
    "id": "7j47W9AnN7_d"
   },
   "outputs": [],
   "source": [
    "#Create a dictionary to associate each constituency with the corresponding local authorities\n",
    "\n",
    "dic_constituency_district = {item:'' for item in constituency}\n",
    "for item in constituency: \n",
    "    list_val = postcode_sel.loc[postcode_sel['Constituency']==item]['District'].values\n",
    "    list_val_sel=[]\n",
    "    for val in list_val:\n",
    "        if val not in list_val_sel:\n",
    "            list_val_sel.append(val)\n",
    "    dic_constituency_district[item] = list_val_sel"
   ]
  },
  {
   "cell_type": "markdown",
   "metadata": {
    "id": "zgNgm9aFN7_d"
   },
   "source": [
    "# Import public charging devices tables"
   ]
  },
  {
   "cell_type": "code",
   "execution_count": 32,
   "metadata": {
    "executionInfo": {
     "elapsed": 256661,
     "status": "ok",
     "timestamp": 1610102874807,
     "user": {
      "displayName": "Andrea Di Antonio",
      "photoUrl": "",
      "userId": "00274323577290199816"
     },
     "user_tz": 0
    },
    "id": "UdRgjIMZN7_e"
   },
   "outputs": [],
   "source": [
    "dft_charging_devices_available = read_ods('electric-vehicle-charging-device-statistics-october-2020.ods', 'EVCD_01', headers=False) "
   ]
  },
  {
   "cell_type": "code",
   "execution_count": 33,
   "metadata": {
    "executionInfo": {
     "elapsed": 256046,
     "status": "ok",
     "timestamp": 1610102874808,
     "user": {
      "displayName": "Andrea Di Antonio",
      "photoUrl": "",
      "userId": "00274323577290199816"
     },
     "user_tz": 0
    },
    "id": "xTrcla5hN7_e"
   },
   "outputs": [],
   "source": [
    "dft_charging_devices_available.columns = dft_charging_devices_available.iloc[6].values #Assign the values on the 7th column as column names\n",
    "dft_charging_devices_available = dft_charging_devices_available.iloc[7:-16,:] #Select only the rows with meaninging values in the table (i.e. removing text)\n",
    "dft_charging_devices_available.reset_index(inplace=True, drop=True) #reset the index"
   ]
  },
  {
   "cell_type": "code",
   "execution_count": 34,
   "metadata": {
    "colab": {
     "base_uri": "https://localhost:8080/",
     "height": 221
    },
    "executionInfo": {
     "elapsed": 255435,
     "status": "ok",
     "timestamp": 1610102874809,
     "user": {
      "displayName": "Andrea Di Antonio",
      "photoUrl": "",
      "userId": "00274323577290199816"
     },
     "user_tz": 0
    },
    "id": "Xe4qdv8qN7_f",
    "outputId": "a709980d-137c-4b08-d742-5b34ec98d4dd"
   },
   "outputs": [
    {
     "data": {
      "text/html": [
       "<div>\n",
       "<style scoped>\n",
       "    .dataframe tbody tr th:only-of-type {\n",
       "        vertical-align: middle;\n",
       "    }\n",
       "\n",
       "    .dataframe tbody tr th {\n",
       "        vertical-align: top;\n",
       "    }\n",
       "\n",
       "    .dataframe thead th {\n",
       "        text-align: right;\n",
       "    }\n",
       "</style>\n",
       "<table border=\"1\" class=\"dataframe\">\n",
       "  <thead>\n",
       "    <tr style=\"text-align: right;\">\n",
       "      <th></th>\n",
       "      <th>LA / Region Code</th>\n",
       "      <th>Local Authority / Region Name</th>\n",
       "      <th>Total public\\ncharging devices</th>\n",
       "      <th>Total public rapid\\ncharging devices</th>\n",
       "      <th>Charging devices per\\n100,000 population</th>\n",
       "      <th>Rapid Devices per\\n100,000 population</th>\n",
       "    </tr>\n",
       "  </thead>\n",
       "  <tbody>\n",
       "    <tr>\n",
       "      <th>0</th>\n",
       "      <td>K02000001</td>\n",
       "      <td>UNITED KINGDOM</td>\n",
       "      <td>19487</td>\n",
       "      <td>3530</td>\n",
       "      <td>29.1736</td>\n",
       "      <td>5.28468</td>\n",
       "    </tr>\n",
       "    <tr>\n",
       "      <th>1</th>\n",
       "      <td>K03000001</td>\n",
       "      <td>GREAT BRITAIN</td>\n",
       "      <td>19169</td>\n",
       "      <td>3508</td>\n",
       "      <td>29.5348</td>\n",
       "      <td>5.40498</td>\n",
       "    </tr>\n",
       "    <tr>\n",
       "      <th>2</th>\n",
       "      <td>E92000001</td>\n",
       "      <td>ENGLAND</td>\n",
       "      <td>16456</td>\n",
       "      <td>2909</td>\n",
       "      <td>29.2359</td>\n",
       "      <td>5.16816</td>\n",
       "    </tr>\n",
       "    <tr>\n",
       "      <th>3</th>\n",
       "      <td>E12000001</td>\n",
       "      <td>NORTH EAST</td>\n",
       "      <td>849</td>\n",
       "      <td>156</td>\n",
       "      <td>31.7985</td>\n",
       "      <td>5.84283</td>\n",
       "    </tr>\n",
       "    <tr>\n",
       "      <th>4</th>\n",
       "      <td>E06000047</td>\n",
       "      <td>County Durham</td>\n",
       "      <td>106</td>\n",
       "      <td>15</td>\n",
       "      <td>19.9965</td>\n",
       "      <td>2.82969</td>\n",
       "    </tr>\n",
       "  </tbody>\n",
       "</table>\n",
       "</div>"
      ],
      "text/plain": [
       "  LA / Region Code  ... Rapid Devices per\\n100,000 population\n",
       "0        K02000001  ...                               5.28468\n",
       "1        K03000001  ...                               5.40498\n",
       "2        E92000001  ...                               5.16816\n",
       "3        E12000001  ...                               5.84283\n",
       "4        E06000047  ...                               2.82969\n",
       "\n",
       "[5 rows x 6 columns]"
      ]
     },
     "execution_count": 34,
     "metadata": {
      "tags": []
     },
     "output_type": "execute_result"
    }
   ],
   "source": [
    "dft_charging_devices_available.head()"
   ]
  },
  {
   "cell_type": "code",
   "execution_count": 35,
   "metadata": {
    "colab": {
     "base_uri": "https://localhost:8080/"
    },
    "executionInfo": {
     "elapsed": 253030,
     "status": "ok",
     "timestamp": 1610102874809,
     "user": {
      "displayName": "Andrea Di Antonio",
      "photoUrl": "",
      "userId": "00274323577290199816"
     },
     "user_tz": 0
    },
    "id": "WxBiLuTwN7_f",
    "outputId": "b54cdc0c-81d6-4d1a-987d-1c6b9d3e1ab2"
   },
   "outputs": [
    {
     "name": "stdout",
     "output_type": "stream",
     "text": [
      "Missing 1.40% of entire data\n"
     ]
    }
   ],
   "source": [
    "print('Missing {per:.2f}% of entire data'.format(per = dft_charging_devices_available.isnull().values.sum()/len(dft_charging_devices_available)*100)) "
   ]
  },
  {
   "cell_type": "code",
   "execution_count": 36,
   "metadata": {
    "executionInfo": {
     "elapsed": 252389,
     "status": "ok",
     "timestamp": 1610102874810,
     "user": {
      "displayName": "Andrea Di Antonio",
      "photoUrl": "",
      "userId": "00274323577290199816"
     },
     "user_tz": 0
    },
    "id": "F4KfhcNEN7_f",
    "scrolled": true
   },
   "outputs": [],
   "source": [
    "dft_charging_devices_available = dft_charging_devices_available.dropna() #Removing rows containing NaN values "
   ]
  },
  {
   "cell_type": "code",
   "execution_count": 37,
   "metadata": {
    "colab": {
     "base_uri": "https://localhost:8080/",
     "height": 204
    },
    "executionInfo": {
     "elapsed": 251973,
     "status": "ok",
     "timestamp": 1610102875020,
     "user": {
      "displayName": "Andrea Di Antonio",
      "photoUrl": "",
      "userId": "00274323577290199816"
     },
     "user_tz": 0
    },
    "id": "TZ8B8m6JN7_g",
    "outputId": "62233440-ba17-44dc-e132-e9c602c54c9a"
   },
   "outputs": [
    {
     "data": {
      "text/html": [
       "<div>\n",
       "<style scoped>\n",
       "    .dataframe tbody tr th:only-of-type {\n",
       "        vertical-align: middle;\n",
       "    }\n",
       "\n",
       "    .dataframe tbody tr th {\n",
       "        vertical-align: top;\n",
       "    }\n",
       "\n",
       "    .dataframe thead th {\n",
       "        text-align: right;\n",
       "    }\n",
       "</style>\n",
       "<table border=\"1\" class=\"dataframe\">\n",
       "  <thead>\n",
       "    <tr style=\"text-align: right;\">\n",
       "      <th></th>\n",
       "      <th>Year</th>\n",
       "      <th>Quarter</th>\n",
       "      <th>Total  Devices</th>\n",
       "      <th>Rapid Devices</th>\n",
       "    </tr>\n",
       "  </thead>\n",
       "  <tbody>\n",
       "    <tr>\n",
       "      <th>0</th>\n",
       "      <td>2015.0</td>\n",
       "      <td>Q1</td>\n",
       "      <td>2664.0</td>\n",
       "      <td>249.0</td>\n",
       "    </tr>\n",
       "    <tr>\n",
       "      <th>1</th>\n",
       "      <td>2015.0</td>\n",
       "      <td>Q2</td>\n",
       "      <td>2910.0</td>\n",
       "      <td>301.0</td>\n",
       "    </tr>\n",
       "    <tr>\n",
       "      <th>2</th>\n",
       "      <td>2015.0</td>\n",
       "      <td>Q3</td>\n",
       "      <td>3248.0</td>\n",
       "      <td>431.0</td>\n",
       "    </tr>\n",
       "    <tr>\n",
       "      <th>3</th>\n",
       "      <td>2015.0</td>\n",
       "      <td>Q4</td>\n",
       "      <td>3672.0</td>\n",
       "      <td>693.0</td>\n",
       "    </tr>\n",
       "    <tr>\n",
       "      <th>4</th>\n",
       "      <td>2016.0</td>\n",
       "      <td>Q1</td>\n",
       "      <td>3916.0</td>\n",
       "      <td>781.0</td>\n",
       "    </tr>\n",
       "  </tbody>\n",
       "</table>\n",
       "</div>"
      ],
      "text/plain": [
       "     Year Quarter  Total  Devices  Rapid Devices\n",
       "0  2015.0     Q1           2664.0          249.0\n",
       "1  2015.0      Q2          2910.0          301.0\n",
       "2  2015.0      Q3          3248.0          431.0\n",
       "3  2015.0      Q4          3672.0          693.0\n",
       "4  2016.0     Q1           3916.0          781.0"
      ]
     },
     "execution_count": 37,
     "metadata": {
      "tags": []
     },
     "output_type": "execute_result"
    }
   ],
   "source": [
    "dft_charging_devices_quarter = read_ods('electric-vehicle-charging-device-statistics-october-2020.ods', 'EVCD_02', headers=False) \n",
    "dft_charging_devices_quarter.columns = dft_charging_devices_quarter.iloc[6].values #Assign the values on the 7th column as column names\n",
    "dft_charging_devices_quarter = dft_charging_devices_quarter.iloc[7:30,:-1] #Select only the rows with meaninging values in the table (i.e. removing text)\n",
    "dft_charging_devices_quarter.reset_index(inplace=True, drop=True)\n",
    "dft_charging_devices_quarter = dft_charging_devices_quarter.fillna(method='ffill')\n",
    "dft_charging_devices_quarter.head()"
   ]
  },
  {
   "cell_type": "code",
   "execution_count": 38,
   "metadata": {
    "colab": {
     "base_uri": "https://localhost:8080/",
     "height": 204
    },
    "executionInfo": {
     "elapsed": 131796,
     "status": "ok",
     "timestamp": 1610102875021,
     "user": {
      "displayName": "Andrea Di Antonio",
      "photoUrl": "",
      "userId": "00274323577290199816"
     },
     "user_tz": 0
    },
    "id": "RI767sYGG_Qi",
    "outputId": "413d79c5-f57c-4361-ac3c-b74808aeac35"
   },
   "outputs": [
    {
     "data": {
      "text/html": [
       "<div>\n",
       "<style scoped>\n",
       "    .dataframe tbody tr th:only-of-type {\n",
       "        vertical-align: middle;\n",
       "    }\n",
       "\n",
       "    .dataframe tbody tr th {\n",
       "        vertical-align: top;\n",
       "    }\n",
       "\n",
       "    .dataframe thead th {\n",
       "        text-align: right;\n",
       "    }\n",
       "</style>\n",
       "<table border=\"1\" class=\"dataframe\">\n",
       "  <thead>\n",
       "    <tr style=\"text-align: right;\">\n",
       "      <th></th>\n",
       "      <th>Year</th>\n",
       "      <th>Quarter</th>\n",
       "      <th>Total  Devices</th>\n",
       "      <th>Rapid Devices</th>\n",
       "    </tr>\n",
       "  </thead>\n",
       "  <tbody>\n",
       "    <tr>\n",
       "      <th>18</th>\n",
       "      <td>2019.0</td>\n",
       "      <td>Q3</td>\n",
       "      <td>15116.0</td>\n",
       "      <td>2495.0</td>\n",
       "    </tr>\n",
       "    <tr>\n",
       "      <th>19</th>\n",
       "      <td>2019.0</td>\n",
       "      <td>Q4</td>\n",
       "      <td>16505.0</td>\n",
       "      <td>2829.0</td>\n",
       "    </tr>\n",
       "    <tr>\n",
       "      <th>20</th>\n",
       "      <td>2020.0</td>\n",
       "      <td>Q1</td>\n",
       "      <td>17947.0</td>\n",
       "      <td>3107.0</td>\n",
       "    </tr>\n",
       "    <tr>\n",
       "      <th>21</th>\n",
       "      <td>2020.0</td>\n",
       "      <td>Q2</td>\n",
       "      <td>18265.0</td>\n",
       "      <td>3206.0</td>\n",
       "    </tr>\n",
       "    <tr>\n",
       "      <th>22</th>\n",
       "      <td>2020.0</td>\n",
       "      <td>Q3</td>\n",
       "      <td>19487.0</td>\n",
       "      <td>3530.0</td>\n",
       "    </tr>\n",
       "  </tbody>\n",
       "</table>\n",
       "</div>"
      ],
      "text/plain": [
       "      Year Quarter  Total  Devices  Rapid Devices\n",
       "18  2019.0      Q3         15116.0         2495.0\n",
       "19  2019.0      Q4         16505.0         2829.0\n",
       "20  2020.0     Q1          17947.0         3107.0\n",
       "21  2020.0      Q2         18265.0         3206.0\n",
       "22  2020.0      Q3         19487.0         3530.0"
      ]
     },
     "execution_count": 38,
     "metadata": {
      "tags": []
     },
     "output_type": "execute_result"
    }
   ],
   "source": [
    "dft_charging_devices_quarter.tail()"
   ]
  },
  {
   "cell_type": "code",
   "execution_count": 39,
   "metadata": {
    "executionInfo": {
     "elapsed": 127465,
     "status": "ok",
     "timestamp": 1610102875023,
     "user": {
      "displayName": "Andrea Di Antonio",
      "photoUrl": "",
      "userId": "00274323577290199816"
     },
     "user_tz": 0
    },
    "id": "IqiRVcffmy8N"
   },
   "outputs": [],
   "source": [
    "df_charges_quarter = pd.DataFrame(dft_charging_devices_quarter['Total  Devices'])\n",
    "df_charges_quarter['Time'] = [str(j)+' '+'Q'+str(i)  for j in range(2015,2021) for i in range(1,5)][:-1]\n",
    "df_charges_quarter =  df_charges_quarter.set_index('Time')"
   ]
  },
  {
   "cell_type": "code",
   "execution_count": 40,
   "metadata": {
    "colab": {
     "base_uri": "https://localhost:8080/",
     "height": 298
    },
    "executionInfo": {
     "elapsed": 127353,
     "status": "ok",
     "timestamp": 1610102875316,
     "user": {
      "displayName": "Andrea Di Antonio",
      "photoUrl": "",
      "userId": "00274323577290199816"
     },
     "user_tz": 0
    },
    "id": "ij4vZiJFV4eq",
    "outputId": "105f02cd-ac77-4445-d47b-720e2e8b6491"
   },
   "outputs": [
    {
     "data": {
      "image/png": "[encoded data removed]",
      "text/plain": [
       "<Figure size 432x288 with 1 Axes>"
      ]
     },
     "metadata": {
      "needs_background": "light",
      "tags": []
     },
     "output_type": "display_data"
    }
   ],
   "source": [
    "## Plot the trend of the publicly available charging devices in the UK between Q1 2015 and Q3 2020 ##\n",
    "\n",
    "plt.bar(df_charges_quarter.index,df_charges_quarter['Total  Devices'],.8)\n",
    "plt.xticks(rotation = 90)\n",
    "plt.ylabel('Number of Public Charge points')\n",
    "plt.show()"
   ]
  },
  {
   "cell_type": "markdown",
   "metadata": {
    "id": "a42uh-fUN7_g"
   },
   "source": [
    "# Import vehicles tables"
   ]
  },
  {
   "cell_type": "code",
   "execution_count": 52,
   "metadata": {
    "executionInfo": {
     "elapsed": 3390,
     "status": "ok",
     "timestamp": 1610107934869,
     "user": {
      "displayName": "Andrea Di Antonio",
      "photoUrl": "",
      "userId": "00274323577290199816"
     },
     "user_tz": 0
    },
    "id": "yFnV4JG1N7_g"
   },
   "outputs": [],
   "source": [
    "#Import Ultra Low Emission Vehicles (ULEVs) table\n",
    "dft_ulev_import = read_ods('veh0134.ods', 'VEH0134a')\n",
    "dft_ulev = dft_ulev_import[6:-14]\n",
    "dft_ulev.columns = dft_ulev_import.iloc[5].values\n",
    "dft_ulev.reset_index(inplace=True, drop=True)"
   ]
  },
  {
   "cell_type": "code",
   "execution_count": 53,
   "metadata": {
    "colab": {
     "base_uri": "https://localhost:8080/"
    },
    "executionInfo": {
     "elapsed": 520,
     "status": "ok",
     "timestamp": 1610107938074,
     "user": {
      "displayName": "Andrea Di Antonio",
      "photoUrl": "",
      "userId": "00274323577290199816"
     },
     "user_tz": 0
    },
    "id": "nFw-0pkSN7_g",
    "outputId": "38263506-e84e-4d49-a301-94ee7a866043",
    "scrolled": true
   },
   "outputs": [
    {
     "name": "stdout",
     "output_type": "stream",
     "text": [
      "Missing 0.27% of entire data\n"
     ]
    }
   ],
   "source": [
    "print('Missing {per:.2f}% of entire data'.format(per = len(dft_ulev[dft_ulev['2020 Q3']=='c'])/len(dft_ulev)*100) )"
   ]
  },
  {
   "cell_type": "code",
   "execution_count": 54,
   "metadata": {
    "executionInfo": {
     "elapsed": 652,
     "status": "ok",
     "timestamp": 1610107940043,
     "user": {
      "displayName": "Andrea Di Antonio",
      "photoUrl": "",
      "userId": "00274323577290199816"
     },
     "user_tz": 0
    },
    "id": "zocT8RdpN7_g"
   },
   "outputs": [],
   "source": [
    "dft_ulev = dft_ulev.replace({'c':0}) # Replace the c values with zeros so that the statistics is not altered "
   ]
  },
  {
   "cell_type": "code",
   "execution_count": 95,
   "metadata": {
    "executionInfo": {
     "elapsed": 3346,
     "status": "ok",
     "timestamp": 1610115651280,
     "user": {
      "displayName": "Andrea Di Antonio",
      "photoUrl": "",
      "userId": "00274323577290199816"
     },
     "user_tz": 0
    },
    "id": "4IEOlSWSN7_g"
   },
   "outputs": [],
   "source": [
    "#Import Battery Electric Vehicles (BEVs) table by postcode\n",
    "dft_bev_import = read_ods('veh0134.ods', 'VEH0134b')\n",
    "dft_bev = dft_bev_import[6:-14]\n",
    "dft_bev.columns = dft_bev_import.iloc[5].values\n",
    "dft_bev.reset_index(inplace=True, drop=True)"
   ]
  },
  {
   "cell_type": "code",
   "execution_count": 104,
   "metadata": {
    "executionInfo": {
     "elapsed": 1122,
     "status": "ok",
     "timestamp": 1610116384055,
     "user": {
      "displayName": "Andrea Di Antonio",
      "photoUrl": "",
      "userId": "00274323577290199816"
     },
     "user_tz": 0
    },
    "id": "c_jxO8eSYIdy"
   },
   "outputs": [],
   "source": [
    "#Import Battery Electric Vehicles (BEVs) table by LA\n",
    "dft_bev_la_import = read_ods('veh0132.ods', 'VEH0132b')\n",
    "dft_bev_la = dft_bev_la_import[6:-14]\n",
    "dft_bev_la.columns = dft_bev_la_import.iloc[5].values\n",
    "dft_bev_la.reset_index(inplace=True, drop=True)"
   ]
  },
  {
   "cell_type": "code",
   "execution_count": 102,
   "metadata": {
    "colab": {
     "base_uri": "https://localhost:8080/"
    },
    "executionInfo": {
     "elapsed": 429,
     "status": "ok",
     "timestamp": 1610115861623,
     "user": {
      "displayName": "Andrea Di Antonio",
      "photoUrl": "",
      "userId": "00274323577290199816"
     },
     "user_tz": 0
    },
    "id": "Cm1sUa8KYh97",
    "outputId": "ae384ab6-09a4-4380-ed83-423d185b2a7c"
   },
   "outputs": [
    {
     "data": {
      "text/plain": [
       "379"
      ]
     },
     "execution_count": 102,
     "metadata": {
      "tags": []
     },
     "output_type": "execute_result"
    }
   ],
   "source": [
    "len(district)"
   ]
  },
  {
   "cell_type": "code",
   "execution_count": 110,
   "metadata": {
    "colab": {
     "base_uri": "https://localhost:8080/"
    },
    "executionInfo": {
     "elapsed": 571,
     "status": "ok",
     "timestamp": 1610116824843,
     "user": {
      "displayName": "Andrea Di Antonio",
      "photoUrl": "",
      "userId": "00274323577290199816"
     },
     "user_tz": 0
    },
    "id": "_vp5tbzHcPEP",
    "outputId": "cb9b48a8-e526-4be3-9e82-3b8478afa5eb"
   },
   "outputs": [
    {
     "data": {
      "text/plain": [
       "Index(['ONS LA Code', 'Region/Local Authority', '2020 Q3', '2020 Q2',\n",
       "       '2020 Q1', '2019 Q4', '2019 Q3', '2019 Q2', '2019 Q1', '2018 Q4',\n",
       "       '2018 Q3', '2018 Q2', '2018 Q1', '2017 Q4', '2017 Q3', '2017 Q2',\n",
       "       '2017 Q1', '2016 Q4', '2016 Q3', '2016 Q2', '2016 Q1', '2015 Q4',\n",
       "       '2015 Q3', '2015 Q2', '2015 Q1', '2014 Q4', '2014 Q3', '2014 Q2',\n",
       "       '2014 Q1', '2013 Q4', '2013 Q3', '2013 Q2', '2013 Q1', '2012 Q4',\n",
       "       '2012 Q3', '2012 Q2', '2012 Q1', '2011 Q4'],\n",
       "      dtype='object')"
      ]
     },
     "execution_count": 110,
     "metadata": {
      "tags": []
     },
     "output_type": "execute_result"
    }
   ],
   "source": [
    "dft_bev_la.columns"
   ]
  },
  {
   "cell_type": "code",
   "execution_count": 114,
   "metadata": {
    "colab": {
     "base_uri": "https://localhost:8080/"
    },
    "executionInfo": {
     "elapsed": 444,
     "status": "ok",
     "timestamp": 1610116889614,
     "user": {
      "displayName": "Andrea Di Antonio",
      "photoUrl": "",
      "userId": "00274323577290199816"
     },
     "user_tz": 0
    },
    "id": "dX4AYgq_ca8z",
    "outputId": "231e0bbb-0ad1-4727-b732-f7867744ba52"
   },
   "outputs": [
    {
     "data": {
      "text/plain": [
       "list"
      ]
     },
     "execution_count": 114,
     "metadata": {
      "tags": []
     },
     "output_type": "execute_result"
    }
   ],
   "source": [
    "type(district)"
   ]
  },
  {
   "cell_type": "code",
   "execution_count": 117,
   "metadata": {
    "colab": {
     "base_uri": "https://localhost:8080/",
     "height": 35
    },
    "executionInfo": {
     "elapsed": 463,
     "status": "ok",
     "timestamp": 1610116959698,
     "user": {
      "displayName": "Andrea Di Antonio",
      "photoUrl": "",
      "userId": "00274323577290199816"
     },
     "user_tz": 0
    },
    "id": "4iJephNdcvsN",
    "outputId": "aa8f660b-704a-4099-ddd9-3a4e6c982dec"
   },
   "outputs": [
    {
     "data": {
      "application/vnd.google.colaboratory.intrinsic+json": {
       "type": "string"
      },
      "text/plain": [
       "'Aberdeen City'"
      ]
     },
     "execution_count": 117,
     "metadata": {
      "tags": []
     },
     "output_type": "execute_result"
    }
   ],
   "source": [
    "district[0]"
   ]
  },
  {
   "cell_type": "code",
   "execution_count": 130,
   "metadata": {
    "colab": {
     "base_uri": "https://localhost:8080/"
    },
    "executionInfo": {
     "elapsed": 336,
     "status": "ok",
     "timestamp": 1610117241884,
     "user": {
      "displayName": "Andrea Di Antonio",
      "photoUrl": "",
      "userId": "00274323577290199816"
     },
     "user_tz": 0
    },
    "id": "uVP2zf6ecyZS",
    "outputId": "5e4e9f7a-6514-455d-8650-7b2a677c11f9"
   },
   "outputs": [
    {
     "data": {
      "text/plain": [
       "True"
      ]
     },
     "execution_count": 130,
     "metadata": {
      "tags": []
     },
     "output_type": "execute_result"
    }
   ],
   "source": [
    "dft_bev_la.iloc[420]['Region/Local Authority'].strip() in district"
   ]
  },
  {
   "cell_type": "code",
   "execution_count": 116,
   "metadata": {
    "colab": {
     "base_uri": "https://localhost:8080/",
     "height": 103
    },
    "executionInfo": {
     "elapsed": 554,
     "status": "ok",
     "timestamp": 1610116950328,
     "user": {
      "displayName": "Andrea Di Antonio",
      "photoUrl": "",
      "userId": "00274323577290199816"
     },
     "user_tz": 0
    },
    "id": "z9OEKMgVYVkv",
    "outputId": "247d8ca7-d58a-4d99-f93e-a990579254fb"
   },
   "outputs": [
    {
     "data": {
      "text/html": [
       "<div>\n",
       "<style scoped>\n",
       "    .dataframe tbody tr th:only-of-type {\n",
       "        vertical-align: middle;\n",
       "    }\n",
       "\n",
       "    .dataframe tbody tr th {\n",
       "        vertical-align: top;\n",
       "    }\n",
       "\n",
       "    .dataframe thead th {\n",
       "        text-align: right;\n",
       "    }\n",
       "</style>\n",
       "<table border=\"1\" class=\"dataframe\">\n",
       "  <thead>\n",
       "    <tr style=\"text-align: right;\">\n",
       "      <th></th>\n",
       "      <th>ONS LA Code</th>\n",
       "      <th>Region/Local Authority</th>\n",
       "      <th>2020 Q3</th>\n",
       "      <th>2020 Q2</th>\n",
       "      <th>2020 Q1</th>\n",
       "      <th>2019 Q4</th>\n",
       "      <th>2019 Q3</th>\n",
       "      <th>2019 Q2</th>\n",
       "      <th>2019 Q1</th>\n",
       "      <th>2018 Q4</th>\n",
       "      <th>2018 Q3</th>\n",
       "      <th>2018 Q2</th>\n",
       "      <th>2018 Q1</th>\n",
       "      <th>2017 Q4</th>\n",
       "      <th>2017 Q3</th>\n",
       "      <th>2017 Q2</th>\n",
       "      <th>2017 Q1</th>\n",
       "      <th>2016 Q4</th>\n",
       "      <th>2016 Q3</th>\n",
       "      <th>2016 Q2</th>\n",
       "      <th>2016 Q1</th>\n",
       "      <th>2015 Q4</th>\n",
       "      <th>2015 Q3</th>\n",
       "      <th>2015 Q2</th>\n",
       "      <th>2015 Q1</th>\n",
       "      <th>2014 Q4</th>\n",
       "      <th>2014 Q3</th>\n",
       "      <th>2014 Q2</th>\n",
       "      <th>2014 Q1</th>\n",
       "      <th>2013 Q4</th>\n",
       "      <th>2013 Q3</th>\n",
       "      <th>2013 Q2</th>\n",
       "      <th>2013 Q1</th>\n",
       "      <th>2012 Q4</th>\n",
       "      <th>2012 Q3</th>\n",
       "      <th>2012 Q2</th>\n",
       "      <th>2012 Q1</th>\n",
       "      <th>2011 Q4</th>\n",
       "    </tr>\n",
       "  </thead>\n",
       "  <tbody>\n",
       "  </tbody>\n",
       "</table>\n",
       "</div>"
      ],
      "text/plain": [
       "Empty DataFrame\n",
       "Columns: [ONS LA Code, Region/Local Authority, 2020 Q3, 2020 Q2, 2020 Q1, 2019 Q4, 2019 Q3, 2019 Q2, 2019 Q1, 2018 Q4, 2018 Q3, 2018 Q2, 2018 Q1, 2017 Q4, 2017 Q3, 2017 Q2, 2017 Q1, 2016 Q4, 2016 Q3, 2016 Q2, 2016 Q1, 2015 Q4, 2015 Q3, 2015 Q2, 2015 Q1, 2014 Q4, 2014 Q3, 2014 Q2, 2014 Q1, 2013 Q4, 2013 Q3, 2013 Q2, 2013 Q1, 2012 Q4, 2012 Q3, 2012 Q2, 2012 Q1, 2011 Q4]\n",
       "Index: []"
      ]
     },
     "execution_count": 116,
     "metadata": {
      "tags": []
     },
     "output_type": "execute_result"
    }
   ],
   "source": [
    "dft_bev_la[dft_bev_la['Region/Local Authority']==district[0]]"
   ]
  },
  {
   "cell_type": "code",
   "execution_count": 56,
   "metadata": {
    "colab": {
     "base_uri": "https://localhost:8080/"
    },
    "executionInfo": {
     "elapsed": 2594,
     "status": "ok",
     "timestamp": 1610107943367,
     "user": {
      "displayName": "Andrea Di Antonio",
      "photoUrl": "",
      "userId": "00274323577290199816"
     },
     "user_tz": 0
    },
    "id": "G9umDqNPN7_h",
    "outputId": "0091f776-edbd-4820-aa7b-5ebae7df5b2a"
   },
   "outputs": [
    {
     "name": "stdout",
     "output_type": "stream",
     "text": [
      "Missing 2.43% of entire data\n"
     ]
    }
   ],
   "source": [
    "print('Missing {per:.2f}% of entire data'.format(per = len(dft_bev[dft_bev['2020 Q3']=='c'])/len(dft_bev)*100))"
   ]
  },
  {
   "cell_type": "code",
   "execution_count": 57,
   "metadata": {
    "executionInfo": {
     "elapsed": 552,
     "status": "ok",
     "timestamp": 1610107944019,
     "user": {
      "displayName": "Andrea Di Antonio",
      "photoUrl": "",
      "userId": "00274323577290199816"
     },
     "user_tz": 0
    },
    "id": "ixS5UGfvN7_h"
   },
   "outputs": [],
   "source": [
    "dft_bev = dft_bev.replace({'c':0})"
   ]
  },
  {
   "cell_type": "code",
   "execution_count": 58,
   "metadata": {
    "colab": {
     "base_uri": "https://localhost:8080/",
     "height": 258
    },
    "executionInfo": {
     "elapsed": 563,
     "status": "ok",
     "timestamp": 1610107946445,
     "user": {
      "displayName": "Andrea Di Antonio",
      "photoUrl": "",
      "userId": "00274323577290199816"
     },
     "user_tz": 0
    },
    "id": "zW0c8pNHN7_h",
    "outputId": "b9f8b77d-8345-480c-c8a1-39ec8f461d34"
   },
   "outputs": [
    {
     "data": {
      "text/html": [
       "<div>\n",
       "<style scoped>\n",
       "    .dataframe tbody tr th:only-of-type {\n",
       "        vertical-align: middle;\n",
       "    }\n",
       "\n",
       "    .dataframe tbody tr th {\n",
       "        vertical-align: top;\n",
       "    }\n",
       "\n",
       "    .dataframe thead th {\n",
       "        text-align: right;\n",
       "    }\n",
       "</style>\n",
       "<table border=\"1\" class=\"dataframe\">\n",
       "  <thead>\n",
       "    <tr style=\"text-align: right;\">\n",
       "      <th></th>\n",
       "      <th>Postcode District 2</th>\n",
       "      <th>2020 Q3</th>\n",
       "      <th>2020 Q2</th>\n",
       "      <th>2020 Q1</th>\n",
       "      <th>2019 Q4</th>\n",
       "      <th>2019 Q3</th>\n",
       "      <th>2019 Q2</th>\n",
       "      <th>2019 Q1</th>\n",
       "      <th>2018 Q4</th>\n",
       "      <th>2018 Q3</th>\n",
       "      <th>2018 Q2</th>\n",
       "      <th>2018 Q1</th>\n",
       "      <th>2017 Q4</th>\n",
       "      <th>2017 Q3</th>\n",
       "      <th>2017 Q2</th>\n",
       "      <th>2017 Q1</th>\n",
       "      <th>2016 Q4</th>\n",
       "      <th>2016 Q3</th>\n",
       "      <th>2016 Q2</th>\n",
       "      <th>2016 Q1</th>\n",
       "      <th>2015 Q4</th>\n",
       "      <th>2015 Q3</th>\n",
       "      <th>2015 Q2</th>\n",
       "      <th>2015 Q1</th>\n",
       "      <th>2014 Q4</th>\n",
       "      <th>2014 Q3</th>\n",
       "      <th>2014 Q2</th>\n",
       "      <th>2014 Q1</th>\n",
       "      <th>2013 Q4</th>\n",
       "      <th>2013 Q3</th>\n",
       "      <th>2013 Q2</th>\n",
       "      <th>2013 Q1</th>\n",
       "      <th>2012 Q4</th>\n",
       "      <th>2012 Q3</th>\n",
       "      <th>2012 Q2</th>\n",
       "      <th>2012 Q1</th>\n",
       "      <th>2011 Q4</th>\n",
       "    </tr>\n",
       "  </thead>\n",
       "  <tbody>\n",
       "    <tr>\n",
       "      <th>0</th>\n",
       "      <td>AB10</td>\n",
       "      <td>27.0</td>\n",
       "      <td>20.0</td>\n",
       "      <td>24.0</td>\n",
       "      <td>19.0</td>\n",
       "      <td>18.0</td>\n",
       "      <td>17.0</td>\n",
       "      <td>17.0</td>\n",
       "      <td>14.0</td>\n",
       "      <td>14.0</td>\n",
       "      <td>12.0</td>\n",
       "      <td>9.0</td>\n",
       "      <td>9.0</td>\n",
       "      <td>8.0</td>\n",
       "      <td>6.0</td>\n",
       "      <td>7.0</td>\n",
       "      <td>6.0</td>\n",
       "      <td>5.0</td>\n",
       "      <td>0.0</td>\n",
       "      <td>0.0</td>\n",
       "      <td>0.0</td>\n",
       "      <td>0.0</td>\n",
       "      <td>0.0</td>\n",
       "      <td>0.0</td>\n",
       "      <td>0.0</td>\n",
       "      <td>0.0</td>\n",
       "      <td>0.0</td>\n",
       "      <td>0.0</td>\n",
       "      <td>0.0</td>\n",
       "      <td>0.0</td>\n",
       "      <td>0.0</td>\n",
       "      <td>0.0</td>\n",
       "      <td>0.0</td>\n",
       "      <td>0.0</td>\n",
       "      <td>0.0</td>\n",
       "      <td>0.0</td>\n",
       "      <td>0.0</td>\n",
       "    </tr>\n",
       "    <tr>\n",
       "      <th>1</th>\n",
       "      <td>AB11</td>\n",
       "      <td>28.0</td>\n",
       "      <td>24.0</td>\n",
       "      <td>21.0</td>\n",
       "      <td>21.0</td>\n",
       "      <td>19.0</td>\n",
       "      <td>18.0</td>\n",
       "      <td>17.0</td>\n",
       "      <td>15.0</td>\n",
       "      <td>14.0</td>\n",
       "      <td>14.0</td>\n",
       "      <td>15.0</td>\n",
       "      <td>10.0</td>\n",
       "      <td>9.0</td>\n",
       "      <td>8.0</td>\n",
       "      <td>6.0</td>\n",
       "      <td>5.0</td>\n",
       "      <td>0.0</td>\n",
       "      <td>0.0</td>\n",
       "      <td>0.0</td>\n",
       "      <td>6.0</td>\n",
       "      <td>6.0</td>\n",
       "      <td>6.0</td>\n",
       "      <td>6.0</td>\n",
       "      <td>0.0</td>\n",
       "      <td>0.0</td>\n",
       "      <td>0.0</td>\n",
       "      <td>0.0</td>\n",
       "      <td>0.0</td>\n",
       "      <td>0.0</td>\n",
       "      <td>0.0</td>\n",
       "      <td>0.0</td>\n",
       "      <td>0.0</td>\n",
       "      <td>0.0</td>\n",
       "      <td>0.0</td>\n",
       "      <td>0.0</td>\n",
       "      <td>0.0</td>\n",
       "    </tr>\n",
       "    <tr>\n",
       "      <th>2</th>\n",
       "      <td>AB12</td>\n",
       "      <td>68.0</td>\n",
       "      <td>52.0</td>\n",
       "      <td>58.0</td>\n",
       "      <td>45.0</td>\n",
       "      <td>41.0</td>\n",
       "      <td>36.0</td>\n",
       "      <td>32.0</td>\n",
       "      <td>29.0</td>\n",
       "      <td>24.0</td>\n",
       "      <td>24.0</td>\n",
       "      <td>22.0</td>\n",
       "      <td>22.0</td>\n",
       "      <td>24.0</td>\n",
       "      <td>24.0</td>\n",
       "      <td>25.0</td>\n",
       "      <td>20.0</td>\n",
       "      <td>21.0</td>\n",
       "      <td>22.0</td>\n",
       "      <td>19.0</td>\n",
       "      <td>15.0</td>\n",
       "      <td>14.0</td>\n",
       "      <td>8.0</td>\n",
       "      <td>7.0</td>\n",
       "      <td>5.0</td>\n",
       "      <td>0.0</td>\n",
       "      <td>0.0</td>\n",
       "      <td>0.0</td>\n",
       "      <td>0.0</td>\n",
       "      <td>0.0</td>\n",
       "      <td>0.0</td>\n",
       "      <td>0.0</td>\n",
       "      <td>0.0</td>\n",
       "      <td>0.0</td>\n",
       "      <td>0.0</td>\n",
       "      <td>0.0</td>\n",
       "      <td>0.0</td>\n",
       "    </tr>\n",
       "    <tr>\n",
       "      <th>3</th>\n",
       "      <td>AB13</td>\n",
       "      <td>10.0</td>\n",
       "      <td>9.0</td>\n",
       "      <td>11.0</td>\n",
       "      <td>11.0</td>\n",
       "      <td>10.0</td>\n",
       "      <td>9.0</td>\n",
       "      <td>9.0</td>\n",
       "      <td>8.0</td>\n",
       "      <td>5.0</td>\n",
       "      <td>0.0</td>\n",
       "      <td>0.0</td>\n",
       "      <td>0.0</td>\n",
       "      <td>0.0</td>\n",
       "      <td>0.0</td>\n",
       "      <td>0.0</td>\n",
       "      <td>0.0</td>\n",
       "      <td>0.0</td>\n",
       "      <td>0.0</td>\n",
       "      <td>0.0</td>\n",
       "      <td>0.0</td>\n",
       "      <td>0.0</td>\n",
       "      <td>0.0</td>\n",
       "      <td>0.0</td>\n",
       "      <td>0.0</td>\n",
       "      <td>0.0</td>\n",
       "      <td>0.0</td>\n",
       "      <td>0.0</td>\n",
       "      <td>0.0</td>\n",
       "      <td>0.0</td>\n",
       "      <td>0.0</td>\n",
       "      <td>0.0</td>\n",
       "      <td>0.0</td>\n",
       "      <td>0.0</td>\n",
       "      <td>0.0</td>\n",
       "      <td>0.0</td>\n",
       "      <td>0.0</td>\n",
       "    </tr>\n",
       "    <tr>\n",
       "      <th>4</th>\n",
       "      <td>AB14</td>\n",
       "      <td>15.0</td>\n",
       "      <td>10.0</td>\n",
       "      <td>10.0</td>\n",
       "      <td>10.0</td>\n",
       "      <td>9.0</td>\n",
       "      <td>7.0</td>\n",
       "      <td>7.0</td>\n",
       "      <td>6.0</td>\n",
       "      <td>5.0</td>\n",
       "      <td>6.0</td>\n",
       "      <td>5.0</td>\n",
       "      <td>0.0</td>\n",
       "      <td>0.0</td>\n",
       "      <td>0.0</td>\n",
       "      <td>0.0</td>\n",
       "      <td>0.0</td>\n",
       "      <td>0.0</td>\n",
       "      <td>0.0</td>\n",
       "      <td>0.0</td>\n",
       "      <td>0.0</td>\n",
       "      <td>0.0</td>\n",
       "      <td>0.0</td>\n",
       "      <td>0.0</td>\n",
       "      <td>0.0</td>\n",
       "      <td>0.0</td>\n",
       "      <td>0.0</td>\n",
       "      <td>0.0</td>\n",
       "      <td>0.0</td>\n",
       "      <td>0.0</td>\n",
       "      <td>0.0</td>\n",
       "      <td>0.0</td>\n",
       "      <td>0.0</td>\n",
       "      <td>0.0</td>\n",
       "      <td>0.0</td>\n",
       "      <td>0.0</td>\n",
       "      <td>0.0</td>\n",
       "    </tr>\n",
       "  </tbody>\n",
       "</table>\n",
       "</div>"
      ],
      "text/plain": [
       "  Postcode District 2  2020 Q3  2020 Q2  ...  2012 Q2  2012 Q1  2011 Q4\n",
       "0                AB10     27.0     20.0  ...      0.0      0.0      0.0\n",
       "1                AB11     28.0     24.0  ...      0.0      0.0      0.0\n",
       "2                AB12     68.0     52.0  ...      0.0      0.0      0.0\n",
       "3                AB13     10.0      9.0  ...      0.0      0.0      0.0\n",
       "4                AB14     15.0     10.0  ...      0.0      0.0      0.0\n",
       "\n",
       "[5 rows x 37 columns]"
      ]
     },
     "execution_count": 58,
     "metadata": {
      "tags": []
     },
     "output_type": "execute_result"
    }
   ],
   "source": [
    "dft_bev.head()"
   ]
  },
  {
   "cell_type": "code",
   "execution_count": 67,
   "metadata": {
    "executionInfo": {
     "elapsed": 836,
     "status": "ok",
     "timestamp": 1610108367922,
     "user": {
      "displayName": "Andrea Di Antonio",
      "photoUrl": "",
      "userId": "00274323577290199816"
     },
     "user_tz": 0
    },
    "id": "X59PI79G6tv_"
   },
   "outputs": [],
   "source": [
    "dft_bev_nhb = dft_bev.set_index('Postcode District 2')"
   ]
  },
  {
   "cell_type": "code",
   "execution_count": 88,
   "metadata": {
    "colab": {
     "base_uri": "https://localhost:8080/",
     "height": 314
    },
    "executionInfo": {
     "elapsed": 884,
     "status": "ok",
     "timestamp": 1610113330657,
     "user": {
      "displayName": "Andrea Di Antonio",
      "photoUrl": "",
      "userId": "00274323577290199816"
     },
     "user_tz": 0
    },
    "id": "OVx8RcSh8C-a",
    "outputId": "0d2dc656-c6e0-4242-dab5-558bd1f0eb7a"
   },
   "outputs": [
    {
     "data": {
      "image/png": "[encoded data removed]",
      "text/plain": [
       "<Figure size 432x288 with 1 Axes>"
      ]
     },
     "metadata": {
      "needs_background": "light",
      "tags": []
     },
     "output_type": "display_data"
    }
   ],
   "source": [
    "##Plot the NEIGHBOURHOOD level (i.e. Partial Postcode) of BEVs uptake for \n",
    "\n",
    "nhb_val = 'AB10'\n",
    "nhb_sel = dft_bev_nhb.loc[nhb_val].reindex(index=dft_bev_nhb.loc[nhb_val].index[::-1])\n",
    "plt.bar(nhb_sel.index,nhb_sel,.5)\n",
    "plt.xticks(rotation = 90)\n",
    "plt.ylabel('Number of BEVs')\n",
    "plt.title('BEVs uptake in '+nhb_val)\n",
    "plt.show() "
   ]
  },
  {
   "cell_type": "code",
   "execution_count": 48,
   "metadata": {
    "executionInfo": {
     "elapsed": 845,
     "status": "ok",
     "timestamp": 1610102903322,
     "user": {
      "displayName": "Andrea Di Antonio",
      "photoUrl": "",
      "userId": "00274323577290199816"
     },
     "user_tz": 0
    },
    "id": "sHfeVHAC2yvV"
   },
   "outputs": [],
   "source": [
    "dft_bev_all = pd.DataFrame(dft_bev.sum()[1:], columns = ['Total BEVs']) # Sum the number of vehicles for each postcode to obtain the total number of BEVs in UK between Q4 2011 and Q3 2020 \n",
    "dft_bev_all = dft_bev_all.reindex(index=dft_bev_all.index[::-1]) # Sort the index (Time) in ascending order \n",
    "dft_bev_all.index.names =['Time']"
   ]
  },
  {
   "cell_type": "code",
   "execution_count": 49,
   "metadata": {
    "colab": {
     "base_uri": "https://localhost:8080/",
     "height": 298
    },
    "executionInfo": {
     "elapsed": 650,
     "status": "ok",
     "timestamp": 1610102903911,
     "user": {
      "displayName": "Andrea Di Antonio",
      "photoUrl": "",
      "userId": "00274323577290199816"
     },
     "user_tz": 0
    },
    "id": "T8yVX2Byb7AE",
    "outputId": "06df132f-c136-45c3-84e8-fd978a3e7247"
   },
   "outputs": [
    {
     "data": {
      "image/png": "[encoded data removed]",
      "text/plain": [
       "<Figure size 432x288 with 1 Axes>"
      ]
     },
     "metadata": {
      "needs_background": "light",
      "tags": []
     },
     "output_type": "display_data"
    }
   ],
   "source": [
    "## Plot the NATIONAL trend of the number of BEVs in the UK between Q4 2011 and Q3 2020 ##\n",
    "\n",
    "plt.bar(dft_bev_all.index,dft_bev_all['Total BEVs'],.5)\n",
    "plt.xticks(rotation = 90)\n",
    "plt.ylabel('Number of BEVs')\n",
    "plt.show()"
   ]
  },
  {
   "cell_type": "code",
   "execution_count": 83,
   "metadata": {
    "executionInfo": {
     "elapsed": 2763,
     "status": "ok",
     "timestamp": 1610112520792,
     "user": {
      "displayName": "Andrea Di Antonio",
      "photoUrl": "",
      "userId": "00274323577290199816"
     },
     "user_tz": 0
    },
    "id": "nCBPX2X3szbd"
   },
   "outputs": [],
   "source": [
    "dft_bev_dist = pd.DataFrame([dft_bev[dft_bev['Postcode District 2'].isin(dic_district[item])].sum() for item in district])\n",
    "dft_bev_dist['Postcode District 2'] = district\n",
    "dft_bev_dist = dft_bev_dist.set_index('Postcode District 2')"
   ]
  },
  {
   "cell_type": "code",
   "execution_count": null,
   "metadata": {
    "id": "cjc4BhAvN7_h"
   },
   "outputs": [],
   "source": [
    "#Import Plug-in Hybrid Electric Vehicles (PHEVs) data\n",
    "dft_phev_import = read_ods('veh0134.ods', 'VEH0134c')\n",
    "dft_phev = dft_phev_import[6:-14]\n",
    "dft_phev.columns = dft_phev_import.iloc[5].values\n",
    "dft_phev.reset_index(inplace=True, drop=True)"
   ]
  },
  {
   "cell_type": "code",
   "execution_count": null,
   "metadata": {
    "colab": {
     "base_uri": "https://localhost:8080/"
    },
    "executionInfo": {
     "elapsed": 3346,
     "status": "ok",
     "timestamp": 1610020214962,
     "user": {
      "displayName": "Andrea Di Antonio",
      "photoUrl": "",
      "userId": "00274323577290199816"
     },
     "user_tz": 0
    },
    "id": "txIoscoMN7_h",
    "outputId": "08e31ee1-50c4-4c42-8b0c-d8b4dfc16ac2"
   },
   "outputs": [
    {
     "name": "stdout",
     "output_type": "stream",
     "text": [
      "Missing 4.56% of entire data\n"
     ]
    }
   ],
   "source": [
    "print('Missing {per:.2f}% of entire data'.format(per = len(dft_phev[dft_phev['2020 Q3']=='c'])/len(dft_phev)*100))"
   ]
  },
  {
   "cell_type": "code",
   "execution_count": null,
   "metadata": {
    "id": "wSawjJkMN7_i",
    "scrolled": true
   },
   "outputs": [],
   "source": [
    "dft_phev = dft_phev.replace({'c':0})"
   ]
  },
  {
   "cell_type": "markdown",
   "metadata": {
    "id": "8Jj9xPNuN7_i"
   },
   "source": [
    "# Import funding data"
   ]
  },
  {
   "cell_type": "code",
   "execution_count": null,
   "metadata": {
    "id": "zQZplXKaN7_i"
   },
   "outputs": [],
   "source": [
    "fund_df = pd.read_excel(\"EIR E0019012.xlsx\")\n",
    "fund_df.columns = fund_df.iloc[7].values\n",
    "fund_df = fund_df[8:].dropna(axis =1) #Remove a column containing only NaN values\n",
    "fund_df.reset_index(inplace=True, drop=True)"
   ]
  },
  {
   "cell_type": "code",
   "execution_count": null,
   "metadata": {
    "colab": {
     "base_uri": "https://localhost:8080/"
    },
    "executionInfo": {
     "elapsed": 387,
     "status": "ok",
     "timestamp": 1610020221422,
     "user": {
      "displayName": "Andrea Di Antonio",
      "photoUrl": "",
      "userId": "00274323577290199816"
     },
     "user_tz": 0
    },
    "id": "21WaP98wN7_i",
    "outputId": "a5a22615-e07b-479a-f3c7-44cb9d3874b1"
   },
   "outputs": [
    {
     "data": {
      "text/html": [
       "<div>\n",
       "<style scoped>\n",
       "    .dataframe tbody tr th:only-of-type {\n",
       "        vertical-align: middle;\n",
       "    }\n",
       "\n",
       "    .dataframe tbody tr th {\n",
       "        vertical-align: top;\n",
       "    }\n",
       "\n",
       "    .dataframe thead th {\n",
       "        text-align: right;\n",
       "    }\n",
       "</style>\n",
       "<table border=\"1\" class=\"dataframe\">\n",
       "  <thead>\n",
       "    <tr style=\"text-align: right;\">\n",
       "      <th></th>\n",
       "      <th>Postcode District</th>\n",
       "      <th>EVHS Grants</th>\n",
       "      <th>DRS Grants</th>\n",
       "    </tr>\n",
       "  </thead>\n",
       "  <tbody>\n",
       "    <tr>\n",
       "      <th>0</th>\n",
       "      <td>AB1</td>\n",
       "      <td>0</td>\n",
       "      <td>0</td>\n",
       "    </tr>\n",
       "    <tr>\n",
       "      <th>1</th>\n",
       "      <td>AB10</td>\n",
       "      <td>17</td>\n",
       "      <td>…</td>\n",
       "    </tr>\n",
       "    <tr>\n",
       "      <th>2</th>\n",
       "      <td>AB11</td>\n",
       "      <td>…</td>\n",
       "      <td>0</td>\n",
       "    </tr>\n",
       "    <tr>\n",
       "      <th>3</th>\n",
       "      <td>AB12</td>\n",
       "      <td>59</td>\n",
       "      <td>…</td>\n",
       "    </tr>\n",
       "    <tr>\n",
       "      <th>4</th>\n",
       "      <td>AB13</td>\n",
       "      <td>19</td>\n",
       "      <td>…</td>\n",
       "    </tr>\n",
       "  </tbody>\n",
       "</table>\n",
       "</div>"
      ],
      "text/plain": [
       "  Postcode District EVHS Grants DRS Grants\n",
       "0               AB1           0          0\n",
       "1              AB10          17          …\n",
       "2              AB11           …          0\n",
       "3              AB12          59          …\n",
       "4              AB13          19          …"
      ]
     },
     "execution_count": 137,
     "metadata": {
      "tags": []
     },
     "output_type": "execute_result"
    }
   ],
   "source": [
    "fund_df.head()"
   ]
  },
  {
   "cell_type": "code",
   "execution_count": null,
   "metadata": {
    "id": "A5OGoh9CN7_i",
    "scrolled": true
   },
   "outputs": [],
   "source": [
    "# As stated in the file, all postcode districts with counts of at least one but fewer than ten have are indicated as \"…\".\n",
    "#For statistical purpose, a lower estimate of this value is 1 and therefore \"…\" is replaced by the value 1. \n",
    "fund_df = fund_df.replace({'…':1})"
   ]
  },
  {
   "cell_type": "markdown",
   "metadata": {
    "id": "nsyPwPueN7_j"
   },
   "source": [
    "# Create a DataFrame containing the necessary information per Local Authority\n",
    "\n"
   ]
  },
  {
   "cell_type": "code",
   "execution_count": null,
   "metadata": {
    "id": "mKP2zsTZN7_j"
   },
   "outputs": [],
   "source": [
    "#Define functions to compare different information contained in the DataFrame and format the output \n",
    "\n",
    "def receive_funding(private_charging_devices):\n",
    "    if private_charging_devices>0:\n",
    "        return 'Yes'\n",
    "    else: \n",
    "        return 'No'\n",
    "\n",
    "def private_or_public_charging(private_devices,electric_cars):\n",
    "    if private_devices >= electric_cars: \n",
    "        return 'Predomintantly private'\n",
    "    else: \n",
    "        return 'Predomintantly public'\n",
    "def above_or_below_national_average(constituency_value, national_average):\n",
    "    if constituency_value > national_average: \n",
    "        return 'Above national average'\n",
    "    elif constituency_value == national_average: \n",
    "        return 'In line with national average'\n",
    "    else: \n",
    "        return 'Below national average'\n",
    "def print_summary(con_name): \n",
    "    constituency_charging_devices_density = summary_dataframe.loc[con_name]['Total public charging devices']/summary_dataframe.loc[con_name]['Population']\n",
    "    constituency_ev_value = summary_dataframe.loc[con_name]['Total electric vehicles (BEVs)']\n",
    "    constituency_charging_value = summary_dataframe.loc[con_name]['Total public charging devices']\n",
    "    constituency_charging_ev_density = constituency_charging_value/constituency_ev_value\n",
    "    \n",
    "    return print('\\nThe '+con_name+' local authority is:\\n a) ' +  above_or_below_national_average(constituency_charging_devices_density,national_charging_devices_density) +' for Public charging devices per person \\n b) '+  above_or_below_national_average(constituency_ev_value,constiutency_ev_density) +' for EV owners per constituency \\n c) '+ above_or_below_national_average(constituency_charging_ev_density,national_charging_ev_density) +' Public charging devices per EV owner')"
   ]
  },
  {
   "cell_type": "code",
   "execution_count": null,
   "metadata": {
    "id": "eNkg0ivjN7_j",
    "scrolled": true
   },
   "outputs": [],
   "source": [
    "columns_name = ['District','Population','Total electric vehicles (BEVs)','Total public charging devices','Total public charging devices per 100,000 population','Total private charging devices', 'Received government funding for residential charging devices','Charging devices usage']\n",
    "summary_dataframe = pd.DataFrame({item:[] for item in columns_name})"
   ]
  },
  {
   "cell_type": "code",
   "execution_count": null,
   "metadata": {
    "id": "RKhOMlgAN7_j"
   },
   "outputs": [],
   "source": [
    "#Create a loop to populate the DataFrame for each constituency with information about the population, \n",
    "#total number of electric vehicles, total public charging devices (including rapid), total public charging devices (including rapid) per 100,000 population,\n",
    "#total private charging devices, whether the constituency received government funding for residential charging devices and \n",
    "#the predomintant charging devices usage.\n",
    "\n",
    "for area in district:\n",
    "    total_electric_vehicles = dft_bev[dft_bev['Postcode District 2'].isin(dic_district[area])]['2020 Q3'].sum() #+ dft_phev[dft_phev['Postcode District 2'].isin(dic_district[area])]['2020 Q1'].sum()\n",
    "    public_charging_devices,rapid_charging_devices,public_charging_devices_density,rapid_charging_devices_density = dft_charging_devices_available[dft_charging_devices_available['Local Authority / Region Name']==area][['Total public\\ncharging devices','Total public rapid\\ncharging devices','Charging devices per\\n100,000 population','Rapid Devices per\\n100,000 population']].mean()\n",
    "    evhs_grant,drs_grant =fund_df[fund_df['Postcode District'].isin(dic_district[area])][['EVHS Grants','DRS Grants']].sum()\n",
    "\n",
    "    total_population = dic_dist_population[area]\n",
    "    total_public_charging_devices = public_charging_devices #+ rapid_charging_devices\n",
    "    total_public_charging_devices_density = public_charging_devices_density# + rapid_charging_devices_density\n",
    "    total_private_charging_devices = evhs_grant + drs_grant\n",
    "    fundings = receive_funding(total_private_charging_devices)\n",
    "    charging_devices_usage = private_or_public_charging(total_private_charging_devices, total_electric_vehicles)\n",
    "\n",
    "    summary_dataframe = summary_dataframe.append(pd.DataFrame([[area,total_population,total_electric_vehicles,total_public_charging_devices,total_public_charging_devices_density,total_private_charging_devices,fundings,charging_devices_usage]], columns = columns_name))\n",
    "    \n",
    "summary_dataframe = summary_dataframe.set_index('District') # Set the Districy name as the DataFrame index"
   ]
  },
  {
   "cell_type": "code",
   "execution_count": null,
   "metadata": {
    "id": "cwPpNeRTN7_k"
   },
   "outputs": [],
   "source": [
    "#Calculate the national average values for:\n",
    "#a) The number of public charging devices per person\n",
    "#b) EV owners per constituency\n",
    "#c) Number of public charging devices per EV owner\n",
    "\n",
    "national_charging_devices = dft_charging_devices_available.loc[0]['Total public\\ncharging devices']#+dft_charging_devices_available.loc[0]['Total public rapid\\ncharging devices']\n",
    "national_population = uk_population\n",
    "national_charging_devices_density = national_charging_devices/national_population\n",
    "national_ev = dft_bev['2020 Q3'].sum() +dft_phev['2020 Q3'].sum()\n",
    "constiutency_ev_density = summary_dataframe['Total electric vehicles (BEVs)'].mean()\n",
    "national_charging_ev_density = national_charging_devices/national_ev"
   ]
  },
  {
   "cell_type": "markdown",
   "metadata": {
    "id": "VRpFbKl4N7_k"
   },
   "source": [
    "# Print the summary of the required information"
   ]
  },
  {
   "cell_type": "code",
   "execution_count": null,
   "metadata": {
    "id": "TQUk8MVXccSo"
   },
   "outputs": [],
   "source": [
    "df_charges_bev = pd.concat([df_charges_quarter,dft_bev_all], axis = 1, join = 'inner')"
   ]
  },
  {
   "cell_type": "code",
   "execution_count": null,
   "metadata": {
    "colab": {
     "base_uri": "https://localhost:8080/",
     "height": 585
    },
    "executionInfo": {
     "elapsed": 2952,
     "status": "ok",
     "timestamp": 1610019861157,
     "user": {
      "displayName": "Andrea Di Antonio",
      "photoUrl": "",
      "userId": "00274323577290199816"
     },
     "user_tz": 0
    },
    "id": "nNF-08o7hXAf",
    "outputId": "e2e8ac80-4ca7-4221-bc8b-30fba3972b15"
   },
   "outputs": [
    {
     "data": {
      "image/png": "[encoded data removed]",
      "text/plain": [
       "<Figure size 1296x576 with 1 Axes>"
      ]
     },
     "metadata": {
      "needs_background": "light",
      "tags": []
     },
     "output_type": "display_data"
    }
   ],
   "source": [
    "x = np.arange(len(df_charges_bev.index))\n",
    "width = 0.35  # the width of the bars\n",
    "\n",
    "fig, ax = plt.subplots(figsize=(18,8))\n",
    "rects1 = ax.bar(x - width/2, df_charges_bev['Total  Devices'], width, label='Devices')\n",
    "rects2 = ax.bar(x + width/2, df_charges_bev['Total BEVs'], width, label='BEVs')\n",
    "\n",
    "# Add some text for labels, title and custom x-axis tick labels, etc.\n",
    "ax.set_ylabel('Total number')\n",
    "ax.set_title('BEVs VS Devices Quarterly Trend')\n",
    "ax.set_xticks(x)\n",
    "ax.set_xticklabels(df_charges_bev.index, rotation = 90)\n",
    "ax.legend()\n",
    "\n",
    "fig.tight_layout()\n",
    "\n",
    "plt.show()\n",
    "fig.savefig('Devices_BEVs_comparision.png', bbox_inches='tight', dpi = 300)"
   ]
  },
  {
   "cell_type": "code",
   "execution_count": null,
   "metadata": {
    "colab": {
     "base_uri": "https://localhost:8080/"
    },
    "executionInfo": {
     "elapsed": 571,
     "status": "ok",
     "timestamp": 1610022254160,
     "user": {
      "displayName": "Andrea Di Antonio",
      "photoUrl": "",
      "userId": "00274323577290199816"
     },
     "user_tz": 0
    },
    "id": "wQ_esqP1N7_k",
    "outputId": "47a02203-26c0-4ddd-b7f6-1fd52ee6582d"
   },
   "outputs": [
    {
     "name": "stdout",
     "output_type": "stream",
     "text": [
      "Summary for the Watford Local Authority:\n",
      "\n",
      "Population                                                                      90182\n",
      "Total electric vehicles (BEVs)                                                   2806\n",
      "Total public charging devices                                                      38\n",
      "Total public charging devices per 100,000 population                          39.3468\n",
      "Total private charging devices                                                    632\n",
      "Received government funding for residential charging devices                      Yes\n",
      "Charging devices usage                                          Predomintantly public\n",
      "Name: Watford, dtype: object\n",
      "\n",
      "The Watford local authority is:\n",
      " a) Above national average for Public charging devices per person \n",
      " b) Above national average for EV owners per constituency \n",
      " c) Below national average Public charging devices per EV owner\n"
     ]
    }
   ],
   "source": [
    "##Lookup table for each local authority number of EVs, public and private charging devices \n",
    "la_name = 'Watford'\n",
    "print('Summary for the '+la_name+' Local Authority:\\n')\n",
    "print(summary_dataframe.loc[la_name])\n",
    "print_summary(la_name)"
   ]
  },
  {
   "cell_type": "code",
   "execution_count": null,
   "metadata": {
    "id": "35ecVfgLN7_l"
   },
   "outputs": [],
   "source": [
    "#Subselect for the dataframe the local authorities where there are more EVs than private chargers \n",
    "ratios = summary_dataframe['Total electric vehicles (BEVs)']/summary_dataframe['Total private charging devices']\n",
    "rsel=ratios[ratios!=np.inf]\n",
    "rsel=rsel[rsel>1]"
   ]
  },
  {
   "cell_type": "code",
   "execution_count": null,
   "metadata": {
    "colab": {
     "base_uri": "https://localhost:8080/"
    },
    "executionInfo": {
     "elapsed": 566,
     "status": "ok",
     "timestamp": 1610022478129,
     "user": {
      "displayName": "Andrea Di Antonio",
      "photoUrl": "",
      "userId": "00274323577290199816"
     },
     "user_tz": 0
    },
    "id": "pFG9tHSvN7_m",
    "outputId": "574479bd-91db-4aa6-a171-e771c988a08e"
   },
   "outputs": [
    {
     "data": {
      "text/plain": [
       "District\n",
       "Aberdeen City        1.101512\n",
       "Aberdeenshire        1.030233\n",
       "Angus                1.522634\n",
       "Moray                1.763889\n",
       "Highland             1.731183\n",
       "                      ...    \n",
       "Hounslow             2.806052\n",
       "Watford              4.439873\n",
       "Worcester            1.923513\n",
       "York                 1.064449\n",
       "Shetland Islands    14.500000\n",
       "Length: 141, dtype: float64"
      ]
     },
     "execution_count": 150,
     "metadata": {
      "tags": []
     },
     "output_type": "execute_result"
    }
   ],
   "source": [
    "rsel"
   ]
  },
  {
   "cell_type": "code",
   "execution_count": null,
   "metadata": {
    "id": "JvA7pw04-vIR"
   },
   "outputs": [],
   "source": [
    "rsel_withoutmax = rsel.drop(rsel.idxmax())"
   ]
  },
  {
   "cell_type": "code",
   "execution_count": null,
   "metadata": {
    "colab": {
     "base_uri": "https://localhost:8080/",
     "height": 35
    },
    "executionInfo": {
     "elapsed": 582,
     "status": "ok",
     "timestamp": 1610026090489,
     "user": {
      "displayName": "Andrea Di Antonio",
      "photoUrl": "",
      "userId": "00274323577290199816"
     },
     "user_tz": 0
    },
    "id": "K-1mJ7vlAJtw",
    "outputId": "2324bcc3-99ad-4acc-a87f-6ca3a04480f6"
   },
   "outputs": [
    {
     "data": {
      "application/vnd.google.colaboratory.intrinsic+json": {
       "type": "string"
      },
      "text/plain": [
       "'Hackney'"
      ]
     },
     "execution_count": 178,
     "metadata": {
      "tags": []
     },
     "output_type": "execute_result"
    }
   ],
   "source": [
    "rsel_withoutmax.idxmax()"
   ]
  },
  {
   "cell_type": "code",
   "execution_count": null,
   "metadata": {
    "colab": {
     "base_uri": "https://localhost:8080/"
    },
    "executionInfo": {
     "elapsed": 521,
     "status": "ok",
     "timestamp": 1610026101930,
     "user": {
      "displayName": "Andrea Di Antonio",
      "photoUrl": "",
      "userId": "00274323577290199816"
     },
     "user_tz": 0
    },
    "id": "hDF40I9rCJUU",
    "outputId": "a16780eb-dce3-4ed3-81fb-b57ee1fb9867"
   },
   "outputs": [
    {
     "data": {
      "text/plain": [
       "15.704918032786885"
      ]
     },
     "execution_count": 179,
     "metadata": {
      "tags": []
     },
     "output_type": "execute_result"
    }
   ],
   "source": [
    "rsel_withoutmax.max()"
   ]
  },
  {
   "cell_type": "code",
   "execution_count": null,
   "metadata": {
    "colab": {
     "base_uri": "https://localhost:8080/"
    },
    "executionInfo": {
     "elapsed": 662,
     "status": "ok",
     "timestamp": 1610026216031,
     "user": {
      "displayName": "Andrea Di Antonio",
      "photoUrl": "",
      "userId": "00274323577290199816"
     },
     "user_tz": 0
    },
    "id": "itORiFw8N7_m",
    "outputId": "7918b856-3a79-4628-f28b-b75cbb5d7f4e"
   },
   "outputs": [
    {
     "name": "stdout",
     "output_type": "stream",
     "text": [
      "3.448621859055634\n",
      "2.444683443763175\n"
     ]
    }
   ],
   "source": [
    "#Average values for the BEVs/Private chargers > 1 including and excluding the maximum value, respectively \n",
    "print(rsel.mean())\n",
    "print(rsel_withoutmax.mean())"
   ]
  },
  {
   "cell_type": "code",
   "execution_count": null,
   "metadata": {
    "colab": {
     "base_uri": "https://localhost:8080/"
    },
    "executionInfo": {
     "elapsed": 516,
     "status": "ok",
     "timestamp": 1610026234804,
     "user": {
      "displayName": "Andrea Di Antonio",
      "photoUrl": "",
      "userId": "00274323577290199816"
     },
     "user_tz": 0
    },
    "id": "z9xjOJIYN7_m",
    "outputId": "9f2888c7-b83f-47b0-9128-4b500901f6d8"
   },
   "outputs": [
    {
     "name": "stdout",
     "output_type": "stream",
     "text": [
      "1.3754152823920265\n",
      "1.373060263257496\n"
     ]
    }
   ],
   "source": [
    "#Median values for the BEVs/Private chargers > 1 including and excluding the maximum value, respectively \n",
    "print(rsel.median())\n",
    "print(rsel_withoutmax.median())"
   ]
  },
  {
   "cell_type": "code",
   "execution_count": null,
   "metadata": {
    "colab": {
     "base_uri": "https://localhost:8080/"
    },
    "executionInfo": {
     "elapsed": 643,
     "status": "ok",
     "timestamp": 1610026294306,
     "user": {
      "displayName": "Andrea Di Antonio",
      "photoUrl": "",
      "userId": "00274323577290199816"
     },
     "user_tz": 0
    },
    "id": "qOppbZWHN7_n",
    "outputId": "ea5f4b83-1978-437b-c817-96442766fd91"
   },
   "outputs": [
    {
     "name": "stdout",
     "output_type": "stream",
     "text": [
      "12.222794272847603\n",
      "2.7085571193134714\n"
     ]
    }
   ],
   "source": [
    "#Standard Deviation values for the BEVs/Private chargers > 1 including and excluding the maximum value, respectively \n",
    "print(rsel.std())\n",
    "print(rsel_withoutmax.std())"
   ]
  },
  {
   "cell_type": "code",
   "execution_count": null,
   "metadata": {
    "colab": {
     "base_uri": "https://localhost:8080/",
     "height": 585
    },
    "executionInfo": {
     "elapsed": 2807,
     "status": "ok",
     "timestamp": 1610026337296,
     "user": {
      "displayName": "Andrea Di Antonio",
      "photoUrl": "",
      "userId": "00274323577290199816"
     },
     "user_tz": 0
    },
    "id": "8_-qRqgQDC1r",
    "outputId": "aaa41b69-2b50-4cf8-ed1d-07a81817d269"
   },
   "outputs": [
    {
     "data": {
      "image/png": "[encoded data removed]",
      "text/plain": [
       "<Figure size 1296x576 with 1 Axes>"
      ]
     },
     "metadata": {
      "needs_background": "light",
      "tags": []
     },
     "output_type": "display_data"
    }
   ],
   "source": [
    "x = np.arange(len(rsel))\n",
    "width = 0.7  # the width of the bars\n",
    "\n",
    "fig, ax = plt.subplots(figsize=(18,8))\n",
    "rects1 = ax.bar(x, rsel, width)\n",
    "\n",
    "# Add some text for labels, title and custom x-axis tick labels, etc.\n",
    "ax.set_ylabel('BEVs/Private chargers')\n",
    "#ax.set_title('BEVs  Devices Quarterly Trend')\n",
    "ax.set_xticks(x)\n",
    "ax.set_xlim(0,len(rsel))\n",
    "ax.set_xticklabels(rsel.index, rotation = 90)\n",
    "#ax.legend()\n",
    "\n",
    "fig.tight_layout()\n",
    "\n",
    "plt.show()"
   ]
  },
  {
   "cell_type": "code",
   "execution_count": null,
   "metadata": {
    "colab": {
     "base_uri": "https://localhost:8080/",
     "height": 585
    },
    "executionInfo": {
     "elapsed": 2848,
     "status": "ok",
     "timestamp": 1610026394692,
     "user": {
      "displayName": "Andrea Di Antonio",
      "photoUrl": "",
      "userId": "00274323577290199816"
     },
     "user_tz": 0
    },
    "id": "agk8ZzJSDHd2",
    "outputId": "6aac0718-df96-4c41-e6b7-941eaf4575ca"
   },
   "outputs": [
    {
     "data": {
      "image/png": "[encoded data removed]",
      "text/plain": [
       "<Figure size 1296x576 with 1 Axes>"
      ]
     },
     "metadata": {
      "needs_background": "light",
      "tags": []
     },
     "output_type": "display_data"
    }
   ],
   "source": [
    "data_set = rsel_withoutmax\n",
    "\n",
    "x = np.arange(len(data_set))\n",
    "width = 0.7  # the width of the bars\n",
    "\n",
    "fig, ax = plt.subplots(figsize=(18,8))\n",
    "rects1 = ax.bar(x, data_set, width)\n",
    "\n",
    "# Add some text for labels, title and custom x-axis tick labels, etc.\n",
    "ax.set_ylabel('BEVs/Private chargers')\n",
    "#ax.set_title('BEVs  Devices Quarterly Trend')\n",
    "ax.set_xticks(x)\n",
    "ax.set_xlim(0,len(data_set))\n",
    "ax.set_xticklabels(data_set.index, rotation = 90)\n",
    "#ax.legend()\n",
    "\n",
    "fig.tight_layout()\n",
    "\n",
    "plt.show()"
   ]
  },
  {
   "cell_type": "code",
   "execution_count": null,
   "metadata": {
    "colab": {
     "base_uri": "https://localhost:8080/",
     "height": 265
    },
    "executionInfo": {
     "elapsed": 1066,
     "status": "ok",
     "timestamp": 1610026630150,
     "user": {
      "displayName": "Andrea Di Antonio",
      "photoUrl": "",
      "userId": "00274323577290199816"
     },
     "user_tz": 0
    },
    "id": "la1XUx7kDTnr",
    "outputId": "525620d5-18d2-4863-d336-08e106562088"
   },
   "outputs": [
    {
     "data": {
      "image/png": "[encoded data removed]",
      "text/plain": [
       "<Figure size 432x288 with 1 Axes>"
      ]
     },
     "metadata": {
      "needs_background": "light",
      "tags": []
     },
     "output_type": "display_data"
    }
   ],
   "source": [
    "plt.hist(rsel_withoutmax, 100, density=True, facecolor='g', alpha=0.75)\n",
    "plt.show()"
   ]
  },
  {
   "cell_type": "code",
   "execution_count": null,
   "metadata": {
    "colab": {
     "base_uri": "https://localhost:8080/"
    },
    "executionInfo": {
     "elapsed": 559,
     "status": "ok",
     "timestamp": 1610026721693,
     "user": {
      "displayName": "Andrea Di Antonio",
      "photoUrl": "",
      "userId": "00274323577290199816"
     },
     "user_tz": 0
    },
    "id": "MsBHmLwyN7_o",
    "outputId": "c8b2b790-ea34-4e06-9ae9-fb01ebab2772"
   },
   "outputs": [
    {
     "data": {
      "text/plain": [
       "District\n",
       "City of London            144.000000\n",
       "Hackney                    15.704918\n",
       "Shetland Islands           14.500000\n",
       "Tower Hamlets              13.458333\n",
       "Kensington and Chelsea     11.050955\n",
       "Stockport                  10.656663\n",
       "Westminster                10.328063\n",
       "Slough                      8.978873\n",
       "Islington                   8.735849\n",
       "Forest of Dean              8.342577\n",
       "dtype: float64"
      ]
     },
     "execution_count": 198,
     "metadata": {
      "tags": []
     },
     "output_type": "execute_result"
    }
   ],
   "source": [
    "#Top 10 Local Authorities with the highest BEVs/private chargers ratio\n",
    "rsel.sort_values(ascending = False).head(10)"
   ]
  },
  {
   "cell_type": "code",
   "execution_count": null,
   "metadata": {
    "colab": {
     "base_uri": "https://localhost:8080/"
    },
    "executionInfo": {
     "elapsed": 724,
     "status": "ok",
     "timestamp": 1610026737462,
     "user": {
      "displayName": "Andrea Di Antonio",
      "photoUrl": "",
      "userId": "00274323577290199816"
     },
     "user_tz": 0
    },
    "id": "UwQtsfvrN7_o",
    "outputId": "11c46d1e-1dac-4746-84cd-73ab1c6707c7"
   },
   "outputs": [
    {
     "data": {
      "text/plain": [
       "District\n",
       "Tewkesbury              1.001029\n",
       "South Cambridgeshire    1.003079\n",
       "Vale of White Horse     1.007414\n",
       "Hastings                1.009901\n",
       "Thanet                  1.010929\n",
       "Mid Devon               1.013986\n",
       "Midlothian              1.015730\n",
       "Knowsley                1.020501\n",
       "Powys                   1.026071\n",
       "Aberdeenshire           1.030233\n",
       "dtype: float64"
      ]
     },
     "execution_count": 199,
     "metadata": {
      "tags": []
     },
     "output_type": "execute_result"
    }
   ],
   "source": [
    "#Bottom 10 Local Authorities with the highest BEVs/private chargers ratio\n",
    "rsel.sort_values().head(10)"
   ]
  },
  {
   "cell_type": "code",
   "execution_count": null,
   "metadata": {
    "colab": {
     "base_uri": "https://localhost:8080/"
    },
    "executionInfo": {
     "elapsed": 892,
     "status": "ok",
     "timestamp": 1610036522772,
     "user": {
      "displayName": "Andrea Di Antonio",
      "photoUrl": "",
      "userId": "00274323577290199816"
     },
     "user_tz": 0
    },
    "id": "u6OmeQDbN7_o",
    "outputId": "e27a24d0-8ba9-4a62-f55b-8831a2039f67"
   },
   "outputs": [
    {
     "data": {
      "text/plain": [
       "Population                                                                     273244\n",
       "Total electric vehicles (BEVs)                                                    495\n",
       "Total public charging devices                                                     227\n",
       "Total public charging devices per 100,000 population                          78.0377\n",
       "Total private charging devices                                                    438\n",
       "Received government funding for residential charging devices                      Yes\n",
       "Charging devices usage                                          Predomintantly public\n",
       "Name: Brighton and Hove, dtype: object"
      ]
     },
     "execution_count": 209,
     "metadata": {
      "tags": []
     },
     "output_type": "execute_result"
    }
   ],
   "source": [
    "summary_dataframe.loc['Brighton and Hove']"
   ]
  },
  {
   "cell_type": "code",
   "execution_count": null,
   "metadata": {
    "id": "isHbqjJApvFQ"
   },
   "outputs": [],
   "source": []
  }
 ],
 "metadata": {
  "colab": {
   "collapsed_sections": [],
   "name": "EV and charging devices uptake.ipynb",
   "provenance": [],
   "toc_visible": true
  },
  "kernelspec": {
   "display_name": "Python 3",
   "language": "python",
   "name": "python3"
  },
  "language_info": {
   "codemirror_mode": {
    "name": "ipython",
    "version": 3
   },
   "file_extension": ".py",
   "mimetype": "text/x-python",
   "name": "python",
   "nbconvert_exporter": "python",
   "pygments_lexer": "ipython3",
   "version": "3.7.4"
  }
 },
 "nbformat": 4,
 "nbformat_minor": 1
}
