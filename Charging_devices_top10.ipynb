{
 "cells": [
  {
   "cell_type": "markdown",
   "id": "respected-nickel",
   "metadata": {},
   "source": [
    "# Importing packages"
   ]
  },
  {
   "cell_type": "code",
   "execution_count": 1,
   "id": "thrown-conclusion",
   "metadata": {},
   "outputs": [],
   "source": [
    "import os\n",
    "import io\n",
    "import json\n",
    "import math\n",
    "import folium\n",
    "import zipfile\n",
    "import shapely\n",
    "import sklearn\n",
    "import openpyxl\n",
    "import requests\n",
    "import numpy as np \n",
    "import pandas as pd\n",
    "import seaborn as sns\n",
    "from tqdm import tqdm\n",
    "import geopandas as gpd\n",
    "import branca.colormap as cm\n",
    "from datetime import datetime\n",
    "import matplotlib.pyplot as plt\n",
    "from shapely.geometry import Point\n",
    "from folium.plugins import HeatMap\n",
    "from branca.colormap import linear\n",
    "from pandas_ods_reader import read_ods\n",
    "from folium.plugins import FastMarkerCluster\n",
    "from shapely.geometry.polygon import Polygon\n",
    "from folium.plugins import TimeSliderChoropleth\n",
    "from sklearn.linear_model import LinearRegression\n",
    "gpd.io.file.fiona.drvsupport.supported_drivers['KML'] = 'rw'\n",
    "\n",
    "\n",
    "import matplotlib.ticker as ticker\n",
    "import matplotlib.animation as animation\n",
    "from IPython.display import HTML\n",
    "from sklearn.metrics import mean_squared_error\n",
    "import base64\n",
    "from folium import IFrame"
   ]
  },
  {
   "cell_type": "markdown",
   "id": "bizarre-charger",
   "metadata": {},
   "source": [
    "# Import files"
   ]
  },
  {
   "cell_type": "code",
   "execution_count": 2,
   "id": "aboriginal-lyric",
   "metadata": {},
   "outputs": [],
   "source": [
    "dirname='Data'"
   ]
  },
  {
   "cell_type": "code",
   "execution_count": 149,
   "id": "demonstrated-macro",
   "metadata": {},
   "outputs": [],
   "source": [
    "#Import file containing the information about, among others, postcodes, local authority\n",
    "postcode_active = pd.read_csv(dirname+'/postcodes_active.csv',low_memory=False) "
   ]
  },
  {
   "cell_type": "code",
   "execution_count": 150,
   "id": "fitted-third",
   "metadata": {},
   "outputs": [
    {
     "data": {
      "text/plain": [
       "Index(['pcd', 'pcd2', 'pcds', 'dointr', 'doterm', 'usertype', 'oseast1m',\n",
       "       'osnrth1m', 'osgrdind', 'oa11', 'cty', 'ced', 'laua', 'ward', 'hlthau',\n",
       "       'nhser', 'ctry', 'rgn', 'pcon', 'eer', 'teclec', 'ttwa', 'pct', 'nuts',\n",
       "       'park', 'lsoa11', 'msoa11', 'wz11', 'ccg', 'bua11', 'buasd11',\n",
       "       'ru11ind', 'oac11', 'lat', 'long', 'lep1', 'lep2', 'pfa', 'imd',\n",
       "       'calncv', 'stp', 'Postcode District', 'laua_name'],\n",
       "      dtype='object')"
      ]
     },
     "execution_count": 150,
     "metadata": {},
     "output_type": "execute_result"
    }
   ],
   "source": [
    "postcode_active.columns"
   ]
  },
  {
   "cell_type": "code",
   "execution_count": 158,
   "id": "amazing-dialogue",
   "metadata": {},
   "outputs": [],
   "source": [
    "postcode_active['rgn']= postcode_active['rgn'].replace({'N99999999':'N92000002','S99999999':'S92000003','W99999999':'W92000004'})"
   ]
  },
  {
   "cell_type": "code",
   "execution_count": 159,
   "id": "measured-iraqi",
   "metadata": {},
   "outputs": [],
   "source": [
    "rgn_list = sorted([item for item in postcode_active['rgn'].unique()])"
   ]
  },
  {
   "cell_type": "code",
   "execution_count": 161,
   "id": "about-bookmark",
   "metadata": {},
   "outputs": [],
   "source": [
    "ctry_list = [item for item in postcode_active['ctry'].unique()]"
   ]
  },
  {
   "cell_type": "code",
   "execution_count": 162,
   "id": "wicked-stick",
   "metadata": {},
   "outputs": [],
   "source": [
    "la_list = [item for item in postcode_active['laua'].unique()]"
   ]
  },
  {
   "cell_type": "code",
   "execution_count": 163,
   "id": "governmental-thinking",
   "metadata": {},
   "outputs": [],
   "source": [
    "dic_region = {item:postcode_active[postcode_active['rgn']==item]['laua'].unique().tolist() for item in rgn_list}"
   ]
  },
  {
   "cell_type": "code",
   "execution_count": 164,
   "id": "distinguished-basket",
   "metadata": {},
   "outputs": [],
   "source": [
    "df_import = pd.read_excel('https://assets.publishing.service.gov.uk/government/uploads/system/uploads/attachment_data/file/959367/electric-vehicle-charging-device-statistics-january-2021.ods', sheet_name = 'EVCD_01a')\n",
    "df_import = df_import[df_import.iloc[:,1].notnull()]\n",
    "df_import = df_import.set_index('Department for Transport statistics')"
   ]
  },
  {
   "cell_type": "code",
   "execution_count": 165,
   "id": "corporate-disabled",
   "metadata": {},
   "outputs": [],
   "source": [
    "dic_region_name = {item:df_import[df_import.index==item].iloc[0,0] for item in dic_region.keys()}"
   ]
  },
  {
   "cell_type": "code",
   "execution_count": 166,
   "id": "interracial-retention",
   "metadata": {},
   "outputs": [],
   "source": [
    "dic_la_name = {item:df_import[df_import.index==item].iloc[0,0] for item in la_list}"
   ]
  },
  {
   "cell_type": "code",
   "execution_count": 167,
   "id": "representative-college",
   "metadata": {},
   "outputs": [],
   "source": [
    "df_import = df_import.iloc[:,1:]"
   ]
  },
  {
   "cell_type": "code",
   "execution_count": 168,
   "id": "intimate-hostel",
   "metadata": {},
   "outputs": [
    {
     "data": {
      "text/html": [
       "<div>\n",
       "<style scoped>\n",
       "    .dataframe tbody tr th:only-of-type {\n",
       "        vertical-align: middle;\n",
       "    }\n",
       "\n",
       "    .dataframe tbody tr th {\n",
       "        vertical-align: top;\n",
       "    }\n",
       "\n",
       "    .dataframe thead th {\n",
       "        text-align: right;\n",
       "    }\n",
       "</style>\n",
       "<table border=\"1\" class=\"dataframe\">\n",
       "  <thead>\n",
       "    <tr style=\"text-align: right;\">\n",
       "      <th></th>\n",
       "      <th>Unnamed: 2</th>\n",
       "      <th>Unnamed: 3</th>\n",
       "      <th>Unnamed: 4</th>\n",
       "      <th>Unnamed: 5</th>\n",
       "      <th>Unnamed: 6</th>\n",
       "      <th>Unnamed: 7</th>\n",
       "      <th>Unnamed: 8</th>\n",
       "      <th>Unnamed: 9</th>\n",
       "      <th>Unnamed: 10</th>\n",
       "      <th>Unnamed: 11</th>\n",
       "      <th>Unnamed: 12</th>\n",
       "      <th>Unnamed: 13</th>\n",
       "    </tr>\n",
       "    <tr>\n",
       "      <th>Department for Transport statistics</th>\n",
       "      <th></th>\n",
       "      <th></th>\n",
       "      <th></th>\n",
       "      <th></th>\n",
       "      <th></th>\n",
       "      <th></th>\n",
       "      <th></th>\n",
       "      <th></th>\n",
       "      <th></th>\n",
       "      <th></th>\n",
       "      <th></th>\n",
       "      <th></th>\n",
       "    </tr>\n",
       "  </thead>\n",
       "  <tbody>\n",
       "    <tr>\n",
       "      <th>LA / Region Code</th>\n",
       "      <td>2021-01-01 00:00:00</td>\n",
       "      <td>NaN</td>\n",
       "      <td>2020-10-01 00:00:00</td>\n",
       "      <td>NaN</td>\n",
       "      <td>2020-07-01 00:00:00</td>\n",
       "      <td>NaN</td>\n",
       "      <td>2020-04-01 00:00:00</td>\n",
       "      <td>NaN</td>\n",
       "      <td>2020-01-01 00:00:00</td>\n",
       "      <td>NaN</td>\n",
       "      <td>2019-10-01 00:00:00</td>\n",
       "      <td>NaN</td>\n",
       "    </tr>\n",
       "    <tr>\n",
       "      <th>K02000001</th>\n",
       "      <td>20775</td>\n",
       "      <td>31.101786</td>\n",
       "      <td>19487</td>\n",
       "      <td>29.17355</td>\n",
       "      <td>18265</td>\n",
       "      <td>27.33963</td>\n",
       "      <td>17947</td>\n",
       "      <td>27.014151</td>\n",
       "      <td>16505</td>\n",
       "      <td>24.843627</td>\n",
       "      <td>15116</td>\n",
       "      <td>22.752879</td>\n",
       "    </tr>\n",
       "    <tr>\n",
       "      <th>K03000001</th>\n",
       "      <td>20455</td>\n",
       "      <td>31.516195</td>\n",
       "      <td>19169</td>\n",
       "      <td>29.534781</td>\n",
       "      <td>17953</td>\n",
       "      <td>27.656597</td>\n",
       "      <td>17642</td>\n",
       "      <td>27.329096</td>\n",
       "      <td>16210</td>\n",
       "      <td>25.110795</td>\n",
       "      <td>14821</td>\n",
       "      <td>22.959105</td>\n",
       "    </tr>\n",
       "    <tr>\n",
       "      <th>E92000001</th>\n",
       "      <td>17459</td>\n",
       "      <td>31.017841</td>\n",
       "      <td>16456</td>\n",
       "      <td>29.235901</td>\n",
       "      <td>15395</td>\n",
       "      <td>27.345587</td>\n",
       "      <td>14979</td>\n",
       "      <td>26.75912</td>\n",
       "      <td>13719</td>\n",
       "      <td>24.508202</td>\n",
       "      <td>12549</td>\n",
       "      <td>22.418065</td>\n",
       "    </tr>\n",
       "    <tr>\n",
       "      <th>E12000001</th>\n",
       "      <td>820</td>\n",
       "      <td>30.712289</td>\n",
       "      <td>849</td>\n",
       "      <td>31.798455</td>\n",
       "      <td>812</td>\n",
       "      <td>30.412657</td>\n",
       "      <td>786</td>\n",
       "      <td>29.572119</td>\n",
       "      <td>752</td>\n",
       "      <td>28.292917</td>\n",
       "      <td>738</td>\n",
       "      <td>27.766188</td>\n",
       "    </tr>\n",
       "    <tr>\n",
       "      <th>...</th>\n",
       "      <td>...</td>\n",
       "      <td>...</td>\n",
       "      <td>...</td>\n",
       "      <td>...</td>\n",
       "      <td>...</td>\n",
       "      <td>...</td>\n",
       "      <td>...</td>\n",
       "      <td>...</td>\n",
       "      <td>...</td>\n",
       "      <td>...</td>\n",
       "      <td>...</td>\n",
       "      <td>...</td>\n",
       "    </tr>\n",
       "    <tr>\n",
       "      <th>N09000006</th>\n",
       "      <td>38</td>\n",
       "      <td>32.3688</td>\n",
       "      <td>38</td>\n",
       "      <td>32.3688</td>\n",
       "      <td>38</td>\n",
       "      <td>32.3688</td>\n",
       "      <td>38</td>\n",
       "      <td>32.5245</td>\n",
       "      <td>38</td>\n",
       "      <td>32.5245</td>\n",
       "      <td>38</td>\n",
       "      <td>32.5245</td>\n",
       "    </tr>\n",
       "    <tr>\n",
       "      <th>N09000007</th>\n",
       "      <td>11</td>\n",
       "      <td>7.534143</td>\n",
       "      <td>11</td>\n",
       "      <td>7.534143</td>\n",
       "      <td>11</td>\n",
       "      <td>7.534143</td>\n",
       "      <td>11</td>\n",
       "      <td>7.618731</td>\n",
       "      <td>11</td>\n",
       "      <td>7.618731</td>\n",
       "      <td>11</td>\n",
       "      <td>7.618731</td>\n",
       "    </tr>\n",
       "    <tr>\n",
       "      <th>N09000008</th>\n",
       "      <td>27</td>\n",
       "      <td>19.386246</td>\n",
       "      <td>27</td>\n",
       "      <td>19.386246</td>\n",
       "      <td>27</td>\n",
       "      <td>19.386246</td>\n",
       "      <td>25</td>\n",
       "      <td>18.015032</td>\n",
       "      <td>25</td>\n",
       "      <td>18.015032</td>\n",
       "      <td>24</td>\n",
       "      <td>18.735633</td>\n",
       "    </tr>\n",
       "    <tr>\n",
       "      <th>N09000009</th>\n",
       "      <td>22</td>\n",
       "      <td>14.812022</td>\n",
       "      <td>22</td>\n",
       "      <td>14.812022</td>\n",
       "      <td>22</td>\n",
       "      <td>14.812022</td>\n",
       "      <td>22</td>\n",
       "      <td>14.926183</td>\n",
       "      <td>22</td>\n",
       "      <td>14.926183</td>\n",
       "      <td>23</td>\n",
       "      <td>14.926183</td>\n",
       "    </tr>\n",
       "    <tr>\n",
       "      <th>N09000010</th>\n",
       "      <td>31</td>\n",
       "      <td>17.092321</td>\n",
       "      <td>31</td>\n",
       "      <td>17.092321</td>\n",
       "      <td>31</td>\n",
       "      <td>17.092321</td>\n",
       "      <td>31</td>\n",
       "      <td>17.221074</td>\n",
       "      <td>31</td>\n",
       "      <td>17.221074</td>\n",
       "      <td>31</td>\n",
       "      <td>16.665556</td>\n",
       "    </tr>\n",
       "  </tbody>\n",
       "</table>\n",
       "<p>428 rows × 12 columns</p>\n",
       "</div>"
      ],
      "text/plain": [
       "                                              Unnamed: 2 Unnamed: 3  \\\n",
       "Department for Transport statistics                                   \n",
       "LA / Region Code                     2021-01-01 00:00:00        NaN   \n",
       "K02000001                                          20775  31.101786   \n",
       "K03000001                                          20455  31.516195   \n",
       "E92000001                                          17459  31.017841   \n",
       "E12000001                                            820  30.712289   \n",
       "...                                                  ...        ...   \n",
       "N09000006                                             38    32.3688   \n",
       "N09000007                                             11   7.534143   \n",
       "N09000008                                             27  19.386246   \n",
       "N09000009                                             22  14.812022   \n",
       "N09000010                                             31  17.092321   \n",
       "\n",
       "                                              Unnamed: 4 Unnamed: 5  \\\n",
       "Department for Transport statistics                                   \n",
       "LA / Region Code                     2020-10-01 00:00:00        NaN   \n",
       "K02000001                                          19487   29.17355   \n",
       "K03000001                                          19169  29.534781   \n",
       "E92000001                                          16456  29.235901   \n",
       "E12000001                                            849  31.798455   \n",
       "...                                                  ...        ...   \n",
       "N09000006                                             38    32.3688   \n",
       "N09000007                                             11   7.534143   \n",
       "N09000008                                             27  19.386246   \n",
       "N09000009                                             22  14.812022   \n",
       "N09000010                                             31  17.092321   \n",
       "\n",
       "                                              Unnamed: 6 Unnamed: 7  \\\n",
       "Department for Transport statistics                                   \n",
       "LA / Region Code                     2020-07-01 00:00:00        NaN   \n",
       "K02000001                                          18265   27.33963   \n",
       "K03000001                                          17953  27.656597   \n",
       "E92000001                                          15395  27.345587   \n",
       "E12000001                                            812  30.412657   \n",
       "...                                                  ...        ...   \n",
       "N09000006                                             38    32.3688   \n",
       "N09000007                                             11   7.534143   \n",
       "N09000008                                             27  19.386246   \n",
       "N09000009                                             22  14.812022   \n",
       "N09000010                                             31  17.092321   \n",
       "\n",
       "                                              Unnamed: 8 Unnamed: 9  \\\n",
       "Department for Transport statistics                                   \n",
       "LA / Region Code                     2020-04-01 00:00:00        NaN   \n",
       "K02000001                                          17947  27.014151   \n",
       "K03000001                                          17642  27.329096   \n",
       "E92000001                                          14979   26.75912   \n",
       "E12000001                                            786  29.572119   \n",
       "...                                                  ...        ...   \n",
       "N09000006                                             38    32.5245   \n",
       "N09000007                                             11   7.618731   \n",
       "N09000008                                             25  18.015032   \n",
       "N09000009                                             22  14.926183   \n",
       "N09000010                                             31  17.221074   \n",
       "\n",
       "                                             Unnamed: 10 Unnamed: 11  \\\n",
       "Department for Transport statistics                                    \n",
       "LA / Region Code                     2020-01-01 00:00:00         NaN   \n",
       "K02000001                                          16505   24.843627   \n",
       "K03000001                                          16210   25.110795   \n",
       "E92000001                                          13719   24.508202   \n",
       "E12000001                                            752   28.292917   \n",
       "...                                                  ...         ...   \n",
       "N09000006                                             38     32.5245   \n",
       "N09000007                                             11    7.618731   \n",
       "N09000008                                             25   18.015032   \n",
       "N09000009                                             22   14.926183   \n",
       "N09000010                                             31   17.221074   \n",
       "\n",
       "                                             Unnamed: 12 Unnamed: 13  \n",
       "Department for Transport statistics                                   \n",
       "LA / Region Code                     2019-10-01 00:00:00         NaN  \n",
       "K02000001                                          15116   22.752879  \n",
       "K03000001                                          14821   22.959105  \n",
       "E92000001                                          12549   22.418065  \n",
       "E12000001                                            738   27.766188  \n",
       "...                                                  ...         ...  \n",
       "N09000006                                             38     32.5245  \n",
       "N09000007                                             11    7.618731  \n",
       "N09000008                                             24   18.735633  \n",
       "N09000009                                             23   14.926183  \n",
       "N09000010                                             31   16.665556  \n",
       "\n",
       "[428 rows x 12 columns]"
      ]
     },
     "execution_count": 168,
     "metadata": {},
     "output_type": "execute_result"
    }
   ],
   "source": [
    "df_import"
   ]
  },
  {
   "cell_type": "code",
   "execution_count": 169,
   "id": "turned-charleston",
   "metadata": {},
   "outputs": [],
   "source": [
    "header =  [item.strftime(\"%B %Y\") for item in df_import.iloc[0][::2]]"
   ]
  },
  {
   "cell_type": "code",
   "execution_count": 171,
   "id": "gentle-universe",
   "metadata": {},
   "outputs": [],
   "source": [
    "df = df_import.drop(columns = df_import.columns[::2])[1:]\n",
    "df.columns = header\n",
    "df.index.name = 'LA_code'\n",
    "df = df.astype(float)"
   ]
  },
  {
   "cell_type": "code",
   "execution_count": 172,
   "id": "digital-pillow",
   "metadata": {},
   "outputs": [],
   "source": [
    "df_sorted = df.iloc[:,::-1].pct_change(axis = 'columns')*100"
   ]
  },
  {
   "cell_type": "code",
   "execution_count": 173,
   "id": "numerical-boost",
   "metadata": {},
   "outputs": [
    {
     "data": {
      "text/html": [
       "<div>\n",
       "<style scoped>\n",
       "    .dataframe tbody tr th:only-of-type {\n",
       "        vertical-align: middle;\n",
       "    }\n",
       "\n",
       "    .dataframe tbody tr th {\n",
       "        vertical-align: top;\n",
       "    }\n",
       "\n",
       "    .dataframe thead th {\n",
       "        text-align: right;\n",
       "    }\n",
       "</style>\n",
       "<table border=\"1\" class=\"dataframe\">\n",
       "  <thead>\n",
       "    <tr style=\"text-align: right;\">\n",
       "      <th></th>\n",
       "      <th>October 2019</th>\n",
       "      <th>January 2020</th>\n",
       "      <th>April 2020</th>\n",
       "      <th>July 2020</th>\n",
       "      <th>October 2020</th>\n",
       "      <th>January 2021</th>\n",
       "    </tr>\n",
       "    <tr>\n",
       "      <th>LA_code</th>\n",
       "      <th></th>\n",
       "      <th></th>\n",
       "      <th></th>\n",
       "      <th></th>\n",
       "      <th></th>\n",
       "      <th></th>\n",
       "    </tr>\n",
       "  </thead>\n",
       "  <tbody>\n",
       "    <tr>\n",
       "      <th>K02000001</th>\n",
       "      <td>22.752879</td>\n",
       "      <td>24.843627</td>\n",
       "      <td>27.014151</td>\n",
       "      <td>27.339630</td>\n",
       "      <td>29.173550</td>\n",
       "      <td>31.101786</td>\n",
       "    </tr>\n",
       "    <tr>\n",
       "      <th>K03000001</th>\n",
       "      <td>22.959105</td>\n",
       "      <td>25.110795</td>\n",
       "      <td>27.329096</td>\n",
       "      <td>27.656597</td>\n",
       "      <td>29.534781</td>\n",
       "      <td>31.516195</td>\n",
       "    </tr>\n",
       "    <tr>\n",
       "      <th>E92000001</th>\n",
       "      <td>22.418065</td>\n",
       "      <td>24.508202</td>\n",
       "      <td>26.759120</td>\n",
       "      <td>27.345587</td>\n",
       "      <td>29.235901</td>\n",
       "      <td>31.017841</td>\n",
       "    </tr>\n",
       "    <tr>\n",
       "      <th>E12000001</th>\n",
       "      <td>27.766188</td>\n",
       "      <td>28.292917</td>\n",
       "      <td>29.572119</td>\n",
       "      <td>30.412657</td>\n",
       "      <td>31.798455</td>\n",
       "      <td>30.712289</td>\n",
       "    </tr>\n",
       "    <tr>\n",
       "      <th>E06000047</th>\n",
       "      <td>17.457968</td>\n",
       "      <td>18.217010</td>\n",
       "      <td>19.355573</td>\n",
       "      <td>19.807808</td>\n",
       "      <td>19.996453</td>\n",
       "      <td>20.751037</td>\n",
       "    </tr>\n",
       "    <tr>\n",
       "      <th>...</th>\n",
       "      <td>...</td>\n",
       "      <td>...</td>\n",
       "      <td>...</td>\n",
       "      <td>...</td>\n",
       "      <td>...</td>\n",
       "      <td>...</td>\n",
       "    </tr>\n",
       "    <tr>\n",
       "      <th>N09000006</th>\n",
       "      <td>32.524500</td>\n",
       "      <td>32.524500</td>\n",
       "      <td>32.524500</td>\n",
       "      <td>32.368800</td>\n",
       "      <td>32.368800</td>\n",
       "      <td>32.368800</td>\n",
       "    </tr>\n",
       "    <tr>\n",
       "      <th>N09000007</th>\n",
       "      <td>7.618731</td>\n",
       "      <td>7.618731</td>\n",
       "      <td>7.618731</td>\n",
       "      <td>7.534143</td>\n",
       "      <td>7.534143</td>\n",
       "      <td>7.534143</td>\n",
       "    </tr>\n",
       "    <tr>\n",
       "      <th>N09000008</th>\n",
       "      <td>18.735633</td>\n",
       "      <td>18.015032</td>\n",
       "      <td>18.015032</td>\n",
       "      <td>19.386246</td>\n",
       "      <td>19.386246</td>\n",
       "      <td>19.386246</td>\n",
       "    </tr>\n",
       "    <tr>\n",
       "      <th>N09000009</th>\n",
       "      <td>14.926183</td>\n",
       "      <td>14.926183</td>\n",
       "      <td>14.926183</td>\n",
       "      <td>14.812022</td>\n",
       "      <td>14.812022</td>\n",
       "      <td>14.812022</td>\n",
       "    </tr>\n",
       "    <tr>\n",
       "      <th>N09000010</th>\n",
       "      <td>16.665556</td>\n",
       "      <td>17.221074</td>\n",
       "      <td>17.221074</td>\n",
       "      <td>17.092321</td>\n",
       "      <td>17.092321</td>\n",
       "      <td>17.092321</td>\n",
       "    </tr>\n",
       "  </tbody>\n",
       "</table>\n",
       "<p>427 rows × 6 columns</p>\n",
       "</div>"
      ],
      "text/plain": [
       "           October 2019  January 2020  April 2020  July 2020  October 2020  \\\n",
       "LA_code                                                                      \n",
       "K02000001     22.752879     24.843627   27.014151  27.339630     29.173550   \n",
       "K03000001     22.959105     25.110795   27.329096  27.656597     29.534781   \n",
       "E92000001     22.418065     24.508202   26.759120  27.345587     29.235901   \n",
       "E12000001     27.766188     28.292917   29.572119  30.412657     31.798455   \n",
       "E06000047     17.457968     18.217010   19.355573  19.807808     19.996453   \n",
       "...                 ...           ...         ...        ...           ...   \n",
       "N09000006     32.524500     32.524500   32.524500  32.368800     32.368800   \n",
       "N09000007      7.618731      7.618731    7.618731   7.534143      7.534143   \n",
       "N09000008     18.735633     18.015032   18.015032  19.386246     19.386246   \n",
       "N09000009     14.926183     14.926183   14.926183  14.812022     14.812022   \n",
       "N09000010     16.665556     17.221074   17.221074  17.092321     17.092321   \n",
       "\n",
       "           January 2021  \n",
       "LA_code                  \n",
       "K02000001     31.101786  \n",
       "K03000001     31.516195  \n",
       "E92000001     31.017841  \n",
       "E12000001     30.712289  \n",
       "E06000047     20.751037  \n",
       "...                 ...  \n",
       "N09000006     32.368800  \n",
       "N09000007      7.534143  \n",
       "N09000008     19.386246  \n",
       "N09000009     14.812022  \n",
       "N09000010     17.092321  \n",
       "\n",
       "[427 rows x 6 columns]"
      ]
     },
     "execution_count": 173,
     "metadata": {},
     "output_type": "execute_result"
    }
   ],
   "source": [
    "df.iloc[:,::-1]"
   ]
  },
  {
   "cell_type": "code",
   "execution_count": 176,
   "id": "useful-assault",
   "metadata": {},
   "outputs": [
    {
     "name": "stdout",
     "output_type": "stream",
     "text": [
      "379\n"
     ]
    }
   ],
   "source": [
    "df_sel = df[df.index.isin(la_list)]\n",
    "print(len(df_sel))"
   ]
  },
  {
   "cell_type": "markdown",
   "id": "successful-hypothesis",
   "metadata": {},
   "source": [
    "# Stats"
   ]
  },
  {
   "cell_type": "code",
   "execution_count": 177,
   "id": "executed-buddy",
   "metadata": {},
   "outputs": [
    {
     "data": {
      "text/html": [
       "<div>\n",
       "<style scoped>\n",
       "    .dataframe tbody tr th:only-of-type {\n",
       "        vertical-align: middle;\n",
       "    }\n",
       "\n",
       "    .dataframe tbody tr th {\n",
       "        vertical-align: top;\n",
       "    }\n",
       "\n",
       "    .dataframe thead th {\n",
       "        text-align: right;\n",
       "    }\n",
       "</style>\n",
       "<table border=\"1\" class=\"dataframe\">\n",
       "  <thead>\n",
       "    <tr style=\"text-align: right;\">\n",
       "      <th></th>\n",
       "      <th>La_name</th>\n",
       "      <th>October 2019</th>\n",
       "    </tr>\n",
       "    <tr>\n",
       "      <th>LA_code</th>\n",
       "      <th></th>\n",
       "      <th></th>\n",
       "    </tr>\n",
       "  </thead>\n",
       "  <tbody>\n",
       "    <tr>\n",
       "      <th>E09000001</th>\n",
       "      <td>City of London</td>\n",
       "      <td>413.507926</td>\n",
       "    </tr>\n",
       "    <tr>\n",
       "      <th>E09000033</th>\n",
       "      <td>Westminster</td>\n",
       "      <td>189.954724</td>\n",
       "    </tr>\n",
       "    <tr>\n",
       "      <th>E09000013</th>\n",
       "      <td>Hammersmith and Fulham</td>\n",
       "      <td>147.767843</td>\n",
       "    </tr>\n",
       "    <tr>\n",
       "      <th>E09000027</th>\n",
       "      <td>Richmond upon Thames</td>\n",
       "      <td>141.185552</td>\n",
       "    </tr>\n",
       "    <tr>\n",
       "      <th>E09000032</th>\n",
       "      <td>Wandsworth</td>\n",
       "      <td>126.809486</td>\n",
       "    </tr>\n",
       "    <tr>\n",
       "      <th>S12000023</th>\n",
       "      <td>Orkney Islands</td>\n",
       "      <td>108.156827</td>\n",
       "    </tr>\n",
       "    <tr>\n",
       "      <th>E09000020</th>\n",
       "      <td>Kensington and Chelsea</td>\n",
       "      <td>104.355397</td>\n",
       "    </tr>\n",
       "    <tr>\n",
       "      <th>S12000013</th>\n",
       "      <td>Na h-Eileanan Siar</td>\n",
       "      <td>100.633619</td>\n",
       "    </tr>\n",
       "    <tr>\n",
       "      <th>E06000042</th>\n",
       "      <td>Milton Keynes</td>\n",
       "      <td>96.051108</td>\n",
       "    </tr>\n",
       "    <tr>\n",
       "      <th>E09000018</th>\n",
       "      <td>Hounslow</td>\n",
       "      <td>83.831274</td>\n",
       "    </tr>\n",
       "  </tbody>\n",
       "</table>\n",
       "</div>"
      ],
      "text/plain": [
       "                          La_name  October 2019\n",
       "LA_code                                        \n",
       "E09000001          City of London    413.507926\n",
       "E09000033             Westminster    189.954724\n",
       "E09000013  Hammersmith and Fulham    147.767843\n",
       "E09000027    Richmond upon Thames    141.185552\n",
       "E09000032              Wandsworth    126.809486\n",
       "S12000023          Orkney Islands    108.156827\n",
       "E09000020  Kensington and Chelsea    104.355397\n",
       "S12000013      Na h-Eileanan Siar    100.633619\n",
       "E06000042           Milton Keynes     96.051108\n",
       "E09000018                Hounslow     83.831274"
      ]
     },
     "execution_count": 177,
     "metadata": {},
     "output_type": "execute_result"
    }
   ],
   "source": [
    "top10_uk_19 = df_sel.sort_values('October 2019',ascending=False).head(10)\n",
    "top10_uk_19['La_name'] = [dic_la_name[item] for item in top10_uk_19.index]\n",
    "top10_uk_19[['La_name','October 2019']]"
   ]
  },
  {
   "cell_type": "code",
   "execution_count": 178,
   "id": "great-onion",
   "metadata": {},
   "outputs": [
    {
     "data": {
      "text/html": [
       "<div>\n",
       "<style scoped>\n",
       "    .dataframe tbody tr th:only-of-type {\n",
       "        vertical-align: middle;\n",
       "    }\n",
       "\n",
       "    .dataframe tbody tr th {\n",
       "        vertical-align: top;\n",
       "    }\n",
       "\n",
       "    .dataframe thead th {\n",
       "        text-align: right;\n",
       "    }\n",
       "</style>\n",
       "<table border=\"1\" class=\"dataframe\">\n",
       "  <thead>\n",
       "    <tr style=\"text-align: right;\">\n",
       "      <th></th>\n",
       "      <th>La_name</th>\n",
       "      <th>January 2021</th>\n",
       "    </tr>\n",
       "    <tr>\n",
       "      <th>LA_code</th>\n",
       "      <th></th>\n",
       "      <th></th>\n",
       "    </tr>\n",
       "  </thead>\n",
       "  <tbody>\n",
       "    <tr>\n",
       "      <th>E09000001</th>\n",
       "      <td>City of London</td>\n",
       "      <td>360.045263</td>\n",
       "    </tr>\n",
       "    <tr>\n",
       "      <th>E09000020</th>\n",
       "      <td>Kensington and Chelsea</td>\n",
       "      <td>269.008320</td>\n",
       "    </tr>\n",
       "    <tr>\n",
       "      <th>E09000033</th>\n",
       "      <td>Westminster</td>\n",
       "      <td>247.209328</td>\n",
       "    </tr>\n",
       "    <tr>\n",
       "      <th>E09000013</th>\n",
       "      <td>Hammersmith and Fulham</td>\n",
       "      <td>208.487493</td>\n",
       "    </tr>\n",
       "    <tr>\n",
       "      <th>E09000032</th>\n",
       "      <td>Wandsworth</td>\n",
       "      <td>180.176354</td>\n",
       "    </tr>\n",
       "    <tr>\n",
       "      <th>E09000027</th>\n",
       "      <td>Richmond upon Thames</td>\n",
       "      <td>165.135669</td>\n",
       "    </tr>\n",
       "    <tr>\n",
       "      <th>S12000023</th>\n",
       "      <td>Orkney Islands</td>\n",
       "      <td>143.691064</td>\n",
       "    </tr>\n",
       "    <tr>\n",
       "      <th>E09000007</th>\n",
       "      <td>Camden</td>\n",
       "      <td>133.689345</td>\n",
       "    </tr>\n",
       "    <tr>\n",
       "      <th>E06000042</th>\n",
       "      <td>Milton Keynes</td>\n",
       "      <td>121.355170</td>\n",
       "    </tr>\n",
       "    <tr>\n",
       "      <th>S12000010</th>\n",
       "      <td>East Lothian</td>\n",
       "      <td>100.849752</td>\n",
       "    </tr>\n",
       "  </tbody>\n",
       "</table>\n",
       "</div>"
      ],
      "text/plain": [
       "                          La_name  January 2021\n",
       "LA_code                                        \n",
       "E09000001          City of London    360.045263\n",
       "E09000020  Kensington and Chelsea    269.008320\n",
       "E09000033             Westminster    247.209328\n",
       "E09000013  Hammersmith and Fulham    208.487493\n",
       "E09000032              Wandsworth    180.176354\n",
       "E09000027    Richmond upon Thames    165.135669\n",
       "S12000023          Orkney Islands    143.691064\n",
       "E09000007                  Camden    133.689345\n",
       "E06000042           Milton Keynes    121.355170\n",
       "S12000010            East Lothian    100.849752"
      ]
     },
     "execution_count": 178,
     "metadata": {},
     "output_type": "execute_result"
    }
   ],
   "source": [
    "top10_uk_21 = df_sel.sort_values('January 2021',ascending=False).head(10)\n",
    "top10_uk_21['La_name'] = [dic_la_name[item] for item in top10_uk_21.index]\n",
    "top10_uk_21[['La_name','January 2021']]"
   ]
  },
  {
   "cell_type": "code",
   "execution_count": 180,
   "id": "healthy-fence",
   "metadata": {
    "scrolled": true
   },
   "outputs": [
    {
     "name": "stderr",
     "output_type": "stream",
     "text": [
      "100%|██████████| 12/12 [00:00<00:00, 113.21it/s]\n"
     ]
    }
   ],
   "source": [
    "top10_2019 = []\n",
    "top10_2021 = []\n",
    "\n",
    "for item in tqdm(sorted(rgn_list)):\n",
    "    df_rgn = df_sel[df_sel.index.isin(dic_region[item])]\n",
    "    \n",
    "    top10_19 = df_rgn.sort_values('October 2019',ascending=False).head(10)\n",
    "    top10_21 = df_rgn.sort_values('January 2021',ascending=False).head(10)\n",
    "    \n",
    "    top10_19['La_name'] = [dic_la_name[item] for item in top10_19.index]\n",
    "    top10_2019.append(top10_19[['La_name','October 2019']])\n",
    "    \n",
    "    top10_21['La_name'] = [dic_la_name[item] for item in top10_21.index]\n",
    "    top10_2021.append(top10_21[['La_name','January 2021']])"
   ]
  },
  {
   "cell_type": "code",
   "execution_count": 181,
   "id": "modern-japanese",
   "metadata": {},
   "outputs": [
    {
     "data": {
      "text/plain": [
       "{'E12000001': 'NORTH EAST',\n",
       " 'E12000002': 'NORTH WEST',\n",
       " 'E12000003': 'YORKSHIRE AND THE HUMBER',\n",
       " 'E12000004': 'EAST MIDLANDS',\n",
       " 'E12000005': 'WEST MIDLANDS',\n",
       " 'E12000006': 'EAST OF ENGLAND',\n",
       " 'E12000007': 'LONDON',\n",
       " 'E12000008': 'SOUTH EAST',\n",
       " 'E12000009': 'SOUTH WEST',\n",
       " 'N92000002': 'NORTHERN IRELAND',\n",
       " 'S92000003': 'SCOTLAND',\n",
       " 'W92000004': 'WALES'}"
      ]
     },
     "execution_count": 181,
     "metadata": {},
     "output_type": "execute_result"
    }
   ],
   "source": [
    "dic_region_name"
   ]
  },
  {
   "cell_type": "code",
   "execution_count": 182,
   "id": "proprietary-wallet",
   "metadata": {
    "scrolled": true
   },
   "outputs": [
    {
     "name": "stdout",
     "output_type": "stream",
     "text": [
      "LONDON\n",
      "                          La_name  October 2019\n",
      "LA_code                                        \n",
      "E09000001          City of London    413.507926\n",
      "E09000033             Westminster    189.954724\n",
      "E09000013  Hammersmith and Fulham    147.767843\n",
      "E09000027    Richmond upon Thames    141.185552\n",
      "E09000032              Wandsworth    126.809486\n",
      "E09000020  Kensington and Chelsea    104.355397\n",
      "E09000018                Hounslow     83.831274\n",
      "E09000019               Islington     76.523572\n",
      "E09000007                  Camden     63.304173\n",
      "E09000005                   Brent     62.576520\n",
      "                          La_name  January 2021\n",
      "LA_code                                        \n",
      "E09000001          City of London    360.045263\n",
      "E09000020  Kensington and Chelsea    269.008320\n",
      "E09000033             Westminster    247.209328\n",
      "E09000013  Hammersmith and Fulham    208.487493\n",
      "E09000032              Wandsworth    180.176354\n",
      "E09000027    Richmond upon Thames    165.135669\n",
      "E09000007                  Camden    133.689345\n",
      "E09000019               Islington     97.332833\n",
      "E09000018                Hounslow     96.124454\n",
      "E09000028               Southwark     83.743688\n"
     ]
    }
   ],
   "source": [
    "index=6\n",
    "print(dic_region_name[sorted(rgn_list)[index]])\n",
    "print(top10_2019[index])\n",
    "print(top10_2021[index])"
   ]
  },
  {
   "cell_type": "code",
   "execution_count": 184,
   "id": "swedish-payroll",
   "metadata": {},
   "outputs": [],
   "source": [
    "# top10_final = []\n",
    "# for index in range(12):\n",
    "#     rgn_name = pd.DataFrame([[dic_region_name[sorted(rgn_list)[index]],'','','']],columns=['La_name','October 2019','La_name','January 2021'])\n",
    "#     top10_list = rgn_name.append(pd.concat([top10_2019[index],top10_2021[index]],axis=1),ignore_index = True)\n",
    "#     if index == 0:\n",
    "#         top10_final = top10_list\n",
    "#     else:\n",
    "#         top10_final = top10_final.append(top10_list)"
   ]
  },
  {
   "cell_type": "code",
   "execution_count": 185,
   "id": "pleased-reproduction",
   "metadata": {},
   "outputs": [],
   "source": [
    "top10_final = []\n",
    "for index in range(12):\n",
    "    rgn_name = pd.DataFrame([[dic_region_name[sorted(rgn_list)[index]],'']],columns=['La_name','January 2021'])\n",
    "    top10_list = rgn_name.append(top10_2021[index],ignore_index = True)\n",
    "    if index == 0:\n",
    "        top10_final = top10_list\n",
    "    else:\n",
    "        top10_final = top10_final.append(top10_list)"
   ]
  },
  {
   "cell_type": "code",
   "execution_count": 186,
   "id": "essential-infection",
   "metadata": {},
   "outputs": [
    {
     "data": {
      "text/html": [
       "<div>\n",
       "<style scoped>\n",
       "    .dataframe tbody tr th:only-of-type {\n",
       "        vertical-align: middle;\n",
       "    }\n",
       "\n",
       "    .dataframe tbody tr th {\n",
       "        vertical-align: top;\n",
       "    }\n",
       "\n",
       "    .dataframe thead th {\n",
       "        text-align: right;\n",
       "    }\n",
       "</style>\n",
       "<table border=\"1\" class=\"dataframe\">\n",
       "  <thead>\n",
       "    <tr style=\"text-align: right;\">\n",
       "      <th></th>\n",
       "      <th>La_name</th>\n",
       "      <th>January 2021</th>\n",
       "    </tr>\n",
       "  </thead>\n",
       "  <tbody>\n",
       "    <tr>\n",
       "      <th>0</th>\n",
       "      <td>LONDON</td>\n",
       "      <td></td>\n",
       "    </tr>\n",
       "    <tr>\n",
       "      <th>1</th>\n",
       "      <td>City of London</td>\n",
       "      <td>360.045263</td>\n",
       "    </tr>\n",
       "    <tr>\n",
       "      <th>2</th>\n",
       "      <td>Kensington and Chelsea</td>\n",
       "      <td>269.00832</td>\n",
       "    </tr>\n",
       "    <tr>\n",
       "      <th>3</th>\n",
       "      <td>Westminster</td>\n",
       "      <td>247.209328</td>\n",
       "    </tr>\n",
       "    <tr>\n",
       "      <th>4</th>\n",
       "      <td>Hammersmith and Fulham</td>\n",
       "      <td>208.487493</td>\n",
       "    </tr>\n",
       "    <tr>\n",
       "      <th>5</th>\n",
       "      <td>Wandsworth</td>\n",
       "      <td>180.176354</td>\n",
       "    </tr>\n",
       "    <tr>\n",
       "      <th>6</th>\n",
       "      <td>Richmond upon Thames</td>\n",
       "      <td>165.135669</td>\n",
       "    </tr>\n",
       "    <tr>\n",
       "      <th>7</th>\n",
       "      <td>Camden</td>\n",
       "      <td>133.689345</td>\n",
       "    </tr>\n",
       "    <tr>\n",
       "      <th>8</th>\n",
       "      <td>Islington</td>\n",
       "      <td>97.332833</td>\n",
       "    </tr>\n",
       "    <tr>\n",
       "      <th>9</th>\n",
       "      <td>Hounslow</td>\n",
       "      <td>96.124454</td>\n",
       "    </tr>\n",
       "    <tr>\n",
       "      <th>10</th>\n",
       "      <td>Southwark</td>\n",
       "      <td>83.743688</td>\n",
       "    </tr>\n",
       "  </tbody>\n",
       "</table>\n",
       "</div>"
      ],
      "text/plain": [
       "                   La_name January 2021\n",
       "0                   LONDON             \n",
       "1           City of London   360.045263\n",
       "2   Kensington and Chelsea    269.00832\n",
       "3              Westminster   247.209328\n",
       "4   Hammersmith and Fulham   208.487493\n",
       "5               Wandsworth   180.176354\n",
       "6     Richmond upon Thames   165.135669\n",
       "7                   Camden   133.689345\n",
       "8                Islington    97.332833\n",
       "9                 Hounslow    96.124454\n",
       "10               Southwark    83.743688"
      ]
     },
     "execution_count": 186,
     "metadata": {},
     "output_type": "execute_result"
    }
   ],
   "source": [
    "top10_final[66:77]"
   ]
  },
  {
   "cell_type": "code",
   "execution_count": 37,
   "id": "settled-witness",
   "metadata": {},
   "outputs": [],
   "source": [
    "top10_final.to_csv('Top10_byregion.csv')"
   ]
  },
  {
   "cell_type": "markdown",
   "id": "discrete-cooler",
   "metadata": {},
   "source": [
    "# Rate of chargers growth by LA"
   ]
  },
  {
   "cell_type": "code",
   "execution_count": 188,
   "id": "arranged-repair",
   "metadata": {},
   "outputs": [
    {
     "name": "stderr",
     "output_type": "stream",
     "text": [
      "100%|██████████| 379/379 [00:01<00:00, 358.29it/s]\n"
     ]
    }
   ],
   "source": [
    "# Assuming a linear relationship between number of chargers and time, determine the parameters of the line of best fit.\n",
    "\n",
    "fit_coeff = []\n",
    "for item in tqdm(df_sel.index):\n",
    "    x = np.array([range(0,540,90)]).reshape((-1,1))\n",
    "    y = df_sel.loc[item,::-1]\n",
    "    model = LinearRegression()\n",
    "    model = model.fit(x,y)\n",
    "    \n",
    "    y_actual = y\n",
    "    y_predicted = [model.coef_[0]*item + model.intercept_ for item in x]\n",
    "    rmse = round(mean_squared_error(y_actual, y_predicted, squared=False),2)\n",
    "    \n",
    "    fit_coeff.append([item,round(model.coef_[0],3),round(model.intercept_,2),round(model.score(x,y),2), rmse])\n",
    "    "
   ]
  },
  {
   "cell_type": "code",
   "execution_count": 189,
   "id": "unlike-copper",
   "metadata": {},
   "outputs": [],
   "source": [
    "df_fit = pd.DataFrame(fit_coeff, columns= ['LA_code','Gradient','Intercept','R^2','RMSE'])\n",
    "df_fit = df_fit.set_index('LA_code')\n",
    "df_fit['Difference'] = round(df['January 2021']-df['October 2019'],2)"
   ]
  },
  {
   "cell_type": "code",
   "execution_count": 190,
   "id": "approximate-kingdom",
   "metadata": {},
   "outputs": [
    {
     "data": {
      "text/html": [
       "<div>\n",
       "<style scoped>\n",
       "    .dataframe tbody tr th:only-of-type {\n",
       "        vertical-align: middle;\n",
       "    }\n",
       "\n",
       "    .dataframe tbody tr th {\n",
       "        vertical-align: top;\n",
       "    }\n",
       "\n",
       "    .dataframe thead th {\n",
       "        text-align: right;\n",
       "    }\n",
       "</style>\n",
       "<table border=\"1\" class=\"dataframe\">\n",
       "  <thead>\n",
       "    <tr style=\"text-align: right;\">\n",
       "      <th></th>\n",
       "      <th>Gradient</th>\n",
       "      <th>Intercept</th>\n",
       "      <th>R^2</th>\n",
       "      <th>RMSE</th>\n",
       "      <th>Difference</th>\n",
       "    </tr>\n",
       "    <tr>\n",
       "      <th>LA_code</th>\n",
       "      <th></th>\n",
       "      <th></th>\n",
       "      <th></th>\n",
       "      <th></th>\n",
       "      <th></th>\n",
       "    </tr>\n",
       "  </thead>\n",
       "  <tbody>\n",
       "    <tr>\n",
       "      <th>E06000047</th>\n",
       "      <td>0.007</td>\n",
       "      <td>17.67</td>\n",
       "      <td>0.95</td>\n",
       "      <td>0.24</td>\n",
       "      <td>3.29</td>\n",
       "    </tr>\n",
       "    <tr>\n",
       "      <th>E06000005</th>\n",
       "      <td>0.005</td>\n",
       "      <td>25.21</td>\n",
       "      <td>0.91</td>\n",
       "      <td>0.23</td>\n",
       "      <td>1.82</td>\n",
       "    </tr>\n",
       "    <tr>\n",
       "      <th>E06000001</th>\n",
       "      <td>0.006</td>\n",
       "      <td>5.06</td>\n",
       "      <td>0.77</td>\n",
       "      <td>0.51</td>\n",
       "      <td>3.18</td>\n",
       "    </tr>\n",
       "    <tr>\n",
       "      <th>E06000002</th>\n",
       "      <td>0.007</td>\n",
       "      <td>18.48</td>\n",
       "      <td>0.80</td>\n",
       "      <td>0.52</td>\n",
       "      <td>3.49</td>\n",
       "    </tr>\n",
       "    <tr>\n",
       "      <th>E06000057</th>\n",
       "      <td>0.011</td>\n",
       "      <td>43.52</td>\n",
       "      <td>0.54</td>\n",
       "      <td>1.64</td>\n",
       "      <td>2.81</td>\n",
       "    </tr>\n",
       "  </tbody>\n",
       "</table>\n",
       "</div>"
      ],
      "text/plain": [
       "           Gradient  Intercept   R^2  RMSE  Difference\n",
       "LA_code                                               \n",
       "E06000047     0.007      17.67  0.95  0.24        3.29\n",
       "E06000005     0.005      25.21  0.91  0.23        1.82\n",
       "E06000001     0.006       5.06  0.77  0.51        3.18\n",
       "E06000002     0.007      18.48  0.80  0.52        3.49\n",
       "E06000057     0.011      43.52  0.54  1.64        2.81"
      ]
     },
     "execution_count": 190,
     "metadata": {},
     "output_type": "execute_result"
    }
   ],
   "source": [
    "df_fit.head()"
   ]
  },
  {
   "cell_type": "markdown",
   "id": "sonic-pressure",
   "metadata": {},
   "source": [
    "Check if a relationship exist between the extracted gradient and the absolute difference between number pof chargers in October 2019 and January 2021"
   ]
  },
  {
   "cell_type": "code",
   "execution_count": 191,
   "id": "hungry-petersburg",
   "metadata": {},
   "outputs": [
    {
     "name": "stdout",
     "output_type": "stream",
     "text": [
      "Gradient:  471.01\n",
      "Intercept:  0.2\n",
      "R^2:  0.95\n",
      "RMSE:  15.43\n"
     ]
    },
    {
     "data": {
      "image/png": "[encoded data removed]",
      "text/plain": [
       "<Figure size 432x288 with 1 Axes>"
      ]
     },
     "metadata": {
      "needs_background": "light"
     },
     "output_type": "display_data"
    }
   ],
   "source": [
    "x = df_fit['Gradient'].values.reshape((-1,1))\n",
    "y = df_fit['Difference'].values\n",
    "\n",
    "y_actual = y\n",
    "y_predicted = [model.coef_[0]*item + model.intercept_ for item in x]\n",
    "rmse = round(mean_squared_error(y_actual, y_predicted, squared=False),2)\n",
    "\n",
    "model = LinearRegression()\n",
    "model = model.fit(x,y)\n",
    "\n",
    "\n",
    "plt.scatter(x,y)\n",
    "print('Gradient: ', round(model.coef_[0],2))\n",
    "print('Intercept: ', round(model.intercept_,2))\n",
    "print('R^2: ', round(model.score(x,y),2))\n",
    "print('RMSE: ', rmse)"
   ]
  },
  {
   "cell_type": "markdown",
   "id": "partial-group",
   "metadata": {},
   "source": [
    "The data suggest that there exist a strong correlation between the absolute difference of chargers and the determined slope of the best fit line. Therefore, the absolute difference in chargers represents a good proxy for the ability of local authorities to respond to charging devices demand."
   ]
  },
  {
   "cell_type": "code",
   "execution_count": 192,
   "id": "japanese-andrew",
   "metadata": {},
   "outputs": [
    {
     "name": "stdout",
     "output_type": "stream",
     "text": [
      "WALES\n"
     ]
    }
   ],
   "source": [
    "index= -1\n",
    "rgn_code = sorted(rgn_list)[index]\n",
    "rgn = dic_region_name[rgn_code]\n",
    "print(rgn)"
   ]
  },
  {
   "cell_type": "code",
   "execution_count": 979,
   "id": "becoming-temperature",
   "metadata": {},
   "outputs": [
    {
     "name": "stdout",
     "output_type": "stream",
     "text": [
      "8.47\n"
     ]
    }
   ],
   "source": [
    "national_avg = round(df_fit['Difference'].mean(),2) \n",
    "print(national_avg)"
   ]
  },
  {
   "cell_type": "code",
   "execution_count": 196,
   "id": "criminal-water",
   "metadata": {},
   "outputs": [
    {
     "name": "stderr",
     "output_type": "stream",
     "text": [
      "  0%|          | 0/12 [00:00<?, ?it/s]<ipython-input-196-c545f550d8d2>:9: SettingWithCopyWarning: \n",
      "A value is trying to be set on a copy of a slice from a DataFrame.\n",
      "Try using .loc[row_indexer,col_indexer] = value instead\n",
      "\n",
      "See the caveats in the documentation: https://pandas.pydata.org/pandas-docs/stable/user_guide/indexing.html#returning-a-view-versus-a-copy\n",
      "  df_fit_sel['LA_name'] = [dic_la_name[item] for item in df_fit_sel.index]\n",
      "<ipython-input-196-c545f550d8d2>:10: SettingWithCopyWarning: \n",
      "A value is trying to be set on a copy of a slice from a DataFrame.\n",
      "Try using .loc[row_indexer,col_indexer] = value instead\n",
      "\n",
      "See the caveats in the documentation: https://pandas.pydata.org/pandas-docs/stable/user_guide/indexing.html#returning-a-view-versus-a-copy\n",
      "  df_fit_sel['National trend'] = ['Above' if item >= national_avg else 'Below' for item in df_fit_sel['Difference']]\n",
      "100%|██████████| 12/12 [00:00<00:00, 76.74it/s]"
     ]
    },
    {
     "name": "stdout",
     "output_type": "stream",
     "text": [
      "NORTH EAST\n",
      "NORTH WEST\n",
      "YORKSHIRE AND THE HUMBER\n",
      "EAST MIDLANDS\n",
      "WEST MIDLANDS\n",
      "EAST OF ENGLAND\n",
      "LONDON\n",
      "SOUTH EAST\n",
      "SOUTH WEST\n",
      "NORTHERN IRELAND\n",
      "SCOTLAND\n",
      "WALES\n"
     ]
    },
    {
     "name": "stderr",
     "output_type": "stream",
     "text": [
      "\n"
     ]
    }
   ],
   "source": [
    "top10_growth = []\n",
    "for index in tqdm(range(12)):\n",
    "\n",
    "    rgn_code = sorted(rgn_list)[index]\n",
    "    rgn = dic_region_name[rgn_code]\n",
    "    print(rgn)\n",
    "    \n",
    "    df_fit_sel = df_fit[df_fit.index.isin(dic_region[rgn_code])]\n",
    "    df_fit_sel['LA_name'] = [dic_la_name[item] for item in df_fit_sel.index]\n",
    "    df_fit_sel['National trend'] = ['Above' if item >= national_avg else 'Below' for item in df_fit_sel['Difference']]\n",
    "    fit_final = df_fit_sel.sort_values('Difference',ascending=False)[['LA_name','Difference','National trend']].head(10)\n",
    "    \n",
    "    rgn_name = pd.DataFrame([[rgn,'','']],columns=['LA_name','Difference','National trend'])\n",
    "    top10_list = rgn_name.append(fit_final,ignore_index = True)\n",
    "    if index == 0:\n",
    "        top10_growth = top10_list\n",
    "    else:\n",
    "        top10_growth = top10_growth.append(top10_list)"
   ]
  },
  {
   "cell_type": "code",
   "execution_count": 568,
   "id": "basic-dover",
   "metadata": {},
   "outputs": [],
   "source": [
    "top10_growth.to_csv('Top10_byregion_growth.csv')"
   ]
  },
  {
   "cell_type": "code",
   "execution_count": 197,
   "id": "israeli-london",
   "metadata": {},
   "outputs": [
    {
     "data": {
      "text/plain": [
       "<AxesSubplot:>"
      ]
     },
     "execution_count": 197,
     "metadata": {},
     "output_type": "execute_result"
    },
    {
     "data": {
      "image/png": "[encoded data removed]",
      "text/plain": [
       "<Figure size 432x288 with 1 Axes>"
      ]
     },
     "metadata": {
      "needs_background": "light"
     },
     "output_type": "display_data"
    }
   ],
   "source": [
    "df_fit[df_fit.index.isin(dic_region[sorted(rgn_list)[0]])]['Gradient'].hist()"
   ]
  },
  {
   "cell_type": "code",
   "execution_count": 200,
   "id": "renewable-control",
   "metadata": {
    "scrolled": true
   },
   "outputs": [
    {
     "name": "stdout",
     "output_type": "stream",
     "text": [
      "E12000001 NORTH EAST 12\n",
      "E12000002 NORTH WEST 39\n",
      "E12000003 YORKSHIRE AND THE HUMBER 21\n",
      "E12000004 EAST MIDLANDS 40\n",
      "E12000005 WEST MIDLANDS 30\n",
      "E12000006 EAST OF ENGLAND 45\n",
      "E12000007 LONDON 33\n",
      "E12000008 SOUTH EAST 64\n",
      "E12000009 SOUTH WEST 30\n",
      "N92000002 NORTHERN IRELAND 11\n",
      "S92000003 SCOTLAND 32\n",
      "W92000004 WALES 22\n",
      "Total  379\n"
     ]
    }
   ],
   "source": [
    "sum_tot = 0\n",
    "for item in sorted(dic_region.keys()):\n",
    "    print(item,dic_region_name[item],len(dic_region[item]))\n",
    "    sum_tot += len(dic_region[item])\n",
    "print('Total ',sum_tot)"
   ]
  },
  {
   "cell_type": "code",
   "execution_count": 201,
   "id": "buried-timber",
   "metadata": {},
   "outputs": [
    {
     "data": {
      "text/html": [
       "<div>\n",
       "<style scoped>\n",
       "    .dataframe tbody tr th:only-of-type {\n",
       "        vertical-align: middle;\n",
       "    }\n",
       "\n",
       "    .dataframe tbody tr th {\n",
       "        vertical-align: top;\n",
       "    }\n",
       "\n",
       "    .dataframe thead th {\n",
       "        text-align: right;\n",
       "    }\n",
       "</style>\n",
       "<table border=\"1\" class=\"dataframe\">\n",
       "  <thead>\n",
       "    <tr style=\"text-align: right;\">\n",
       "      <th></th>\n",
       "      <th>Gradient</th>\n",
       "      <th>Intercept</th>\n",
       "      <th>R^2</th>\n",
       "      <th>RMSE</th>\n",
       "      <th>Difference</th>\n",
       "    </tr>\n",
       "    <tr>\n",
       "      <th>LA_code</th>\n",
       "      <th></th>\n",
       "      <th></th>\n",
       "      <th></th>\n",
       "      <th></th>\n",
       "      <th></th>\n",
       "    </tr>\n",
       "  </thead>\n",
       "  <tbody>\n",
       "    <tr>\n",
       "      <th>E09000020</th>\n",
       "      <td>0.282</td>\n",
       "      <td>127.05</td>\n",
       "      <td>0.81</td>\n",
       "      <td>21.05</td>\n",
       "      <td>164.65</td>\n",
       "    </tr>\n",
       "    <tr>\n",
       "      <th>E09000007</th>\n",
       "      <td>0.172</td>\n",
       "      <td>50.91</td>\n",
       "      <td>0.79</td>\n",
       "      <td>13.63</td>\n",
       "      <td>70.39</td>\n",
       "    </tr>\n",
       "    <tr>\n",
       "      <th>E06000043</th>\n",
       "      <td>0.164</td>\n",
       "      <td>16.41</td>\n",
       "      <td>0.93</td>\n",
       "      <td>6.70</td>\n",
       "      <td>68.38</td>\n",
       "    </tr>\n",
       "    <tr>\n",
       "      <th>E09000013</th>\n",
       "      <td>0.142</td>\n",
       "      <td>142.76</td>\n",
       "      <td>0.92</td>\n",
       "      <td>6.34</td>\n",
       "      <td>60.72</td>\n",
       "    </tr>\n",
       "    <tr>\n",
       "      <th>E09000032</th>\n",
       "      <td>0.128</td>\n",
       "      <td>119.58</td>\n",
       "      <td>0.77</td>\n",
       "      <td>10.64</td>\n",
       "      <td>53.37</td>\n",
       "    </tr>\n",
       "    <tr>\n",
       "      <th>S12000010</th>\n",
       "      <td>0.126</td>\n",
       "      <td>42.08</td>\n",
       "      <td>0.88</td>\n",
       "      <td>7.09</td>\n",
       "      <td>53.59</td>\n",
       "    </tr>\n",
       "    <tr>\n",
       "      <th>E09000033</th>\n",
       "      <td>0.096</td>\n",
       "      <td>195.02</td>\n",
       "      <td>0.72</td>\n",
       "      <td>9.28</td>\n",
       "      <td>57.25</td>\n",
       "    </tr>\n",
       "    <tr>\n",
       "      <th>E07000136</th>\n",
       "      <td>0.078</td>\n",
       "      <td>4.77</td>\n",
       "      <td>0.79</td>\n",
       "      <td>6.24</td>\n",
       "      <td>34.10</td>\n",
       "    </tr>\n",
       "    <tr>\n",
       "      <th>E07000196</th>\n",
       "      <td>0.078</td>\n",
       "      <td>4.02</td>\n",
       "      <td>0.77</td>\n",
       "      <td>6.51</td>\n",
       "      <td>31.10</td>\n",
       "    </tr>\n",
       "    <tr>\n",
       "      <th>E09000028</th>\n",
       "      <td>0.073</td>\n",
       "      <td>49.27</td>\n",
       "      <td>0.91</td>\n",
       "      <td>3.48</td>\n",
       "      <td>35.20</td>\n",
       "    </tr>\n",
       "  </tbody>\n",
       "</table>\n",
       "</div>"
      ],
      "text/plain": [
       "           Gradient  Intercept   R^2   RMSE  Difference\n",
       "LA_code                                                \n",
       "E09000020     0.282     127.05  0.81  21.05      164.65\n",
       "E09000007     0.172      50.91  0.79  13.63       70.39\n",
       "E06000043     0.164      16.41  0.93   6.70       68.38\n",
       "E09000013     0.142     142.76  0.92   6.34       60.72\n",
       "E09000032     0.128     119.58  0.77  10.64       53.37\n",
       "S12000010     0.126      42.08  0.88   7.09       53.59\n",
       "E09000033     0.096     195.02  0.72   9.28       57.25\n",
       "E07000136     0.078       4.77  0.79   6.24       34.10\n",
       "E07000196     0.078       4.02  0.77   6.51       31.10\n",
       "E09000028     0.073      49.27  0.91   3.48       35.20"
      ]
     },
     "execution_count": 201,
     "metadata": {},
     "output_type": "execute_result"
    }
   ],
   "source": [
    "df_fit.sort_values('Gradient',ascending= False)[:10]"
   ]
  },
  {
   "cell_type": "code",
   "execution_count": 202,
   "id": "signal-market",
   "metadata": {},
   "outputs": [
    {
     "data": {
      "text/html": [
       "<div>\n",
       "<style scoped>\n",
       "    .dataframe tbody tr th:only-of-type {\n",
       "        vertical-align: middle;\n",
       "    }\n",
       "\n",
       "    .dataframe tbody tr th {\n",
       "        vertical-align: top;\n",
       "    }\n",
       "\n",
       "    .dataframe thead th {\n",
       "        text-align: right;\n",
       "    }\n",
       "</style>\n",
       "<table border=\"1\" class=\"dataframe\">\n",
       "  <thead>\n",
       "    <tr style=\"text-align: right;\">\n",
       "      <th></th>\n",
       "      <th>Gradient</th>\n",
       "      <th>Intercept</th>\n",
       "      <th>R^2</th>\n",
       "      <th>RMSE</th>\n",
       "      <th>Difference</th>\n",
       "    </tr>\n",
       "  </thead>\n",
       "  <tbody>\n",
       "    <tr>\n",
       "      <th>count</th>\n",
       "      <td>379.000000</td>\n",
       "      <td>379.000000</td>\n",
       "      <td>379.000000</td>\n",
       "      <td>379.000000</td>\n",
       "      <td>379.000000</td>\n",
       "    </tr>\n",
       "    <tr>\n",
       "      <th>mean</th>\n",
       "      <td>0.017544</td>\n",
       "      <td>23.362216</td>\n",
       "      <td>0.709736</td>\n",
       "      <td>1.601979</td>\n",
       "      <td>8.467230</td>\n",
       "    </tr>\n",
       "    <tr>\n",
       "      <th>std</th>\n",
       "      <td>0.026661</td>\n",
       "      <td>29.825743</td>\n",
       "      <td>0.237158</td>\n",
       "      <td>2.068002</td>\n",
       "      <td>12.912981</td>\n",
       "    </tr>\n",
       "    <tr>\n",
       "      <th>min</th>\n",
       "      <td>-0.140000</td>\n",
       "      <td>-0.070000</td>\n",
       "      <td>0.000000</td>\n",
       "      <td>0.000000</td>\n",
       "      <td>-53.460000</td>\n",
       "    </tr>\n",
       "    <tr>\n",
       "      <th>25%</th>\n",
       "      <td>0.006000</td>\n",
       "      <td>9.860000</td>\n",
       "      <td>0.630000</td>\n",
       "      <td>0.555000</td>\n",
       "      <td>2.485000</td>\n",
       "    </tr>\n",
       "    <tr>\n",
       "      <th>50%</th>\n",
       "      <td>0.013000</td>\n",
       "      <td>17.240000</td>\n",
       "      <td>0.780000</td>\n",
       "      <td>1.030000</td>\n",
       "      <td>6.040000</td>\n",
       "    </tr>\n",
       "    <tr>\n",
       "      <th>75%</th>\n",
       "      <td>0.023000</td>\n",
       "      <td>25.430000</td>\n",
       "      <td>0.880000</td>\n",
       "      <td>1.835000</td>\n",
       "      <td>10.880000</td>\n",
       "    </tr>\n",
       "    <tr>\n",
       "      <th>max</th>\n",
       "      <td>0.282000</td>\n",
       "      <td>421.640000</td>\n",
       "      <td>1.000000</td>\n",
       "      <td>21.050000</td>\n",
       "      <td>164.650000</td>\n",
       "    </tr>\n",
       "  </tbody>\n",
       "</table>\n",
       "</div>"
      ],
      "text/plain": [
       "         Gradient   Intercept         R^2        RMSE  Difference\n",
       "count  379.000000  379.000000  379.000000  379.000000  379.000000\n",
       "mean     0.017544   23.362216    0.709736    1.601979    8.467230\n",
       "std      0.026661   29.825743    0.237158    2.068002   12.912981\n",
       "min     -0.140000   -0.070000    0.000000    0.000000  -53.460000\n",
       "25%      0.006000    9.860000    0.630000    0.555000    2.485000\n",
       "50%      0.013000   17.240000    0.780000    1.030000    6.040000\n",
       "75%      0.023000   25.430000    0.880000    1.835000   10.880000\n",
       "max      0.282000  421.640000    1.000000   21.050000  164.650000"
      ]
     },
     "execution_count": 202,
     "metadata": {},
     "output_type": "execute_result"
    }
   ],
   "source": [
    "df_fit.describe()"
   ]
  },
  {
   "cell_type": "markdown",
   "id": "caroline-second",
   "metadata": {},
   "source": [
    "## Plots for the interactive map"
   ]
  },
  {
   "cell_type": "code",
   "execution_count": 83,
   "id": "revised-floor",
   "metadata": {},
   "outputs": [],
   "source": [
    "resolution, width, height = 75, 7, 3"
   ]
  },
  {
   "cell_type": "code",
   "execution_count": 84,
   "id": "collected-conspiracy",
   "metadata": {},
   "outputs": [
    {
     "data": {
      "text/plain": [
       "October 2019    17.457968\n",
       "January 2020    18.217010\n",
       "April 2020      19.355573\n",
       "July 2020       19.807808\n",
       "October 2020    19.996453\n",
       "January 2021    20.751037\n",
       "Name: E06000047, dtype: float64"
      ]
     },
     "execution_count": 84,
     "metadata": {},
     "output_type": "execute_result"
    }
   ],
   "source": [
    "df_sel.iloc[0,::-1]"
   ]
  },
  {
   "cell_type": "code",
   "execution_count": 85,
   "id": "brutal-amendment",
   "metadata": {},
   "outputs": [
    {
     "name": "stdout",
     "output_type": "stream",
     "text": [
      "Directory Data/LA_plots already exists\n"
     ]
    }
   ],
   "source": [
    "subdirplot = dirname+'/LA_plots'\n",
    "\n",
    "if os.path.basename(os.getcwd())== 'local_authority_charging':\n",
    "    if not os.path.isdir(subdirplot):\n",
    "        try:\n",
    "            os.mkdir(subdirplot)\n",
    "        except OSError:\n",
    "            print (\"Creation of the directory %s failed\" % subdirplot)\n",
    "        else:\n",
    "            print (\"Successfully created the directory %s \" % subdirplot)\n",
    "    else: \n",
    "        print (\"Directory %s already exists\" % subdirplot)"
   ]
  },
  {
   "cell_type": "code",
   "execution_count": 206,
   "id": "structural-fraud",
   "metadata": {},
   "outputs": [
    {
     "name": "stderr",
     "output_type": "stream",
     "text": [
      "100%|██████████| 379/379 [00:00<00:00, 18496.46it/s]\n"
     ]
    }
   ],
   "source": [
    "for item in tqdm(df_sel.index):\n",
    "    \n",
    "    png = subdirplot+'/{}.png'.format(plot_sel.name)\n",
    "    \n",
    "    if os.path.isfile(file_path):\n",
    "        pass\n",
    "    else:\n",
    "    \n",
    "        plot_sel = df_sel.loc[item,::-1]\n",
    "        plt.ion()\n",
    "        fig, ax = plt.subplots(figsize=(width, height))\n",
    "        plot_sel.plot(ax=ax, legend=False)\n",
    "        ax.set_ylabel('Chargers per 100,000 pop (#)')\n",
    "        ax.set_title(dic_la_name[plot_sel.name])\n",
    "        plt.close(fig)\n",
    "        fig.savefig(png, dpi=resolution, bbox_inches='tight')"
   ]
  },
  {
   "cell_type": "markdown",
   "id": "treated-research",
   "metadata": {},
   "source": [
    "# Timeseries plot"
   ]
  },
  {
   "cell_type": "code",
   "execution_count": 207,
   "id": "empty-convention",
   "metadata": {},
   "outputs": [
    {
     "name": "stdout",
     "output_type": "stream",
     "text": [
      "Directory Data/LA_borders already exists\n"
     ]
    }
   ],
   "source": [
    "subdirla = dirname+'/LA_borders'\n",
    "\n",
    "if os.path.basename(os.getcwd())== 'local_authority_charging':\n",
    "    if not os.path.isdir(subdirla):\n",
    "        try:\n",
    "            os.mkdir(subdirla)\n",
    "        except OSError:\n",
    "            print (\"Creation of the directory %s failed\" % subdirla)\n",
    "        else:\n",
    "            print (\"Successfully created the directory %s \" % subdirla)\n",
    "    else: \n",
    "        print (\"Directory %s already exists\" % subdirla)"
   ]
  },
  {
   "cell_type": "code",
   "execution_count": 208,
   "id": "blond-diagnosis",
   "metadata": {},
   "outputs": [
    {
     "name": "stdout",
     "output_type": "stream",
     "text": [
      "File Local_Authority_Districts__May_2020__Boundaries_UK_BGC.geojson already exists\n"
     ]
    }
   ],
   "source": [
    "filename = 'Local_Authority_Districts__May_2020__Boundaries_UK_BGC.geojson'\n",
    "file_path = subdirla+'/'+filename\n",
    "    \n",
    "if os.path.isfile(file_path):\n",
    "    print (\"File %s already exists\" % filename)\n",
    "else:\n",
    "    download_from_url('https://opendata.arcgis.com/datasets/3b374840ce1b4160b85b8146b610cd0c_0.geojson',file_path)\n",
    "    print (\"Successfully downloaded the file %s \" % filename)"
   ]
  },
  {
   "cell_type": "code",
   "execution_count": 209,
   "id": "turkish-aspect",
   "metadata": {},
   "outputs": [],
   "source": [
    "la_geo = subdirla+'/Local_Authority_Districts__May_2020__Boundaries_UK_BGC.geojson'"
   ]
  },
  {
   "cell_type": "code",
   "execution_count": 210,
   "id": "equivalent-binding",
   "metadata": {},
   "outputs": [],
   "source": [
    "gpdimport = gpd.read_file(la_geo)\n",
    "gpdimport = gpdimport.set_index('LAD20CD')\n",
    "gpdfinal = gpdimport.drop(['OBJECTID','LAD20NMW','BNG_E','BNG_N','LONG','LAT','Shape__Area','Shape__Length'], axis =1)"
   ]
  },
  {
   "cell_type": "code",
   "execution_count": 211,
   "id": "civil-trailer",
   "metadata": {},
   "outputs": [
    {
     "data": {
      "text/html": [
       "<div>\n",
       "<style scoped>\n",
       "    .dataframe tbody tr th:only-of-type {\n",
       "        vertical-align: middle;\n",
       "    }\n",
       "\n",
       "    .dataframe tbody tr th {\n",
       "        vertical-align: top;\n",
       "    }\n",
       "\n",
       "    .dataframe thead th {\n",
       "        text-align: right;\n",
       "    }\n",
       "</style>\n",
       "<table border=\"1\" class=\"dataframe\">\n",
       "  <thead>\n",
       "    <tr style=\"text-align: right;\">\n",
       "      <th></th>\n",
       "      <th>LAD20NM</th>\n",
       "      <th>geometry</th>\n",
       "    </tr>\n",
       "    <tr>\n",
       "      <th>LAD20CD</th>\n",
       "      <th></th>\n",
       "      <th></th>\n",
       "    </tr>\n",
       "  </thead>\n",
       "  <tbody>\n",
       "    <tr>\n",
       "      <th>E06000001</th>\n",
       "      <td>Hartlepool</td>\n",
       "      <td>MULTIPOLYGON (((-1.23001 54.62512, -1.22990 54...</td>\n",
       "    </tr>\n",
       "    <tr>\n",
       "      <th>E06000002</th>\n",
       "      <td>Middlesbrough</td>\n",
       "      <td>MULTIPOLYGON (((-1.27714 54.54789, -1.27720 54...</td>\n",
       "    </tr>\n",
       "    <tr>\n",
       "      <th>E06000003</th>\n",
       "      <td>Redcar and Cleveland</td>\n",
       "      <td>MULTIPOLYGON (((-1.20098 54.57763, -1.20037 54...</td>\n",
       "    </tr>\n",
       "    <tr>\n",
       "      <th>E06000004</th>\n",
       "      <td>Stockton-on-Tees</td>\n",
       "      <td>MULTIPOLYGON (((-1.27694 54.54718, -1.27694 54...</td>\n",
       "    </tr>\n",
       "    <tr>\n",
       "      <th>E06000005</th>\n",
       "      <td>Darlington</td>\n",
       "      <td>POLYGON ((-1.63800 54.61720, -1.63767 54.61670...</td>\n",
       "    </tr>\n",
       "  </tbody>\n",
       "</table>\n",
       "</div>"
      ],
      "text/plain": [
       "                        LAD20NM  \\\n",
       "LAD20CD                           \n",
       "E06000001            Hartlepool   \n",
       "E06000002         Middlesbrough   \n",
       "E06000003  Redcar and Cleveland   \n",
       "E06000004      Stockton-on-Tees   \n",
       "E06000005            Darlington   \n",
       "\n",
       "                                                    geometry  \n",
       "LAD20CD                                                       \n",
       "E06000001  MULTIPOLYGON (((-1.23001 54.62512, -1.22990 54...  \n",
       "E06000002  MULTIPOLYGON (((-1.27714 54.54789, -1.27720 54...  \n",
       "E06000003  MULTIPOLYGON (((-1.20098 54.57763, -1.20037 54...  \n",
       "E06000004  MULTIPOLYGON (((-1.27694 54.54718, -1.27694 54...  \n",
       "E06000005  POLYGON ((-1.63800 54.61720, -1.63767 54.61670...  "
      ]
     },
     "execution_count": 211,
     "metadata": {},
     "output_type": "execute_result"
    }
   ],
   "source": [
    "gpdfinal.head()"
   ]
  },
  {
   "cell_type": "code",
   "execution_count": 212,
   "id": "alert-calculation",
   "metadata": {},
   "outputs": [
    {
     "data": {
      "text/html": [
       "<div>\n",
       "<style scoped>\n",
       "    .dataframe tbody tr th:only-of-type {\n",
       "        vertical-align: middle;\n",
       "    }\n",
       "\n",
       "    .dataframe tbody tr th {\n",
       "        vertical-align: top;\n",
       "    }\n",
       "\n",
       "    .dataframe thead th {\n",
       "        text-align: right;\n",
       "    }\n",
       "</style>\n",
       "<table border=\"1\" class=\"dataframe\">\n",
       "  <thead>\n",
       "    <tr style=\"text-align: right;\">\n",
       "      <th></th>\n",
       "      <th>index</th>\n",
       "      <th>LAD20NM</th>\n",
       "      <th>geometry</th>\n",
       "      <th>October 2019</th>\n",
       "      <th>January 2020</th>\n",
       "      <th>April 2020</th>\n",
       "      <th>July 2020</th>\n",
       "      <th>October 2020</th>\n",
       "      <th>January 2021</th>\n",
       "    </tr>\n",
       "  </thead>\n",
       "  <tbody>\n",
       "    <tr>\n",
       "      <th>0</th>\n",
       "      <td>E06000001</td>\n",
       "      <td>Hartlepool</td>\n",
       "      <td>MULTIPOLYGON (((-1.23001 54.62512, -1.22990 54...</td>\n",
       "      <td>5.362390</td>\n",
       "      <td>5.362390</td>\n",
       "      <td>6.434868</td>\n",
       "      <td>6.405945</td>\n",
       "      <td>6.405945</td>\n",
       "      <td>8.541260</td>\n",
       "    </tr>\n",
       "    <tr>\n",
       "      <th>1</th>\n",
       "      <td>E06000002</td>\n",
       "      <td>Middlesbrough</td>\n",
       "      <td>MULTIPOLYGON (((-1.27714 54.54789, -1.27720 54...</td>\n",
       "      <td>17.787897</td>\n",
       "      <td>19.210929</td>\n",
       "      <td>20.633961</td>\n",
       "      <td>20.570294</td>\n",
       "      <td>20.570294</td>\n",
       "      <td>21.279614</td>\n",
       "    </tr>\n",
       "    <tr>\n",
       "      <th>2</th>\n",
       "      <td>E06000003</td>\n",
       "      <td>Redcar and Cleveland</td>\n",
       "      <td>MULTIPOLYGON (((-1.20098 54.57763, -1.20037 54...</td>\n",
       "      <td>12.434354</td>\n",
       "      <td>12.434354</td>\n",
       "      <td>14.628652</td>\n",
       "      <td>14.582574</td>\n",
       "      <td>17.499089</td>\n",
       "      <td>17.499089</td>\n",
       "    </tr>\n",
       "    <tr>\n",
       "      <th>3</th>\n",
       "      <td>E06000004</td>\n",
       "      <td>Stockton-on-Tees</td>\n",
       "      <td>MULTIPOLYGON (((-1.27694 54.54718, -1.27694 54...</td>\n",
       "      <td>36.001683</td>\n",
       "      <td>37.015815</td>\n",
       "      <td>38.537013</td>\n",
       "      <td>43.071123</td>\n",
       "      <td>43.577842</td>\n",
       "      <td>42.564404</td>\n",
       "    </tr>\n",
       "    <tr>\n",
       "      <th>4</th>\n",
       "      <td>E06000005</td>\n",
       "      <td>Darlington</td>\n",
       "      <td>POLYGON ((-1.63800 54.61720, -1.63767 54.61670...</td>\n",
       "      <td>25.336411</td>\n",
       "      <td>25.336411</td>\n",
       "      <td>26.274797</td>\n",
       "      <td>26.216492</td>\n",
       "      <td>27.152795</td>\n",
       "      <td>27.152795</td>\n",
       "    </tr>\n",
       "  </tbody>\n",
       "</table>\n",
       "</div>"
      ],
      "text/plain": [
       "       index               LAD20NM  \\\n",
       "0  E06000001            Hartlepool   \n",
       "1  E06000002         Middlesbrough   \n",
       "2  E06000003  Redcar and Cleveland   \n",
       "3  E06000004      Stockton-on-Tees   \n",
       "4  E06000005            Darlington   \n",
       "\n",
       "                                            geometry  October 2019  \\\n",
       "0  MULTIPOLYGON (((-1.23001 54.62512, -1.22990 54...      5.362390   \n",
       "1  MULTIPOLYGON (((-1.27714 54.54789, -1.27720 54...     17.787897   \n",
       "2  MULTIPOLYGON (((-1.20098 54.57763, -1.20037 54...     12.434354   \n",
       "3  MULTIPOLYGON (((-1.27694 54.54718, -1.27694 54...     36.001683   \n",
       "4  POLYGON ((-1.63800 54.61720, -1.63767 54.61670...     25.336411   \n",
       "\n",
       "   January 2020  April 2020  July 2020  October 2020  January 2021  \n",
       "0      5.362390    6.434868   6.405945      6.405945      8.541260  \n",
       "1     19.210929   20.633961  20.570294     20.570294     21.279614  \n",
       "2     12.434354   14.628652  14.582574     17.499089     17.499089  \n",
       "3     37.015815   38.537013  43.071123     43.577842     42.564404  \n",
       "4     25.336411   26.274797  26.216492     27.152795     27.152795  "
      ]
     },
     "execution_count": 212,
     "metadata": {},
     "output_type": "execute_result"
    }
   ],
   "source": [
    "df_left = gpdfinal\n",
    "df_right = df_sel.iloc[:,::-1]\n",
    "df_concat = pd.concat([df_left,df_right], join='inner',axis=1).reset_index()\n",
    "df_concat.head()"
   ]
  },
  {
   "cell_type": "code",
   "execution_count": 540,
   "id": "external-fitting",
   "metadata": {},
   "outputs": [],
   "source": [
    "n_periods, n_sample = df_right.shape[1],df_right.shape[1]\n",
    "\n",
    "datetime_index = pd.date_range('2019-10', periods=n_periods, freq='3M')\n",
    "dt_index_epochs = datetime_index.astype(int) // 10**9\n",
    "dt_index = dt_index_epochs.astype('U10')"
   ]
  },
  {
   "cell_type": "code",
   "execution_count": 541,
   "id": "difficult-geology",
   "metadata": {},
   "outputs": [],
   "source": [
    "styledata = {}\n",
    "\n",
    "for area in df_right.index:\n",
    "    df = pd.DataFrame(\n",
    "        {'color': df_right.loc[area].values,\n",
    "         'opacity': 0*np.random.normal(size=n_periods)},\n",
    "        index=dt_index\n",
    "    )\n",
    "    #df = df.cumsum()\n",
    "    #df.sample(n_sample, replace=False).sort_index()\n",
    "    df.loc[:,'opacity'] = np.ones(n_periods)\n",
    "    styledata[area] = df"
   ]
  },
  {
   "cell_type": "code",
   "execution_count": 542,
   "id": "posted-davis",
   "metadata": {
    "scrolled": false
   },
   "outputs": [],
   "source": [
    "max_color, min_color = 0, 100\n",
    "\n",
    "for area, data in styledata.items():\n",
    "    max_color = max(max_color, data['color'].max())\n",
    "    min_color = min(min_color, data['color'].min())\n",
    "        \n",
    "cmap = linear.YlGnBu_09.scale(min_color, max_color)\n",
    "#cmap = linear.YlGnBu_09.to_step(420).scale(0, 420)\n",
    "#cmap = linear.YlGnBu_09.to_step(data=df_right['October 2019'], method='quant', quantiles=[0,0.1,0.75,0.9,0.98,1])\n",
    "\n",
    "for area, data in styledata.items():\n",
    "    data['color'] = data['color'].apply(cmap)\n",
    "    data['opacity'] = (data['opacity'])\n",
    "    data['opacity'] = (data['opacity'])"
   ]
  },
  {
   "cell_type": "code",
   "execution_count": 543,
   "id": "moral-profile",
   "metadata": {},
   "outputs": [],
   "source": [
    "styledict = {\n",
    "    str(area): data.to_dict(orient='index') for\n",
    "    area, data in styledata.items()\n",
    "}"
   ]
  },
  {
   "cell_type": "markdown",
   "id": "consecutive-applicant",
   "metadata": {},
   "source": [
    "## Approach 0: Original time slider"
   ]
  },
  {
   "cell_type": "code",
   "execution_count": 987,
   "id": "promotional-james",
   "metadata": {},
   "outputs": [
    {
     "name": "stderr",
     "output_type": "stream",
     "text": [
      "100%|██████████| 379/379 [00:01<00:00, 206.92it/s]\n"
     ]
    },
    {
     "data": {
      "text/plain": [
       "<folium.map.LayerControl at 0x1dc81b03d90>"
      ]
     },
     "execution_count": 987,
     "metadata": {},
     "output_type": "execute_result"
    }
   ],
   "source": [
    "m = folium.Map([54.7, -4.6], tiles='cartodbpositron', zoom_start=5)\n",
    "\n",
    "g = TimeSliderChoropleth(\n",
    "    df_left.to_json(),\n",
    "    styledict=styledict,\n",
    "    control = False\n",
    ").add_to(m)\n",
    "\n",
    "myscale = (df_concat['October 2019'].quantile((0,0.1,0.75,0.9,0.98,1))).tolist()\n",
    "\n",
    "\n",
    "choropleth = folium.Choropleth(\n",
    "    geo_data=df_concat,\n",
    "    data=df_concat,\n",
    "    name = 'Local Authorities',\n",
    "    columns=['index', 'October 2019'],\n",
    "    key_on='feature.properties.index',\n",
    "    fill_color= 'YlGnBu',\n",
    "    fill_opacity=0.0,\n",
    "    line_opacity=0.0,\n",
    "    #threshold_scale=myscale,\n",
    "    legend_name='Chargers per 100,000 pop',\n",
    "    smooth_factor=0).add_to(m)\n",
    "\n",
    "\n",
    "\n",
    "\n",
    "\n",
    "# style_function = lambda x: {'fillColor': '#ffffff', \n",
    "#                             'color':'#000000', \n",
    "#                             'fillOpacity': 0.0, \n",
    "#                             'weight': 0.0}\n",
    "\n",
    "\n",
    "# highlight_function = lambda x: {'fillColor': '#000000', \n",
    "#                                 'color':'#000000', \n",
    "#                                 'fillOpacity': 0.50, \n",
    "#                                 'weight': 0.1}\n",
    "# choropleth.geojson.add_child(\n",
    "#     folium.features.GeoJson(\n",
    "#     df_concat,\n",
    "#     style_function=style_function, \n",
    "#     control=False,\n",
    "#     highlight_function=highlight_function, \n",
    "#     tooltip=folium.features.GeoJsonTooltip(\n",
    "#         fields=['index'],\n",
    "#         aliases=['Local Authority:'],\n",
    "#         style=(\"background-color: white; color: #333333; font-family: arial; font-size: 12px; padding: 10px;\") \n",
    "#     )\n",
    "# ))\n",
    "\n",
    "\n",
    "\n",
    "# for item in tqdm(df_concat['index']):\n",
    "    \n",
    "#     row_sel = df_concat[df_concat['index']==item]\n",
    "    \n",
    "#     lat= row_sel['geometry'].iloc[0].centroid.y\n",
    "#     lon = row_sel['geometry'].iloc[0].centroid.x\n",
    "    \n",
    "#     var_name = row_sel['LAD20NM'].iloc[0]\n",
    "#     var_loc = round(row_sel['January 2021'].iloc[0],2)\n",
    "#     var_picture = base64.b64encode(open(subdirplot+'/'+item+'.png', 'rb').read()).decode()\n",
    "\n",
    "#     html = f'''<img ALIGN=\"Right\" src=\"data:image/png;base64,{var_picture}\">\\\n",
    "#     <br />\n",
    "#     <h3> Local Authority: </h3>{var_name}<br />\\\n",
    "#     <h3>Chargers per 100,000 population: </h3>{var_loc}<br />\\\n",
    "#     '''.format\n",
    "\n",
    "#     iframe = IFrame(html(), width=(width*resolution)+180, height=(height*resolution)+20)\n",
    "#     popup = folium.Popup(iframe, max_width=10000)\n",
    "#     icon = folium.Icon(icon = 'map-marker',color=None)\n",
    "#     marker = folium.Marker([lat, lon], popup=popup, icon=None)\n",
    "#     marker.add_to(m)\n",
    "\n",
    "for item in tqdm(df_concat['index']):\n",
    "    \n",
    "    row_sel = df_concat[df_concat['index']==item]\n",
    "    \n",
    "    lat= row_sel['geometry'].iloc[0].centroid.y\n",
    "    lon = row_sel['geometry'].iloc[0].centroid.x\n",
    "    \n",
    "    var_name = row_sel['LAD20NM'].iloc[0]\n",
    "    var_loc = round(row_sel['January 2021'].iloc[0],2)\n",
    "    var_picture = base64.b64encode(open(subdirplot+'/'+item+'.png', 'rb').read()).decode()\n",
    "\n",
    "    html = f'''<img ALIGN=\"Right\" src=\"data:image/png;base64,{var_picture}\">\\\n",
    "    <br />\n",
    "    <h3> Local Authority: </h3>{var_name}<br />\\\n",
    "    <h3>Chargers per 100,000 population: </h3>{var_loc}<br />\\\n",
    "    '''.format\n",
    "\n",
    "    iframe = IFrame(html(), width=(width*resolution)+180, height=(height*resolution)+20)\n",
    "    popup = folium.Popup(iframe, max_width=10000)\n",
    "    folium.CircleMarker(\n",
    "        location=[lat,lon],\n",
    "        popup=popup,\n",
    "        color=\"#3186cc00\",\n",
    "        fill=True,\n",
    "    ).add_to(m)\n",
    "\n",
    "folium.LayerControl().add_to(m) \n",
    "\n",
    "#m"
   ]
  },
  {
   "cell_type": "code",
   "execution_count": null,
   "id": "bigger-pierce",
   "metadata": {},
   "outputs": [],
   "source": [
    "m.save('Chargers_all_info.html')"
   ]
  },
  {
   "cell_type": "markdown",
   "id": "based-bangkok",
   "metadata": {},
   "source": [
    "## Approach 1: New time slider with popup for each time stamp "
   ]
  },
  {
   "cell_type": "code",
   "execution_count": 765,
   "id": "technological-token",
   "metadata": {},
   "outputs": [],
   "source": [
    "time_frames = []\n",
    "time_frames.append([datetime_index[0].strftime(\"%Y-%m-%dT%H:%M:%S\")])\n",
    "for i in range(1,len(datetime_index)):\n",
    "        time_frames.append([datetime_index[i-1].strftime(\"%Y-%m-%dT%H:%M:%S\"),datetime_index[i].strftime(\"%Y-%m-%dT%H:%M:%S\")])"
   ]
  },
  {
   "cell_type": "code",
   "execution_count": 982,
   "id": "difficult-belly",
   "metadata": {},
   "outputs": [
    {
     "name": "stderr",
     "output_type": "stream",
     "text": [
      "100%|██████████| 379/379 [00:03<00:00, 115.61it/s]\n",
      "100%|██████████| 379/379 [00:03<00:00, 119.82it/s]\n",
      "100%|██████████| 379/379 [00:02<00:00, 128.93it/s]\n",
      "100%|██████████| 379/379 [00:03<00:00, 124.24it/s]\n",
      "100%|██████████| 379/379 [00:02<00:00, 129.46it/s]\n",
      "100%|██████████| 379/379 [00:02<00:00, 156.85it/s]\n"
     ]
    }
   ],
   "source": [
    "features  = []\n",
    "idx = 0\n",
    "for idx in range(len(time_frames)):\n",
    "    for item in tqdm(df_concat['index']):\n",
    "\n",
    "        #print(styledata[item]['color'][0])\n",
    "\n",
    "        row_sel = df_concat[df_concat['index']==item]\n",
    "        www = json.loads(row_sel.geometry.to_json())\n",
    "\n",
    "        var_name = row_sel['LAD20NM'].iloc[0]\n",
    "        var_loc = round(row_sel.iloc[0,idx+3],2)\n",
    "        var_picture = base64.b64encode(open(subdirplot+'/'+item+'.png', 'rb').read()).decode()\n",
    "\n",
    "        html = f'''<img ALIGN=\"Right\" src=\"data:image/png;base64,{var_picture}\", height = 100%, width = 100%>\\\n",
    "        <br />\n",
    "        <h3> {var_name} </h3>\n",
    "        <h4>Chargers per 100,000 population: </h4>  <h3>{var_loc}</h3>\\\n",
    "        '''\n",
    "\n",
    "        features.append({\n",
    "        'geometry': www['features'][0]['geometry'],\n",
    "        'properties': {\n",
    "            'style': {\n",
    "                'color': styledata[item]['color'][idx],\n",
    "                'weight': 0,\n",
    "                'fillOpacity': styledata[item]['opacity'][idx]\n",
    "            },\n",
    "            'times': time_frames[idx]*len(www['features'][0]['geometry']['coordinates']),\n",
    "            'popup': html\n",
    "        },\n",
    "        'type': 'Feature'\n",
    "    })"
   ]
  },
  {
   "cell_type": "code",
   "execution_count": 962,
   "id": "thrown-buying",
   "metadata": {},
   "outputs": [],
   "source": [
    "# feat = [{\n",
    "#     'geometry': {'type':www['features'][0]['geometry']['type'],\n",
    "#                  'coordinates': www['features'][0]['geometry']['coordinates']\n",
    "#                 },\n",
    "#     'properties': {\n",
    "#         'style': {\n",
    "#             'color': 'black',\n",
    "#             'weight': 0,\n",
    "#             'fillOpacity': styledata[item]['opacity'][0]\n",
    "#         },\n",
    "#         'times': time_frames[idx]*6,\n",
    "#         'popup': html\n",
    "#     },\n",
    "#     'type': 'Feature'\n",
    "# }]"
   ]
  },
  {
   "cell_type": "code",
   "execution_count": 985,
   "id": "practical-hanging",
   "metadata": {},
   "outputs": [
    {
     "data": {
      "text/plain": [
       "<folium.plugins.timestamped_geo_json.TimestampedGeoJson at 0x1dc81e4ed90>"
      ]
     },
     "execution_count": 985,
     "metadata": {},
     "output_type": "execute_result"
    }
   ],
   "source": [
    "from folium.plugins import TimestampedGeoJson\n",
    "m = folium.Map([54.7, -4.6], tiles='cartodbpositron', zoom_start=5)\n",
    "\n",
    "\n",
    "choropleth = folium.Choropleth(\n",
    "    geo_data=df_concat,\n",
    "    data=df_concat,\n",
    "    name = 'Local Authorities',\n",
    "    columns=['index', 'October 2019'],\n",
    "    key_on='feature.properties.index',\n",
    "    fill_color= 'YlGnBu',\n",
    "    fill_opacity=0.0,\n",
    "    line_opacity=0.0,\n",
    "    #threshold_scale=myscale,\n",
    "    legend_name='Chargers per 100,000 pop',\n",
    "    smooth_factor=0).add_to(m)\n",
    "\n",
    "TimestampedGeoJson(\n",
    "    {'type': 'FeatureCollection', 'features': features},\n",
    "    period='P3M',\n",
    "    duration=None,\n",
    "    auto_play=False,\n",
    "    loop=False,\n",
    "    loop_button=True,\n",
    "    date_options='MMMM YYYY',\n",
    ").add_to(m)\n",
    "\n",
    "#m"
   ]
  },
  {
   "cell_type": "code",
   "execution_count": 984,
   "id": "necessary-declaration",
   "metadata": {},
   "outputs": [],
   "source": [
    "m.save('Charging_allinfo_newlayout.html')"
   ]
  },
  {
   "cell_type": "markdown",
   "id": "durable-calendar",
   "metadata": {},
   "source": [
    "## Approach 2: New time slider but single popup as a layer at end of the plot"
   ]
  },
  {
   "cell_type": "code",
   "execution_count": 950,
   "id": "closed-tribune",
   "metadata": {},
   "outputs": [
    {
     "name": "stderr",
     "output_type": "stream",
     "text": [
      "100%|██████████| 379/379 [00:02<00:00, 147.27it/s]\n"
     ]
    }
   ],
   "source": [
    "htmls = [] \n",
    "for item in tqdm(df_concat['index']):\n",
    "\n",
    "    #print(styledata[item]['color'][0])\n",
    "\n",
    "    row_sel = df_concat[df_concat['index']==item]\n",
    "    www = json.loads(row_sel.geometry.to_json())\n",
    "\n",
    "    var_name = row_sel['LAD20NM'].iloc[0]\n",
    "    var_loc = round(row_sel.iloc[0,idx+3],2)\n",
    "    var_picture = base64.b64encode(open(subdirplot+'/'+item+'.png', 'rb').read()).decode()\n",
    "\n",
    "    htmls.append(f'''\n",
    "        <img src=\"data:image/png;base64,{var_picture}\"/>\n",
    "        <body>\n",
    "        <h3> Local Authority: </h3> <h4>{var_name}</h4>\n",
    "        <h3>Chargers per </br> 100,000 population: </h3>  <h4>{var_loc}</h4>\n",
    "        </body>\n",
    "        ''')"
   ]
  },
  {
   "cell_type": "code",
   "execution_count": 951,
   "id": "informal-lemon",
   "metadata": {},
   "outputs": [],
   "source": [
    "df_concat['fields'] = htmls"
   ]
  },
  {
   "cell_type": "code",
   "execution_count": 986,
   "id": "returning-quantity",
   "metadata": {
    "scrolled": false
   },
   "outputs": [
    {
     "data": {
      "text/plain": [
       "<folium.map.LayerControl at 0x1dc8b91e550>"
      ]
     },
     "execution_count": 986,
     "metadata": {},
     "output_type": "execute_result"
    }
   ],
   "source": [
    "m = folium.Map([54.7, -4.6], tiles='cartodbpositron', zoom_start=5)\n",
    "\n",
    "TimestampedGeoJson(\n",
    "    {'type': 'FeatureCollection', 'features': features},\n",
    "    period='P3M',\n",
    "    duration=None,\n",
    "    auto_play=False,\n",
    "    loop=False,\n",
    "    loop_button=False,\n",
    "    date_options='MMMM YYYY',\n",
    ").add_to(m)\n",
    "\n",
    "\n",
    "style_function = lambda x: {'fillColor': '#ffffff', \n",
    "                            'color':'#000000', \n",
    "                            'fillOpacity': 0.0, \n",
    "                            'weight': 0.0}\n",
    "\n",
    "NIL = folium.features.GeoJson(df_concat, style_function = style_function ,tooltip = folium.features.GeoJsonTooltip(fields=['fields'],\n",
    "                                                                                 aliases=[''],\n",
    "                                                                                 style=(\"height: 410px; width: 500px; background-color: white;\")))\n",
    "\n",
    "m.add_child(NIL)\n",
    "m.keep_in_front(NIL)\n",
    "folium.LayerControl().add_to(m)\n",
    "\n",
    "#m"
   ]
  },
  {
   "cell_type": "code",
   "execution_count": 969,
   "id": "central-register",
   "metadata": {},
   "outputs": [],
   "source": [
    "m.save('Charging_allinfo_new.html')"
   ]
  }
 ],
 "metadata": {
  "kernelspec": {
   "display_name": "local_authority_charging",
   "language": "python",
   "name": "local_authority_charging"
  },
  "language_info": {
   "codemirror_mode": {
    "name": "ipython",
    "version": 3
   },
   "file_extension": ".py",
   "mimetype": "text/x-python",
   "name": "python",
   "nbconvert_exporter": "python",
   "pygments_lexer": "ipython3",
   "version": "3.8.5"
  }
 },
 "nbformat": 4,
 "nbformat_minor": 5
}
