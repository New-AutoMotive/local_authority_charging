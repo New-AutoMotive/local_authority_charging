{
 "cells": [
  {
   "cell_type": "code",
   "execution_count": 1,
   "metadata": {},
   "outputs": [],
   "source": [
    "from arcgis.gis import GIS"
   ]
  },
  {
   "cell_type": "code",
   "execution_count": 2,
   "metadata": {},
   "outputs": [],
   "source": [
    "gis = GIS()"
   ]
  },
  {
   "cell_type": "code",
   "execution_count": 6,
   "metadata": {},
   "outputs": [],
   "source": [
    "m = gis.map('United Kingdom')"
   ]
  },
  {
   "cell_type": "code",
   "execution_count": 7,
   "metadata": {},
   "outputs": [
    {
     "data": {
      "application/vnd.jupyter.widget-view+json": {
       "model_id": "6faa8b85d1704fa9826a3ec12c7a6717",
       "version_major": 2,
       "version_minor": 0
      },
      "text/plain": [
       "MapView(layout=Layout(height='400px', width='100%'))"
      ]
     },
     "metadata": {},
     "output_type": "display_data"
    },
    {
     "data": {
      "text/html": [
       "<div class=\"map-static-img-preview-74307b50-767b-4104-a94c-ad1aef91c21f\"><img src=\"\"></img></div>"
      ],
      "text/plain": [
       "<IPython.core.display.HTML object>"
      ]
     },
     "metadata": {},
     "output_type": "display_data"
    },
    {
     "data": {
      "text/html": [
       "<div class=\"map-html-embed-preview-74307b50-767b-4104-a94c-ad1aef91c21f\"></div>"
      ],
      "text/plain": [
       "<IPython.core.display.HTML object>"
      ]
     },
     "metadata": {},
     "output_type": "display_data"
    }
   ],
   "source": [
    "m"
   ]
  },
  {
   "cell_type": "code",
   "execution_count": 13,
   "metadata": {},
   "outputs": [
    {
     "data": {
      "text/plain": [
       "[<Item title:\"Index of Multiple Deprivation (2019)\" type:Feature Layer Collection owner:RTanneka>,\n",
       " <Item title:\"2001 lower super output areas\" type:Feature Layer Collection owner:Layer_Library>,\n",
       " <Item title:\"CPCA_Multiple_Deprivation\" type:Feature Layer Collection owner:azolnaiadmin>,\n",
       " <Item title:\"Local Enterprise Partnerships (LEP) IMD2019 (OSGB1936)\" type:Feature Layer Collection owner:DCLGImplementationUnit_communities>,\n",
       " <Item title:\"Lower Layer Super Output Area (2011) to Local Enterprise Partnership (December 2014) Lookup in England\" type:Table Layer owner:ONSGeography_data>,\n",
       " <Item title:\"Lower Layer Super Output Area (2001) to Ward (2006) Lookup in England and Wales\" type:Table Layer owner:ONSGeography_data>,\n",
       " <Item title:\"LSOA (2011) to Clinical Commissioning Group to STP to Cancer Alliances (April 2020) Lookup in England\" type:Table Layer owner:ONSGeography_data>,\n",
       " <Item title:\"Lower Layer Super Output Area (2011) to Ward (2015) Lookup in England and Wales\" type:Table Layer owner:ONSGeography_data>,\n",
       " <Item title:\"LSOA (2011) to Clinical Commissioning Groups to Sustainability and Transformation Partnerships (April 2018) Lookup in England (Version 3)\" type:Table Layer owner:ONSGeography_data>,\n",
       " <Item title:\"LSOA (2011) to Clinical Commissioning Groups to Sustainability and Transformation Partnerships (April 2019) Lookup in England\" type:Table Layer owner:ONSGeography_data>,\n",
       " <Item title:\"Lower Layer Super Output Area (2001) to Ward (2001) Lookup in England and Wales\" type:Table Layer owner:ONSGeography_data>,\n",
       " <Item title:\"Lower Layer Super Output Area (2011) to Upper Tier Local Authorities (2018) Lookup in England and Wales v2\" type:Table Layer owner:ONSGeography_data>,\n",
       " <Item title:\"Lower Layer Super Output Area (2011) to Clinical Commissioning Group to Local Authority District (April 2018) Lookup in England\" type:Table Layer owner:ONSGeography_data>,\n",
       " <Item title:\"Index of Multiple Deprivation (December 2019) Lookup in England\" type:Table Layer owner:ONSGeography_data>,\n",
       " <Item title:\"Lower_Layer_Super_Output_Areas__December_2011__Population_Weighted_Centroids\" type:Feature Layer Collection owner:alex.hayes>]"
      ]
     },
     "execution_count": 13,
     "metadata": {},
     "output_type": "execute_result"
    }
   ],
   "source": [
    "llsoa_content = gis.content.search('Lower Layer Super Output Areas', item_type = 'Feature Layer', max_items = 15)\n",
    "llsoa_content"
   ]
  },
  {
   "cell_type": "code",
   "execution_count": 14,
   "metadata": {},
   "outputs": [
    {
     "data": {
      "text/html": [
       "<div class=\"item_container\" style=\"height: auto; overflow: hidden; border: 1px solid #cfcfcf; border-radius: 2px; background: #f6fafa; line-height: 1.21429em; padding: 10px;\">\n",
       "                    <div class=\"item_left\" style=\"width: 210px; float: left;\">\n",
       "                       <a href='https://www.arcgis.com/home/item.html?id=85c8b350c1a4442eacefc1bbe1b03205' target='_blank'>\n",
       "                        <img src='https://www.arcgis.com/sharing/rest//content/items/85c8b350c1a4442eacefc1bbe1b03205/info/thumbnail/ago_downloaded.png' class=\"itemThumbnail\">\n",
       "                       </a>\n",
       "                    </div>\n",
       "\n",
       "                    <div class=\"item_right\"     style=\"float: none; width: auto; overflow: hidden;\">\n",
       "                        <a href='https://www.arcgis.com/home/item.html?id=85c8b350c1a4442eacefc1bbe1b03205' target='_blank'><b>Index of Multiple Deprivation (2019)</b>\n",
       "                        </a>\n",
       "                        <br/>The English Indices of Deprivation 2019 use 39 separate indicators, organised across seven distinct domains of deprivation which can be combined, using appropriate weights, to calculate the Index of Multiple Deprivation 2019 (IMD 2019).<img src='https://www.arcgis.com/home/js/jsapi/esri/css/images/item_type_icons/featureshosted16.png' style=\"vertical-align:middle;\">Feature Layer Collection by RTanneka\n",
       "                        <br/>Last Modified: December 16, 2019\n",
       "                        <br/>2 comments, 7,658 views\n",
       "                    </div>\n",
       "                </div>\n",
       "                "
      ],
      "text/plain": [
       "<Item title:\"Index of Multiple Deprivation (2019)\" type:Feature Layer Collection owner:RTanneka>"
      ]
     },
     "metadata": {},
     "output_type": "display_data"
    },
    {
     "data": {
      "text/html": [
       "<div class=\"item_container\" style=\"height: auto; overflow: hidden; border: 1px solid #cfcfcf; border-radius: 2px; background: #f6fafa; line-height: 1.21429em; padding: 10px;\">\n",
       "                    <div class=\"item_left\" style=\"width: 210px; float: left;\">\n",
       "                       <a href='https://www.arcgis.com/home/item.html?id=902ab388b5da42a18da0180bf27060a6' target='_blank'>\n",
       "                        <img src='https://www.arcgis.com/sharing/rest//content/items/902ab388b5da42a18da0180bf27060a6/info/thumbnail/ago_downloaded.png' class=\"itemThumbnail\">\n",
       "                       </a>\n",
       "                    </div>\n",
       "\n",
       "                    <div class=\"item_right\"     style=\"float: none; width: auto; overflow: hidden;\">\n",
       "                        <a href='https://www.arcgis.com/home/item.html?id=902ab388b5da42a18da0180bf27060a6' target='_blank'><b>2001 lower super output areas</b>\n",
       "                        </a>\n",
       "                        <br/>To improve the reporting of small area statistics.<img src='https://www.arcgis.com/home/js/jsapi/esri/css/images/item_type_icons/featureshosted16.png' style=\"vertical-align:middle;\">Feature Layer Collection by Layer_Library\n",
       "                        <br/>Last Modified: April 02, 2020\n",
       "                        <br/>0 comments, 20 views\n",
       "                    </div>\n",
       "                </div>\n",
       "                "
      ],
      "text/plain": [
       "<Item title:\"2001 lower super output areas\" type:Feature Layer Collection owner:Layer_Library>"
      ]
     },
     "metadata": {},
     "output_type": "display_data"
    },
    {
     "data": {
      "text/html": [
       "<div class=\"item_container\" style=\"height: auto; overflow: hidden; border: 1px solid #cfcfcf; border-radius: 2px; background: #f6fafa; line-height: 1.21429em; padding: 10px;\">\n",
       "                    <div class=\"item_left\" style=\"width: 210px; float: left;\">\n",
       "                       <a href='https://www.arcgis.com/home/item.html?id=b6fec1f9d96c4bdd9ce403dbecc154db' target='_blank'>\n",
       "                        <img src='https://www.arcgis.com/sharing/rest//content/items/b6fec1f9d96c4bdd9ce403dbecc154db/info/thumbnail/ago_downloaded.png' class=\"itemThumbnail\">\n",
       "                       </a>\n",
       "                    </div>\n",
       "\n",
       "                    <div class=\"item_right\"     style=\"float: none; width: auto; overflow: hidden;\">\n",
       "                        <a href='https://www.arcgis.com/home/item.html?id=b6fec1f9d96c4bdd9ce403dbecc154db' target='_blank'><b>CPCA_Multiple_Deprivation</b>\n",
       "                        </a>\n",
       "                        <br/>Index of Multiple Deprivation Data 2015 curated for education purposes. The 7 domains of deprivation - Income, Employment, Education, Health, Crime, Barriers to housing & services and Living environment<img src='https://www.arcgis.com/home/js/jsapi/esri/css/images/item_type_icons/featureshosted16.png' style=\"vertical-align:middle;\">Feature Layer Collection by azolnaiadmin\n",
       "                        <br/>Last Modified: May 28, 2020\n",
       "                        <br/>0 comments, 11 views\n",
       "                    </div>\n",
       "                </div>\n",
       "                "
      ],
      "text/plain": [
       "<Item title:\"CPCA_Multiple_Deprivation\" type:Feature Layer Collection owner:azolnaiadmin>"
      ]
     },
     "metadata": {},
     "output_type": "display_data"
    },
    {
     "data": {
      "text/html": [
       "<div class=\"item_container\" style=\"height: auto; overflow: hidden; border: 1px solid #cfcfcf; border-radius: 2px; background: #f6fafa; line-height: 1.21429em; padding: 10px;\">\n",
       "                    <div class=\"item_left\" style=\"width: 210px; float: left;\">\n",
       "                       <a href='https://www.arcgis.com/home/item.html?id=37b2f8117c564ae3b963fe52720cf008' target='_blank'>\n",
       "                        <img src='https://www.arcgis.com/sharing/rest//content/items/37b2f8117c564ae3b963fe52720cf008/info/thumbnail/ago_downloaded.png' class=\"itemThumbnail\">\n",
       "                       </a>\n",
       "                    </div>\n",
       "\n",
       "                    <div class=\"item_right\"     style=\"float: none; width: auto; overflow: hidden;\">\n",
       "                        <a href='https://www.arcgis.com/home/item.html?id=37b2f8117c564ae3b963fe52720cf008' target='_blank'><b>Local Enterprise Partnerships (LEP) IMD2019 (OSGB1936)</b>\n",
       "                        </a>\n",
       "                        <br/>Datafile containing 2019 Index of Multiple Deprivation (IMD) for 2019. Spatial Projection is OSGB1936. Geography is at LEP level. The data in this file is structured for easier use within a GIS System.<img src='https://www.arcgis.com/home/js/jsapi/esri/css/images/item_type_icons/featureshosted16.png' style=\"vertical-align:middle;\">Feature Layer Collection by DCLGImplementationUnit_communities\n",
       "                        <br/>Last Modified: September 25, 2019\n",
       "                        <br/>0 comments, 39 views\n",
       "                    </div>\n",
       "                </div>\n",
       "                "
      ],
      "text/plain": [
       "<Item title:\"Local Enterprise Partnerships (LEP) IMD2019 (OSGB1936)\" type:Feature Layer Collection owner:DCLGImplementationUnit_communities>"
      ]
     },
     "metadata": {},
     "output_type": "display_data"
    },
    {
     "data": {
      "text/html": [
       "<div class=\"item_container\" style=\"height: auto; overflow: hidden; border: 1px solid #cfcfcf; border-radius: 2px; background: #f6fafa; line-height: 1.21429em; padding: 10px;\">\n",
       "                    <div class=\"item_left\" style=\"width: 210px; float: left;\">\n",
       "                       <a href='https://www.arcgis.com/home/item.html?id=d534026fd7514b1c91bf6950ffeee7c2' target='_blank'>\n",
       "                        <img src='https://www.arcgis.com/sharing/rest//content/items/d534026fd7514b1c91bf6950ffeee7c2/info/thumbnail/thumbnail1531478760861.png' class=\"itemThumbnail\">\n",
       "                       </a>\n",
       "                    </div>\n",
       "\n",
       "                    <div class=\"item_right\"     style=\"float: none; width: auto; overflow: hidden;\">\n",
       "                        <a href='https://www.arcgis.com/home/item.html?id=d534026fd7514b1c91bf6950ffeee7c2' target='_blank'><b>Lower Layer Super Output Area (2011) to Local Enterprise Partnership (December 2014) Lookup in England</b>\n",
       "                        </a>\n",
       "                        <br/>Lookups<img src='https://www.arcgis.com/home/js/jsapi/esri/css/images/item_type_icons/table16.png' style=\"vertical-align:middle;\">Table Layer by ONSGeography_data\n",
       "                        <br/>Last Modified: March 08, 2019\n",
       "                        <br/>0 comments, 17 views\n",
       "                    </div>\n",
       "                </div>\n",
       "                "
      ],
      "text/plain": [
       "<Item title:\"Lower Layer Super Output Area (2011) to Local Enterprise Partnership (December 2014) Lookup in England\" type:Table Layer owner:ONSGeography_data>"
      ]
     },
     "metadata": {},
     "output_type": "display_data"
    },
    {
     "data": {
      "text/html": [
       "<div class=\"item_container\" style=\"height: auto; overflow: hidden; border: 1px solid #cfcfcf; border-radius: 2px; background: #f6fafa; line-height: 1.21429em; padding: 10px;\">\n",
       "                    <div class=\"item_left\" style=\"width: 210px; float: left;\">\n",
       "                       <a href='https://www.arcgis.com/home/item.html?id=8abe0e91b4b34262bceafc3ed187b4c8' target='_blank'>\n",
       "                        <img src='https://www.arcgis.com/sharing/rest//content/items/8abe0e91b4b34262bceafc3ed187b4c8/info/thumbnail/thumbnail.png' class=\"itemThumbnail\">\n",
       "                       </a>\n",
       "                    </div>\n",
       "\n",
       "                    <div class=\"item_right\"     style=\"float: none; width: auto; overflow: hidden;\">\n",
       "                        <a href='https://www.arcgis.com/home/item.html?id=8abe0e91b4b34262bceafc3ed187b4c8' target='_blank'><b>Lower Layer Super Output Area (2001) to Ward (2006) Lookup in England and Wales</b>\n",
       "                        </a>\n",
       "                        <br/>Lookups<img src='https://www.arcgis.com/home/js/jsapi/esri/css/images/item_type_icons/table16.png' style=\"vertical-align:middle;\">Table Layer by ONSGeography_data\n",
       "                        <br/>Last Modified: March 08, 2019\n",
       "                        <br/>0 comments, 28 views\n",
       "                    </div>\n",
       "                </div>\n",
       "                "
      ],
      "text/plain": [
       "<Item title:\"Lower Layer Super Output Area (2001) to Ward (2006) Lookup in England and Wales\" type:Table Layer owner:ONSGeography_data>"
      ]
     },
     "metadata": {},
     "output_type": "display_data"
    },
    {
     "data": {
      "text/html": [
       "<div class=\"item_container\" style=\"height: auto; overflow: hidden; border: 1px solid #cfcfcf; border-radius: 2px; background: #f6fafa; line-height: 1.21429em; padding: 10px;\">\n",
       "                    <div class=\"item_left\" style=\"width: 210px; float: left;\">\n",
       "                       <a href='https://www.arcgis.com/home/item.html?id=d30531b5888a4e34be4746399d696409' target='_blank'>\n",
       "                        <img src='https://www.arcgis.com/sharing/rest//content/items/d30531b5888a4e34be4746399d696409/info/thumbnail/thumbnail1585294201768.png' class=\"itemThumbnail\">\n",
       "                       </a>\n",
       "                    </div>\n",
       "\n",
       "                    <div class=\"item_right\"     style=\"float: none; width: auto; overflow: hidden;\">\n",
       "                        <a href='https://www.arcgis.com/home/item.html?id=d30531b5888a4e34be4746399d696409' target='_blank'><b>LSOA (2011) to Clinical Commissioning Group to STP to Cancer Alliances (April 2020) Lookup in England</b>\n",
       "                        </a>\n",
       "                        <br/>Lookups<img src='https://www.arcgis.com/home/js/jsapi/esri/css/images/item_type_icons/table16.png' style=\"vertical-align:middle;\">Table Layer by ONSGeography_data\n",
       "                        <br/>Last Modified: May 13, 2020\n",
       "                        <br/>0 comments, 13 views\n",
       "                    </div>\n",
       "                </div>\n",
       "                "
      ],
      "text/plain": [
       "<Item title:\"LSOA (2011) to Clinical Commissioning Group to STP to Cancer Alliances (April 2020) Lookup in England\" type:Table Layer owner:ONSGeography_data>"
      ]
     },
     "metadata": {},
     "output_type": "display_data"
    },
    {
     "data": {
      "text/html": [
       "<div class=\"item_container\" style=\"height: auto; overflow: hidden; border: 1px solid #cfcfcf; border-radius: 2px; background: #f6fafa; line-height: 1.21429em; padding: 10px;\">\n",
       "                    <div class=\"item_left\" style=\"width: 210px; float: left;\">\n",
       "                       <a href='https://www.arcgis.com/home/item.html?id=07a6d14d4a0540769f0662f4d1450bae' target='_blank'>\n",
       "                        <img src='https://www.arcgis.com/sharing/rest//content/items/07a6d14d4a0540769f0662f4d1450bae/info/thumbnail/thumbnail.png' class=\"itemThumbnail\">\n",
       "                       </a>\n",
       "                    </div>\n",
       "\n",
       "                    <div class=\"item_right\"     style=\"float: none; width: auto; overflow: hidden;\">\n",
       "                        <a href='https://www.arcgis.com/home/item.html?id=07a6d14d4a0540769f0662f4d1450bae' target='_blank'><b>Lower Layer Super Output Area (2011) to Ward (2015) Lookup in England and Wales</b>\n",
       "                        </a>\n",
       "                        <br/>Lookups<img src='https://www.arcgis.com/home/js/jsapi/esri/css/images/item_type_icons/table16.png' style=\"vertical-align:middle;\">Table Layer by ONSGeography_data\n",
       "                        <br/>Last Modified: March 10, 2019\n",
       "                        <br/>0 comments, 74 views\n",
       "                    </div>\n",
       "                </div>\n",
       "                "
      ],
      "text/plain": [
       "<Item title:\"Lower Layer Super Output Area (2011) to Ward (2015) Lookup in England and Wales\" type:Table Layer owner:ONSGeography_data>"
      ]
     },
     "metadata": {},
     "output_type": "display_data"
    },
    {
     "data": {
      "text/html": [
       "<div class=\"item_container\" style=\"height: auto; overflow: hidden; border: 1px solid #cfcfcf; border-radius: 2px; background: #f6fafa; line-height: 1.21429em; padding: 10px;\">\n",
       "                    <div class=\"item_left\" style=\"width: 210px; float: left;\">\n",
       "                       <a href='https://www.arcgis.com/home/item.html?id=f0095af162f749ad8231e6226e1b7e30' target='_blank'>\n",
       "                        <img src='https://www.arcgis.com/sharing/rest//content/items/f0095af162f749ad8231e6226e1b7e30/info/thumbnail/thumbnail1529403465503.png' class=\"itemThumbnail\">\n",
       "                       </a>\n",
       "                    </div>\n",
       "\n",
       "                    <div class=\"item_right\"     style=\"float: none; width: auto; overflow: hidden;\">\n",
       "                        <a href='https://www.arcgis.com/home/item.html?id=f0095af162f749ad8231e6226e1b7e30' target='_blank'><b>LSOA (2011) to Clinical Commissioning Groups to Sustainability and Transformation Partnerships (April 2018) Lookup in England (Version 3)</b>\n",
       "                        </a>\n",
       "                        <br/>Lookup<img src='https://www.arcgis.com/home/js/jsapi/esri/css/images/item_type_icons/table16.png' style=\"vertical-align:middle;\">Table Layer by ONSGeography_data\n",
       "                        <br/>Last Modified: March 08, 2019\n",
       "                        <br/>0 comments, 36 views\n",
       "                    </div>\n",
       "                </div>\n",
       "                "
      ],
      "text/plain": [
       "<Item title:\"LSOA (2011) to Clinical Commissioning Groups to Sustainability and Transformation Partnerships (April 2018) Lookup in England (Version 3)\" type:Table Layer owner:ONSGeography_data>"
      ]
     },
     "metadata": {},
     "output_type": "display_data"
    },
    {
     "data": {
      "text/html": [
       "<div class=\"item_container\" style=\"height: auto; overflow: hidden; border: 1px solid #cfcfcf; border-radius: 2px; background: #f6fafa; line-height: 1.21429em; padding: 10px;\">\n",
       "                    <div class=\"item_left\" style=\"width: 210px; float: left;\">\n",
       "                       <a href='https://www.arcgis.com/home/item.html?id=520e9cd294c84dfaaf97cc91494237ac' target='_blank'>\n",
       "                        <img src='https://www.arcgis.com/sharing/rest//content/items/520e9cd294c84dfaaf97cc91494237ac/info/thumbnail/thumbnail1564636629720.png' class=\"itemThumbnail\">\n",
       "                       </a>\n",
       "                    </div>\n",
       "\n",
       "                    <div class=\"item_right\"     style=\"float: none; width: auto; overflow: hidden;\">\n",
       "                        <a href='https://www.arcgis.com/home/item.html?id=520e9cd294c84dfaaf97cc91494237ac' target='_blank'><b>LSOA (2011) to Clinical Commissioning Groups to Sustainability and Transformation Partnerships (April 2019) Lookup in England</b>\n",
       "                        </a>\n",
       "                        <br/>Lookups<img src='https://www.arcgis.com/home/js/jsapi/esri/css/images/item_type_icons/table16.png' style=\"vertical-align:middle;\">Table Layer by ONSGeography_data\n",
       "                        <br/>Last Modified: August 08, 2019\n",
       "                        <br/>0 comments, 24 views\n",
       "                    </div>\n",
       "                </div>\n",
       "                "
      ],
      "text/plain": [
       "<Item title:\"LSOA (2011) to Clinical Commissioning Groups to Sustainability and Transformation Partnerships (April 2019) Lookup in England\" type:Table Layer owner:ONSGeography_data>"
      ]
     },
     "metadata": {},
     "output_type": "display_data"
    },
    {
     "data": {
      "text/html": [
       "<div class=\"item_container\" style=\"height: auto; overflow: hidden; border: 1px solid #cfcfcf; border-radius: 2px; background: #f6fafa; line-height: 1.21429em; padding: 10px;\">\n",
       "                    <div class=\"item_left\" style=\"width: 210px; float: left;\">\n",
       "                       <a href='https://www.arcgis.com/home/item.html?id=8e8ebca86b264c6fa2d0a4a2a9053b9c' target='_blank'>\n",
       "                        <img src='https://www.arcgis.com/sharing/rest//content/items/8e8ebca86b264c6fa2d0a4a2a9053b9c/info/thumbnail/thumbnail.png' class=\"itemThumbnail\">\n",
       "                       </a>\n",
       "                    </div>\n",
       "\n",
       "                    <div class=\"item_right\"     style=\"float: none; width: auto; overflow: hidden;\">\n",
       "                        <a href='https://www.arcgis.com/home/item.html?id=8e8ebca86b264c6fa2d0a4a2a9053b9c' target='_blank'><b>Lower Layer Super Output Area (2001) to Ward (2001) Lookup in England and Wales</b>\n",
       "                        </a>\n",
       "                        <br/>Lookups<img src='https://www.arcgis.com/home/js/jsapi/esri/css/images/item_type_icons/table16.png' style=\"vertical-align:middle;\">Table Layer by ONSGeography_data\n",
       "                        <br/>Last Modified: March 08, 2019\n",
       "                        <br/>0 comments, 56 views\n",
       "                    </div>\n",
       "                </div>\n",
       "                "
      ],
      "text/plain": [
       "<Item title:\"Lower Layer Super Output Area (2001) to Ward (2001) Lookup in England and Wales\" type:Table Layer owner:ONSGeography_data>"
      ]
     },
     "metadata": {},
     "output_type": "display_data"
    },
    {
     "data": {
      "text/html": [
       "<div class=\"item_container\" style=\"height: auto; overflow: hidden; border: 1px solid #cfcfcf; border-radius: 2px; background: #f6fafa; line-height: 1.21429em; padding: 10px;\">\n",
       "                    <div class=\"item_left\" style=\"width: 210px; float: left;\">\n",
       "                       <a href='https://www.arcgis.com/home/item.html?id=95ecb220a30e41d5ae759cd1c9aa929f' target='_blank'>\n",
       "                        <img src='https://www.arcgis.com/sharing/rest//content/items/95ecb220a30e41d5ae759cd1c9aa929f/info/thumbnail/thumbnail1549362853201.png' class=\"itemThumbnail\">\n",
       "                       </a>\n",
       "                    </div>\n",
       "\n",
       "                    <div class=\"item_right\"     style=\"float: none; width: auto; overflow: hidden;\">\n",
       "                        <a href='https://www.arcgis.com/home/item.html?id=95ecb220a30e41d5ae759cd1c9aa929f' target='_blank'><b>Lower Layer Super Output Area (2011) to Upper Tier Local Authorities (2018) Lookup in England and Wales v2</b>\n",
       "                        </a>\n",
       "                        <br/>Lookups<img src='https://www.arcgis.com/home/js/jsapi/esri/css/images/item_type_icons/table16.png' style=\"vertical-align:middle;\">Table Layer by ONSGeography_data\n",
       "                        <br/>Last Modified: October 05, 2020\n",
       "                        <br/>0 comments, 43 views\n",
       "                    </div>\n",
       "                </div>\n",
       "                "
      ],
      "text/plain": [
       "<Item title:\"Lower Layer Super Output Area (2011) to Upper Tier Local Authorities (2018) Lookup in England and Wales v2\" type:Table Layer owner:ONSGeography_data>"
      ]
     },
     "metadata": {},
     "output_type": "display_data"
    },
    {
     "data": {
      "text/html": [
       "<div class=\"item_container\" style=\"height: auto; overflow: hidden; border: 1px solid #cfcfcf; border-radius: 2px; background: #f6fafa; line-height: 1.21429em; padding: 10px;\">\n",
       "                    <div class=\"item_left\" style=\"width: 210px; float: left;\">\n",
       "                       <a href='https://www.arcgis.com/home/item.html?id=0c90bf46583c4016a1b01ce9dfd561cb' target='_blank'>\n",
       "                        <img src='https://www.arcgis.com/sharing/rest//content/items/0c90bf46583c4016a1b01ce9dfd561cb/info/thumbnail/thumbnail.png' class=\"itemThumbnail\">\n",
       "                       </a>\n",
       "                    </div>\n",
       "\n",
       "                    <div class=\"item_right\"     style=\"float: none; width: auto; overflow: hidden;\">\n",
       "                        <a href='https://www.arcgis.com/home/item.html?id=0c90bf46583c4016a1b01ce9dfd561cb' target='_blank'><b>Lower Layer Super Output Area (2011) to Clinical Commissioning Group to Local Authority District (April 2018) Lookup in England</b>\n",
       "                        </a>\n",
       "                        <br/>Lookup<img src='https://www.arcgis.com/home/js/jsapi/esri/css/images/item_type_icons/table16.png' style=\"vertical-align:middle;\">Table Layer by ONSGeography_data\n",
       "                        <br/>Last Modified: March 08, 2019\n",
       "                        <br/>0 comments, 48 views\n",
       "                    </div>\n",
       "                </div>\n",
       "                "
      ],
      "text/plain": [
       "<Item title:\"Lower Layer Super Output Area (2011) to Clinical Commissioning Group to Local Authority District (April 2018) Lookup in England\" type:Table Layer owner:ONSGeography_data>"
      ]
     },
     "metadata": {},
     "output_type": "display_data"
    },
    {
     "data": {
      "text/html": [
       "<div class=\"item_container\" style=\"height: auto; overflow: hidden; border: 1px solid #cfcfcf; border-radius: 2px; background: #f6fafa; line-height: 1.21429em; padding: 10px;\">\n",
       "                    <div class=\"item_left\" style=\"width: 210px; float: left;\">\n",
       "                       <a href='https://www.arcgis.com/home/item.html?id=3db665d50b1441bc82bb1fee74ccc95a' target='_blank'>\n",
       "                        <img src='https://www.arcgis.com/sharing/rest//content/items/3db665d50b1441bc82bb1fee74ccc95a/info/thumbnail/thumbnail1576058238664.png' class=\"itemThumbnail\">\n",
       "                       </a>\n",
       "                    </div>\n",
       "\n",
       "                    <div class=\"item_right\"     style=\"float: none; width: auto; overflow: hidden;\">\n",
       "                        <a href='https://www.arcgis.com/home/item.html?id=3db665d50b1441bc82bb1fee74ccc95a' target='_blank'><b>Index of Multiple Deprivation (December 2019) Lookup in England</b>\n",
       "                        </a>\n",
       "                        <br/>Lookups<img src='https://www.arcgis.com/home/js/jsapi/esri/css/images/item_type_icons/table16.png' style=\"vertical-align:middle;\">Table Layer by ONSGeography_data\n",
       "                        <br/>Last Modified: December 12, 2019\n",
       "                        <br/>0 comments, 84 views\n",
       "                    </div>\n",
       "                </div>\n",
       "                "
      ],
      "text/plain": [
       "<Item title:\"Index of Multiple Deprivation (December 2019) Lookup in England\" type:Table Layer owner:ONSGeography_data>"
      ]
     },
     "metadata": {},
     "output_type": "display_data"
    },
    {
     "data": {
      "text/html": [
       "<div class=\"item_container\" style=\"height: auto; overflow: hidden; border: 1px solid #cfcfcf; border-radius: 2px; background: #f6fafa; line-height: 1.21429em; padding: 10px;\">\n",
       "                    <div class=\"item_left\" style=\"width: 210px; float: left;\">\n",
       "                       <a href='https://www.arcgis.com/home/item.html?id=40121dde3b7b4d11803a86ebcd2b6a02' target='_blank'>\n",
       "                        <img src='https://www.arcgis.com/sharing/rest//content/items/40121dde3b7b4d11803a86ebcd2b6a02/info/thumbnail/ago_downloaded.png' class=\"itemThumbnail\">\n",
       "                       </a>\n",
       "                    </div>\n",
       "\n",
       "                    <div class=\"item_right\"     style=\"float: none; width: auto; overflow: hidden;\">\n",
       "                        <a href='https://www.arcgis.com/home/item.html?id=40121dde3b7b4d11803a86ebcd2b6a02' target='_blank'><b>Lower_Layer_Super_Output_Areas__December_2011__Population_Weighted_Centroids</b>\n",
       "                        </a>\n",
       "                        <br/><img src='https://www.arcgis.com/home/js/jsapi/esri/css/images/item_type_icons/featureshosted16.png' style=\"vertical-align:middle;\">Feature Layer Collection by alex.hayes\n",
       "                        <br/>Last Modified: October 21, 2020\n",
       "                        <br/>0 comments, 42 views\n",
       "                    </div>\n",
       "                </div>\n",
       "                "
      ],
      "text/plain": [
       "<Item title:\"Lower_Layer_Super_Output_Areas__December_2011__Population_Weighted_Centroids\" type:Feature Layer Collection owner:alex.hayes>"
      ]
     },
     "metadata": {},
     "output_type": "display_data"
    }
   ],
   "source": [
    "from IPython.display import display\n",
    "for item in llsoa_content:\n",
    "    display(item)"
   ]
  },
  {
   "cell_type": "code",
   "execution_count": 17,
   "metadata": {},
   "outputs": [],
   "source": [
    "llsoa_imd = llsoa_content[0]\n",
    "m.add_layer(llsoa_imd)"
   ]
  }
 ],
 "metadata": {
  "kernelspec": {
   "display_name": "Python 3",
   "language": "python",
   "name": "python3"
  },
  "language_info": {
   "codemirror_mode": {
    "name": "ipython",
    "version": 3
   },
   "file_extension": ".py",
   "mimetype": "text/x-python",
   "name": "python",
   "nbconvert_exporter": "python",
   "pygments_lexer": "ipython3",
   "version": "3.8.5"
  }
 },
 "nbformat": 4,
 "nbformat_minor": 4
}
