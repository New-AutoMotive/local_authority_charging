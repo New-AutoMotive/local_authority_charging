{
 "cells": [
  {
   "cell_type": "markdown",
   "metadata": {},
   "source": [
    "# Importing packages"
   ]
  },
  {
   "cell_type": "code",
   "execution_count": 1,
   "metadata": {},
   "outputs": [
    {
     "name": "stdout",
     "output_type": "stream",
     "text": [
      "Data checker will look for the data folder. If none is found then it will create it.\n",
      "Successfully created the directory Data \n"
     ]
    }
   ],
   "source": [
    "import pandas as pd\n",
    "import numpy as np\n",
    "import os\n",
    "import requests\n",
    "import urllib\n",
    "from helpers import data_folder #function to check for data folder and create it if not there\n",
    "from helpers import data_checker #function to check for a specific file inside the data folder\n",
    "data_folder()"
   ]
  },
  {
   "cell_type": "markdown",
   "metadata": {},
   "source": [
    "# Importing Index of Deprivation Data\n",
    "These data are published separately for England, Scotland, Wales and Northern Ireland.\n",
    "\n",
    "First we will import the data for England, which is available from the MHCLG website."
   ]
  },
  {
   "cell_type": "code",
   "execution_count": 2,
   "metadata": {},
   "outputs": [
    {
     "name": "stdout",
     "output_type": "stream",
     "text": [
      "Data has already been downloaded\n",
      "Data has already been downloaded\n"
     ]
    },
    {
     "data": {
      "text/plain": [
       "True"
      ]
     },
     "execution_count": 2,
     "metadata": {},
     "output_type": "execute_result"
    }
   ],
   "source": [
    "if not data_checker('england_imd_2019.xlsx'):\n",
    "    #this url links to the MHCLG website that hosts the table on English IMD by LSOA. The data come in an xlsx file.\n",
    "    url = 'https://assets.publishing.service.gov.uk/government/uploads/system/uploads/attachment_data/file/833970/File_1_-_IMD2019_Index_of_Multiple_Deprivation.xlsx'\n",
    "    r = requests.get(url, allow_redirects = True)\n",
    "    with open (os.path.join('Data', 'england_imd_2019.xlsx'), 'wb') as f:\n",
    "        f.write(r.content)"
   ]
  },
  {
   "cell_type": "code",
   "execution_count": 13,
   "metadata": {},
   "outputs": [
    {
     "data": {
      "text/plain": [
       "(32844, 6)"
      ]
     },
     "execution_count": 13,
     "metadata": {},
     "output_type": "execute_result"
    }
   ],
   "source": [
    "#import data into pandas dataframe\n",
    "df = pd.read_excel(os.path.join('Data', 'england_imd_2019.xlsx'), sheet_name = 'IMD2019')\n",
    "df.shape"
   ]
  },
  {
   "cell_type": "code",
   "execution_count": 14,
   "metadata": {},
   "outputs": [
    {
     "data": {
      "text/html": [
       "<div>\n",
       "<style scoped>\n",
       "    .dataframe tbody tr th:only-of-type {\n",
       "        vertical-align: middle;\n",
       "    }\n",
       "\n",
       "    .dataframe tbody tr th {\n",
       "        vertical-align: top;\n",
       "    }\n",
       "\n",
       "    .dataframe thead th {\n",
       "        text-align: right;\n",
       "    }\n",
       "</style>\n",
       "<table border=\"1\" class=\"dataframe\">\n",
       "  <thead>\n",
       "    <tr style=\"text-align: right;\">\n",
       "      <th></th>\n",
       "      <th>LSOA code (2011)</th>\n",
       "      <th>LSOA name (2011)</th>\n",
       "      <th>Local Authority District code (2019)</th>\n",
       "      <th>Local Authority District name (2019)</th>\n",
       "      <th>Index of Multiple Deprivation (IMD) Rank</th>\n",
       "      <th>Index of Multiple Deprivation (IMD) Decile</th>\n",
       "    </tr>\n",
       "  </thead>\n",
       "  <tbody>\n",
       "    <tr>\n",
       "      <th>0</th>\n",
       "      <td>E01000001</td>\n",
       "      <td>City of London 001A</td>\n",
       "      <td>E09000001</td>\n",
       "      <td>City of London</td>\n",
       "      <td>29199</td>\n",
       "      <td>9</td>\n",
       "    </tr>\n",
       "    <tr>\n",
       "      <th>1</th>\n",
       "      <td>E01000002</td>\n",
       "      <td>City of London 001B</td>\n",
       "      <td>E09000001</td>\n",
       "      <td>City of London</td>\n",
       "      <td>30379</td>\n",
       "      <td>10</td>\n",
       "    </tr>\n",
       "    <tr>\n",
       "      <th>2</th>\n",
       "      <td>E01000003</td>\n",
       "      <td>City of London 001C</td>\n",
       "      <td>E09000001</td>\n",
       "      <td>City of London</td>\n",
       "      <td>14915</td>\n",
       "      <td>5</td>\n",
       "    </tr>\n",
       "    <tr>\n",
       "      <th>3</th>\n",
       "      <td>E01000005</td>\n",
       "      <td>City of London 001E</td>\n",
       "      <td>E09000001</td>\n",
       "      <td>City of London</td>\n",
       "      <td>8678</td>\n",
       "      <td>3</td>\n",
       "    </tr>\n",
       "    <tr>\n",
       "      <th>4</th>\n",
       "      <td>E01000006</td>\n",
       "      <td>Barking and Dagenham 016A</td>\n",
       "      <td>E09000002</td>\n",
       "      <td>Barking and Dagenham</td>\n",
       "      <td>14486</td>\n",
       "      <td>5</td>\n",
       "    </tr>\n",
       "  </tbody>\n",
       "</table>\n",
       "</div>"
      ],
      "text/plain": [
       "  LSOA code (2011)           LSOA name (2011)  \\\n",
       "0        E01000001        City of London 001A   \n",
       "1        E01000002        City of London 001B   \n",
       "2        E01000003        City of London 001C   \n",
       "3        E01000005        City of London 001E   \n",
       "4        E01000006  Barking and Dagenham 016A   \n",
       "\n",
       "  Local Authority District code (2019) Local Authority District name (2019)  \\\n",
       "0                            E09000001                       City of London   \n",
       "1                            E09000001                       City of London   \n",
       "2                            E09000001                       City of London   \n",
       "3                            E09000001                       City of London   \n",
       "4                            E09000002                 Barking and Dagenham   \n",
       "\n",
       "   Index of Multiple Deprivation (IMD) Rank  \\\n",
       "0                                     29199   \n",
       "1                                     30379   \n",
       "2                                     14915   \n",
       "3                                      8678   \n",
       "4                                     14486   \n",
       "\n",
       "   Index of Multiple Deprivation (IMD) Decile  \n",
       "0                                           9  \n",
       "1                                          10  \n",
       "2                                           5  \n",
       "3                                           3  \n",
       "4                                           5  "
      ]
     },
     "execution_count": 14,
     "metadata": {},
     "output_type": "execute_result"
    }
   ],
   "source": [
    "df.head()"
   ]
  }
 ],
 "metadata": {
  "kernelspec": {
   "display_name": "Python 3",
   "language": "python",
   "name": "python3"
  },
  "language_info": {
   "codemirror_mode": {
    "name": "ipython",
    "version": 3
   },
   "file_extension": ".py",
   "mimetype": "text/x-python",
   "name": "python",
   "nbconvert_exporter": "python",
   "pygments_lexer": "ipython3",
   "version": "3.8.5"
  }
 },
 "nbformat": 4,
 "nbformat_minor": 4
}
