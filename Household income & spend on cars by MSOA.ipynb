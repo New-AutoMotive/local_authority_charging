{
 "cells": [
  {
   "cell_type": "markdown",
   "metadata": {},
   "source": [
    "# Importing packages"
   ]
  },
  {
   "cell_type": "code",
   "execution_count": 39,
   "metadata": {},
   "outputs": [
    {
     "name": "stdout",
     "output_type": "stream",
     "text": [
      "Data checker will look for the data folder. If none is found then it will create it.\n",
      "Successfully created the directory Data \n"
     ]
    }
   ],
   "source": [
    "import pandas as pd\n",
    "import numpy as np\n",
    "import openpyxl\n",
    "import os\n",
    "import requests\n",
    "from helpers import data_folder #function to check for data folder and create it if not there\n",
    "from helpers import data_checker #function to check for a specific file inside the data folder\n",
    "import json\n",
    "import folium\n",
    "import zipfile\n",
    "\n",
    "data_folder()"
   ]
  },
  {
   "cell_type": "markdown",
   "metadata": {},
   "source": [
    "# Importing Index of Deprivation Data\n",
    "These data are published separately for England, Scotland, Wales and Northern Ireland.\n",
    "\n",
    "First we will import the data for England, which is available from the MHCLG website."
   ]
  },
  {
   "cell_type": "markdown",
   "metadata": {},
   "source": [
    "#### First, download the English data"
   ]
  },
  {
   "cell_type": "code",
   "execution_count": 40,
   "metadata": {},
   "outputs": [
    {
     "name": "stdout",
     "output_type": "stream",
     "text": [
      "Data has already been downloaded\n"
     ]
    }
   ],
   "source": [
    "if not data_checker('england_imd_2019.xlsx'):\n",
    "    #this url links to the MHCLG website that hosts the table on English IMD by LSOA. The data come in an xlsx file.\n",
    "    url = 'https://assets.publishing.service.gov.uk/government/uploads/system/uploads/attachment_data/file/833970/File_1_-_IMD2019_Index_of_Multiple_Deprivation.xlsx'\n",
    "    r = requests.get(url, allow_redirects = True)\n",
    "    with open (os.path.join('Data', 'england_imd_2019.xlsx'), 'wb') as f:\n",
    "        f.write(r.content)"
   ]
  },
  {
   "cell_type": "code",
   "execution_count": 41,
   "metadata": {},
   "outputs": [
    {
     "data": {
      "text/plain": [
       "(32844, 6)"
      ]
     },
     "execution_count": 41,
     "metadata": {},
     "output_type": "execute_result"
    }
   ],
   "source": [
    "#import data into pandas dataframe\n",
    "df = pd.read_excel(os.path.join('Data', 'england_imd_2019.xlsx'), sheet_name = 'IMD2019')\n",
    "df.shape"
   ]
  },
  {
   "cell_type": "code",
   "execution_count": 42,
   "metadata": {},
   "outputs": [
    {
     "data": {
      "text/html": [
       "<div>\n",
       "<style scoped>\n",
       "    .dataframe tbody tr th:only-of-type {\n",
       "        vertical-align: middle;\n",
       "    }\n",
       "\n",
       "    .dataframe tbody tr th {\n",
       "        vertical-align: top;\n",
       "    }\n",
       "\n",
       "    .dataframe thead th {\n",
       "        text-align: right;\n",
       "    }\n",
       "</style>\n",
       "<table border=\"1\" class=\"dataframe\">\n",
       "  <thead>\n",
       "    <tr style=\"text-align: right;\">\n",
       "      <th></th>\n",
       "      <th>LSOA code (2011)</th>\n",
       "      <th>LSOA name (2011)</th>\n",
       "      <th>Local Authority District code (2019)</th>\n",
       "      <th>Local Authority District name (2019)</th>\n",
       "      <th>Index of Multiple Deprivation (IMD) Rank</th>\n",
       "      <th>Index of Multiple Deprivation (IMD) Decile</th>\n",
       "    </tr>\n",
       "  </thead>\n",
       "  <tbody>\n",
       "    <tr>\n",
       "      <th>0</th>\n",
       "      <td>E01000001</td>\n",
       "      <td>City of London 001A</td>\n",
       "      <td>E09000001</td>\n",
       "      <td>City of London</td>\n",
       "      <td>29199</td>\n",
       "      <td>9</td>\n",
       "    </tr>\n",
       "    <tr>\n",
       "      <th>1</th>\n",
       "      <td>E01000002</td>\n",
       "      <td>City of London 001B</td>\n",
       "      <td>E09000001</td>\n",
       "      <td>City of London</td>\n",
       "      <td>30379</td>\n",
       "      <td>10</td>\n",
       "    </tr>\n",
       "    <tr>\n",
       "      <th>2</th>\n",
       "      <td>E01000003</td>\n",
       "      <td>City of London 001C</td>\n",
       "      <td>E09000001</td>\n",
       "      <td>City of London</td>\n",
       "      <td>14915</td>\n",
       "      <td>5</td>\n",
       "    </tr>\n",
       "    <tr>\n",
       "      <th>3</th>\n",
       "      <td>E01000005</td>\n",
       "      <td>City of London 001E</td>\n",
       "      <td>E09000001</td>\n",
       "      <td>City of London</td>\n",
       "      <td>8678</td>\n",
       "      <td>3</td>\n",
       "    </tr>\n",
       "    <tr>\n",
       "      <th>4</th>\n",
       "      <td>E01000006</td>\n",
       "      <td>Barking and Dagenham 016A</td>\n",
       "      <td>E09000002</td>\n",
       "      <td>Barking and Dagenham</td>\n",
       "      <td>14486</td>\n",
       "      <td>5</td>\n",
       "    </tr>\n",
       "  </tbody>\n",
       "</table>\n",
       "</div>"
      ],
      "text/plain": [
       "  LSOA code (2011)           LSOA name (2011)  \\\n",
       "0        E01000001        City of London 001A   \n",
       "1        E01000002        City of London 001B   \n",
       "2        E01000003        City of London 001C   \n",
       "3        E01000005        City of London 001E   \n",
       "4        E01000006  Barking and Dagenham 016A   \n",
       "\n",
       "  Local Authority District code (2019) Local Authority District name (2019)  \\\n",
       "0                            E09000001                       City of London   \n",
       "1                            E09000001                       City of London   \n",
       "2                            E09000001                       City of London   \n",
       "3                            E09000001                       City of London   \n",
       "4                            E09000002                 Barking and Dagenham   \n",
       "\n",
       "   Index of Multiple Deprivation (IMD) Rank  \\\n",
       "0                                     29199   \n",
       "1                                     30379   \n",
       "2                                     14915   \n",
       "3                                      8678   \n",
       "4                                     14486   \n",
       "\n",
       "   Index of Multiple Deprivation (IMD) Decile  \n",
       "0                                           9  \n",
       "1                                          10  \n",
       "2                                           5  \n",
       "3                                           3  \n",
       "4                                           5  "
      ]
     },
     "execution_count": 42,
     "metadata": {},
     "output_type": "execute_result"
    }
   ],
   "source": [
    "df.head()"
   ]
  },
  {
   "cell_type": "markdown",
   "metadata": {},
   "source": [
    "## Clean up the data"
   ]
  },
  {
   "cell_type": "code",
   "execution_count": 43,
   "metadata": {},
   "outputs": [],
   "source": [
    "#first, change column titles to something a bit better...\n",
    "df = df.rename(columns = {'LSOA code (2011)': 'lsoa_code_2011', 'LSOA name (2011)': 'lsoa_name_211', 'Local Authority District code (2019)': 'local_authority_district_code', 'Local Authority District name (2019)': 'local_authority_district', 'Index of Multiple Deprivation (IMD) Rank': 'imd_rank', 'Index of Multiple Deprivation (IMD) Decile': 'imd_decile'})\n"
   ]
  },
  {
   "cell_type": "code",
   "execution_count": 44,
   "metadata": {},
   "outputs": [
    {
     "data": {
      "text/html": [
       "<div>\n",
       "<style scoped>\n",
       "    .dataframe tbody tr th:only-of-type {\n",
       "        vertical-align: middle;\n",
       "    }\n",
       "\n",
       "    .dataframe tbody tr th {\n",
       "        vertical-align: top;\n",
       "    }\n",
       "\n",
       "    .dataframe thead th {\n",
       "        text-align: right;\n",
       "    }\n",
       "</style>\n",
       "<table border=\"1\" class=\"dataframe\">\n",
       "  <thead>\n",
       "    <tr style=\"text-align: right;\">\n",
       "      <th></th>\n",
       "      <th>lsoa_code_2011</th>\n",
       "      <th>lsoa_name_211</th>\n",
       "      <th>local_authority_district_code</th>\n",
       "      <th>local_authority_district</th>\n",
       "      <th>imd_rank</th>\n",
       "      <th>imd_decile</th>\n",
       "    </tr>\n",
       "  </thead>\n",
       "  <tbody>\n",
       "    <tr>\n",
       "      <th>0</th>\n",
       "      <td>E01000001</td>\n",
       "      <td>City of London 001A</td>\n",
       "      <td>E09000001</td>\n",
       "      <td>City of London</td>\n",
       "      <td>29199</td>\n",
       "      <td>9</td>\n",
       "    </tr>\n",
       "    <tr>\n",
       "      <th>1</th>\n",
       "      <td>E01000002</td>\n",
       "      <td>City of London 001B</td>\n",
       "      <td>E09000001</td>\n",
       "      <td>City of London</td>\n",
       "      <td>30379</td>\n",
       "      <td>10</td>\n",
       "    </tr>\n",
       "    <tr>\n",
       "      <th>2</th>\n",
       "      <td>E01000003</td>\n",
       "      <td>City of London 001C</td>\n",
       "      <td>E09000001</td>\n",
       "      <td>City of London</td>\n",
       "      <td>14915</td>\n",
       "      <td>5</td>\n",
       "    </tr>\n",
       "    <tr>\n",
       "      <th>3</th>\n",
       "      <td>E01000005</td>\n",
       "      <td>City of London 001E</td>\n",
       "      <td>E09000001</td>\n",
       "      <td>City of London</td>\n",
       "      <td>8678</td>\n",
       "      <td>3</td>\n",
       "    </tr>\n",
       "    <tr>\n",
       "      <th>4</th>\n",
       "      <td>E01000006</td>\n",
       "      <td>Barking and Dagenham 016A</td>\n",
       "      <td>E09000002</td>\n",
       "      <td>Barking and Dagenham</td>\n",
       "      <td>14486</td>\n",
       "      <td>5</td>\n",
       "    </tr>\n",
       "  </tbody>\n",
       "</table>\n",
       "</div>"
      ],
      "text/plain": [
       "  lsoa_code_2011              lsoa_name_211 local_authority_district_code  \\\n",
       "0      E01000001        City of London 001A                     E09000001   \n",
       "1      E01000002        City of London 001B                     E09000001   \n",
       "2      E01000003        City of London 001C                     E09000001   \n",
       "3      E01000005        City of London 001E                     E09000001   \n",
       "4      E01000006  Barking and Dagenham 016A                     E09000002   \n",
       "\n",
       "  local_authority_district  imd_rank  imd_decile  \n",
       "0           City of London     29199           9  \n",
       "1           City of London     30379          10  \n",
       "2           City of London     14915           5  \n",
       "3           City of London      8678           3  \n",
       "4     Barking and Dagenham     14486           5  "
      ]
     },
     "execution_count": 44,
     "metadata": {},
     "output_type": "execute_result"
    }
   ],
   "source": [
    "df.head()"
   ]
  },
  {
   "cell_type": "code",
   "execution_count": 49,
   "metadata": {},
   "outputs": [
    {
     "data": {
      "text/plain": [
       "lsoa_code_2011                   object\n",
       "lsoa_name_211                    object\n",
       "local_authority_district_code    object\n",
       "local_authority_district         object\n",
       "imd_rank                          int64\n",
       "imd_decile                        int64\n",
       "dtype: object"
      ]
     },
     "execution_count": 49,
     "metadata": {},
     "output_type": "execute_result"
    }
   ],
   "source": [
    "df.dtypes"
   ]
  },
  {
   "cell_type": "markdown",
   "metadata": {},
   "source": [
    "#### Now, get the Scottish data"
   ]
  },
  {
   "cell_type": "code",
   "execution_count": null,
   "metadata": {},
   "outputs": [],
   "source": []
  },
  {
   "cell_type": "markdown",
   "metadata": {},
   "source": [
    "## Download LSOA to Postcode lookup (additional location labels)\n",
    "Use data_checker to check whether postcodes.csv is already in the data file. If not, then script will download and extract a lookup csv spreadsheet from the UK government geoportal containing postcodes to LSOA to MSOA info. This will allow us to join data gathered on households to particular areas, and facilitate further analysis and mapping."
   ]
  },
  {
   "cell_type": "code",
   "execution_count": 46,
   "metadata": {},
   "outputs": [
    {
     "name": "stdout",
     "output_type": "stream",
     "text": [
      "Data has already been downloaded\n",
      "Postcodes.csv already exists in the data file, no need to download it!\n"
     ]
    }
   ],
   "source": [
    "if not data_checker('postcodes.csv'):\n",
    "    print('Downloading LSOA to postcode lookup...')\n",
    "    #This is data for the whole of the UK:\n",
    "    lookup_url = 'https://www.arcgis.com/sharing/rest/content/items/940cf89bf08e4459bdf0470bbd345424/data' \n",
    "    r = requests.get(lookup_url, allow_redirects=True)\n",
    "    \n",
    "    #first, create the path destination for the downloaded zip file\n",
    "    zip_dir = os.path.join('Data', 'postcodes.zip') \n",
    "    \n",
    "    #now create the zip file and write the content of our requests object (i.e. the zip file)\n",
    "    with open(zip_dir, 'wb') as zip_f: \n",
    "        zip_f.write(r.content)\n",
    "    print('File downloaded, now extracting data...')\n",
    "    \n",
    "    #extract the csv file from the zip archive\n",
    "    with zipfile.ZipFile(zip_dir, 'r') as zip_f: \n",
    "        zip_f.extract('PCD_OA_LSOA_MSOA_LAD_NOV19_UK_LU.csv', path = 'Data')\n",
    "        \n",
    "    #get rid of unneeded zip file\n",
    "    os.remove(zip_dir) \n",
    "    \n",
    "    #rename unnecessarily long csv name to 'postcodes'csv:\n",
    "    os.rename(os.path.join('Data', 'PCD_OA_LSOA_MSOA_LAD_NOV19_UK_LU.csv'), os.path.join('Data', 'postcodes.csv')) \n",
    "    print('Done, file is saved as data/postcodes.csv')\n",
    "else:\n",
    "    print('Postcodes.csv already exists in the data file, no need to download it!')"
   ]
  },
  {
   "cell_type": "markdown",
   "metadata": {},
   "source": [
    "## Now join English IMD data to additional location labels"
   ]
  },
  {
   "cell_type": "markdown",
   "metadata": {},
   "source": [
    "## Importing Geographical data and displaying in folium"
   ]
  },
  {
   "cell_type": "code",
   "execution_count": 47,
   "metadata": {},
   "outputs": [],
   "source": [
    "m = folium.Map(location = [55.09, -1.5], zoom_start = 5) #pretty much centres it on the UK\n",
    "#m #uncomment to view starting map\n"
   ]
  },
  {
   "cell_type": "code",
   "execution_count": 48,
   "metadata": {},
   "outputs": [
    {
     "data": {
      "text/plain": [
       "<folium.features.TopoJson at 0x203e5faf970>"
      ]
     },
     "execution_count": 48,
     "metadata": {},
     "output_type": "execute_result"
    }
   ],
   "source": [
    "url = 'https://opendata.arcgis.com/datasets/c892586698ad4d268f9288f1df20ab77_0.geojson'\n",
    "\n",
    "folium.TopoJson(json.loads(requests.get(url).text), 'objects.ana')"
   ]
  }
 ],
 "metadata": {
  "kernelspec": {
   "display_name": "Python 3",
   "language": "python",
   "name": "python3"
  },
  "language_info": {
   "codemirror_mode": {
    "name": "ipython",
    "version": 3
   },
   "file_extension": ".py",
   "mimetype": "text/x-python",
   "name": "python",
   "nbconvert_exporter": "python",
   "pygments_lexer": "ipython3",
   "version": "3.8.5"
  }
 },
 "nbformat": 4,
 "nbformat_minor": 4
}
