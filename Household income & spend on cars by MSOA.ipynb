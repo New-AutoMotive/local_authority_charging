{
 "cells": [
  {
   "cell_type": "markdown",
   "metadata": {},
   "source": [
    "# Importing packages"
   ]
  },
  {
   "cell_type": "code",
   "execution_count": 4,
   "metadata": {},
   "outputs": [],
   "source": [
    "import pandas as pd\n",
    "import numpy as np\n",
    "import os\n",
    "import requests\n",
    "import json"
   ]
  },
  {
   "cell_type": "markdown",
   "metadata": {},
   "source": [
    "# "
   ]
  },
  {
   "cell_type": "markdown",
   "metadata": {},
   "source": [
    "# Importing Deprivation Data\n",
    "These data are published separately for England, Scotland, Wales and Northern Ireland.\n",
    "\n",
    "First we will import the data for England, which is available from the MHCLG website."
   ]
  },
  {
   "cell_type": "code",
   "execution_count": 3,
   "metadata": {},
   "outputs": [
    {
     "data": {
      "text/plain": [
       "'c:\\\\Users\\\\Ben\\\\Documents\\\\GitHub\\\\local_authority_charging\\\\local_authority_charging'"
      ]
     },
     "execution_count": 3,
     "metadata": {},
     "output_type": "execute_result"
    }
   ],
   "source": [
    "os.getcwd()"
   ]
  },
  {
   "cell_type": "code",
   "execution_count": 12,
   "metadata": {},
   "outputs": [
    {
     "name": "stdout",
     "output_type": "stream",
     "text": [
      "False\n"
     ]
    }
   ],
   "source": [
    "# if os.path.basename(os.getcwd()) == 'local_authority_charging':\n",
    "#     dirname = 'Data'\n",
    "#     if not os.path.isdir(dirname):\n",
    "#         try:\n",
    "#             os.mkdir(dirname)\n",
    "#         except OSError:\n",
    "#             print(\"Creation of the Directory %s failed\" % dirname)\n",
    "#         else:\n",
    "#             print(\"Successfully created the directory %s \" % dirname)\n",
    "#     else:\n",
    "#         print(\"Directory %s already exists\" % dirname)\n",
    "\n"
   ]
  },
  {
   "cell_type": "code",
   "execution_count": null,
   "metadata": {},
   "outputs": [],
   "source": [
    "#this function checks two things: 1. it checks whether there is a folder called 'data' (and if it's not there, it creates it) and if data is there, then it looks for a specified filename among the data\n",
    "\n",
    "def data_checker(file_name):\n",
    "    print(\"Data checker will look for the data folder. If none is found then it will create it. If you have a data folder, it will look for the file specified.\")\n",
    "    if os.path.basename(os.gwtcwd()) == 'local_authority_charging':\n",
    "        dirname = 'Data'\n",
    "        if not os.path.isdir(dirname):\n",
    "            try:\n",
    "                os.mkdir(dirname)\n",
    "        except: OSError:\n",
    "            print(\"Creation of the Directory %s failed\" % dirname)\n",
    "        else:\n",
    "            print(\"Successfully created the directory %s \" % dirname)\n",
    "    else:\n",
    "        print(\"Directory %s already exists\" % dirname)\n",
    "    data = os.path.join(os.getcwd(), dirname)\n",
    "    list_files = os.listdir(data)\n",
    "    if file_name not in list_files:\n",
    "        return False\n",
    "    else:\n",
    "        return True\n",
    "    \n",
    "    "
   ]
  }
 ],
 "metadata": {
  "kernelspec": {
   "display_name": "Python 3",
   "language": "python",
   "name": "python3"
  },
  "language_info": {
   "codemirror_mode": {
    "name": "ipython",
    "version": 3
   },
   "file_extension": ".py",
   "mimetype": "text/x-python",
   "name": "python",
   "nbconvert_exporter": "python",
   "pygments_lexer": "ipython3",
   "version": "3.8.5"
  }
 },
 "nbformat": 4,
 "nbformat_minor": 4
}
