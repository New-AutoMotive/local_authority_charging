{
 "cells": [
  {
   "cell_type": "markdown",
   "metadata": {},
   "source": [
    "# Importing packages"
   ]
  },
  {
   "cell_type": "code",
   "execution_count": 39,
   "metadata": {},
   "outputs": [
    {
     "name": "stdout",
     "output_type": "stream",
     "text": [
      "Data checker will look for the data folder. If none is found then it will create it.\n",
      "Successfully created the directory Data \n"
     ]
    }
   ],
   "source": [
    "import pandas as pd\n",
    "import numpy as np\n",
    "import openpyxl\n",
    "import os\n",
    "import requests\n",
    "from helpers import data_folder #function to check for data folder and create it if not there\n",
    "from helpers import data_checker #function to check for a specific file inside the data folder\n",
    "import json\n",
    "import folium\n",
    "import zipfile\n",
    "\n",
    "data_folder()"
   ]
  },
  {
   "cell_type": "markdown",
   "metadata": {},
   "source": [
    "# Importing Index of Deprivation Data\n",
    "These data are published separately for England, Scotland, Wales and Northern Ireland.\n",
    "\n",
    "The aim is to get IMD rank, but also the decile. IMD rank is nation specific, so cannot be used to compare places in Scotland. But within a council area, it will be a valid indicator. Decile may be the more useful thing, though. At this stage unsure, so keep both."
   ]
  },
  {
   "cell_type": "markdown",
   "metadata": {},
   "source": [
    "## First, download the English data"
   ]
  },
  {
   "cell_type": "code",
   "execution_count": 40,
   "metadata": {},
   "outputs": [
    {
     "name": "stdout",
     "output_type": "stream",
     "text": [
      "Data has already been downloaded\n"
     ]
    }
   ],
   "source": [
    "if not data_checker('england_imd_2019.xlsx'):\n",
    "    #this url links to the MHCLG website that hosts the table on English IMD by LSOA. The data come in an xlsx file.\n",
    "    url = 'https://assets.publishing.service.gov.uk/government/uploads/system/uploads/attachment_data/file/833970/File_1_-_IMD2019_Index_of_Multiple_Deprivation.xlsx'\n",
    "    r = requests.get(url, allow_redirects = True)\n",
    "    with open (os.path.join('Data', 'england_imd_2019.xlsx'), 'wb') as f:\n",
    "        f.write(r.content)"
   ]
  },
  {
   "cell_type": "code",
   "execution_count": 41,
   "metadata": {},
   "outputs": [
    {
     "data": {
      "text/plain": [
       "(32844, 6)"
      ]
     },
     "execution_count": 41,
     "metadata": {},
     "output_type": "execute_result"
    }
   ],
   "source": [
    "#import data into pandas dataframe\n",
    "df = pd.read_excel(os.path.join('Data', 'england_imd_2019.xlsx'), sheet_name = 'IMD2019')\n",
    "df.shape"
   ]
  },
  {
   "cell_type": "code",
   "execution_count": 87,
   "metadata": {},
   "outputs": [
    {
     "data": {
      "text/html": [
       "<div>\n",
       "<style scoped>\n",
       "    .dataframe tbody tr th:only-of-type {\n",
       "        vertical-align: middle;\n",
       "    }\n",
       "\n",
       "    .dataframe tbody tr th {\n",
       "        vertical-align: top;\n",
       "    }\n",
       "\n",
       "    .dataframe thead th {\n",
       "        text-align: right;\n",
       "    }\n",
       "</style>\n",
       "<table border=\"1\" class=\"dataframe\">\n",
       "  <thead>\n",
       "    <tr style=\"text-align: right;\">\n",
       "      <th></th>\n",
       "      <th>lsoa_code</th>\n",
       "      <th>int_zone</th>\n",
       "      <th>Council_area</th>\n",
       "      <th>total_pop</th>\n",
       "      <th>adult_pop</th>\n",
       "      <th>imd_rank</th>\n",
       "      <th>imd_decile</th>\n",
       "    </tr>\n",
       "  </thead>\n",
       "  <tbody>\n",
       "    <tr>\n",
       "      <th>0</th>\n",
       "      <td>S01006506</td>\n",
       "      <td>Culter</td>\n",
       "      <td>Aberdeen City</td>\n",
       "      <td>894</td>\n",
       "      <td>580</td>\n",
       "      <td>4691</td>\n",
       "      <td>4</td>\n",
       "    </tr>\n",
       "    <tr>\n",
       "      <th>1</th>\n",
       "      <td>S01006507</td>\n",
       "      <td>Culter</td>\n",
       "      <td>Aberdeen City</td>\n",
       "      <td>793</td>\n",
       "      <td>470</td>\n",
       "      <td>4862</td>\n",
       "      <td>4</td>\n",
       "    </tr>\n",
       "    <tr>\n",
       "      <th>2</th>\n",
       "      <td>S01006508</td>\n",
       "      <td>Culter</td>\n",
       "      <td>Aberdeen City</td>\n",
       "      <td>624</td>\n",
       "      <td>461</td>\n",
       "      <td>5686</td>\n",
       "      <td>2</td>\n",
       "    </tr>\n",
       "    <tr>\n",
       "      <th>3</th>\n",
       "      <td>S01006509</td>\n",
       "      <td>Culter</td>\n",
       "      <td>Aberdeen City</td>\n",
       "      <td>537</td>\n",
       "      <td>307</td>\n",
       "      <td>4332</td>\n",
       "      <td>4</td>\n",
       "    </tr>\n",
       "    <tr>\n",
       "      <th>4</th>\n",
       "      <td>S01006510</td>\n",
       "      <td>Culter</td>\n",
       "      <td>Aberdeen City</td>\n",
       "      <td>663</td>\n",
       "      <td>415</td>\n",
       "      <td>3913</td>\n",
       "      <td>5</td>\n",
       "    </tr>\n",
       "  </tbody>\n",
       "</table>\n",
       "</div>"
      ],
      "text/plain": [
       "   lsoa_code int_zone   Council_area  total_pop  adult_pop  imd_rank  \\\n",
       "0  S01006506   Culter  Aberdeen City        894        580      4691   \n",
       "1  S01006507   Culter  Aberdeen City        793        470      4862   \n",
       "2  S01006508   Culter  Aberdeen City        624        461      5686   \n",
       "3  S01006509   Culter  Aberdeen City        537        307      4332   \n",
       "4  S01006510   Culter  Aberdeen City        663        415      3913   \n",
       "\n",
       "  imd_decile  \n",
       "0          4  \n",
       "1          4  \n",
       "2          2  \n",
       "3          4  \n",
       "4          5  "
      ]
     },
     "execution_count": 87,
     "metadata": {},
     "output_type": "execute_result"
    }
   ],
   "source": [
    "df.head()"
   ]
  },
  {
   "cell_type": "markdown",
   "metadata": {},
   "source": [
    "### Do a little clean up\n",
    "Tidy column titles, etc..."
   ]
  },
  {
   "cell_type": "code",
   "execution_count": 88,
   "metadata": {},
   "outputs": [],
   "source": [
    "#first, change column titles to something a bit better...\n",
    "df = df.rename(columns = {'LSOA code (2011)': 'lsoa_code', 'LSOA name (2011)': 'lsoa_name_211', 'Local Authority District code (2019)': 'local_authority_district_code', 'Local Authority District name (2019)': 'local_authority', 'Index of Multiple Deprivation (IMD) Rank': 'imd_rank', 'Index of Multiple Deprivation (IMD) Decile': 'imd_decile'})\n",
    "#df.head()"
   ]
  },
  {
   "cell_type": "markdown",
   "metadata": {},
   "source": [
    "#### Finding english population data\n",
    "The Scottish IMD data has population, so let's download and add this to the english data"
   ]
  },
  {
   "cell_type": "code",
   "execution_count": 100,
   "metadata": {},
   "outputs": [
    {
     "name": "stdout",
     "output_type": "stream",
     "text": [
      "Data has already been downloaded\n",
      "eng_pop.xlsx already exists in the data file, no need to download it!\n"
     ]
    }
   ],
   "source": [
    "if not data_checker('eng_pop.xlsx'):\n",
    "    print('Downloading English population data')\n",
    "    #This is data for the whole of the UK:\n",
    "    lookup_url = 'https://www.ons.gov.uk/file?uri=%2fpeoplepopulationandcommunity%2fpopulationandmigration%2fpopulationestimates%2fdatasets%2flowersuperoutputareamidyearpopulationestimates%2fmid2019sape22dt2/sape22dt2mid2019lsoasyoaestimatesunformatted.zip' \n",
    "    r = requests.get(lookup_url, allow_redirects=True)\n",
    "    \n",
    "    #first, create the path destination for the downloaded zip file\n",
    "    zip_dir = os.path.join('Data', 'eng_pop.zip')\n",
    "    \n",
    "    #now create the zip file and write the content of our requests object (i.e. the zip file)\n",
    "    with open(zip_dir, 'wb') as zip_f: \n",
    "        zip_f.write(r.content)\n",
    "    print('File downloaded, now extracting data...')\n",
    "    \n",
    "    #extract the csv file from the zip archive\n",
    "    with zipfile.ZipFile(zip_dir, 'r') as zip_f: \n",
    "        zip_f.extract('SAPE22DT2-mid-2019-lsoa-syoa-estimates-unformatted.xlsx', path = 'Data')\n",
    "        \n",
    "    #get rid of unneeded zip file\n",
    "    os.remove(zip_dir) \n",
    "    \n",
    "    #rename unnecessarily long csv name to 'postcodes'csv:\n",
    "    os.rename(os.path.join('Data', 'SAPE22DT2-mid-2019-lsoa-syoa-estimates-unformatted.xlsx'), os.path.join('Data', 'eng_pop.xlsx')) \n",
    "    print('Done, file is saved as data/eng_pop.xlsx')\n",
    "else:\n",
    "    print('eng_pop.xlsx already exists in the data file, no need to download it!')"
   ]
  },
  {
   "cell_type": "code",
   "execution_count": 108,
   "metadata": {},
   "outputs": [
    {
     "name": "stderr",
     "output_type": "stream",
     "text": [
      "C:\\Users\\Ben\\.conda\\envs\\local_auth_env\\lib\\site-packages\\openpyxl\\worksheet\\header_footer.py:48: UserWarning: Cannot parse header or footer so it will be ignored\n",
      "  warn(\"\"\"Cannot parse header or footer so it will be ignored\"\"\")\n"
     ]
    }
   ],
   "source": [
    "df_pop = pd.read_excel(os.path.join('Data', 'eng_pop.xlsx'), sheet_name = 'Mid-2019 Persons')"
   ]
  },
  {
   "cell_type": "code",
   "execution_count": 109,
   "metadata": {},
   "outputs": [],
   "source": [
    "df_pop_backup #is the backup file from the above, to prevent repeated slow importing"
   ]
  },
  {
   "cell_type": "code",
   "execution_count": 123,
   "metadata": {},
   "outputs": [
    {
     "data": {
      "text/html": [
       "<div>\n",
       "<style scoped>\n",
       "    .dataframe tbody tr th:only-of-type {\n",
       "        vertical-align: middle;\n",
       "    }\n",
       "\n",
       "    .dataframe tbody tr th {\n",
       "        vertical-align: top;\n",
       "    }\n",
       "\n",
       "    .dataframe thead th {\n",
       "        text-align: right;\n",
       "    }\n",
       "</style>\n",
       "<table border=\"1\" class=\"dataframe\">\n",
       "  <thead>\n",
       "    <tr style=\"text-align: right;\">\n",
       "      <th></th>\n",
       "      <th>Contents</th>\n",
       "      <th>Unnamed: 1</th>\n",
       "      <th>Unnamed: 2</th>\n",
       "      <th>Unnamed: 3</th>\n",
       "      <th>Unnamed: 4</th>\n",
       "      <th>Unnamed: 5</th>\n",
       "      <th>Unnamed: 6</th>\n",
       "      <th>Unnamed: 7</th>\n",
       "      <th>Unnamed: 8</th>\n",
       "      <th>Unnamed: 9</th>\n",
       "      <th>...</th>\n",
       "      <th>Unnamed: 88</th>\n",
       "      <th>Unnamed: 89</th>\n",
       "      <th>Unnamed: 90</th>\n",
       "      <th>Unnamed: 91</th>\n",
       "      <th>Unnamed: 92</th>\n",
       "      <th>Unnamed: 93</th>\n",
       "      <th>Unnamed: 94</th>\n",
       "      <th>Unnamed: 95</th>\n",
       "      <th>Unnamed: 96</th>\n",
       "      <th>Unnamed: 97</th>\n",
       "    </tr>\n",
       "  </thead>\n",
       "  <tbody>\n",
       "    <tr>\n",
       "      <th>3</th>\n",
       "      <td>LSOA Code</td>\n",
       "      <td>LSOA Name</td>\n",
       "      <td>LA Code (2019 boundaries)</td>\n",
       "      <td>LA name (2019 boundaries)</td>\n",
       "      <td>LA Code (2020 boundaries)</td>\n",
       "      <td>LA name (2020 boundaries)</td>\n",
       "      <td>All Ages</td>\n",
       "      <td>0.0</td>\n",
       "      <td>1.0</td>\n",
       "      <td>2.0</td>\n",
       "      <td>...</td>\n",
       "      <td>81.0</td>\n",
       "      <td>82.0</td>\n",
       "      <td>83.0</td>\n",
       "      <td>84.0</td>\n",
       "      <td>85.0</td>\n",
       "      <td>86.0</td>\n",
       "      <td>87.0</td>\n",
       "      <td>88.0</td>\n",
       "      <td>89.0</td>\n",
       "      <td>90+</td>\n",
       "    </tr>\n",
       "    <tr>\n",
       "      <th>4</th>\n",
       "      <td>E01011949</td>\n",
       "      <td>Hartlepool 009A</td>\n",
       "      <td>E06000001</td>\n",
       "      <td>Hartlepool</td>\n",
       "      <td>E06000001</td>\n",
       "      <td>Hartlepool</td>\n",
       "      <td>1954</td>\n",
       "      <td>27.0</td>\n",
       "      <td>22.0</td>\n",
       "      <td>13.0</td>\n",
       "      <td>...</td>\n",
       "      <td>12.0</td>\n",
       "      <td>15.0</td>\n",
       "      <td>9.0</td>\n",
       "      <td>7.0</td>\n",
       "      <td>10.0</td>\n",
       "      <td>10.0</td>\n",
       "      <td>5.0</td>\n",
       "      <td>3.0</td>\n",
       "      <td>0.0</td>\n",
       "      <td>10</td>\n",
       "    </tr>\n",
       "    <tr>\n",
       "      <th>5</th>\n",
       "      <td>E01011950</td>\n",
       "      <td>Hartlepool 008A</td>\n",
       "      <td>E06000001</td>\n",
       "      <td>Hartlepool</td>\n",
       "      <td>E06000001</td>\n",
       "      <td>Hartlepool</td>\n",
       "      <td>1257</td>\n",
       "      <td>12.0</td>\n",
       "      <td>9.0</td>\n",
       "      <td>7.0</td>\n",
       "      <td>...</td>\n",
       "      <td>4.0</td>\n",
       "      <td>2.0</td>\n",
       "      <td>1.0</td>\n",
       "      <td>3.0</td>\n",
       "      <td>1.0</td>\n",
       "      <td>2.0</td>\n",
       "      <td>3.0</td>\n",
       "      <td>2.0</td>\n",
       "      <td>1.0</td>\n",
       "      <td>4</td>\n",
       "    </tr>\n",
       "    <tr>\n",
       "      <th>6</th>\n",
       "      <td>E01011951</td>\n",
       "      <td>Hartlepool 007A</td>\n",
       "      <td>E06000001</td>\n",
       "      <td>Hartlepool</td>\n",
       "      <td>E06000001</td>\n",
       "      <td>Hartlepool</td>\n",
       "      <td>1209</td>\n",
       "      <td>18.0</td>\n",
       "      <td>9.0</td>\n",
       "      <td>5.0</td>\n",
       "      <td>...</td>\n",
       "      <td>6.0</td>\n",
       "      <td>2.0</td>\n",
       "      <td>6.0</td>\n",
       "      <td>3.0</td>\n",
       "      <td>4.0</td>\n",
       "      <td>3.0</td>\n",
       "      <td>2.0</td>\n",
       "      <td>4.0</td>\n",
       "      <td>1.0</td>\n",
       "      <td>3</td>\n",
       "    </tr>\n",
       "    <tr>\n",
       "      <th>7</th>\n",
       "      <td>E01011952</td>\n",
       "      <td>Hartlepool 002A</td>\n",
       "      <td>E06000001</td>\n",
       "      <td>Hartlepool</td>\n",
       "      <td>E06000001</td>\n",
       "      <td>Hartlepool</td>\n",
       "      <td>1740</td>\n",
       "      <td>25.0</td>\n",
       "      <td>30.0</td>\n",
       "      <td>12.0</td>\n",
       "      <td>...</td>\n",
       "      <td>16.0</td>\n",
       "      <td>12.0</td>\n",
       "      <td>7.0</td>\n",
       "      <td>15.0</td>\n",
       "      <td>16.0</td>\n",
       "      <td>14.0</td>\n",
       "      <td>11.0</td>\n",
       "      <td>15.0</td>\n",
       "      <td>14.0</td>\n",
       "      <td>67</td>\n",
       "    </tr>\n",
       "  </tbody>\n",
       "</table>\n",
       "<p>5 rows × 98 columns</p>\n",
       "</div>"
      ],
      "text/plain": [
       "    Contents       Unnamed: 1                 Unnamed: 2  \\\n",
       "3  LSOA Code        LSOA Name  LA Code (2019 boundaries)   \n",
       "4  E01011949  Hartlepool 009A                  E06000001   \n",
       "5  E01011950  Hartlepool 008A                  E06000001   \n",
       "6  E01011951  Hartlepool 007A                  E06000001   \n",
       "7  E01011952  Hartlepool 002A                  E06000001   \n",
       "\n",
       "                  Unnamed: 3                 Unnamed: 4  \\\n",
       "3  LA name (2019 boundaries)  LA Code (2020 boundaries)   \n",
       "4                 Hartlepool                  E06000001   \n",
       "5                 Hartlepool                  E06000001   \n",
       "6                 Hartlepool                  E06000001   \n",
       "7                 Hartlepool                  E06000001   \n",
       "\n",
       "                  Unnamed: 5 Unnamed: 6  Unnamed: 7  Unnamed: 8  Unnamed: 9  \\\n",
       "3  LA name (2020 boundaries)   All Ages         0.0         1.0         2.0   \n",
       "4                 Hartlepool       1954        27.0        22.0        13.0   \n",
       "5                 Hartlepool       1257        12.0         9.0         7.0   \n",
       "6                 Hartlepool       1209        18.0         9.0         5.0   \n",
       "7                 Hartlepool       1740        25.0        30.0        12.0   \n",
       "\n",
       "   ...  Unnamed: 88  Unnamed: 89  Unnamed: 90  Unnamed: 91  Unnamed: 92  \\\n",
       "3  ...         81.0         82.0         83.0         84.0         85.0   \n",
       "4  ...         12.0         15.0          9.0          7.0         10.0   \n",
       "5  ...          4.0          2.0          1.0          3.0          1.0   \n",
       "6  ...          6.0          2.0          6.0          3.0          4.0   \n",
       "7  ...         16.0         12.0          7.0         15.0         16.0   \n",
       "\n",
       "   Unnamed: 93  Unnamed: 94  Unnamed: 95  Unnamed: 96  Unnamed: 97  \n",
       "3         86.0         87.0         88.0         89.0          90+  \n",
       "4         10.0          5.0          3.0          0.0           10  \n",
       "5          2.0          3.0          2.0          1.0            4  \n",
       "6          3.0          2.0          4.0          1.0            3  \n",
       "7         14.0         11.0         15.0         14.0           67  \n",
       "\n",
       "[5 rows x 98 columns]"
      ]
     },
     "execution_count": 123,
     "metadata": {},
     "output_type": "execute_result"
    }
   ],
   "source": [
    "df_pop = df_pop_backup\n",
    "df_pop = df_pop.drop([0, 1, 2])\n",
    "df_pop.head()"
   ]
  },
  {
   "cell_type": "code",
   "execution_count": 127,
   "metadata": {},
   "outputs": [
    {
     "ename": "AttributeError",
     "evalue": "'function' object has no attribute 'iloc'",
     "output_type": "error",
     "traceback": [
      "\u001b[1;31m---------------------------------------------------------------------------\u001b[0m",
      "\u001b[1;31mAttributeError\u001b[0m                            Traceback (most recent call last)",
      "\u001b[1;32m<ipython-input-127-f4a72129ba4b>\u001b[0m in \u001b[0;36m<module>\u001b[1;34m\u001b[0m\n\u001b[0;32m      1\u001b[0m \u001b[1;31m#reset header\u001b[0m\u001b[1;33m\u001b[0m\u001b[1;33m\u001b[0m\u001b[1;33m\u001b[0m\u001b[0m\n\u001b[1;32m----> 2\u001b[1;33m \u001b[0mnew_header\u001b[0m \u001b[1;33m=\u001b[0m \u001b[0mdf_pop\u001b[0m\u001b[1;33m.\u001b[0m\u001b[0miloc\u001b[0m\u001b[1;33m[\u001b[0m\u001b[1;36m0\u001b[0m\u001b[1;33m]\u001b[0m\u001b[1;33m\u001b[0m\u001b[1;33m\u001b[0m\u001b[0m\n\u001b[0m\u001b[0;32m      3\u001b[0m \u001b[0mdf_pop\u001b[0m \u001b[1;33m=\u001b[0m \u001b[0mdf_pop\u001b[0m\u001b[1;33m[\u001b[0m\u001b[1;36m1\u001b[0m\u001b[1;33m:\u001b[0m\u001b[1;33m]\u001b[0m\u001b[1;33m.\u001b[0m\u001b[0mreset_index\u001b[0m\u001b[1;33m(\u001b[0m\u001b[1;33m)\u001b[0m\u001b[1;33m\u001b[0m\u001b[1;33m\u001b[0m\u001b[0m\n\u001b[0;32m      4\u001b[0m \u001b[0mdf_pop\u001b[0m\u001b[1;33m.\u001b[0m\u001b[0mcolumns\u001b[0m \u001b[1;33m=\u001b[0m \u001b[0mnew_header\u001b[0m\u001b[1;33m\u001b[0m\u001b[1;33m\u001b[0m\u001b[0m\n",
      "\u001b[1;31mAttributeError\u001b[0m: 'function' object has no attribute 'iloc'"
     ]
    }
   ],
   "source": [
    "#reset header\n",
    "new_header = df_pop.iloc[0]\n",
    "df_pop = df_pop[1:].reset_index()\n",
    "df_pop.columns = new_header"
   ]
  },
  {
   "cell_type": "code",
   "execution_count": 128,
   "metadata": {},
   "outputs": [
    {
     "ename": "AttributeError",
     "evalue": "'function' object has no attribute 'head'",
     "output_type": "error",
     "traceback": [
      "\u001b[1;31m---------------------------------------------------------------------------\u001b[0m",
      "\u001b[1;31mAttributeError\u001b[0m                            Traceback (most recent call last)",
      "\u001b[1;32m<ipython-input-128-7345cce37c9d>\u001b[0m in \u001b[0;36m<module>\u001b[1;34m\u001b[0m\n\u001b[1;32m----> 1\u001b[1;33m \u001b[0mdf_pop\u001b[0m\u001b[1;33m.\u001b[0m\u001b[0mhead\u001b[0m\u001b[1;33m(\u001b[0m\u001b[1;33m)\u001b[0m\u001b[1;33m\u001b[0m\u001b[1;33m\u001b[0m\u001b[0m\n\u001b[0m",
      "\u001b[1;31mAttributeError\u001b[0m: 'function' object has no attribute 'head'"
     ]
    }
   ],
   "source": [
    "df_pop.head()"
   ]
  },
  {
   "cell_type": "code",
   "execution_count": 62,
   "metadata": {},
   "outputs": [
    {
     "data": {
      "text/html": [
       "<div>\n",
       "<style scoped>\n",
       "    .dataframe tbody tr th:only-of-type {\n",
       "        vertical-align: middle;\n",
       "    }\n",
       "\n",
       "    .dataframe tbody tr th {\n",
       "        vertical-align: top;\n",
       "    }\n",
       "\n",
       "    .dataframe thead th {\n",
       "        text-align: right;\n",
       "    }\n",
       "</style>\n",
       "<table border=\"1\" class=\"dataframe\">\n",
       "  <thead>\n",
       "    <tr style=\"text-align: right;\">\n",
       "      <th></th>\n",
       "      <th>Data_Zone</th>\n",
       "      <th>Intermediate_Zone</th>\n",
       "      <th>Council_area</th>\n",
       "      <th>Total_population</th>\n",
       "      <th>Working_age_population</th>\n",
       "      <th>SIMD2020v2_Rank</th>\n",
       "    </tr>\n",
       "  </thead>\n",
       "  <tbody>\n",
       "    <tr>\n",
       "      <th>0</th>\n",
       "      <td>S01006506</td>\n",
       "      <td>Culter</td>\n",
       "      <td>Aberdeen City</td>\n",
       "      <td>894</td>\n",
       "      <td>580</td>\n",
       "      <td>4691</td>\n",
       "    </tr>\n",
       "    <tr>\n",
       "      <th>1</th>\n",
       "      <td>S01006507</td>\n",
       "      <td>Culter</td>\n",
       "      <td>Aberdeen City</td>\n",
       "      <td>793</td>\n",
       "      <td>470</td>\n",
       "      <td>4862</td>\n",
       "    </tr>\n",
       "    <tr>\n",
       "      <th>2</th>\n",
       "      <td>S01006508</td>\n",
       "      <td>Culter</td>\n",
       "      <td>Aberdeen City</td>\n",
       "      <td>624</td>\n",
       "      <td>461</td>\n",
       "      <td>5686</td>\n",
       "    </tr>\n",
       "    <tr>\n",
       "      <th>3</th>\n",
       "      <td>S01006509</td>\n",
       "      <td>Culter</td>\n",
       "      <td>Aberdeen City</td>\n",
       "      <td>537</td>\n",
       "      <td>307</td>\n",
       "      <td>4332</td>\n",
       "    </tr>\n",
       "    <tr>\n",
       "      <th>4</th>\n",
       "      <td>S01006510</td>\n",
       "      <td>Culter</td>\n",
       "      <td>Aberdeen City</td>\n",
       "      <td>663</td>\n",
       "      <td>415</td>\n",
       "      <td>3913</td>\n",
       "    </tr>\n",
       "  </tbody>\n",
       "</table>\n",
       "</div>"
      ],
      "text/plain": [
       "   Data_Zone Intermediate_Zone   Council_area  Total_population  \\\n",
       "0  S01006506            Culter  Aberdeen City               894   \n",
       "1  S01006507            Culter  Aberdeen City               793   \n",
       "2  S01006508            Culter  Aberdeen City               624   \n",
       "3  S01006509            Culter  Aberdeen City               537   \n",
       "4  S01006510            Culter  Aberdeen City               663   \n",
       "\n",
       "   Working_age_population  SIMD2020v2_Rank  \n",
       "0                     580             4691  \n",
       "1                     470             4862  \n",
       "2                     461             5686  \n",
       "3                     307             4332  \n",
       "4                     415             3913  "
      ]
     },
     "execution_count": 62,
     "metadata": {},
     "output_type": "execute_result"
    }
   ],
   "source": [
    "#now save to a nation-specific variable\n",
    "eng_df = df\n",
    "eng_df.head()"
   ]
  },
  {
   "cell_type": "markdown",
   "metadata": {},
   "source": [
    "## Now, download the Scottish data"
   ]
  },
  {
   "cell_type": "code",
   "execution_count": 80,
   "metadata": {},
   "outputs": [
    {
     "name": "stdout",
     "output_type": "stream",
     "text": [
      "Data has already been downloaded\n"
     ]
    }
   ],
   "source": [
    "if not data_checker('scotland_imd_2020.xlsx'):\n",
    "    print('No Scottish deprivation data found, downloading...')\n",
    "    url = 'https://www.gov.scot/binaries/content/documents/govscot/publications/statistics/2020/01/scottish-index-of-multiple-deprivation-2020-ranks-and-domain-ranks/documents/scottish-index-of-multiple-deprivation-2020-ranks-and-domain-ranks/scottish-index-of-multiple-deprivation-2020-ranks-and-domain-ranks/govscot%3Adocument/SIMD%2B2020v2%2B-%2Branks.xlsx'\n",
    "    r = requests.get(url)\n",
    "    with open (os.path.join('Data', 'scotland_imd_2020.xlsx'), 'wb') as f:\n",
    "        f.write(r.content)"
   ]
  },
  {
   "cell_type": "code",
   "execution_count": 81,
   "metadata": {},
   "outputs": [
    {
     "data": {
      "text/html": [
       "<div>\n",
       "<style scoped>\n",
       "    .dataframe tbody tr th:only-of-type {\n",
       "        vertical-align: middle;\n",
       "    }\n",
       "\n",
       "    .dataframe tbody tr th {\n",
       "        vertical-align: top;\n",
       "    }\n",
       "\n",
       "    .dataframe thead th {\n",
       "        text-align: right;\n",
       "    }\n",
       "</style>\n",
       "<table border=\"1\" class=\"dataframe\">\n",
       "  <thead>\n",
       "    <tr style=\"text-align: right;\">\n",
       "      <th></th>\n",
       "      <th>Data_Zone</th>\n",
       "      <th>Intermediate_Zone</th>\n",
       "      <th>Council_area</th>\n",
       "      <th>Total_population</th>\n",
       "      <th>Working_age_population</th>\n",
       "      <th>SIMD2020v2_Rank</th>\n",
       "      <th>SIMD2020v2_Income_Domain_Rank</th>\n",
       "      <th>SIMD2020_Employment_Domain_Rank</th>\n",
       "      <th>SIMD2020_Health_Domain_Rank</th>\n",
       "      <th>SIMD2020_Education_Domain_Rank</th>\n",
       "      <th>SIMD2020_Access_Domain_Rank</th>\n",
       "      <th>SIMD2020_Crime_Domain_Rank</th>\n",
       "      <th>SIMD2020_Housing_Domain_Rank</th>\n",
       "    </tr>\n",
       "  </thead>\n",
       "  <tbody>\n",
       "    <tr>\n",
       "      <th>0</th>\n",
       "      <td>S01006506</td>\n",
       "      <td>Culter</td>\n",
       "      <td>Aberdeen City</td>\n",
       "      <td>894</td>\n",
       "      <td>580</td>\n",
       "      <td>4691</td>\n",
       "      <td>3936.0</td>\n",
       "      <td>3220.0</td>\n",
       "      <td>5174</td>\n",
       "      <td>5887</td>\n",
       "      <td>4724</td>\n",
       "      <td>4664.0</td>\n",
       "      <td>3248.0</td>\n",
       "    </tr>\n",
       "    <tr>\n",
       "      <th>1</th>\n",
       "      <td>S01006507</td>\n",
       "      <td>Culter</td>\n",
       "      <td>Aberdeen City</td>\n",
       "      <td>793</td>\n",
       "      <td>470</td>\n",
       "      <td>4862</td>\n",
       "      <td>4829.0</td>\n",
       "      <td>4481.0</td>\n",
       "      <td>5051</td>\n",
       "      <td>4384</td>\n",
       "      <td>2148</td>\n",
       "      <td>4602.0</td>\n",
       "      <td>3486.0</td>\n",
       "    </tr>\n",
       "    <tr>\n",
       "      <th>2</th>\n",
       "      <td>S01006508</td>\n",
       "      <td>Culter</td>\n",
       "      <td>Aberdeen City</td>\n",
       "      <td>624</td>\n",
       "      <td>461</td>\n",
       "      <td>5686</td>\n",
       "      <td>4460.0</td>\n",
       "      <td>5110.0</td>\n",
       "      <td>5942</td>\n",
       "      <td>5915</td>\n",
       "      <td>4200</td>\n",
       "      <td>4563.5</td>\n",
       "      <td>5342.0</td>\n",
       "    </tr>\n",
       "    <tr>\n",
       "      <th>3</th>\n",
       "      <td>S01006509</td>\n",
       "      <td>Culter</td>\n",
       "      <td>Aberdeen City</td>\n",
       "      <td>537</td>\n",
       "      <td>307</td>\n",
       "      <td>4332</td>\n",
       "      <td>3481.0</td>\n",
       "      <td>3229.0</td>\n",
       "      <td>3871</td>\n",
       "      <td>6401</td>\n",
       "      <td>3982</td>\n",
       "      <td>5626.0</td>\n",
       "      <td>4394.5</td>\n",
       "    </tr>\n",
       "    <tr>\n",
       "      <th>4</th>\n",
       "      <td>S01006510</td>\n",
       "      <td>Culter</td>\n",
       "      <td>Aberdeen City</td>\n",
       "      <td>663</td>\n",
       "      <td>415</td>\n",
       "      <td>3913</td>\n",
       "      <td>3344.0</td>\n",
       "      <td>3448.0</td>\n",
       "      <td>3049</td>\n",
       "      <td>4092</td>\n",
       "      <td>5588</td>\n",
       "      <td>3885.0</td>\n",
       "      <td>3736.0</td>\n",
       "    </tr>\n",
       "  </tbody>\n",
       "</table>\n",
       "</div>"
      ],
      "text/plain": [
       "   Data_Zone Intermediate_Zone   Council_area  Total_population  \\\n",
       "0  S01006506            Culter  Aberdeen City               894   \n",
       "1  S01006507            Culter  Aberdeen City               793   \n",
       "2  S01006508            Culter  Aberdeen City               624   \n",
       "3  S01006509            Culter  Aberdeen City               537   \n",
       "4  S01006510            Culter  Aberdeen City               663   \n",
       "\n",
       "   Working_age_population  SIMD2020v2_Rank  SIMD2020v2_Income_Domain_Rank  \\\n",
       "0                     580             4691                         3936.0   \n",
       "1                     470             4862                         4829.0   \n",
       "2                     461             5686                         4460.0   \n",
       "3                     307             4332                         3481.0   \n",
       "4                     415             3913                         3344.0   \n",
       "\n",
       "   SIMD2020_Employment_Domain_Rank  SIMD2020_Health_Domain_Rank  \\\n",
       "0                           3220.0                         5174   \n",
       "1                           4481.0                         5051   \n",
       "2                           5110.0                         5942   \n",
       "3                           3229.0                         3871   \n",
       "4                           3448.0                         3049   \n",
       "\n",
       "   SIMD2020_Education_Domain_Rank  SIMD2020_Access_Domain_Rank  \\\n",
       "0                            5887                         4724   \n",
       "1                            4384                         2148   \n",
       "2                            5915                         4200   \n",
       "3                            6401                         3982   \n",
       "4                            4092                         5588   \n",
       "\n",
       "   SIMD2020_Crime_Domain_Rank  SIMD2020_Housing_Domain_Rank  \n",
       "0                      4664.0                        3248.0  \n",
       "1                      4602.0                        3486.0  \n",
       "2                      4563.5                        5342.0  \n",
       "3                      5626.0                        4394.5  \n",
       "4                      3885.0                        3736.0  "
      ]
     },
     "execution_count": 81,
     "metadata": {},
     "output_type": "execute_result"
    }
   ],
   "source": [
    "#import data into a pandas dataframe\n",
    "df = pd.read_excel(os.path.join('Data', 'scotland_imd_2020.xlsx'), sheet_name = 'SIMD 2020v2 ranks')\n",
    "df.head()"
   ]
  },
  {
   "cell_type": "markdown",
   "metadata": {},
   "source": [
    "### Do a little clean up\n",
    "Drop columns other than rank. Notice there's no decile, so will have to create one."
   ]
  },
  {
   "cell_type": "code",
   "execution_count": 82,
   "metadata": {},
   "outputs": [],
   "source": [
    "df = df.drop(columns = ['SIMD2020v2_Income_Domain_Rank', 'SIMD2020_Employment_Domain_Rank', 'SIMD2020_Health_Domain_Rank', 'SIMD2020_Education_Domain_Rank', 'SIMD2020_Access_Domain_Rank', 'SIMD2020_Crime_Domain_Rank', 'SIMD2020_Housing_Domain_Rank'])\n",
    "#rename columns something easier\n",
    "df = df.rename(columns={'Data_Zone': 'lsoa_code', 'Intermediate_Zone': 'int_zone', 'Council_Area': 'local_authority', 'Total_population': 'total_pop', 'Working_age_population': 'adult_pop', 'SIMD2020v2_Rank': 'imd_rank'})"
   ]
  },
  {
   "cell_type": "code",
   "execution_count": 84,
   "metadata": {},
   "outputs": [],
   "source": [
    "#create a decile column\n",
    "df['imd_decile'] = pd.qcut(df['imd_rank'], 10, labels = np.arange(10, 0, -1))"
   ]
  },
  {
   "cell_type": "code",
   "execution_count": 86,
   "metadata": {},
   "outputs": [
    {
     "data": {
      "text/html": [
       "<div>\n",
       "<style scoped>\n",
       "    .dataframe tbody tr th:only-of-type {\n",
       "        vertical-align: middle;\n",
       "    }\n",
       "\n",
       "    .dataframe tbody tr th {\n",
       "        vertical-align: top;\n",
       "    }\n",
       "\n",
       "    .dataframe thead th {\n",
       "        text-align: right;\n",
       "    }\n",
       "</style>\n",
       "<table border=\"1\" class=\"dataframe\">\n",
       "  <thead>\n",
       "    <tr style=\"text-align: right;\">\n",
       "      <th></th>\n",
       "      <th>lsoa_code</th>\n",
       "      <th>int_zone</th>\n",
       "      <th>Council_area</th>\n",
       "      <th>total_pop</th>\n",
       "      <th>adult_pop</th>\n",
       "      <th>imd_rank</th>\n",
       "      <th>imd_decile</th>\n",
       "    </tr>\n",
       "  </thead>\n",
       "  <tbody>\n",
       "    <tr>\n",
       "      <th>0</th>\n",
       "      <td>S01006506</td>\n",
       "      <td>Culter</td>\n",
       "      <td>Aberdeen City</td>\n",
       "      <td>894</td>\n",
       "      <td>580</td>\n",
       "      <td>4691</td>\n",
       "      <td>4</td>\n",
       "    </tr>\n",
       "    <tr>\n",
       "      <th>1</th>\n",
       "      <td>S01006507</td>\n",
       "      <td>Culter</td>\n",
       "      <td>Aberdeen City</td>\n",
       "      <td>793</td>\n",
       "      <td>470</td>\n",
       "      <td>4862</td>\n",
       "      <td>4</td>\n",
       "    </tr>\n",
       "    <tr>\n",
       "      <th>2</th>\n",
       "      <td>S01006508</td>\n",
       "      <td>Culter</td>\n",
       "      <td>Aberdeen City</td>\n",
       "      <td>624</td>\n",
       "      <td>461</td>\n",
       "      <td>5686</td>\n",
       "      <td>2</td>\n",
       "    </tr>\n",
       "    <tr>\n",
       "      <th>3</th>\n",
       "      <td>S01006509</td>\n",
       "      <td>Culter</td>\n",
       "      <td>Aberdeen City</td>\n",
       "      <td>537</td>\n",
       "      <td>307</td>\n",
       "      <td>4332</td>\n",
       "      <td>4</td>\n",
       "    </tr>\n",
       "    <tr>\n",
       "      <th>4</th>\n",
       "      <td>S01006510</td>\n",
       "      <td>Culter</td>\n",
       "      <td>Aberdeen City</td>\n",
       "      <td>663</td>\n",
       "      <td>415</td>\n",
       "      <td>3913</td>\n",
       "      <td>5</td>\n",
       "    </tr>\n",
       "  </tbody>\n",
       "</table>\n",
       "</div>"
      ],
      "text/plain": [
       "   lsoa_code int_zone   Council_area  total_pop  adult_pop  imd_rank  \\\n",
       "0  S01006506   Culter  Aberdeen City        894        580      4691   \n",
       "1  S01006507   Culter  Aberdeen City        793        470      4862   \n",
       "2  S01006508   Culter  Aberdeen City        624        461      5686   \n",
       "3  S01006509   Culter  Aberdeen City        537        307      4332   \n",
       "4  S01006510   Culter  Aberdeen City        663        415      3913   \n",
       "\n",
       "  imd_decile  \n",
       "0          4  \n",
       "1          4  \n",
       "2          2  \n",
       "3          4  \n",
       "4          5  "
      ]
     },
     "execution_count": 86,
     "metadata": {},
     "output_type": "execute_result"
    }
   ],
   "source": [
    "#lastly, give it a more distinctive name:\n",
    "scot_df = df\n",
    "scot_df.head()"
   ]
  },
  {
   "cell_type": "markdown",
   "metadata": {},
   "source": [
    "## Download LSOA to Postcode lookup (additional location labels)\n",
    "Use data_checker to check whether postcodes.csv is already in the data file. If not, then script will download and extract a lookup csv spreadsheet from the UK government geoportal containing postcodes to LSOA to MSOA info. This will allow us to join data gathered on households to particular areas, and facilitate further analysis and mapping."
   ]
  },
  {
   "cell_type": "code",
   "execution_count": 46,
   "metadata": {},
   "outputs": [
    {
     "name": "stdout",
     "output_type": "stream",
     "text": [
      "Data has already been downloaded\n",
      "Postcodes.csv already exists in the data file, no need to download it!\n"
     ]
    }
   ],
   "source": [
    "if not data_checker('postcodes.csv'):\n",
    "    print('Downloading LSOA to postcode lookup...')\n",
    "    #This is data for the whole of the UK:\n",
    "    lookup_url = 'https://www.arcgis.com/sharing/rest/content/items/940cf89bf08e4459bdf0470bbd345424/data' \n",
    "    r = requests.get(lookup_url, allow_redirects=True)\n",
    "    \n",
    "    #first, create the path destination for the downloaded zip file\n",
    "    zip_dir = os.path.join('Data', 'postcodes.zip') \n",
    "    \n",
    "    #now create the zip file and write the content of our requests object (i.e. the zip file)\n",
    "    with open(zip_dir, 'wb') as zip_f: \n",
    "        zip_f.write(r.content)\n",
    "    print('File downloaded, now extracting data...')\n",
    "    \n",
    "    #extract the csv file from the zip archive\n",
    "    with zipfile.ZipFile(zip_dir, 'r') as zip_f: \n",
    "        zip_f.extract('PCD_OA_LSOA_MSOA_LAD_NOV19_UK_LU.csv', path = 'Data')\n",
    "        \n",
    "    #get rid of unneeded zip file\n",
    "    os.remove(zip_dir) \n",
    "    \n",
    "    #rename unnecessarily long csv name to 'postcodes'csv:\n",
    "    os.rename(os.path.join('Data', 'PCD_OA_LSOA_MSOA_LAD_NOV19_UK_LU.csv'), os.path.join('Data', 'postcodes.csv')) \n",
    "    print('Done, file is saved as data/postcodes.csv')\n",
    "else:\n",
    "    print('Postcodes.csv already exists in the data file, no need to download it!')"
   ]
  },
  {
   "cell_type": "markdown",
   "metadata": {},
   "source": [
    "## Now join English IMD data to additional location labels"
   ]
  },
  {
   "cell_type": "markdown",
   "metadata": {},
   "source": [
    "## Importing Geographical data and displaying in folium"
   ]
  },
  {
   "cell_type": "code",
   "execution_count": 47,
   "metadata": {},
   "outputs": [],
   "source": [
    "m = folium.Map(location = [55.09, -1.5], zoom_start = 5) #pretty much centres it on the UK\n",
    "#m #uncomment to view starting map\n"
   ]
  },
  {
   "cell_type": "code",
   "execution_count": 48,
   "metadata": {},
   "outputs": [
    {
     "data": {
      "text/plain": [
       "<folium.features.TopoJson at 0x203e5faf970>"
      ]
     },
     "execution_count": 48,
     "metadata": {},
     "output_type": "execute_result"
    }
   ],
   "source": [
    "url = 'https://opendata.arcgis.com/datasets/c892586698ad4d268f9288f1df20ab77_0.geojson'\n",
    "\n",
    "folium.TopoJson(json.loads(requests.get(url).text), 'objects.ana')"
   ]
  }
 ],
 "metadata": {
  "kernelspec": {
   "display_name": "Python 3",
   "language": "python",
   "name": "python3"
  },
  "language_info": {
   "codemirror_mode": {
    "name": "ipython",
    "version": 3
   },
   "file_extension": ".py",
   "mimetype": "text/x-python",
   "name": "python",
   "nbconvert_exporter": "python",
   "pygments_lexer": "ipython3",
   "version": "3.8.5"
  }
 },
 "nbformat": 4,
 "nbformat_minor": 4
}
